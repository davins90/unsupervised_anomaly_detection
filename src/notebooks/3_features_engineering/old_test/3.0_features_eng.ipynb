{
 "cells": [
  {
   "cell_type": "code",
   "execution_count": 124,
   "id": "95186737-cbd2-44ee-ad56-89f916e705d8",
   "metadata": {},
   "outputs": [],
   "source": [
    "import pandas as pd\n",
    "import numpy as np\n",
    "import matplotlib.pyplot as plt\n",
    "import plotly.express as px\n",
    "import plotly.io as pio\n",
    "\n",
    "from sklearn.model_selection import train_test_split\n",
    "from sklearn.preprocessing import MinMaxScaler\n",
    "from sklearn.pipeline import Pipeline\n",
    "from sklearn.model_selection import GridSearchCV\n",
    "from sklearn import metrics\n",
    "from sklearn.metrics import *\n",
    "from sklearn.compose import ColumnTransformer\n",
    "from sklearn.preprocessing import OneHotEncoder\n",
    "from sklearn.experimental import enable_iterative_imputer\n",
    "from sklearn.impute import IterativeImputer\n",
    "from sklearn.impute import SimpleImputer\n",
    "from sklearn.ensemble import ExtraTreesRegressor\n",
    "from catboost import Pool, CatBoostClassifier\n",
    "from sklearn.ensemble import GradientBoostingClassifier\n",
    "from sklearn.metrics import precision_score\n",
    "\n",
    "\n",
    "%matplotlib inline\n",
    "pio.renderers.default='iframe'\n",
    "\n",
    "pd.set_option(\"display.max_rows\",None)\n",
    "pd.set_option(\"display.max_columns\",None)"
   ]
  },
  {
   "cell_type": "markdown",
   "id": "4382508d-67d1-44d6-b88a-21bb0fc024a2",
   "metadata": {},
   "source": [
    "# 1.0 Data retrieval"
   ]
  },
  {
   "cell_type": "code",
   "execution_count": 154,
   "id": "6f5445bc-6bb7-46fd-8591-7e87da23fd7b",
   "metadata": {},
   "outputs": [],
   "source": [
    "df = pd.read_pickle(\"../../data_lake/output/train.pkl\")\n",
    "val = pd.read_pickle(\"../../data_lake/output/val.pkl\")"
   ]
  },
  {
   "cell_type": "markdown",
   "id": "1a613b77-4d1d-41f2-8352-7d665319aa6b",
   "metadata": {},
   "source": [
    "# 2.0 EDA"
   ]
  },
  {
   "cell_type": "code",
   "execution_count": 155,
   "id": "ef0b0954-8b34-4209-a8cc-d11f83d521fd",
   "metadata": {},
   "outputs": [],
   "source": [
    "df = df.drop(columns=['dist2','customer_id','TransactionID','id_21', 'id_22', 'id_24', 'id_25',\n",
    "       'id_26'])\n",
    "val = val.drop(columns=['dist2','customer_id','TransactionID','id_21', 'id_22', 'id_24', 'id_25',\n",
    "       'id_26'])"
   ]
  },
  {
   "cell_type": "code",
   "execution_count": 156,
   "id": "6fbffc48-16d4-434e-9472-2f6afacbd3d7",
   "metadata": {},
   "outputs": [
    {
     "data": {
      "text/plain": [
       "(16054, 33)"
      ]
     },
     "execution_count": 156,
     "metadata": {},
     "output_type": "execute_result"
    }
   ],
   "source": [
    "df.shape"
   ]
  },
  {
   "cell_type": "code",
   "execution_count": 158,
   "id": "5004f763-a06b-43bd-9170-ce242e2174af",
   "metadata": {},
   "outputs": [
    {
     "data": {
      "text/html": [
       "<div>\n",
       "<style scoped>\n",
       "    .dataframe tbody tr th:only-of-type {\n",
       "        vertical-align: middle;\n",
       "    }\n",
       "\n",
       "    .dataframe tbody tr th {\n",
       "        vertical-align: top;\n",
       "    }\n",
       "\n",
       "    .dataframe thead th {\n",
       "        text-align: right;\n",
       "    }\n",
       "</style>\n",
       "<table border=\"1\" class=\"dataframe\">\n",
       "  <thead>\n",
       "    <tr style=\"text-align: right;\">\n",
       "      <th></th>\n",
       "      <th>isFraud</th>\n",
       "      <th>TransactionAmt</th>\n",
       "      <th>ProductCD</th>\n",
       "      <th>card1</th>\n",
       "      <th>card2</th>\n",
       "      <th>card3</th>\n",
       "      <th>card4</th>\n",
       "      <th>card5</th>\n",
       "      <th>card6</th>\n",
       "      <th>addr1</th>\n",
       "      <th>addr2</th>\n",
       "      <th>P_emaildomain</th>\n",
       "      <th>R_emaildomain</th>\n",
       "      <th>M4</th>\n",
       "      <th>id_23</th>\n",
       "      <th>id_27</th>\n",
       "      <th>id_28</th>\n",
       "      <th>id_29</th>\n",
       "      <th>id_30</th>\n",
       "      <th>id_31</th>\n",
       "      <th>id_32</th>\n",
       "      <th>id_33</th>\n",
       "      <th>id_34</th>\n",
       "      <th>id_35</th>\n",
       "      <th>id_36</th>\n",
       "      <th>id_37</th>\n",
       "      <th>id_38</th>\n",
       "      <th>DeviceType</th>\n",
       "      <th>DeviceInfo</th>\n",
       "      <th>max_c</th>\n",
       "      <th>max_d</th>\n",
       "      <th>num_transactio_per_time</th>\n",
       "      <th>multi_transaction_per_time</th>\n",
       "    </tr>\n",
       "  </thead>\n",
       "  <tbody>\n",
       "    <tr>\n",
       "      <th>94525</th>\n",
       "      <td>1</td>\n",
       "      <td>125.0</td>\n",
       "      <td>R</td>\n",
       "      <td>15063</td>\n",
       "      <td>514.0</td>\n",
       "      <td>150.0</td>\n",
       "      <td>visa</td>\n",
       "      <td>226.0</td>\n",
       "      <td>credit</td>\n",
       "      <td>184.0</td>\n",
       "      <td>87.0</td>\n",
       "      <td>gmail.com</td>\n",
       "      <td>gmail.com</td>\n",
       "      <td>NaN</td>\n",
       "      <td>IP_PROXY:TRANSPARENT</td>\n",
       "      <td>Found</td>\n",
       "      <td>Found</td>\n",
       "      <td>Found</td>\n",
       "      <td>Android 7.1.1</td>\n",
       "      <td>other</td>\n",
       "      <td>32.0</td>\n",
       "      <td>855x480</td>\n",
       "      <td>match_status:2</td>\n",
       "      <td>T</td>\n",
       "      <td>F</td>\n",
       "      <td>T</td>\n",
       "      <td>F</td>\n",
       "      <td>mobile</td>\n",
       "      <td>Z835 Build/NMF26V</td>\n",
       "      <td>2.0</td>\n",
       "      <td>0.000000</td>\n",
       "      <td>1</td>\n",
       "      <td>0</td>\n",
       "    </tr>\n",
       "    <tr>\n",
       "      <th>122563</th>\n",
       "      <td>1</td>\n",
       "      <td>200.0</td>\n",
       "      <td>R</td>\n",
       "      <td>13844</td>\n",
       "      <td>583.0</td>\n",
       "      <td>150.0</td>\n",
       "      <td>visa</td>\n",
       "      <td>226.0</td>\n",
       "      <td>credit</td>\n",
       "      <td>204.0</td>\n",
       "      <td>87.0</td>\n",
       "      <td>anonymous.com</td>\n",
       "      <td>gmail.com</td>\n",
       "      <td>NaN</td>\n",
       "      <td>NaN</td>\n",
       "      <td>NaN</td>\n",
       "      <td>Found</td>\n",
       "      <td>Found</td>\n",
       "      <td>NaN</td>\n",
       "      <td>firefox 57.0</td>\n",
       "      <td>NaN</td>\n",
       "      <td>NaN</td>\n",
       "      <td>NaN</td>\n",
       "      <td>F</td>\n",
       "      <td>F</td>\n",
       "      <td>T</td>\n",
       "      <td>F</td>\n",
       "      <td>desktop</td>\n",
       "      <td>Windows</td>\n",
       "      <td>2.0</td>\n",
       "      <td>0.041666</td>\n",
       "      <td>1</td>\n",
       "      <td>0</td>\n",
       "    </tr>\n",
       "  </tbody>\n",
       "</table>\n",
       "</div>"
      ],
      "text/plain": [
       "       isFraud  TransactionAmt ProductCD  card1  card2  card3 card4  card5  \\\n",
       "94525        1           125.0         R  15063  514.0  150.0  visa  226.0   \n",
       "122563       1           200.0         R  13844  583.0  150.0  visa  226.0   \n",
       "\n",
       "         card6  addr1 addr2  P_emaildomain R_emaildomain   M4  \\\n",
       "94525   credit  184.0  87.0      gmail.com     gmail.com  NaN   \n",
       "122563  credit  204.0  87.0  anonymous.com     gmail.com  NaN   \n",
       "\n",
       "                       id_23  id_27  id_28  id_29          id_30  \\\n",
       "94525   IP_PROXY:TRANSPARENT  Found  Found  Found  Android 7.1.1   \n",
       "122563                   NaN    NaN  Found  Found            NaN   \n",
       "\n",
       "               id_31 id_32    id_33           id_34 id_35 id_36 id_37 id_38  \\\n",
       "94525          other  32.0  855x480  match_status:2     T     F     T     F   \n",
       "122563  firefox 57.0   NaN      NaN             NaN     F     F     T     F   \n",
       "\n",
       "       DeviceType         DeviceInfo  max_c     max_d  \\\n",
       "94525      mobile  Z835 Build/NMF26V    2.0  0.000000   \n",
       "122563    desktop            Windows    2.0  0.041666   \n",
       "\n",
       "        num_transactio_per_time  multi_transaction_per_time  \n",
       "94525                         1                           0  \n",
       "122563                        1                           0  "
      ]
     },
     "execution_count": 158,
     "metadata": {},
     "output_type": "execute_result"
    }
   ],
   "source": [
    "df.sample(2)"
   ]
  },
  {
   "cell_type": "code",
   "execution_count": 159,
   "id": "442a0092-49ca-4cc0-9d75-cf7efe8959b4",
   "metadata": {},
   "outputs": [
    {
     "data": {
      "text/plain": [
       "1    8027\n",
       "0    8027\n",
       "Name: isFraud, dtype: int64"
      ]
     },
     "execution_count": 159,
     "metadata": {},
     "output_type": "execute_result"
    }
   ],
   "source": [
    "df['isFraud'].value_counts()"
   ]
  },
  {
   "cell_type": "code",
   "execution_count": 178,
   "id": "a3265c9c-291e-4f17-a2ee-f5af4aa34919",
   "metadata": {},
   "outputs": [],
   "source": [
    "fr = df[df['isFraud']=='1']"
   ]
  },
  {
   "cell_type": "code",
   "execution_count": 182,
   "id": "1f4e7083-011e-43a0-9243-e98d3441939a",
   "metadata": {},
   "outputs": [
    {
     "data": {
      "text/html": [
       "<div>\n",
       "<style scoped>\n",
       "    .dataframe tbody tr th:only-of-type {\n",
       "        vertical-align: middle;\n",
       "    }\n",
       "\n",
       "    .dataframe tbody tr th {\n",
       "        vertical-align: top;\n",
       "    }\n",
       "\n",
       "    .dataframe thead th {\n",
       "        text-align: right;\n",
       "    }\n",
       "</style>\n",
       "<table border=\"1\" class=\"dataframe\">\n",
       "  <thead>\n",
       "    <tr style=\"text-align: right;\">\n",
       "      <th></th>\n",
       "      <th>isFraud</th>\n",
       "      <th>ProductCD</th>\n",
       "      <th>card1</th>\n",
       "      <th>card2</th>\n",
       "      <th>card3</th>\n",
       "      <th>card4</th>\n",
       "      <th>card5</th>\n",
       "      <th>card6</th>\n",
       "      <th>addr1</th>\n",
       "      <th>addr2</th>\n",
       "      <th>P_emaildomain</th>\n",
       "      <th>R_emaildomain</th>\n",
       "      <th>M4</th>\n",
       "      <th>id_23</th>\n",
       "      <th>id_27</th>\n",
       "      <th>id_28</th>\n",
       "      <th>id_29</th>\n",
       "      <th>id_30</th>\n",
       "      <th>id_31</th>\n",
       "      <th>id_32</th>\n",
       "      <th>id_33</th>\n",
       "      <th>id_34</th>\n",
       "      <th>id_35</th>\n",
       "      <th>id_36</th>\n",
       "      <th>id_37</th>\n",
       "      <th>id_38</th>\n",
       "      <th>DeviceType</th>\n",
       "      <th>DeviceInfo</th>\n",
       "    </tr>\n",
       "  </thead>\n",
       "  <tbody>\n",
       "    <tr>\n",
       "      <th>count</th>\n",
       "      <td>8027</td>\n",
       "      <td>8027</td>\n",
       "      <td>8027</td>\n",
       "      <td>8027</td>\n",
       "      <td>8027</td>\n",
       "      <td>8027</td>\n",
       "      <td>8027</td>\n",
       "      <td>8027</td>\n",
       "      <td>8027</td>\n",
       "      <td>8027</td>\n",
       "      <td>8027</td>\n",
       "      <td>8027</td>\n",
       "      <td>8027</td>\n",
       "      <td>8027</td>\n",
       "      <td>8027</td>\n",
       "      <td>8027</td>\n",
       "      <td>8027</td>\n",
       "      <td>8027</td>\n",
       "      <td>8027</td>\n",
       "      <td>8027</td>\n",
       "      <td>8027</td>\n",
       "      <td>8027</td>\n",
       "      <td>8027</td>\n",
       "      <td>8027</td>\n",
       "      <td>8027</td>\n",
       "      <td>8027</td>\n",
       "      <td>8027</td>\n",
       "      <td>8027</td>\n",
       "    </tr>\n",
       "    <tr>\n",
       "      <th>unique</th>\n",
       "      <td>1</td>\n",
       "      <td>4</td>\n",
       "      <td>1050</td>\n",
       "      <td>216</td>\n",
       "      <td>53</td>\n",
       "      <td>5</td>\n",
       "      <td>45</td>\n",
       "      <td>3</td>\n",
       "      <td>77</td>\n",
       "      <td>17</td>\n",
       "      <td>33</td>\n",
       "      <td>31</td>\n",
       "      <td>4</td>\n",
       "      <td>4</td>\n",
       "      <td>2</td>\n",
       "      <td>3</td>\n",
       "      <td>3</td>\n",
       "      <td>60</td>\n",
       "      <td>96</td>\n",
       "      <td>5</td>\n",
       "      <td>58</td>\n",
       "      <td>4</td>\n",
       "      <td>3</td>\n",
       "      <td>3</td>\n",
       "      <td>3</td>\n",
       "      <td>3</td>\n",
       "      <td>3</td>\n",
       "      <td>399</td>\n",
       "    </tr>\n",
       "    <tr>\n",
       "      <th>top</th>\n",
       "      <td>1</td>\n",
       "      <td>C</td>\n",
       "      <td>9633</td>\n",
       "      <td>545.0</td>\n",
       "      <td>185.0</td>\n",
       "      <td>visa</td>\n",
       "      <td>226.0</td>\n",
       "      <td>credit</td>\n",
       "      <td>nan</td>\n",
       "      <td>nan</td>\n",
       "      <td>gmail.com</td>\n",
       "      <td>gmail.com</td>\n",
       "      <td>M2</td>\n",
       "      <td>nan</td>\n",
       "      <td>nan</td>\n",
       "      <td>Found</td>\n",
       "      <td>Found</td>\n",
       "      <td>nan</td>\n",
       "      <td>chrome 63.0</td>\n",
       "      <td>nan</td>\n",
       "      <td>nan</td>\n",
       "      <td>nan</td>\n",
       "      <td>F</td>\n",
       "      <td>F</td>\n",
       "      <td>T</td>\n",
       "      <td>F</td>\n",
       "      <td>mobile</td>\n",
       "      <td>Windows</td>\n",
       "    </tr>\n",
       "    <tr>\n",
       "      <th>freq</th>\n",
       "      <td>8027</td>\n",
       "      <td>5402</td>\n",
       "      <td>503</td>\n",
       "      <td>935</td>\n",
       "      <td>4974</td>\n",
       "      <td>4949</td>\n",
       "      <td>2377</td>\n",
       "      <td>4770</td>\n",
       "      <td>5254</td>\n",
       "      <td>5254</td>\n",
       "      <td>4439</td>\n",
       "      <td>4698</td>\n",
       "      <td>4437</td>\n",
       "      <td>7727</td>\n",
       "      <td>7727</td>\n",
       "      <td>5540</td>\n",
       "      <td>5537</td>\n",
       "      <td>5572</td>\n",
       "      <td>1062</td>\n",
       "      <td>5568</td>\n",
       "      <td>5637</td>\n",
       "      <td>5541</td>\n",
       "      <td>5476</td>\n",
       "      <td>7774</td>\n",
       "      <td>6537</td>\n",
       "      <td>5123</td>\n",
       "      <td>3998</td>\n",
       "      <td>2184</td>\n",
       "    </tr>\n",
       "  </tbody>\n",
       "</table>\n",
       "</div>"
      ],
      "text/plain": [
       "       isFraud ProductCD card1  card2  card3 card4  card5   card6 addr1 addr2  \\\n",
       "count     8027      8027  8027   8027   8027  8027   8027    8027  8027  8027   \n",
       "unique       1         4  1050    216     53     5     45       3    77    17   \n",
       "top          1         C  9633  545.0  185.0  visa  226.0  credit   nan   nan   \n",
       "freq      8027      5402   503    935   4974  4949   2377    4770  5254  5254   \n",
       "\n",
       "       P_emaildomain R_emaildomain    M4 id_23 id_27  id_28  id_29 id_30  \\\n",
       "count           8027          8027  8027  8027  8027   8027   8027  8027   \n",
       "unique            33            31     4     4     2      3      3    60   \n",
       "top        gmail.com     gmail.com    M2   nan   nan  Found  Found   nan   \n",
       "freq            4439          4698  4437  7727  7727   5540   5537  5572   \n",
       "\n",
       "              id_31 id_32 id_33 id_34 id_35 id_36 id_37 id_38 DeviceType  \\\n",
       "count          8027  8027  8027  8027  8027  8027  8027  8027       8027   \n",
       "unique           96     5    58     4     3     3     3     3          3   \n",
       "top     chrome 63.0   nan   nan   nan     F     F     T     F     mobile   \n",
       "freq           1062  5568  5637  5541  5476  7774  6537  5123       3998   \n",
       "\n",
       "       DeviceInfo  \n",
       "count        8027  \n",
       "unique        399  \n",
       "top       Windows  \n",
       "freq         2184  "
      ]
     },
     "execution_count": 182,
     "metadata": {},
     "output_type": "execute_result"
    }
   ],
   "source": [
    "fr.describe(include='object')"
   ]
  },
  {
   "cell_type": "code",
   "execution_count": 183,
   "id": "1d408241-a986-4287-93ec-32eb42ed39af",
   "metadata": {},
   "outputs": [
    {
     "data": {
      "text/html": [
       "<div>\n",
       "<style scoped>\n",
       "    .dataframe tbody tr th:only-of-type {\n",
       "        vertical-align: middle;\n",
       "    }\n",
       "\n",
       "    .dataframe tbody tr th {\n",
       "        vertical-align: top;\n",
       "    }\n",
       "\n",
       "    .dataframe thead th {\n",
       "        text-align: right;\n",
       "    }\n",
       "</style>\n",
       "<table border=\"1\" class=\"dataframe\">\n",
       "  <thead>\n",
       "    <tr style=\"text-align: right;\">\n",
       "      <th></th>\n",
       "      <th>isFraud</th>\n",
       "      <th>ProductCD</th>\n",
       "      <th>card1</th>\n",
       "      <th>card2</th>\n",
       "      <th>card3</th>\n",
       "      <th>card4</th>\n",
       "      <th>card5</th>\n",
       "      <th>card6</th>\n",
       "      <th>addr1</th>\n",
       "      <th>addr2</th>\n",
       "      <th>P_emaildomain</th>\n",
       "      <th>R_emaildomain</th>\n",
       "      <th>M4</th>\n",
       "      <th>id_23</th>\n",
       "      <th>id_27</th>\n",
       "      <th>id_28</th>\n",
       "      <th>id_29</th>\n",
       "      <th>id_30</th>\n",
       "      <th>id_31</th>\n",
       "      <th>id_32</th>\n",
       "      <th>id_33</th>\n",
       "      <th>id_34</th>\n",
       "      <th>id_35</th>\n",
       "      <th>id_36</th>\n",
       "      <th>id_37</th>\n",
       "      <th>id_38</th>\n",
       "      <th>DeviceType</th>\n",
       "      <th>DeviceInfo</th>\n",
       "    </tr>\n",
       "  </thead>\n",
       "  <tbody>\n",
       "    <tr>\n",
       "      <th>count</th>\n",
       "      <td>8027</td>\n",
       "      <td>8027</td>\n",
       "      <td>8027</td>\n",
       "      <td>8027</td>\n",
       "      <td>8027</td>\n",
       "      <td>8027</td>\n",
       "      <td>8027</td>\n",
       "      <td>8027</td>\n",
       "      <td>8027</td>\n",
       "      <td>8027</td>\n",
       "      <td>8027</td>\n",
       "      <td>8027</td>\n",
       "      <td>8027</td>\n",
       "      <td>8027</td>\n",
       "      <td>8027</td>\n",
       "      <td>8027</td>\n",
       "      <td>8027</td>\n",
       "      <td>8027</td>\n",
       "      <td>8027</td>\n",
       "      <td>8027</td>\n",
       "      <td>8027</td>\n",
       "      <td>8027</td>\n",
       "      <td>8027</td>\n",
       "      <td>8027</td>\n",
       "      <td>8027</td>\n",
       "      <td>8027</td>\n",
       "      <td>8027</td>\n",
       "      <td>8027</td>\n",
       "    </tr>\n",
       "    <tr>\n",
       "      <th>unique</th>\n",
       "      <td>1</td>\n",
       "      <td>4</td>\n",
       "      <td>1969</td>\n",
       "      <td>322</td>\n",
       "      <td>55</td>\n",
       "      <td>5</td>\n",
       "      <td>56</td>\n",
       "      <td>3</td>\n",
       "      <td>105</td>\n",
       "      <td>23</td>\n",
       "      <td>58</td>\n",
       "      <td>57</td>\n",
       "      <td>4</td>\n",
       "      <td>4</td>\n",
       "      <td>2</td>\n",
       "      <td>3</td>\n",
       "      <td>3</td>\n",
       "      <td>72</td>\n",
       "      <td>97</td>\n",
       "      <td>4</td>\n",
       "      <td>94</td>\n",
       "      <td>4</td>\n",
       "      <td>3</td>\n",
       "      <td>3</td>\n",
       "      <td>3</td>\n",
       "      <td>3</td>\n",
       "      <td>3</td>\n",
       "      <td>608</td>\n",
       "    </tr>\n",
       "    <tr>\n",
       "      <th>top</th>\n",
       "      <td>0</td>\n",
       "      <td>C</td>\n",
       "      <td>15885</td>\n",
       "      <td>545.0</td>\n",
       "      <td>150.0</td>\n",
       "      <td>visa</td>\n",
       "      <td>226.0</td>\n",
       "      <td>credit</td>\n",
       "      <td>nan</td>\n",
       "      <td>87.0</td>\n",
       "      <td>gmail.com</td>\n",
       "      <td>gmail.com</td>\n",
       "      <td>nan</td>\n",
       "      <td>nan</td>\n",
       "      <td>nan</td>\n",
       "      <td>Found</td>\n",
       "      <td>Found</td>\n",
       "      <td>nan</td>\n",
       "      <td>chrome 63.0</td>\n",
       "      <td>nan</td>\n",
       "      <td>nan</td>\n",
       "      <td>match_status:2</td>\n",
       "      <td>T</td>\n",
       "      <td>F</td>\n",
       "      <td>T</td>\n",
       "      <td>F</td>\n",
       "      <td>desktop</td>\n",
       "      <td>Windows</td>\n",
       "    </tr>\n",
       "    <tr>\n",
       "      <th>freq</th>\n",
       "      <td>8027</td>\n",
       "      <td>3269</td>\n",
       "      <td>561</td>\n",
       "      <td>834</td>\n",
       "      <td>4827</td>\n",
       "      <td>4931</td>\n",
       "      <td>3036</td>\n",
       "      <td>4105</td>\n",
       "      <td>3166</td>\n",
       "      <td>4685</td>\n",
       "      <td>2861</td>\n",
       "      <td>2934</td>\n",
       "      <td>4844</td>\n",
       "      <td>7741</td>\n",
       "      <td>7741</td>\n",
       "      <td>4125</td>\n",
       "      <td>4049</td>\n",
       "      <td>3534</td>\n",
       "      <td>1288</td>\n",
       "      <td>3533</td>\n",
       "      <td>3785</td>\n",
       "      <td>3561</td>\n",
       "      <td>4508</td>\n",
       "      <td>7462</td>\n",
       "      <td>6167</td>\n",
       "      <td>4064</td>\n",
       "      <td>4818</td>\n",
       "      <td>2736</td>\n",
       "    </tr>\n",
       "  </tbody>\n",
       "</table>\n",
       "</div>"
      ],
      "text/plain": [
       "       isFraud ProductCD  card1  card2  card3 card4  card5   card6 addr1  \\\n",
       "count     8027      8027   8027   8027   8027  8027   8027    8027  8027   \n",
       "unique       1         4   1969    322     55     5     56       3   105   \n",
       "top          0         C  15885  545.0  150.0  visa  226.0  credit   nan   \n",
       "freq      8027      3269    561    834   4827  4931   3036    4105  3166   \n",
       "\n",
       "       addr2 P_emaildomain R_emaildomain    M4 id_23 id_27  id_28  id_29  \\\n",
       "count   8027          8027          8027  8027  8027  8027   8027   8027   \n",
       "unique    23            58            57     4     4     2      3      3   \n",
       "top     87.0     gmail.com     gmail.com   nan   nan   nan  Found  Found   \n",
       "freq    4685          2861          2934  4844  7741  7741   4125   4049   \n",
       "\n",
       "       id_30        id_31 id_32 id_33           id_34 id_35 id_36 id_37 id_38  \\\n",
       "count   8027         8027  8027  8027            8027  8027  8027  8027  8027   \n",
       "unique    72           97     4    94               4     3     3     3     3   \n",
       "top      nan  chrome 63.0   nan   nan  match_status:2     T     F     T     F   \n",
       "freq    3534         1288  3533  3785            3561  4508  7462  6167  4064   \n",
       "\n",
       "       DeviceType DeviceInfo  \n",
       "count        8027       8027  \n",
       "unique          3        608  \n",
       "top       desktop    Windows  \n",
       "freq         4818       2736  "
      ]
     },
     "execution_count": 183,
     "metadata": {},
     "output_type": "execute_result"
    }
   ],
   "source": [
    "df[df['isFraud']=='0'].describe(include='object')"
   ]
  },
  {
   "cell_type": "code",
   "execution_count": null,
   "id": "750b93c0-64e2-4513-8d7e-3803ffed7410",
   "metadata": {},
   "outputs": [],
   "source": []
  },
  {
   "cell_type": "code",
   "execution_count": null,
   "id": "fd3b3e6e-5d55-4465-93cf-555f8ea00507",
   "metadata": {},
   "outputs": [],
   "source": []
  },
  {
   "cell_type": "code",
   "execution_count": null,
   "id": "d2f3cf9c-d3a7-4ec6-b661-bd0581b42220",
   "metadata": {},
   "outputs": [],
   "source": []
  },
  {
   "cell_type": "code",
   "execution_count": 160,
   "id": "56cc1544-7b30-4fac-97b0-0f774c5b8e0c",
   "metadata": {},
   "outputs": [],
   "source": [
    "# for i in df:\n",
    "#     if 'id' in i:\n",
    "#         print(df[i].value_counts(dropna=False,normalize=True))"
   ]
  },
  {
   "cell_type": "code",
   "execution_count": 161,
   "id": "c2ab3763-08be-43a5-89f4-c7625db814be",
   "metadata": {},
   "outputs": [],
   "source": [
    "# df.isna().sum()"
   ]
  },
  {
   "cell_type": "code",
   "execution_count": 162,
   "id": "9694f407-9cc8-49b9-96af-afc991b04b4c",
   "metadata": {},
   "outputs": [],
   "source": [
    "# df.nunique()"
   ]
  },
  {
   "cell_type": "code",
   "execution_count": 163,
   "id": "0bd042d4-d031-4dd1-a0db-ede61eb4ccad",
   "metadata": {},
   "outputs": [],
   "source": [
    "# for i in df:\n",
    "#     if df[i].dtypes == 'object':\n",
    "#         if i != 'TransactionID':\n",
    "#             print(df[i].value_counts(dropna=False))"
   ]
  },
  {
   "cell_type": "code",
   "execution_count": 164,
   "id": "a85805d7-44c0-4638-835e-75a5aecfbe33",
   "metadata": {},
   "outputs": [],
   "source": [
    "# for i in df:\n",
    "#     if df[i].dtypes != 'object':\n",
    "#         plt.figure(i)\n",
    "#         plt.title(i)\n",
    "#         df[i].hist()"
   ]
  },
  {
   "cell_type": "code",
   "execution_count": 165,
   "id": "b8314235-b4c6-40c5-99a7-df2b6bec77e5",
   "metadata": {},
   "outputs": [],
   "source": [
    "def model_training(X_train, y_train, numerical_cols, categorical_cols,parameters):\n",
    "    \"\"\"\n",
    "    \n",
    "    \"\"\"\n",
    "    \n",
    "    ##\n",
    "    numerical_preprocessor = Pipeline(steps=[(\"imputer\", IterativeImputer(ExtraTreesRegressor(n_estimators=5,random_state=1,verbose=0),random_state=1,verbose=0,add_indicator=True)),\n",
    "                                     (\"scaler\", MinMaxScaler())])\n",
    "    categorical_preprocessor = Pipeline(steps=[(\"imputer\", SimpleImputer(strategy='constant', fill_value='missing',verbose=0,add_indicator=True)),\n",
    "                                           (\"label_enc\", OneHotEncoder(handle_unknown='ignore'))])\n",
    "    preprocessor = ColumnTransformer(transformers=[(\"numerical_preprocessor\", numerical_preprocessor, numerical_cols),\n",
    "                                               (\"categorical_preprocessor\", categorical_preprocessor, categorical_cols)])\n",
    "    pipe_model = GradientBoostingClassifier(random_state=0)\n",
    "    ##\n",
    "    model = Pipeline(steps=[('preprocessor', preprocessor),\n",
    "                        ('model', pipe_model)])\n",
    "    ##\n",
    "    model.fit(X_train,y_train)\n",
    "    model_grid = GridSearchCV(model,parameters,cv=2,scoring='precision',verbose=0,return_train_score=True).fit(X_train,y_train)\n",
    "    print('GridSearchCV results...')\n",
    "    print(\"Mean Train Scores: \\n{}\\n\".format(model_grid.cv_results_['mean_train_score']))\n",
    "    print(\"Mean CV Scores: \\n{}\\n\".format(model_grid.cv_results_['mean_test_score']))\n",
    "    print(\"Best Parameters: \\n{}\\n\".format(model_grid.best_params_))\n",
    "    \n",
    "    return model_grid"
   ]
  },
  {
   "cell_type": "code",
   "execution_count": 166,
   "id": "b43bdd87-08eb-44d5-8a7c-7ae3db04549a",
   "metadata": {},
   "outputs": [],
   "source": [
    "for i in df:\n",
    "    if df[i].dtypes == 'object':\n",
    "        df[i] = df[i].astype(str)"
   ]
  },
  {
   "cell_type": "code",
   "execution_count": 167,
   "id": "e80197d9-b70b-4885-a52e-8c9a7bee47b9",
   "metadata": {},
   "outputs": [],
   "source": [
    "X_train = df.drop(columns='isFraud')\n",
    "y_train = df['isFraud'].astype(float)"
   ]
  },
  {
   "cell_type": "code",
   "execution_count": 168,
   "id": "3b501c38-461f-43fb-8203-55cb8e5e738a",
   "metadata": {},
   "outputs": [],
   "source": [
    "numerical_cols = X_train.select_dtypes(include=['int64', 'float64']).columns\n",
    "categorical_cols = X_train.select_dtypes(include=['object', 'bool']).columns"
   ]
  },
  {
   "cell_type": "code",
   "execution_count": 169,
   "id": "2d3703d5-1b22-4618-8739-8d5137898de4",
   "metadata": {},
   "outputs": [],
   "source": [
    "parameters = {'model__max_depth':[2,4],'model__n_estimators':[250,500],'model__learning_rate':[0.5,0.05]}"
   ]
  },
  {
   "cell_type": "code",
   "execution_count": 170,
   "id": "46dcb843-4447-4907-9661-de1c9735b772",
   "metadata": {},
   "outputs": [
    {
     "name": "stdout",
     "output_type": "stream",
     "text": [
      "GridSearchCV results...\n",
      "Mean Train Scores: \n",
      "[0.896066   0.9251991  0.95896866 0.97908759 0.81948457 0.83983407\n",
      " 0.8639323  0.88040483]\n",
      "\n",
      "Mean CV Scores: \n",
      "[0.83338828 0.83939731 0.85044868 0.85201324 0.81270695 0.82375347\n",
      " 0.83228352 0.83992052]\n",
      "\n",
      "Best Parameters: \n",
      "{'model__learning_rate': 0.5, 'model__max_depth': 4, 'model__n_estimators': 500}\n",
      "\n"
     ]
    }
   ],
   "source": [
    "model = model_training(X_train,y_train,numerical_cols,categorical_cols,parameters)"
   ]
  },
  {
   "cell_type": "code",
   "execution_count": 171,
   "id": "8717367d-452a-4768-a836-1fe46968c4fc",
   "metadata": {},
   "outputs": [],
   "source": [
    "def model_evaluation(model,X_test,y_test):\n",
    "    \"\"\"\n",
    "    \n",
    "    \"\"\"\n",
    "    print('Test results...')\n",
    "    y_test_predict_grid = model.predict(X_test)    \n",
    "    print(\"Model Test Accuracy:\", metrics.precision_score(y_test, y_test_predict_grid))\n",
    "    print('--------------------------------------------------')\n",
    "    print('Model Test Confusion Matrix')\n",
    "    cm = confusion_matrix(y_test,y_test_predict_grid,normalize='pred') \n",
    "    cmd = ConfusionMatrixDisplay(cm,display_labels=['No','Yes'])\n",
    "    cmd.plot()\n",
    "    \n",
    "    ##\n",
    "    feature_importances = model.best_estimator_.named_steps['model'].feature_importances_\n",
    "    feature_names = X_test.columns\n",
    "    lista = []\n",
    "    for score, name in sorted(zip(feature_importances, feature_names), reverse=True):\n",
    "    #         print('{}: {}'.format(name, score))\n",
    "            lista.append(name)\n",
    "    print('First ten features by importances:')\n",
    "    print(lista[0:10])\n",
    "    \n",
    "    return model"
   ]
  },
  {
   "cell_type": "code",
   "execution_count": 172,
   "id": "d4e3751e-d1ea-4079-9cad-46cc2a13f8f0",
   "metadata": {},
   "outputs": [],
   "source": [
    "for i in val:\n",
    "    if val[i].dtypes == 'object':\n",
    "        val[i] = val[i].astype(str)"
   ]
  },
  {
   "cell_type": "code",
   "execution_count": 173,
   "id": "1d47cd1b-1b0e-474e-839f-5b932e61072e",
   "metadata": {},
   "outputs": [],
   "source": [
    "X_val = val.drop(columns='isFraud')\n",
    "y_val = val['isFraud'].astype(float)"
   ]
  },
  {
   "cell_type": "code",
   "execution_count": 174,
   "id": "6ef9b485-2452-43d8-b3fa-6c6dddee5db4",
   "metadata": {},
   "outputs": [
    {
     "name": "stdout",
     "output_type": "stream",
     "text": [
      "Test results...\n",
      "Model Test Accuracy: 0.3515491583313003\n",
      "--------------------------------------------------\n",
      "Model Test Confusion Matrix\n",
      "First ten features by importances:\n",
      "['ProductCD', 'TransactionAmt', 'card1', 'card6', 'addr1', 'card5', 'addr2', 'card2', 'id_23', 'card4']\n"
     ]
    },
    {
     "data": {
      "text/plain": [
       "GridSearchCV(cv=2,\n",
       "             estimator=Pipeline(steps=[('preprocessor',\n",
       "                                        ColumnTransformer(transformers=[('numerical_preprocessor',\n",
       "                                                                         Pipeline(steps=[('imputer',\n",
       "                                                                                          IterativeImputer(add_indicator=True,\n",
       "                                                                                                           estimator=ExtraTreesRegressor(n_estimators=5,\n",
       "                                                                                                                                         random_state=1),\n",
       "                                                                                                           random_state=1)),\n",
       "                                                                                         ('scaler',\n",
       "                                                                                          MinMaxScaler())]),\n",
       "                                                                         Index(['TransactionAmt', 'max_c', 'max_d', 'num_transactio_per_tim...\n",
       "       'addr1', 'addr2', 'P_emaildomain', 'R_emaildomain', 'M4', 'id_23',\n",
       "       'id_27', 'id_28', 'id_29', 'id_30', 'id_31', 'id_32', 'id_33', 'id_34',\n",
       "       'id_35', 'id_36', 'id_37', 'id_38', 'DeviceType', 'DeviceInfo'],\n",
       "      dtype='object'))])),\n",
       "                                       ('model',\n",
       "                                        GradientBoostingClassifier(random_state=0))]),\n",
       "             param_grid={'model__learning_rate': [0.5, 0.05],\n",
       "                         'model__max_depth': [2, 4],\n",
       "                         'model__n_estimators': [250, 500]},\n",
       "             return_train_score=True, scoring='precision')"
      ]
     },
     "execution_count": 174,
     "metadata": {},
     "output_type": "execute_result"
    },
    {
     "data": {
      "image/png": "[encoded data removed]",
      "text/plain": [
       "<Figure size 432x288 with 2 Axes>"
      ]
     },
     "metadata": {
      "needs_background": "light"
     },
     "output_type": "display_data"
    }
   ],
   "source": [
    "model_evaluation(model,X_val,y_val)"
   ]
  },
  {
   "cell_type": "code",
   "execution_count": 93,
   "id": "1547c798-9405-41bf-9854-4a21d7ce1e7b",
   "metadata": {},
   "outputs": [],
   "source": [
    "from sklearn.metrics import precision_recall_curve"
   ]
  },
  {
   "cell_type": "code",
   "execution_count": 75,
   "id": "c0c12a18-b90a-4600-8091-ca6c250a3732",
   "metadata": {},
   "outputs": [],
   "source": [
    "y_score = model.predict_proba(X_val)[:, 1]"
   ]
  },
  {
   "cell_type": "code",
   "execution_count": 77,
   "id": "08895449-5e63-440a-b243-e0ee3adda738",
   "metadata": {},
   "outputs": [
    {
     "data": {
      "image/png": "[encoded data removed]",
      "text/plain": [
       "<Figure size 432x288 with 1 Axes>"
      ]
     },
     "metadata": {
      "needs_background": "light"
     },
     "output_type": "display_data"
    }
   ],
   "source": [
    "#calculate precision and recall\n",
    "precision, recall, thresholds = precision_recall_curve(y_val, y_score)\n",
    "\n",
    "#create precision recall curve\n",
    "fig, ax = plt.subplots()\n",
    "ax.plot(recall, precision, color='purple')\n",
    "\n",
    "#add axis labels to plot\n",
    "ax.set_title('Precision-Recall Curve')\n",
    "ax.set_ylabel('Precision')\n",
    "ax.set_xlabel('Recall')\n",
    "\n",
    "#display plot\n",
    "plt.show()"
   ]
  },
  {
   "cell_type": "code",
   "execution_count": 78,
   "id": "2dc0670c-f9bd-4011-aa48-5dfb44786d4c",
   "metadata": {},
   "outputs": [
    {
     "data": {
      "text/plain": [
       "array([4.66471297e-04, 5.31623076e-04, 5.58418361e-04, ...,\n",
       "       9.99999945e-01, 9.99999961e-01, 9.99999986e-01])"
      ]
     },
     "execution_count": 78,
     "metadata": {},
     "output_type": "execute_result"
    }
   ],
   "source": [
    "thresholds"
   ]
  },
  {
   "cell_type": "code",
   "execution_count": 79,
   "id": "700f314c-92d7-4ecc-bd73-da524b7da28f",
   "metadata": {},
   "outputs": [
    {
     "name": "stderr",
     "output_type": "stream",
     "text": [
      "/tmp/ipykernel_775/3063018414.py:1: RuntimeWarning:\n",
      "\n",
      "invalid value encountered in true_divide\n",
      "\n"
     ]
    }
   ],
   "source": [
    "f1_scores = 2 * recall * precision / (recall + precision)\n",
    "best_f1 = np.max(f1_scores)\n",
    "best_thresh = thresholds[np.argmax(f1_scores)]\n",
    "best_predictions = (y_score > best_thresh)"
   ]
  },
  {
   "cell_type": "code",
   "execution_count": 80,
   "id": "949d67b2-177a-4f97-8ca8-9bbd6471c226",
   "metadata": {},
   "outputs": [
    {
     "data": {
      "text/plain": [
       "0.9999977906249952"
      ]
     },
     "execution_count": 80,
     "metadata": {},
     "output_type": "execute_result"
    }
   ],
   "source": [
    "best_thresh"
   ]
  },
  {
   "cell_type": "code",
   "execution_count": 81,
   "id": "09ad2bd6-78bd-417d-a2dd-5970800eb58f",
   "metadata": {},
   "outputs": [
    {
     "data": {
      "text/plain": [
       "nan"
      ]
     },
     "execution_count": 81,
     "metadata": {},
     "output_type": "execute_result"
    }
   ],
   "source": [
    "best_f1"
   ]
  },
  {
   "cell_type": "code",
   "execution_count": null,
   "id": "554d2c4c-6fe8-41bc-9d4f-92fdcb27ac0a",
   "metadata": {},
   "outputs": [],
   "source": []
  }
 ],
 "metadata": {
  "kernelspec": {
   "display_name": "dev",
   "language": "python",
   "name": "python3"
  },
  "language_info": {
   "codemirror_mode": {
    "name": "ipython",
    "version": 3
   },
   "file_extension": ".py",
   "mimetype": "text/x-python",
   "name": "python",
   "nbconvert_exporter": "python",
   "pygments_lexer": "ipython3",
   "version": "3.9.7"
  }
 },
 "nbformat": 4,
 "nbformat_minor": 5
}
