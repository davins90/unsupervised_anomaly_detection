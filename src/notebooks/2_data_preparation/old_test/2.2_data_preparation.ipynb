{
 "cells": [
  {
   "cell_type": "code",
   "execution_count": 64,
   "id": "a2a7c19a-2c7e-4e79-abc4-2a999ada3ad0",
   "metadata": {},
   "outputs": [],
   "source": [
    "# pip install catboost"
   ]
  },
  {
   "cell_type": "code",
   "execution_count": 63,
   "id": "a93b9dda-08b8-4923-ba37-bc8a56cf6bf6",
   "metadata": {},
   "outputs": [],
   "source": [
    "import pandas as pd\n",
    "import numpy as np\n",
    "import matplotlib.pyplot as plt\n",
    "import plotly.express as px\n",
    "import plotly.io as pio\n",
    "\n",
    "from sklearn.model_selection import train_test_split\n",
    "from catboost import Pool, CatBoostClassifier\n",
    "from sklearn.metrics import roc_auc_score\n",
    "\n",
    "%matplotlib inline\n",
    "pio.renderers.default='iframe'\n",
    "\n",
    "pd.set_option(\"display.max_rows\",None)\n",
    "pd.set_option(\"display.max_columns\",None)"
   ]
  },
  {
   "cell_type": "markdown",
   "id": "6ffc4719-4963-48dd-9c66-f358f1b235c9",
   "metadata": {},
   "source": [
    "# 1.0 Data retrieval"
   ]
  },
  {
   "cell_type": "code",
   "execution_count": 2,
   "id": "fa3d5000-6fe2-4547-9f5a-aa87756b195d",
   "metadata": {},
   "outputs": [],
   "source": [
    "df = pd.read_pickle(\"../../data_lake/output/df_under.pkl\")"
   ]
  },
  {
   "cell_type": "code",
   "execution_count": 3,
   "id": "b4f0c397-7640-4712-8682-25e719842337",
   "metadata": {},
   "outputs": [
    {
     "data": {
      "text/html": [
       "<div>\n",
       "<style scoped>\n",
       "    .dataframe tbody tr th:only-of-type {\n",
       "        vertical-align: middle;\n",
       "    }\n",
       "\n",
       "    .dataframe tbody tr th {\n",
       "        vertical-align: top;\n",
       "    }\n",
       "\n",
       "    .dataframe thead th {\n",
       "        text-align: right;\n",
       "    }\n",
       "</style>\n",
       "<table border=\"1\" class=\"dataframe\">\n",
       "  <thead>\n",
       "    <tr style=\"text-align: right;\">\n",
       "      <th></th>\n",
       "      <th>TransactionID</th>\n",
       "      <th>isFraud</th>\n",
       "      <th>TransactionAmt</th>\n",
       "      <th>ProductCD</th>\n",
       "      <th>card1</th>\n",
       "      <th>card2</th>\n",
       "      <th>card3</th>\n",
       "      <th>card4</th>\n",
       "      <th>card5</th>\n",
       "      <th>card6</th>\n",
       "      <th>addr1</th>\n",
       "      <th>addr2</th>\n",
       "      <th>dist2</th>\n",
       "      <th>P_emaildomain</th>\n",
       "      <th>R_emaildomain</th>\n",
       "      <th>M4</th>\n",
       "      <th>id_21</th>\n",
       "      <th>id_22</th>\n",
       "      <th>id_23</th>\n",
       "      <th>id_24</th>\n",
       "      <th>id_25</th>\n",
       "      <th>id_26</th>\n",
       "      <th>id_27</th>\n",
       "      <th>id_28</th>\n",
       "      <th>id_29</th>\n",
       "      <th>id_30</th>\n",
       "      <th>id_31</th>\n",
       "      <th>id_32</th>\n",
       "      <th>id_33</th>\n",
       "      <th>id_34</th>\n",
       "      <th>id_35</th>\n",
       "      <th>id_36</th>\n",
       "      <th>id_37</th>\n",
       "      <th>id_38</th>\n",
       "      <th>DeviceType</th>\n",
       "      <th>DeviceInfo</th>\n",
       "      <th>max_c</th>\n",
       "      <th>max_d</th>\n",
       "      <th>customer_id</th>\n",
       "      <th>num_transactio_per_time</th>\n",
       "      <th>multi_transaction_per_time</th>\n",
       "    </tr>\n",
       "  </thead>\n",
       "  <tbody>\n",
       "    <tr>\n",
       "      <th>108819</th>\n",
       "      <td>3395213</td>\n",
       "      <td>0</td>\n",
       "      <td>15.709</td>\n",
       "      <td>C</td>\n",
       "      <td>17255</td>\n",
       "      <td>555.0</td>\n",
       "      <td>117.0</td>\n",
       "      <td>mastercard</td>\n",
       "      <td>195.0</td>\n",
       "      <td>credit</td>\n",
       "      <td>NaN</td>\n",
       "      <td>NaN</td>\n",
       "      <td>2013.0</td>\n",
       "      <td>anonymous.com</td>\n",
       "      <td>anonymous.com</td>\n",
       "      <td>M2</td>\n",
       "      <td>NaN</td>\n",
       "      <td>NaN</td>\n",
       "      <td>NaN</td>\n",
       "      <td>NaN</td>\n",
       "      <td>NaN</td>\n",
       "      <td>NaN</td>\n",
       "      <td>NaN</td>\n",
       "      <td>Found</td>\n",
       "      <td>Found</td>\n",
       "      <td>NaN</td>\n",
       "      <td>chrome 65.0</td>\n",
       "      <td>NaN</td>\n",
       "      <td>NaN</td>\n",
       "      <td>NaN</td>\n",
       "      <td>F</td>\n",
       "      <td>F</td>\n",
       "      <td>T</td>\n",
       "      <td>F</td>\n",
       "      <td>desktop</td>\n",
       "      <td>Windows</td>\n",
       "      <td>28.0</td>\n",
       "      <td>569.000</td>\n",
       "      <td>19572</td>\n",
       "      <td>1</td>\n",
       "      <td>0</td>\n",
       "    </tr>\n",
       "    <tr>\n",
       "      <th>33308</th>\n",
       "      <td>3072050</td>\n",
       "      <td>0</td>\n",
       "      <td>300.000</td>\n",
       "      <td>R</td>\n",
       "      <td>5957</td>\n",
       "      <td>520.0</td>\n",
       "      <td>150.0</td>\n",
       "      <td>american express</td>\n",
       "      <td>190.0</td>\n",
       "      <td>credit</td>\n",
       "      <td>264.0</td>\n",
       "      <td>87.0</td>\n",
       "      <td>NaN</td>\n",
       "      <td>anonymous.com</td>\n",
       "      <td>anonymous.com</td>\n",
       "      <td>NaN</td>\n",
       "      <td>NaN</td>\n",
       "      <td>NaN</td>\n",
       "      <td>NaN</td>\n",
       "      <td>NaN</td>\n",
       "      <td>NaN</td>\n",
       "      <td>NaN</td>\n",
       "      <td>NaN</td>\n",
       "      <td>Found</td>\n",
       "      <td>Found</td>\n",
       "      <td>Windows 10</td>\n",
       "      <td>chrome 63.0</td>\n",
       "      <td>24.0</td>\n",
       "      <td>1920x1080</td>\n",
       "      <td>match_status:2</td>\n",
       "      <td>T</td>\n",
       "      <td>F</td>\n",
       "      <td>T</td>\n",
       "      <td>F</td>\n",
       "      <td>desktop</td>\n",
       "      <td>Windows</td>\n",
       "      <td>1.0</td>\n",
       "      <td>177.875</td>\n",
       "      <td>7567</td>\n",
       "      <td>1</td>\n",
       "      <td>0</td>\n",
       "    </tr>\n",
       "  </tbody>\n",
       "</table>\n",
       "</div>"
      ],
      "text/plain": [
       "       TransactionID isFraud  TransactionAmt ProductCD  card1  card2  card3  \\\n",
       "108819       3395213       0          15.709         C  17255  555.0  117.0   \n",
       "33308        3072050       0         300.000         R   5957  520.0  150.0   \n",
       "\n",
       "                   card4  card5   card6  addr1 addr2   dist2  P_emaildomain  \\\n",
       "108819        mastercard  195.0  credit    NaN   NaN  2013.0  anonymous.com   \n",
       "33308   american express  190.0  credit  264.0  87.0     NaN  anonymous.com   \n",
       "\n",
       "        R_emaildomain   M4 id_21 id_22 id_23 id_24 id_25 id_26 id_27  id_28  \\\n",
       "108819  anonymous.com   M2   NaN   NaN   NaN   NaN   NaN   NaN   NaN  Found   \n",
       "33308   anonymous.com  NaN   NaN   NaN   NaN   NaN   NaN   NaN   NaN  Found   \n",
       "\n",
       "        id_29       id_30        id_31 id_32      id_33           id_34 id_35  \\\n",
       "108819  Found         NaN  chrome 65.0   NaN        NaN             NaN     F   \n",
       "33308   Found  Windows 10  chrome 63.0  24.0  1920x1080  match_status:2     T   \n",
       "\n",
       "       id_36 id_37 id_38 DeviceType DeviceInfo  max_c    max_d  customer_id  \\\n",
       "108819     F     T     F    desktop    Windows   28.0  569.000        19572   \n",
       "33308      F     T     F    desktop    Windows    1.0  177.875         7567   \n",
       "\n",
       "        num_transactio_per_time  multi_transaction_per_time  \n",
       "108819                        1                           0  \n",
       "33308                         1                           0  "
      ]
     },
     "execution_count": 3,
     "metadata": {},
     "output_type": "execute_result"
    }
   ],
   "source": [
    "df.sample(2)"
   ]
  },
  {
   "cell_type": "code",
   "execution_count": 4,
   "id": "6fa16087-b9c2-4767-9022-352777177d07",
   "metadata": {},
   "outputs": [
    {
     "data": {
      "text/plain": [
       "(144233, 41)"
      ]
     },
     "execution_count": 4,
     "metadata": {},
     "output_type": "execute_result"
    }
   ],
   "source": [
    "df.shape"
   ]
  },
  {
   "cell_type": "markdown",
   "id": "633ac104-a123-4383-837b-0957b4e073aa",
   "metadata": {},
   "source": [
    "# 2.0 Data Partitioning"
   ]
  },
  {
   "cell_type": "code",
   "execution_count": 5,
   "id": "c5bbd950-24f0-4e7d-98ab-6d8090af2b20",
   "metadata": {},
   "outputs": [
    {
     "data": {
      "text/plain": [
       "0    132915\n",
       "1     11318\n",
       "Name: isFraud, dtype: int64"
      ]
     },
     "execution_count": 5,
     "metadata": {},
     "output_type": "execute_result"
    }
   ],
   "source": [
    "df['isFraud'].value_counts()"
   ]
  },
  {
   "cell_type": "markdown",
   "id": "6b6acfae-8986-48b0-9ad8-7c6c899a8a1f",
   "metadata": {},
   "source": [
    "## 2.1 Train, validation, test split"
   ]
  },
  {
   "cell_type": "code",
   "execution_count": 21,
   "id": "31f08548-4c99-4317-a114-e80b05415288",
   "metadata": {},
   "outputs": [],
   "source": [
    "train, val, test = np.split(df.sample(frac=1,random_state=2), [int(.7*len(df)), int(.85*len(df))])"
   ]
  },
  {
   "cell_type": "code",
   "execution_count": 22,
   "id": "a484082b-ae61-42a6-ab2b-2a65751ae80e",
   "metadata": {},
   "outputs": [
    {
     "data": {
      "text/plain": [
       "(100963, 41)"
      ]
     },
     "execution_count": 22,
     "metadata": {},
     "output_type": "execute_result"
    }
   ],
   "source": [
    "train.shape"
   ]
  },
  {
   "cell_type": "code",
   "execution_count": 23,
   "id": "8cfe6996-e314-4636-9835-e86aee4805b8",
   "metadata": {},
   "outputs": [
    {
     "data": {
      "text/plain": [
       "0    0.920496\n",
       "1    0.079504\n",
       "Name: isFraud, dtype: float64"
      ]
     },
     "execution_count": 23,
     "metadata": {},
     "output_type": "execute_result"
    }
   ],
   "source": [
    "train.isFraud.value_counts(normalize=True)"
   ]
  },
  {
   "cell_type": "code",
   "execution_count": 24,
   "id": "a187e729-4007-41f3-a807-0969c403ed03",
   "metadata": {},
   "outputs": [
    {
     "data": {
      "text/plain": [
       "0    0.923319\n",
       "1    0.076681\n",
       "Name: isFraud, dtype: float64"
      ]
     },
     "execution_count": 24,
     "metadata": {},
     "output_type": "execute_result"
    }
   ],
   "source": [
    "val.isFraud.value_counts(normalize=True)"
   ]
  },
  {
   "cell_type": "code",
   "execution_count": 25,
   "id": "5211fa39-49e6-4550-8ca4-79857ab8231d",
   "metadata": {},
   "outputs": [
    {
     "data": {
      "text/plain": [
       "0    0.924567\n",
       "1    0.075433\n",
       "Name: isFraud, dtype: float64"
      ]
     },
     "execution_count": 25,
     "metadata": {},
     "output_type": "execute_result"
    }
   ],
   "source": [
    "test.isFraud.value_counts(normalize=True)"
   ]
  },
  {
   "cell_type": "markdown",
   "id": "e6952e1a-9868-4773-9a0f-5068251b66a5",
   "metadata": {},
   "source": [
    "## 2.2 Adversarial validation between val and test set"
   ]
  },
  {
   "cell_type": "code",
   "execution_count": 51,
   "id": "e164dbc7-1f48-441c-ae47-ae7f21dac30c",
   "metadata": {},
   "outputs": [],
   "source": [
    "aval = val.copy()\n",
    "atest = test.copy()"
   ]
  },
  {
   "cell_type": "code",
   "execution_count": 52,
   "id": "5db96c0f-7b49-4aeb-846b-07c13678ada0",
   "metadata": {},
   "outputs": [],
   "source": [
    "aval['y'] = 1.0\n",
    "atest['y'] = 0.0"
   ]
  },
  {
   "cell_type": "code",
   "execution_count": 53,
   "id": "10d7c9a7-ba4f-4c96-b657-264e78395a30",
   "metadata": {},
   "outputs": [],
   "source": [
    "ad = aval.append(atest).sample(frac=1,random_state=2)"
   ]
  },
  {
   "cell_type": "code",
   "execution_count": 54,
   "id": "26fc8c31-df3b-456a-ae5a-c83dcc6c1e7b",
   "metadata": {},
   "outputs": [],
   "source": [
    "c_drop = ['TransactionID','customer_id']"
   ]
  },
  {
   "cell_type": "code",
   "execution_count": 55,
   "id": "7af67e28-6191-44c4-8d8e-6421c2434d3d",
   "metadata": {},
   "outputs": [],
   "source": [
    "ad = ad.drop(columns=c_drop)"
   ]
  },
  {
   "cell_type": "code",
   "execution_count": 59,
   "id": "90bf9d54-b81b-413c-b8ea-a55bf84946ad",
   "metadata": {},
   "outputs": [],
   "source": [
    "for i in ad:\n",
    "    if ad[i].dtypes != 'object':\n",
    "        ad[i] = ad[i].astype(float)\n",
    "        ad[i] = ad[i].fillna(ad[i].median())\n",
    "    else:\n",
    "        ad[i] = ad[i].fillna('missing')\n",
    "        ad[i] = ad[i].astype(str)"
   ]
  },
  {
   "cell_type": "code",
   "execution_count": 66,
   "id": "44a59979-9899-4d3c-8504-018afeeabccb",
   "metadata": {},
   "outputs": [],
   "source": [
    "y = ad['y'].values\n",
    "X = ad.drop(columns=['y']).values"
   ]
  },
  {
   "cell_type": "code",
   "execution_count": 68,
   "id": "6773e023-cf09-4e9f-ad65-ca18de555d32",
   "metadata": {},
   "outputs": [],
   "source": [
    "categorical_features_indices = np.where(ad.dtypes != np.float64)[0]"
   ]
  },
  {
   "cell_type": "code",
   "execution_count": 69,
   "id": "f8b46b68-1466-4413-8189-e4aa401d2826",
   "metadata": {},
   "outputs": [],
   "source": [
    "adv_X_train, adv_X_test, adv_y_train, adv_y_test = train_test_split(X, y , test_size = 0.30 , random_state = 2)"
   ]
  },
  {
   "cell_type": "code",
   "execution_count": 70,
   "id": "c579ba48-a171-4a98-9f2e-7b055d88fa81",
   "metadata": {},
   "outputs": [],
   "source": [
    "train_data = Pool(data=adv_X_train,label=adv_y_train,cat_features=categorical_features_indices)\n",
    "test_data = Pool(data=adv_X_test,label=adv_y_test,cat_features=categorical_features_indices)"
   ]
  },
  {
   "cell_type": "code",
   "execution_count": 71,
   "id": "66d07425-478e-4807-9300-98eb409e1c69",
   "metadata": {},
   "outputs": [],
   "source": [
    "params = {'iterations': 1000,'eval_metric': 'AUC','od_type': 'Iter','od_wait': 50}\n",
    "model = CatBoostClassifier(**params)"
   ]
  },
  {
   "cell_type": "code",
   "execution_count": 75,
   "id": "8cb76ae4-cfe1-41d8-a1d4-0cc800b022e3",
   "metadata": {},
   "outputs": [],
   "source": [
    "_ = model.fit(train_data, eval_set=test_data, plot=False, verbose=False)"
   ]
  },
  {
   "cell_type": "code",
   "execution_count": 76,
   "id": "fd5bcf5f-15dc-42b0-87a3-5265730a7972",
   "metadata": {},
   "outputs": [],
   "source": [
    "def auc_score(y_trues, y_preds):\n",
    "    for i, y_pred in enumerate(y_preds):\n",
    "        y_true = y_trues[i]\n",
    "        auc = roc_auc_score(y_true, y_pred)\n",
    "    return auc"
   ]
  },
  {
   "cell_type": "code",
   "execution_count": 77,
   "id": "16a1f16a-3eb2-418a-93a8-2e9f6d090aec",
   "metadata": {},
   "outputs": [],
   "source": [
    "auc = auc_score([test_data.get_label()],[model.predict_proba(test_data)[:,1]])"
   ]
  },
  {
   "cell_type": "code",
   "execution_count": 78,
   "id": "bf949fcd-5b5b-4e5c-befc-a5ac5d8e435f",
   "metadata": {},
   "outputs": [
    {
     "data": {
      "text/plain": [
       "0.5046975542178611"
      ]
     },
     "execution_count": 78,
     "metadata": {},
     "output_type": "execute_result"
    }
   ],
   "source": [
    "auc"
   ]
  },
  {
   "cell_type": "markdown",
   "id": "85eceab3-a393-4ade-b1cc-7c38b5b2e5ca",
   "metadata": {},
   "source": [
    "No distribution shift!"
   ]
  },
  {
   "cell_type": "markdown",
   "id": "4e64c760-4656-44d9-a4c4-172186d6a86e",
   "metadata": {},
   "source": [
    "## 2.3 Class imbalance"
   ]
  },
  {
   "cell_type": "code",
   "execution_count": 94,
   "id": "7e1cc3d1-5ab4-44a7-821d-55dca158b9f6",
   "metadata": {},
   "outputs": [
    {
     "data": {
      "text/plain": [
       "(100963, 41)"
      ]
     },
     "execution_count": 94,
     "metadata": {},
     "output_type": "execute_result"
    }
   ],
   "source": [
    "train.shape"
   ]
  },
  {
   "cell_type": "code",
   "execution_count": 95,
   "id": "325ffbb4-74dc-4bd6-af07-a52eab4e09a0",
   "metadata": {},
   "outputs": [
    {
     "data": {
      "text/plain": [
       "0    92936\n",
       "1     8027\n",
       "Name: isFraud, dtype: int64"
      ]
     },
     "execution_count": 95,
     "metadata": {},
     "output_type": "execute_result"
    }
   ],
   "source": [
    "train['isFraud'].value_counts(normalize=False)"
   ]
  },
  {
   "cell_type": "code",
   "execution_count": 96,
   "id": "2fc9825b-803d-4217-aae0-12c4bb0c78ca",
   "metadata": {},
   "outputs": [],
   "source": [
    "df_under = train[train['isFraud']==train['isFraud'].value_counts(normalize=False).index[1]]\n",
    "df_over = train[train['isFraud']==train['isFraud'].value_counts(normalize=False).index[0]]"
   ]
  },
  {
   "cell_type": "code",
   "execution_count": 97,
   "id": "ab9b1713-3997-48c7-b381-f53a9fdfae32",
   "metadata": {},
   "outputs": [],
   "source": [
    "df_over = df_over.sample(frac=df_under.shape[0]/df_over.shape[0],random_state=2)"
   ]
  },
  {
   "cell_type": "code",
   "execution_count": 98,
   "id": "a40ec9ee-a9bb-4bd7-85f4-e5015457606d",
   "metadata": {},
   "outputs": [],
   "source": [
    "final_train = df_over.append(df_under).sample(frac=1,random_state=2)"
   ]
  },
  {
   "cell_type": "code",
   "execution_count": 99,
   "id": "f841adeb-1e43-49d0-9742-5eba1684b117",
   "metadata": {},
   "outputs": [
    {
     "data": {
      "text/plain": [
       "1    8027\n",
       "0    8027\n",
       "Name: isFraud, dtype: int64"
      ]
     },
     "execution_count": 99,
     "metadata": {},
     "output_type": "execute_result"
    }
   ],
   "source": [
    "final_train['isFraud'].value_counts(normalize=False)"
   ]
  },
  {
   "cell_type": "markdown",
   "id": "65b3c440-97a8-4a0e-a5e3-2f877eab2ae4",
   "metadata": {},
   "source": [
    "# 3.0 Output"
   ]
  },
  {
   "cell_type": "code",
   "execution_count": 100,
   "id": "d4a50399-247e-47b7-acdc-40f9108cf328",
   "metadata": {},
   "outputs": [],
   "source": [
    "final_train.to_pickle('../../data_lake/output/train.pkl')\n",
    "val.to_pickle('../../data_lake/output/val.pkl')\n",
    "test.to_pickle('../../data_lake/output/test.pkl')"
   ]
  },
  {
   "cell_type": "code",
   "execution_count": null,
   "id": "a3bd8f12-2a9b-471a-a61a-9f588201d8b4",
   "metadata": {},
   "outputs": [],
   "source": []
  }
 ],
 "metadata": {
  "kernelspec": {
   "display_name": "dev",
   "language": "python",
   "name": "python3"
  },
  "language_info": {
   "codemirror_mode": {
    "name": "ipython",
    "version": 3
   },
   "file_extension": ".py",
   "mimetype": "text/x-python",
   "name": "python",
   "nbconvert_exporter": "python",
   "pygments_lexer": "ipython3",
   "version": "3.9.7"
  }
 },
 "nbformat": 4,
 "nbformat_minor": 5
}
