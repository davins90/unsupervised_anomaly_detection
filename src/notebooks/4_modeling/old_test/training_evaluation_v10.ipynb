{
 "cells": [
  {
   "cell_type": "markdown",
   "id": "78b9ab1b-17b0-45a4-96ef-785cbeb8355f",
   "metadata": {},
   "source": [
    "error analysis + log"
   ]
  },
  {
   "cell_type": "code",
   "execution_count": 1,
   "id": "6d57c904-bd1c-47ef-b5d7-46d730fc9ee9",
   "metadata": {},
   "outputs": [],
   "source": [
    "import sys\n",
    "sys.path.append('../../')"
   ]
  },
  {
   "cell_type": "code",
   "execution_count": 2,
   "id": "4749bf27-a893-49c2-80c1-78b7601f0e16",
   "metadata": {},
   "outputs": [],
   "source": [
    "import pandas as pd\n",
    "import numpy as np\n",
    "import pickle\n",
    "import matplotlib.pyplot as plt\n",
    "\n",
    "from modules import machine_learning_utils as mlu\n",
    "\n",
    "pd.set_option(\"display.max_rows\",None)\n",
    "pd.set_option(\"display.max_columns\",None)"
   ]
  },
  {
   "cell_type": "markdown",
   "id": "3f4f1e2c-06fe-46f3-8f2f-f8f25c143da0",
   "metadata": {},
   "source": [
    "# 1.0 Data retrieval"
   ]
  },
  {
   "cell_type": "code",
   "execution_count": 3,
   "id": "ec6dcbae-669d-425b-8324-e7bb0ba0b538",
   "metadata": {},
   "outputs": [],
   "source": [
    "df = pd.read_pickle(\"../../data_lake/output/train_eng.pkl\")\n",
    "val = pd.read_pickle(\"../../data_lake/output/val_eng.pkl\")"
   ]
  },
  {
   "cell_type": "code",
   "execution_count": 4,
   "id": "19fd4f10-b626-4441-b925-b94345a9ba54",
   "metadata": {},
   "outputs": [],
   "source": [
    "# df = df.drop(columns=['addr1', 'addr2','id_21', 'id_22', 'id_23', 'id_24', 'id_25',\n",
    "#        'id_26', 'id_27', 'id_28', 'id_29','id_35', 'id_36', 'id_37', 'id_38','id_34','M4','id_32','R_emaildomain','id_30','id_33','num_transaction_per_time'])"
   ]
  },
  {
   "cell_type": "code",
   "execution_count": 5,
   "id": "65b20810-ad8f-40bf-bb53-8c35aa71f0e3",
   "metadata": {},
   "outputs": [],
   "source": [
    "df = df.drop(columns=['addr1', 'addr2','id_21', 'id_22', 'id_23', 'id_24', 'id_25',\n",
    "       'id_26', 'id_27', 'id_28', 'id_29','id_35', 'id_36', 'id_37', 'id_38','id_34','id_32','M4'])"
   ]
  },
  {
   "cell_type": "code",
   "execution_count": 6,
   "id": "1d66b553-32f2-4648-a272-0a192ae084ee",
   "metadata": {},
   "outputs": [],
   "source": [
    "val = val.drop(columns=['addr1', 'addr2','id_21', 'id_22', 'id_23', 'id_24', 'id_25',\n",
    "       'id_26', 'id_27', 'id_28', 'id_29','id_35', 'id_36', 'id_37', 'id_38','id_34','id_32','M4'])"
   ]
  },
  {
   "cell_type": "markdown",
   "id": "b94ae274-6ebb-47da-9b3f-1bf8777ff26a",
   "metadata": {},
   "source": [
    "# 2.0 Training baseline"
   ]
  },
  {
   "cell_type": "code",
   "execution_count": 7,
   "id": "f42f73a6-a617-4af8-ab65-42eb11cb2aa6",
   "metadata": {},
   "outputs": [],
   "source": [
    "for i in df:\n",
    "    if df[i].dtypes == 'object':\n",
    "        df[i] = df[i].astype(str)"
   ]
  },
  {
   "cell_type": "code",
   "execution_count": 8,
   "id": "447dd015-4ec9-424b-a67a-5467bea048fa",
   "metadata": {},
   "outputs": [],
   "source": [
    "X_train = df.drop(columns='isFraud')\n",
    "y_train = df['isFraud'].astype(float)"
   ]
  },
  {
   "cell_type": "code",
   "execution_count": 9,
   "id": "8e2abe67-a034-4489-ab56-95d352c1ba5c",
   "metadata": {},
   "outputs": [],
   "source": [
    "numerical_cols = X_train.select_dtypes(include=['int64', 'float64']).columns\n",
    "categorical_cols = X_train.select_dtypes(include=['object', 'bool']).columns"
   ]
  },
  {
   "cell_type": "code",
   "execution_count": 10,
   "id": "896ff822-606b-4176-839d-0d0cb9ffc8a2",
   "metadata": {},
   "outputs": [],
   "source": [
    "# parameters = {'model__max_depth':[3,6,10],\n",
    "#               'model__n_estimators':[100,400,800],\n",
    "#               'model__learning_rate':[0.05,0.01,0.1],\n",
    "#               'model__min_samples_leaf':[1,3],\n",
    "#               'model__min_samples_split':[2,4,6]}"
   ]
  },
  {
   "cell_type": "code",
   "execution_count": 11,
   "id": "7278de08-4423-4914-a928-9255f0518eea",
   "metadata": {},
   "outputs": [],
   "source": [
    "# {'model__learning_rate': 0.5, 'model__max_depth': 6, 'model__min_samples_leaf': 3, 'model__n_estimators': 600}"
   ]
  },
  {
   "cell_type": "code",
   "execution_count": 12,
   "id": "2343117c-6d3d-4e71-ac9a-f618b3129445",
   "metadata": {},
   "outputs": [],
   "source": [
    "parameters = {'model__max_depth':[6,10],'model__n_estimators':[500,1000],'model__learning_rate':[0.05,0.1],'model__min_samples_leaf':[3,5]}"
   ]
  },
  {
   "cell_type": "code",
   "execution_count": 13,
   "id": "9d223653-db46-491e-8480-ff2f6aa40f5c",
   "metadata": {},
   "outputs": [
    {
     "name": "stdout",
     "output_type": "stream",
     "text": [
      "GridSearchCV results...\n",
      "Mean Train Scores: \n",
      "[0.89439805 0.90864148 0.89327687 0.90914007 0.95199556 0.95527629\n",
      " 0.95012673 0.95178786 0.91399878 0.91835924 0.91412288 0.91503643\n",
      " 0.95726892 0.95726892 0.95515134 0.95515134]\n",
      "\n",
      "Mean CV Scores: \n",
      "[0.84589493 0.84963228 0.84527242 0.85150068 0.85623535 0.85735643\n",
      " 0.8563593  0.85673299 0.852498   0.8542419  0.85062898 0.85037979\n",
      " 0.858478   0.858478   0.85660855 0.85660855]\n",
      "\n",
      "Best Parameters: \n",
      "{'model__learning_rate': 0.1, 'model__max_depth': 10, 'model__min_samples_leaf': 3, 'model__n_estimators': 500}\n",
      "\n"
     ]
    }
   ],
   "source": [
    "model = mlu.model_training(X_train,y_train,numerical_cols,categorical_cols,parameters)"
   ]
  },
  {
   "cell_type": "markdown",
   "id": "8979506f-bf78-45a8-aeaa-565ec78b619c",
   "metadata": {},
   "source": [
    "# 3.0 Evaluation baseline"
   ]
  },
  {
   "cell_type": "code",
   "execution_count": 14,
   "id": "0436df8f-e20e-4221-a5e5-fd25a99a627f",
   "metadata": {
    "tags": []
   },
   "outputs": [],
   "source": [
    "for i in val:\n",
    "    if val[i].dtypes == 'object':\n",
    "        val[i] = val[i].astype(str)"
   ]
  },
  {
   "cell_type": "code",
   "execution_count": 15,
   "id": "6869f637-86f7-453e-8f2e-1bd85a583e80",
   "metadata": {},
   "outputs": [],
   "source": [
    "X_val = val.drop(columns='isFraud')\n",
    "y_val = val['isFraud'].astype(float)"
   ]
  },
  {
   "cell_type": "code",
   "execution_count": 16,
   "id": "480731d1-3722-4bb7-878a-88ba9ae3c562",
   "metadata": {},
   "outputs": [],
   "source": [
    "m = mlu.model_calibration(model,X_val,y_val)"
   ]
  },
  {
   "cell_type": "code",
   "execution_count": 17,
   "id": "cc84f329-c349-4691-b36c-a47f465dbd93",
   "metadata": {},
   "outputs": [
    {
     "name": "stdout",
     "output_type": "stream",
     "text": [
      "Test results...\n",
      "Model Test Recall: 0.8577456298975287\n",
      "--------------------------------------------------\n",
      "Model Test Confusion Matrix\n",
      "Classification report : \n",
      "               precision    recall  f1-score   support\n",
      "\n",
      "         0.0       0.99      0.87      0.93     19976\n",
      "         1.0       0.36      0.86      0.51      1659\n",
      "\n",
      "    accuracy                           0.87     21635\n",
      "   macro avg       0.67      0.87      0.72     21635\n",
      "weighted avg       0.94      0.87      0.89     21635\n",
      "\n",
      "ProductCD: 0.28902669240131507\n",
      "TransactionAmt: 0.1098182484395448\n",
      "card1: 0.10306876320486043\n",
      "card6: 0.021638142209706158\n",
      "card5: 0.009133845857732931\n",
      "P_emaildomain: 0.004915915723910176\n",
      "R_emaildomain: 0.0030186437490418664\n",
      "card2: 0.00041521363411135934\n",
      "card3: 0.00030282365283062205\n",
      "card4: 5.288628436604729e-05\n",
      "max_c: 2.2093803520252075e-05\n",
      "browser_enc: 2.2025782618210943e-05\n",
      "max_d: 7.828890241533356e-06\n",
      "num_transaction_per_time: 0.0\n",
      "multi_transaction_per_time: 0.0\n",
      "id_33: 0.0\n",
      "id_30: 0.0\n",
      "device_info_v4: 0.0\n",
      "DeviceType: 0.0\n"
     ]
    },
    {
     "data": {
      "text/plain": [
       "Pipeline(steps=[('preprocessor',\n",
       "                 ColumnTransformer(transformers=[('numerical_preprocessor',\n",
       "                                                  Pipeline(steps=[('imputer',\n",
       "                                                                   IterativeImputer(add_indicator=True,\n",
       "                                                                                    estimator=ExtraTreesRegressor(n_estimators=5,\n",
       "                                                                                                                  random_state=1),\n",
       "                                                                                    random_state=1)),\n",
       "                                                                  ('scaler',\n",
       "                                                                   FunctionTransformer(func=<function log_transform at 0x7eff3f45c9d0>))]),\n",
       "                                                  Index(['TransactionAmt', 'max_c', 'max_d',...\n",
       "                                                                   OneHotEncoder(handle_unknown='ignore'))]),\n",
       "                                                  Index(['ProductCD', 'card1', 'card2', 'card3', 'card4', 'card5', 'card6',\n",
       "       'P_emaildomain', 'R_emaildomain', 'id_30', 'id_33', 'DeviceType',\n",
       "       'browser_enc', 'device_info_v4'],\n",
       "      dtype='object'))])),\n",
       "                ('model',\n",
       "                 GradientBoostingClassifier(max_depth=10, max_features='auto',\n",
       "                                            min_samples_leaf=3,\n",
       "                                            n_estimators=500,\n",
       "                                            n_iter_no_change=25, random_state=0,\n",
       "                                            warm_start=True))])"
      ]
     },
     "execution_count": 17,
     "metadata": {},
     "output_type": "execute_result"
    },
    {
     "data": {
      "image/png": "[encoded data removed]",
      "text/plain": [
       "<Figure size 432x288 with 2 Axes>"
      ]
     },
     "metadata": {
      "needs_background": "light"
     },
     "output_type": "display_data"
    }
   ],
   "source": [
    "mlu.model_evaluation(m.base_estimator, X_val, y_val)"
   ]
  },
  {
   "cell_type": "markdown",
   "id": "e3a54a38-7f61-42f6-a098-32b9798bb986",
   "metadata": {},
   "source": [
    "# 4.0 Error analysis"
   ]
  },
  {
   "cell_type": "code",
   "execution_count": 18,
   "id": "e40624c1-a037-465c-b079-f1a19ad46198",
   "metadata": {},
   "outputs": [],
   "source": [
    "val.insert(0,'probability_score','')\n",
    "val['probability_score'] = model.predict_proba(X_val)[:,1]"
   ]
  },
  {
   "cell_type": "code",
   "execution_count": 19,
   "id": "e3222877-9c22-45d2-b4b1-31f33d2f1320",
   "metadata": {},
   "outputs": [
    {
     "data": {
      "text/html": [
       "<div>\n",
       "<style scoped>\n",
       "    .dataframe tbody tr th:only-of-type {\n",
       "        vertical-align: middle;\n",
       "    }\n",
       "\n",
       "    .dataframe tbody tr th {\n",
       "        vertical-align: top;\n",
       "    }\n",
       "\n",
       "    .dataframe thead th {\n",
       "        text-align: right;\n",
       "    }\n",
       "</style>\n",
       "<table border=\"1\" class=\"dataframe\">\n",
       "  <thead>\n",
       "    <tr style=\"text-align: right;\">\n",
       "      <th></th>\n",
       "      <th>probability_score</th>\n",
       "      <th>isFraud</th>\n",
       "      <th>TransactionAmt</th>\n",
       "      <th>ProductCD</th>\n",
       "      <th>card1</th>\n",
       "      <th>card2</th>\n",
       "      <th>card3</th>\n",
       "      <th>card4</th>\n",
       "      <th>card5</th>\n",
       "      <th>card6</th>\n",
       "      <th>P_emaildomain</th>\n",
       "      <th>R_emaildomain</th>\n",
       "      <th>id_30</th>\n",
       "      <th>id_33</th>\n",
       "      <th>DeviceType</th>\n",
       "      <th>max_c</th>\n",
       "      <th>max_d</th>\n",
       "      <th>num_transaction_per_time</th>\n",
       "      <th>multi_transaction_per_time</th>\n",
       "      <th>browser_enc</th>\n",
       "      <th>device_info_v4</th>\n",
       "    </tr>\n",
       "  </thead>\n",
       "  <tbody>\n",
       "    <tr>\n",
       "      <th>55958</th>\n",
       "      <td>0.069647</td>\n",
       "      <td>0</td>\n",
       "      <td>27.136</td>\n",
       "      <td>C</td>\n",
       "      <td>13832</td>\n",
       "      <td>375.0</td>\n",
       "      <td>185.0</td>\n",
       "      <td>mastercard</td>\n",
       "      <td>224.0</td>\n",
       "      <td>debit</td>\n",
       "      <td>hotmail.com</td>\n",
       "      <td>hotmail.com</td>\n",
       "      <td>nan</td>\n",
       "      <td>nan</td>\n",
       "      <td>desktop</td>\n",
       "      <td>1.0</td>\n",
       "      <td>0.0</td>\n",
       "      <td>1</td>\n",
       "      <td>0</td>\n",
       "      <td>chrome</td>\n",
       "      <td>windows</td>\n",
       "    </tr>\n",
       "    <tr>\n",
       "      <th>22195</th>\n",
       "      <td>0.007953</td>\n",
       "      <td>0</td>\n",
       "      <td>25.000</td>\n",
       "      <td>R</td>\n",
       "      <td>16227</td>\n",
       "      <td>543.0</td>\n",
       "      <td>150.0</td>\n",
       "      <td>mastercard</td>\n",
       "      <td>224.0</td>\n",
       "      <td>debit</td>\n",
       "      <td>anonymous.com</td>\n",
       "      <td>anonymous.com</td>\n",
       "      <td>iOS_11_1_2</td>\n",
       "      <td>2048x1536</td>\n",
       "      <td>mobile</td>\n",
       "      <td>1.0</td>\n",
       "      <td>0.0</td>\n",
       "      <td>1</td>\n",
       "      <td>0</td>\n",
       "      <td>safari</td>\n",
       "      <td>ios</td>\n",
       "    </tr>\n",
       "  </tbody>\n",
       "</table>\n",
       "</div>"
      ],
      "text/plain": [
       "       probability_score isFraud  TransactionAmt ProductCD  card1  card2  \\\n",
       "55958           0.069647       0          27.136         C  13832  375.0   \n",
       "22195           0.007953       0          25.000         R  16227  543.0   \n",
       "\n",
       "       card3       card4  card5  card6  P_emaildomain  R_emaildomain  \\\n",
       "55958  185.0  mastercard  224.0  debit    hotmail.com    hotmail.com   \n",
       "22195  150.0  mastercard  224.0  debit  anonymous.com  anonymous.com   \n",
       "\n",
       "            id_30      id_33 DeviceType  max_c  max_d  \\\n",
       "55958         nan        nan    desktop    1.0    0.0   \n",
       "22195  iOS_11_1_2  2048x1536     mobile    1.0    0.0   \n",
       "\n",
       "       num_transaction_per_time  multi_transaction_per_time browser_enc  \\\n",
       "55958                         1                           0      chrome   \n",
       "22195                         1                           0      safari   \n",
       "\n",
       "      device_info_v4  \n",
       "55958        windows  \n",
       "22195            ios  "
      ]
     },
     "execution_count": 19,
     "metadata": {},
     "output_type": "execute_result"
    }
   ],
   "source": [
    "val.sample(2)"
   ]
  },
  {
   "cell_type": "code",
   "execution_count": 28,
   "id": "b903f671-8cd9-4259-86ab-62121a90c30a",
   "metadata": {},
   "outputs": [],
   "source": [
    "er = val[(val['probability_score']<0.05) & (val['isFraud']=='1')]"
   ]
  },
  {
   "cell_type": "code",
   "execution_count": 29,
   "id": "0b16a46d-dab6-4427-8679-9c79dcd0f84c",
   "metadata": {},
   "outputs": [
    {
     "data": {
      "text/plain": [
       "(28, 21)"
      ]
     },
     "execution_count": 29,
     "metadata": {},
     "output_type": "execute_result"
    }
   ],
   "source": [
    "er.shape"
   ]
  },
  {
   "cell_type": "code",
   "execution_count": 30,
   "id": "24e2da71-9881-4640-898c-8ada05753fdd",
   "metadata": {},
   "outputs": [
    {
     "data": {
      "text/html": [
       "<div>\n",
       "<style scoped>\n",
       "    .dataframe tbody tr th:only-of-type {\n",
       "        vertical-align: middle;\n",
       "    }\n",
       "\n",
       "    .dataframe tbody tr th {\n",
       "        vertical-align: top;\n",
       "    }\n",
       "\n",
       "    .dataframe thead th {\n",
       "        text-align: right;\n",
       "    }\n",
       "</style>\n",
       "<table border=\"1\" class=\"dataframe\">\n",
       "  <thead>\n",
       "    <tr style=\"text-align: right;\">\n",
       "      <th></th>\n",
       "      <th>probability_score</th>\n",
       "      <th>isFraud</th>\n",
       "      <th>TransactionAmt</th>\n",
       "      <th>ProductCD</th>\n",
       "      <th>card1</th>\n",
       "      <th>card2</th>\n",
       "      <th>card3</th>\n",
       "      <th>card4</th>\n",
       "      <th>card5</th>\n",
       "      <th>card6</th>\n",
       "      <th>P_emaildomain</th>\n",
       "      <th>R_emaildomain</th>\n",
       "      <th>id_30</th>\n",
       "      <th>id_33</th>\n",
       "      <th>DeviceType</th>\n",
       "      <th>max_c</th>\n",
       "      <th>max_d</th>\n",
       "      <th>num_transaction_per_time</th>\n",
       "      <th>multi_transaction_per_time</th>\n",
       "      <th>browser_enc</th>\n",
       "      <th>device_info_v4</th>\n",
       "    </tr>\n",
       "  </thead>\n",
       "  <tbody>\n",
       "    <tr>\n",
       "      <th>83518</th>\n",
       "      <td>0.034218</td>\n",
       "      <td>1</td>\n",
       "      <td>50.000</td>\n",
       "      <td>R</td>\n",
       "      <td>12808</td>\n",
       "      <td>555.0</td>\n",
       "      <td>150.0</td>\n",
       "      <td>visa</td>\n",
       "      <td>226.0</td>\n",
       "      <td>debit</td>\n",
       "      <td>gmail.com</td>\n",
       "      <td>gmail.com</td>\n",
       "      <td>iOS_11_2_2</td>\n",
       "      <td>1334x750</td>\n",
       "      <td>mobile</td>\n",
       "      <td>1.0</td>\n",
       "      <td>0.000</td>\n",
       "      <td>1</td>\n",
       "      <td>0</td>\n",
       "      <td>safari</td>\n",
       "      <td>ios</td>\n",
       "    </tr>\n",
       "    <tr>\n",
       "      <th>121697</th>\n",
       "      <td>0.045263</td>\n",
       "      <td>1</td>\n",
       "      <td>47.708</td>\n",
       "      <td>C</td>\n",
       "      <td>15257</td>\n",
       "      <td>375.0</td>\n",
       "      <td>185.0</td>\n",
       "      <td>mastercard</td>\n",
       "      <td>224.0</td>\n",
       "      <td>debit</td>\n",
       "      <td>hotmail.com</td>\n",
       "      <td>hotmail.com</td>\n",
       "      <td>nan</td>\n",
       "      <td>nan</td>\n",
       "      <td>desktop</td>\n",
       "      <td>1.0</td>\n",
       "      <td>547.000</td>\n",
       "      <td>1</td>\n",
       "      <td>0</td>\n",
       "      <td>chrome</td>\n",
       "      <td>other</td>\n",
       "    </tr>\n",
       "    <tr>\n",
       "      <th>39930</th>\n",
       "      <td>0.034092</td>\n",
       "      <td>1</td>\n",
       "      <td>40.000</td>\n",
       "      <td>H</td>\n",
       "      <td>6019</td>\n",
       "      <td>583.0</td>\n",
       "      <td>150.0</td>\n",
       "      <td>visa</td>\n",
       "      <td>226.0</td>\n",
       "      <td>credit</td>\n",
       "      <td>gmail.com</td>\n",
       "      <td>gmail.com</td>\n",
       "      <td>Android_5_1_1</td>\n",
       "      <td>960x540</td>\n",
       "      <td>mobile</td>\n",
       "      <td>1.0</td>\n",
       "      <td>0.000</td>\n",
       "      <td>1</td>\n",
       "      <td>0</td>\n",
       "      <td>chrome</td>\n",
       "      <td>samsung</td>\n",
       "    </tr>\n",
       "    <tr>\n",
       "      <th>57522</th>\n",
       "      <td>0.015318</td>\n",
       "      <td>1</td>\n",
       "      <td>100.000</td>\n",
       "      <td>R</td>\n",
       "      <td>8528</td>\n",
       "      <td>215.0</td>\n",
       "      <td>150.0</td>\n",
       "      <td>visa</td>\n",
       "      <td>226.0</td>\n",
       "      <td>debit</td>\n",
       "      <td>gmail.com</td>\n",
       "      <td>aol.com</td>\n",
       "      <td>Mac_OS_X_10_13_1</td>\n",
       "      <td>2880x1800</td>\n",
       "      <td>desktop</td>\n",
       "      <td>1.0</td>\n",
       "      <td>0.000</td>\n",
       "      <td>1</td>\n",
       "      <td>0</td>\n",
       "      <td>safari</td>\n",
       "      <td>ios</td>\n",
       "    </tr>\n",
       "    <tr>\n",
       "      <th>10135</th>\n",
       "      <td>0.031790</td>\n",
       "      <td>1</td>\n",
       "      <td>50.000</td>\n",
       "      <td>S</td>\n",
       "      <td>12883</td>\n",
       "      <td>404.0</td>\n",
       "      <td>150.0</td>\n",
       "      <td>visa</td>\n",
       "      <td>226.0</td>\n",
       "      <td>credit</td>\n",
       "      <td>nan</td>\n",
       "      <td>gmail.com</td>\n",
       "      <td>Windows_10</td>\n",
       "      <td>1366x768</td>\n",
       "      <td>desktop</td>\n",
       "      <td>1.0</td>\n",
       "      <td>229.875</td>\n",
       "      <td>1</td>\n",
       "      <td>0</td>\n",
       "      <td>chrome</td>\n",
       "      <td>windows</td>\n",
       "    </tr>\n",
       "  </tbody>\n",
       "</table>\n",
       "</div>"
      ],
      "text/plain": [
       "        probability_score isFraud  TransactionAmt ProductCD  card1  card2  \\\n",
       "83518            0.034218       1          50.000         R  12808  555.0   \n",
       "121697           0.045263       1          47.708         C  15257  375.0   \n",
       "39930            0.034092       1          40.000         H   6019  583.0   \n",
       "57522            0.015318       1         100.000         R   8528  215.0   \n",
       "10135            0.031790       1          50.000         S  12883  404.0   \n",
       "\n",
       "        card3       card4  card5   card6 P_emaildomain R_emaildomain  \\\n",
       "83518   150.0        visa  226.0   debit     gmail.com     gmail.com   \n",
       "121697  185.0  mastercard  224.0   debit   hotmail.com   hotmail.com   \n",
       "39930   150.0        visa  226.0  credit     gmail.com     gmail.com   \n",
       "57522   150.0        visa  226.0   debit     gmail.com       aol.com   \n",
       "10135   150.0        visa  226.0  credit           nan     gmail.com   \n",
       "\n",
       "                   id_30      id_33 DeviceType  max_c    max_d  \\\n",
       "83518         iOS_11_2_2   1334x750     mobile    1.0    0.000   \n",
       "121697               nan        nan    desktop    1.0  547.000   \n",
       "39930      Android_5_1_1    960x540     mobile    1.0    0.000   \n",
       "57522   Mac_OS_X_10_13_1  2880x1800    desktop    1.0    0.000   \n",
       "10135         Windows_10   1366x768    desktop    1.0  229.875   \n",
       "\n",
       "        num_transaction_per_time  multi_transaction_per_time browser_enc  \\\n",
       "83518                          1                           0      safari   \n",
       "121697                         1                           0      chrome   \n",
       "39930                          1                           0      chrome   \n",
       "57522                          1                           0      safari   \n",
       "10135                          1                           0      chrome   \n",
       "\n",
       "       device_info_v4  \n",
       "83518             ios  \n",
       "121697          other  \n",
       "39930         samsung  \n",
       "57522             ios  \n",
       "10135         windows  "
      ]
     },
     "execution_count": 30,
     "metadata": {},
     "output_type": "execute_result"
    }
   ],
   "source": [
    "er.sample(5)"
   ]
  },
  {
   "cell_type": "code",
   "execution_count": 23,
   "id": "5609a8d1-ad62-4f19-b796-89fcb9ac667c",
   "metadata": {},
   "outputs": [
    {
     "data": {
      "text/plain": [
       "<AxesSubplot:>"
      ]
     },
     "execution_count": 23,
     "metadata": {},
     "output_type": "execute_result"
    },
    {
     "data": {
      "image/png": "[encoded data removed]",
      "text/plain": [
       "<Figure size 432x288 with 1 Axes>"
      ]
     },
     "metadata": {
      "needs_background": "light"
     },
     "output_type": "display_data"
    }
   ],
   "source": [
    "er['probability_score'].hist()"
   ]
  },
  {
   "cell_type": "code",
   "execution_count": 24,
   "id": "ab31e209-50e6-49e6-b8e4-5d2d488611b7",
   "metadata": {},
   "outputs": [
    {
     "name": "stdout",
     "output_type": "stream",
     "text": [
      "probability_score\n",
      "0.435288    0.008439\n",
      "0.485538    0.008439\n",
      "0.235251    0.008439\n",
      "0.035126    0.004219\n",
      "0.398104    0.004219\n",
      "Name: probability_score, dtype: float64\n",
      "isFraud\n",
      "1    1.0\n",
      "Name: isFraud, dtype: float64\n",
      "TransactionAmt\n",
      "100.0    0.075949\n",
      "150.0    0.059072\n",
      "50.0     0.046414\n",
      "200.0    0.021097\n",
      "175.0    0.021097\n",
      "Name: TransactionAmt, dtype: float64\n",
      "ProductCD\n",
      "C    0.658228\n",
      "R    0.156118\n",
      "H    0.139241\n",
      "S    0.046414\n",
      "Name: ProductCD, dtype: float64\n",
      "card1\n",
      "15885    0.147679\n",
      "5812     0.054852\n",
      "3154     0.046414\n",
      "4461     0.029536\n",
      "13832    0.025316\n",
      "Name: card1, dtype: float64\n",
      "card2\n",
      "545.0    0.206751\n",
      "408.0    0.105485\n",
      "555.0    0.075949\n",
      "375.0    0.067511\n",
      "514.0    0.037975\n",
      "Name: card2, dtype: float64\n",
      "card3\n",
      "185.0    0.573840\n",
      "150.0    0.367089\n",
      "119.0    0.016878\n",
      "106.0    0.008439\n",
      "147.0    0.008439\n",
      "Name: card3, dtype: float64\n",
      "card4\n",
      "visa                0.594937\n",
      "mastercard          0.362869\n",
      "discover            0.021097\n",
      "american express    0.021097\n",
      "Name: card4, dtype: float64\n",
      "card5\n",
      "226.0    0.278481\n",
      "224.0    0.261603\n",
      "138.0    0.206751\n",
      "102.0    0.071730\n",
      "137.0    0.063291\n",
      "Name: card5, dtype: float64\n",
      "card6\n",
      "debit     0.556962\n",
      "credit    0.443038\n",
      "Name: card6, dtype: float64\n",
      "P_emaildomain\n",
      "gmail.com        0.379747\n",
      "hotmail.com      0.257384\n",
      "anonymous.com    0.097046\n",
      "nan              0.088608\n",
      "yahoo.com        0.054852\n",
      "Name: P_emaildomain, dtype: float64\n",
      "R_emaildomain\n",
      "gmail.com        0.413502\n",
      "hotmail.com      0.261603\n",
      "anonymous.com    0.088608\n",
      "nan              0.063291\n",
      "yahoo.com        0.054852\n",
      "Name: R_emaildomain, dtype: float64\n",
      "id_30\n",
      "nan           0.683544\n",
      "Windows_10    0.097046\n",
      "Windows_7     0.046414\n",
      "iOS_11_3_0    0.029536\n",
      "iOS_11_2_1    0.021097\n",
      "Name: id_30, dtype: float64\n",
      "id_33\n",
      "nan          0.696203\n",
      "1366x768     0.046414\n",
      "1920x1080    0.037975\n",
      "2208x1242    0.033755\n",
      "1440x900     0.033755\n",
      "Name: id_33, dtype: float64\n",
      "DeviceType\n",
      "desktop    0.544304\n",
      "mobile     0.438819\n",
      "nan        0.016878\n",
      "Name: DeviceType, dtype: float64\n",
      "max_c\n",
      "1.0    0.599156\n",
      "2.0    0.160338\n",
      "3.0    0.088608\n",
      "4.0    0.042194\n",
      "5.0    0.025316\n",
      "Name: max_c, dtype: float64\n",
      "max_d\n",
      "0.000000      0.409283\n",
      "2.000000      0.016878\n",
      "495.208344    0.008439\n",
      "23.000000     0.008439\n",
      "0.916666      0.008439\n",
      "Name: max_d, dtype: float64\n",
      "num_transaction_per_time\n",
      "1    0.983122\n",
      "2    0.016878\n",
      "Name: num_transaction_per_time, dtype: float64\n",
      "multi_transaction_per_time\n",
      "0    0.983122\n",
      "1    0.016878\n",
      "Name: multi_transaction_per_time, dtype: float64\n",
      "browser_enc\n",
      "chrome     0.565401\n",
      "safari     0.244726\n",
      "firefox    0.088608\n",
      "edge       0.033755\n",
      "other      0.029536\n",
      "Name: browser_enc, dtype: float64\n",
      "device_info_v4\n",
      "other      0.362869\n",
      "windows    0.316456\n",
      "ios        0.147679\n",
      "samsung    0.092827\n",
      "lg         0.033755\n",
      "Name: device_info_v4, dtype: float64\n"
     ]
    }
   ],
   "source": [
    "for i in er:\n",
    "    print(i)\n",
    "    print(er[i].value_counts(normalize=True).head(5))"
   ]
  },
  {
   "cell_type": "code",
   "execution_count": null,
   "id": "6d4e393a-2e4c-446f-a666-2983240f2f7b",
   "metadata": {},
   "outputs": [],
   "source": []
  },
  {
   "cell_type": "code",
   "execution_count": null,
   "id": "f79e023b-1412-4a3b-b907-530123660e56",
   "metadata": {},
   "outputs": [],
   "source": []
  },
  {
   "cell_type": "code",
   "execution_count": null,
   "id": "269a0913-bfda-41a6-b4c2-c5cb9acd2580",
   "metadata": {},
   "outputs": [],
   "source": []
  },
  {
   "cell_type": "markdown",
   "id": "c38cf05a-2a26-4abc-bfe1-436317ca1aa9",
   "metadata": {},
   "source": [
    "# 4.0 Model Output"
   ]
  },
  {
   "cell_type": "code",
   "execution_count": 15,
   "id": "0426aa06-c968-4fc9-9533-1edf64743b84",
   "metadata": {},
   "outputs": [],
   "source": [
    "with open('../../data_lake/output/trained_model_v1.pkl','wb') as file:\n",
    "    pickle.dump(m.base_estimator, file)"
   ]
  },
  {
   "cell_type": "code",
   "execution_count": null,
   "id": "21e4e969-d853-44f1-8c04-cd6388a875d7",
   "metadata": {},
   "outputs": [],
   "source": []
  }
 ],
 "metadata": {
  "kernelspec": {
   "display_name": "dev",
   "language": "python",
   "name": "python3"
  },
  "language_info": {
   "codemirror_mode": {
    "name": "ipython",
    "version": 3
   },
   "file_extension": ".py",
   "mimetype": "text/x-python",
   "name": "python",
   "nbconvert_exporter": "python",
   "pygments_lexer": "ipython3",
   "version": "3.9.7"
  }
 },
 "nbformat": 4,
 "nbformat_minor": 5
}
