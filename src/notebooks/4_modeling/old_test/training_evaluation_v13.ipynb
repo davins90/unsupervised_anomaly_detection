{
 "cells": [
  {
   "cell_type": "markdown",
   "id": "78b9ab1b-17b0-45a4-96ef-785cbeb8355f",
   "metadata": {},
   "source": [
    "error analysis + log less features 2"
   ]
  },
  {
   "cell_type": "code",
   "execution_count": 1,
   "id": "6d57c904-bd1c-47ef-b5d7-46d730fc9ee9",
   "metadata": {},
   "outputs": [],
   "source": [
    "import sys\n",
    "sys.path.append('../../')"
   ]
  },
  {
   "cell_type": "code",
   "execution_count": 2,
   "id": "4749bf27-a893-49c2-80c1-78b7601f0e16",
   "metadata": {},
   "outputs": [],
   "source": [
    "import pandas as pd\n",
    "import numpy as np\n",
    "import pickle\n",
    "import matplotlib.pyplot as plt\n",
    "\n",
    "from modules import machine_learning_utils as mlu\n",
    "\n",
    "pd.set_option(\"display.max_rows\",None)\n",
    "pd.set_option(\"display.max_columns\",None)"
   ]
  },
  {
   "cell_type": "markdown",
   "id": "3f4f1e2c-06fe-46f3-8f2f-f8f25c143da0",
   "metadata": {},
   "source": [
    "# 1.0 Data retrieval"
   ]
  },
  {
   "cell_type": "code",
   "execution_count": 3,
   "id": "ec6dcbae-669d-425b-8324-e7bb0ba0b538",
   "metadata": {},
   "outputs": [],
   "source": [
    "df = pd.read_pickle(\"../../data_lake/output/train_eng.pkl\")\n",
    "val = pd.read_pickle(\"../../data_lake/output/val_eng.pkl\")"
   ]
  },
  {
   "cell_type": "code",
   "execution_count": 4,
   "id": "e4bc0644-78fa-4dd8-bfcc-dbb838b41fd9",
   "metadata": {},
   "outputs": [],
   "source": [
    "cols = ['card1', 'card2', 'card3','card5','M4', 'id_21', 'id_22', 'id_23', 'id_24', 'id_25',\n",
    "       'id_26', 'id_27', 'id_28', 'id_29', 'id_30', 'id_32', 'id_33', 'id_34',\n",
    "       'id_35', 'id_36', 'id_37', 'id_38','num_transaction_per_time']"
   ]
  },
  {
   "cell_type": "code",
   "execution_count": 5,
   "id": "65b20810-ad8f-40bf-bb53-8c35aa71f0e3",
   "metadata": {},
   "outputs": [],
   "source": [
    "df = df.drop(columns=cols)"
   ]
  },
  {
   "cell_type": "code",
   "execution_count": 6,
   "id": "1d66b553-32f2-4648-a272-0a192ae084ee",
   "metadata": {},
   "outputs": [],
   "source": [
    "val = val.drop(columns=cols)"
   ]
  },
  {
   "cell_type": "markdown",
   "id": "b94ae274-6ebb-47da-9b3f-1bf8777ff26a",
   "metadata": {},
   "source": [
    "# 2.0 Training baseline"
   ]
  },
  {
   "cell_type": "code",
   "execution_count": 7,
   "id": "f42f73a6-a617-4af8-ab65-42eb11cb2aa6",
   "metadata": {},
   "outputs": [],
   "source": [
    "for i in df:\n",
    "    if df[i].dtypes == 'object':\n",
    "        df[i] = df[i].astype(str)"
   ]
  },
  {
   "cell_type": "code",
   "execution_count": 8,
   "id": "447dd015-4ec9-424b-a67a-5467bea048fa",
   "metadata": {},
   "outputs": [],
   "source": [
    "X_train = df.drop(columns='isFraud')\n",
    "y_train = df['isFraud'].astype(float)"
   ]
  },
  {
   "cell_type": "code",
   "execution_count": 9,
   "id": "8e2abe67-a034-4489-ab56-95d352c1ba5c",
   "metadata": {},
   "outputs": [],
   "source": [
    "numerical_cols = X_train.select_dtypes(include=['int64', 'float64']).columns\n",
    "categorical_cols = X_train.select_dtypes(include=['object', 'bool']).columns"
   ]
  },
  {
   "cell_type": "code",
   "execution_count": 10,
   "id": "896ff822-606b-4176-839d-0d0cb9ffc8a2",
   "metadata": {},
   "outputs": [],
   "source": [
    "# parameters = {'model__max_depth':[3,6,10],\n",
    "#               'model__n_estimators':[100,400,800],\n",
    "#               'model__learning_rate':[0.05,0.01,0.1],\n",
    "#               'model__min_samples_leaf':[1,3],\n",
    "#               'model__min_samples_split':[2,4,6]}"
   ]
  },
  {
   "cell_type": "code",
   "execution_count": 11,
   "id": "7278de08-4423-4914-a928-9255f0518eea",
   "metadata": {},
   "outputs": [],
   "source": [
    "# {'model__learning_rate': 0.5, 'model__max_depth': 6, 'model__min_samples_leaf': 3, 'model__n_estimators': 600}"
   ]
  },
  {
   "cell_type": "code",
   "execution_count": 12,
   "id": "2343117c-6d3d-4e71-ac9a-f618b3129445",
   "metadata": {},
   "outputs": [],
   "source": [
    "parameters = {'model__max_depth':[6,8],'model__n_estimators':[500,800],'model__learning_rate':[0.05,0.1],'model__min_samples_leaf':[3,5]}"
   ]
  },
  {
   "cell_type": "code",
   "execution_count": 13,
   "id": "9d223653-db46-491e-8480-ff2f6aa40f5c",
   "metadata": {},
   "outputs": [
    {
     "name": "stdout",
     "output_type": "stream",
     "text": [
      "GridSearchCV results...\n",
      "Mean Train Scores: \n",
      "[0.87915758 0.89078492 0.8819401  0.90386593 0.92404796 0.92849121\n",
      " 0.91881546 0.92288487 0.9127528  0.9127528  0.90262    0.90262\n",
      " 0.94310833 0.94310833 0.92666503 0.92666503]\n",
      "\n",
      "Mean CV Scores: \n",
      "[0.8275819  0.83032306 0.82558813 0.83480718 0.8340601  0.83480755\n",
      " 0.83405985 0.8338106  0.83505655 0.83505655 0.83244046 0.83244046\n",
      " 0.84128581 0.84128581 0.83667489 0.83667489]\n",
      "\n",
      "Best Parameters: \n",
      "{'model__learning_rate': 0.1, 'model__max_depth': 8, 'model__min_samples_leaf': 3, 'model__n_estimators': 500}\n",
      "\n"
     ]
    }
   ],
   "source": [
    "model = mlu.model_training(X_train,y_train,numerical_cols,categorical_cols,parameters)"
   ]
  },
  {
   "cell_type": "markdown",
   "id": "8979506f-bf78-45a8-aeaa-565ec78b619c",
   "metadata": {},
   "source": [
    "# 3.0 Evaluation baseline"
   ]
  },
  {
   "cell_type": "code",
   "execution_count": 14,
   "id": "0436df8f-e20e-4221-a5e5-fd25a99a627f",
   "metadata": {
    "tags": []
   },
   "outputs": [],
   "source": [
    "for i in val:\n",
    "    if val[i].dtypes == 'object':\n",
    "        val[i] = val[i].astype(str)"
   ]
  },
  {
   "cell_type": "code",
   "execution_count": 15,
   "id": "6869f637-86f7-453e-8f2e-1bd85a583e80",
   "metadata": {},
   "outputs": [],
   "source": [
    "X_val = val.drop(columns='isFraud')\n",
    "y_val = val['isFraud'].astype(float)"
   ]
  },
  {
   "cell_type": "code",
   "execution_count": 16,
   "id": "480731d1-3722-4bb7-878a-88ba9ae3c562",
   "metadata": {},
   "outputs": [],
   "source": [
    "m = mlu.model_calibration(model,X_val,y_val)"
   ]
  },
  {
   "cell_type": "code",
   "execution_count": 17,
   "id": "cc84f329-c349-4691-b36c-a47f465dbd93",
   "metadata": {},
   "outputs": [
    {
     "name": "stdout",
     "output_type": "stream",
     "text": [
      "Test results...\n",
      "Model Test Recall: 0.8517179023508138\n",
      "--------------------------------------------------\n",
      "Model Test Confusion Matrix\n",
      "Classification report : \n",
      "               precision    recall  f1-score   support\n",
      "\n",
      "         0.0       0.99      0.85      0.91     19976\n",
      "         1.0       0.32      0.85      0.47      1659\n",
      "\n",
      "    accuracy                           0.85     21635\n",
      "   macro avg       0.65      0.85      0.69     21635\n",
      "weighted avg       0.93      0.85      0.88     21635\n",
      "\n",
      "ProductCD: 0.3204076362998419\n",
      "TransactionAmt: 0.14343000107184956\n",
      "card4: 0.13104672782140595\n",
      "P_emaildomain: 0.025223769402368465\n",
      "addr2: 0.012033488338027181\n",
      "multi_transaction_per_time: 0.006267940261555033\n",
      "R_emaildomain: 0.0051341140250081435\n",
      "device_info_v4: 0.00510613494903186\n",
      "DeviceType: 0.003658257210281853\n",
      "max_d: 0.002309863815483917\n",
      "max_c: 0.0014520695771733966\n",
      "card6: 0.0010054128432358431\n",
      "addr1: 3.549110105942713e-05\n",
      "browser_enc: 2.5990696714438614e-05\n"
     ]
    },
    {
     "data": {
      "text/plain": [
       "Pipeline(steps=[('preprocessor',\n",
       "                 ColumnTransformer(transformers=[('numerical_preprocessor',\n",
       "                                                  Pipeline(steps=[('imputer',\n",
       "                                                                   IterativeImputer(add_indicator=True,\n",
       "                                                                                    estimator=ExtraTreesRegressor(n_estimators=5,\n",
       "                                                                                                                  random_state=1),\n",
       "                                                                                    random_state=1)),\n",
       "                                                                  ('scaler',\n",
       "                                                                   FunctionTransformer(func=<function log_transform at 0x7f9742a96430>))]),\n",
       "                                                  Index(['TransactionAmt', 'max_c', 'max_d',...\n",
       "                                                                  ('label_enc',\n",
       "                                                                   OneHotEncoder(handle_unknown='ignore'))]),\n",
       "                                                  Index(['ProductCD', 'card4', 'card6', 'addr1', 'addr2', 'P_emaildomain',\n",
       "       'R_emaildomain', 'DeviceType', 'browser_enc', 'device_info_v4'],\n",
       "      dtype='object'))])),\n",
       "                ('model',\n",
       "                 GradientBoostingClassifier(max_depth=8, max_features='auto',\n",
       "                                            min_samples_leaf=3,\n",
       "                                            n_estimators=500,\n",
       "                                            n_iter_no_change=25, random_state=0,\n",
       "                                            warm_start=True))])"
      ]
     },
     "execution_count": 17,
     "metadata": {},
     "output_type": "execute_result"
    },
    {
     "data": {
      "image/png": "[encoded data removed]",
      "text/plain": [
       "<Figure size 432x288 with 2 Axes>"
      ]
     },
     "metadata": {
      "needs_background": "light"
     },
     "output_type": "display_data"
    }
   ],
   "source": [
    "mlu.model_evaluation(m.base_estimator, X_val, y_val)"
   ]
  },
  {
   "cell_type": "markdown",
   "id": "e3a54a38-7f61-42f6-a098-32b9798bb986",
   "metadata": {},
   "source": [
    "# 4.0 Error analysis"
   ]
  },
  {
   "cell_type": "code",
   "execution_count": 18,
   "id": "e40624c1-a037-465c-b079-f1a19ad46198",
   "metadata": {},
   "outputs": [],
   "source": [
    "val.insert(0,'probability_score','')\n",
    "val['probability_score'] = model.predict_proba(X_val)[:,1]"
   ]
  },
  {
   "cell_type": "code",
   "execution_count": 19,
   "id": "e3222877-9c22-45d2-b4b1-31f33d2f1320",
   "metadata": {},
   "outputs": [
    {
     "data": {
      "text/html": [
       "<div>\n",
       "<style scoped>\n",
       "    .dataframe tbody tr th:only-of-type {\n",
       "        vertical-align: middle;\n",
       "    }\n",
       "\n",
       "    .dataframe tbody tr th {\n",
       "        vertical-align: top;\n",
       "    }\n",
       "\n",
       "    .dataframe thead th {\n",
       "        text-align: right;\n",
       "    }\n",
       "</style>\n",
       "<table border=\"1\" class=\"dataframe\">\n",
       "  <thead>\n",
       "    <tr style=\"text-align: right;\">\n",
       "      <th></th>\n",
       "      <th>probability_score</th>\n",
       "      <th>isFraud</th>\n",
       "      <th>TransactionAmt</th>\n",
       "      <th>ProductCD</th>\n",
       "      <th>card4</th>\n",
       "      <th>card6</th>\n",
       "      <th>addr1</th>\n",
       "      <th>addr2</th>\n",
       "      <th>P_emaildomain</th>\n",
       "      <th>R_emaildomain</th>\n",
       "      <th>DeviceType</th>\n",
       "      <th>max_c</th>\n",
       "      <th>max_d</th>\n",
       "      <th>multi_transaction_per_time</th>\n",
       "      <th>browser_enc</th>\n",
       "      <th>device_info_v4</th>\n",
       "    </tr>\n",
       "  </thead>\n",
       "  <tbody>\n",
       "    <tr>\n",
       "      <th>50382</th>\n",
       "      <td>0.799017</td>\n",
       "      <td>0</td>\n",
       "      <td>125.0</td>\n",
       "      <td>R</td>\n",
       "      <td>american express</td>\n",
       "      <td>credit</td>\n",
       "      <td>204.0</td>\n",
       "      <td>87.0</td>\n",
       "      <td>gmail.com</td>\n",
       "      <td>gmail.com</td>\n",
       "      <td>mobile</td>\n",
       "      <td>4.0</td>\n",
       "      <td>396.000000</td>\n",
       "      <td>0</td>\n",
       "      <td>safari</td>\n",
       "      <td>ios</td>\n",
       "    </tr>\n",
       "    <tr>\n",
       "      <th>114970</th>\n",
       "      <td>0.002106</td>\n",
       "      <td>0</td>\n",
       "      <td>50.0</td>\n",
       "      <td>S</td>\n",
       "      <td>american express</td>\n",
       "      <td>credit</td>\n",
       "      <td>184.0</td>\n",
       "      <td>87.0</td>\n",
       "      <td>nan</td>\n",
       "      <td>comcast.net</td>\n",
       "      <td>desktop</td>\n",
       "      <td>1.0</td>\n",
       "      <td>204.041672</td>\n",
       "      <td>0</td>\n",
       "      <td>chrome</td>\n",
       "      <td>windows</td>\n",
       "    </tr>\n",
       "  </tbody>\n",
       "</table>\n",
       "</div>"
      ],
      "text/plain": [
       "        probability_score isFraud  TransactionAmt ProductCD             card4  \\\n",
       "50382            0.799017       0           125.0         R  american express   \n",
       "114970           0.002106       0            50.0         S  american express   \n",
       "\n",
       "         card6  addr1 addr2 P_emaildomain R_emaildomain DeviceType  max_c  \\\n",
       "50382   credit  204.0  87.0     gmail.com     gmail.com     mobile    4.0   \n",
       "114970  credit  184.0  87.0           nan   comcast.net    desktop    1.0   \n",
       "\n",
       "             max_d  multi_transaction_per_time browser_enc device_info_v4  \n",
       "50382   396.000000                           0      safari            ios  \n",
       "114970  204.041672                           0      chrome        windows  "
      ]
     },
     "execution_count": 19,
     "metadata": {},
     "output_type": "execute_result"
    }
   ],
   "source": [
    "val.sample(2)"
   ]
  },
  {
   "cell_type": "code",
   "execution_count": 20,
   "id": "b903f671-8cd9-4259-86ab-62121a90c30a",
   "metadata": {},
   "outputs": [],
   "source": [
    "er = val[(val['probability_score']<0.5) & (val['isFraud']=='1')]"
   ]
  },
  {
   "cell_type": "code",
   "execution_count": 21,
   "id": "0b16a46d-dab6-4427-8679-9c79dcd0f84c",
   "metadata": {},
   "outputs": [
    {
     "data": {
      "text/plain": [
       "(246, 16)"
      ]
     },
     "execution_count": 21,
     "metadata": {},
     "output_type": "execute_result"
    }
   ],
   "source": [
    "er.shape"
   ]
  },
  {
   "cell_type": "code",
   "execution_count": 22,
   "id": "24e2da71-9881-4640-898c-8ada05753fdd",
   "metadata": {},
   "outputs": [
    {
     "data": {
      "text/html": [
       "<div>\n",
       "<style scoped>\n",
       "    .dataframe tbody tr th:only-of-type {\n",
       "        vertical-align: middle;\n",
       "    }\n",
       "\n",
       "    .dataframe tbody tr th {\n",
       "        vertical-align: top;\n",
       "    }\n",
       "\n",
       "    .dataframe thead th {\n",
       "        text-align: right;\n",
       "    }\n",
       "</style>\n",
       "<table border=\"1\" class=\"dataframe\">\n",
       "  <thead>\n",
       "    <tr style=\"text-align: right;\">\n",
       "      <th></th>\n",
       "      <th>probability_score</th>\n",
       "      <th>isFraud</th>\n",
       "      <th>TransactionAmt</th>\n",
       "      <th>ProductCD</th>\n",
       "      <th>card4</th>\n",
       "      <th>card6</th>\n",
       "      <th>addr1</th>\n",
       "      <th>addr2</th>\n",
       "      <th>P_emaildomain</th>\n",
       "      <th>R_emaildomain</th>\n",
       "      <th>DeviceType</th>\n",
       "      <th>max_c</th>\n",
       "      <th>max_d</th>\n",
       "      <th>multi_transaction_per_time</th>\n",
       "      <th>browser_enc</th>\n",
       "      <th>device_info_v4</th>\n",
       "    </tr>\n",
       "  </thead>\n",
       "  <tbody>\n",
       "    <tr>\n",
       "      <th>35517</th>\n",
       "      <td>0.023687</td>\n",
       "      <td>1</td>\n",
       "      <td>93.280</td>\n",
       "      <td>C</td>\n",
       "      <td>mastercard</td>\n",
       "      <td>debit</td>\n",
       "      <td>nan</td>\n",
       "      <td>nan</td>\n",
       "      <td>hotmail.com</td>\n",
       "      <td>hotmail.com</td>\n",
       "      <td>mobile</td>\n",
       "      <td>1.0</td>\n",
       "      <td>0.000000</td>\n",
       "      <td>0</td>\n",
       "      <td>chrome</td>\n",
       "      <td>lg</td>\n",
       "    </tr>\n",
       "    <tr>\n",
       "      <th>35389</th>\n",
       "      <td>0.024640</td>\n",
       "      <td>1</td>\n",
       "      <td>300.000</td>\n",
       "      <td>R</td>\n",
       "      <td>visa</td>\n",
       "      <td>debit</td>\n",
       "      <td>387.0</td>\n",
       "      <td>87.0</td>\n",
       "      <td>anonymous.com</td>\n",
       "      <td>anonymous.com</td>\n",
       "      <td>desktop</td>\n",
       "      <td>3.0</td>\n",
       "      <td>87.666664</td>\n",
       "      <td>1</td>\n",
       "      <td>edge</td>\n",
       "      <td>windows</td>\n",
       "    </tr>\n",
       "    <tr>\n",
       "      <th>40377</th>\n",
       "      <td>0.119411</td>\n",
       "      <td>1</td>\n",
       "      <td>200.000</td>\n",
       "      <td>S</td>\n",
       "      <td>mastercard</td>\n",
       "      <td>credit</td>\n",
       "      <td>204.0</td>\n",
       "      <td>87.0</td>\n",
       "      <td>nan</td>\n",
       "      <td>anonymous.com</td>\n",
       "      <td>desktop</td>\n",
       "      <td>1.0</td>\n",
       "      <td>7.916666</td>\n",
       "      <td>0</td>\n",
       "      <td>edge</td>\n",
       "      <td>windows</td>\n",
       "    </tr>\n",
       "    <tr>\n",
       "      <th>109216</th>\n",
       "      <td>0.333311</td>\n",
       "      <td>1</td>\n",
       "      <td>85.796</td>\n",
       "      <td>C</td>\n",
       "      <td>visa</td>\n",
       "      <td>debit</td>\n",
       "      <td>nan</td>\n",
       "      <td>nan</td>\n",
       "      <td>outlook.es</td>\n",
       "      <td>outlook.es</td>\n",
       "      <td>desktop</td>\n",
       "      <td>1.0</td>\n",
       "      <td>259.000000</td>\n",
       "      <td>0</td>\n",
       "      <td>chrome</td>\n",
       "      <td>windows</td>\n",
       "    </tr>\n",
       "    <tr>\n",
       "      <th>56334</th>\n",
       "      <td>0.469534</td>\n",
       "      <td>1</td>\n",
       "      <td>39.877</td>\n",
       "      <td>C</td>\n",
       "      <td>visa</td>\n",
       "      <td>debit</td>\n",
       "      <td>nan</td>\n",
       "      <td>nan</td>\n",
       "      <td>hotmail.com</td>\n",
       "      <td>hotmail.com</td>\n",
       "      <td>mobile</td>\n",
       "      <td>4.0</td>\n",
       "      <td>2.000000</td>\n",
       "      <td>0</td>\n",
       "      <td>chrome</td>\n",
       "      <td>other</td>\n",
       "    </tr>\n",
       "  </tbody>\n",
       "</table>\n",
       "</div>"
      ],
      "text/plain": [
       "        probability_score isFraud  TransactionAmt ProductCD       card4  \\\n",
       "35517            0.023687       1          93.280         C  mastercard   \n",
       "35389            0.024640       1         300.000         R        visa   \n",
       "40377            0.119411       1         200.000         S  mastercard   \n",
       "109216           0.333311       1          85.796         C        visa   \n",
       "56334            0.469534       1          39.877         C        visa   \n",
       "\n",
       "         card6  addr1 addr2  P_emaildomain  R_emaildomain DeviceType  max_c  \\\n",
       "35517    debit    nan   nan    hotmail.com    hotmail.com     mobile    1.0   \n",
       "35389    debit  387.0  87.0  anonymous.com  anonymous.com    desktop    3.0   \n",
       "40377   credit  204.0  87.0            nan  anonymous.com    desktop    1.0   \n",
       "109216   debit    nan   nan     outlook.es     outlook.es    desktop    1.0   \n",
       "56334    debit    nan   nan    hotmail.com    hotmail.com     mobile    4.0   \n",
       "\n",
       "             max_d  multi_transaction_per_time browser_enc device_info_v4  \n",
       "35517     0.000000                           0      chrome             lg  \n",
       "35389    87.666664                           1        edge        windows  \n",
       "40377     7.916666                           0        edge        windows  \n",
       "109216  259.000000                           0      chrome        windows  \n",
       "56334     2.000000                           0      chrome          other  "
      ]
     },
     "execution_count": 22,
     "metadata": {},
     "output_type": "execute_result"
    }
   ],
   "source": [
    "er.sample(5)"
   ]
  },
  {
   "cell_type": "code",
   "execution_count": 23,
   "id": "5609a8d1-ad62-4f19-b796-89fcb9ac667c",
   "metadata": {},
   "outputs": [
    {
     "data": {
      "text/plain": [
       "<AxesSubplot:>"
      ]
     },
     "execution_count": 23,
     "metadata": {},
     "output_type": "execute_result"
    },
    {
     "data": {
      "image/png": "[encoded data removed]",
      "text/plain": [
       "<Figure size 432x288 with 1 Axes>"
      ]
     },
     "metadata": {
      "needs_background": "light"
     },
     "output_type": "display_data"
    }
   ],
   "source": [
    "er['probability_score'].hist()"
   ]
  },
  {
   "cell_type": "code",
   "execution_count": 24,
   "id": "ab31e209-50e6-49e6-b8e4-5d2d488611b7",
   "metadata": {},
   "outputs": [
    {
     "name": "stdout",
     "output_type": "stream",
     "text": [
      "probability_score\n",
      "0.359349    0.008130\n",
      "0.358691    0.008130\n",
      "0.227321    0.004065\n",
      "0.491140    0.004065\n",
      "0.466972    0.004065\n",
      "Name: probability_score, dtype: float64\n",
      "isFraud\n",
      "1    1.0\n",
      "Name: isFraud, dtype: float64\n",
      "TransactionAmt\n",
      "100.0    0.069106\n",
      "150.0    0.052846\n",
      "50.0     0.048780\n",
      "75.0     0.028455\n",
      "200.0    0.024390\n",
      "Name: TransactionAmt, dtype: float64\n",
      "ProductCD\n",
      "C    0.666667\n",
      "H    0.150407\n",
      "R    0.134146\n",
      "S    0.048780\n",
      "Name: ProductCD, dtype: float64\n",
      "card4\n",
      "visa                0.560976\n",
      "mastercard          0.402439\n",
      "discover            0.020325\n",
      "american express    0.016260\n",
      "Name: card4, dtype: float64\n",
      "card6\n",
      "debit     0.560976\n",
      "credit    0.439024\n",
      "Name: card6, dtype: float64\n",
      "addr1\n",
      "nan      0.638211\n",
      "299.0    0.056911\n",
      "330.0    0.036585\n",
      "325.0    0.024390\n",
      "264.0    0.016260\n",
      "Name: addr1, dtype: float64\n",
      "addr2\n",
      "nan     0.638211\n",
      "87.0    0.329268\n",
      "60.0    0.028455\n",
      "96.0    0.004065\n",
      "Name: addr2, dtype: float64\n",
      "P_emaildomain\n",
      "gmail.com        0.414634\n",
      "hotmail.com      0.247967\n",
      "anonymous.com    0.093496\n",
      "nan              0.077236\n",
      "yahoo.com        0.056911\n",
      "Name: P_emaildomain, dtype: float64\n",
      "R_emaildomain\n",
      "gmail.com        0.447154\n",
      "hotmail.com      0.247967\n",
      "anonymous.com    0.085366\n",
      "yahoo.com        0.052846\n",
      "nan              0.048780\n",
      "Name: R_emaildomain, dtype: float64\n",
      "DeviceType\n",
      "desktop    0.560976\n",
      "mobile     0.426829\n",
      "nan        0.012195\n",
      "Name: DeviceType, dtype: float64\n",
      "max_c\n",
      "1.0    0.597561\n",
      "2.0    0.117886\n",
      "3.0    0.089431\n",
      "4.0    0.069106\n",
      "5.0    0.032520\n",
      "Name: max_c, dtype: float64\n",
      "max_d\n",
      "0.000000      0.390244\n",
      "4.000000      0.012195\n",
      "2.000000      0.012195\n",
      "495.208344    0.008130\n",
      "0.916666      0.008130\n",
      "Name: max_d, dtype: float64\n",
      "multi_transaction_per_time\n",
      "0    0.979675\n",
      "1    0.020325\n",
      "Name: multi_transaction_per_time, dtype: float64\n",
      "browser_enc\n",
      "chrome     0.560976\n",
      "safari     0.268293\n",
      "firefox    0.081301\n",
      "edge       0.028455\n",
      "other      0.024390\n",
      "Name: browser_enc, dtype: float64\n",
      "device_info_v4\n",
      "other      0.361789\n",
      "windows    0.341463\n",
      "ios        0.142276\n",
      "samsung    0.093496\n",
      "lg         0.024390\n",
      "Name: device_info_v4, dtype: float64\n"
     ]
    }
   ],
   "source": [
    "for i in er:\n",
    "    print(i)\n",
    "    print(er[i].value_counts(normalize=True).head(5))"
   ]
  },
  {
   "cell_type": "code",
   "execution_count": null,
   "id": "6d4e393a-2e4c-446f-a666-2983240f2f7b",
   "metadata": {},
   "outputs": [],
   "source": []
  },
  {
   "cell_type": "code",
   "execution_count": null,
   "id": "f79e023b-1412-4a3b-b907-530123660e56",
   "metadata": {},
   "outputs": [],
   "source": []
  },
  {
   "cell_type": "code",
   "execution_count": null,
   "id": "269a0913-bfda-41a6-b4c2-c5cb9acd2580",
   "metadata": {},
   "outputs": [],
   "source": []
  },
  {
   "cell_type": "markdown",
   "id": "c38cf05a-2a26-4abc-bfe1-436317ca1aa9",
   "metadata": {},
   "source": [
    "# 4.0 Model Output"
   ]
  },
  {
   "cell_type": "code",
   "execution_count": 15,
   "id": "0426aa06-c968-4fc9-9533-1edf64743b84",
   "metadata": {},
   "outputs": [],
   "source": [
    "with open('../../data_lake/output/trained_model_v1.pkl','wb') as file:\n",
    "    pickle.dump(m.base_estimator, file)"
   ]
  },
  {
   "cell_type": "code",
   "execution_count": null,
   "id": "21e4e969-d853-44f1-8c04-cd6388a875d7",
   "metadata": {},
   "outputs": [],
   "source": []
  }
 ],
 "metadata": {
  "kernelspec": {
   "display_name": "dev",
   "language": "python",
   "name": "python3"
  },
  "language_info": {
   "codemirror_mode": {
    "name": "ipython",
    "version": 3
   },
   "file_extension": ".py",
   "mimetype": "text/x-python",
   "name": "python",
   "nbconvert_exporter": "python",
   "pygments_lexer": "ipython3",
   "version": "3.9.7"
  }
 },
 "nbformat": 4,
 "nbformat_minor": 5
}
