{
 "cells": [
  {
   "cell_type": "markdown",
   "id": "78b9ab1b-17b0-45a4-96ef-785cbeb8355f",
   "metadata": {},
   "source": [
    "clustering con predict"
   ]
  },
  {
   "cell_type": "code",
   "execution_count": 1,
   "id": "6d57c904-bd1c-47ef-b5d7-46d730fc9ee9",
   "metadata": {},
   "outputs": [],
   "source": [
    "import sys\n",
    "sys.path.append('../../')"
   ]
  },
  {
   "cell_type": "code",
   "execution_count": 2,
   "id": "4749bf27-a893-49c2-80c1-78b7601f0e16",
   "metadata": {},
   "outputs": [],
   "source": [
    "import pandas as pd\n",
    "import numpy as np\n",
    "import pickle\n",
    "import matplotlib.pyplot as plt\n",
    "\n",
    "from modules import machine_learning_utils as mlu\n",
    "\n",
    "pd.set_option(\"display.max_rows\",None)\n",
    "pd.set_option(\"display.max_columns\",None)"
   ]
  },
  {
   "cell_type": "markdown",
   "id": "3f4f1e2c-06fe-46f3-8f2f-f8f25c143da0",
   "metadata": {},
   "source": [
    "# 1.0 Data retrieval"
   ]
  },
  {
   "cell_type": "code",
   "execution_count": 3,
   "id": "65e43a7d-43ac-42b0-8296-fb0514f8ebd2",
   "metadata": {},
   "outputs": [],
   "source": [
    "df = pd.read_pickle(\"../../data_lake/output/train.pkl\")"
   ]
  },
  {
   "cell_type": "markdown",
   "id": "67801f17-00ca-4995-b791-b42570eb6ab7",
   "metadata": {},
   "source": [
    "# 2.0 Features Engineering"
   ]
  },
  {
   "cell_type": "code",
   "execution_count": 4,
   "id": "5695955c-8f39-4d9d-9201-5e84148e187b",
   "metadata": {},
   "outputs": [],
   "source": [
    "df = mlu.features_eng(df,'clustering')"
   ]
  },
  {
   "cell_type": "code",
   "execution_count": 5,
   "id": "e4bc0644-78fa-4dd8-bfcc-dbb838b41fd9",
   "metadata": {},
   "outputs": [],
   "source": [
    "cols = ['card1', 'card2', 'card3', 'card5', 'M4', 'id_21', 'id_22', 'id_23', 'id_24', 'id_25',\n",
    "       'id_26', 'id_27', 'id_28', 'id_29', 'id_30', 'id_32', 'id_33', 'id_34',\n",
    "       'id_35', 'id_36', 'id_37', 'id_38','num_transaction_per_time','addr1','P_emaildomain','R_emaildomain']"
   ]
  },
  {
   "cell_type": "code",
   "execution_count": 6,
   "id": "65b20810-ad8f-40bf-bb53-8c35aa71f0e3",
   "metadata": {},
   "outputs": [],
   "source": [
    "df = df.drop(columns=cols)"
   ]
  },
  {
   "cell_type": "code",
   "execution_count": 7,
   "id": "3e70dd1b-59be-4267-9c7a-8e55f2568a52",
   "metadata": {},
   "outputs": [],
   "source": [
    "df = df[df['isFraud']==0]\n",
    "df = df.drop(columns='isFraud')"
   ]
  },
  {
   "cell_type": "code",
   "execution_count": 8,
   "id": "81320968-b660-4d04-b79b-ec894f02aba7",
   "metadata": {},
   "outputs": [],
   "source": [
    "df = df.drop(columns=['addr2','multi_transaction_per_time'])"
   ]
  },
  {
   "cell_type": "code",
   "execution_count": 9,
   "id": "c93ac9bf-a84d-4f79-987d-1c9cae9fc2ad",
   "metadata": {},
   "outputs": [
    {
     "data": {
      "text/html": [
       "<div>\n",
       "<style scoped>\n",
       "    .dataframe tbody tr th:only-of-type {\n",
       "        vertical-align: middle;\n",
       "    }\n",
       "\n",
       "    .dataframe tbody tr th {\n",
       "        vertical-align: top;\n",
       "    }\n",
       "\n",
       "    .dataframe thead th {\n",
       "        text-align: right;\n",
       "    }\n",
       "</style>\n",
       "<table border=\"1\" class=\"dataframe\">\n",
       "  <thead>\n",
       "    <tr style=\"text-align: right;\">\n",
       "      <th></th>\n",
       "      <th>TransactionAmt</th>\n",
       "      <th>ProductCD</th>\n",
       "      <th>card4</th>\n",
       "      <th>card6</th>\n",
       "      <th>DeviceType</th>\n",
       "      <th>max_c</th>\n",
       "      <th>max_d</th>\n",
       "      <th>customer_id</th>\n",
       "      <th>browser_enc</th>\n",
       "      <th>device_info_v4</th>\n",
       "    </tr>\n",
       "  </thead>\n",
       "  <tbody>\n",
       "    <tr>\n",
       "      <th>40295</th>\n",
       "      <td>100.0</td>\n",
       "      <td>R</td>\n",
       "      <td>american express</td>\n",
       "      <td>credit</td>\n",
       "      <td>desktop</td>\n",
       "      <td>1.0</td>\n",
       "      <td>0.0</td>\n",
       "      <td>19104</td>\n",
       "      <td>safari</td>\n",
       "      <td>ios</td>\n",
       "    </tr>\n",
       "  </tbody>\n",
       "</table>\n",
       "</div>"
      ],
      "text/plain": [
       "       TransactionAmt ProductCD             card4   card6 DeviceType  max_c  \\\n",
       "40295           100.0         R  american express  credit    desktop    1.0   \n",
       "\n",
       "       max_d  customer_id browser_enc device_info_v4  \n",
       "40295    0.0        19104      safari            ios  "
      ]
     },
     "execution_count": 9,
     "metadata": {},
     "output_type": "execute_result"
    }
   ],
   "source": [
    "df.sample(1)"
   ]
  },
  {
   "cell_type": "code",
   "execution_count": 10,
   "id": "7a02a4a3-79ee-4224-ad80-3ebdbd833436",
   "metadata": {},
   "outputs": [],
   "source": [
    "numerical_cols = df.select_dtypes(include=['int64', 'float64']).columns\n",
    "categorical_cols = df.select_dtypes(include=['object', 'bool']).columns"
   ]
  },
  {
   "cell_type": "code",
   "execution_count": 11,
   "id": "667d0a22-7026-4bb3-9bf6-373be108ec80",
   "metadata": {},
   "outputs": [],
   "source": [
    "from sklearn.experimental import enable_iterative_imputer\n",
    "from sklearn.impute import IterativeImputer\n",
    "from sklearn.impute import SimpleImputer\n",
    "from sklearn.preprocessing import OrdinalEncoder\n",
    "from sklearn.preprocessing import MinMaxScaler\n",
    "\n",
    "imp_mean = IterativeImputer(random_state=0)\n",
    "imp_mean2 = SimpleImputer(strategy='constant', fill_value='missing',verbose=0,add_indicator=True)\n",
    "enc = OrdinalEncoder()\n",
    "scaler = MinMaxScaler()"
   ]
  },
  {
   "cell_type": "code",
   "execution_count": 12,
   "id": "26a0beab-8a99-43be-bfb7-26bd9bebbff8",
   "metadata": {},
   "outputs": [],
   "source": [
    "for i in df:\n",
    "    if i in numerical_cols:\n",
    "        if i != 'customer_id':\n",
    "            df[i] = imp_mean.fit_transform(X = df[i].values.reshape(-1,1))\n",
    "            # df[i] = np.log(df[i] +1)\n",
    "            df[i] = scaler.fit_transform(X = df[i].values.reshape(-1,1))"
   ]
  },
  {
   "cell_type": "code",
   "execution_count": 13,
   "id": "9094e165-36f3-4cde-a345-cad2d219e5d9",
   "metadata": {},
   "outputs": [],
   "source": [
    "for i in df:\n",
    "    if i in categorical_cols:\n",
    "        df[i] = df[i].astype(str)\n",
    "        df[i] = imp_mean2.fit_transform(X = df[i].values.reshape(-1,1))\n",
    "        # df[i] = enc.fit_transform(X = df[i].values.reshape(-1,1))"
   ]
  },
  {
   "cell_type": "code",
   "execution_count": 14,
   "id": "e11c715a-48bb-4874-92e4-1d85f6babae1",
   "metadata": {},
   "outputs": [
    {
     "data": {
      "text/html": [
       "<div>\n",
       "<style scoped>\n",
       "    .dataframe tbody tr th:only-of-type {\n",
       "        vertical-align: middle;\n",
       "    }\n",
       "\n",
       "    .dataframe tbody tr th {\n",
       "        vertical-align: top;\n",
       "    }\n",
       "\n",
       "    .dataframe thead th {\n",
       "        text-align: right;\n",
       "    }\n",
       "</style>\n",
       "<table border=\"1\" class=\"dataframe\">\n",
       "  <thead>\n",
       "    <tr style=\"text-align: right;\">\n",
       "      <th></th>\n",
       "      <th>TransactionAmt</th>\n",
       "      <th>ProductCD</th>\n",
       "      <th>card4</th>\n",
       "      <th>card6</th>\n",
       "      <th>DeviceType</th>\n",
       "      <th>max_c</th>\n",
       "      <th>max_d</th>\n",
       "      <th>customer_id</th>\n",
       "      <th>browser_enc</th>\n",
       "      <th>device_info_v4</th>\n",
       "    </tr>\n",
       "  </thead>\n",
       "  <tbody>\n",
       "    <tr>\n",
       "      <th>80604</th>\n",
       "      <td>0.066195</td>\n",
       "      <td>S</td>\n",
       "      <td>discover</td>\n",
       "      <td>credit</td>\n",
       "      <td>desktop</td>\n",
       "      <td>0.003023</td>\n",
       "      <td>0.302730</td>\n",
       "      <td>6946</td>\n",
       "      <td>firefox</td>\n",
       "      <td>windows</td>\n",
       "    </tr>\n",
       "    <tr>\n",
       "      <th>80106</th>\n",
       "      <td>0.035523</td>\n",
       "      <td>C</td>\n",
       "      <td>visa</td>\n",
       "      <td>debit</td>\n",
       "      <td>mobile</td>\n",
       "      <td>0.000889</td>\n",
       "      <td>0.001757</td>\n",
       "      <td>25967</td>\n",
       "      <td>safari</td>\n",
       "      <td>other</td>\n",
       "    </tr>\n",
       "    <tr>\n",
       "      <th>22523</th>\n",
       "      <td>0.066195</td>\n",
       "      <td>S</td>\n",
       "      <td>visa</td>\n",
       "      <td>credit</td>\n",
       "      <td>desktop</td>\n",
       "      <td>0.000000</td>\n",
       "      <td>0.503452</td>\n",
       "      <td>2243</td>\n",
       "      <td>edge</td>\n",
       "      <td>windows</td>\n",
       "    </tr>\n",
       "  </tbody>\n",
       "</table>\n",
       "</div>"
      ],
      "text/plain": [
       "       TransactionAmt ProductCD     card4   card6 DeviceType     max_c  \\\n",
       "80604        0.066195         S  discover  credit    desktop  0.003023   \n",
       "80106        0.035523         C      visa   debit     mobile  0.000889   \n",
       "22523        0.066195         S      visa  credit    desktop  0.000000   \n",
       "\n",
       "          max_d  customer_id browser_enc device_info_v4  \n",
       "80604  0.302730         6946     firefox        windows  \n",
       "80106  0.001757        25967      safari          other  \n",
       "22523  0.503452         2243        edge        windows  "
      ]
     },
     "execution_count": 14,
     "metadata": {},
     "output_type": "execute_result"
    }
   ],
   "source": [
    "df.sample(3)"
   ]
  },
  {
   "cell_type": "code",
   "execution_count": 15,
   "id": "40112713-f66b-46e0-8ab1-641eabbc3eb5",
   "metadata": {},
   "outputs": [],
   "source": [
    "df['product_enc'] = 999\n",
    "df['product_enc'] = df['product_enc'].mask(df['ProductCD']=='C',0)\n",
    "df['product_enc'] = df['product_enc'].mask(df['ProductCD']=='H',1)\n",
    "df['product_enc'] = df['product_enc'].mask(df['ProductCD']=='S',2)\n",
    "df['product_enc'] = df['product_enc'].mask(df['ProductCD']=='R',3)\n",
    "df = df.drop(columns='ProductCD')"
   ]
  },
  {
   "cell_type": "code",
   "execution_count": 16,
   "id": "fe905898-cb94-4cdb-a97d-367bb3ea93d9",
   "metadata": {},
   "outputs": [],
   "source": [
    "df['card4_enc'] = 999\n",
    "df['card4_enc'] = df['card4_enc'].mask(df['card4']=='visa',0)\n",
    "df['card4_enc'] = df['card4_enc'].mask(df['card4']=='mastercard',1)\n",
    "df['card4_enc'] = df['card4_enc'].mask(df['card4']=='american express',2)\n",
    "df['card4_enc'] = df['card4_enc'].mask(df['card4']=='discover',3)\n",
    "df = df.drop(columns='card4')"
   ]
  },
  {
   "cell_type": "code",
   "execution_count": 17,
   "id": "d0a5c7fa-153f-4123-83b5-0b5d6323de63",
   "metadata": {},
   "outputs": [],
   "source": [
    "df['card6_enc'] = 999\n",
    "df['card6_enc'] = df['card6_enc'].mask(df['card6']=='debit',0)\n",
    "df['card6_enc'] = df['card6_enc'].mask(df['card6']=='credit',1)\n",
    "df = df.drop(columns='card6')"
   ]
  },
  {
   "cell_type": "code",
   "execution_count": 18,
   "id": "808e816b-f3b5-4f8a-aab7-6ffa6c15b0dc",
   "metadata": {},
   "outputs": [],
   "source": [
    "df['DeviceType_enc'] = 999\n",
    "df['DeviceType_enc'] = df['DeviceType_enc'].mask(df['DeviceType']=='mobile',0)\n",
    "df['DeviceType_enc'] = df['DeviceType_enc'].mask(df['DeviceType']=='desktop',1)\n",
    "df['DeviceType_enc'] = df['DeviceType_enc'].mask(df['DeviceType']=='tablet',2)\n",
    "df = df.drop(columns='DeviceType')"
   ]
  },
  {
   "cell_type": "code",
   "execution_count": 19,
   "id": "ffd32b1a-ddeb-44bc-8931-ff96bd48d30f",
   "metadata": {},
   "outputs": [],
   "source": [
    "df['browser_enc2'] = 7\n",
    "df['browser_enc2'] = df['browser_enc2'].mask(df['browser_enc']=='chrome',0)\n",
    "df['browser_enc2'] = df['browser_enc2'].mask(df['browser_enc']=='safari',1)\n",
    "df['browser_enc2'] = df['browser_enc2'].mask(df['browser_enc']=='firefox',2)\n",
    "df['browser_enc2'] = df['browser_enc2'].mask(df['browser_enc']=='ie',3)\n",
    "df['browser_enc2'] = df['browser_enc2'].mask(df['browser_enc']=='android',4)\n",
    "df['browser_enc2'] = df['browser_enc2'].mask(df['browser_enc']=='edge',5)\n",
    "df['browser_enc2'] = df['browser_enc2'].mask(df['browser_enc']=='opera',6)\n",
    "df = df.drop(columns='browser_enc')"
   ]
  },
  {
   "cell_type": "code",
   "execution_count": 20,
   "id": "507542c2-6e37-496d-b637-0dacde6ada65",
   "metadata": {},
   "outputs": [],
   "source": [
    "df['device_info_v4_enc'] = 17\n",
    "df['device_info_v4_enc'] = df['device_info_v4_enc'].mask(df['device_info_v4']=='ios',0)\n",
    "df['device_info_v4_enc'] = df['device_info_v4_enc'].mask(df['device_info_v4']=='windows',1)\n",
    "df['device_info_v4_enc'] = df['device_info_v4_enc'].mask(df['device_info_v4']=='samsung',2)\n",
    "df['device_info_v4_enc'] = df['device_info_v4_enc'].mask(df['device_info_v4']=='hisense',3)\n",
    "df['device_info_v4_enc'] = df['device_info_v4_enc'].mask(df['device_info_v4']=='moto',4)\n",
    "df['device_info_v4_enc'] = df['device_info_v4_enc'].mask(df['device_info_v4']=='pixel',5)\n",
    "df['device_info_v4_enc'] = df['device_info_v4_enc'].mask(df['device_info_v4']=='lg',6)\n",
    "df['device_info_v4_enc'] = df['device_info_v4_enc'].mask(df['device_info_v4']=='blade',7)\n",
    "df['device_info_v4_enc'] = df['device_info_v4_enc'].mask(df['device_info_v4']=='huawei',8)\n",
    "df['device_info_v4_enc'] = df['device_info_v4_enc'].mask(df['device_info_v4']=='oneplus',9)\n",
    "df['device_info_v4_enc'] = df['device_info_v4_enc'].mask(df['device_info_v4']=='alcatel',10)\n",
    "df['device_info_v4_enc'] = df['device_info_v4_enc'].mask(df['device_info_v4']=='redmi',11)\n",
    "df['device_info_v4_enc'] = df['device_info_v4_enc'].mask(df['device_info_v4']=='lenovo',12)\n",
    "df['device_info_v4_enc'] = df['device_info_v4_enc'].mask(df['device_info_v4']=='asus',13)\n",
    "df['device_info_v4_enc'] = df['device_info_v4_enc'].mask(df['device_info_v4']=='linux',14)\n",
    "df['device_info_v4_enc'] = df['device_info_v4_enc'].mask(df['device_info_v4']=='android',15)\n",
    "df['device_info_v4_enc'] = df['device_info_v4_enc'].mask(df['device_info_v4']=='zte',16)\n",
    "df = df.drop(columns='device_info_v4')"
   ]
  },
  {
   "cell_type": "code",
   "execution_count": 21,
   "id": "71bbfbb1-24b5-4e03-9c4e-85aac7176d62",
   "metadata": {},
   "outputs": [],
   "source": [
    "df = df.set_index('customer_id')"
   ]
  },
  {
   "cell_type": "code",
   "execution_count": 22,
   "id": "c0d1a190-189e-4218-9e05-84760e2aa9f7",
   "metadata": {},
   "outputs": [
    {
     "data": {
      "text/html": [
       "<div>\n",
       "<style scoped>\n",
       "    .dataframe tbody tr th:only-of-type {\n",
       "        vertical-align: middle;\n",
       "    }\n",
       "\n",
       "    .dataframe tbody tr th {\n",
       "        vertical-align: top;\n",
       "    }\n",
       "\n",
       "    .dataframe thead th {\n",
       "        text-align: right;\n",
       "    }\n",
       "</style>\n",
       "<table border=\"1\" class=\"dataframe\">\n",
       "  <thead>\n",
       "    <tr style=\"text-align: right;\">\n",
       "      <th></th>\n",
       "      <th>TransactionAmt</th>\n",
       "      <th>max_c</th>\n",
       "      <th>max_d</th>\n",
       "      <th>product_enc</th>\n",
       "      <th>card4_enc</th>\n",
       "      <th>card6_enc</th>\n",
       "      <th>DeviceType_enc</th>\n",
       "      <th>browser_enc2</th>\n",
       "      <th>device_info_v4_enc</th>\n",
       "    </tr>\n",
       "    <tr>\n",
       "      <th>customer_id</th>\n",
       "      <th></th>\n",
       "      <th></th>\n",
       "      <th></th>\n",
       "      <th></th>\n",
       "      <th></th>\n",
       "      <th></th>\n",
       "      <th></th>\n",
       "      <th></th>\n",
       "      <th></th>\n",
       "    </tr>\n",
       "  </thead>\n",
       "  <tbody>\n",
       "    <tr>\n",
       "      <th>38041</th>\n",
       "      <td>0.099545</td>\n",
       "      <td>0.0</td>\n",
       "      <td>0.0000</td>\n",
       "      <td>3</td>\n",
       "      <td>2</td>\n",
       "      <td>1</td>\n",
       "      <td>0</td>\n",
       "      <td>0</td>\n",
       "      <td>2</td>\n",
       "    </tr>\n",
       "    <tr>\n",
       "      <th>23312</th>\n",
       "      <td>0.066195</td>\n",
       "      <td>0.0</td>\n",
       "      <td>0.0000</td>\n",
       "      <td>1</td>\n",
       "      <td>0</td>\n",
       "      <td>0</td>\n",
       "      <td>1</td>\n",
       "      <td>0</td>\n",
       "      <td>0</td>\n",
       "    </tr>\n",
       "    <tr>\n",
       "      <th>34259</th>\n",
       "      <td>0.132895</td>\n",
       "      <td>0.0</td>\n",
       "      <td>0.5076</td>\n",
       "      <td>3</td>\n",
       "      <td>2</td>\n",
       "      <td>1</td>\n",
       "      <td>1</td>\n",
       "      <td>3</td>\n",
       "      <td>1</td>\n",
       "    </tr>\n",
       "  </tbody>\n",
       "</table>\n",
       "</div>"
      ],
      "text/plain": [
       "             TransactionAmt  max_c   max_d  product_enc  card4_enc  card6_enc  \\\n",
       "customer_id                                                                     \n",
       "38041              0.099545    0.0  0.0000            3          2          1   \n",
       "23312              0.066195    0.0  0.0000            1          0          0   \n",
       "34259              0.132895    0.0  0.5076            3          2          1   \n",
       "\n",
       "             DeviceType_enc  browser_enc2  device_info_v4_enc  \n",
       "customer_id                                                    \n",
       "38041                     0             0                   2  \n",
       "23312                     1             0                   0  \n",
       "34259                     1             3                   1  "
      ]
     },
     "execution_count": 22,
     "metadata": {},
     "output_type": "execute_result"
    }
   ],
   "source": [
    "df.sample(3)"
   ]
  },
  {
   "cell_type": "markdown",
   "id": "33fed496-e96d-4db6-9275-6787a3118fad",
   "metadata": {},
   "source": [
    "# 3.0 Clustering --> Personas generation"
   ]
  },
  {
   "cell_type": "code",
   "execution_count": 23,
   "id": "65e1e000-cfcc-4e01-b91f-91c8ffb2969d",
   "metadata": {},
   "outputs": [],
   "source": [
    "from kmodes.kprototypes import KPrototypes\n",
    "from sklearn.metrics import silhouette_score\n",
    "\n",
    "import gower\n",
    "import heapq"
   ]
  },
  {
   "cell_type": "code",
   "execution_count": 24,
   "id": "2662a992-42e6-4efe-9d77-1f23b4098750",
   "metadata": {},
   "outputs": [],
   "source": [
    "# sil=[]\n",
    "# for num_clusters in list(range(2,30)):\n",
    "#     kproto = KPrototypes(n_clusters=num_clusters, verbose=0,random_state = 301,n_init=5)\n",
    "#     cluster_labels = kproto.fit_predict(df.values, categorical=[3,4,5,6,7,8])\n",
    "#     df['cluster_labels'] = cluster_labels\n",
    "#     dist = gower.gower_matrix(df.drop(columns=['cluster_labels']),cat_features = [False, False ,False, True, True,True,True,True,True])\n",
    "#     sil.append(silhouette_score(dist,labels=cluster_labels, metric='precomputed'))\n",
    "#     print('For cluster number: ',num_clusters,' the score is: ', sil[-1])"
   ]
  },
  {
   "cell_type": "code",
   "execution_count": 25,
   "id": "276ddd7e-f8cb-441b-8334-b22d469bcf35",
   "metadata": {},
   "outputs": [],
   "source": [
    "# df = df.drop(columns='cluster_labels')"
   ]
  },
  {
   "cell_type": "code",
   "execution_count": 26,
   "id": "2d96cc29-74ba-4f14-8ef6-d913bc821a1f",
   "metadata": {},
   "outputs": [],
   "source": [
    "kproto = KPrototypes(n_clusters=4, verbose=0,random_state = 301)\n",
    "cluster_labels = kproto.fit_predict(df.values, categorical=[3,4,5,6,7,8])"
   ]
  },
  {
   "cell_type": "code",
   "execution_count": 27,
   "id": "1347ace5-51e7-4058-be81-32d89c64b0a3",
   "metadata": {},
   "outputs": [],
   "source": [
    "centroid = []\n",
    "for j,i in enumerate(kproto.cluster_centroids_):\n",
    "    centroid.append(pd.DataFrame(i,index=['TransactionAmt','max_c', 'max_d','product_enc', 'card4_enc', 'card6_enc',\n",
    "       'DeviceType_enc', 'browser_enc2', 'device_info_v4_enc'],columns=[j]))\n",
    "centroid = pd.concat(centroid,axis=1)"
   ]
  },
  {
   "cell_type": "code",
   "execution_count": 28,
   "id": "502a9cea-5b1e-4f08-bf45-16275369ab7b",
   "metadata": {},
   "outputs": [
    {
     "data": {
      "text/html": [
       "<style type=\"text/css\">\n",
       "#T_5faa4_row0_col0 {\n",
       "  background-color: #c43b00;\n",
       "  color: #f1f1f1;\n",
       "}\n",
       "#T_5faa4_row0_col1, #T_5faa4_row1_col2, #T_5faa4_row2_col1, #T_5faa4_row3_col1, #T_5faa4_row5_col0, #T_5faa4_row5_col3, #T_5faa4_row6_col0, #T_5faa4_row6_col1, #T_5faa4_row7_col3, #T_5faa4_row8_col2 {\n",
       "  background-color: #00ff00;\n",
       "  color: #000000;\n",
       "}\n",
       "#T_5faa4_row0_col2, #T_5faa4_row1_col3, #T_5faa4_row2_col3, #T_5faa4_row3_col0, #T_5faa4_row3_col2, #T_5faa4_row4_col0, #T_5faa4_row4_col1, #T_5faa4_row4_col2, #T_5faa4_row4_col3, #T_5faa4_row5_col1, #T_5faa4_row5_col2, #T_5faa4_row6_col2, #T_5faa4_row6_col3, #T_5faa4_row7_col0, #T_5faa4_row7_col1, #T_5faa4_row7_col2, #T_5faa4_row8_col3 {\n",
       "  background-color: #0000ff;\n",
       "  color: #f1f1f1;\n",
       "}\n",
       "#T_5faa4_row0_col3 {\n",
       "  background-color: #8c7300;\n",
       "  color: #f1f1f1;\n",
       "}\n",
       "#T_5faa4_row1_col0 {\n",
       "  background-color: #f80700;\n",
       "  color: #f1f1f1;\n",
       "}\n",
       "#T_5faa4_row1_col1 {\n",
       "  background-color: #d60029;\n",
       "  color: #f1f1f1;\n",
       "}\n",
       "#T_5faa4_row2_col0 {\n",
       "  background-color: #3600c9;\n",
       "  color: #f1f1f1;\n",
       "}\n",
       "#T_5faa4_row2_col2 {\n",
       "  background-color: #4600b9;\n",
       "  color: #f1f1f1;\n",
       "}\n",
       "#T_5faa4_row3_col3 {\n",
       "  background-color: #aa0055;\n",
       "  color: #f1f1f1;\n",
       "}\n",
       "#T_5faa4_row8_col0, #T_5faa4_row8_col1 {\n",
       "  background-color: #1e00e1;\n",
       "  color: #f1f1f1;\n",
       "}\n",
       "</style>\n",
       "<table id=\"T_5faa4_\">\n",
       "  <thead>\n",
       "    <tr>\n",
       "      <th class=\"blank level0\" >&nbsp;</th>\n",
       "      <th class=\"col_heading level0 col0\" >0</th>\n",
       "      <th class=\"col_heading level0 col1\" >1</th>\n",
       "      <th class=\"col_heading level0 col2\" >2</th>\n",
       "      <th class=\"col_heading level0 col3\" >3</th>\n",
       "    </tr>\n",
       "  </thead>\n",
       "  <tbody>\n",
       "    <tr>\n",
       "      <th id=\"T_5faa4_level0_row0\" class=\"row_heading level0 row0\" >TransactionAmt</th>\n",
       "      <td id=\"T_5faa4_row0_col0\" class=\"data row0 col0\" >0.060090</td>\n",
       "      <td id=\"T_5faa4_row0_col1\" class=\"data row0 col1\" >0.080473</td>\n",
       "      <td id=\"T_5faa4_row0_col2\" class=\"data row0 col2\" >0.027653</td>\n",
       "      <td id=\"T_5faa4_row0_col3\" class=\"data row0 col3\" >0.066001</td>\n",
       "    </tr>\n",
       "    <tr>\n",
       "      <th id=\"T_5faa4_level0_row1\" class=\"row_heading level0 row1\" >max_c</th>\n",
       "      <td id=\"T_5faa4_row1_col0\" class=\"data row1 col0\" >0.006742</td>\n",
       "      <td id=\"T_5faa4_row1_col1\" class=\"data row1 col1\" >0.005659</td>\n",
       "      <td id=\"T_5faa4_row1_col2\" class=\"data row1 col2\" >0.012320</td>\n",
       "      <td id=\"T_5faa4_row1_col3\" class=\"data row1 col3\" >0.000806</td>\n",
       "    </tr>\n",
       "    <tr>\n",
       "      <th id=\"T_5faa4_level0_row2\" class=\"row_heading level0 row2\" >max_d</th>\n",
       "      <td id=\"T_5faa4_row2_col0\" class=\"data row2 col0\" >0.048834</td>\n",
       "      <td id=\"T_5faa4_row2_col1\" class=\"data row2 col1\" >0.325682</td>\n",
       "      <td id=\"T_5faa4_row2_col2\" class=\"data row2 col2\" >0.059076</td>\n",
       "      <td id=\"T_5faa4_row2_col3\" class=\"data row2 col3\" >0.015510</td>\n",
       "    </tr>\n",
       "    <tr>\n",
       "      <th id=\"T_5faa4_level0_row3\" class=\"row_heading level0 row3\" >product_enc</th>\n",
       "      <td id=\"T_5faa4_row3_col0\" class=\"data row3 col0\" >0.000000</td>\n",
       "      <td id=\"T_5faa4_row3_col1\" class=\"data row3 col1\" >3.000000</td>\n",
       "      <td id=\"T_5faa4_row3_col2\" class=\"data row3 col2\" >0.000000</td>\n",
       "      <td id=\"T_5faa4_row3_col3\" class=\"data row3 col3\" >1.000000</td>\n",
       "    </tr>\n",
       "    <tr>\n",
       "      <th id=\"T_5faa4_level0_row4\" class=\"row_heading level0 row4\" >card4_enc</th>\n",
       "      <td id=\"T_5faa4_row4_col0\" class=\"data row4 col0\" >0.000000</td>\n",
       "      <td id=\"T_5faa4_row4_col1\" class=\"data row4 col1\" >0.000000</td>\n",
       "      <td id=\"T_5faa4_row4_col2\" class=\"data row4 col2\" >0.000000</td>\n",
       "      <td id=\"T_5faa4_row4_col3\" class=\"data row4 col3\" >0.000000</td>\n",
       "    </tr>\n",
       "    <tr>\n",
       "      <th id=\"T_5faa4_level0_row5\" class=\"row_heading level0 row5\" >card6_enc</th>\n",
       "      <td id=\"T_5faa4_row5_col0\" class=\"data row5 col0\" >1.000000</td>\n",
       "      <td id=\"T_5faa4_row5_col1\" class=\"data row5 col1\" >0.000000</td>\n",
       "      <td id=\"T_5faa4_row5_col2\" class=\"data row5 col2\" >0.000000</td>\n",
       "      <td id=\"T_5faa4_row5_col3\" class=\"data row5 col3\" >1.000000</td>\n",
       "    </tr>\n",
       "    <tr>\n",
       "      <th id=\"T_5faa4_level0_row6\" class=\"row_heading level0 row6\" >DeviceType_enc</th>\n",
       "      <td id=\"T_5faa4_row6_col0\" class=\"data row6 col0\" >1.000000</td>\n",
       "      <td id=\"T_5faa4_row6_col1\" class=\"data row6 col1\" >1.000000</td>\n",
       "      <td id=\"T_5faa4_row6_col2\" class=\"data row6 col2\" >0.000000</td>\n",
       "      <td id=\"T_5faa4_row6_col3\" class=\"data row6 col3\" >0.000000</td>\n",
       "    </tr>\n",
       "    <tr>\n",
       "      <th id=\"T_5faa4_level0_row7\" class=\"row_heading level0 row7\" >browser_enc2</th>\n",
       "      <td id=\"T_5faa4_row7_col0\" class=\"data row7 col0\" >0.000000</td>\n",
       "      <td id=\"T_5faa4_row7_col1\" class=\"data row7 col1\" >0.000000</td>\n",
       "      <td id=\"T_5faa4_row7_col2\" class=\"data row7 col2\" >0.000000</td>\n",
       "      <td id=\"T_5faa4_row7_col3\" class=\"data row7 col3\" >1.000000</td>\n",
       "    </tr>\n",
       "    <tr>\n",
       "      <th id=\"T_5faa4_level0_row8\" class=\"row_heading level0 row8\" >device_info_v4_enc</th>\n",
       "      <td id=\"T_5faa4_row8_col0\" class=\"data row8 col0\" >1.000000</td>\n",
       "      <td id=\"T_5faa4_row8_col1\" class=\"data row8 col1\" >1.000000</td>\n",
       "      <td id=\"T_5faa4_row8_col2\" class=\"data row8 col2\" >17.000000</td>\n",
       "      <td id=\"T_5faa4_row8_col3\" class=\"data row8 col3\" >0.000000</td>\n",
       "    </tr>\n",
       "  </tbody>\n",
       "</table>\n"
      ],
      "text/plain": [
       "<pandas.io.formats.style.Styler at 0x7fc485ba4100>"
      ]
     },
     "execution_count": 28,
     "metadata": {},
     "output_type": "execute_result"
    }
   ],
   "source": [
    "centroid.style.background_gradient(cmap='brg',axis=1)"
   ]
  },
  {
   "cell_type": "code",
   "execution_count": 29,
   "id": "be1bf30d-8d2c-4e49-9698-6957b4cfa9af",
   "metadata": {},
   "outputs": [],
   "source": [
    "df['cluster_labels'] = cluster_labels"
   ]
  },
  {
   "cell_type": "code",
   "execution_count": 30,
   "id": "1383e78f-51df-4195-b94f-e86bf8051073",
   "metadata": {},
   "outputs": [
    {
     "data": {
      "text/html": [
       "<div>\n",
       "<style scoped>\n",
       "    .dataframe tbody tr th:only-of-type {\n",
       "        vertical-align: middle;\n",
       "    }\n",
       "\n",
       "    .dataframe tbody tr th {\n",
       "        vertical-align: top;\n",
       "    }\n",
       "\n",
       "    .dataframe thead th {\n",
       "        text-align: right;\n",
       "    }\n",
       "</style>\n",
       "<table border=\"1\" class=\"dataframe\">\n",
       "  <thead>\n",
       "    <tr style=\"text-align: right;\">\n",
       "      <th></th>\n",
       "      <th>TransactionAmt</th>\n",
       "      <th>max_c</th>\n",
       "      <th>max_d</th>\n",
       "      <th>product_enc</th>\n",
       "      <th>card4_enc</th>\n",
       "      <th>card6_enc</th>\n",
       "      <th>DeviceType_enc</th>\n",
       "      <th>browser_enc2</th>\n",
       "      <th>device_info_v4_enc</th>\n",
       "      <th>cluster_labels</th>\n",
       "    </tr>\n",
       "    <tr>\n",
       "      <th>customer_id</th>\n",
       "      <th></th>\n",
       "      <th></th>\n",
       "      <th></th>\n",
       "      <th></th>\n",
       "      <th></th>\n",
       "      <th></th>\n",
       "      <th></th>\n",
       "      <th></th>\n",
       "      <th></th>\n",
       "      <th></th>\n",
       "    </tr>\n",
       "  </thead>\n",
       "  <tbody>\n",
       "    <tr>\n",
       "      <th>116</th>\n",
       "      <td>0.018563</td>\n",
       "      <td>0.0</td>\n",
       "      <td>0.0</td>\n",
       "      <td>0</td>\n",
       "      <td>0</td>\n",
       "      <td>0</td>\n",
       "      <td>0</td>\n",
       "      <td>0</td>\n",
       "      <td>17</td>\n",
       "      <td>2</td>\n",
       "    </tr>\n",
       "  </tbody>\n",
       "</table>\n",
       "</div>"
      ],
      "text/plain": [
       "             TransactionAmt  max_c  max_d  product_enc  card4_enc  card6_enc  \\\n",
       "customer_id                                                                    \n",
       "116                0.018563    0.0    0.0            0          0          0   \n",
       "\n",
       "             DeviceType_enc  browser_enc2  device_info_v4_enc  cluster_labels  \n",
       "customer_id                                                                    \n",
       "116                       0             0                  17               2  "
      ]
     },
     "execution_count": 30,
     "metadata": {},
     "output_type": "execute_result"
    }
   ],
   "source": [
    "df.head(1)"
   ]
  },
  {
   "cell_type": "code",
   "execution_count": 31,
   "id": "e3848023-22f9-4981-9ffd-d5ded9a67f2e",
   "metadata": {},
   "outputs": [
    {
     "data": {
      "text/plain": [
       "0    2969\n",
       "2    2109\n",
       "3    1918\n",
       "1    1031\n",
       "Name: cluster_labels, dtype: int64"
      ]
     },
     "execution_count": 31,
     "metadata": {},
     "output_type": "execute_result"
    }
   ],
   "source": [
    "df['cluster_labels'].value_counts()"
   ]
  },
  {
   "cell_type": "markdown",
   "id": "10a9c515-8e92-418a-a8ab-2fec5afdbf04",
   "metadata": {},
   "source": [
    "# 4.0 Evaluation"
   ]
  },
  {
   "cell_type": "code",
   "execution_count": 32,
   "id": "97370bf4-c5ac-4640-b707-6909dce26ee5",
   "metadata": {},
   "outputs": [],
   "source": [
    "df['cluster_labels_pred'] = kproto.predict(X=df[['TransactionAmt', 'max_c', 'max_d',\n",
    "       'product_enc', 'card4_enc', 'card6_enc', 'DeviceType_enc',\n",
    "       'browser_enc2', 'device_info_v4_enc']],categorical=[3,4,5,6,7,8])"
   ]
  },
  {
   "cell_type": "code",
   "execution_count": 33,
   "id": "72a3b3a1-4983-42fd-ac2b-e683037367b6",
   "metadata": {},
   "outputs": [
    {
     "data": {
      "text/html": [
       "<div>\n",
       "<style scoped>\n",
       "    .dataframe tbody tr th:only-of-type {\n",
       "        vertical-align: middle;\n",
       "    }\n",
       "\n",
       "    .dataframe tbody tr th {\n",
       "        vertical-align: top;\n",
       "    }\n",
       "\n",
       "    .dataframe thead th {\n",
       "        text-align: right;\n",
       "    }\n",
       "</style>\n",
       "<table border=\"1\" class=\"dataframe\">\n",
       "  <thead>\n",
       "    <tr style=\"text-align: right;\">\n",
       "      <th></th>\n",
       "      <th>TransactionAmt</th>\n",
       "      <th>max_c</th>\n",
       "      <th>max_d</th>\n",
       "      <th>product_enc</th>\n",
       "      <th>card4_enc</th>\n",
       "      <th>card6_enc</th>\n",
       "      <th>DeviceType_enc</th>\n",
       "      <th>browser_enc2</th>\n",
       "      <th>device_info_v4_enc</th>\n",
       "      <th>cluster_labels</th>\n",
       "      <th>cluster_labels_pred</th>\n",
       "    </tr>\n",
       "    <tr>\n",
       "      <th>customer_id</th>\n",
       "      <th></th>\n",
       "      <th></th>\n",
       "      <th></th>\n",
       "      <th></th>\n",
       "      <th></th>\n",
       "      <th></th>\n",
       "      <th></th>\n",
       "      <th></th>\n",
       "      <th></th>\n",
       "      <th></th>\n",
       "      <th></th>\n",
       "    </tr>\n",
       "  </thead>\n",
       "  <tbody>\n",
       "    <tr>\n",
       "      <th>2510</th>\n",
       "      <td>0.066195</td>\n",
       "      <td>0.000000</td>\n",
       "      <td>0.000000</td>\n",
       "      <td>1</td>\n",
       "      <td>0</td>\n",
       "      <td>1</td>\n",
       "      <td>0</td>\n",
       "      <td>1</td>\n",
       "      <td>0</td>\n",
       "      <td>3</td>\n",
       "      <td>3</td>\n",
       "    </tr>\n",
       "    <tr>\n",
       "      <th>18886</th>\n",
       "      <td>0.132895</td>\n",
       "      <td>0.000711</td>\n",
       "      <td>0.363506</td>\n",
       "      <td>3</td>\n",
       "      <td>0</td>\n",
       "      <td>0</td>\n",
       "      <td>1</td>\n",
       "      <td>3</td>\n",
       "      <td>1</td>\n",
       "      <td>1</td>\n",
       "      <td>1</td>\n",
       "    </tr>\n",
       "    <tr>\n",
       "      <th>206</th>\n",
       "      <td>0.032845</td>\n",
       "      <td>0.000000</td>\n",
       "      <td>0.000000</td>\n",
       "      <td>1</td>\n",
       "      <td>0</td>\n",
       "      <td>1</td>\n",
       "      <td>0</td>\n",
       "      <td>0</td>\n",
       "      <td>0</td>\n",
       "      <td>3</td>\n",
       "      <td>3</td>\n",
       "    </tr>\n",
       "    <tr>\n",
       "      <th>343</th>\n",
       "      <td>0.004005</td>\n",
       "      <td>0.000534</td>\n",
       "      <td>0.016395</td>\n",
       "      <td>0</td>\n",
       "      <td>1</td>\n",
       "      <td>1</td>\n",
       "      <td>0</td>\n",
       "      <td>1</td>\n",
       "      <td>17</td>\n",
       "      <td>2</td>\n",
       "      <td>2</td>\n",
       "    </tr>\n",
       "    <tr>\n",
       "      <th>8788</th>\n",
       "      <td>0.066195</td>\n",
       "      <td>0.000000</td>\n",
       "      <td>0.000000</td>\n",
       "      <td>3</td>\n",
       "      <td>2</td>\n",
       "      <td>1</td>\n",
       "      <td>0</td>\n",
       "      <td>1</td>\n",
       "      <td>0</td>\n",
       "      <td>3</td>\n",
       "      <td>3</td>\n",
       "    </tr>\n",
       "  </tbody>\n",
       "</table>\n",
       "</div>"
      ],
      "text/plain": [
       "             TransactionAmt     max_c     max_d  product_enc  card4_enc  \\\n",
       "customer_id                                                               \n",
       "2510               0.066195  0.000000  0.000000            1          0   \n",
       "18886              0.132895  0.000711  0.363506            3          0   \n",
       "206                0.032845  0.000000  0.000000            1          0   \n",
       "343                0.004005  0.000534  0.016395            0          1   \n",
       "8788               0.066195  0.000000  0.000000            3          2   \n",
       "\n",
       "             card6_enc  DeviceType_enc  browser_enc2  device_info_v4_enc  \\\n",
       "customer_id                                                                \n",
       "2510                 1               0             1                   0   \n",
       "18886                0               1             3                   1   \n",
       "206                  1               0             0                   0   \n",
       "343                  1               0             1                  17   \n",
       "8788                 1               0             1                   0   \n",
       "\n",
       "             cluster_labels  cluster_labels_pred  \n",
       "customer_id                                       \n",
       "2510                      3                    3  \n",
       "18886                     1                    1  \n",
       "206                       3                    3  \n",
       "343                       2                    2  \n",
       "8788                      3                    3  "
      ]
     },
     "execution_count": 33,
     "metadata": {},
     "output_type": "execute_result"
    }
   ],
   "source": [
    "df.sample(5)"
   ]
  },
  {
   "cell_type": "code",
   "execution_count": 35,
   "id": "2000b455-e55b-4313-8ffb-7269ab30eec3",
   "metadata": {},
   "outputs": [
    {
     "data": {
      "text/html": [
       "<div>\n",
       "<style scoped>\n",
       "    .dataframe tbody tr th:only-of-type {\n",
       "        vertical-align: middle;\n",
       "    }\n",
       "\n",
       "    .dataframe tbody tr th {\n",
       "        vertical-align: top;\n",
       "    }\n",
       "\n",
       "    .dataframe thead th {\n",
       "        text-align: right;\n",
       "    }\n",
       "</style>\n",
       "<table border=\"1\" class=\"dataframe\">\n",
       "  <thead>\n",
       "    <tr style=\"text-align: right;\">\n",
       "      <th></th>\n",
       "      <th>TransactionAmt</th>\n",
       "      <th>max_c</th>\n",
       "      <th>max_d</th>\n",
       "      <th>product_enc</th>\n",
       "      <th>card4_enc</th>\n",
       "      <th>card6_enc</th>\n",
       "      <th>DeviceType_enc</th>\n",
       "      <th>browser_enc2</th>\n",
       "      <th>device_info_v4_enc</th>\n",
       "      <th>cluster_labels</th>\n",
       "      <th>cluster_labels_pred</th>\n",
       "    </tr>\n",
       "    <tr>\n",
       "      <th>customer_id</th>\n",
       "      <th></th>\n",
       "      <th></th>\n",
       "      <th></th>\n",
       "      <th></th>\n",
       "      <th></th>\n",
       "      <th></th>\n",
       "      <th></th>\n",
       "      <th></th>\n",
       "      <th></th>\n",
       "      <th></th>\n",
       "      <th></th>\n",
       "    </tr>\n",
       "  </thead>\n",
       "  <tbody>\n",
       "  </tbody>\n",
       "</table>\n",
       "</div>"
      ],
      "text/plain": [
       "Empty DataFrame\n",
       "Columns: [TransactionAmt, max_c, max_d, product_enc, card4_enc, card6_enc, DeviceType_enc, browser_enc2, device_info_v4_enc, cluster_labels, cluster_labels_pred]\n",
       "Index: []"
      ]
     },
     "execution_count": 35,
     "metadata": {},
     "output_type": "execute_result"
    }
   ],
   "source": [
    "df[df['cluster_labels'] != df['cluster_labels_pred']]"
   ]
  },
  {
   "cell_type": "code",
   "execution_count": null,
   "id": "8f659dad-2037-4f50-b96b-eef36fa5ad17",
   "metadata": {},
   "outputs": [],
   "source": []
  },
  {
   "cell_type": "code",
   "execution_count": null,
   "id": "f7a6a161-d98e-478a-8a9d-5b9d2f3ff193",
   "metadata": {},
   "outputs": [],
   "source": []
  },
  {
   "cell_type": "code",
   "execution_count": null,
   "id": "d3e3be06-49e5-4aae-9311-4b3fae9c7f8b",
   "metadata": {},
   "outputs": [],
   "source": []
  },
  {
   "cell_type": "markdown",
   "id": "c38cf05a-2a26-4abc-bfe1-436317ca1aa9",
   "metadata": {},
   "source": [
    "# 6.0 Model Output"
   ]
  },
  {
   "cell_type": "code",
   "execution_count": 26,
   "id": "0426aa06-c968-4fc9-9533-1edf64743b84",
   "metadata": {},
   "outputs": [],
   "source": [
    "with open('../../data_lake/output/trained_model_v1.pkl','wb') as file:\n",
    "    pickle.dump(m.base_estimator, file)"
   ]
  },
  {
   "cell_type": "code",
   "execution_count": 27,
   "id": "21e4e969-d853-44f1-8c04-cd6388a875d7",
   "metadata": {},
   "outputs": [],
   "source": [
    "with open('../../data_lake/output/log_scaler_bi.pkl','wb') as file:\n",
    "    pickle.dump(scaler, file)"
   ]
  },
  {
   "cell_type": "code",
   "execution_count": null,
   "id": "c6292b56-2e74-48ca-b564-731f7b895956",
   "metadata": {},
   "outputs": [],
   "source": []
  }
 ],
 "metadata": {
  "kernelspec": {
   "display_name": "dev",
   "language": "python",
   "name": "python3"
  },
  "language_info": {
   "codemirror_mode": {
    "name": "ipython",
    "version": 3
   },
   "file_extension": ".py",
   "mimetype": "text/x-python",
   "name": "python",
   "nbconvert_exporter": "python",
   "pygments_lexer": "ipython3",
   "version": "3.9.7"
  }
 },
 "nbformat": 4,
 "nbformat_minor": 5
}
