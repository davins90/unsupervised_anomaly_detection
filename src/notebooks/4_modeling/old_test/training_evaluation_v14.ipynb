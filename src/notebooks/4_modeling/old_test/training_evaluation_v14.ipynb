{
 "cells": [
  {
   "cell_type": "markdown",
   "id": "78b9ab1b-17b0-45a4-96ef-785cbeb8355f",
   "metadata": {},
   "source": [
    "test one class classifier"
   ]
  },
  {
   "cell_type": "code",
   "execution_count": 1,
   "id": "6d57c904-bd1c-47ef-b5d7-46d730fc9ee9",
   "metadata": {},
   "outputs": [],
   "source": [
    "import sys\n",
    "sys.path.append('../../')"
   ]
  },
  {
   "cell_type": "code",
   "execution_count": 2,
   "id": "4749bf27-a893-49c2-80c1-78b7601f0e16",
   "metadata": {},
   "outputs": [],
   "source": [
    "import pandas as pd\n",
    "import numpy as np\n",
    "import pickle\n",
    "import matplotlib.pyplot as plt\n",
    "\n",
    "from modules import machine_learning_utils as mlu\n",
    "\n",
    "pd.set_option(\"display.max_rows\",None)\n",
    "pd.set_option(\"display.max_columns\",None)"
   ]
  },
  {
   "cell_type": "markdown",
   "id": "3f4f1e2c-06fe-46f3-8f2f-f8f25c143da0",
   "metadata": {},
   "source": [
    "# 1.0 Data retrieval"
   ]
  },
  {
   "cell_type": "code",
   "execution_count": 3,
   "id": "ec6dcbae-669d-425b-8324-e7bb0ba0b538",
   "metadata": {},
   "outputs": [],
   "source": [
    "df = pd.read_pickle(\"../../data_lake/output/train_eng.pkl\")\n",
    "val = pd.read_pickle(\"../../data_lake/output/val_eng.pkl\")"
   ]
  },
  {
   "cell_type": "code",
   "execution_count": 4,
   "id": "e4bc0644-78fa-4dd8-bfcc-dbb838b41fd9",
   "metadata": {},
   "outputs": [],
   "source": [
    "cols = ['M4', 'id_21', 'id_22', 'id_23', 'id_24', 'id_25',\n",
    "       'id_26', 'id_27', 'id_28', 'id_29', 'id_30', 'id_32', 'id_33', 'id_34',\n",
    "       'id_35', 'id_36', 'id_37', 'id_38','num_transaction_per_time']"
   ]
  },
  {
   "cell_type": "code",
   "execution_count": 5,
   "id": "65b20810-ad8f-40bf-bb53-8c35aa71f0e3",
   "metadata": {},
   "outputs": [],
   "source": [
    "df = df.drop(columns=cols)"
   ]
  },
  {
   "cell_type": "code",
   "execution_count": 6,
   "id": "1d66b553-32f2-4648-a272-0a192ae084ee",
   "metadata": {},
   "outputs": [],
   "source": [
    "val = val.drop(columns=cols)"
   ]
  },
  {
   "cell_type": "markdown",
   "id": "4648226a-b47c-4365-b0cd-3b2928efcc0d",
   "metadata": {},
   "source": [
    "test one class "
   ]
  },
  {
   "cell_type": "code",
   "execution_count": 7,
   "id": "31afe22f-263b-413b-b8de-86578d49a785",
   "metadata": {},
   "outputs": [],
   "source": [
    "from sklearn.svm import OneClassSVM\n",
    "from sklearn.ensemble import IsolationForest\n",
    "from sklearn.preprocessing import OrdinalEncoder\n",
    "from sklearn.preprocessing import LabelEncoder\n",
    "from sklearn.pipeline import Pipeline\n",
    "from sklearn.experimental import enable_iterative_imputer\n",
    "from sklearn.impute import IterativeImputer\n",
    "from sklearn.preprocessing import StandardScaler\n",
    "from sklearn.preprocessing import LabelEncoder\n",
    "from sklearn.preprocessing import FunctionTransformer\n",
    "from sklearn.ensemble import ExtraTreesRegressor\n",
    "from sklearn.impute import SimpleImputer\n",
    "from sklearn.compose import ColumnTransformer\n",
    "from sklearn.model_selection import GridSearchCV\n",
    "from sklearn import metrics\n",
    "from sklearn.metrics import *\n",
    "\n",
    "imp_mean = IterativeImputer(random_state=0)\n",
    "imp_mean2 = SimpleImputer(strategy='constant', fill_value='missing',verbose=0,add_indicator=True)\n",
    "enc = OrdinalEncoder()\n",
    "scaler = StandardScaler()"
   ]
  },
  {
   "cell_type": "code",
   "execution_count": 8,
   "id": "e5d12309-a765-4983-a237-045de0bd5f38",
   "metadata": {},
   "outputs": [],
   "source": [
    "# model = OneClassSVM(kernel='sigmoid',gamma='auto',nu=0.07)\n",
    "model = IsolationForest(contamination=0,random_state=0,n_estimators=500,warm_start=True,max_features=2)"
   ]
  },
  {
   "cell_type": "code",
   "execution_count": 9,
   "id": "adb6ee23-4093-4c91-9fe8-84ce87edeff4",
   "metadata": {},
   "outputs": [],
   "source": [
    "X_train = df[df['isFraud']==1]"
   ]
  },
  {
   "cell_type": "code",
   "execution_count": 10,
   "id": "41110bc2-5c49-4d0f-952c-c7e18d8a2e75",
   "metadata": {},
   "outputs": [],
   "source": [
    "X_train = X_train.drop(columns='isFraud')"
   ]
  },
  {
   "cell_type": "code",
   "execution_count": 11,
   "id": "51d64e2d-9055-4c2e-996a-383416743b93",
   "metadata": {},
   "outputs": [],
   "source": [
    "numerical_cols = X_train.select_dtypes(include=['int64', 'float64']).columns\n",
    "categorical_cols = X_train.select_dtypes(include=['object', 'bool']).columns"
   ]
  },
  {
   "cell_type": "code",
   "execution_count": 12,
   "id": "b90de0bc-2144-44d1-ae02-22cb9f140657",
   "metadata": {},
   "outputs": [],
   "source": [
    "for i in val:\n",
    "    if i in numerical_cols:\n",
    "        val[i] = imp_mean.fit_transform(X = val[i].values.reshape(-1,1))\n",
    "        val[i] = np.log(val[i] +1)\n",
    "        # val[i] = scaler.fit_transform(X = val[i].values.reshape(-1,1))"
   ]
  },
  {
   "cell_type": "code",
   "execution_count": 13,
   "id": "8c41c6d3-0c8b-4e41-9596-a126abb289bf",
   "metadata": {},
   "outputs": [],
   "source": [
    "for i in X_train:\n",
    "    if i in numerical_cols:\n",
    "        X_train[i] = imp_mean.fit_transform(X = X_train[i].values.reshape(-1,1))\n",
    "        X_train[i] = np.log(X_train[i] +1)\n",
    "        X_train[i] = scaler.fit_transform(X = X_train[i].values.reshape(-1,1))"
   ]
  },
  {
   "cell_type": "code",
   "execution_count": 14,
   "id": "5252d23c-84ee-4c28-92cc-74143ea3b081",
   "metadata": {},
   "outputs": [],
   "source": [
    "X_train['addr1'] = X_train['addr1'].astype(str)\n",
    "X_train['addr2'] = X_train['addr2'].astype(str)\n",
    "\n",
    "val['addr1'] = val['addr1'].astype(str)\n",
    "val['addr2'] = val['addr2'].astype(str)"
   ]
  },
  {
   "cell_type": "code",
   "execution_count": 15,
   "id": "7e861e90-e1fa-4ac4-b9d1-294bf107dbec",
   "metadata": {},
   "outputs": [],
   "source": [
    "X_train['card2'] = X_train['card2'].astype(str)\n",
    "X_train['card2'] = X_train['card2'].astype(str)\n",
    "\n",
    "val['card2'] = val['card2'].astype(str)\n",
    "val['card2'] = val['card2'].astype(str)"
   ]
  },
  {
   "cell_type": "code",
   "execution_count": 16,
   "id": "0e225dc3-1b82-4409-b8f9-a4acd1d36ed7",
   "metadata": {},
   "outputs": [],
   "source": [
    "X_train['card3'] = X_train['card3'].astype(str)\n",
    "X_train['card3'] = X_train['card3'].astype(str)\n",
    "\n",
    "val['card3'] = val['card3'].astype(str)\n",
    "val['card3'] = val['card3'].astype(str)"
   ]
  },
  {
   "cell_type": "code",
   "execution_count": 17,
   "id": "b69e43c4-1e1e-43b7-bfd5-cf4454e165a8",
   "metadata": {},
   "outputs": [],
   "source": [
    "X_train['card5'] = X_train['card5'].astype(str)\n",
    "X_train['card5'] = X_train['card5'].astype(str)\n",
    "\n",
    "val['card5'] = val['card5'].astype(str)\n",
    "val['card5'] = val['card5'].astype(str)"
   ]
  },
  {
   "cell_type": "code",
   "execution_count": 18,
   "id": "4048fed7-c64e-4c0c-9739-2156b260bba8",
   "metadata": {},
   "outputs": [],
   "source": [
    "# X_train['id_21'] = X_train['id_21'].astype(str)\n",
    "# X_train['id_21'] = X_train['id_21'].astype(str)\n",
    "\n",
    "# val['id_21'] = val['id_21'].astype(str)\n",
    "# val['id_21'] = val['id_21'].astype(str)"
   ]
  },
  {
   "cell_type": "code",
   "execution_count": 19,
   "id": "826acdb2-e8d1-48d9-85eb-8ce72dda7269",
   "metadata": {},
   "outputs": [],
   "source": [
    "def string(df):\n",
    "    for i in df:\n",
    "        if \"id\" in i:\n",
    "            df[i] = df[i].astype(str)\n",
    "    return df"
   ]
  },
  {
   "cell_type": "code",
   "execution_count": 20,
   "id": "d0deae99-8e15-42fb-ab71-0bb09a861ffe",
   "metadata": {},
   "outputs": [],
   "source": [
    "X_train = string(X_train)\n",
    "val = string(val)"
   ]
  },
  {
   "cell_type": "code",
   "execution_count": 21,
   "id": "1426dddb-e848-4faa-9b37-47b708c5bed6",
   "metadata": {},
   "outputs": [
    {
     "name": "stdout",
     "output_type": "stream",
     "text": [
      "ProductCD\n",
      "card1\n",
      "card2\n",
      "card3\n",
      "card4\n",
      "card5\n",
      "card6\n",
      "addr1\n",
      "addr2\n",
      "P_emaildomain\n",
      "R_emaildomain\n",
      "DeviceType\n",
      "browser_enc\n",
      "device_info_v4\n"
     ]
    }
   ],
   "source": [
    "for i in val:\n",
    "    if i in categorical_cols:\n",
    "        print(i)\n",
    "        val[i] = imp_mean2.fit_transform(X = val[i].values.reshape(-1,1))\n",
    "        val[i] = enc.fit_transform(X = val[i].values.reshape(-1,1))"
   ]
  },
  {
   "cell_type": "code",
   "execution_count": 22,
   "id": "de7c346c-8c67-4e47-8a19-20673810ca1e",
   "metadata": {},
   "outputs": [
    {
     "name": "stdout",
     "output_type": "stream",
     "text": [
      "ProductCD\n",
      "card1\n",
      "card2\n",
      "card3\n",
      "card4\n",
      "card5\n",
      "card6\n",
      "addr1\n",
      "addr2\n",
      "P_emaildomain\n",
      "R_emaildomain\n",
      "DeviceType\n",
      "browser_enc\n",
      "device_info_v4\n"
     ]
    }
   ],
   "source": [
    "for i in X_train:\n",
    "    if i in categorical_cols:\n",
    "        print(i)\n",
    "        X_train[i] = imp_mean2.fit_transform(X = X_train[i].values.reshape(-1,1))\n",
    "        X_train[i] = enc.fit_transform(X = X_train[i].values.reshape(-1,1))"
   ]
  },
  {
   "cell_type": "code",
   "execution_count": 23,
   "id": "7db1fe1d-579d-4a0d-8466-2b8d4529d77a",
   "metadata": {},
   "outputs": [
    {
     "data": {
      "text/plain": [
       "IsolationForest(contamination=0, max_features=2, n_estimators=500,\n",
       "                random_state=0, warm_start=True)"
      ]
     },
     "execution_count": 23,
     "metadata": {},
     "output_type": "execute_result"
    }
   ],
   "source": [
    "model.fit(X_train)"
   ]
  },
  {
   "cell_type": "code",
   "execution_count": 24,
   "id": "edb16991-eac0-4886-8bfa-7df3a7a4e245",
   "metadata": {},
   "outputs": [],
   "source": [
    "val['y_pred'] = model.predict(val.drop(columns='isFraud'))\n",
    "val['score'] = model.score_samples(val.drop(columns=['isFraud','y_pred']))"
   ]
  },
  {
   "cell_type": "code",
   "execution_count": 25,
   "id": "fad511b2-860b-408f-945e-eeb97018530e",
   "metadata": {},
   "outputs": [],
   "source": [
    "val['y_pred'] = val['y_pred'].mask(val['y_pred']==1,1)\n",
    "val['y_pred'] = val['y_pred'].mask(val['y_pred']==-1,0)"
   ]
  },
  {
   "cell_type": "code",
   "execution_count": 26,
   "id": "53462fc0-0c09-4479-89d2-5fdb8120639e",
   "metadata": {},
   "outputs": [
    {
     "data": {
      "text/html": [
       "<div>\n",
       "<style scoped>\n",
       "    .dataframe tbody tr th:only-of-type {\n",
       "        vertical-align: middle;\n",
       "    }\n",
       "\n",
       "    .dataframe tbody tr th {\n",
       "        vertical-align: top;\n",
       "    }\n",
       "\n",
       "    .dataframe thead th {\n",
       "        text-align: right;\n",
       "    }\n",
       "</style>\n",
       "<table border=\"1\" class=\"dataframe\">\n",
       "  <thead>\n",
       "    <tr style=\"text-align: right;\">\n",
       "      <th></th>\n",
       "      <th>isFraud</th>\n",
       "      <th>TransactionAmt</th>\n",
       "      <th>ProductCD</th>\n",
       "      <th>card1</th>\n",
       "      <th>card2</th>\n",
       "      <th>card3</th>\n",
       "      <th>card4</th>\n",
       "      <th>card5</th>\n",
       "      <th>card6</th>\n",
       "      <th>addr1</th>\n",
       "      <th>addr2</th>\n",
       "      <th>P_emaildomain</th>\n",
       "      <th>R_emaildomain</th>\n",
       "      <th>DeviceType</th>\n",
       "      <th>max_c</th>\n",
       "      <th>max_d</th>\n",
       "      <th>multi_transaction_per_time</th>\n",
       "      <th>browser_enc</th>\n",
       "      <th>device_info_v4</th>\n",
       "      <th>y_pred</th>\n",
       "      <th>score</th>\n",
       "    </tr>\n",
       "  </thead>\n",
       "  <tbody>\n",
       "    <tr>\n",
       "      <th>62961</th>\n",
       "      <td>0</td>\n",
       "      <td>4.267850</td>\n",
       "      <td>0.0</td>\n",
       "      <td>3081.0</td>\n",
       "      <td>356.0</td>\n",
       "      <td>51.0</td>\n",
       "      <td>4.0</td>\n",
       "      <td>20.0</td>\n",
       "      <td>2.0</td>\n",
       "      <td>131.0</td>\n",
       "      <td>36.0</td>\n",
       "      <td>15.0</td>\n",
       "      <td>15.0</td>\n",
       "      <td>0.0</td>\n",
       "      <td>0.693147</td>\n",
       "      <td>1.927892</td>\n",
       "      <td>0.0</td>\n",
       "      <td>1.0</td>\n",
       "      <td>17.0</td>\n",
       "      <td>1</td>\n",
       "      <td>-0.590091</td>\n",
       "    </tr>\n",
       "    <tr>\n",
       "      <th>55312</th>\n",
       "      <td>0</td>\n",
       "      <td>4.457412</td>\n",
       "      <td>0.0</td>\n",
       "      <td>918.0</td>\n",
       "      <td>356.0</td>\n",
       "      <td>51.0</td>\n",
       "      <td>4.0</td>\n",
       "      <td>20.0</td>\n",
       "      <td>2.0</td>\n",
       "      <td>131.0</td>\n",
       "      <td>36.0</td>\n",
       "      <td>15.0</td>\n",
       "      <td>15.0</td>\n",
       "      <td>0.0</td>\n",
       "      <td>0.693147</td>\n",
       "      <td>2.871680</td>\n",
       "      <td>0.0</td>\n",
       "      <td>1.0</td>\n",
       "      <td>17.0</td>\n",
       "      <td>1</td>\n",
       "      <td>-0.576830</td>\n",
       "    </tr>\n",
       "    <tr>\n",
       "      <th>143405</th>\n",
       "      <td>0</td>\n",
       "      <td>3.931826</td>\n",
       "      <td>3.0</td>\n",
       "      <td>2177.0</td>\n",
       "      <td>90.0</td>\n",
       "      <td>30.0</td>\n",
       "      <td>4.0</td>\n",
       "      <td>65.0</td>\n",
       "      <td>1.0</td>\n",
       "      <td>28.0</td>\n",
       "      <td>33.0</td>\n",
       "      <td>30.0</td>\n",
       "      <td>15.0</td>\n",
       "      <td>0.0</td>\n",
       "      <td>1.386294</td>\n",
       "      <td>0.432864</td>\n",
       "      <td>0.0</td>\n",
       "      <td>2.0</td>\n",
       "      <td>17.0</td>\n",
       "      <td>0</td>\n",
       "      <td>-0.602364</td>\n",
       "    </tr>\n",
       "  </tbody>\n",
       "</table>\n",
       "</div>"
      ],
      "text/plain": [
       "       isFraud  TransactionAmt  ProductCD   card1  card2  card3  card4  card5  \\\n",
       "62961        0        4.267850        0.0  3081.0  356.0   51.0    4.0   20.0   \n",
       "55312        0        4.457412        0.0   918.0  356.0   51.0    4.0   20.0   \n",
       "143405       0        3.931826        3.0  2177.0   90.0   30.0    4.0   65.0   \n",
       "\n",
       "        card6  addr1  addr2  P_emaildomain  R_emaildomain  DeviceType  \\\n",
       "62961     2.0  131.0   36.0           15.0           15.0         0.0   \n",
       "55312     2.0  131.0   36.0           15.0           15.0         0.0   \n",
       "143405    1.0   28.0   33.0           30.0           15.0         0.0   \n",
       "\n",
       "           max_c     max_d  multi_transaction_per_time  browser_enc  \\\n",
       "62961   0.693147  1.927892                         0.0          1.0   \n",
       "55312   0.693147  2.871680                         0.0          1.0   \n",
       "143405  1.386294  0.432864                         0.0          2.0   \n",
       "\n",
       "        device_info_v4  y_pred     score  \n",
       "62961             17.0       1 -0.590091  \n",
       "55312             17.0       1 -0.576830  \n",
       "143405            17.0       0 -0.602364  "
      ]
     },
     "execution_count": 26,
     "metadata": {},
     "output_type": "execute_result"
    }
   ],
   "source": [
    "val.sample(3)"
   ]
  },
  {
   "cell_type": "code",
   "execution_count": 27,
   "id": "d24085d7-15b5-41fe-ba35-e6542fad2920",
   "metadata": {},
   "outputs": [
    {
     "data": {
      "text/plain": [
       "0    12314\n",
       "1     9321\n",
       "Name: y_pred, dtype: int64"
      ]
     },
     "execution_count": 27,
     "metadata": {},
     "output_type": "execute_result"
    }
   ],
   "source": [
    "val['y_pred'].value_counts()"
   ]
  },
  {
   "cell_type": "code",
   "execution_count": 28,
   "id": "835b0835-6bad-4a22-93c9-5bc099ffcf8d",
   "metadata": {},
   "outputs": [
    {
     "data": {
      "text/plain": [
       "(748, 21)"
      ]
     },
     "execution_count": 28,
     "metadata": {},
     "output_type": "execute_result"
    }
   ],
   "source": [
    "val[(val['y_pred']==1) & (val['isFraud']==1)].shape"
   ]
  },
  {
   "cell_type": "code",
   "execution_count": 29,
   "id": "72adad3c-c7e6-4520-b851-fcb30a2adca6",
   "metadata": {},
   "outputs": [
    {
     "name": "stdout",
     "output_type": "stream",
     "text": [
      "Model Test Confusion Matrix\n",
      "Classification report : \n",
      "               precision    recall  f1-score   support\n",
      "\n",
      "           0       0.93      0.57      0.71     19976\n",
      "           1       0.08      0.45      0.14      1659\n",
      "\n",
      "    accuracy                           0.56     21635\n",
      "   macro avg       0.50      0.51      0.42     21635\n",
      "weighted avg       0.86      0.56      0.66     21635\n",
      "\n"
     ]
    },
    {
     "data": {
      "image/png": "[encoded data removed]",
      "text/plain": [
       "<Figure size 432x288 with 2 Axes>"
      ]
     },
     "metadata": {
      "needs_background": "light"
     },
     "output_type": "display_data"
    }
   ],
   "source": [
    "print('Model Test Confusion Matrix')\n",
    "cm = confusion_matrix(val['isFraud'].astype(int),val['y_pred'],normalize='true') \n",
    "cmd = ConfusionMatrixDisplay(cm,display_labels=['No','Yes'])\n",
    "cmd.plot()\n",
    "print('Classification report : \\n',classification_report(val['isFraud'].astype(int), val['y_pred']))"
   ]
  },
  {
   "cell_type": "code",
   "execution_count": 30,
   "id": "23e867be-8e4a-4db5-9edd-68afd3d1437e",
   "metadata": {},
   "outputs": [
    {
     "data": {
      "text/html": [
       "<div>\n",
       "<style scoped>\n",
       "    .dataframe tbody tr th:only-of-type {\n",
       "        vertical-align: middle;\n",
       "    }\n",
       "\n",
       "    .dataframe tbody tr th {\n",
       "        vertical-align: top;\n",
       "    }\n",
       "\n",
       "    .dataframe thead th {\n",
       "        text-align: right;\n",
       "    }\n",
       "</style>\n",
       "<table border=\"1\" class=\"dataframe\">\n",
       "  <thead>\n",
       "    <tr style=\"text-align: right;\">\n",
       "      <th></th>\n",
       "      <th>isFraud</th>\n",
       "      <th>TransactionAmt</th>\n",
       "      <th>ProductCD</th>\n",
       "      <th>card1</th>\n",
       "      <th>card2</th>\n",
       "      <th>card3</th>\n",
       "      <th>card4</th>\n",
       "      <th>card5</th>\n",
       "      <th>card6</th>\n",
       "      <th>addr1</th>\n",
       "      <th>addr2</th>\n",
       "      <th>P_emaildomain</th>\n",
       "      <th>R_emaildomain</th>\n",
       "      <th>DeviceType</th>\n",
       "      <th>max_c</th>\n",
       "      <th>max_d</th>\n",
       "      <th>multi_transaction_per_time</th>\n",
       "      <th>browser_enc</th>\n",
       "      <th>device_info_v4</th>\n",
       "      <th>y_pred</th>\n",
       "      <th>score</th>\n",
       "    </tr>\n",
       "  </thead>\n",
       "  <tbody>\n",
       "    <tr>\n",
       "      <th>99977</th>\n",
       "      <td>0</td>\n",
       "      <td>5.017280</td>\n",
       "      <td>1.0</td>\n",
       "      <td>2451.0</td>\n",
       "      <td>173.0</td>\n",
       "      <td>30.0</td>\n",
       "      <td>4.0</td>\n",
       "      <td>65.0</td>\n",
       "      <td>2.0</td>\n",
       "      <td>101.0</td>\n",
       "      <td>33.0</td>\n",
       "      <td>15.0</td>\n",
       "      <td>15.0</td>\n",
       "      <td>2.0</td>\n",
       "      <td>1.098612</td>\n",
       "      <td>0.040821</td>\n",
       "      <td>0.0</td>\n",
       "      <td>1.0</td>\n",
       "      <td>16.0</td>\n",
       "      <td>1</td>\n",
       "      <td>-0.568114</td>\n",
       "    </tr>\n",
       "    <tr>\n",
       "      <th>141795</th>\n",
       "      <td>0</td>\n",
       "      <td>3.888365</td>\n",
       "      <td>0.0</td>\n",
       "      <td>1976.0</td>\n",
       "      <td>365.0</td>\n",
       "      <td>27.0</td>\n",
       "      <td>2.0</td>\n",
       "      <td>16.0</td>\n",
       "      <td>1.0</td>\n",
       "      <td>131.0</td>\n",
       "      <td>36.0</td>\n",
       "      <td>52.0</td>\n",
       "      <td>53.0</td>\n",
       "      <td>2.0</td>\n",
       "      <td>1.098612</td>\n",
       "      <td>2.197225</td>\n",
       "      <td>0.0</td>\n",
       "      <td>7.0</td>\n",
       "      <td>13.0</td>\n",
       "      <td>0</td>\n",
       "      <td>-0.603208</td>\n",
       "    </tr>\n",
       "    <tr>\n",
       "      <th>30941</th>\n",
       "      <td>0</td>\n",
       "      <td>4.615121</td>\n",
       "      <td>2.0</td>\n",
       "      <td>184.0</td>\n",
       "      <td>333.0</td>\n",
       "      <td>30.0</td>\n",
       "      <td>2.0</td>\n",
       "      <td>63.0</td>\n",
       "      <td>1.0</td>\n",
       "      <td>91.0</td>\n",
       "      <td>33.0</td>\n",
       "      <td>1.0</td>\n",
       "      <td>1.0</td>\n",
       "      <td>0.0</td>\n",
       "      <td>0.693147</td>\n",
       "      <td>4.745294</td>\n",
       "      <td>0.0</td>\n",
       "      <td>2.0</td>\n",
       "      <td>17.0</td>\n",
       "      <td>1</td>\n",
       "      <td>-0.585524</td>\n",
       "    </tr>\n",
       "  </tbody>\n",
       "</table>\n",
       "</div>"
      ],
      "text/plain": [
       "       isFraud  TransactionAmt  ProductCD   card1  card2  card3  card4  card5  \\\n",
       "99977        0        5.017280        1.0  2451.0  173.0   30.0    4.0   65.0   \n",
       "141795       0        3.888365        0.0  1976.0  365.0   27.0    2.0   16.0   \n",
       "30941        0        4.615121        2.0   184.0  333.0   30.0    2.0   63.0   \n",
       "\n",
       "        card6  addr1  addr2  P_emaildomain  R_emaildomain  DeviceType  \\\n",
       "99977     2.0  101.0   33.0           15.0           15.0         2.0   \n",
       "141795    1.0  131.0   36.0           52.0           53.0         2.0   \n",
       "30941     1.0   91.0   33.0            1.0            1.0         0.0   \n",
       "\n",
       "           max_c     max_d  multi_transaction_per_time  browser_enc  \\\n",
       "99977   1.098612  0.040821                         0.0          1.0   \n",
       "141795  1.098612  2.197225                         0.0          7.0   \n",
       "30941   0.693147  4.745294                         0.0          2.0   \n",
       "\n",
       "        device_info_v4  y_pred     score  \n",
       "99977             16.0       1 -0.568114  \n",
       "141795            13.0       0 -0.603208  \n",
       "30941             17.0       1 -0.585524  "
      ]
     },
     "execution_count": 30,
     "metadata": {},
     "output_type": "execute_result"
    }
   ],
   "source": [
    "val.sample(3)"
   ]
  },
  {
   "cell_type": "code",
   "execution_count": 31,
   "id": "5aa93c0a-ab7e-470c-b6df-78837f95e7de",
   "metadata": {},
   "outputs": [
    {
     "data": {
      "text/plain": [
       "isFraud  y_pred\n",
       "0        0         0.570835\n",
       "         1         0.429165\n",
       "1        0         0.549126\n",
       "         1         0.450874\n",
       "Name: y_pred, dtype: float64"
      ]
     },
     "execution_count": 31,
     "metadata": {},
     "output_type": "execute_result"
    }
   ],
   "source": [
    "val.groupby('isFraud')['y_pred'].value_counts(normalize=True)"
   ]
  },
  {
   "cell_type": "markdown",
   "id": "b94ae274-6ebb-47da-9b3f-1bf8777ff26a",
   "metadata": {
    "tags": []
   },
   "source": [
    "# 2.0 Training baseline"
   ]
  },
  {
   "cell_type": "code",
   "execution_count": 1,
   "id": "f42f73a6-a617-4af8-ab65-42eb11cb2aa6",
   "metadata": {},
   "outputs": [
    {
     "ename": "NameError",
     "evalue": "name 'df' is not defined",
     "output_type": "error",
     "traceback": [
      "\u001b[0;31m---------------------------------------------------------------------------\u001b[0m",
      "\u001b[0;31mNameError\u001b[0m                                 Traceback (most recent call last)",
      "\u001b[0;32m/tmp/ipykernel_728/3841504886.py\u001b[0m in \u001b[0;36m<module>\u001b[0;34m\u001b[0m\n\u001b[0;32m----> 1\u001b[0;31m \u001b[0;32mfor\u001b[0m \u001b[0mi\u001b[0m \u001b[0;32min\u001b[0m \u001b[0mdf\u001b[0m\u001b[0;34m:\u001b[0m\u001b[0;34m\u001b[0m\u001b[0;34m\u001b[0m\u001b[0m\n\u001b[0m\u001b[1;32m      2\u001b[0m     \u001b[0;32mif\u001b[0m \u001b[0mdf\u001b[0m\u001b[0;34m[\u001b[0m\u001b[0mi\u001b[0m\u001b[0;34m]\u001b[0m\u001b[0;34m.\u001b[0m\u001b[0mdtypes\u001b[0m \u001b[0;34m==\u001b[0m \u001b[0;34m'object'\u001b[0m\u001b[0;34m:\u001b[0m\u001b[0;34m\u001b[0m\u001b[0;34m\u001b[0m\u001b[0m\n\u001b[1;32m      3\u001b[0m         \u001b[0mdf\u001b[0m\u001b[0;34m[\u001b[0m\u001b[0mi\u001b[0m\u001b[0;34m]\u001b[0m \u001b[0;34m=\u001b[0m \u001b[0mdf\u001b[0m\u001b[0;34m[\u001b[0m\u001b[0mi\u001b[0m\u001b[0;34m]\u001b[0m\u001b[0;34m.\u001b[0m\u001b[0mastype\u001b[0m\u001b[0;34m(\u001b[0m\u001b[0mstr\u001b[0m\u001b[0;34m)\u001b[0m\u001b[0;34m\u001b[0m\u001b[0;34m\u001b[0m\u001b[0m\n",
      "\u001b[0;31mNameError\u001b[0m: name 'df' is not defined"
     ]
    }
   ],
   "source": [
    "for i in df:\n",
    "    if df[i].dtypes == 'object':\n",
    "        df[i] = df[i].astype(str)"
   ]
  },
  {
   "cell_type": "code",
   "execution_count": null,
   "id": "447dd015-4ec9-424b-a67a-5467bea048fa",
   "metadata": {},
   "outputs": [],
   "source": [
    "X_train = df.drop(columns='isFraud')\n",
    "y_train = df['isFraud'].astype(float)"
   ]
  },
  {
   "cell_type": "code",
   "execution_count": null,
   "id": "8e2abe67-a034-4489-ab56-95d352c1ba5c",
   "metadata": {},
   "outputs": [],
   "source": [
    "numerical_cols = X_train.select_dtypes(include=['int64', 'float64']).columns\n",
    "categorical_cols = X_train.select_dtypes(include=['object', 'bool']).columns"
   ]
  },
  {
   "cell_type": "code",
   "execution_count": null,
   "id": "896ff822-606b-4176-839d-0d0cb9ffc8a2",
   "metadata": {},
   "outputs": [],
   "source": [
    "# parameters = {'model__max_depth':[3,6,10],\n",
    "#               'model__n_estimators':[100,400,800],\n",
    "#               'model__learning_rate':[0.05,0.01,0.1],\n",
    "#               'model__min_samples_leaf':[1,3],\n",
    "#               'model__min_samples_split':[2,4,6]}"
   ]
  },
  {
   "cell_type": "code",
   "execution_count": null,
   "id": "7278de08-4423-4914-a928-9255f0518eea",
   "metadata": {},
   "outputs": [],
   "source": [
    "# {'model__learning_rate': 0.5, 'model__max_depth': 6, 'model__min_samples_leaf': 3, 'model__n_estimators': 600}"
   ]
  },
  {
   "cell_type": "code",
   "execution_count": null,
   "id": "2343117c-6d3d-4e71-ac9a-f618b3129445",
   "metadata": {},
   "outputs": [],
   "source": [
    "parameters = {'model__max_depth':[6,8],'model__n_estimators':[500,800],'model__learning_rate':[0.05,0.1],'model__min_samples_leaf':[3,5]}"
   ]
  },
  {
   "cell_type": "code",
   "execution_count": null,
   "id": "9d223653-db46-491e-8480-ff2f6aa40f5c",
   "metadata": {},
   "outputs": [],
   "source": [
    "model = mlu.model_training(X_train,y_train,numerical_cols,categorical_cols,parameters)"
   ]
  },
  {
   "cell_type": "markdown",
   "id": "8979506f-bf78-45a8-aeaa-565ec78b619c",
   "metadata": {},
   "source": [
    "# 3.0 Evaluation baseline"
   ]
  },
  {
   "cell_type": "code",
   "execution_count": null,
   "id": "0436df8f-e20e-4221-a5e5-fd25a99a627f",
   "metadata": {
    "tags": []
   },
   "outputs": [],
   "source": [
    "for i in val:\n",
    "    if val[i].dtypes == 'object':\n",
    "        val[i] = val[i].astype(str)"
   ]
  },
  {
   "cell_type": "code",
   "execution_count": null,
   "id": "6869f637-86f7-453e-8f2e-1bd85a583e80",
   "metadata": {},
   "outputs": [],
   "source": [
    "X_val = val.drop(columns='isFraud')\n",
    "y_val = val['isFraud'].astype(float)"
   ]
  },
  {
   "cell_type": "code",
   "execution_count": null,
   "id": "480731d1-3722-4bb7-878a-88ba9ae3c562",
   "metadata": {},
   "outputs": [],
   "source": [
    "m = mlu.model_calibration(model,X_val,y_val)"
   ]
  },
  {
   "cell_type": "code",
   "execution_count": null,
   "id": "cc84f329-c349-4691-b36c-a47f465dbd93",
   "metadata": {},
   "outputs": [],
   "source": [
    "mlu.model_evaluation(m.base_estimator, X_val, y_val)"
   ]
  },
  {
   "cell_type": "markdown",
   "id": "e3a54a38-7f61-42f6-a098-32b9798bb986",
   "metadata": {},
   "source": [
    "# 4.0 Error analysis"
   ]
  },
  {
   "cell_type": "code",
   "execution_count": null,
   "id": "e40624c1-a037-465c-b079-f1a19ad46198",
   "metadata": {},
   "outputs": [],
   "source": [
    "val.insert(0,'probability_score','')\n",
    "val['probability_score'] = model.predict_proba(X_val)[:,1]"
   ]
  },
  {
   "cell_type": "code",
   "execution_count": null,
   "id": "e3222877-9c22-45d2-b4b1-31f33d2f1320",
   "metadata": {},
   "outputs": [],
   "source": [
    "val.sample(2)"
   ]
  },
  {
   "cell_type": "code",
   "execution_count": null,
   "id": "b903f671-8cd9-4259-86ab-62121a90c30a",
   "metadata": {},
   "outputs": [],
   "source": [
    "er = val[(val['probability_score']<0.5) & (val['isFraud']=='1')]"
   ]
  },
  {
   "cell_type": "code",
   "execution_count": null,
   "id": "0b16a46d-dab6-4427-8679-9c79dcd0f84c",
   "metadata": {},
   "outputs": [],
   "source": [
    "er.shape"
   ]
  },
  {
   "cell_type": "code",
   "execution_count": null,
   "id": "24e2da71-9881-4640-898c-8ada05753fdd",
   "metadata": {},
   "outputs": [],
   "source": [
    "er.sample(5)"
   ]
  },
  {
   "cell_type": "code",
   "execution_count": null,
   "id": "5609a8d1-ad62-4f19-b796-89fcb9ac667c",
   "metadata": {},
   "outputs": [],
   "source": [
    "er['probability_score'].hist()"
   ]
  },
  {
   "cell_type": "code",
   "execution_count": null,
   "id": "ab31e209-50e6-49e6-b8e4-5d2d488611b7",
   "metadata": {},
   "outputs": [],
   "source": [
    "for i in er:\n",
    "    print(i)\n",
    "    print(er[i].value_counts(normalize=True).head(5))"
   ]
  },
  {
   "cell_type": "code",
   "execution_count": null,
   "id": "6d4e393a-2e4c-446f-a666-2983240f2f7b",
   "metadata": {},
   "outputs": [],
   "source": []
  },
  {
   "cell_type": "code",
   "execution_count": null,
   "id": "f79e023b-1412-4a3b-b907-530123660e56",
   "metadata": {},
   "outputs": [],
   "source": []
  },
  {
   "cell_type": "code",
   "execution_count": null,
   "id": "269a0913-bfda-41a6-b4c2-c5cb9acd2580",
   "metadata": {},
   "outputs": [],
   "source": []
  },
  {
   "cell_type": "markdown",
   "id": "c38cf05a-2a26-4abc-bfe1-436317ca1aa9",
   "metadata": {},
   "source": [
    "# 4.0 Model Output"
   ]
  },
  {
   "cell_type": "code",
   "execution_count": null,
   "id": "0426aa06-c968-4fc9-9533-1edf64743b84",
   "metadata": {},
   "outputs": [],
   "source": [
    "with open('../../data_lake/output/trained_model_v1.pkl','wb') as file:\n",
    "    pickle.dump(m.base_estimator, file)"
   ]
  },
  {
   "cell_type": "code",
   "execution_count": null,
   "id": "21e4e969-d853-44f1-8c04-cd6388a875d7",
   "metadata": {},
   "outputs": [],
   "source": []
  }
 ],
 "metadata": {
  "kernelspec": {
   "display_name": "dev",
   "language": "python",
   "name": "python3"
  },
  "language_info": {
   "codemirror_mode": {
    "name": "ipython",
    "version": 3
   },
   "file_extension": ".py",
   "mimetype": "text/x-python",
   "name": "python",
   "nbconvert_exporter": "python",
   "pygments_lexer": "ipython3",
   "version": "3.9.7"
  }
 },
 "nbformat": 4,
 "nbformat_minor": 5
}
