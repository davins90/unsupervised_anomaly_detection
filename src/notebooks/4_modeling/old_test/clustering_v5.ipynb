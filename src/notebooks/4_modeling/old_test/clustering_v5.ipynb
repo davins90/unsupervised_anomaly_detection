{
 "cells": [
  {
   "cell_type": "markdown",
   "id": "78b9ab1b-17b0-45a4-96ef-785cbeb8355f",
   "metadata": {},
   "source": [
    "clustering con classificatore da pipe train test --> error"
   ]
  },
  {
   "cell_type": "code",
   "execution_count": 1,
   "id": "6d57c904-bd1c-47ef-b5d7-46d730fc9ee9",
   "metadata": {},
   "outputs": [],
   "source": [
    "import sys\n",
    "sys.path.append('../../')"
   ]
  },
  {
   "cell_type": "code",
   "execution_count": 2,
   "id": "4749bf27-a893-49c2-80c1-78b7601f0e16",
   "metadata": {},
   "outputs": [],
   "source": [
    "import pandas as pd\n",
    "import numpy as np\n",
    "import pickle\n",
    "import matplotlib.pyplot as plt\n",
    "\n",
    "from modules import machine_learning_utils as mlu\n",
    "\n",
    "pd.set_option(\"display.max_rows\",None)\n",
    "pd.set_option(\"display.max_columns\",None)"
   ]
  },
  {
   "cell_type": "markdown",
   "id": "3f4f1e2c-06fe-46f3-8f2f-f8f25c143da0",
   "metadata": {},
   "source": [
    "# 1.0 Data retrieval"
   ]
  },
  {
   "cell_type": "code",
   "execution_count": 3,
   "id": "65e43a7d-43ac-42b0-8296-fb0514f8ebd2",
   "metadata": {},
   "outputs": [],
   "source": [
    "df = pd.read_pickle(\"../../data_lake/output/train.pkl\")"
   ]
  },
  {
   "cell_type": "markdown",
   "id": "67801f17-00ca-4995-b791-b42570eb6ab7",
   "metadata": {},
   "source": [
    "# 2.0 Features Engineering"
   ]
  },
  {
   "cell_type": "code",
   "execution_count": 4,
   "id": "5695955c-8f39-4d9d-9201-5e84148e187b",
   "metadata": {},
   "outputs": [],
   "source": [
    "df = mlu.features_eng(df,'clustering')"
   ]
  },
  {
   "cell_type": "code",
   "execution_count": 5,
   "id": "e4bc0644-78fa-4dd8-bfcc-dbb838b41fd9",
   "metadata": {},
   "outputs": [],
   "source": [
    "cols = ['card1', 'card2', 'card3', 'card5', 'M4', 'id_21', 'id_22', 'id_23', 'id_24', 'id_25',\n",
    "       'id_26', 'id_27', 'id_28', 'id_29', 'id_30', 'id_32', 'id_33', 'id_34',\n",
    "       'id_35', 'id_36', 'id_37', 'id_38','num_transaction_per_time','addr1','P_emaildomain','R_emaildomain']"
   ]
  },
  {
   "cell_type": "code",
   "execution_count": 6,
   "id": "65b20810-ad8f-40bf-bb53-8c35aa71f0e3",
   "metadata": {},
   "outputs": [],
   "source": [
    "df = df.drop(columns=cols)"
   ]
  },
  {
   "cell_type": "code",
   "execution_count": 7,
   "id": "3e70dd1b-59be-4267-9c7a-8e55f2568a52",
   "metadata": {},
   "outputs": [],
   "source": [
    "df = df[df['isFraud']==0]\n",
    "df = df.drop(columns='isFraud')"
   ]
  },
  {
   "cell_type": "code",
   "execution_count": 8,
   "id": "81320968-b660-4d04-b79b-ec894f02aba7",
   "metadata": {},
   "outputs": [],
   "source": [
    "df = df.drop(columns=['addr2','multi_transaction_per_time'])"
   ]
  },
  {
   "cell_type": "code",
   "execution_count": 9,
   "id": "c93ac9bf-a84d-4f79-987d-1c9cae9fc2ad",
   "metadata": {},
   "outputs": [
    {
     "data": {
      "text/html": [
       "<div>\n",
       "<style scoped>\n",
       "    .dataframe tbody tr th:only-of-type {\n",
       "        vertical-align: middle;\n",
       "    }\n",
       "\n",
       "    .dataframe tbody tr th {\n",
       "        vertical-align: top;\n",
       "    }\n",
       "\n",
       "    .dataframe thead th {\n",
       "        text-align: right;\n",
       "    }\n",
       "</style>\n",
       "<table border=\"1\" class=\"dataframe\">\n",
       "  <thead>\n",
       "    <tr style=\"text-align: right;\">\n",
       "      <th></th>\n",
       "      <th>TransactionAmt</th>\n",
       "      <th>ProductCD</th>\n",
       "      <th>card4</th>\n",
       "      <th>card6</th>\n",
       "      <th>DeviceType</th>\n",
       "      <th>max_c</th>\n",
       "      <th>max_d</th>\n",
       "      <th>customer_id</th>\n",
       "      <th>browser_enc</th>\n",
       "      <th>device_info_v4</th>\n",
       "    </tr>\n",
       "  </thead>\n",
       "  <tbody>\n",
       "    <tr>\n",
       "      <th>127008</th>\n",
       "      <td>41.929</td>\n",
       "      <td>C</td>\n",
       "      <td>visa</td>\n",
       "      <td>debit</td>\n",
       "      <td>mobile</td>\n",
       "      <td>12.0</td>\n",
       "      <td>37.0</td>\n",
       "      <td>16</td>\n",
       "      <td>safari</td>\n",
       "      <td>other</td>\n",
       "    </tr>\n",
       "  </tbody>\n",
       "</table>\n",
       "</div>"
      ],
      "text/plain": [
       "        TransactionAmt ProductCD card4  card6 DeviceType  max_c  max_d  \\\n",
       "127008          41.929         C  visa  debit     mobile   12.0   37.0   \n",
       "\n",
       "        customer_id browser_enc device_info_v4  \n",
       "127008           16      safari          other  "
      ]
     },
     "execution_count": 9,
     "metadata": {},
     "output_type": "execute_result"
    }
   ],
   "source": [
    "df.sample(1)"
   ]
  },
  {
   "cell_type": "code",
   "execution_count": 10,
   "id": "7a02a4a3-79ee-4224-ad80-3ebdbd833436",
   "metadata": {},
   "outputs": [],
   "source": [
    "numerical_cols = df.select_dtypes(include=['int64', 'float64']).columns\n",
    "categorical_cols = df.select_dtypes(include=['object', 'bool']).columns"
   ]
  },
  {
   "cell_type": "code",
   "execution_count": 11,
   "id": "667d0a22-7026-4bb3-9bf6-373be108ec80",
   "metadata": {},
   "outputs": [],
   "source": [
    "from sklearn.experimental import enable_iterative_imputer\n",
    "from sklearn.impute import IterativeImputer\n",
    "from sklearn.impute import SimpleImputer\n",
    "from sklearn.preprocessing import OrdinalEncoder\n",
    "from sklearn.preprocessing import MinMaxScaler\n",
    "\n",
    "imp_mean = IterativeImputer(random_state=0)\n",
    "imp_mean2 = SimpleImputer(strategy='constant', fill_value='missing',verbose=0,add_indicator=True)\n",
    "enc = OrdinalEncoder()\n",
    "scaler = MinMaxScaler()"
   ]
  },
  {
   "cell_type": "code",
   "execution_count": 12,
   "id": "26a0beab-8a99-43be-bfb7-26bd9bebbff8",
   "metadata": {},
   "outputs": [],
   "source": [
    "for i in df:\n",
    "    if i in numerical_cols:\n",
    "        if i != 'customer_id':\n",
    "            df[i] = imp_mean.fit_transform(X = df[i].values.reshape(-1,1))\n",
    "            # df[i] = np.log(df[i] +1)\n",
    "            df[i] = scaler.fit_transform(X = df[i].values.reshape(-1,1))"
   ]
  },
  {
   "cell_type": "code",
   "execution_count": 13,
   "id": "9094e165-36f3-4cde-a345-cad2d219e5d9",
   "metadata": {},
   "outputs": [],
   "source": [
    "for i in df:\n",
    "    if i in categorical_cols:\n",
    "        df[i] = df[i].astype(str)\n",
    "        df[i] = imp_mean2.fit_transform(X = df[i].values.reshape(-1,1))\n",
    "        # df[i] = enc.fit_transform(X = df[i].values.reshape(-1,1))"
   ]
  },
  {
   "cell_type": "code",
   "execution_count": 14,
   "id": "e11c715a-48bb-4874-92e4-1d85f6babae1",
   "metadata": {},
   "outputs": [
    {
     "data": {
      "text/html": [
       "<div>\n",
       "<style scoped>\n",
       "    .dataframe tbody tr th:only-of-type {\n",
       "        vertical-align: middle;\n",
       "    }\n",
       "\n",
       "    .dataframe tbody tr th {\n",
       "        vertical-align: top;\n",
       "    }\n",
       "\n",
       "    .dataframe thead th {\n",
       "        text-align: right;\n",
       "    }\n",
       "</style>\n",
       "<table border=\"1\" class=\"dataframe\">\n",
       "  <thead>\n",
       "    <tr style=\"text-align: right;\">\n",
       "      <th></th>\n",
       "      <th>TransactionAmt</th>\n",
       "      <th>ProductCD</th>\n",
       "      <th>card4</th>\n",
       "      <th>card6</th>\n",
       "      <th>DeviceType</th>\n",
       "      <th>max_c</th>\n",
       "      <th>max_d</th>\n",
       "      <th>customer_id</th>\n",
       "      <th>browser_enc</th>\n",
       "      <th>device_info_v4</th>\n",
       "    </tr>\n",
       "  </thead>\n",
       "  <tbody>\n",
       "    <tr>\n",
       "      <th>88999</th>\n",
       "      <td>0.021862</td>\n",
       "      <td>C</td>\n",
       "      <td>mastercard</td>\n",
       "      <td>debit</td>\n",
       "      <td>mobile</td>\n",
       "      <td>0.000356</td>\n",
       "      <td>0.045087</td>\n",
       "      <td>23</td>\n",
       "      <td>chrome</td>\n",
       "      <td>other</td>\n",
       "    </tr>\n",
       "    <tr>\n",
       "      <th>134463</th>\n",
       "      <td>0.011551</td>\n",
       "      <td>C</td>\n",
       "      <td>visa</td>\n",
       "      <td>debit</td>\n",
       "      <td>mobile</td>\n",
       "      <td>0.001067</td>\n",
       "      <td>0.048015</td>\n",
       "      <td>72</td>\n",
       "      <td>safari</td>\n",
       "      <td>other</td>\n",
       "    </tr>\n",
       "    <tr>\n",
       "      <th>13640</th>\n",
       "      <td>0.036942</td>\n",
       "      <td>C</td>\n",
       "      <td>visa</td>\n",
       "      <td>debit</td>\n",
       "      <td>desktop</td>\n",
       "      <td>0.000534</td>\n",
       "      <td>0.027521</td>\n",
       "      <td>3163</td>\n",
       "      <td>chrome</td>\n",
       "      <td>windows</td>\n",
       "    </tr>\n",
       "  </tbody>\n",
       "</table>\n",
       "</div>"
      ],
      "text/plain": [
       "        TransactionAmt ProductCD       card4  card6 DeviceType     max_c  \\\n",
       "88999         0.021862         C  mastercard  debit     mobile  0.000356   \n",
       "134463        0.011551         C        visa  debit     mobile  0.001067   \n",
       "13640         0.036942         C        visa  debit    desktop  0.000534   \n",
       "\n",
       "           max_d  customer_id browser_enc device_info_v4  \n",
       "88999   0.045087           23      chrome          other  \n",
       "134463  0.048015           72      safari          other  \n",
       "13640   0.027521         3163      chrome        windows  "
      ]
     },
     "execution_count": 14,
     "metadata": {},
     "output_type": "execute_result"
    }
   ],
   "source": [
    "df.sample(3)"
   ]
  },
  {
   "cell_type": "code",
   "execution_count": 15,
   "id": "40112713-f66b-46e0-8ab1-641eabbc3eb5",
   "metadata": {},
   "outputs": [],
   "source": [
    "df['product_enc'] = 999\n",
    "df['product_enc'] = df['product_enc'].mask(df['ProductCD']=='C',0)\n",
    "df['product_enc'] = df['product_enc'].mask(df['ProductCD']=='H',1)\n",
    "df['product_enc'] = df['product_enc'].mask(df['ProductCD']=='S',2)\n",
    "df['product_enc'] = df['product_enc'].mask(df['ProductCD']=='R',3)\n",
    "df = df.drop(columns='ProductCD')"
   ]
  },
  {
   "cell_type": "code",
   "execution_count": 16,
   "id": "fe905898-cb94-4cdb-a97d-367bb3ea93d9",
   "metadata": {},
   "outputs": [],
   "source": [
    "df['card4_enc'] = 999\n",
    "df['card4_enc'] = df['card4_enc'].mask(df['card4']=='visa',0)\n",
    "df['card4_enc'] = df['card4_enc'].mask(df['card4']=='mastercard',1)\n",
    "df['card4_enc'] = df['card4_enc'].mask(df['card4']=='american express',2)\n",
    "df['card4_enc'] = df['card4_enc'].mask(df['card4']=='discover',3)\n",
    "df = df.drop(columns='card4')"
   ]
  },
  {
   "cell_type": "code",
   "execution_count": 17,
   "id": "d0a5c7fa-153f-4123-83b5-0b5d6323de63",
   "metadata": {},
   "outputs": [],
   "source": [
    "df['card6_enc'] = 999\n",
    "df['card6_enc'] = df['card6_enc'].mask(df['card6']=='debit',0)\n",
    "df['card6_enc'] = df['card6_enc'].mask(df['card6']=='credit',1)\n",
    "df = df.drop(columns='card6')"
   ]
  },
  {
   "cell_type": "code",
   "execution_count": 18,
   "id": "808e816b-f3b5-4f8a-aab7-6ffa6c15b0dc",
   "metadata": {},
   "outputs": [],
   "source": [
    "df['DeviceType_enc'] = 999\n",
    "df['DeviceType_enc'] = df['DeviceType_enc'].mask(df['DeviceType']=='mobile',0)\n",
    "df['DeviceType_enc'] = df['DeviceType_enc'].mask(df['DeviceType']=='desktop',1)\n",
    "df['DeviceType_enc'] = df['DeviceType_enc'].mask(df['DeviceType']=='tablet',2)\n",
    "df = df.drop(columns='DeviceType')"
   ]
  },
  {
   "cell_type": "code",
   "execution_count": 19,
   "id": "ffd32b1a-ddeb-44bc-8931-ff96bd48d30f",
   "metadata": {},
   "outputs": [],
   "source": [
    "df['browser_enc2'] = 7\n",
    "df['browser_enc2'] = df['browser_enc2'].mask(df['browser_enc']=='chrome',0)\n",
    "df['browser_enc2'] = df['browser_enc2'].mask(df['browser_enc']=='safari',1)\n",
    "df['browser_enc2'] = df['browser_enc2'].mask(df['browser_enc']=='firefox',2)\n",
    "df['browser_enc2'] = df['browser_enc2'].mask(df['browser_enc']=='ie',3)\n",
    "df['browser_enc2'] = df['browser_enc2'].mask(df['browser_enc']=='android',4)\n",
    "df['browser_enc2'] = df['browser_enc2'].mask(df['browser_enc']=='edge',5)\n",
    "df['browser_enc2'] = df['browser_enc2'].mask(df['browser_enc']=='opera',6)\n",
    "df = df.drop(columns='browser_enc')"
   ]
  },
  {
   "cell_type": "code",
   "execution_count": 20,
   "id": "507542c2-6e37-496d-b637-0dacde6ada65",
   "metadata": {},
   "outputs": [],
   "source": [
    "df['device_info_v4_enc'] = 17\n",
    "df['device_info_v4_enc'] = df['device_info_v4_enc'].mask(df['device_info_v4']=='ios',0)\n",
    "df['device_info_v4_enc'] = df['device_info_v4_enc'].mask(df['device_info_v4']=='windows',1)\n",
    "df['device_info_v4_enc'] = df['device_info_v4_enc'].mask(df['device_info_v4']=='samsung',2)\n",
    "df['device_info_v4_enc'] = df['device_info_v4_enc'].mask(df['device_info_v4']=='hisense',3)\n",
    "df['device_info_v4_enc'] = df['device_info_v4_enc'].mask(df['device_info_v4']=='moto',4)\n",
    "df['device_info_v4_enc'] = df['device_info_v4_enc'].mask(df['device_info_v4']=='pixel',5)\n",
    "df['device_info_v4_enc'] = df['device_info_v4_enc'].mask(df['device_info_v4']=='lg',6)\n",
    "df['device_info_v4_enc'] = df['device_info_v4_enc'].mask(df['device_info_v4']=='blade',7)\n",
    "df['device_info_v4_enc'] = df['device_info_v4_enc'].mask(df['device_info_v4']=='huawei',8)\n",
    "df['device_info_v4_enc'] = df['device_info_v4_enc'].mask(df['device_info_v4']=='oneplus',9)\n",
    "df['device_info_v4_enc'] = df['device_info_v4_enc'].mask(df['device_info_v4']=='alcatel',10)\n",
    "df['device_info_v4_enc'] = df['device_info_v4_enc'].mask(df['device_info_v4']=='redmi',11)\n",
    "df['device_info_v4_enc'] = df['device_info_v4_enc'].mask(df['device_info_v4']=='lenovo',12)\n",
    "df['device_info_v4_enc'] = df['device_info_v4_enc'].mask(df['device_info_v4']=='asus',13)\n",
    "df['device_info_v4_enc'] = df['device_info_v4_enc'].mask(df['device_info_v4']=='linux',14)\n",
    "df['device_info_v4_enc'] = df['device_info_v4_enc'].mask(df['device_info_v4']=='android',15)\n",
    "df['device_info_v4_enc'] = df['device_info_v4_enc'].mask(df['device_info_v4']=='zte',16)\n",
    "df = df.drop(columns='device_info_v4')"
   ]
  },
  {
   "cell_type": "code",
   "execution_count": 21,
   "id": "71bbfbb1-24b5-4e03-9c4e-85aac7176d62",
   "metadata": {},
   "outputs": [],
   "source": [
    "df = df.set_index('customer_id')"
   ]
  },
  {
   "cell_type": "code",
   "execution_count": 22,
   "id": "c0d1a190-189e-4218-9e05-84760e2aa9f7",
   "metadata": {},
   "outputs": [
    {
     "data": {
      "text/html": [
       "<div>\n",
       "<style scoped>\n",
       "    .dataframe tbody tr th:only-of-type {\n",
       "        vertical-align: middle;\n",
       "    }\n",
       "\n",
       "    .dataframe tbody tr th {\n",
       "        vertical-align: top;\n",
       "    }\n",
       "\n",
       "    .dataframe thead th {\n",
       "        text-align: right;\n",
       "    }\n",
       "</style>\n",
       "<table border=\"1\" class=\"dataframe\">\n",
       "  <thead>\n",
       "    <tr style=\"text-align: right;\">\n",
       "      <th></th>\n",
       "      <th>TransactionAmt</th>\n",
       "      <th>max_c</th>\n",
       "      <th>max_d</th>\n",
       "      <th>product_enc</th>\n",
       "      <th>card4_enc</th>\n",
       "      <th>card6_enc</th>\n",
       "      <th>DeviceType_enc</th>\n",
       "      <th>browser_enc2</th>\n",
       "      <th>device_info_v4_enc</th>\n",
       "    </tr>\n",
       "    <tr>\n",
       "      <th>customer_id</th>\n",
       "      <th></th>\n",
       "      <th></th>\n",
       "      <th></th>\n",
       "      <th></th>\n",
       "      <th></th>\n",
       "      <th></th>\n",
       "      <th></th>\n",
       "      <th></th>\n",
       "      <th></th>\n",
       "    </tr>\n",
       "  </thead>\n",
       "  <tbody>\n",
       "    <tr>\n",
       "      <th>10886</th>\n",
       "      <td>0.066195</td>\n",
       "      <td>0.001245</td>\n",
       "      <td>0.361871</td>\n",
       "      <td>2</td>\n",
       "      <td>0</td>\n",
       "      <td>1</td>\n",
       "      <td>1</td>\n",
       "      <td>0</td>\n",
       "      <td>1</td>\n",
       "    </tr>\n",
       "    <tr>\n",
       "      <th>6206</th>\n",
       "      <td>0.045225</td>\n",
       "      <td>0.000000</td>\n",
       "      <td>0.000000</td>\n",
       "      <td>0</td>\n",
       "      <td>1</td>\n",
       "      <td>1</td>\n",
       "      <td>1</td>\n",
       "      <td>0</td>\n",
       "      <td>1</td>\n",
       "    </tr>\n",
       "    <tr>\n",
       "      <th>26637</th>\n",
       "      <td>0.032845</td>\n",
       "      <td>0.000000</td>\n",
       "      <td>0.265596</td>\n",
       "      <td>1</td>\n",
       "      <td>2</td>\n",
       "      <td>1</td>\n",
       "      <td>1</td>\n",
       "      <td>0</td>\n",
       "      <td>1</td>\n",
       "    </tr>\n",
       "  </tbody>\n",
       "</table>\n",
       "</div>"
      ],
      "text/plain": [
       "             TransactionAmt     max_c     max_d  product_enc  card4_enc  \\\n",
       "customer_id                                                               \n",
       "10886              0.066195  0.001245  0.361871            2          0   \n",
       "6206               0.045225  0.000000  0.000000            0          1   \n",
       "26637              0.032845  0.000000  0.265596            1          2   \n",
       "\n",
       "             card6_enc  DeviceType_enc  browser_enc2  device_info_v4_enc  \n",
       "customer_id                                                               \n",
       "10886                1               1             0                   1  \n",
       "6206                 1               1             0                   1  \n",
       "26637                1               1             0                   1  "
      ]
     },
     "execution_count": 22,
     "metadata": {},
     "output_type": "execute_result"
    }
   ],
   "source": [
    "df.sample(3)"
   ]
  },
  {
   "cell_type": "markdown",
   "id": "5ea3bf5f-8ab2-4bf6-a742-eda964a7d1ba",
   "metadata": {},
   "source": [
    "Splitting"
   ]
  },
  {
   "cell_type": "code",
   "execution_count": 23,
   "id": "8115bd02-8641-4f03-94a9-a4928e29101e",
   "metadata": {},
   "outputs": [],
   "source": [
    "train, val, test = mlu.partitioning(df,0.7,0.15,'no')"
   ]
  },
  {
   "cell_type": "markdown",
   "id": "33fed496-e96d-4db6-9275-6787a3118fad",
   "metadata": {},
   "source": [
    "# 3.0 Clustering --> Personas generation"
   ]
  },
  {
   "cell_type": "code",
   "execution_count": 24,
   "id": "65e1e000-cfcc-4e01-b91f-91c8ffb2969d",
   "metadata": {},
   "outputs": [],
   "source": [
    "from kmodes.kprototypes import KPrototypes\n",
    "from sklearn.metrics import silhouette_score\n",
    "\n",
    "import gower\n",
    "import heapq"
   ]
  },
  {
   "cell_type": "code",
   "execution_count": 25,
   "id": "2662a992-42e6-4efe-9d77-1f23b4098750",
   "metadata": {},
   "outputs": [],
   "source": [
    "# sil=[]\n",
    "# for num_clusters in list(range(2,30)):\n",
    "#     kproto = KPrototypes(n_clusters=num_clusters, verbose=0,random_state = 301,n_init=5)\n",
    "#     cluster_labels = kproto.fit_predict(df.values, categorical=[3,4,5,6,7,8])\n",
    "#     df['cluster_labels'] = cluster_labels\n",
    "#     dist = gower.gower_matrix(df.drop(columns=['cluster_labels']),cat_features = [False, False ,False, True, True,True,True,True,True])\n",
    "#     sil.append(silhouette_score(dist,labels=cluster_labels, metric='precomputed'))\n",
    "#     print('For cluster number: ',num_clusters,' the score is: ', sil[-1])"
   ]
  },
  {
   "cell_type": "code",
   "execution_count": 26,
   "id": "276ddd7e-f8cb-441b-8334-b22d469bcf35",
   "metadata": {},
   "outputs": [],
   "source": [
    "# df = df.drop(columns='cluster_labels')"
   ]
  },
  {
   "cell_type": "code",
   "execution_count": 27,
   "id": "2d96cc29-74ba-4f14-8ef6-d913bc821a1f",
   "metadata": {},
   "outputs": [],
   "source": [
    "kproto = KPrototypes(n_clusters=4, verbose=0,random_state = 301)\n",
    "cluster_labels = kproto.fit_predict(train.values, categorical=[3,4,5,6,7,8])"
   ]
  },
  {
   "cell_type": "code",
   "execution_count": 28,
   "id": "1347ace5-51e7-4058-be81-32d89c64b0a3",
   "metadata": {},
   "outputs": [],
   "source": [
    "centroid = []\n",
    "for j,i in enumerate(kproto.cluster_centroids_):\n",
    "    centroid.append(pd.DataFrame(i,index=['TransactionAmt','max_c', 'max_d','product_enc', 'card4_enc', 'card6_enc',\n",
    "       'DeviceType_enc', 'browser_enc2', 'device_info_v4_enc'],columns=[j]))\n",
    "centroid = pd.concat(centroid,axis=1)"
   ]
  },
  {
   "cell_type": "code",
   "execution_count": 29,
   "id": "502a9cea-5b1e-4f08-bf45-16275369ab7b",
   "metadata": {},
   "outputs": [
    {
     "data": {
      "text/html": [
       "<style type=\"text/css\">\n",
       "#T_8edc3_row0_col0 {\n",
       "  background-color: #c23d00;\n",
       "  color: #f1f1f1;\n",
       "}\n",
       "#T_8edc3_row0_col1, #T_8edc3_row1_col2, #T_8edc3_row2_col1, #T_8edc3_row3_col1, #T_8edc3_row5_col0, #T_8edc3_row5_col3, #T_8edc3_row6_col0, #T_8edc3_row6_col1, #T_8edc3_row7_col3, #T_8edc3_row8_col2 {\n",
       "  background-color: #00ff00;\n",
       "  color: #000000;\n",
       "}\n",
       "#T_8edc3_row0_col2, #T_8edc3_row1_col3, #T_8edc3_row2_col3, #T_8edc3_row3_col0, #T_8edc3_row3_col2, #T_8edc3_row4_col0, #T_8edc3_row4_col1, #T_8edc3_row4_col2, #T_8edc3_row4_col3, #T_8edc3_row5_col1, #T_8edc3_row5_col2, #T_8edc3_row6_col2, #T_8edc3_row6_col3, #T_8edc3_row7_col0, #T_8edc3_row7_col1, #T_8edc3_row7_col2, #T_8edc3_row8_col3 {\n",
       "  background-color: #0000ff;\n",
       "  color: #f1f1f1;\n",
       "}\n",
       "#T_8edc3_row0_col3 {\n",
       "  background-color: #8c7300;\n",
       "  color: #f1f1f1;\n",
       "}\n",
       "#T_8edc3_row1_col0 {\n",
       "  background-color: #ba4500;\n",
       "  color: #f1f1f1;\n",
       "}\n",
       "#T_8edc3_row1_col1 {\n",
       "  background-color: #d82700;\n",
       "  color: #f1f1f1;\n",
       "}\n",
       "#T_8edc3_row2_col0 {\n",
       "  background-color: #3400cb;\n",
       "  color: #f1f1f1;\n",
       "}\n",
       "#T_8edc3_row2_col2 {\n",
       "  background-color: #4800b7;\n",
       "  color: #f1f1f1;\n",
       "}\n",
       "#T_8edc3_row3_col3 {\n",
       "  background-color: #aa0055;\n",
       "  color: #f1f1f1;\n",
       "}\n",
       "#T_8edc3_row8_col0, #T_8edc3_row8_col1 {\n",
       "  background-color: #1e00e1;\n",
       "  color: #f1f1f1;\n",
       "}\n",
       "</style>\n",
       "<table id=\"T_8edc3_\">\n",
       "  <thead>\n",
       "    <tr>\n",
       "      <th class=\"blank level0\" >&nbsp;</th>\n",
       "      <th class=\"col_heading level0 col0\" >0</th>\n",
       "      <th class=\"col_heading level0 col1\" >1</th>\n",
       "      <th class=\"col_heading level0 col2\" >2</th>\n",
       "      <th class=\"col_heading level0 col3\" >3</th>\n",
       "    </tr>\n",
       "  </thead>\n",
       "  <tbody>\n",
       "    <tr>\n",
       "      <th id=\"T_8edc3_level0_row0\" class=\"row_heading level0 row0\" >TransactionAmt</th>\n",
       "      <td id=\"T_8edc3_row0_col0\" class=\"data row0 col0\" >0.060835</td>\n",
       "      <td id=\"T_8edc3_row0_col1\" class=\"data row0 col1\" >0.081628</td>\n",
       "      <td id=\"T_8edc3_row0_col2\" class=\"data row0 col2\" >0.027292</td>\n",
       "      <td id=\"T_8edc3_row0_col3\" class=\"data row0 col3\" >0.066726</td>\n",
       "    </tr>\n",
       "    <tr>\n",
       "      <th id=\"T_8edc3_level0_row1\" class=\"row_heading level0 row1\" >max_c</th>\n",
       "      <td id=\"T_8edc3_row1_col0\" class=\"data row1 col0\" >0.007578</td>\n",
       "      <td id=\"T_8edc3_row1_col1\" class=\"data row1 col1\" >0.006973</td>\n",
       "      <td id=\"T_8edc3_row1_col2\" class=\"data row1 col2\" >0.011419</td>\n",
       "      <td id=\"T_8edc3_row1_col3\" class=\"data row1 col3\" >0.000889</td>\n",
       "    </tr>\n",
       "    <tr>\n",
       "      <th id=\"T_8edc3_level0_row2\" class=\"row_heading level0 row2\" >max_d</th>\n",
       "      <td id=\"T_8edc3_row2_col0\" class=\"data row2 col0\" >0.047558</td>\n",
       "      <td id=\"T_8edc3_row2_col1\" class=\"data row2 col1\" >0.322228</td>\n",
       "      <td id=\"T_8edc3_row2_col2\" class=\"data row2 col2\" >0.059866</td>\n",
       "      <td id=\"T_8edc3_row2_col3\" class=\"data row2 col3\" >0.015805</td>\n",
       "    </tr>\n",
       "    <tr>\n",
       "      <th id=\"T_8edc3_level0_row3\" class=\"row_heading level0 row3\" >product_enc</th>\n",
       "      <td id=\"T_8edc3_row3_col0\" class=\"data row3 col0\" >0.000000</td>\n",
       "      <td id=\"T_8edc3_row3_col1\" class=\"data row3 col1\" >3.000000</td>\n",
       "      <td id=\"T_8edc3_row3_col2\" class=\"data row3 col2\" >0.000000</td>\n",
       "      <td id=\"T_8edc3_row3_col3\" class=\"data row3 col3\" >1.000000</td>\n",
       "    </tr>\n",
       "    <tr>\n",
       "      <th id=\"T_8edc3_level0_row4\" class=\"row_heading level0 row4\" >card4_enc</th>\n",
       "      <td id=\"T_8edc3_row4_col0\" class=\"data row4 col0\" >0.000000</td>\n",
       "      <td id=\"T_8edc3_row4_col1\" class=\"data row4 col1\" >0.000000</td>\n",
       "      <td id=\"T_8edc3_row4_col2\" class=\"data row4 col2\" >0.000000</td>\n",
       "      <td id=\"T_8edc3_row4_col3\" class=\"data row4 col3\" >0.000000</td>\n",
       "    </tr>\n",
       "    <tr>\n",
       "      <th id=\"T_8edc3_level0_row5\" class=\"row_heading level0 row5\" >card6_enc</th>\n",
       "      <td id=\"T_8edc3_row5_col0\" class=\"data row5 col0\" >1.000000</td>\n",
       "      <td id=\"T_8edc3_row5_col1\" class=\"data row5 col1\" >0.000000</td>\n",
       "      <td id=\"T_8edc3_row5_col2\" class=\"data row5 col2\" >0.000000</td>\n",
       "      <td id=\"T_8edc3_row5_col3\" class=\"data row5 col3\" >1.000000</td>\n",
       "    </tr>\n",
       "    <tr>\n",
       "      <th id=\"T_8edc3_level0_row6\" class=\"row_heading level0 row6\" >DeviceType_enc</th>\n",
       "      <td id=\"T_8edc3_row6_col0\" class=\"data row6 col0\" >1.000000</td>\n",
       "      <td id=\"T_8edc3_row6_col1\" class=\"data row6 col1\" >1.000000</td>\n",
       "      <td id=\"T_8edc3_row6_col2\" class=\"data row6 col2\" >0.000000</td>\n",
       "      <td id=\"T_8edc3_row6_col3\" class=\"data row6 col3\" >0.000000</td>\n",
       "    </tr>\n",
       "    <tr>\n",
       "      <th id=\"T_8edc3_level0_row7\" class=\"row_heading level0 row7\" >browser_enc2</th>\n",
       "      <td id=\"T_8edc3_row7_col0\" class=\"data row7 col0\" >0.000000</td>\n",
       "      <td id=\"T_8edc3_row7_col1\" class=\"data row7 col1\" >0.000000</td>\n",
       "      <td id=\"T_8edc3_row7_col2\" class=\"data row7 col2\" >0.000000</td>\n",
       "      <td id=\"T_8edc3_row7_col3\" class=\"data row7 col3\" >1.000000</td>\n",
       "    </tr>\n",
       "    <tr>\n",
       "      <th id=\"T_8edc3_level0_row8\" class=\"row_heading level0 row8\" >device_info_v4_enc</th>\n",
       "      <td id=\"T_8edc3_row8_col0\" class=\"data row8 col0\" >1.000000</td>\n",
       "      <td id=\"T_8edc3_row8_col1\" class=\"data row8 col1\" >1.000000</td>\n",
       "      <td id=\"T_8edc3_row8_col2\" class=\"data row8 col2\" >17.000000</td>\n",
       "      <td id=\"T_8edc3_row8_col3\" class=\"data row8 col3\" >0.000000</td>\n",
       "    </tr>\n",
       "  </tbody>\n",
       "</table>\n"
      ],
      "text/plain": [
       "<pandas.io.formats.style.Styler at 0x7f972542e3a0>"
      ]
     },
     "execution_count": 29,
     "metadata": {},
     "output_type": "execute_result"
    }
   ],
   "source": [
    "centroid.style.background_gradient(cmap='brg',axis=1)"
   ]
  },
  {
   "cell_type": "code",
   "execution_count": 30,
   "id": "be1bf30d-8d2c-4e49-9698-6957b4cfa9af",
   "metadata": {},
   "outputs": [],
   "source": [
    "train['cluster_labels'] = cluster_labels"
   ]
  },
  {
   "cell_type": "code",
   "execution_count": 31,
   "id": "1383e78f-51df-4195-b94f-e86bf8051073",
   "metadata": {},
   "outputs": [
    {
     "data": {
      "text/html": [
       "<div>\n",
       "<style scoped>\n",
       "    .dataframe tbody tr th:only-of-type {\n",
       "        vertical-align: middle;\n",
       "    }\n",
       "\n",
       "    .dataframe tbody tr th {\n",
       "        vertical-align: top;\n",
       "    }\n",
       "\n",
       "    .dataframe thead th {\n",
       "        text-align: right;\n",
       "    }\n",
       "</style>\n",
       "<table border=\"1\" class=\"dataframe\">\n",
       "  <thead>\n",
       "    <tr style=\"text-align: right;\">\n",
       "      <th></th>\n",
       "      <th>TransactionAmt</th>\n",
       "      <th>max_c</th>\n",
       "      <th>max_d</th>\n",
       "      <th>product_enc</th>\n",
       "      <th>card4_enc</th>\n",
       "      <th>card6_enc</th>\n",
       "      <th>DeviceType_enc</th>\n",
       "      <th>browser_enc2</th>\n",
       "      <th>device_info_v4_enc</th>\n",
       "      <th>cluster_labels</th>\n",
       "    </tr>\n",
       "    <tr>\n",
       "      <th>customer_id</th>\n",
       "      <th></th>\n",
       "      <th></th>\n",
       "      <th></th>\n",
       "      <th></th>\n",
       "      <th></th>\n",
       "      <th></th>\n",
       "      <th></th>\n",
       "      <th></th>\n",
       "      <th></th>\n",
       "      <th></th>\n",
       "    </tr>\n",
       "  </thead>\n",
       "  <tbody>\n",
       "    <tr>\n",
       "      <th>38307</th>\n",
       "      <td>0.066195</td>\n",
       "      <td>0.0</td>\n",
       "      <td>0.0</td>\n",
       "      <td>1</td>\n",
       "      <td>0</td>\n",
       "      <td>1</td>\n",
       "      <td>1</td>\n",
       "      <td>5</td>\n",
       "      <td>1</td>\n",
       "      <td>0</td>\n",
       "    </tr>\n",
       "  </tbody>\n",
       "</table>\n",
       "</div>"
      ],
      "text/plain": [
       "             TransactionAmt  max_c  max_d  product_enc  card4_enc  card6_enc  \\\n",
       "customer_id                                                                    \n",
       "38307              0.066195    0.0    0.0            1          0          1   \n",
       "\n",
       "             DeviceType_enc  browser_enc2  device_info_v4_enc  cluster_labels  \n",
       "customer_id                                                                    \n",
       "38307                     1             5                   1               0  "
      ]
     },
     "execution_count": 31,
     "metadata": {},
     "output_type": "execute_result"
    }
   ],
   "source": [
    "train.head(1)"
   ]
  },
  {
   "cell_type": "code",
   "execution_count": 32,
   "id": "e3848023-22f9-4981-9ffd-d5ded9a67f2e",
   "metadata": {},
   "outputs": [
    {
     "data": {
      "text/plain": [
       "0    2087\n",
       "2    1472\n",
       "3    1358\n",
       "1     701\n",
       "Name: cluster_labels, dtype: int64"
      ]
     },
     "execution_count": 32,
     "metadata": {},
     "output_type": "execute_result"
    }
   ],
   "source": [
    "train['cluster_labels'].value_counts()"
   ]
  },
  {
   "cell_type": "markdown",
   "id": "b94ae274-6ebb-47da-9b3f-1bf8777ff26a",
   "metadata": {
    "tags": []
   },
   "source": [
    "# 2.0 Machine Learning on Personas\n",
    "## 2.1 model cluster 0 "
   ]
  },
  {
   "cell_type": "code",
   "execution_count": 36,
   "id": "ee33885f-78dd-4063-93ed-62e717b522e5",
   "metadata": {},
   "outputs": [],
   "source": [
    "df_class = train.copy()\n",
    "df_class['y'] = 0\n",
    "df_class['y'] = df_class['y'].mask(df_class['cluster_labels']==0,1)"
   ]
  },
  {
   "cell_type": "code",
   "execution_count": 37,
   "id": "4aa3232a-b2bc-4526-9871-cd3c9c140f66",
   "metadata": {},
   "outputs": [
    {
     "data": {
      "text/plain": [
       "0    3531\n",
       "1    2087\n",
       "Name: y, dtype: int64"
      ]
     },
     "execution_count": 37,
     "metadata": {},
     "output_type": "execute_result"
    }
   ],
   "source": [
    "df_class['y'].value_counts()"
   ]
  },
  {
   "cell_type": "code",
   "execution_count": 38,
   "id": "5105d9b7-2062-465b-a385-3c65f93b7fd9",
   "metadata": {},
   "outputs": [],
   "source": [
    "train, val, test = mlu.partitioning(df_class,0.7,0.15,'y')"
   ]
  },
  {
   "cell_type": "code",
   "execution_count": 39,
   "id": "c57dde03-2622-4b90-abaf-778b93897e8b",
   "metadata": {},
   "outputs": [
    {
     "name": "stdout",
     "output_type": "stream",
     "text": [
      "1    1430\n",
      "0    1430\n",
      "Name: y, dtype: int64\n",
      "Train dataset shape:  (2860, 11)\n"
     ]
    }
   ],
   "source": [
    "final_train = mlu.class_imbalance(train,'y')"
   ]
  },
  {
   "cell_type": "code",
   "execution_count": 40,
   "id": "f42f73a6-a617-4af8-ab65-42eb11cb2aa6",
   "metadata": {},
   "outputs": [],
   "source": [
    "for i in final_train:\n",
    "    if final_train[i].dtypes == 'object':\n",
    "        final_train[i] = final_train[i].astype(str)"
   ]
  },
  {
   "cell_type": "code",
   "execution_count": 41,
   "id": "447dd015-4ec9-424b-a67a-5467bea048fa",
   "metadata": {},
   "outputs": [],
   "source": [
    "X_train = final_train.drop(columns='y')\n",
    "y_train = final_train['y'].astype(float)"
   ]
  },
  {
   "cell_type": "code",
   "execution_count": 42,
   "id": "8e2abe67-a034-4489-ab56-95d352c1ba5c",
   "metadata": {},
   "outputs": [],
   "source": [
    "numerical_cols = X_train.select_dtypes(include=['int64', 'float64']).columns\n",
    "categorical_cols = X_train.select_dtypes(include=['object', 'bool']).columns"
   ]
  },
  {
   "cell_type": "code",
   "execution_count": 43,
   "id": "2343117c-6d3d-4e71-ac9a-f618b3129445",
   "metadata": {},
   "outputs": [],
   "source": [
    "parameters = {'model__max_depth':[2,3],'model__n_estimators':[50,100],'model__learning_rate':[0.05,0.1],'model__min_samples_leaf':[2,3]}"
   ]
  },
  {
   "cell_type": "code",
   "execution_count": 44,
   "id": "9d223653-db46-491e-8480-ff2f6aa40f5c",
   "metadata": {},
   "outputs": [
    {
     "name": "stdout",
     "output_type": "stream",
     "text": [
      "GridSearchCV results...\n",
      "Mean Train Scores: \n",
      "[0.96526838 0.9648024  0.96526838 0.96503539 0.97925505 0.97855477\n",
      " 0.97995403 0.97832156 0.96550072 0.96969609 0.96550072 0.9694631\n",
      " 0.98041892 0.99510435 0.97971951 0.99557077]\n",
      "\n",
      "Mean CV Scores: \n",
      "[0.96222791 0.95803014 0.96222791 0.95803014 0.97132568 0.96992708\n",
      " 0.97342652 0.96992708 0.9615335  0.96503098 0.9615335  0.96503098\n",
      " 0.97062931 0.98461535 0.97062931 0.98391703]\n",
      "\n",
      "Best Parameters: \n",
      "{'model__learning_rate': 0.1, 'model__max_depth': 3, 'model__min_samples_leaf': 2, 'model__n_estimators': 100}\n",
      "\n"
     ]
    }
   ],
   "source": [
    "model = mlu.model_training(X_train,y_train,numerical_cols,categorical_cols,parameters,'no')"
   ]
  },
  {
   "cell_type": "markdown",
   "id": "8979506f-bf78-45a8-aeaa-565ec78b619c",
   "metadata": {},
   "source": [
    "## 2.2 Evaluation model"
   ]
  },
  {
   "cell_type": "code",
   "execution_count": 45,
   "id": "0436df8f-e20e-4221-a5e5-fd25a99a627f",
   "metadata": {
    "tags": []
   },
   "outputs": [],
   "source": [
    "for i in val:\n",
    "    if val[i].dtypes == 'object':\n",
    "        val[i] = val[i].astype(str)"
   ]
  },
  {
   "cell_type": "code",
   "execution_count": 46,
   "id": "6869f637-86f7-453e-8f2e-1bd85a583e80",
   "metadata": {},
   "outputs": [],
   "source": [
    "X_val = val.drop(columns='y')\n",
    "y_val = val['y'].astype(float)"
   ]
  },
  {
   "cell_type": "code",
   "execution_count": 47,
   "id": "480731d1-3722-4bb7-878a-88ba9ae3c562",
   "metadata": {},
   "outputs": [],
   "source": [
    "m = mlu.model_calibration(model,X_val,y_val)"
   ]
  },
  {
   "cell_type": "code",
   "execution_count": 48,
   "id": "cc84f329-c349-4691-b36c-a47f465dbd93",
   "metadata": {},
   "outputs": [
    {
     "name": "stdout",
     "output_type": "stream",
     "text": [
      "Test results...\n",
      "Model Test Recall: 0.9842271293375394\n",
      "--------------------------------------------------\n",
      "Model Test Confusion Matrix\n",
      "Classification report : \n",
      "               precision    recall  f1-score   support\n",
      "\n",
      "         0.0       0.99      0.99      0.99       526\n",
      "         1.0       0.98      0.98      0.98       317\n",
      "\n",
      "    accuracy                           0.99       843\n",
      "   macro avg       0.98      0.99      0.98       843\n",
      "weighted avg       0.99      0.99      0.99       843\n",
      "\n",
      "DeviceType_enc: 0.44966131093421724\n",
      "max_d: 0.20486400990330011\n",
      "device_info_v4_enc: 0.19798808845829477\n",
      "card6_enc: 0.06798927788036037\n",
      "browser_enc2: 0.045713652343435655\n",
      "product_enc: 0.02912112643091306\n",
      "TransactionAmt: 0.004076430949002158\n",
      "max_c: 0.0004627445024859584\n",
      "card4_enc: 0.0001233585979907305\n"
     ]
    },
    {
     "data": {
      "text/plain": [
       "Pipeline(steps=[('preprocessor',\n",
       "                 ColumnTransformer(transformers=[('numerical_preprocessor',\n",
       "                                                  Pipeline(steps=[('imputer',\n",
       "                                                                   IterativeImputer(add_indicator=True,\n",
       "                                                                                    estimator=ExtraTreesRegressor(n_estimators=5,\n",
       "                                                                                                                  random_state=1),\n",
       "                                                                                    random_state=1)),\n",
       "                                                                  ('scaler',\n",
       "                                                                   FunctionTransformer(func=<function log_transform at 0x7f6d9ebd94c0>))]),\n",
       "                                                  Index(['TransactionAmt', 'max_c', 'max_d',...\n",
       "      dtype='object')),\n",
       "                                                 ('categorical_preprocessor',\n",
       "                                                  Pipeline(steps=[('imputer',\n",
       "                                                                   SimpleImputer(add_indicator=True,\n",
       "                                                                                 fill_value='missing',\n",
       "                                                                                 strategy='constant')),\n",
       "                                                                  ('label_enc',\n",
       "                                                                   OneHotEncoder(handle_unknown='ignore'))]),\n",
       "                                                  Index([], dtype='object'))])),\n",
       "                ('model',\n",
       "                 GradientBoostingClassifier(max_features='auto',\n",
       "                                            min_samples_leaf=2,\n",
       "                                            n_iter_no_change=25, random_state=0,\n",
       "                                            warm_start=True))])"
      ]
     },
     "execution_count": 48,
     "metadata": {},
     "output_type": "execute_result"
    },
    {
     "data": {
      "image/png": "[encoded data removed]",
      "text/plain": [
       "<Figure size 432x288 with 2 Axes>"
      ]
     },
     "metadata": {
      "needs_background": "light"
     },
     "output_type": "display_data"
    }
   ],
   "source": [
    "mlu.model_evaluation(m.base_estimator, X_val, y_val)"
   ]
  },
  {
   "cell_type": "markdown",
   "id": "e3a54a38-7f61-42f6-a098-32b9798bb986",
   "metadata": {
    "tags": []
   },
   "source": [
    "# 2.3 Predict probability"
   ]
  },
  {
   "cell_type": "code",
   "execution_count": 33,
   "id": "e40624c1-a037-465c-b079-f1a19ad46198",
   "metadata": {},
   "outputs": [
    {
     "ename": "NameError",
     "evalue": "name 'model' is not defined",
     "output_type": "error",
     "traceback": [
      "\u001b[0;31m---------------------------------------------------------------------------\u001b[0m",
      "\u001b[0;31mNameError\u001b[0m                                 Traceback (most recent call last)",
      "\u001b[0;32m/tmp/ipykernel_426/2086850417.py\u001b[0m in \u001b[0;36m<module>\u001b[0;34m\u001b[0m\n\u001b[1;32m      1\u001b[0m \u001b[0mtrain\u001b[0m\u001b[0;34m.\u001b[0m\u001b[0minsert\u001b[0m\u001b[0;34m(\u001b[0m\u001b[0;36m0\u001b[0m\u001b[0;34m,\u001b[0m\u001b[0;34m'probability_score_cluster_0'\u001b[0m\u001b[0;34m,\u001b[0m\u001b[0;34m''\u001b[0m\u001b[0;34m)\u001b[0m\u001b[0;34m\u001b[0m\u001b[0;34m\u001b[0m\u001b[0m\n\u001b[0;32m----> 2\u001b[0;31m \u001b[0mtrain\u001b[0m\u001b[0;34m[\u001b[0m\u001b[0;34m'probability_score_cluster_0'\u001b[0m\u001b[0;34m]\u001b[0m \u001b[0;34m=\u001b[0m \u001b[0mmodel\u001b[0m\u001b[0;34m.\u001b[0m\u001b[0mpredict_proba\u001b[0m\u001b[0;34m(\u001b[0m\u001b[0mX_val\u001b[0m\u001b[0;34m)\u001b[0m\u001b[0;34m[\u001b[0m\u001b[0;34m:\u001b[0m\u001b[0;34m,\u001b[0m\u001b[0;36m1\u001b[0m\u001b[0;34m]\u001b[0m\u001b[0;34m\u001b[0m\u001b[0;34m\u001b[0m\u001b[0m\n\u001b[0m",
      "\u001b[0;31mNameError\u001b[0m: name 'model' is not defined"
     ]
    }
   ],
   "source": [
    "train.insert(0,'probability_score_cluster_0','')\n",
    "train['probability_score_cluster_0'] = model.predict_proba(X_val)[:,1]"
   ]
  },
  {
   "cell_type": "markdown",
   "id": "b1873922-1b3c-409f-83fa-7775ba09fa98",
   "metadata": {},
   "source": [
    "# 4.0 Error analysis"
   ]
  },
  {
   "cell_type": "code",
   "execution_count": 34,
   "id": "d08bf80a-1946-4faa-892e-f1ba1f9200c1",
   "metadata": {},
   "outputs": [
    {
     "data": {
      "text/html": [
       "<div>\n",
       "<style scoped>\n",
       "    .dataframe tbody tr th:only-of-type {\n",
       "        vertical-align: middle;\n",
       "    }\n",
       "\n",
       "    .dataframe tbody tr th {\n",
       "        vertical-align: top;\n",
       "    }\n",
       "\n",
       "    .dataframe thead th {\n",
       "        text-align: right;\n",
       "    }\n",
       "</style>\n",
       "<table border=\"1\" class=\"dataframe\">\n",
       "  <thead>\n",
       "    <tr style=\"text-align: right;\">\n",
       "      <th></th>\n",
       "      <th>probability_score_cluster_0</th>\n",
       "      <th>TransactionAmt</th>\n",
       "      <th>max_c</th>\n",
       "      <th>max_d</th>\n",
       "      <th>product_enc</th>\n",
       "      <th>card4_enc</th>\n",
       "      <th>card6_enc</th>\n",
       "      <th>DeviceType_enc</th>\n",
       "      <th>browser_enc2</th>\n",
       "      <th>device_info_v4_enc</th>\n",
       "      <th>cluster_labels</th>\n",
       "    </tr>\n",
       "    <tr>\n",
       "      <th>customer_id</th>\n",
       "      <th></th>\n",
       "      <th></th>\n",
       "      <th></th>\n",
       "      <th></th>\n",
       "      <th></th>\n",
       "      <th></th>\n",
       "      <th></th>\n",
       "      <th></th>\n",
       "      <th></th>\n",
       "      <th></th>\n",
       "      <th></th>\n",
       "    </tr>\n",
       "  </thead>\n",
       "  <tbody>\n",
       "    <tr>\n",
       "      <th>741</th>\n",
       "      <td></td>\n",
       "      <td>0.018032</td>\n",
       "      <td>0.0</td>\n",
       "      <td>0.0</td>\n",
       "      <td>0</td>\n",
       "      <td>1</td>\n",
       "      <td>1</td>\n",
       "      <td>0</td>\n",
       "      <td>1</td>\n",
       "      <td>17</td>\n",
       "      <td>3</td>\n",
       "    </tr>\n",
       "    <tr>\n",
       "      <th>210</th>\n",
       "      <td></td>\n",
       "      <td>0.032845</td>\n",
       "      <td>0.0</td>\n",
       "      <td>0.0</td>\n",
       "      <td>1</td>\n",
       "      <td>0</td>\n",
       "      <td>1</td>\n",
       "      <td>1</td>\n",
       "      <td>0</td>\n",
       "      <td>1</td>\n",
       "      <td>0</td>\n",
       "    </tr>\n",
       "  </tbody>\n",
       "</table>\n",
       "</div>"
      ],
      "text/plain": [
       "            probability_score_cluster_0  TransactionAmt  max_c  max_d  \\\n",
       "customer_id                                                             \n",
       "741                                            0.018032    0.0    0.0   \n",
       "210                                            0.032845    0.0    0.0   \n",
       "\n",
       "             product_enc  card4_enc  card6_enc  DeviceType_enc  browser_enc2  \\\n",
       "customer_id                                                                    \n",
       "741                    0          1          1               0             1   \n",
       "210                    1          0          1               1             0   \n",
       "\n",
       "             device_info_v4_enc  cluster_labels  \n",
       "customer_id                                      \n",
       "741                          17               3  \n",
       "210                           1               0  "
      ]
     },
     "execution_count": 34,
     "metadata": {},
     "output_type": "execute_result"
    }
   ],
   "source": [
    "train.sample(2)"
   ]
  },
  {
   "cell_type": "code",
   "execution_count": 35,
   "id": "15f48e5c-107a-4e03-ad7b-2eb37206a3a8",
   "metadata": {},
   "outputs": [],
   "source": [
    "train['kp_pred'] = kproto.predict(X=train[['TransactionAmt', 'max_c', 'max_d',\n",
    "       'product_enc', 'card4_enc', 'card6_enc', 'DeviceType_enc',\n",
    "       'browser_enc2', 'device_info_v4_enc']],categorical=[3,4,5,6,7,8])"
   ]
  },
  {
   "cell_type": "code",
   "execution_count": 36,
   "id": "d0a72730-a522-41a5-8e5a-6de635f5e556",
   "metadata": {},
   "outputs": [
    {
     "data": {
      "text/html": [
       "<div>\n",
       "<style scoped>\n",
       "    .dataframe tbody tr th:only-of-type {\n",
       "        vertical-align: middle;\n",
       "    }\n",
       "\n",
       "    .dataframe tbody tr th {\n",
       "        vertical-align: top;\n",
       "    }\n",
       "\n",
       "    .dataframe thead th {\n",
       "        text-align: right;\n",
       "    }\n",
       "</style>\n",
       "<table border=\"1\" class=\"dataframe\">\n",
       "  <thead>\n",
       "    <tr style=\"text-align: right;\">\n",
       "      <th></th>\n",
       "      <th>probability_score_cluster_0</th>\n",
       "      <th>TransactionAmt</th>\n",
       "      <th>max_c</th>\n",
       "      <th>max_d</th>\n",
       "      <th>product_enc</th>\n",
       "      <th>card4_enc</th>\n",
       "      <th>card6_enc</th>\n",
       "      <th>DeviceType_enc</th>\n",
       "      <th>browser_enc2</th>\n",
       "      <th>device_info_v4_enc</th>\n",
       "      <th>cluster_labels</th>\n",
       "      <th>kp_pred</th>\n",
       "    </tr>\n",
       "    <tr>\n",
       "      <th>customer_id</th>\n",
       "      <th></th>\n",
       "      <th></th>\n",
       "      <th></th>\n",
       "      <th></th>\n",
       "      <th></th>\n",
       "      <th></th>\n",
       "      <th></th>\n",
       "      <th></th>\n",
       "      <th></th>\n",
       "      <th></th>\n",
       "      <th></th>\n",
       "      <th></th>\n",
       "    </tr>\n",
       "  </thead>\n",
       "  <tbody>\n",
       "    <tr>\n",
       "      <th>15970</th>\n",
       "      <td></td>\n",
       "      <td>0.032845</td>\n",
       "      <td>0.000000</td>\n",
       "      <td>0.032547</td>\n",
       "      <td>1</td>\n",
       "      <td>1</td>\n",
       "      <td>1</td>\n",
       "      <td>1</td>\n",
       "      <td>0</td>\n",
       "      <td>0</td>\n",
       "      <td>0</td>\n",
       "      <td>0</td>\n",
       "    </tr>\n",
       "    <tr>\n",
       "      <th>21021</th>\n",
       "      <td></td>\n",
       "      <td>0.066195</td>\n",
       "      <td>0.000000</td>\n",
       "      <td>0.187206</td>\n",
       "      <td>3</td>\n",
       "      <td>1</td>\n",
       "      <td>1</td>\n",
       "      <td>1</td>\n",
       "      <td>0</td>\n",
       "      <td>1</td>\n",
       "      <td>1</td>\n",
       "      <td>1</td>\n",
       "    </tr>\n",
       "    <tr>\n",
       "      <th>4451</th>\n",
       "      <td></td>\n",
       "      <td>0.006164</td>\n",
       "      <td>0.034679</td>\n",
       "      <td>0.387635</td>\n",
       "      <td>2</td>\n",
       "      <td>1</td>\n",
       "      <td>0</td>\n",
       "      <td>0</td>\n",
       "      <td>0</td>\n",
       "      <td>17</td>\n",
       "      <td>1</td>\n",
       "      <td>1</td>\n",
       "    </tr>\n",
       "  </tbody>\n",
       "</table>\n",
       "</div>"
      ],
      "text/plain": [
       "            probability_score_cluster_0  TransactionAmt     max_c     max_d  \\\n",
       "customer_id                                                                   \n",
       "15970                                          0.032845  0.000000  0.032547   \n",
       "21021                                          0.066195  0.000000  0.187206   \n",
       "4451                                           0.006164  0.034679  0.387635   \n",
       "\n",
       "             product_enc  card4_enc  card6_enc  DeviceType_enc  browser_enc2  \\\n",
       "customer_id                                                                    \n",
       "15970                  1          1          1               1             0   \n",
       "21021                  3          1          1               1             0   \n",
       "4451                   2          1          0               0             0   \n",
       "\n",
       "             device_info_v4_enc  cluster_labels  kp_pred  \n",
       "customer_id                                               \n",
       "15970                         0               0        0  \n",
       "21021                         1               1        1  \n",
       "4451                         17               1        1  "
      ]
     },
     "execution_count": 36,
     "metadata": {},
     "output_type": "execute_result"
    }
   ],
   "source": [
    "train.sample(3)"
   ]
  },
  {
   "cell_type": "code",
   "execution_count": 37,
   "id": "45d74311-bf72-47cf-8b51-89d91ae29701",
   "metadata": {},
   "outputs": [
    {
     "data": {
      "text/html": [
       "<div>\n",
       "<style scoped>\n",
       "    .dataframe tbody tr th:only-of-type {\n",
       "        vertical-align: middle;\n",
       "    }\n",
       "\n",
       "    .dataframe tbody tr th {\n",
       "        vertical-align: top;\n",
       "    }\n",
       "\n",
       "    .dataframe thead th {\n",
       "        text-align: right;\n",
       "    }\n",
       "</style>\n",
       "<table border=\"1\" class=\"dataframe\">\n",
       "  <thead>\n",
       "    <tr style=\"text-align: right;\">\n",
       "      <th></th>\n",
       "      <th>probability_score_cluster_0</th>\n",
       "      <th>TransactionAmt</th>\n",
       "      <th>max_c</th>\n",
       "      <th>max_d</th>\n",
       "      <th>product_enc</th>\n",
       "      <th>card4_enc</th>\n",
       "      <th>card6_enc</th>\n",
       "      <th>DeviceType_enc</th>\n",
       "      <th>browser_enc2</th>\n",
       "      <th>device_info_v4_enc</th>\n",
       "      <th>cluster_labels</th>\n",
       "      <th>kp_pred</th>\n",
       "    </tr>\n",
       "    <tr>\n",
       "      <th>customer_id</th>\n",
       "      <th></th>\n",
       "      <th></th>\n",
       "      <th></th>\n",
       "      <th></th>\n",
       "      <th></th>\n",
       "      <th></th>\n",
       "      <th></th>\n",
       "      <th></th>\n",
       "      <th></th>\n",
       "      <th></th>\n",
       "      <th></th>\n",
       "      <th></th>\n",
       "    </tr>\n",
       "  </thead>\n",
       "  <tbody>\n",
       "  </tbody>\n",
       "</table>\n",
       "</div>"
      ],
      "text/plain": [
       "Empty DataFrame\n",
       "Columns: [probability_score_cluster_0, TransactionAmt, max_c, max_d, product_enc, card4_enc, card6_enc, DeviceType_enc, browser_enc2, device_info_v4_enc, cluster_labels, kp_pred]\n",
       "Index: []"
      ]
     },
     "execution_count": 37,
     "metadata": {},
     "output_type": "execute_result"
    }
   ],
   "source": [
    "train[train['cluster_labels'] != train['kp_pred']]"
   ]
  },
  {
   "cell_type": "code",
   "execution_count": 38,
   "id": "97370bf4-c5ac-4640-b707-6909dce26ee5",
   "metadata": {},
   "outputs": [],
   "source": [
    "val['kp_pred'] = kproto.predict(X=val[['TransactionAmt', 'max_c', 'max_d',\n",
    "       'product_enc', 'card4_enc', 'card6_enc', 'DeviceType_enc',\n",
    "       'browser_enc2', 'device_info_v4_enc']],categorical=[3,4,5,6,7,8])"
   ]
  },
  {
   "cell_type": "code",
   "execution_count": 39,
   "id": "72a3b3a1-4983-42fd-ac2b-e683037367b6",
   "metadata": {},
   "outputs": [
    {
     "data": {
      "text/html": [
       "<div>\n",
       "<style scoped>\n",
       "    .dataframe tbody tr th:only-of-type {\n",
       "        vertical-align: middle;\n",
       "    }\n",
       "\n",
       "    .dataframe tbody tr th {\n",
       "        vertical-align: top;\n",
       "    }\n",
       "\n",
       "    .dataframe thead th {\n",
       "        text-align: right;\n",
       "    }\n",
       "</style>\n",
       "<table border=\"1\" class=\"dataframe\">\n",
       "  <thead>\n",
       "    <tr style=\"text-align: right;\">\n",
       "      <th></th>\n",
       "      <th>TransactionAmt</th>\n",
       "      <th>max_c</th>\n",
       "      <th>max_d</th>\n",
       "      <th>product_enc</th>\n",
       "      <th>card4_enc</th>\n",
       "      <th>card6_enc</th>\n",
       "      <th>DeviceType_enc</th>\n",
       "      <th>browser_enc2</th>\n",
       "      <th>device_info_v4_enc</th>\n",
       "      <th>kp_pred</th>\n",
       "    </tr>\n",
       "    <tr>\n",
       "      <th>customer_id</th>\n",
       "      <th></th>\n",
       "      <th></th>\n",
       "      <th></th>\n",
       "      <th></th>\n",
       "      <th></th>\n",
       "      <th></th>\n",
       "      <th></th>\n",
       "      <th></th>\n",
       "      <th></th>\n",
       "      <th></th>\n",
       "    </tr>\n",
       "  </thead>\n",
       "  <tbody>\n",
       "    <tr>\n",
       "      <th>18515</th>\n",
       "      <td>0.049520</td>\n",
       "      <td>0.000000</td>\n",
       "      <td>0.000000</td>\n",
       "      <td>1</td>\n",
       "      <td>0</td>\n",
       "      <td>0</td>\n",
       "      <td>1</td>\n",
       "      <td>0</td>\n",
       "      <td>1</td>\n",
       "      <td>0</td>\n",
       "    </tr>\n",
       "    <tr>\n",
       "      <th>10602</th>\n",
       "      <td>0.032845</td>\n",
       "      <td>0.000356</td>\n",
       "      <td>0.430380</td>\n",
       "      <td>3</td>\n",
       "      <td>1</td>\n",
       "      <td>0</td>\n",
       "      <td>0</td>\n",
       "      <td>1</td>\n",
       "      <td>0</td>\n",
       "      <td>1</td>\n",
       "    </tr>\n",
       "    <tr>\n",
       "      <th>3937</th>\n",
       "      <td>0.032845</td>\n",
       "      <td>0.000000</td>\n",
       "      <td>0.018542</td>\n",
       "      <td>1</td>\n",
       "      <td>0</td>\n",
       "      <td>0</td>\n",
       "      <td>0</td>\n",
       "      <td>0</td>\n",
       "      <td>6</td>\n",
       "      <td>2</td>\n",
       "    </tr>\n",
       "    <tr>\n",
       "      <th>21365</th>\n",
       "      <td>0.032845</td>\n",
       "      <td>0.000000</td>\n",
       "      <td>0.000512</td>\n",
       "      <td>1</td>\n",
       "      <td>1</td>\n",
       "      <td>1</td>\n",
       "      <td>0</td>\n",
       "      <td>1</td>\n",
       "      <td>0</td>\n",
       "      <td>3</td>\n",
       "    </tr>\n",
       "    <tr>\n",
       "      <th>27679</th>\n",
       "      <td>0.039230</td>\n",
       "      <td>0.000178</td>\n",
       "      <td>0.001757</td>\n",
       "      <td>0</td>\n",
       "      <td>0</td>\n",
       "      <td>0</td>\n",
       "      <td>0</td>\n",
       "      <td>1</td>\n",
       "      <td>17</td>\n",
       "      <td>2</td>\n",
       "    </tr>\n",
       "  </tbody>\n",
       "</table>\n",
       "</div>"
      ],
      "text/plain": [
       "             TransactionAmt     max_c     max_d  product_enc  card4_enc  \\\n",
       "customer_id                                                               \n",
       "18515              0.049520  0.000000  0.000000            1          0   \n",
       "10602              0.032845  0.000356  0.430380            3          1   \n",
       "3937               0.032845  0.000000  0.018542            1          0   \n",
       "21365              0.032845  0.000000  0.000512            1          1   \n",
       "27679              0.039230  0.000178  0.001757            0          0   \n",
       "\n",
       "             card6_enc  DeviceType_enc  browser_enc2  device_info_v4_enc  \\\n",
       "customer_id                                                                \n",
       "18515                0               1             0                   1   \n",
       "10602                0               0             1                   0   \n",
       "3937                 0               0             0                   6   \n",
       "21365                1               0             1                   0   \n",
       "27679                0               0             1                  17   \n",
       "\n",
       "             kp_pred  \n",
       "customer_id           \n",
       "18515              0  \n",
       "10602              1  \n",
       "3937               2  \n",
       "21365              3  \n",
       "27679              2  "
      ]
     },
     "execution_count": 39,
     "metadata": {},
     "output_type": "execute_result"
    }
   ],
   "source": [
    "val.sample(5)"
   ]
  },
  {
   "cell_type": "code",
   "execution_count": 40,
   "id": "e9310cb2-cca1-4aa3-ac4b-169da34d75eb",
   "metadata": {},
   "outputs": [],
   "source": [
    "test['kp_pred'] = kproto.predict(X=test[['TransactionAmt', 'max_c', 'max_d',\n",
    "       'product_enc', 'card4_enc', 'card6_enc', 'DeviceType_enc',\n",
    "       'browser_enc2', 'device_info_v4_enc']],categorical=[3,4,5,6,7,8])"
   ]
  },
  {
   "cell_type": "code",
   "execution_count": 41,
   "id": "aeb4a41a-8c2d-4819-916d-213005c9d113",
   "metadata": {},
   "outputs": [
    {
     "data": {
      "text/html": [
       "<div>\n",
       "<style scoped>\n",
       "    .dataframe tbody tr th:only-of-type {\n",
       "        vertical-align: middle;\n",
       "    }\n",
       "\n",
       "    .dataframe tbody tr th {\n",
       "        vertical-align: top;\n",
       "    }\n",
       "\n",
       "    .dataframe thead th {\n",
       "        text-align: right;\n",
       "    }\n",
       "</style>\n",
       "<table border=\"1\" class=\"dataframe\">\n",
       "  <thead>\n",
       "    <tr style=\"text-align: right;\">\n",
       "      <th></th>\n",
       "      <th>TransactionAmt</th>\n",
       "      <th>max_c</th>\n",
       "      <th>max_d</th>\n",
       "      <th>product_enc</th>\n",
       "      <th>card4_enc</th>\n",
       "      <th>card6_enc</th>\n",
       "      <th>DeviceType_enc</th>\n",
       "      <th>browser_enc2</th>\n",
       "      <th>device_info_v4_enc</th>\n",
       "      <th>kp_pred</th>\n",
       "    </tr>\n",
       "    <tr>\n",
       "      <th>customer_id</th>\n",
       "      <th></th>\n",
       "      <th></th>\n",
       "      <th></th>\n",
       "      <th></th>\n",
       "      <th></th>\n",
       "      <th></th>\n",
       "      <th></th>\n",
       "      <th></th>\n",
       "      <th></th>\n",
       "      <th></th>\n",
       "    </tr>\n",
       "  </thead>\n",
       "  <tbody>\n",
       "    <tr>\n",
       "      <th>600</th>\n",
       "      <td>0.072865</td>\n",
       "      <td>0.008892</td>\n",
       "      <td>0.145802</td>\n",
       "      <td>2</td>\n",
       "      <td>1</td>\n",
       "      <td>1</td>\n",
       "      <td>1</td>\n",
       "      <td>5</td>\n",
       "      <td>1</td>\n",
       "      <td>0</td>\n",
       "    </tr>\n",
       "    <tr>\n",
       "      <th>32214</th>\n",
       "      <td>0.132895</td>\n",
       "      <td>0.000000</td>\n",
       "      <td>0.426867</td>\n",
       "      <td>3</td>\n",
       "      <td>2</td>\n",
       "      <td>1</td>\n",
       "      <td>1</td>\n",
       "      <td>1</td>\n",
       "      <td>0</td>\n",
       "      <td>1</td>\n",
       "    </tr>\n",
       "    <tr>\n",
       "      <th>34397</th>\n",
       "      <td>0.032845</td>\n",
       "      <td>0.000178</td>\n",
       "      <td>0.006685</td>\n",
       "      <td>1</td>\n",
       "      <td>0</td>\n",
       "      <td>0</td>\n",
       "      <td>1</td>\n",
       "      <td>1</td>\n",
       "      <td>0</td>\n",
       "      <td>3</td>\n",
       "    </tr>\n",
       "  </tbody>\n",
       "</table>\n",
       "</div>"
      ],
      "text/plain": [
       "             TransactionAmt     max_c     max_d  product_enc  card4_enc  \\\n",
       "customer_id                                                               \n",
       "600                0.072865  0.008892  0.145802            2          1   \n",
       "32214              0.132895  0.000000  0.426867            3          2   \n",
       "34397              0.032845  0.000178  0.006685            1          0   \n",
       "\n",
       "             card6_enc  DeviceType_enc  browser_enc2  device_info_v4_enc  \\\n",
       "customer_id                                                                \n",
       "600                  1               1             5                   1   \n",
       "32214                1               1             1                   0   \n",
       "34397                0               1             1                   0   \n",
       "\n",
       "             kp_pred  \n",
       "customer_id           \n",
       "600                0  \n",
       "32214              1  \n",
       "34397              3  "
      ]
     },
     "execution_count": 41,
     "metadata": {},
     "output_type": "execute_result"
    }
   ],
   "source": [
    "test.sample(3)"
   ]
  },
  {
   "cell_type": "code",
   "execution_count": 42,
   "id": "2000b455-e55b-4313-8ffb-7269ab30eec3",
   "metadata": {},
   "outputs": [
    {
     "ename": "KeyError",
     "evalue": "'cluster_labels'",
     "output_type": "error",
     "traceback": [
      "\u001b[0;31m---------------------------------------------------------------------------\u001b[0m",
      "\u001b[0;31mKeyError\u001b[0m                                  Traceback (most recent call last)",
      "\u001b[0;32m/anaconda/lib/python3.9/site-packages/pandas/core/indexes/base.py\u001b[0m in \u001b[0;36mget_loc\u001b[0;34m(self, key, method, tolerance)\u001b[0m\n\u001b[1;32m   3360\u001b[0m             \u001b[0;32mtry\u001b[0m\u001b[0;34m:\u001b[0m\u001b[0;34m\u001b[0m\u001b[0;34m\u001b[0m\u001b[0m\n\u001b[0;32m-> 3361\u001b[0;31m                 \u001b[0;32mreturn\u001b[0m \u001b[0mself\u001b[0m\u001b[0;34m.\u001b[0m\u001b[0m_engine\u001b[0m\u001b[0;34m.\u001b[0m\u001b[0mget_loc\u001b[0m\u001b[0;34m(\u001b[0m\u001b[0mcasted_key\u001b[0m\u001b[0;34m)\u001b[0m\u001b[0;34m\u001b[0m\u001b[0;34m\u001b[0m\u001b[0m\n\u001b[0m\u001b[1;32m   3362\u001b[0m             \u001b[0;32mexcept\u001b[0m \u001b[0mKeyError\u001b[0m \u001b[0;32mas\u001b[0m \u001b[0merr\u001b[0m\u001b[0;34m:\u001b[0m\u001b[0;34m\u001b[0m\u001b[0;34m\u001b[0m\u001b[0m\n",
      "\u001b[0;32m/anaconda/lib/python3.9/site-packages/pandas/_libs/index.pyx\u001b[0m in \u001b[0;36mpandas._libs.index.IndexEngine.get_loc\u001b[0;34m()\u001b[0m\n",
      "\u001b[0;32m/anaconda/lib/python3.9/site-packages/pandas/_libs/index.pyx\u001b[0m in \u001b[0;36mpandas._libs.index.IndexEngine.get_loc\u001b[0;34m()\u001b[0m\n",
      "\u001b[0;32mpandas/_libs/hashtable_class_helper.pxi\u001b[0m in \u001b[0;36mpandas._libs.hashtable.PyObjectHashTable.get_item\u001b[0;34m()\u001b[0m\n",
      "\u001b[0;32mpandas/_libs/hashtable_class_helper.pxi\u001b[0m in \u001b[0;36mpandas._libs.hashtable.PyObjectHashTable.get_item\u001b[0;34m()\u001b[0m\n",
      "\u001b[0;31mKeyError\u001b[0m: 'cluster_labels'",
      "\nThe above exception was the direct cause of the following exception:\n",
      "\u001b[0;31mKeyError\u001b[0m                                  Traceback (most recent call last)",
      "\u001b[0;32m/tmp/ipykernel_426/2066863904.py\u001b[0m in \u001b[0;36m<module>\u001b[0;34m\u001b[0m\n\u001b[0;32m----> 1\u001b[0;31m \u001b[0mtest\u001b[0m\u001b[0;34m[\u001b[0m\u001b[0mtest\u001b[0m\u001b[0;34m[\u001b[0m\u001b[0;34m'cluster_labels'\u001b[0m\u001b[0;34m]\u001b[0m \u001b[0;34m!=\u001b[0m \u001b[0mtest\u001b[0m\u001b[0;34m[\u001b[0m\u001b[0;34m'kp_pred'\u001b[0m\u001b[0;34m]\u001b[0m\u001b[0;34m]\u001b[0m\u001b[0;34m\u001b[0m\u001b[0;34m\u001b[0m\u001b[0m\n\u001b[0m",
      "\u001b[0;32m/anaconda/lib/python3.9/site-packages/pandas/core/frame.py\u001b[0m in \u001b[0;36m__getitem__\u001b[0;34m(self, key)\u001b[0m\n\u001b[1;32m   3456\u001b[0m             \u001b[0;32mif\u001b[0m \u001b[0mself\u001b[0m\u001b[0;34m.\u001b[0m\u001b[0mcolumns\u001b[0m\u001b[0;34m.\u001b[0m\u001b[0mnlevels\u001b[0m \u001b[0;34m>\u001b[0m \u001b[0;36m1\u001b[0m\u001b[0;34m:\u001b[0m\u001b[0;34m\u001b[0m\u001b[0;34m\u001b[0m\u001b[0m\n\u001b[1;32m   3457\u001b[0m                 \u001b[0;32mreturn\u001b[0m \u001b[0mself\u001b[0m\u001b[0;34m.\u001b[0m\u001b[0m_getitem_multilevel\u001b[0m\u001b[0;34m(\u001b[0m\u001b[0mkey\u001b[0m\u001b[0;34m)\u001b[0m\u001b[0;34m\u001b[0m\u001b[0;34m\u001b[0m\u001b[0m\n\u001b[0;32m-> 3458\u001b[0;31m             \u001b[0mindexer\u001b[0m \u001b[0;34m=\u001b[0m \u001b[0mself\u001b[0m\u001b[0;34m.\u001b[0m\u001b[0mcolumns\u001b[0m\u001b[0;34m.\u001b[0m\u001b[0mget_loc\u001b[0m\u001b[0;34m(\u001b[0m\u001b[0mkey\u001b[0m\u001b[0;34m)\u001b[0m\u001b[0;34m\u001b[0m\u001b[0;34m\u001b[0m\u001b[0m\n\u001b[0m\u001b[1;32m   3459\u001b[0m             \u001b[0;32mif\u001b[0m \u001b[0mis_integer\u001b[0m\u001b[0;34m(\u001b[0m\u001b[0mindexer\u001b[0m\u001b[0;34m)\u001b[0m\u001b[0;34m:\u001b[0m\u001b[0;34m\u001b[0m\u001b[0;34m\u001b[0m\u001b[0m\n\u001b[1;32m   3460\u001b[0m                 \u001b[0mindexer\u001b[0m \u001b[0;34m=\u001b[0m \u001b[0;34m[\u001b[0m\u001b[0mindexer\u001b[0m\u001b[0;34m]\u001b[0m\u001b[0;34m\u001b[0m\u001b[0;34m\u001b[0m\u001b[0m\n",
      "\u001b[0;32m/anaconda/lib/python3.9/site-packages/pandas/core/indexes/base.py\u001b[0m in \u001b[0;36mget_loc\u001b[0;34m(self, key, method, tolerance)\u001b[0m\n\u001b[1;32m   3361\u001b[0m                 \u001b[0;32mreturn\u001b[0m \u001b[0mself\u001b[0m\u001b[0;34m.\u001b[0m\u001b[0m_engine\u001b[0m\u001b[0;34m.\u001b[0m\u001b[0mget_loc\u001b[0m\u001b[0;34m(\u001b[0m\u001b[0mcasted_key\u001b[0m\u001b[0;34m)\u001b[0m\u001b[0;34m\u001b[0m\u001b[0;34m\u001b[0m\u001b[0m\n\u001b[1;32m   3362\u001b[0m             \u001b[0;32mexcept\u001b[0m \u001b[0mKeyError\u001b[0m \u001b[0;32mas\u001b[0m \u001b[0merr\u001b[0m\u001b[0;34m:\u001b[0m\u001b[0;34m\u001b[0m\u001b[0;34m\u001b[0m\u001b[0m\n\u001b[0;32m-> 3363\u001b[0;31m                 \u001b[0;32mraise\u001b[0m \u001b[0mKeyError\u001b[0m\u001b[0;34m(\u001b[0m\u001b[0mkey\u001b[0m\u001b[0;34m)\u001b[0m \u001b[0;32mfrom\u001b[0m \u001b[0merr\u001b[0m\u001b[0;34m\u001b[0m\u001b[0;34m\u001b[0m\u001b[0m\n\u001b[0m\u001b[1;32m   3364\u001b[0m \u001b[0;34m\u001b[0m\u001b[0m\n\u001b[1;32m   3365\u001b[0m         \u001b[0;32mif\u001b[0m \u001b[0mis_scalar\u001b[0m\u001b[0;34m(\u001b[0m\u001b[0mkey\u001b[0m\u001b[0;34m)\u001b[0m \u001b[0;32mand\u001b[0m \u001b[0misna\u001b[0m\u001b[0;34m(\u001b[0m\u001b[0mkey\u001b[0m\u001b[0;34m)\u001b[0m \u001b[0;32mand\u001b[0m \u001b[0;32mnot\u001b[0m \u001b[0mself\u001b[0m\u001b[0;34m.\u001b[0m\u001b[0mhasnans\u001b[0m\u001b[0;34m:\u001b[0m\u001b[0;34m\u001b[0m\u001b[0;34m\u001b[0m\u001b[0m\n",
      "\u001b[0;31mKeyError\u001b[0m: 'cluster_labels'"
     ]
    }
   ],
   "source": [
    "test[test['cluster_labels'] != test['kp_pred']]"
   ]
  },
  {
   "cell_type": "code",
   "execution_count": null,
   "id": "8f659dad-2037-4f50-b96b-eef36fa5ad17",
   "metadata": {},
   "outputs": [],
   "source": []
  },
  {
   "cell_type": "code",
   "execution_count": null,
   "id": "f7a6a161-d98e-478a-8a9d-5b9d2f3ff193",
   "metadata": {},
   "outputs": [],
   "source": []
  },
  {
   "cell_type": "code",
   "execution_count": null,
   "id": "d3e3be06-49e5-4aae-9311-4b3fae9c7f8b",
   "metadata": {},
   "outputs": [],
   "source": []
  },
  {
   "cell_type": "code",
   "execution_count": 21,
   "id": "5e479b3c-95d1-4262-a43b-f71a7c418c53",
   "metadata": {},
   "outputs": [
    {
     "data": {
      "text/plain": [
       "<AxesSubplot:>"
      ]
     },
     "execution_count": 21,
     "metadata": {},
     "output_type": "execute_result"
    },
    {
     "data": {
      "image/png": "[encoded data removed]",
      "text/plain": [
       "<Figure size 432x288 with 1 Axes>"
      ]
     },
     "metadata": {
      "needs_background": "light"
     },
     "output_type": "display_data"
    }
   ],
   "source": [
    "val['probability_score'].hist()"
   ]
  },
  {
   "cell_type": "code",
   "execution_count": 22,
   "id": "f84d08c8-8307-4f7e-829e-f9759decdca9",
   "metadata": {},
   "outputs": [
    {
     "data": {
      "text/plain": [
       "<AxesSubplot:>"
      ]
     },
     "execution_count": 22,
     "metadata": {},
     "output_type": "execute_result"
    },
    {
     "data": {
      "image/png": "[encoded data removed]",
      "text/plain": [
       "<Figure size 432x288 with 1 Axes>"
      ]
     },
     "metadata": {
      "needs_background": "light"
     },
     "output_type": "display_data"
    }
   ],
   "source": [
    "val['warning_score'].hist()"
   ]
  },
  {
   "cell_type": "markdown",
   "id": "0681d2fa-ffc3-40c8-82a3-26bab7fc3d8d",
   "metadata": {},
   "source": [
    "# 5.0 Bayesian Fusion"
   ]
  },
  {
   "cell_type": "code",
   "execution_count": 23,
   "id": "b70e780c-22e5-4245-895a-224bb15e7028",
   "metadata": {},
   "outputs": [],
   "source": [
    "val['final_score'] = val.apply(lambda x: mlu.beta_fusion(x['probability_score'],x['warning_score'],0.6),axis=1)"
   ]
  },
  {
   "cell_type": "code",
   "execution_count": 24,
   "id": "56e1b1be-d249-458a-9c51-f648e4e7c2ac",
   "metadata": {},
   "outputs": [
    {
     "data": {
      "text/html": [
       "<div>\n",
       "<style scoped>\n",
       "    .dataframe tbody tr th:only-of-type {\n",
       "        vertical-align: middle;\n",
       "    }\n",
       "\n",
       "    .dataframe tbody tr th {\n",
       "        vertical-align: top;\n",
       "    }\n",
       "\n",
       "    .dataframe thead th {\n",
       "        text-align: right;\n",
       "    }\n",
       "</style>\n",
       "<table border=\"1\" class=\"dataframe\">\n",
       "  <thead>\n",
       "    <tr style=\"text-align: right;\">\n",
       "      <th></th>\n",
       "      <th>probability_score</th>\n",
       "      <th>isFraud</th>\n",
       "      <th>TransactionAmt</th>\n",
       "      <th>ProductCD</th>\n",
       "      <th>card4</th>\n",
       "      <th>card6</th>\n",
       "      <th>addr1</th>\n",
       "      <th>addr2</th>\n",
       "      <th>P_emaildomain</th>\n",
       "      <th>R_emaildomain</th>\n",
       "      <th>DeviceType</th>\n",
       "      <th>max_c</th>\n",
       "      <th>max_d</th>\n",
       "      <th>multi_transaction_per_time</th>\n",
       "      <th>browser_enc</th>\n",
       "      <th>device_info_v4</th>\n",
       "      <th>warning_score</th>\n",
       "      <th>final_score</th>\n",
       "    </tr>\n",
       "  </thead>\n",
       "  <tbody>\n",
       "    <tr>\n",
       "      <th>24355</th>\n",
       "      <td>0.012667</td>\n",
       "      <td>0</td>\n",
       "      <td>25.000</td>\n",
       "      <td>H</td>\n",
       "      <td>visa</td>\n",
       "      <td>debit</td>\n",
       "      <td>203.0</td>\n",
       "      <td>87.0</td>\n",
       "      <td>gmail.com</td>\n",
       "      <td>nan</td>\n",
       "      <td>mobile</td>\n",
       "      <td>1.0</td>\n",
       "      <td>0.0</td>\n",
       "      <td>0</td>\n",
       "      <td>safari</td>\n",
       "      <td>ios</td>\n",
       "      <td>0.307262</td>\n",
       "      <td>0.167455</td>\n",
       "    </tr>\n",
       "    <tr>\n",
       "      <th>105103</th>\n",
       "      <td>0.229520</td>\n",
       "      <td>0</td>\n",
       "      <td>58.124</td>\n",
       "      <td>C</td>\n",
       "      <td>visa</td>\n",
       "      <td>debit</td>\n",
       "      <td>nan</td>\n",
       "      <td>nan</td>\n",
       "      <td>gmail.com</td>\n",
       "      <td>gmail.com</td>\n",
       "      <td>desktop</td>\n",
       "      <td>1.0</td>\n",
       "      <td>0.0</td>\n",
       "      <td>0</td>\n",
       "      <td>firefox</td>\n",
       "      <td>windows</td>\n",
       "      <td>0.307262</td>\n",
       "      <td>0.284555</td>\n",
       "    </tr>\n",
       "  </tbody>\n",
       "</table>\n",
       "</div>"
      ],
      "text/plain": [
       "        probability_score isFraud  TransactionAmt ProductCD card4  card6  \\\n",
       "24355            0.012667       0          25.000         H  visa  debit   \n",
       "105103           0.229520       0          58.124         C  visa  debit   \n",
       "\n",
       "        addr1 addr2 P_emaildomain R_emaildomain DeviceType  max_c  max_d  \\\n",
       "24355   203.0  87.0     gmail.com           nan     mobile    1.0    0.0   \n",
       "105103    nan   nan     gmail.com     gmail.com    desktop    1.0    0.0   \n",
       "\n",
       "        multi_transaction_per_time browser_enc device_info_v4  warning_score  \\\n",
       "24355                            0      safari            ios       0.307262   \n",
       "105103                           0     firefox        windows       0.307262   \n",
       "\n",
       "        final_score  \n",
       "24355      0.167455  \n",
       "105103     0.284555  "
      ]
     },
     "execution_count": 24,
     "metadata": {},
     "output_type": "execute_result"
    }
   ],
   "source": [
    "val.sample(2)"
   ]
  },
  {
   "cell_type": "code",
   "execution_count": 25,
   "id": "58627865-bd9d-4456-8624-1b9f3029f988",
   "metadata": {},
   "outputs": [
    {
     "data": {
      "text/plain": [
       "<AxesSubplot:>"
      ]
     },
     "execution_count": 25,
     "metadata": {},
     "output_type": "execute_result"
    },
    {
     "data": {
      "image/png": "[encoded data removed]",
      "text/plain": [
       "<Figure size 432x288 with 1 Axes>"
      ]
     },
     "metadata": {
      "needs_background": "light"
     },
     "output_type": "display_data"
    }
   ],
   "source": [
    "val['final_score'].hist()"
   ]
  },
  {
   "cell_type": "markdown",
   "id": "c38cf05a-2a26-4abc-bfe1-436317ca1aa9",
   "metadata": {},
   "source": [
    "# 6.0 Model Output"
   ]
  },
  {
   "cell_type": "code",
   "execution_count": 26,
   "id": "0426aa06-c968-4fc9-9533-1edf64743b84",
   "metadata": {},
   "outputs": [],
   "source": [
    "with open('../../data_lake/output/trained_model_v1.pkl','wb') as file:\n",
    "    pickle.dump(m.base_estimator, file)"
   ]
  },
  {
   "cell_type": "code",
   "execution_count": 27,
   "id": "21e4e969-d853-44f1-8c04-cd6388a875d7",
   "metadata": {},
   "outputs": [],
   "source": [
    "with open('../../data_lake/output/log_scaler_bi.pkl','wb') as file:\n",
    "    pickle.dump(scaler, file)"
   ]
  },
  {
   "cell_type": "code",
   "execution_count": null,
   "id": "c6292b56-2e74-48ca-b564-731f7b895956",
   "metadata": {},
   "outputs": [],
   "source": []
  }
 ],
 "metadata": {
  "kernelspec": {
   "display_name": "dev",
   "language": "python",
   "name": "python3"
  },
  "language_info": {
   "codemirror_mode": {
    "name": "ipython",
    "version": 3
   },
   "file_extension": ".py",
   "mimetype": "text/x-python",
   "name": "python",
   "nbconvert_exporter": "python",
   "pygments_lexer": "ipython3",
   "version": "3.9.7"
  }
 },
 "nbformat": 4,
 "nbformat_minor": 5
}
