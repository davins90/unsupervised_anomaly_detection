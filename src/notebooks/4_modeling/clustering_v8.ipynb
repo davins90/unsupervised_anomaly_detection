{
 "cells": [
  {
   "cell_type": "markdown",
   "id": "78b9ab1b-17b0-45a4-96ef-785cbeb8355f",
   "metadata": {},
   "source": [
    "clustering final"
   ]
  },
  {
   "cell_type": "code",
   "execution_count": 1,
   "id": "6d57c904-bd1c-47ef-b5d7-46d730fc9ee9",
   "metadata": {},
   "outputs": [],
   "source": [
    "import sys\n",
    "sys.path.append('../../')"
   ]
  },
  {
   "cell_type": "code",
   "execution_count": 2,
   "id": "4749bf27-a893-49c2-80c1-78b7601f0e16",
   "metadata": {},
   "outputs": [],
   "source": [
    "import pandas as pd\n",
    "import numpy as np\n",
    "import pickle\n",
    "import matplotlib.pyplot as plt\n",
    "\n",
    "from modules import machine_learning_utils as mlu\n",
    "\n",
    "pd.set_option(\"display.max_rows\",None)\n",
    "pd.set_option(\"display.max_columns\",None)"
   ]
  },
  {
   "cell_type": "markdown",
   "id": "3f4f1e2c-06fe-46f3-8f2f-f8f25c143da0",
   "metadata": {},
   "source": [
    "# 1.0 Data retrieval"
   ]
  },
  {
   "cell_type": "code",
   "execution_count": 3,
   "id": "65e43a7d-43ac-42b0-8296-fb0514f8ebd2",
   "metadata": {},
   "outputs": [],
   "source": [
    "df = pd.read_pickle(\"../../data_lake/output/train.pkl\")"
   ]
  },
  {
   "cell_type": "markdown",
   "id": "67801f17-00ca-4995-b791-b42570eb6ab7",
   "metadata": {},
   "source": [
    "# 2.0 Features Engineering"
   ]
  },
  {
   "cell_type": "code",
   "execution_count": 4,
   "id": "5695955c-8f39-4d9d-9201-5e84148e187b",
   "metadata": {},
   "outputs": [],
   "source": [
    "df = mlu.features_eng(df,'clustering')"
   ]
  },
  {
   "cell_type": "code",
   "execution_count": 5,
   "id": "e4bc0644-78fa-4dd8-bfcc-dbb838b41fd9",
   "metadata": {},
   "outputs": [],
   "source": [
    "cols = ['card1', 'card2', 'card3', 'card5', 'M4', 'id_21', 'id_22', 'id_23', 'id_24', 'id_25',\n",
    "       'id_26', 'id_27', 'id_28', 'id_29', 'id_30', 'id_32', 'id_33', 'id_34',\n",
    "       'id_35', 'id_36', 'id_37', 'id_38','num_transaction_per_time','addr1','P_emaildomain','R_emaildomain']"
   ]
  },
  {
   "cell_type": "code",
   "execution_count": 6,
   "id": "65b20810-ad8f-40bf-bb53-8c35aa71f0e3",
   "metadata": {},
   "outputs": [],
   "source": [
    "df = df.drop(columns=cols)"
   ]
  },
  {
   "cell_type": "code",
   "execution_count": 7,
   "id": "3e70dd1b-59be-4267-9c7a-8e55f2568a52",
   "metadata": {},
   "outputs": [],
   "source": [
    "df = df[df['isFraud']==0]\n",
    "df = df.drop(columns='isFraud')"
   ]
  },
  {
   "cell_type": "code",
   "execution_count": 8,
   "id": "81320968-b660-4d04-b79b-ec894f02aba7",
   "metadata": {},
   "outputs": [],
   "source": [
    "df = df.drop(columns=['addr2','multi_transaction_per_time'])"
   ]
  },
  {
   "cell_type": "code",
   "execution_count": 9,
   "id": "c93ac9bf-a84d-4f79-987d-1c9cae9fc2ad",
   "metadata": {},
   "outputs": [
    {
     "data": {
      "text/html": [
       "<div>\n",
       "<style scoped>\n",
       "    .dataframe tbody tr th:only-of-type {\n",
       "        vertical-align: middle;\n",
       "    }\n",
       "\n",
       "    .dataframe tbody tr th {\n",
       "        vertical-align: top;\n",
       "    }\n",
       "\n",
       "    .dataframe thead th {\n",
       "        text-align: right;\n",
       "    }\n",
       "</style>\n",
       "<table border=\"1\" class=\"dataframe\">\n",
       "  <thead>\n",
       "    <tr style=\"text-align: right;\">\n",
       "      <th></th>\n",
       "      <th>TransactionAmt</th>\n",
       "      <th>ProductCD</th>\n",
       "      <th>card4</th>\n",
       "      <th>card6</th>\n",
       "      <th>DeviceType</th>\n",
       "      <th>max_c</th>\n",
       "      <th>max_d</th>\n",
       "      <th>customer_id</th>\n",
       "      <th>browser_enc</th>\n",
       "      <th>device_info_v4</th>\n",
       "    </tr>\n",
       "  </thead>\n",
       "  <tbody>\n",
       "    <tr>\n",
       "      <th>76353</th>\n",
       "      <td>91.718</td>\n",
       "      <td>C</td>\n",
       "      <td>mastercard</td>\n",
       "      <td>debit</td>\n",
       "      <td>mobile</td>\n",
       "      <td>1.0</td>\n",
       "      <td>267.541656</td>\n",
       "      <td>62</td>\n",
       "      <td>android</td>\n",
       "      <td>samsung</td>\n",
       "    </tr>\n",
       "  </tbody>\n",
       "</table>\n",
       "</div>"
      ],
      "text/plain": [
       "       TransactionAmt ProductCD       card4  card6 DeviceType  max_c  \\\n",
       "76353          91.718         C  mastercard  debit     mobile    1.0   \n",
       "\n",
       "            max_d  customer_id browser_enc device_info_v4  \n",
       "76353  267.541656           62     android        samsung  "
      ]
     },
     "execution_count": 9,
     "metadata": {},
     "output_type": "execute_result"
    }
   ],
   "source": [
    "df.sample(1)"
   ]
  },
  {
   "cell_type": "markdown",
   "id": "9fd9cec7-f0ee-4ea7-b23b-739f1863b8db",
   "metadata": {},
   "source": [
    "# 3.0 Training clustering"
   ]
  },
  {
   "cell_type": "code",
   "execution_count": 11,
   "id": "67cc4f26-8a36-44ef-985a-b2221df84a5e",
   "metadata": {},
   "outputs": [],
   "source": [
    "df, imp_mean, imp_mean2, scaler = mlu.clustering_preparation(df,'training')"
   ]
  },
  {
   "cell_type": "code",
   "execution_count": 14,
   "id": "282091e5-632b-495f-9de9-aadf1207f953",
   "metadata": {},
   "outputs": [],
   "source": [
    "df = mlu.clustering_encoding(df)"
   ]
  },
  {
   "cell_type": "markdown",
   "id": "33fed496-e96d-4db6-9275-6787a3118fad",
   "metadata": {},
   "source": [
    "# 3.0 Personas generation"
   ]
  },
  {
   "cell_type": "code",
   "execution_count": 16,
   "id": "9854a4cf-288d-4361-add9-439c65f906a4",
   "metadata": {},
   "outputs": [
    {
     "name": "stdout",
     "output_type": "stream",
     "text": [
      "For cluster number:  2  the score is:  0.26329783\n",
      "For cluster number:  3  the score is:  0.2508759\n",
      "For cluster number:  4  the score is:  0.21009842\n"
     ]
    }
   ],
   "source": [
    "mlu.clustering_main(df,'training',5,None)"
   ]
  },
  {
   "cell_type": "code",
   "execution_count": 17,
   "id": "a59a7e1b-8744-4658-8a33-a04d4436d591",
   "metadata": {},
   "outputs": [
    {
     "name": "stdout",
     "output_type": "stream",
     "text": [
      "0    2969\n",
      "2    2109\n",
      "3    1918\n",
      "1    1031\n",
      "Name: cluster_labels, dtype: int64\n"
     ]
    }
   ],
   "source": [
    "df, centroid, model = mlu.clustering_main(df,'choosen',None,4)"
   ]
  },
  {
   "cell_type": "code",
   "execution_count": 18,
   "id": "a7ec7541-86f2-46ec-b87b-c75e40a75495",
   "metadata": {},
   "outputs": [
    {
     "data": {
      "text/html": [
       "<style type=\"text/css\">\n",
       "#T_5b54c_row0_col0 {\n",
       "  background-color: #c43b00;\n",
       "  color: #f1f1f1;\n",
       "}\n",
       "#T_5b54c_row0_col1, #T_5b54c_row1_col2, #T_5b54c_row2_col1, #T_5b54c_row3_col1, #T_5b54c_row5_col0, #T_5b54c_row5_col3, #T_5b54c_row6_col0, #T_5b54c_row6_col1, #T_5b54c_row7_col3, #T_5b54c_row8_col2 {\n",
       "  background-color: #00ff00;\n",
       "  color: #000000;\n",
       "}\n",
       "#T_5b54c_row0_col2, #T_5b54c_row1_col3, #T_5b54c_row2_col3, #T_5b54c_row3_col0, #T_5b54c_row3_col2, #T_5b54c_row4_col0, #T_5b54c_row4_col1, #T_5b54c_row4_col2, #T_5b54c_row4_col3, #T_5b54c_row5_col1, #T_5b54c_row5_col2, #T_5b54c_row6_col2, #T_5b54c_row6_col3, #T_5b54c_row7_col0, #T_5b54c_row7_col1, #T_5b54c_row7_col2, #T_5b54c_row8_col3 {\n",
       "  background-color: #0000ff;\n",
       "  color: #f1f1f1;\n",
       "}\n",
       "#T_5b54c_row0_col3 {\n",
       "  background-color: #8c7300;\n",
       "  color: #f1f1f1;\n",
       "}\n",
       "#T_5b54c_row1_col0 {\n",
       "  background-color: #f80700;\n",
       "  color: #f1f1f1;\n",
       "}\n",
       "#T_5b54c_row1_col1 {\n",
       "  background-color: #d60029;\n",
       "  color: #f1f1f1;\n",
       "}\n",
       "#T_5b54c_row2_col0 {\n",
       "  background-color: #3600c9;\n",
       "  color: #f1f1f1;\n",
       "}\n",
       "#T_5b54c_row2_col2 {\n",
       "  background-color: #4600b9;\n",
       "  color: #f1f1f1;\n",
       "}\n",
       "#T_5b54c_row3_col3 {\n",
       "  background-color: #aa0055;\n",
       "  color: #f1f1f1;\n",
       "}\n",
       "#T_5b54c_row8_col0, #T_5b54c_row8_col1 {\n",
       "  background-color: #1e00e1;\n",
       "  color: #f1f1f1;\n",
       "}\n",
       "</style>\n",
       "<table id=\"T_5b54c_\">\n",
       "  <thead>\n",
       "    <tr>\n",
       "      <th class=\"blank level0\" >&nbsp;</th>\n",
       "      <th class=\"col_heading level0 col0\" >0</th>\n",
       "      <th class=\"col_heading level0 col1\" >1</th>\n",
       "      <th class=\"col_heading level0 col2\" >2</th>\n",
       "      <th class=\"col_heading level0 col3\" >3</th>\n",
       "    </tr>\n",
       "  </thead>\n",
       "  <tbody>\n",
       "    <tr>\n",
       "      <th id=\"T_5b54c_level0_row0\" class=\"row_heading level0 row0\" >TransactionAmt</th>\n",
       "      <td id=\"T_5b54c_row0_col0\" class=\"data row0 col0\" >0.060090</td>\n",
       "      <td id=\"T_5b54c_row0_col1\" class=\"data row0 col1\" >0.080473</td>\n",
       "      <td id=\"T_5b54c_row0_col2\" class=\"data row0 col2\" >0.027653</td>\n",
       "      <td id=\"T_5b54c_row0_col3\" class=\"data row0 col3\" >0.066001</td>\n",
       "    </tr>\n",
       "    <tr>\n",
       "      <th id=\"T_5b54c_level0_row1\" class=\"row_heading level0 row1\" >max_c</th>\n",
       "      <td id=\"T_5b54c_row1_col0\" class=\"data row1 col0\" >0.006742</td>\n",
       "      <td id=\"T_5b54c_row1_col1\" class=\"data row1 col1\" >0.005659</td>\n",
       "      <td id=\"T_5b54c_row1_col2\" class=\"data row1 col2\" >0.012320</td>\n",
       "      <td id=\"T_5b54c_row1_col3\" class=\"data row1 col3\" >0.000806</td>\n",
       "    </tr>\n",
       "    <tr>\n",
       "      <th id=\"T_5b54c_level0_row2\" class=\"row_heading level0 row2\" >max_d</th>\n",
       "      <td id=\"T_5b54c_row2_col0\" class=\"data row2 col0\" >0.048834</td>\n",
       "      <td id=\"T_5b54c_row2_col1\" class=\"data row2 col1\" >0.325682</td>\n",
       "      <td id=\"T_5b54c_row2_col2\" class=\"data row2 col2\" >0.059076</td>\n",
       "      <td id=\"T_5b54c_row2_col3\" class=\"data row2 col3\" >0.015510</td>\n",
       "    </tr>\n",
       "    <tr>\n",
       "      <th id=\"T_5b54c_level0_row3\" class=\"row_heading level0 row3\" >product_enc</th>\n",
       "      <td id=\"T_5b54c_row3_col0\" class=\"data row3 col0\" >0.000000</td>\n",
       "      <td id=\"T_5b54c_row3_col1\" class=\"data row3 col1\" >3.000000</td>\n",
       "      <td id=\"T_5b54c_row3_col2\" class=\"data row3 col2\" >0.000000</td>\n",
       "      <td id=\"T_5b54c_row3_col3\" class=\"data row3 col3\" >1.000000</td>\n",
       "    </tr>\n",
       "    <tr>\n",
       "      <th id=\"T_5b54c_level0_row4\" class=\"row_heading level0 row4\" >card4_enc</th>\n",
       "      <td id=\"T_5b54c_row4_col0\" class=\"data row4 col0\" >0.000000</td>\n",
       "      <td id=\"T_5b54c_row4_col1\" class=\"data row4 col1\" >0.000000</td>\n",
       "      <td id=\"T_5b54c_row4_col2\" class=\"data row4 col2\" >0.000000</td>\n",
       "      <td id=\"T_5b54c_row4_col3\" class=\"data row4 col3\" >0.000000</td>\n",
       "    </tr>\n",
       "    <tr>\n",
       "      <th id=\"T_5b54c_level0_row5\" class=\"row_heading level0 row5\" >card6_enc</th>\n",
       "      <td id=\"T_5b54c_row5_col0\" class=\"data row5 col0\" >1.000000</td>\n",
       "      <td id=\"T_5b54c_row5_col1\" class=\"data row5 col1\" >0.000000</td>\n",
       "      <td id=\"T_5b54c_row5_col2\" class=\"data row5 col2\" >0.000000</td>\n",
       "      <td id=\"T_5b54c_row5_col3\" class=\"data row5 col3\" >1.000000</td>\n",
       "    </tr>\n",
       "    <tr>\n",
       "      <th id=\"T_5b54c_level0_row6\" class=\"row_heading level0 row6\" >DeviceType_enc</th>\n",
       "      <td id=\"T_5b54c_row6_col0\" class=\"data row6 col0\" >1.000000</td>\n",
       "      <td id=\"T_5b54c_row6_col1\" class=\"data row6 col1\" >1.000000</td>\n",
       "      <td id=\"T_5b54c_row6_col2\" class=\"data row6 col2\" >0.000000</td>\n",
       "      <td id=\"T_5b54c_row6_col3\" class=\"data row6 col3\" >0.000000</td>\n",
       "    </tr>\n",
       "    <tr>\n",
       "      <th id=\"T_5b54c_level0_row7\" class=\"row_heading level0 row7\" >browser_enc2</th>\n",
       "      <td id=\"T_5b54c_row7_col0\" class=\"data row7 col0\" >0.000000</td>\n",
       "      <td id=\"T_5b54c_row7_col1\" class=\"data row7 col1\" >0.000000</td>\n",
       "      <td id=\"T_5b54c_row7_col2\" class=\"data row7 col2\" >0.000000</td>\n",
       "      <td id=\"T_5b54c_row7_col3\" class=\"data row7 col3\" >1.000000</td>\n",
       "    </tr>\n",
       "    <tr>\n",
       "      <th id=\"T_5b54c_level0_row8\" class=\"row_heading level0 row8\" >device_info_v4_enc</th>\n",
       "      <td id=\"T_5b54c_row8_col0\" class=\"data row8 col0\" >1.000000</td>\n",
       "      <td id=\"T_5b54c_row8_col1\" class=\"data row8 col1\" >1.000000</td>\n",
       "      <td id=\"T_5b54c_row8_col2\" class=\"data row8 col2\" >17.000000</td>\n",
       "      <td id=\"T_5b54c_row8_col3\" class=\"data row8 col3\" >0.000000</td>\n",
       "    </tr>\n",
       "  </tbody>\n",
       "</table>\n"
      ],
      "text/plain": [
       "<pandas.io.formats.style.Styler at 0x7ff633eade80>"
      ]
     },
     "execution_count": 18,
     "metadata": {},
     "output_type": "execute_result"
    }
   ],
   "source": [
    "centroid.style.background_gradient(cmap='brg',axis=1)"
   ]
  },
  {
   "cell_type": "markdown",
   "id": "10a9c515-8e92-418a-a8ab-2fec5afdbf04",
   "metadata": {},
   "source": [
    "# 4.0 Prediction"
   ]
  },
  {
   "cell_type": "code",
   "execution_count": 19,
   "id": "63156642-fe88-4f52-895d-651c11ecd61d",
   "metadata": {},
   "outputs": [],
   "source": [
    "df = mlu.clustering_prediction(df,model)"
   ]
  },
  {
   "cell_type": "code",
   "execution_count": 20,
   "id": "c745c4bb-94a3-4b76-86d2-986440e3418f",
   "metadata": {},
   "outputs": [
    {
     "data": {
      "text/html": [
       "<div>\n",
       "<style scoped>\n",
       "    .dataframe tbody tr th:only-of-type {\n",
       "        vertical-align: middle;\n",
       "    }\n",
       "\n",
       "    .dataframe tbody tr th {\n",
       "        vertical-align: top;\n",
       "    }\n",
       "\n",
       "    .dataframe thead th {\n",
       "        text-align: right;\n",
       "    }\n",
       "</style>\n",
       "<table border=\"1\" class=\"dataframe\">\n",
       "  <thead>\n",
       "    <tr style=\"text-align: right;\">\n",
       "      <th></th>\n",
       "      <th>TransactionAmt</th>\n",
       "      <th>max_c</th>\n",
       "      <th>max_d</th>\n",
       "      <th>product_enc</th>\n",
       "      <th>card4_enc</th>\n",
       "      <th>card6_enc</th>\n",
       "      <th>DeviceType_enc</th>\n",
       "      <th>browser_enc2</th>\n",
       "      <th>device_info_v4_enc</th>\n",
       "      <th>cluster_labels</th>\n",
       "      <th>cluster_labels_pred</th>\n",
       "    </tr>\n",
       "    <tr>\n",
       "      <th>customer_id</th>\n",
       "      <th></th>\n",
       "      <th></th>\n",
       "      <th></th>\n",
       "      <th></th>\n",
       "      <th></th>\n",
       "      <th></th>\n",
       "      <th></th>\n",
       "      <th></th>\n",
       "      <th></th>\n",
       "      <th></th>\n",
       "      <th></th>\n",
       "    </tr>\n",
       "  </thead>\n",
       "  <tbody>\n",
       "    <tr>\n",
       "      <th>116</th>\n",
       "      <td>0.000818</td>\n",
       "      <td>0.002490</td>\n",
       "      <td>0.124722</td>\n",
       "      <td>0</td>\n",
       "      <td>0</td>\n",
       "      <td>0</td>\n",
       "      <td>1</td>\n",
       "      <td>0</td>\n",
       "      <td>1</td>\n",
       "      <td>0</td>\n",
       "      <td>0</td>\n",
       "    </tr>\n",
       "    <tr>\n",
       "      <th>1642</th>\n",
       "      <td>0.049520</td>\n",
       "      <td>0.000000</td>\n",
       "      <td>0.000000</td>\n",
       "      <td>3</td>\n",
       "      <td>0</td>\n",
       "      <td>1</td>\n",
       "      <td>1</td>\n",
       "      <td>0</td>\n",
       "      <td>1</td>\n",
       "      <td>0</td>\n",
       "      <td>0</td>\n",
       "    </tr>\n",
       "    <tr>\n",
       "      <th>16</th>\n",
       "      <td>0.006056</td>\n",
       "      <td>0.000356</td>\n",
       "      <td>0.021665</td>\n",
       "      <td>0</td>\n",
       "      <td>0</td>\n",
       "      <td>0</td>\n",
       "      <td>1</td>\n",
       "      <td>0</td>\n",
       "      <td>4</td>\n",
       "      <td>2</td>\n",
       "      <td>2</td>\n",
       "    </tr>\n",
       "    <tr>\n",
       "      <th>19245</th>\n",
       "      <td>0.066195</td>\n",
       "      <td>0.000000</td>\n",
       "      <td>0.125284</td>\n",
       "      <td>3</td>\n",
       "      <td>2</td>\n",
       "      <td>1</td>\n",
       "      <td>1</td>\n",
       "      <td>0</td>\n",
       "      <td>1</td>\n",
       "      <td>0</td>\n",
       "      <td>0</td>\n",
       "    </tr>\n",
       "  </tbody>\n",
       "</table>\n",
       "</div>"
      ],
      "text/plain": [
       "             TransactionAmt     max_c     max_d  product_enc  card4_enc  \\\n",
       "customer_id                                                               \n",
       "116                0.000818  0.002490  0.124722            0          0   \n",
       "1642               0.049520  0.000000  0.000000            3          0   \n",
       "16                 0.006056  0.000356  0.021665            0          0   \n",
       "19245              0.066195  0.000000  0.125284            3          2   \n",
       "\n",
       "             card6_enc  DeviceType_enc  browser_enc2  device_info_v4_enc  \\\n",
       "customer_id                                                                \n",
       "116                  0               1             0                   1   \n",
       "1642                 1               1             0                   1   \n",
       "16                   0               1             0                   4   \n",
       "19245                1               1             0                   1   \n",
       "\n",
       "             cluster_labels  cluster_labels_pred  \n",
       "customer_id                                       \n",
       "116                       0                    0  \n",
       "1642                      0                    0  \n",
       "16                        2                    2  \n",
       "19245                     0                    0  "
      ]
     },
     "execution_count": 20,
     "metadata": {},
     "output_type": "execute_result"
    }
   ],
   "source": [
    "df.sample(4)"
   ]
  },
  {
   "cell_type": "markdown",
   "id": "c38cf05a-2a26-4abc-bfe1-436317ca1aa9",
   "metadata": {},
   "source": [
    "# 5.0  Output"
   ]
  },
  {
   "cell_type": "code",
   "execution_count": 22,
   "id": "0426aa06-c968-4fc9-9533-1edf64743b84",
   "metadata": {},
   "outputs": [],
   "source": [
    "with open('../../data_lake/output/clustering_model_v1.pkl','wb') as file:\n",
    "    pickle.dump(model, file)"
   ]
  },
  {
   "cell_type": "code",
   "execution_count": 23,
   "id": "c6292b56-2e74-48ca-b564-731f7b895956",
   "metadata": {},
   "outputs": [],
   "source": [
    "with open('../../data_lake/output/clustering_imputation_num.pkl','wb') as file:\n",
    "    pickle.dump(imp_mean, file)"
   ]
  },
  {
   "cell_type": "code",
   "execution_count": 24,
   "id": "112a18b7-12ce-4b66-947c-89fe8cccd7ca",
   "metadata": {},
   "outputs": [],
   "source": [
    "with open('../../data_lake/output/clustering_imputation_cat.pkl','wb') as file:\n",
    "    pickle.dump(imp_mean, file)"
   ]
  },
  {
   "cell_type": "code",
   "execution_count": 25,
   "id": "21e4e969-d853-44f1-8c04-cd6388a875d7",
   "metadata": {},
   "outputs": [],
   "source": [
    "with open('../../data_lake/output/clustering_scaler_num.pkl','wb') as file:\n",
    "    pickle.dump(scaler, file)"
   ]
  },
  {
   "cell_type": "code",
   "execution_count": null,
   "id": "1b87bfb4-278f-4dbd-9687-ac8d8bc5c41f",
   "metadata": {},
   "outputs": [],
   "source": []
  }
 ],
 "metadata": {
  "kernelspec": {
   "display_name": "dev",
   "language": "python",
   "name": "python3"
  },
  "language_info": {
   "codemirror_mode": {
    "name": "ipython",
    "version": 3
   },
   "file_extension": ".py",
   "mimetype": "text/x-python",
   "name": "python",
   "nbconvert_exporter": "python",
   "pygments_lexer": "ipython3",
   "version": "3.9.7"
  }
 },
 "nbformat": 4,
 "nbformat_minor": 5
}
