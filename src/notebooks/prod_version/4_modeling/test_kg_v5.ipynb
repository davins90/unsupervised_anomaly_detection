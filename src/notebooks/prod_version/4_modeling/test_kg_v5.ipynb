{
 "cells": [
  {
   "cell_type": "markdown",
   "id": "09d1f59e-8a50-4235-932c-8f07795888aa",
   "metadata": {},
   "source": [
    "Final version for basic knowledge graph --> test from modules"
   ]
  },
  {
   "cell_type": "code",
   "execution_count": 1,
   "id": "f17cac1e-60e7-4cb5-9f49-0079f3f0af90",
   "metadata": {},
   "outputs": [],
   "source": [
    "import sys\n",
    "sys.path.append('../../../')"
   ]
  },
  {
   "cell_type": "code",
   "execution_count": 2,
   "id": "09cae721-271e-469e-80c6-565dc79c7f3a",
   "metadata": {},
   "outputs": [],
   "source": [
    "import pandas as pd\n",
    "import numpy as np\n",
    "import networkx as nx\n",
    "import matplotlib.pyplot as plt\n",
    "\n",
    "from pyvis import network as net\n",
    "from pyvis.network import Network\n",
    "from modules import machine_learning_utils as mlu\n",
    "from modules import knowledge_graph_utils as kg\n",
    "\n",
    "pd.set_option(\"display.max_rows\",None)\n",
    "pd.set_option(\"display.max_columns\",None)"
   ]
  },
  {
   "cell_type": "markdown",
   "id": "933683f3-12c6-4565-9908-1cafdfabc1fc",
   "metadata": {},
   "source": [
    "# 1.0 Data retrieval"
   ]
  },
  {
   "cell_type": "code",
   "execution_count": 3,
   "id": "1bf7e7fb-f49c-4cf1-a315-5b137303714e",
   "metadata": {},
   "outputs": [],
   "source": [
    "df = pd.read_pickle(\"../../../data_lake/output_prod/df_under.pkl\")"
   ]
  },
  {
   "cell_type": "markdown",
   "id": "b76eca6b-a9bf-4014-8483-c4832feb0f7a",
   "metadata": {},
   "source": [
    "# 2.0 Data preparation"
   ]
  },
  {
   "cell_type": "code",
   "execution_count": 4,
   "id": "cee3f44a-f8a8-46ea-ab89-74975307e23d",
   "metadata": {},
   "outputs": [],
   "source": [
    "df = mlu.features_eng(df,'network')"
   ]
  },
  {
   "cell_type": "code",
   "execution_count": 5,
   "id": "4cf2f628-89d0-4aed-9fed-dcb750330e95",
   "metadata": {},
   "outputs": [],
   "source": [
    "df = df[['customer_id','TransactionID','TransactionAmt','DeviceType','device_info_v4','browser_enc','ProductCD','isFraud']]"
   ]
  },
  {
   "cell_type": "code",
   "execution_count": 6,
   "id": "6ee71582-6baa-40d2-a2eb-c0658f53a2ea",
   "metadata": {},
   "outputs": [],
   "source": [
    "df = df.dropna(axis=0)"
   ]
  },
  {
   "cell_type": "code",
   "execution_count": 7,
   "id": "411d6f3a-cddd-493b-8ce6-b55559ee97dd",
   "metadata": {},
   "outputs": [],
   "source": [
    "df = df.sample(frac=0.0005,random_state=4)"
   ]
  },
  {
   "cell_type": "code",
   "execution_count": 8,
   "id": "b2830502-2718-4526-89f5-6b22e40eafcf",
   "metadata": {},
   "outputs": [
    {
     "data": {
      "text/plain": [
       "0    63\n",
       "1     7\n",
       "Name: isFraud, dtype: int64"
      ]
     },
     "execution_count": 8,
     "metadata": {},
     "output_type": "execute_result"
    }
   ],
   "source": [
    "df['isFraud'].value_counts()"
   ]
  },
  {
   "cell_type": "code",
   "execution_count": 9,
   "id": "a4da1884-0c2e-4d88-91fc-0ec1dcdb857a",
   "metadata": {},
   "outputs": [],
   "source": [
    "for i in df:\n",
    "    if i != 'TransactionAmt':\n",
    "        df[i] = df[i].astype(str)"
   ]
  },
  {
   "cell_type": "markdown",
   "id": "b005ee0d-400f-4a25-8f84-a7fffc2c17f3",
   "metadata": {},
   "source": [
    "# 3.0 Modeling"
   ]
  },
  {
   "cell_type": "code",
   "execution_count": 10,
   "id": "8f7e338f-bc1a-4c0e-b4f4-a22b9fa3d7b2",
   "metadata": {},
   "outputs": [],
   "source": [
    "rel1 = ['customer_id','TransactionID','has done']\n",
    "rel2 = ['TransactionID','ProductCD','buying']\n",
    "rel3 = ['ProductCD','DeviceType','by']\n",
    "rel4 = ['TransactionID','DeviceType','with']\n",
    "rel5 = ['TransactionID','browser_enc','on']"
   ]
  },
  {
   "cell_type": "code",
   "execution_count": 11,
   "id": "614ba5cb-6f96-47b6-9a64-406679053fd1",
   "metadata": {},
   "outputs": [],
   "source": [
    "rels = [rel1,rel2,rel3,rel4,rel5]"
   ]
  },
  {
   "cell_type": "code",
   "execution_count": 12,
   "id": "f5d3c2e1-8af4-4363-8696-c6d7b0b7fca1",
   "metadata": {},
   "outputs": [],
   "source": [
    "dt = kg.building_relation_dict(rels)"
   ]
  },
  {
   "cell_type": "code",
   "execution_count": 13,
   "id": "a1edf202-20e3-4292-b25f-5b85306177a5",
   "metadata": {},
   "outputs": [],
   "source": [
    "final = kg.building_adj_list(dt,df)"
   ]
  },
  {
   "cell_type": "markdown",
   "id": "01c04f9e-5406-425e-b0a7-090ac0f45879",
   "metadata": {},
   "source": [
    "Extraction of the fraud only "
   ]
  },
  {
   "cell_type": "code",
   "execution_count": 14,
   "id": "b93fc94c-2834-40a0-9d51-2e6812add5d7",
   "metadata": {},
   "outputs": [],
   "source": [
    "df2 = df[df['isFraud']=='1']"
   ]
  },
  {
   "cell_type": "code",
   "execution_count": 15,
   "id": "139623ea-a10f-4125-92a7-37b4c46a7b4a",
   "metadata": {},
   "outputs": [],
   "source": [
    "rel1 = ['customer_id','TransactionID','has done']\n",
    "rels = [rel1]"
   ]
  },
  {
   "cell_type": "code",
   "execution_count": 16,
   "id": "98751b91-48e7-48fb-8257-6191fbb4b6f8",
   "metadata": {},
   "outputs": [],
   "source": [
    "dt2 = kg.building_relation_dict(rels)"
   ]
  },
  {
   "cell_type": "code",
   "execution_count": 17,
   "id": "04823bb7-0b49-49f4-9c02-f5172ed1a03e",
   "metadata": {},
   "outputs": [],
   "source": [
    "final2 = kg.building_adj_list(dt2,df2)"
   ]
  },
  {
   "cell_type": "code",
   "execution_count": 18,
   "id": "377a5992-b0ed-4131-ae0b-940b28f8a5e2",
   "metadata": {},
   "outputs": [
    {
     "ename": "PermissionError",
     "evalue": "[Errno 1] Operation not permitted: 'bindings'",
     "output_type": "error",
     "traceback": [
      "\u001b[0;31m\u001b[0m",
      "\u001b[0;31mPermissionError\u001b[0mTraceback (most recent call last)",
      "Cell \u001b[0;32mIn[18], line 1\u001b[0m\n\u001b[0;32m----> 1\u001b[0m \u001b[43mkg\u001b[49m\u001b[38;5;241;43m.\u001b[39;49m\u001b[43mbuilding_network\u001b[49m\u001b[43m(\u001b[49m\u001b[43mfinal\u001b[49m\u001b[43m,\u001b[49m\u001b[43mfinal2\u001b[49m\u001b[43m,\u001b[49m\u001b[43mdf\u001b[49m\u001b[43m,\u001b[49m\u001b[38;5;241;43m11\u001b[39;49m\u001b[43m)\u001b[49m\n",
      "File \u001b[0;32m/src/modules/knowledge_graph_utils.py:87\u001b[0m, in \u001b[0;36mbuilding_network\u001b[0;34m(final, final2, df, num)\u001b[0m\n\u001b[1;32m     75\u001b[0m \u001b[38;5;66;03m#     net.show_buttons(filter_=['physics'])\u001b[39;00m\n\u001b[1;32m     76\u001b[0m     net\u001b[38;5;241m.\u001b[39mset_options(\u001b[38;5;124m\"\"\"\u001b[39m\u001b[38;5;124mconst options = \u001b[39m\u001b[38;5;124m{\u001b[39m\n\u001b[1;32m     77\u001b[0m \u001b[38;5;124m  \u001b[39m\u001b[38;5;124m\"\u001b[39m\u001b[38;5;124mphysics\u001b[39m\u001b[38;5;124m\"\u001b[39m\u001b[38;5;124m: \u001b[39m\u001b[38;5;124m{\u001b[39m\n\u001b[1;32m     78\u001b[0m \u001b[38;5;124m    \u001b[39m\u001b[38;5;124m\"\u001b[39m\u001b[38;5;124mrepulsion\u001b[39m\u001b[38;5;124m\"\u001b[39m\u001b[38;5;124m: \u001b[39m\u001b[38;5;124m{\u001b[39m\n\u001b[0;32m   (...)\u001b[0m\n\u001b[1;32m     85\u001b[0m \u001b[38;5;124m  }\u001b[39m\n\u001b[1;32m     86\u001b[0m \u001b[38;5;124m}\u001b[39m\u001b[38;5;124m\"\"\"\u001b[39m)\n\u001b[0;32m---> 87\u001b[0m     \u001b[38;5;28;01mreturn\u001b[39;00m \u001b[43mnet\u001b[49m\u001b[38;5;241;43m.\u001b[39;49m\u001b[43mshow\u001b[49m\u001b[43m(\u001b[49m\u001b[38;5;124;43m\"\u001b[39;49m\u001b[38;5;124;43mkg_v29_\u001b[39;49m\u001b[38;5;132;43;01m{}\u001b[39;49;00m\u001b[38;5;124;43m.html\u001b[39;49m\u001b[38;5;124;43m\"\u001b[39;49m\u001b[38;5;241;43m.\u001b[39;49m\u001b[43mformat\u001b[49m\u001b[43m(\u001b[49m\u001b[43mnum\u001b[49m\u001b[43m)\u001b[49m\u001b[43m)\u001b[49m\n",
      "File \u001b[0;32m/opt/conda/lib/python3.9/site-packages/pyvis/network.py:551\u001b[0m, in \u001b[0;36mNetwork.show\u001b[0;34m(self, name, local)\u001b[0m\n\u001b[1;32m    549\u001b[0m     \u001b[38;5;28;01mreturn\u001b[39;00m \u001b[38;5;28mself\u001b[39m\u001b[38;5;241m.\u001b[39mwrite_html(name, local, notebook\u001b[38;5;241m=\u001b[39m\u001b[38;5;28;01mTrue\u001b[39;00m)\n\u001b[1;32m    550\u001b[0m \u001b[38;5;28;01melse\u001b[39;00m:\n\u001b[0;32m--> 551\u001b[0m     \u001b[38;5;28;43mself\u001b[39;49m\u001b[38;5;241;43m.\u001b[39;49m\u001b[43mwrite_html\u001b[49m\u001b[43m(\u001b[49m\u001b[43mname\u001b[49m\u001b[43m,\u001b[49m\u001b[43m \u001b[49m\u001b[43mlocal\u001b[49m\u001b[43m)\u001b[49m\n",
      "File \u001b[0;32m/opt/conda/lib/python3.9/site-packages/pyvis/network.py:533\u001b[0m, in \u001b[0;36mNetwork.write_html\u001b[0;34m(self, name, local, notebook)\u001b[0m\n\u001b[1;32m    531\u001b[0m \u001b[38;5;66;03m# with tempfile.mkdtemp() as tempdir:\u001b[39;00m\n\u001b[1;32m    532\u001b[0m \u001b[38;5;28;01mif\u001b[39;00m os\u001b[38;5;241m.\u001b[39mpath\u001b[38;5;241m.\u001b[39mexists(\u001b[38;5;124mf\u001b[39m\u001b[38;5;124m\"\u001b[39m\u001b[38;5;132;01m{\u001b[39;00mtempdir\u001b[38;5;132;01m}\u001b[39;00m\u001b[38;5;124m/lib\u001b[39m\u001b[38;5;124m\"\u001b[39m):\n\u001b[0;32m--> 533\u001b[0m     \u001b[43mshutil\u001b[49m\u001b[38;5;241;43m.\u001b[39;49m\u001b[43mrmtree\u001b[49m\u001b[43m(\u001b[49m\u001b[38;5;124;43mf\u001b[39;49m\u001b[38;5;124;43m\"\u001b[39;49m\u001b[38;5;132;43;01m{\u001b[39;49;00m\u001b[43mtempdir\u001b[49m\u001b[38;5;132;43;01m}\u001b[39;49;00m\u001b[38;5;124;43m/lib\u001b[39;49m\u001b[38;5;124;43m\"\u001b[39;49m\u001b[43m)\u001b[49m\n\u001b[1;32m    534\u001b[0m shutil\u001b[38;5;241m.\u001b[39mcopytree(\u001b[38;5;124mf\u001b[39m\u001b[38;5;124m\"\u001b[39m\u001b[38;5;132;01m{\u001b[39;00mos\u001b[38;5;241m.\u001b[39mpath\u001b[38;5;241m.\u001b[39mdirname(\u001b[38;5;18m__file__\u001b[39m)\u001b[38;5;132;01m}\u001b[39;00m\u001b[38;5;124m/templates/lib\u001b[39m\u001b[38;5;124m\"\u001b[39m, \u001b[38;5;124mf\u001b[39m\u001b[38;5;124m\"\u001b[39m\u001b[38;5;132;01m{\u001b[39;00mtempdir\u001b[38;5;132;01m}\u001b[39;00m\u001b[38;5;124m/lib\u001b[39m\u001b[38;5;124m\"\u001b[39m)\n\u001b[1;32m    536\u001b[0m \u001b[38;5;28;01mwith\u001b[39;00m \u001b[38;5;28mopen\u001b[39m(\u001b[38;5;124mf\u001b[39m\u001b[38;5;124m\"\u001b[39m\u001b[38;5;132;01m{\u001b[39;00mtempdir\u001b[38;5;132;01m}\u001b[39;00m\u001b[38;5;124m/\u001b[39m\u001b[38;5;132;01m{\u001b[39;00mname\u001b[38;5;132;01m}\u001b[39;00m\u001b[38;5;124m\"\u001b[39m, \u001b[38;5;124m\"\u001b[39m\u001b[38;5;124mw+\u001b[39m\u001b[38;5;124m\"\u001b[39m) \u001b[38;5;28;01mas\u001b[39;00m out:\n",
      "File \u001b[0;32m/opt/conda/lib/python3.9/shutil.py:718\u001b[0m, in \u001b[0;36mrmtree\u001b[0;34m(path, ignore_errors, onerror)\u001b[0m\n\u001b[1;32m    716\u001b[0m \u001b[38;5;28;01mtry\u001b[39;00m:\n\u001b[1;32m    717\u001b[0m     \u001b[38;5;28;01mif\u001b[39;00m os\u001b[38;5;241m.\u001b[39mpath\u001b[38;5;241m.\u001b[39msamestat(orig_st, os\u001b[38;5;241m.\u001b[39mfstat(fd)):\n\u001b[0;32m--> 718\u001b[0m         \u001b[43m_rmtree_safe_fd\u001b[49m\u001b[43m(\u001b[49m\u001b[43mfd\u001b[49m\u001b[43m,\u001b[49m\u001b[43m \u001b[49m\u001b[43mpath\u001b[49m\u001b[43m,\u001b[49m\u001b[43m \u001b[49m\u001b[43monerror\u001b[49m\u001b[43m)\u001b[49m\n\u001b[1;32m    719\u001b[0m         \u001b[38;5;28;01mtry\u001b[39;00m:\n\u001b[1;32m    720\u001b[0m             os\u001b[38;5;241m.\u001b[39mrmdir(path)\n",
      "File \u001b[0;32m/opt/conda/lib/python3.9/shutil.py:659\u001b[0m, in \u001b[0;36m_rmtree_safe_fd\u001b[0;34m(topfd, path, onerror)\u001b[0m\n\u001b[1;32m    657\u001b[0m         os\u001b[38;5;241m.\u001b[39mrmdir(entry\u001b[38;5;241m.\u001b[39mname, dir_fd\u001b[38;5;241m=\u001b[39mtopfd)\n\u001b[1;32m    658\u001b[0m     \u001b[38;5;28;01mexcept\u001b[39;00m \u001b[38;5;167;01mOSError\u001b[39;00m:\n\u001b[0;32m--> 659\u001b[0m         \u001b[43monerror\u001b[49m\u001b[43m(\u001b[49m\u001b[43mos\u001b[49m\u001b[38;5;241;43m.\u001b[39;49m\u001b[43mrmdir\u001b[49m\u001b[43m,\u001b[49m\u001b[43m \u001b[49m\u001b[43mfullname\u001b[49m\u001b[43m,\u001b[49m\u001b[43m \u001b[49m\u001b[43msys\u001b[49m\u001b[38;5;241;43m.\u001b[39;49m\u001b[43mexc_info\u001b[49m\u001b[43m(\u001b[49m\u001b[43m)\u001b[49m\u001b[43m)\u001b[49m\n\u001b[1;32m    660\u001b[0m \u001b[38;5;28;01melse\u001b[39;00m:\n\u001b[1;32m    661\u001b[0m     \u001b[38;5;28;01mtry\u001b[39;00m:\n\u001b[1;32m    662\u001b[0m         \u001b[38;5;66;03m# This can only happen if someone replaces\u001b[39;00m\n\u001b[1;32m    663\u001b[0m         \u001b[38;5;66;03m# a directory with a symlink after the call to\u001b[39;00m\n\u001b[1;32m    664\u001b[0m         \u001b[38;5;66;03m# os.scandir or stat.S_ISDIR above.\u001b[39;00m\n",
      "File \u001b[0;32m/opt/conda/lib/python3.9/shutil.py:657\u001b[0m, in \u001b[0;36m_rmtree_safe_fd\u001b[0;34m(topfd, path, onerror)\u001b[0m\n\u001b[1;32m    655\u001b[0m _rmtree_safe_fd(dirfd, fullname, onerror)\n\u001b[1;32m    656\u001b[0m \u001b[38;5;28;01mtry\u001b[39;00m:\n\u001b[0;32m--> 657\u001b[0m     \u001b[43mos\u001b[49m\u001b[38;5;241;43m.\u001b[39;49m\u001b[43mrmdir\u001b[49m\u001b[43m(\u001b[49m\u001b[43mentry\u001b[49m\u001b[38;5;241;43m.\u001b[39;49m\u001b[43mname\u001b[49m\u001b[43m,\u001b[49m\u001b[43m \u001b[49m\u001b[43mdir_fd\u001b[49m\u001b[38;5;241;43m=\u001b[39;49m\u001b[43mtopfd\u001b[49m\u001b[43m)\u001b[49m\n\u001b[1;32m    658\u001b[0m \u001b[38;5;28;01mexcept\u001b[39;00m \u001b[38;5;167;01mOSError\u001b[39;00m:\n\u001b[1;32m    659\u001b[0m     onerror(os\u001b[38;5;241m.\u001b[39mrmdir, fullname, sys\u001b[38;5;241m.\u001b[39mexc_info())\n",
      "\u001b[0;31mPermissionError\u001b[0m: [Errno 1] Operation not permitted: 'bindings'"
     ]
    }
   ],
   "source": [
    "kg.building_network(final,final2,df,11)"
   ]
  },
  {
   "cell_type": "markdown",
   "id": "754b0799-fdc3-4887-9e2b-2ee967eb4dfa",
   "metadata": {},
   "source": [
    "For Networkx:"
   ]
  },
  {
   "cell_type": "code",
   "execution_count": 19,
   "id": "444b85d0-fc85-490d-9fd4-3e2cef5c4792",
   "metadata": {},
   "outputs": [],
   "source": [
    "g = nx.from_pandas_edgelist(final,'source','target',edge_attr=True,edge_key='rel',create_using=nx.DiGraph())"
   ]
  },
  {
   "cell_type": "code",
   "execution_count": 20,
   "id": "fee4174d-deaf-49fc-8b65-5df32ebfe088",
   "metadata": {},
   "outputs": [
    {
     "name": "stdout",
     "output_type": "stream",
     "text": [
      "Name: \n",
      "Type: DiGraph\n",
      "Number of nodes: 148\n",
      "Number of edges: 288\n",
      "Average in degree:   1.9459\n",
      "Average out degree:   1.9459\n"
     ]
    }
   ],
   "source": [
    "print(nx.info(g))"
   ]
  },
  {
   "cell_type": "markdown",
   "id": "e2b81a6a-8d38-4a66-810f-cd2896d58b16",
   "metadata": {},
   "source": [
    "and so on..."
   ]
  },
  {
   "cell_type": "code",
   "execution_count": null,
   "id": "95fbc486-41c8-415d-ac26-7c080bacc2f6",
   "metadata": {},
   "outputs": [],
   "source": []
  }
 ],
 "metadata": {
  "kernelspec": {
   "display_name": "Python 3",
   "language": "python",
   "name": "python3"
  },
  "language_info": {
   "codemirror_mode": {
    "name": "ipython",
    "version": 3
   },
   "file_extension": ".py",
   "mimetype": "text/x-python",
   "name": "python",
   "nbconvert_exporter": "python",
   "pygments_lexer": "ipython3",
   "version": "3.9.2"
  }
 },
 "nbformat": 4,
 "nbformat_minor": 5
}
