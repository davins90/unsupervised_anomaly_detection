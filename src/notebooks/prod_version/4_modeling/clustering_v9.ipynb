{
 "cells": [
  {
   "cell_type": "markdown",
   "id": "78b9ab1b-17b0-45a4-96ef-785cbeb8355f",
   "metadata": {},
   "source": [
    "clustering final --> debug for api"
   ]
  },
  {
   "cell_type": "code",
   "execution_count": 21,
   "id": "6d57c904-bd1c-47ef-b5d7-46d730fc9ee9",
   "metadata": {},
   "outputs": [],
   "source": [
    "import sys\n",
    "sys.path.append('../../../')"
   ]
  },
  {
   "cell_type": "code",
   "execution_count": 22,
   "id": "4749bf27-a893-49c2-80c1-78b7601f0e16",
   "metadata": {},
   "outputs": [],
   "source": [
    "import pandas as pd\n",
    "import numpy as np\n",
    "import pickle\n",
    "import matplotlib.pyplot as plt\n",
    "\n",
    "from modules import machine_learning_utils as mlu\n",
    "\n",
    "pd.set_option(\"display.max_rows\",None)\n",
    "pd.set_option(\"display.max_columns\",None)"
   ]
  },
  {
   "cell_type": "markdown",
   "id": "3f4f1e2c-06fe-46f3-8f2f-f8f25c143da0",
   "metadata": {},
   "source": [
    "# 1.0 Data retrieval"
   ]
  },
  {
   "cell_type": "code",
   "execution_count": 23,
   "id": "65e43a7d-43ac-42b0-8296-fb0514f8ebd2",
   "metadata": {},
   "outputs": [],
   "source": [
    "df = pd.read_pickle(\"../../../data_lake/output_prod/train.pkl\")"
   ]
  },
  {
   "cell_type": "markdown",
   "id": "67801f17-00ca-4995-b791-b42570eb6ab7",
   "metadata": {},
   "source": [
    "# 2.0 Features Engineering"
   ]
  },
  {
   "cell_type": "code",
   "execution_count": 24,
   "id": "5695955c-8f39-4d9d-9201-5e84148e187b",
   "metadata": {},
   "outputs": [],
   "source": [
    "df = mlu.features_eng(df,'clustering')"
   ]
  },
  {
   "cell_type": "code",
   "execution_count": 25,
   "id": "e4bc0644-78fa-4dd8-bfcc-dbb838b41fd9",
   "metadata": {},
   "outputs": [],
   "source": [
    "cols = ['card1', 'card2', 'card3', 'card5', 'M4', 'id_21', 'id_22', 'id_23', 'id_24', 'id_25',\n",
    "       'id_26', 'id_27', 'id_28', 'id_29', 'id_30', 'id_32', 'id_33', 'id_34',\n",
    "       'id_35', 'id_36', 'id_37', 'id_38','num_transaction_per_time','addr1','P_emaildomain','R_emaildomain']"
   ]
  },
  {
   "cell_type": "code",
   "execution_count": 26,
   "id": "65b20810-ad8f-40bf-bb53-8c35aa71f0e3",
   "metadata": {},
   "outputs": [],
   "source": [
    "df = df.drop(columns=cols)"
   ]
  },
  {
   "cell_type": "code",
   "execution_count": 27,
   "id": "3e70dd1b-59be-4267-9c7a-8e55f2568a52",
   "metadata": {},
   "outputs": [],
   "source": [
    "df = df[df['isFraud']==0]\n",
    "df = df.drop(columns='isFraud')"
   ]
  },
  {
   "cell_type": "code",
   "execution_count": 28,
   "id": "81320968-b660-4d04-b79b-ec894f02aba7",
   "metadata": {},
   "outputs": [],
   "source": [
    "df = df.drop(columns=['addr2','multi_transaction_per_time'])"
   ]
  },
  {
   "cell_type": "code",
   "execution_count": 29,
   "id": "c93ac9bf-a84d-4f79-987d-1c9cae9fc2ad",
   "metadata": {},
   "outputs": [
    {
     "data": {
      "text/html": [
       "<div>\n",
       "<style scoped>\n",
       "    .dataframe tbody tr th:only-of-type {\n",
       "        vertical-align: middle;\n",
       "    }\n",
       "\n",
       "    .dataframe tbody tr th {\n",
       "        vertical-align: top;\n",
       "    }\n",
       "\n",
       "    .dataframe thead th {\n",
       "        text-align: right;\n",
       "    }\n",
       "</style>\n",
       "<table border=\"1\" class=\"dataframe\">\n",
       "  <thead>\n",
       "    <tr style=\"text-align: right;\">\n",
       "      <th></th>\n",
       "      <th>TransactionAmt</th>\n",
       "      <th>ProductCD</th>\n",
       "      <th>card4</th>\n",
       "      <th>card6</th>\n",
       "      <th>DeviceType</th>\n",
       "      <th>num_accounts_related_to_user</th>\n",
       "      <th>num_days_previous_transaction</th>\n",
       "      <th>customer_id</th>\n",
       "      <th>browser_enc</th>\n",
       "      <th>device_info_v4</th>\n",
       "    </tr>\n",
       "  </thead>\n",
       "  <tbody>\n",
       "    <tr>\n",
       "      <th>139309</th>\n",
       "      <td>28.588</td>\n",
       "      <td>C</td>\n",
       "      <td>visa</td>\n",
       "      <td>debit</td>\n",
       "      <td>mobile</td>\n",
       "      <td>1.0</td>\n",
       "      <td>0.0</td>\n",
       "      <td>116</td>\n",
       "      <td>chrome</td>\n",
       "      <td>other</td>\n",
       "    </tr>\n",
       "  </tbody>\n",
       "</table>\n",
       "</div>"
      ],
      "text/plain": [
       "        TransactionAmt ProductCD card4  card6 DeviceType  \\\n",
       "139309          28.588         C  visa  debit     mobile   \n",
       "\n",
       "        num_accounts_related_to_user  num_days_previous_transaction  \\\n",
       "139309                           1.0                            0.0   \n",
       "\n",
       "        customer_id browser_enc device_info_v4  \n",
       "139309          116      chrome          other  "
      ]
     },
     "execution_count": 29,
     "metadata": {},
     "output_type": "execute_result"
    }
   ],
   "source": [
    "df.head(1)"
   ]
  },
  {
   "cell_type": "code",
   "execution_count": 30,
   "id": "5678c7ce-9b30-4fd3-b145-0508d72e4595",
   "metadata": {},
   "outputs": [],
   "source": [
    "with open(\"../../../data_lake/output_prod/clustering_imputation_cat.pkl\",\"rb\") as imc:\n",
    "    imputation_cat = pickle.load(imc)\n",
    "\n",
    "with open(\"../../../data_lake/output_prod/clustering_imputation_num.pkl\",\"rb\") as imn:\n",
    "    imputation_num = pickle.load(imn)\n",
    "\n",
    "with open(\"../../../data_lake/output_prod/clustering_scaler_num.pkl\",\"rb\") as sn:\n",
    "    scaler_num = pickle.load(sn)\n",
    "    \n",
    "with open(\"../../../data_lake/output_prod/clustering_model_v1.pkl\",\"rb\") as mod:\n",
    "    model = pickle.load(mod)"
   ]
  },
  {
   "cell_type": "markdown",
   "id": "b9a3c47f-a204-490e-9a43-c7ffeb251051",
   "metadata": {},
   "source": [
    "# Testing"
   ]
  },
  {
   "cell_type": "code",
   "execution_count": 31,
   "id": "76c820b2-005a-4c7b-83cb-142080aaaf78",
   "metadata": {},
   "outputs": [],
   "source": [
    "test = df.head(1)"
   ]
  },
  {
   "cell_type": "code",
   "execution_count": 32,
   "id": "5dc96516-aacb-436d-ae82-b2c8ba220cba",
   "metadata": {},
   "outputs": [
    {
     "data": {
      "text/html": [
       "<div>\n",
       "<style scoped>\n",
       "    .dataframe tbody tr th:only-of-type {\n",
       "        vertical-align: middle;\n",
       "    }\n",
       "\n",
       "    .dataframe tbody tr th {\n",
       "        vertical-align: top;\n",
       "    }\n",
       "\n",
       "    .dataframe thead th {\n",
       "        text-align: right;\n",
       "    }\n",
       "</style>\n",
       "<table border=\"1\" class=\"dataframe\">\n",
       "  <thead>\n",
       "    <tr style=\"text-align: right;\">\n",
       "      <th></th>\n",
       "      <th>TransactionAmt</th>\n",
       "      <th>ProductCD</th>\n",
       "      <th>card4</th>\n",
       "      <th>card6</th>\n",
       "      <th>DeviceType</th>\n",
       "      <th>num_accounts_related_to_user</th>\n",
       "      <th>num_days_previous_transaction</th>\n",
       "      <th>customer_id</th>\n",
       "      <th>browser_enc</th>\n",
       "      <th>device_info_v4</th>\n",
       "    </tr>\n",
       "  </thead>\n",
       "  <tbody>\n",
       "    <tr>\n",
       "      <th>139309</th>\n",
       "      <td>28.588</td>\n",
       "      <td>C</td>\n",
       "      <td>visa</td>\n",
       "      <td>debit</td>\n",
       "      <td>mobile</td>\n",
       "      <td>1.0</td>\n",
       "      <td>0.0</td>\n",
       "      <td>116</td>\n",
       "      <td>chrome</td>\n",
       "      <td>other</td>\n",
       "    </tr>\n",
       "  </tbody>\n",
       "</table>\n",
       "</div>"
      ],
      "text/plain": [
       "        TransactionAmt ProductCD card4  card6 DeviceType  \\\n",
       "139309          28.588         C  visa  debit     mobile   \n",
       "\n",
       "        num_accounts_related_to_user  num_days_previous_transaction  \\\n",
       "139309                           1.0                            0.0   \n",
       "\n",
       "        customer_id browser_enc device_info_v4  \n",
       "139309          116      chrome          other  "
      ]
     },
     "execution_count": 32,
     "metadata": {},
     "output_type": "execute_result"
    }
   ],
   "source": [
    "test"
   ]
  },
  {
   "cell_type": "code",
   "execution_count": 33,
   "id": "a69e3929-2e91-49bd-99bd-28b1bf4fb02f",
   "metadata": {},
   "outputs": [
    {
     "data": {
      "text/plain": [
       "TransactionAmt                   float64\n",
       "ProductCD                         object\n",
       "card4                             object\n",
       "card6                             object\n",
       "DeviceType                        object\n",
       "num_accounts_related_to_user     float64\n",
       "num_days_previous_transaction    float64\n",
       "customer_id                        int64\n",
       "browser_enc                       object\n",
       "device_info_v4                    object\n",
       "dtype: object"
      ]
     },
     "execution_count": 33,
     "metadata": {},
     "output_type": "execute_result"
    }
   ],
   "source": [
    "test.dtypes"
   ]
  },
  {
   "cell_type": "code",
   "execution_count": 34,
   "id": "a80994d9-0fa8-4615-b26d-7ca263e7890a",
   "metadata": {},
   "outputs": [
    {
     "name": "stderr",
     "output_type": "stream",
     "text": [
      "../../../modules/machine_learning_utils.py:426: SettingWithCopyWarning:\n",
      "\n",
      "\n",
      "A value is trying to be set on a copy of a slice from a DataFrame.\n",
      "Try using .loc[row_indexer,col_indexer] = value instead\n",
      "\n",
      "See the caveats in the documentation: https://pandas.pydata.org/pandas-docs/stable/user_guide/indexing.html#returning-a-view-versus-a-copy\n",
      "\n",
      "../../../modules/machine_learning_utils.py:427: SettingWithCopyWarning:\n",
      "\n",
      "\n",
      "A value is trying to be set on a copy of a slice from a DataFrame.\n",
      "Try using .loc[row_indexer,col_indexer] = value instead\n",
      "\n",
      "See the caveats in the documentation: https://pandas.pydata.org/pandas-docs/stable/user_guide/indexing.html#returning-a-view-versus-a-copy\n",
      "\n",
      "../../../modules/machine_learning_utils.py:426: SettingWithCopyWarning:\n",
      "\n",
      "\n",
      "A value is trying to be set on a copy of a slice from a DataFrame.\n",
      "Try using .loc[row_indexer,col_indexer] = value instead\n",
      "\n",
      "See the caveats in the documentation: https://pandas.pydata.org/pandas-docs/stable/user_guide/indexing.html#returning-a-view-versus-a-copy\n",
      "\n",
      "../../../modules/machine_learning_utils.py:427: SettingWithCopyWarning:\n",
      "\n",
      "\n",
      "A value is trying to be set on a copy of a slice from a DataFrame.\n",
      "Try using .loc[row_indexer,col_indexer] = value instead\n",
      "\n",
      "See the caveats in the documentation: https://pandas.pydata.org/pandas-docs/stable/user_guide/indexing.html#returning-a-view-versus-a-copy\n",
      "\n",
      "../../../modules/machine_learning_utils.py:426: SettingWithCopyWarning:\n",
      "\n",
      "\n",
      "A value is trying to be set on a copy of a slice from a DataFrame.\n",
      "Try using .loc[row_indexer,col_indexer] = value instead\n",
      "\n",
      "See the caveats in the documentation: https://pandas.pydata.org/pandas-docs/stable/user_guide/indexing.html#returning-a-view-versus-a-copy\n",
      "\n",
      "../../../modules/machine_learning_utils.py:427: SettingWithCopyWarning:\n",
      "\n",
      "\n",
      "A value is trying to be set on a copy of a slice from a DataFrame.\n",
      "Try using .loc[row_indexer,col_indexer] = value instead\n",
      "\n",
      "See the caveats in the documentation: https://pandas.pydata.org/pandas-docs/stable/user_guide/indexing.html#returning-a-view-versus-a-copy\n",
      "\n",
      "../../../modules/machine_learning_utils.py:430: SettingWithCopyWarning:\n",
      "\n",
      "\n",
      "A value is trying to be set on a copy of a slice from a DataFrame.\n",
      "Try using .loc[row_indexer,col_indexer] = value instead\n",
      "\n",
      "See the caveats in the documentation: https://pandas.pydata.org/pandas-docs/stable/user_guide/indexing.html#returning-a-view-versus-a-copy\n",
      "\n",
      "../../../modules/machine_learning_utils.py:431: SettingWithCopyWarning:\n",
      "\n",
      "\n",
      "A value is trying to be set on a copy of a slice from a DataFrame.\n",
      "Try using .loc[row_indexer,col_indexer] = value instead\n",
      "\n",
      "See the caveats in the documentation: https://pandas.pydata.org/pandas-docs/stable/user_guide/indexing.html#returning-a-view-versus-a-copy\n",
      "\n",
      "../../../modules/machine_learning_utils.py:430: SettingWithCopyWarning:\n",
      "\n",
      "\n",
      "A value is trying to be set on a copy of a slice from a DataFrame.\n",
      "Try using .loc[row_indexer,col_indexer] = value instead\n",
      "\n",
      "See the caveats in the documentation: https://pandas.pydata.org/pandas-docs/stable/user_guide/indexing.html#returning-a-view-versus-a-copy\n",
      "\n",
      "../../../modules/machine_learning_utils.py:431: SettingWithCopyWarning:\n",
      "\n",
      "\n",
      "A value is trying to be set on a copy of a slice from a DataFrame.\n",
      "Try using .loc[row_indexer,col_indexer] = value instead\n",
      "\n",
      "See the caveats in the documentation: https://pandas.pydata.org/pandas-docs/stable/user_guide/indexing.html#returning-a-view-versus-a-copy\n",
      "\n",
      "../../../modules/machine_learning_utils.py:430: SettingWithCopyWarning:\n",
      "\n",
      "\n",
      "A value is trying to be set on a copy of a slice from a DataFrame.\n",
      "Try using .loc[row_indexer,col_indexer] = value instead\n",
      "\n",
      "See the caveats in the documentation: https://pandas.pydata.org/pandas-docs/stable/user_guide/indexing.html#returning-a-view-versus-a-copy\n",
      "\n",
      "../../../modules/machine_learning_utils.py:431: SettingWithCopyWarning:\n",
      "\n",
      "\n",
      "A value is trying to be set on a copy of a slice from a DataFrame.\n",
      "Try using .loc[row_indexer,col_indexer] = value instead\n",
      "\n",
      "See the caveats in the documentation: https://pandas.pydata.org/pandas-docs/stable/user_guide/indexing.html#returning-a-view-versus-a-copy\n",
      "\n",
      "../../../modules/machine_learning_utils.py:430: SettingWithCopyWarning:\n",
      "\n",
      "\n",
      "A value is trying to be set on a copy of a slice from a DataFrame.\n",
      "Try using .loc[row_indexer,col_indexer] = value instead\n",
      "\n",
      "See the caveats in the documentation: https://pandas.pydata.org/pandas-docs/stable/user_guide/indexing.html#returning-a-view-versus-a-copy\n",
      "\n",
      "../../../modules/machine_learning_utils.py:431: SettingWithCopyWarning:\n",
      "\n",
      "\n",
      "A value is trying to be set on a copy of a slice from a DataFrame.\n",
      "Try using .loc[row_indexer,col_indexer] = value instead\n",
      "\n",
      "See the caveats in the documentation: https://pandas.pydata.org/pandas-docs/stable/user_guide/indexing.html#returning-a-view-versus-a-copy\n",
      "\n",
      "../../../modules/machine_learning_utils.py:430: SettingWithCopyWarning:\n",
      "\n",
      "\n",
      "A value is trying to be set on a copy of a slice from a DataFrame.\n",
      "Try using .loc[row_indexer,col_indexer] = value instead\n",
      "\n",
      "See the caveats in the documentation: https://pandas.pydata.org/pandas-docs/stable/user_guide/indexing.html#returning-a-view-versus-a-copy\n",
      "\n",
      "../../../modules/machine_learning_utils.py:431: SettingWithCopyWarning:\n",
      "\n",
      "\n",
      "A value is trying to be set on a copy of a slice from a DataFrame.\n",
      "Try using .loc[row_indexer,col_indexer] = value instead\n",
      "\n",
      "See the caveats in the documentation: https://pandas.pydata.org/pandas-docs/stable/user_guide/indexing.html#returning-a-view-versus-a-copy\n",
      "\n",
      "../../../modules/machine_learning_utils.py:430: SettingWithCopyWarning:\n",
      "\n",
      "\n",
      "A value is trying to be set on a copy of a slice from a DataFrame.\n",
      "Try using .loc[row_indexer,col_indexer] = value instead\n",
      "\n",
      "See the caveats in the documentation: https://pandas.pydata.org/pandas-docs/stable/user_guide/indexing.html#returning-a-view-versus-a-copy\n",
      "\n",
      "../../../modules/machine_learning_utils.py:431: SettingWithCopyWarning:\n",
      "\n",
      "\n",
      "A value is trying to be set on a copy of a slice from a DataFrame.\n",
      "Try using .loc[row_indexer,col_indexer] = value instead\n",
      "\n",
      "See the caveats in the documentation: https://pandas.pydata.org/pandas-docs/stable/user_guide/indexing.html#returning-a-view-versus-a-copy\n",
      "\n"
     ]
    }
   ],
   "source": [
    "test = mlu.clustering_preparation(test,'prediction',imputation_num,scaler_num,imputation_cat)"
   ]
  },
  {
   "cell_type": "code",
   "execution_count": 35,
   "id": "4b574c75-abbe-42de-b99f-597308f1a8d3",
   "metadata": {},
   "outputs": [
    {
     "data": {
      "text/plain": [
       "TransactionAmt                   float64\n",
       "ProductCD                         object\n",
       "card4                             object\n",
       "card6                             object\n",
       "DeviceType                        object\n",
       "num_accounts_related_to_user     float64\n",
       "num_days_previous_transaction    float64\n",
       "customer_id                        int64\n",
       "browser_enc                       object\n",
       "device_info_v4                    object\n",
       "dtype: object"
      ]
     },
     "execution_count": 35,
     "metadata": {},
     "output_type": "execute_result"
    }
   ],
   "source": [
    "test.dtypes"
   ]
  },
  {
   "cell_type": "code",
   "execution_count": 36,
   "id": "bb2aaf91-7a7d-40ef-a65f-00fe2ced2554",
   "metadata": {},
   "outputs": [
    {
     "data": {
      "text/html": [
       "<div>\n",
       "<style scoped>\n",
       "    .dataframe tbody tr th:only-of-type {\n",
       "        vertical-align: middle;\n",
       "    }\n",
       "\n",
       "    .dataframe tbody tr th {\n",
       "        vertical-align: top;\n",
       "    }\n",
       "\n",
       "    .dataframe thead th {\n",
       "        text-align: right;\n",
       "    }\n",
       "</style>\n",
       "<table border=\"1\" class=\"dataframe\">\n",
       "  <thead>\n",
       "    <tr style=\"text-align: right;\">\n",
       "      <th></th>\n",
       "      <th>TransactionAmt</th>\n",
       "      <th>ProductCD</th>\n",
       "      <th>card4</th>\n",
       "      <th>card6</th>\n",
       "      <th>DeviceType</th>\n",
       "      <th>num_accounts_related_to_user</th>\n",
       "      <th>num_days_previous_transaction</th>\n",
       "      <th>customer_id</th>\n",
       "      <th>browser_enc</th>\n",
       "      <th>device_info_v4</th>\n",
       "    </tr>\n",
       "  </thead>\n",
       "  <tbody>\n",
       "    <tr>\n",
       "      <th>139309</th>\n",
       "      <td>0.01674</td>\n",
       "      <td>C</td>\n",
       "      <td>visa</td>\n",
       "      <td>debit</td>\n",
       "      <td>mobile</td>\n",
       "      <td>0.000586</td>\n",
       "      <td>0.0</td>\n",
       "      <td>116</td>\n",
       "      <td>chrome</td>\n",
       "      <td>other</td>\n",
       "    </tr>\n",
       "  </tbody>\n",
       "</table>\n",
       "</div>"
      ],
      "text/plain": [
       "        TransactionAmt ProductCD card4  card6 DeviceType  \\\n",
       "139309         0.01674         C  visa  debit     mobile   \n",
       "\n",
       "        num_accounts_related_to_user  num_days_previous_transaction  \\\n",
       "139309                      0.000586                            0.0   \n",
       "\n",
       "        customer_id browser_enc device_info_v4  \n",
       "139309          116      chrome          other  "
      ]
     },
     "execution_count": 36,
     "metadata": {},
     "output_type": "execute_result"
    }
   ],
   "source": [
    "test"
   ]
  },
  {
   "cell_type": "code",
   "execution_count": 37,
   "id": "87ec8264-11fe-4b32-be29-ada7d0869c74",
   "metadata": {},
   "outputs": [
    {
     "name": "stderr",
     "output_type": "stream",
     "text": [
      "../../../modules/machine_learning_utils.py:439: SettingWithCopyWarning:\n",
      "\n",
      "\n",
      "A value is trying to be set on a copy of a slice from a DataFrame.\n",
      "Try using .loc[row_indexer,col_indexer] = value instead\n",
      "\n",
      "See the caveats in the documentation: https://pandas.pydata.org/pandas-docs/stable/user_guide/indexing.html#returning-a-view-versus-a-copy\n",
      "\n",
      "../../../modules/machine_learning_utils.py:440: SettingWithCopyWarning:\n",
      "\n",
      "\n",
      "A value is trying to be set on a copy of a slice from a DataFrame.\n",
      "Try using .loc[row_indexer,col_indexer] = value instead\n",
      "\n",
      "See the caveats in the documentation: https://pandas.pydata.org/pandas-docs/stable/user_guide/indexing.html#returning-a-view-versus-a-copy\n",
      "\n",
      "../../../modules/machine_learning_utils.py:441: SettingWithCopyWarning:\n",
      "\n",
      "\n",
      "A value is trying to be set on a copy of a slice from a DataFrame.\n",
      "Try using .loc[row_indexer,col_indexer] = value instead\n",
      "\n",
      "See the caveats in the documentation: https://pandas.pydata.org/pandas-docs/stable/user_guide/indexing.html#returning-a-view-versus-a-copy\n",
      "\n",
      "../../../modules/machine_learning_utils.py:442: SettingWithCopyWarning:\n",
      "\n",
      "\n",
      "A value is trying to be set on a copy of a slice from a DataFrame.\n",
      "Try using .loc[row_indexer,col_indexer] = value instead\n",
      "\n",
      "See the caveats in the documentation: https://pandas.pydata.org/pandas-docs/stable/user_guide/indexing.html#returning-a-view-versus-a-copy\n",
      "\n",
      "../../../modules/machine_learning_utils.py:443: SettingWithCopyWarning:\n",
      "\n",
      "\n",
      "A value is trying to be set on a copy of a slice from a DataFrame.\n",
      "Try using .loc[row_indexer,col_indexer] = value instead\n",
      "\n",
      "See the caveats in the documentation: https://pandas.pydata.org/pandas-docs/stable/user_guide/indexing.html#returning-a-view-versus-a-copy\n",
      "\n"
     ]
    }
   ],
   "source": [
    "test = mlu.clustering_encoding(test,'prediction')"
   ]
  },
  {
   "cell_type": "code",
   "execution_count": 38,
   "id": "87239599-9df4-4c0b-8bde-64b1882cbd61",
   "metadata": {},
   "outputs": [
    {
     "data": {
      "text/plain": [
       "TransactionAmt                   float64\n",
       "num_accounts_related_to_user     float64\n",
       "num_days_previous_transaction    float64\n",
       "customer_id                        int64\n",
       "product_enc                        int64\n",
       "card4_enc                          int64\n",
       "card6_enc                          int64\n",
       "DeviceType_enc                     int64\n",
       "browser_enc2                       int64\n",
       "device_info_v4_enc                 int64\n",
       "dtype: object"
      ]
     },
     "execution_count": 38,
     "metadata": {},
     "output_type": "execute_result"
    }
   ],
   "source": [
    "test.dtypes"
   ]
  },
  {
   "cell_type": "code",
   "execution_count": 39,
   "id": "1dcbe03f-85cb-4154-8dbf-04f94f2d0da3",
   "metadata": {},
   "outputs": [
    {
     "data": {
      "text/html": [
       "<div>\n",
       "<style scoped>\n",
       "    .dataframe tbody tr th:only-of-type {\n",
       "        vertical-align: middle;\n",
       "    }\n",
       "\n",
       "    .dataframe tbody tr th {\n",
       "        vertical-align: top;\n",
       "    }\n",
       "\n",
       "    .dataframe thead th {\n",
       "        text-align: right;\n",
       "    }\n",
       "</style>\n",
       "<table border=\"1\" class=\"dataframe\">\n",
       "  <thead>\n",
       "    <tr style=\"text-align: right;\">\n",
       "      <th></th>\n",
       "      <th>TransactionAmt</th>\n",
       "      <th>num_accounts_related_to_user</th>\n",
       "      <th>num_days_previous_transaction</th>\n",
       "      <th>customer_id</th>\n",
       "      <th>product_enc</th>\n",
       "      <th>card4_enc</th>\n",
       "      <th>card6_enc</th>\n",
       "      <th>DeviceType_enc</th>\n",
       "      <th>browser_enc2</th>\n",
       "      <th>device_info_v4_enc</th>\n",
       "    </tr>\n",
       "  </thead>\n",
       "  <tbody>\n",
       "    <tr>\n",
       "      <th>139309</th>\n",
       "      <td>0.01674</td>\n",
       "      <td>0.000586</td>\n",
       "      <td>0.0</td>\n",
       "      <td>116</td>\n",
       "      <td>0</td>\n",
       "      <td>0</td>\n",
       "      <td>0</td>\n",
       "      <td>0</td>\n",
       "      <td>0</td>\n",
       "      <td>17</td>\n",
       "    </tr>\n",
       "  </tbody>\n",
       "</table>\n",
       "</div>"
      ],
      "text/plain": [
       "        TransactionAmt  num_accounts_related_to_user  \\\n",
       "139309         0.01674                      0.000586   \n",
       "\n",
       "        num_days_previous_transaction  customer_id  product_enc  card4_enc  \\\n",
       "139309                            0.0          116            0          0   \n",
       "\n",
       "        card6_enc  DeviceType_enc  browser_enc2  device_info_v4_enc  \n",
       "139309          0               0             0                  17  "
      ]
     },
     "execution_count": 39,
     "metadata": {},
     "output_type": "execute_result"
    }
   ],
   "source": [
    "test"
   ]
  },
  {
   "cell_type": "code",
   "execution_count": 57,
   "id": "142bb03b-20d1-4197-9b06-f320d788e0da",
   "metadata": {},
   "outputs": [
    {
     "data": {
      "text/plain": [
       "2"
      ]
     },
     "execution_count": 57,
     "metadata": {},
     "output_type": "execute_result"
    }
   ],
   "source": [
    "model.predict(X=test[['TransactionAmt', 'num_accounts_related_to_user', 'num_days_previous_transaction',\n",
    "                                                    'product_enc', 'card4_enc', 'card6_enc', 'DeviceType_enc','browser_enc2',\n",
    "                                                    'device_info_v4_enc']],categorical=[3,4,5,6,7,8])[0]"
   ]
  },
  {
   "cell_type": "code",
   "execution_count": 41,
   "id": "bd84c6ac-c4fe-40ac-b1c5-f42f997d2011",
   "metadata": {},
   "outputs": [
    {
     "data": {
      "text/html": [
       "<div>\n",
       "<style scoped>\n",
       "    .dataframe tbody tr th:only-of-type {\n",
       "        vertical-align: middle;\n",
       "    }\n",
       "\n",
       "    .dataframe tbody tr th {\n",
       "        vertical-align: top;\n",
       "    }\n",
       "\n",
       "    .dataframe thead th {\n",
       "        text-align: right;\n",
       "    }\n",
       "</style>\n",
       "<table border=\"1\" class=\"dataframe\">\n",
       "  <thead>\n",
       "    <tr style=\"text-align: right;\">\n",
       "      <th></th>\n",
       "      <th>TransactionAmt</th>\n",
       "      <th>num_accounts_related_to_user</th>\n",
       "      <th>num_days_previous_transaction</th>\n",
       "      <th>customer_id</th>\n",
       "      <th>product_enc</th>\n",
       "      <th>card4_enc</th>\n",
       "      <th>card6_enc</th>\n",
       "      <th>DeviceType_enc</th>\n",
       "      <th>browser_enc2</th>\n",
       "      <th>device_info_v4_enc</th>\n",
       "      <th>cluster_labels_pred</th>\n",
       "    </tr>\n",
       "  </thead>\n",
       "  <tbody>\n",
       "    <tr>\n",
       "      <th>139309</th>\n",
       "      <td>0.01674</td>\n",
       "      <td>0.000586</td>\n",
       "      <td>0.0</td>\n",
       "      <td>116</td>\n",
       "      <td>0</td>\n",
       "      <td>0</td>\n",
       "      <td>0</td>\n",
       "      <td>0</td>\n",
       "      <td>0</td>\n",
       "      <td>17</td>\n",
       "      <td>2</td>\n",
       "    </tr>\n",
       "  </tbody>\n",
       "</table>\n",
       "</div>"
      ],
      "text/plain": [
       "        TransactionAmt  num_accounts_related_to_user  \\\n",
       "139309         0.01674                      0.000586   \n",
       "\n",
       "        num_days_previous_transaction  customer_id  product_enc  card4_enc  \\\n",
       "139309                            0.0          116            0          0   \n",
       "\n",
       "        card6_enc  DeviceType_enc  browser_enc2  device_info_v4_enc  \\\n",
       "139309          0               0             0                  17   \n",
       "\n",
       "        cluster_labels_pred  \n",
       "139309                    2  "
      ]
     },
     "execution_count": 41,
     "metadata": {},
     "output_type": "execute_result"
    }
   ],
   "source": [
    "test"
   ]
  },
  {
   "cell_type": "code",
   "execution_count": 42,
   "id": "8f3ef388-105b-4862-bca4-5189a74ebcb6",
   "metadata": {},
   "outputs": [
    {
     "data": {
      "text/plain": [
       "TransactionAmt                   float64\n",
       "num_accounts_related_to_user     float64\n",
       "num_days_previous_transaction    float64\n",
       "customer_id                        int64\n",
       "product_enc                        int64\n",
       "card4_enc                          int64\n",
       "card6_enc                          int64\n",
       "DeviceType_enc                     int64\n",
       "browser_enc2                       int64\n",
       "device_info_v4_enc                 int64\n",
       "cluster_labels_pred               uint16\n",
       "dtype: object"
      ]
     },
     "execution_count": 42,
     "metadata": {},
     "output_type": "execute_result"
    }
   ],
   "source": [
    "test.dtypes"
   ]
  },
  {
   "cell_type": "code",
   "execution_count": 61,
   "id": "394e12a8-d3d8-4076-b949-da534fe7b569",
   "metadata": {},
   "outputs": [],
   "source": [
    "t = pd.DataFrame(columns=test.columns)"
   ]
  },
  {
   "cell_type": "code",
   "execution_count": 62,
   "id": "3a2dfcf3-fb4d-4b82-b104-2ed1aa6dfb61",
   "metadata": {},
   "outputs": [
    {
     "data": {
      "text/html": [
       "<div>\n",
       "<style scoped>\n",
       "    .dataframe tbody tr th:only-of-type {\n",
       "        vertical-align: middle;\n",
       "    }\n",
       "\n",
       "    .dataframe tbody tr th {\n",
       "        vertical-align: top;\n",
       "    }\n",
       "\n",
       "    .dataframe thead th {\n",
       "        text-align: right;\n",
       "    }\n",
       "</style>\n",
       "<table border=\"1\" class=\"dataframe\">\n",
       "  <thead>\n",
       "    <tr style=\"text-align: right;\">\n",
       "      <th></th>\n",
       "      <th>TransactionAmt</th>\n",
       "      <th>num_accounts_related_to_user</th>\n",
       "      <th>num_days_previous_transaction</th>\n",
       "      <th>customer_id</th>\n",
       "      <th>product_enc</th>\n",
       "      <th>card4_enc</th>\n",
       "      <th>card6_enc</th>\n",
       "      <th>DeviceType_enc</th>\n",
       "      <th>browser_enc2</th>\n",
       "      <th>device_info_v4_enc</th>\n",
       "      <th>cluster_labels_pred</th>\n",
       "    </tr>\n",
       "  </thead>\n",
       "  <tbody>\n",
       "  </tbody>\n",
       "</table>\n",
       "</div>"
      ],
      "text/plain": [
       "Empty DataFrame\n",
       "Columns: [TransactionAmt, num_accounts_related_to_user, num_days_previous_transaction, customer_id, product_enc, card4_enc, card6_enc, DeviceType_enc, browser_enc2, device_info_v4_enc, cluster_labels_pred]\n",
       "Index: []"
      ]
     },
     "execution_count": 62,
     "metadata": {},
     "output_type": "execute_result"
    }
   ],
   "source": [
    "t"
   ]
  },
  {
   "cell_type": "code",
   "execution_count": 60,
   "id": "ad83141d-f9d6-4325-8ab7-07440a1581cc",
   "metadata": {},
   "outputs": [
    {
     "data": {
      "text/plain": [
       "Index(['TransactionAmt', 'num_accounts_related_to_user',\n",
       "       'num_days_previous_transaction', 'customer_id', 'product_enc',\n",
       "       'card4_enc', 'card6_enc', 'DeviceType_enc', 'browser_enc2',\n",
       "       'device_info_v4_enc', 'cluster_labels_pred'],\n",
       "      dtype='object')"
      ]
     },
     "execution_count": 60,
     "metadata": {},
     "output_type": "execute_result"
    }
   ],
   "source": [
    "test.columns"
   ]
  },
  {
   "cell_type": "code",
   "execution_count": null,
   "id": "f4dac8ca-f54b-4300-bb11-e22f3883ea2c",
   "metadata": {},
   "outputs": [],
   "source": [
    "for i in test:\n",
    "    t[i]"
   ]
  },
  {
   "cell_type": "code",
   "execution_count": null,
   "id": "46b1e0dd-dbc9-4315-a077-7479ae015ffa",
   "metadata": {},
   "outputs": [],
   "source": []
  },
  {
   "cell_type": "code",
   "execution_count": null,
   "id": "453dbe98-0d52-4294-bfd6-57b2727b7f19",
   "metadata": {},
   "outputs": [],
   "source": []
  },
  {
   "cell_type": "code",
   "execution_count": null,
   "id": "5945f852-2f8f-43f3-9a55-af7ab7d8db3d",
   "metadata": {},
   "outputs": [],
   "source": []
  },
  {
   "cell_type": "code",
   "execution_count": null,
   "id": "907c97fc-3bc7-4902-8930-f360d0a3769b",
   "metadata": {},
   "outputs": [],
   "source": []
  }
 ],
 "metadata": {
  "kernelspec": {
   "display_name": "Python 3",
   "language": "python",
   "name": "python3"
  },
  "language_info": {
   "codemirror_mode": {
    "name": "ipython",
    "version": 3
   },
   "file_extension": ".py",
   "mimetype": "text/x-python",
   "name": "python",
   "nbconvert_exporter": "python",
   "pygments_lexer": "ipython3",
   "version": "3.9.2"
  }
 },
 "nbformat": 4,
 "nbformat_minor": 5
}
