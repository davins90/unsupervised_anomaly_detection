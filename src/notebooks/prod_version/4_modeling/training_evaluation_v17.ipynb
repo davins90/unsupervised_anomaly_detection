{
 "cells": [
  {
   "cell_type": "markdown",
   "id": "78b9ab1b-17b0-45a4-96ef-785cbeb8355f",
   "metadata": {},
   "source": [
    "bi + ml --> final"
   ]
  },
  {
   "cell_type": "code",
   "execution_count": 1,
   "id": "6d57c904-bd1c-47ef-b5d7-46d730fc9ee9",
   "metadata": {},
   "outputs": [],
   "source": [
    "import sys\n",
    "sys.path.append('../../../')"
   ]
  },
  {
   "cell_type": "code",
   "execution_count": 2,
   "id": "4749bf27-a893-49c2-80c1-78b7601f0e16",
   "metadata": {},
   "outputs": [],
   "source": [
    "import pandas as pd\n",
    "import numpy as np\n",
    "import pickle\n",
    "import matplotlib.pyplot as plt\n",
    "\n",
    "from modules import machine_learning_utils as mlu\n",
    "\n",
    "pd.set_option(\"display.max_rows\",None)\n",
    "pd.set_option(\"display.max_columns\",None)"
   ]
  },
  {
   "cell_type": "markdown",
   "id": "3f4f1e2c-06fe-46f3-8f2f-f8f25c143da0",
   "metadata": {},
   "source": [
    "# 1.0 Data retrieval"
   ]
  },
  {
   "cell_type": "code",
   "execution_count": 3,
   "id": "ec6dcbae-669d-425b-8324-e7bb0ba0b538",
   "metadata": {},
   "outputs": [],
   "source": [
    "df = pd.read_pickle(\"../../../data_lake/output_prod/train_eng.pkl\")\n",
    "val = pd.read_pickle(\"../../../data_lake/output_prod/val_eng.pkl\")"
   ]
  },
  {
   "cell_type": "code",
   "execution_count": 4,
   "id": "e4bc0644-78fa-4dd8-bfcc-dbb838b41fd9",
   "metadata": {},
   "outputs": [],
   "source": [
    "cols = ['card1', 'card2', 'card3','card5','M4', 'id_21', 'id_22', 'id_23', 'id_24', 'id_25',\n",
    "       'id_26', 'id_27', 'id_28', 'id_29', 'id_30', 'id_32', 'id_33', 'id_34',\n",
    "       'id_35', 'id_36', 'id_37', 'id_38','num_transaction_per_time']"
   ]
  },
  {
   "cell_type": "code",
   "execution_count": 5,
   "id": "65b20810-ad8f-40bf-bb53-8c35aa71f0e3",
   "metadata": {},
   "outputs": [],
   "source": [
    "df = df.drop(columns=cols)"
   ]
  },
  {
   "cell_type": "code",
   "execution_count": 6,
   "id": "1d66b553-32f2-4648-a272-0a192ae084ee",
   "metadata": {},
   "outputs": [],
   "source": [
    "val = val.drop(columns=cols)"
   ]
  },
  {
   "cell_type": "markdown",
   "id": "b94ae274-6ebb-47da-9b3f-1bf8777ff26a",
   "metadata": {},
   "source": [
    "# 2.0 Machine Learning\n",
    "## 2.1 Training model"
   ]
  },
  {
   "cell_type": "code",
   "execution_count": 7,
   "id": "005af780-d90d-437d-9a7a-6d1122cec80d",
   "metadata": {},
   "outputs": [
    {
     "data": {
      "text/html": [
       "<div>\n",
       "<style scoped>\n",
       "    .dataframe tbody tr th:only-of-type {\n",
       "        vertical-align: middle;\n",
       "    }\n",
       "\n",
       "    .dataframe tbody tr th {\n",
       "        vertical-align: top;\n",
       "    }\n",
       "\n",
       "    .dataframe thead th {\n",
       "        text-align: right;\n",
       "    }\n",
       "</style>\n",
       "<table border=\"1\" class=\"dataframe\">\n",
       "  <thead>\n",
       "    <tr style=\"text-align: right;\">\n",
       "      <th></th>\n",
       "      <th>isFraud</th>\n",
       "      <th>TransactionAmt</th>\n",
       "      <th>ProductCD</th>\n",
       "      <th>card4</th>\n",
       "      <th>card6</th>\n",
       "      <th>addr1</th>\n",
       "      <th>addr2</th>\n",
       "      <th>P_emaildomain</th>\n",
       "      <th>R_emaildomain</th>\n",
       "      <th>DeviceType</th>\n",
       "      <th>num_accounts_related_to_user</th>\n",
       "      <th>num_days_previous_transaction</th>\n",
       "      <th>multi_transaction_per_time</th>\n",
       "      <th>browser_enc</th>\n",
       "      <th>device_info_v4</th>\n",
       "    </tr>\n",
       "  </thead>\n",
       "  <tbody>\n",
       "    <tr>\n",
       "      <th>13206</th>\n",
       "      <td>0</td>\n",
       "      <td>25.0</td>\n",
       "      <td>H</td>\n",
       "      <td>mastercard</td>\n",
       "      <td>debit</td>\n",
       "      <td>299.0</td>\n",
       "      <td>87.0</td>\n",
       "      <td>gmail.com</td>\n",
       "      <td>gmail.com</td>\n",
       "      <td>desktop</td>\n",
       "      <td>1.0</td>\n",
       "      <td>14.833333</td>\n",
       "      <td>0</td>\n",
       "      <td>chrome</td>\n",
       "      <td>windows</td>\n",
       "    </tr>\n",
       "  </tbody>\n",
       "</table>\n",
       "</div>"
      ],
      "text/plain": [
       "      isFraud  TransactionAmt ProductCD       card4  card6  addr1 addr2  \\\n",
       "13206       0            25.0         H  mastercard  debit  299.0  87.0   \n",
       "\n",
       "      P_emaildomain R_emaildomain DeviceType  num_accounts_related_to_user  \\\n",
       "13206     gmail.com     gmail.com    desktop                           1.0   \n",
       "\n",
       "       num_days_previous_transaction  multi_transaction_per_time browser_enc  \\\n",
       "13206                      14.833333                           0      chrome   \n",
       "\n",
       "      device_info_v4  \n",
       "13206        windows  "
      ]
     },
     "execution_count": 7,
     "metadata": {},
     "output_type": "execute_result"
    }
   ],
   "source": [
    "df.sample(1)"
   ]
  },
  {
   "cell_type": "code",
   "execution_count": 8,
   "id": "f42f73a6-a617-4af8-ab65-42eb11cb2aa6",
   "metadata": {},
   "outputs": [],
   "source": [
    "for i in df:\n",
    "    if df[i].dtypes == 'object':\n",
    "        df[i] = df[i].astype(str)"
   ]
  },
  {
   "cell_type": "code",
   "execution_count": 9,
   "id": "447dd015-4ec9-424b-a67a-5467bea048fa",
   "metadata": {},
   "outputs": [],
   "source": [
    "X_train = df.drop(columns='isFraud')\n",
    "y_train = df['isFraud'].astype(float)"
   ]
  },
  {
   "cell_type": "code",
   "execution_count": 10,
   "id": "8e2abe67-a034-4489-ab56-95d352c1ba5c",
   "metadata": {},
   "outputs": [],
   "source": [
    "numerical_cols = X_train.select_dtypes(include=['int64', 'float64']).columns\n",
    "categorical_cols = X_train.select_dtypes(include=['object', 'bool']).columns"
   ]
  },
  {
   "cell_type": "code",
   "execution_count": 11,
   "id": "2343117c-6d3d-4e71-ac9a-f618b3129445",
   "metadata": {},
   "outputs": [],
   "source": [
    "parameters = {'model__max_depth':[6,8],'model__n_estimators':[500,800],'model__learning_rate':[0.05,0.1],'model__min_samples_leaf':[3,5]}"
   ]
  },
  {
   "cell_type": "code",
   "execution_count": 12,
   "id": "9d223653-db46-491e-8480-ff2f6aa40f5c",
   "metadata": {},
   "outputs": [
    {
     "name": "stdout",
     "output_type": "stream",
     "text": [
      "GridSearchCV results...\n",
      "Mean Train Scores: \n",
      "[0.87795346 0.88916559 0.8819401  0.90386593 0.92143151 0.92504387\n",
      " 0.91906463 0.92691311 0.9127528  0.9127528  0.90262    0.90262\n",
      " 0.93820888 0.93820888 0.92907367 0.92907367]\n",
      "\n",
      "Mean CV Scores: \n",
      "[0.82770653 0.8290768  0.82546357 0.83480718 0.83381097 0.83605424\n",
      " 0.8318177  0.83455799 0.83505655 0.83505655 0.83244046 0.83244046\n",
      " 0.84228182 0.84228182 0.8363012  0.8363012 ]\n",
      "\n",
      "Best Parameters: \n",
      "{'model__learning_rate': 0.1, 'model__max_depth': 8, 'model__min_samples_leaf': 3, 'model__n_estimators': 500}\n",
      "\n"
     ]
    }
   ],
   "source": [
    "model = mlu.model_training(X_train,y_train,numerical_cols,categorical_cols,parameters,'no')"
   ]
  },
  {
   "cell_type": "markdown",
   "id": "8979506f-bf78-45a8-aeaa-565ec78b619c",
   "metadata": {},
   "source": [
    "## 2.2 Evaluation model"
   ]
  },
  {
   "cell_type": "code",
   "execution_count": 13,
   "id": "0436df8f-e20e-4221-a5e5-fd25a99a627f",
   "metadata": {
    "tags": []
   },
   "outputs": [],
   "source": [
    "for i in val:\n",
    "    if val[i].dtypes == 'object':\n",
    "        val[i] = val[i].astype(str)"
   ]
  },
  {
   "cell_type": "code",
   "execution_count": 14,
   "id": "6869f637-86f7-453e-8f2e-1bd85a583e80",
   "metadata": {},
   "outputs": [],
   "source": [
    "X_val = val.drop(columns='isFraud')\n",
    "y_val = val['isFraud'].astype(float)"
   ]
  },
  {
   "cell_type": "code",
   "execution_count": 15,
   "id": "480731d1-3722-4bb7-878a-88ba9ae3c562",
   "metadata": {},
   "outputs": [],
   "source": [
    "m = mlu.model_calibration(model,X_val,y_val)"
   ]
  },
  {
   "cell_type": "code",
   "execution_count": 16,
   "id": "cc84f329-c349-4691-b36c-a47f465dbd93",
   "metadata": {},
   "outputs": [
    {
     "name": "stdout",
     "output_type": "stream",
     "text": [
      "Test results...\n",
      "Model Test Recall: 0.8541289933694997\n",
      "--------------------------------------------------\n",
      "Model Test Confusion Matrix\n",
      "Classification report : \n",
      "               precision    recall  f1-score   support\n",
      "\n",
      "         0.0       0.99      0.86      0.92     19976\n",
      "         1.0       0.33      0.85      0.48      1659\n",
      "\n",
      "    accuracy                           0.86     21635\n",
      "   macro avg       0.66      0.85      0.70     21635\n",
      "weighted avg       0.94      0.86      0.88     21635\n",
      "\n",
      "ProductCD: 0.3131138080421156\n",
      "TransactionAmt: 0.15206507897838095\n",
      "card4: 0.13282131666567082\n",
      "P_emaildomain: 0.024525832844155583\n",
      "addr2: 0.011651621015265292\n",
      "multi_transaction_per_time: 0.006132504007895845\n",
      "device_info_v4: 0.005446022434135586\n",
      "R_emaildomain: 0.0050217864128335446\n",
      "DeviceType: 0.004105381864471467\n",
      "num_days_previous_transaction: 0.002238626098770113\n",
      "num_accounts_related_to_user: 0.001462010765606174\n",
      "card6: 0.0010347367420872992\n",
      "addr1: 3.3212425496304924e-05\n",
      "browser_enc: 2.9153238858545126e-05\n"
     ]
    },
    {
     "data": {
      "text/html": [
       "<style>#sk-container-id-1 {color: black;background-color: white;}#sk-container-id-1 pre{padding: 0;}#sk-container-id-1 div.sk-toggleable {background-color: white;}#sk-container-id-1 label.sk-toggleable__label {cursor: pointer;display: block;width: 100%;margin-bottom: 0;padding: 0.3em;box-sizing: border-box;text-align: center;}#sk-container-id-1 label.sk-toggleable__label-arrow:before {content: \"▸\";float: left;margin-right: 0.25em;color: #696969;}#sk-container-id-1 label.sk-toggleable__label-arrow:hover:before {color: black;}#sk-container-id-1 div.sk-estimator:hover label.sk-toggleable__label-arrow:before {color: black;}#sk-container-id-1 div.sk-toggleable__content {max-height: 0;max-width: 0;overflow: hidden;text-align: left;background-color: #f0f8ff;}#sk-container-id-1 div.sk-toggleable__content pre {margin: 0.2em;color: black;border-radius: 0.25em;background-color: #f0f8ff;}#sk-container-id-1 input.sk-toggleable__control:checked~div.sk-toggleable__content {max-height: 200px;max-width: 100%;overflow: auto;}#sk-container-id-1 input.sk-toggleable__control:checked~label.sk-toggleable__label-arrow:before {content: \"▾\";}#sk-container-id-1 div.sk-estimator input.sk-toggleable__control:checked~label.sk-toggleable__label {background-color: #d4ebff;}#sk-container-id-1 div.sk-label input.sk-toggleable__control:checked~label.sk-toggleable__label {background-color: #d4ebff;}#sk-container-id-1 input.sk-hidden--visually {border: 0;clip: rect(1px 1px 1px 1px);clip: rect(1px, 1px, 1px, 1px);height: 1px;margin: -1px;overflow: hidden;padding: 0;position: absolute;width: 1px;}#sk-container-id-1 div.sk-estimator {font-family: monospace;background-color: #f0f8ff;border: 1px dotted black;border-radius: 0.25em;box-sizing: border-box;margin-bottom: 0.5em;}#sk-container-id-1 div.sk-estimator:hover {background-color: #d4ebff;}#sk-container-id-1 div.sk-parallel-item::after {content: \"\";width: 100%;border-bottom: 1px solid gray;flex-grow: 1;}#sk-container-id-1 div.sk-label:hover label.sk-toggleable__label {background-color: #d4ebff;}#sk-container-id-1 div.sk-serial::before {content: \"\";position: absolute;border-left: 1px solid gray;box-sizing: border-box;top: 0;bottom: 0;left: 50%;z-index: 0;}#sk-container-id-1 div.sk-serial {display: flex;flex-direction: column;align-items: center;background-color: white;padding-right: 0.2em;padding-left: 0.2em;position: relative;}#sk-container-id-1 div.sk-item {position: relative;z-index: 1;}#sk-container-id-1 div.sk-parallel {display: flex;align-items: stretch;justify-content: center;background-color: white;position: relative;}#sk-container-id-1 div.sk-item::before, #sk-container-id-1 div.sk-parallel-item::before {content: \"\";position: absolute;border-left: 1px solid gray;box-sizing: border-box;top: 0;bottom: 0;left: 50%;z-index: -1;}#sk-container-id-1 div.sk-parallel-item {display: flex;flex-direction: column;z-index: 1;position: relative;background-color: white;}#sk-container-id-1 div.sk-parallel-item:first-child::after {align-self: flex-end;width: 50%;}#sk-container-id-1 div.sk-parallel-item:last-child::after {align-self: flex-start;width: 50%;}#sk-container-id-1 div.sk-parallel-item:only-child::after {width: 0;}#sk-container-id-1 div.sk-dashed-wrapped {border: 1px dashed gray;margin: 0 0.4em 0.5em 0.4em;box-sizing: border-box;padding-bottom: 0.4em;background-color: white;}#sk-container-id-1 div.sk-label label {font-family: monospace;font-weight: bold;display: inline-block;line-height: 1.2em;}#sk-container-id-1 div.sk-label-container {text-align: center;}#sk-container-id-1 div.sk-container {/* jupyter's `normalize.less` sets `[hidden] { display: none; }` but bootstrap.min.css set `[hidden] { display: none !important; }` so we also need the `!important` here to be able to override the default hidden behavior on the sphinx rendered scikit-learn.org. See: https://github.com/scikit-learn/scikit-learn/issues/21755 */display: inline-block !important;position: relative;}#sk-container-id-1 div.sk-text-repr-fallback {display: none;}</style><div id=\"sk-container-id-1\" class=\"sk-top-container\"><div class=\"sk-text-repr-fallback\"><pre>Pipeline(steps=[(&#x27;preprocessor&#x27;,\n",
       "                 ColumnTransformer(transformers=[(&#x27;numerical_preprocessor&#x27;,\n",
       "                                                  Pipeline(steps=[(&#x27;imputer&#x27;,\n",
       "                                                                   IterativeImputer(add_indicator=True,\n",
       "                                                                                    estimator=ExtraTreesRegressor(n_estimators=5,\n",
       "                                                                                                                  random_state=1),\n",
       "                                                                                    random_state=1)),\n",
       "                                                                  (&#x27;scaler&#x27;,\n",
       "                                                                   FunctionTransformer(func=&lt;function log_transform at 0x7f940c5d8670&gt;))]),\n",
       "                                                  Index([&#x27;TransactionAmt&#x27;, &#x27;num_accounts_re...\n",
       "                                                                  (&#x27;label_enc&#x27;,\n",
       "                                                                   OneHotEncoder(handle_unknown=&#x27;ignore&#x27;))]),\n",
       "                                                  Index([&#x27;ProductCD&#x27;, &#x27;card4&#x27;, &#x27;card6&#x27;, &#x27;addr1&#x27;, &#x27;addr2&#x27;, &#x27;P_emaildomain&#x27;,\n",
       "       &#x27;R_emaildomain&#x27;, &#x27;DeviceType&#x27;, &#x27;browser_enc&#x27;, &#x27;device_info_v4&#x27;],\n",
       "      dtype=&#x27;object&#x27;))])),\n",
       "                (&#x27;model&#x27;,\n",
       "                 GradientBoostingClassifier(max_depth=8, max_features=1.0,\n",
       "                                            min_samples_leaf=3,\n",
       "                                            n_estimators=500,\n",
       "                                            n_iter_no_change=25, random_state=0,\n",
       "                                            warm_start=True))])</pre><b>In a Jupyter environment, please rerun this cell to show the HTML representation or trust the notebook. <br />On GitHub, the HTML representation is unable to render, please try loading this page with nbviewer.org.</b></div><div class=\"sk-container\" hidden><div class=\"sk-item sk-dashed-wrapped\"><div class=\"sk-label-container\"><div class=\"sk-label sk-toggleable\"><input class=\"sk-toggleable__control sk-hidden--visually\" id=\"sk-estimator-id-1\" type=\"checkbox\" ><label for=\"sk-estimator-id-1\" class=\"sk-toggleable__label sk-toggleable__label-arrow\">Pipeline</label><div class=\"sk-toggleable__content\"><pre>Pipeline(steps=[(&#x27;preprocessor&#x27;,\n",
       "                 ColumnTransformer(transformers=[(&#x27;numerical_preprocessor&#x27;,\n",
       "                                                  Pipeline(steps=[(&#x27;imputer&#x27;,\n",
       "                                                                   IterativeImputer(add_indicator=True,\n",
       "                                                                                    estimator=ExtraTreesRegressor(n_estimators=5,\n",
       "                                                                                                                  random_state=1),\n",
       "                                                                                    random_state=1)),\n",
       "                                                                  (&#x27;scaler&#x27;,\n",
       "                                                                   FunctionTransformer(func=&lt;function log_transform at 0x7f940c5d8670&gt;))]),\n",
       "                                                  Index([&#x27;TransactionAmt&#x27;, &#x27;num_accounts_re...\n",
       "                                                                  (&#x27;label_enc&#x27;,\n",
       "                                                                   OneHotEncoder(handle_unknown=&#x27;ignore&#x27;))]),\n",
       "                                                  Index([&#x27;ProductCD&#x27;, &#x27;card4&#x27;, &#x27;card6&#x27;, &#x27;addr1&#x27;, &#x27;addr2&#x27;, &#x27;P_emaildomain&#x27;,\n",
       "       &#x27;R_emaildomain&#x27;, &#x27;DeviceType&#x27;, &#x27;browser_enc&#x27;, &#x27;device_info_v4&#x27;],\n",
       "      dtype=&#x27;object&#x27;))])),\n",
       "                (&#x27;model&#x27;,\n",
       "                 GradientBoostingClassifier(max_depth=8, max_features=1.0,\n",
       "                                            min_samples_leaf=3,\n",
       "                                            n_estimators=500,\n",
       "                                            n_iter_no_change=25, random_state=0,\n",
       "                                            warm_start=True))])</pre></div></div></div><div class=\"sk-serial\"><div class=\"sk-item sk-dashed-wrapped\"><div class=\"sk-label-container\"><div class=\"sk-label sk-toggleable\"><input class=\"sk-toggleable__control sk-hidden--visually\" id=\"sk-estimator-id-2\" type=\"checkbox\" ><label for=\"sk-estimator-id-2\" class=\"sk-toggleable__label sk-toggleable__label-arrow\">preprocessor: ColumnTransformer</label><div class=\"sk-toggleable__content\"><pre>ColumnTransformer(transformers=[(&#x27;numerical_preprocessor&#x27;,\n",
       "                                 Pipeline(steps=[(&#x27;imputer&#x27;,\n",
       "                                                  IterativeImputer(add_indicator=True,\n",
       "                                                                   estimator=ExtraTreesRegressor(n_estimators=5,\n",
       "                                                                                                 random_state=1),\n",
       "                                                                   random_state=1)),\n",
       "                                                 (&#x27;scaler&#x27;,\n",
       "                                                  FunctionTransformer(func=&lt;function log_transform at 0x7f940c5d8670&gt;))]),\n",
       "                                 Index([&#x27;TransactionAmt&#x27;, &#x27;num_accounts_related_to_user&#x27;,\n",
       "       &#x27;num_days_previou...,\n",
       "      dtype=&#x27;object&#x27;)),\n",
       "                                (&#x27;categorical_preprocessor&#x27;,\n",
       "                                 Pipeline(steps=[(&#x27;imputer&#x27;,\n",
       "                                                  SimpleImputer(add_indicator=True,\n",
       "                                                                fill_value=&#x27;missing&#x27;,\n",
       "                                                                strategy=&#x27;constant&#x27;)),\n",
       "                                                 (&#x27;label_enc&#x27;,\n",
       "                                                  OneHotEncoder(handle_unknown=&#x27;ignore&#x27;))]),\n",
       "                                 Index([&#x27;ProductCD&#x27;, &#x27;card4&#x27;, &#x27;card6&#x27;, &#x27;addr1&#x27;, &#x27;addr2&#x27;, &#x27;P_emaildomain&#x27;,\n",
       "       &#x27;R_emaildomain&#x27;, &#x27;DeviceType&#x27;, &#x27;browser_enc&#x27;, &#x27;device_info_v4&#x27;],\n",
       "      dtype=&#x27;object&#x27;))])</pre></div></div></div><div class=\"sk-parallel\"><div class=\"sk-parallel-item\"><div class=\"sk-item\"><div class=\"sk-label-container\"><div class=\"sk-label sk-toggleable\"><input class=\"sk-toggleable__control sk-hidden--visually\" id=\"sk-estimator-id-3\" type=\"checkbox\" ><label for=\"sk-estimator-id-3\" class=\"sk-toggleable__label sk-toggleable__label-arrow\">numerical_preprocessor</label><div class=\"sk-toggleable__content\"><pre>Index([&#x27;TransactionAmt&#x27;, &#x27;num_accounts_related_to_user&#x27;,\n",
       "       &#x27;num_days_previous_transaction&#x27;, &#x27;multi_transaction_per_time&#x27;],\n",
       "      dtype=&#x27;object&#x27;)</pre></div></div></div><div class=\"sk-serial\"><div class=\"sk-item\"><div class=\"sk-serial\"><div class=\"sk-item sk-dashed-wrapped\"><div class=\"sk-label-container\"><div class=\"sk-label sk-toggleable\"><input class=\"sk-toggleable__control sk-hidden--visually\" id=\"sk-estimator-id-4\" type=\"checkbox\" ><label for=\"sk-estimator-id-4\" class=\"sk-toggleable__label sk-toggleable__label-arrow\">imputer: IterativeImputer</label><div class=\"sk-toggleable__content\"><pre>IterativeImputer(add_indicator=True,\n",
       "                 estimator=ExtraTreesRegressor(n_estimators=5, random_state=1),\n",
       "                 random_state=1)</pre></div></div></div><div class=\"sk-parallel\"><div class=\"sk-parallel-item\"><div class=\"sk-item\"><div class=\"sk-label-container\"><div class=\"sk-label sk-toggleable\"><input class=\"sk-toggleable__control sk-hidden--visually\" id=\"sk-estimator-id-5\" type=\"checkbox\" ><label for=\"sk-estimator-id-5\" class=\"sk-toggleable__label sk-toggleable__label-arrow\">estimator: ExtraTreesRegressor</label><div class=\"sk-toggleable__content\"><pre>ExtraTreesRegressor(n_estimators=5, random_state=1)</pre></div></div></div><div class=\"sk-serial\"><div class=\"sk-item\"><div class=\"sk-estimator sk-toggleable\"><input class=\"sk-toggleable__control sk-hidden--visually\" id=\"sk-estimator-id-6\" type=\"checkbox\" ><label for=\"sk-estimator-id-6\" class=\"sk-toggleable__label sk-toggleable__label-arrow\">ExtraTreesRegressor</label><div class=\"sk-toggleable__content\"><pre>ExtraTreesRegressor(n_estimators=5, random_state=1)</pre></div></div></div></div></div></div></div></div><div class=\"sk-item\"><div class=\"sk-estimator sk-toggleable\"><input class=\"sk-toggleable__control sk-hidden--visually\" id=\"sk-estimator-id-7\" type=\"checkbox\" ><label for=\"sk-estimator-id-7\" class=\"sk-toggleable__label sk-toggleable__label-arrow\">FunctionTransformer</label><div class=\"sk-toggleable__content\"><pre>FunctionTransformer(func=&lt;function log_transform at 0x7f940c5d8670&gt;)</pre></div></div></div></div></div></div></div></div><div class=\"sk-parallel-item\"><div class=\"sk-item\"><div class=\"sk-label-container\"><div class=\"sk-label sk-toggleable\"><input class=\"sk-toggleable__control sk-hidden--visually\" id=\"sk-estimator-id-8\" type=\"checkbox\" ><label for=\"sk-estimator-id-8\" class=\"sk-toggleable__label sk-toggleable__label-arrow\">categorical_preprocessor</label><div class=\"sk-toggleable__content\"><pre>Index([&#x27;ProductCD&#x27;, &#x27;card4&#x27;, &#x27;card6&#x27;, &#x27;addr1&#x27;, &#x27;addr2&#x27;, &#x27;P_emaildomain&#x27;,\n",
       "       &#x27;R_emaildomain&#x27;, &#x27;DeviceType&#x27;, &#x27;browser_enc&#x27;, &#x27;device_info_v4&#x27;],\n",
       "      dtype=&#x27;object&#x27;)</pre></div></div></div><div class=\"sk-serial\"><div class=\"sk-item\"><div class=\"sk-serial\"><div class=\"sk-item\"><div class=\"sk-estimator sk-toggleable\"><input class=\"sk-toggleable__control sk-hidden--visually\" id=\"sk-estimator-id-9\" type=\"checkbox\" ><label for=\"sk-estimator-id-9\" class=\"sk-toggleable__label sk-toggleable__label-arrow\">SimpleImputer</label><div class=\"sk-toggleable__content\"><pre>SimpleImputer(add_indicator=True, fill_value=&#x27;missing&#x27;, strategy=&#x27;constant&#x27;)</pre></div></div></div><div class=\"sk-item\"><div class=\"sk-estimator sk-toggleable\"><input class=\"sk-toggleable__control sk-hidden--visually\" id=\"sk-estimator-id-10\" type=\"checkbox\" ><label for=\"sk-estimator-id-10\" class=\"sk-toggleable__label sk-toggleable__label-arrow\">OneHotEncoder</label><div class=\"sk-toggleable__content\"><pre>OneHotEncoder(handle_unknown=&#x27;ignore&#x27;)</pre></div></div></div></div></div></div></div></div></div></div><div class=\"sk-item\"><div class=\"sk-estimator sk-toggleable\"><input class=\"sk-toggleable__control sk-hidden--visually\" id=\"sk-estimator-id-11\" type=\"checkbox\" ><label for=\"sk-estimator-id-11\" class=\"sk-toggleable__label sk-toggleable__label-arrow\">GradientBoostingClassifier</label><div class=\"sk-toggleable__content\"><pre>GradientBoostingClassifier(max_depth=8, max_features=1.0, min_samples_leaf=3,\n",
       "                           n_estimators=500, n_iter_no_change=25,\n",
       "                           random_state=0, warm_start=True)</pre></div></div></div></div></div></div></div>"
      ],
      "text/plain": [
       "Pipeline(steps=[('preprocessor',\n",
       "                 ColumnTransformer(transformers=[('numerical_preprocessor',\n",
       "                                                  Pipeline(steps=[('imputer',\n",
       "                                                                   IterativeImputer(add_indicator=True,\n",
       "                                                                                    estimator=ExtraTreesRegressor(n_estimators=5,\n",
       "                                                                                                                  random_state=1),\n",
       "                                                                                    random_state=1)),\n",
       "                                                                  ('scaler',\n",
       "                                                                   FunctionTransformer(func=<function log_transform at 0x7f940c5d8670>))]),\n",
       "                                                  Index(['TransactionAmt', 'num_accounts_re...\n",
       "                                                                  ('label_enc',\n",
       "                                                                   OneHotEncoder(handle_unknown='ignore'))]),\n",
       "                                                  Index(['ProductCD', 'card4', 'card6', 'addr1', 'addr2', 'P_emaildomain',\n",
       "       'R_emaildomain', 'DeviceType', 'browser_enc', 'device_info_v4'],\n",
       "      dtype='object'))])),\n",
       "                ('model',\n",
       "                 GradientBoostingClassifier(max_depth=8, max_features=1.0,\n",
       "                                            min_samples_leaf=3,\n",
       "                                            n_estimators=500,\n",
       "                                            n_iter_no_change=25, random_state=0,\n",
       "                                            warm_start=True))])"
      ]
     },
     "execution_count": 16,
     "metadata": {},
     "output_type": "execute_result"
    },
    {
     "data": {
      "image/png": "[encoded data removed]",
      "text/plain": [
       "<Figure size 640x480 with 2 Axes>"
      ]
     },
     "metadata": {},
     "output_type": "display_data"
    }
   ],
   "source": [
    "mlu.model_evaluation(m.estimator, X_val, y_val)"
   ]
  },
  {
   "cell_type": "markdown",
   "id": "e3a54a38-7f61-42f6-a098-32b9798bb986",
   "metadata": {
    "tags": []
   },
   "source": [
    "# 2.3 Predict probability"
   ]
  },
  {
   "cell_type": "code",
   "execution_count": 17,
   "id": "e40624c1-a037-465c-b079-f1a19ad46198",
   "metadata": {},
   "outputs": [],
   "source": [
    "val.insert(0,'probability_score','')\n",
    "val['probability_score'] = model.predict_proba(X_val)[:,1]"
   ]
  },
  {
   "cell_type": "markdown",
   "id": "6e2c59b9-347f-433c-a4d6-a2d214fb4655",
   "metadata": {},
   "source": [
    "# 3.0 Human Knowledge"
   ]
  },
  {
   "cell_type": "markdown",
   "id": "1990eb7c-1906-4a47-a200-6095c3cc2d7c",
   "metadata": {},
   "source": [
    "## 3.1 Traininig HK"
   ]
  },
  {
   "cell_type": "code",
   "execution_count": 18,
   "id": "4cd9133e-5866-4f7b-8a31-87b73c838b8f",
   "metadata": {},
   "outputs": [],
   "source": [
    "df, scaler = mlu.log_beta_scaling(df,'num_accounts_related_to_user','num_days_previous_transaction')"
   ]
  },
  {
   "cell_type": "markdown",
   "id": "40154ce8-9558-452e-9613-0a8371e74c46",
   "metadata": {},
   "source": [
    "## 3.2 Score HK"
   ]
  },
  {
   "cell_type": "code",
   "execution_count": 19,
   "id": "d9a9870f-24ee-44f2-9c4a-9b141efd0111",
   "metadata": {},
   "outputs": [],
   "source": [
    "val = mlu.log_beta_transform(val,scaler,'num_accounts_related_to_user','num_days_previous_transaction')"
   ]
  },
  {
   "cell_type": "code",
   "execution_count": 20,
   "id": "01d8b135-c025-4dfc-963d-990afc3fff18",
   "metadata": {},
   "outputs": [],
   "source": [
    "val = mlu.warning_score_(val,0.8)"
   ]
  },
  {
   "cell_type": "markdown",
   "id": "b1873922-1b3c-409f-83fa-7775ba09fa98",
   "metadata": {},
   "source": [
    "# 4.0 Error analysis"
   ]
  },
  {
   "cell_type": "code",
   "execution_count": 21,
   "id": "d08bf80a-1946-4faa-892e-f1ba1f9200c1",
   "metadata": {},
   "outputs": [
    {
     "data": {
      "text/html": [
       "<div>\n",
       "<style scoped>\n",
       "    .dataframe tbody tr th:only-of-type {\n",
       "        vertical-align: middle;\n",
       "    }\n",
       "\n",
       "    .dataframe tbody tr th {\n",
       "        vertical-align: top;\n",
       "    }\n",
       "\n",
       "    .dataframe thead th {\n",
       "        text-align: right;\n",
       "    }\n",
       "</style>\n",
       "<table border=\"1\" class=\"dataframe\">\n",
       "  <thead>\n",
       "    <tr style=\"text-align: right;\">\n",
       "      <th></th>\n",
       "      <th>probability_score</th>\n",
       "      <th>isFraud</th>\n",
       "      <th>TransactionAmt</th>\n",
       "      <th>ProductCD</th>\n",
       "      <th>card4</th>\n",
       "      <th>card6</th>\n",
       "      <th>addr1</th>\n",
       "      <th>addr2</th>\n",
       "      <th>P_emaildomain</th>\n",
       "      <th>R_emaildomain</th>\n",
       "      <th>DeviceType</th>\n",
       "      <th>num_accounts_related_to_user</th>\n",
       "      <th>num_days_previous_transaction</th>\n",
       "      <th>multi_transaction_per_time</th>\n",
       "      <th>browser_enc</th>\n",
       "      <th>device_info_v4</th>\n",
       "      <th>warning_score</th>\n",
       "    </tr>\n",
       "  </thead>\n",
       "  <tbody>\n",
       "    <tr>\n",
       "      <th>43444</th>\n",
       "      <td>0.033858</td>\n",
       "      <td>0</td>\n",
       "      <td>50.0</td>\n",
       "      <td>H</td>\n",
       "      <td>mastercard</td>\n",
       "      <td>debit</td>\n",
       "      <td>315.0</td>\n",
       "      <td>87.0</td>\n",
       "      <td>anonymous.com</td>\n",
       "      <td>gmail.com</td>\n",
       "      <td>desktop</td>\n",
       "      <td>1.0</td>\n",
       "      <td>0.0</td>\n",
       "      <td>0</td>\n",
       "      <td>chrome</td>\n",
       "      <td>windows</td>\n",
       "      <td>0.307262</td>\n",
       "    </tr>\n",
       "    <tr>\n",
       "      <th>32466</th>\n",
       "      <td>0.047340</td>\n",
       "      <td>0</td>\n",
       "      <td>100.0</td>\n",
       "      <td>R</td>\n",
       "      <td>visa</td>\n",
       "      <td>credit</td>\n",
       "      <td>327.0</td>\n",
       "      <td>87.0</td>\n",
       "      <td>comcast.net</td>\n",
       "      <td>aol.com</td>\n",
       "      <td>mobile</td>\n",
       "      <td>1.0</td>\n",
       "      <td>0.0</td>\n",
       "      <td>0</td>\n",
       "      <td>safari</td>\n",
       "      <td>ios</td>\n",
       "      <td>0.307262</td>\n",
       "    </tr>\n",
       "  </tbody>\n",
       "</table>\n",
       "</div>"
      ],
      "text/plain": [
       "       probability_score isFraud  TransactionAmt ProductCD       card4  \\\n",
       "43444           0.033858       0            50.0         H  mastercard   \n",
       "32466           0.047340       0           100.0         R        visa   \n",
       "\n",
       "        card6  addr1 addr2  P_emaildomain R_emaildomain DeviceType  \\\n",
       "43444   debit  315.0  87.0  anonymous.com     gmail.com    desktop   \n",
       "32466  credit  327.0  87.0    comcast.net       aol.com     mobile   \n",
       "\n",
       "       num_accounts_related_to_user  num_days_previous_transaction  \\\n",
       "43444                           1.0                            0.0   \n",
       "32466                           1.0                            0.0   \n",
       "\n",
       "       multi_transaction_per_time browser_enc device_info_v4  warning_score  \n",
       "43444                           0      chrome        windows       0.307262  \n",
       "32466                           0      safari            ios       0.307262  "
      ]
     },
     "execution_count": 21,
     "metadata": {},
     "output_type": "execute_result"
    }
   ],
   "source": [
    "val.sample(2)"
   ]
  },
  {
   "cell_type": "code",
   "execution_count": 22,
   "id": "5e479b3c-95d1-4262-a43b-f71a7c418c53",
   "metadata": {},
   "outputs": [
    {
     "data": {
      "text/plain": [
       "<AxesSubplot: >"
      ]
     },
     "execution_count": 22,
     "metadata": {},
     "output_type": "execute_result"
    },
    {
     "data": {
      "image/png": "[encoded data removed]",
      "text/plain": [
       "<Figure size 640x480 with 1 Axes>"
      ]
     },
     "metadata": {},
     "output_type": "display_data"
    }
   ],
   "source": [
    "val['probability_score'].hist()"
   ]
  },
  {
   "cell_type": "code",
   "execution_count": 23,
   "id": "f84d08c8-8307-4f7e-829e-f9759decdca9",
   "metadata": {},
   "outputs": [
    {
     "data": {
      "text/plain": [
       "<AxesSubplot: >"
      ]
     },
     "execution_count": 23,
     "metadata": {},
     "output_type": "execute_result"
    },
    {
     "data": {
      "image/png": "[encoded data removed]",
      "text/plain": [
       "<Figure size 640x480 with 1 Axes>"
      ]
     },
     "metadata": {},
     "output_type": "display_data"
    }
   ],
   "source": [
    "val['warning_score'].hist()"
   ]
  },
  {
   "cell_type": "markdown",
   "id": "0681d2fa-ffc3-40c8-82a3-26bab7fc3d8d",
   "metadata": {},
   "source": [
    "# 5.0 Bayesian Fusion"
   ]
  },
  {
   "cell_type": "code",
   "execution_count": 24,
   "id": "b70e780c-22e5-4245-895a-224bb15e7028",
   "metadata": {},
   "outputs": [],
   "source": [
    "val['final_score'] = val.apply(lambda x: mlu.beta_fusion(x['probability_score'],x['warning_score'],0.6),axis=1)"
   ]
  },
  {
   "cell_type": "code",
   "execution_count": 25,
   "id": "56e1b1be-d249-458a-9c51-f648e4e7c2ac",
   "metadata": {},
   "outputs": [
    {
     "data": {
      "text/html": [
       "<div>\n",
       "<style scoped>\n",
       "    .dataframe tbody tr th:only-of-type {\n",
       "        vertical-align: middle;\n",
       "    }\n",
       "\n",
       "    .dataframe tbody tr th {\n",
       "        vertical-align: top;\n",
       "    }\n",
       "\n",
       "    .dataframe thead th {\n",
       "        text-align: right;\n",
       "    }\n",
       "</style>\n",
       "<table border=\"1\" class=\"dataframe\">\n",
       "  <thead>\n",
       "    <tr style=\"text-align: right;\">\n",
       "      <th></th>\n",
       "      <th>probability_score</th>\n",
       "      <th>isFraud</th>\n",
       "      <th>TransactionAmt</th>\n",
       "      <th>ProductCD</th>\n",
       "      <th>card4</th>\n",
       "      <th>card6</th>\n",
       "      <th>addr1</th>\n",
       "      <th>addr2</th>\n",
       "      <th>P_emaildomain</th>\n",
       "      <th>R_emaildomain</th>\n",
       "      <th>DeviceType</th>\n",
       "      <th>num_accounts_related_to_user</th>\n",
       "      <th>num_days_previous_transaction</th>\n",
       "      <th>multi_transaction_per_time</th>\n",
       "      <th>browser_enc</th>\n",
       "      <th>device_info_v4</th>\n",
       "      <th>warning_score</th>\n",
       "      <th>final_score</th>\n",
       "    </tr>\n",
       "  </thead>\n",
       "  <tbody>\n",
       "    <tr>\n",
       "      <th>78473</th>\n",
       "      <td>0.306999</td>\n",
       "      <td>0</td>\n",
       "      <td>44.409</td>\n",
       "      <td>C</td>\n",
       "      <td>visa</td>\n",
       "      <td>credit</td>\n",
       "      <td>nan</td>\n",
       "      <td>nan</td>\n",
       "      <td>gmail.com</td>\n",
       "      <td>gmail.com</td>\n",
       "      <td>mobile</td>\n",
       "      <td>1.0</td>\n",
       "      <td>0.0</td>\n",
       "      <td>0</td>\n",
       "      <td>safari</td>\n",
       "      <td>other</td>\n",
       "      <td>0.332262</td>\n",
       "      <td>0.335394</td>\n",
       "    </tr>\n",
       "    <tr>\n",
       "      <th>52948</th>\n",
       "      <td>0.283382</td>\n",
       "      <td>0</td>\n",
       "      <td>21.688</td>\n",
       "      <td>C</td>\n",
       "      <td>visa</td>\n",
       "      <td>debit</td>\n",
       "      <td>nan</td>\n",
       "      <td>nan</td>\n",
       "      <td>outlook.es</td>\n",
       "      <td>outlook.es</td>\n",
       "      <td>desktop</td>\n",
       "      <td>6.0</td>\n",
       "      <td>369.0</td>\n",
       "      <td>0</td>\n",
       "      <td>chrome</td>\n",
       "      <td>windows</td>\n",
       "      <td>0.884159</td>\n",
       "      <td>0.521323</td>\n",
       "    </tr>\n",
       "  </tbody>\n",
       "</table>\n",
       "</div>"
      ],
      "text/plain": [
       "       probability_score isFraud  TransactionAmt ProductCD card4   card6  \\\n",
       "78473           0.306999       0          44.409         C  visa  credit   \n",
       "52948           0.283382       0          21.688         C  visa   debit   \n",
       "\n",
       "      addr1 addr2 P_emaildomain R_emaildomain DeviceType  \\\n",
       "78473   nan   nan     gmail.com     gmail.com     mobile   \n",
       "52948   nan   nan    outlook.es    outlook.es    desktop   \n",
       "\n",
       "       num_accounts_related_to_user  num_days_previous_transaction  \\\n",
       "78473                           1.0                            0.0   \n",
       "52948                           6.0                          369.0   \n",
       "\n",
       "       multi_transaction_per_time browser_enc device_info_v4  warning_score  \\\n",
       "78473                           0      safari          other       0.332262   \n",
       "52948                           0      chrome        windows       0.884159   \n",
       "\n",
       "       final_score  \n",
       "78473     0.335394  \n",
       "52948     0.521323  "
      ]
     },
     "execution_count": 25,
     "metadata": {},
     "output_type": "execute_result"
    }
   ],
   "source": [
    "val.sample(2)"
   ]
  },
  {
   "cell_type": "code",
   "execution_count": 26,
   "id": "58627865-bd9d-4456-8624-1b9f3029f988",
   "metadata": {},
   "outputs": [
    {
     "data": {
      "text/plain": [
       "<AxesSubplot: >"
      ]
     },
     "execution_count": 26,
     "metadata": {},
     "output_type": "execute_result"
    },
    {
     "data": {
      "image/png": "[encoded data removed]",
      "text/plain": [
       "<Figure size 640x480 with 1 Axes>"
      ]
     },
     "metadata": {},
     "output_type": "display_data"
    }
   ],
   "source": [
    "val['final_score'].hist()"
   ]
  },
  {
   "cell_type": "markdown",
   "id": "c38cf05a-2a26-4abc-bfe1-436317ca1aa9",
   "metadata": {},
   "source": [
    "# 6.0 Model Output"
   ]
  },
  {
   "cell_type": "code",
   "execution_count": 27,
   "id": "0426aa06-c968-4fc9-9533-1edf64743b84",
   "metadata": {},
   "outputs": [],
   "source": [
    "with open('../../../data_lake/output_prod/trained_model_v1.pkl','wb') as file:\n",
    "    pickle.dump(m.estimator, file)"
   ]
  },
  {
   "cell_type": "code",
   "execution_count": 28,
   "id": "21e4e969-d853-44f1-8c04-cd6388a875d7",
   "metadata": {},
   "outputs": [],
   "source": [
    "with open('../../../data_lake/output_prod/log_scaler_bi.pkl','wb') as file:\n",
    "    pickle.dump(scaler, file)"
   ]
  },
  {
   "cell_type": "code",
   "execution_count": null,
   "id": "c6292b56-2e74-48ca-b564-731f7b895956",
   "metadata": {},
   "outputs": [],
   "source": []
  }
 ],
 "metadata": {
  "kernelspec": {
   "display_name": "dev",
   "language": "python",
   "name": "dev"
  },
  "language_info": {
   "codemirror_mode": {
    "name": "ipython",
    "version": 3
   },
   "file_extension": ".py",
   "mimetype": "text/x-python",
   "name": "python",
   "nbconvert_exporter": "python",
   "pygments_lexer": "ipython3",
   "version": "3.8.16"
  }
 },
 "nbformat": 4,
 "nbformat_minor": 5
}
