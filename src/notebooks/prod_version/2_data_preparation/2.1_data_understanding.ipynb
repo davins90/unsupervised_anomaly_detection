{
 "cells": [
  {
   "cell_type": "code",
   "execution_count": 1,
   "id": "67473655-1080-4d8c-b194-8c9828b300e5",
   "metadata": {},
   "outputs": [],
   "source": [
    "import pandas as pd\n",
    "import numpy as np\n",
    "import matplotlib.pyplot as plt\n",
    "import plotly.express as px\n",
    "import plotly.io as pio\n",
    "\n",
    "%matplotlib inline\n",
    "pio.renderers.default='iframe'\n",
    "\n",
    "pd.set_option(\"display.max_rows\",None)\n",
    "pd.set_option(\"display.max_columns\",None)"
   ]
  },
  {
   "cell_type": "markdown",
   "id": "7bcd85a3-6c06-43bb-addf-e06cc395a43b",
   "metadata": {},
   "source": [
    "# 1.0 Data retrieval"
   ]
  },
  {
   "cell_type": "code",
   "execution_count": 2,
   "id": "689684b3-612c-4370-98f5-70e16bf14ead",
   "metadata": {},
   "outputs": [],
   "source": [
    "df = pd.read_pickle(\"../../../data_lake/output/df_merged.pkl\")"
   ]
  },
  {
   "cell_type": "markdown",
   "id": "e15a023d-493e-4373-994b-897bf75e893c",
   "metadata": {},
   "source": [
    "# 2.0 EDA"
   ]
  },
  {
   "cell_type": "markdown",
   "id": "9bb64794-2b80-40c1-b3d5-8e8595d32c0d",
   "metadata": {},
   "source": [
    "Specify columns format"
   ]
  },
  {
   "cell_type": "code",
   "execution_count": 3,
   "id": "68c175ad-d9e8-4075-98df-f158ada02fd9",
   "metadata": {},
   "outputs": [],
   "source": [
    "df = df.astype('object')"
   ]
  },
  {
   "cell_type": "code",
   "execution_count": 4,
   "id": "5c77d8da-aeff-4d7b-827b-d1307b8095c2",
   "metadata": {},
   "outputs": [],
   "source": [
    "num_col = ['TransactionAmt','C1', 'C2', 'C3', 'C4', 'C6', 'C7',\n",
    "       'C8', 'C10', 'C11', 'C12', 'C13', 'C14','D1', 'D2', 'D3', 'D4', 'D5',\n",
    "       'D6', 'D7', 'D8', 'D9', 'D10', 'D12', 'D13', 'D14', 'D15']"
   ]
  },
  {
   "cell_type": "code",
   "execution_count": 5,
   "id": "a0f43acd-9ce6-4d90-895f-095a35d75cdf",
   "metadata": {},
   "outputs": [],
   "source": [
    "for i in df:\n",
    "    if i in num_col:\n",
    "        df[i] = df[i].astype('float')"
   ]
  },
  {
   "cell_type": "markdown",
   "id": "10b00bbb-a607-4a86-85db-c3672d5c1e98",
   "metadata": {},
   "source": [
    "Given the \"masked\" meaning of C# and D# columns, i've decided to remove them by replacing with their max values computed along avery row: some information will be saved anyway in this way."
   ]
  },
  {
   "cell_type": "code",
   "execution_count": 6,
   "id": "25652dce-e8e0-4cc1-b88e-03c5c0c021bc",
   "metadata": {},
   "outputs": [
    {
     "name": "stderr",
     "output_type": "stream",
     "text": [
      "/tmp/ipykernel_65/263844738.py:1: FutureWarning:\n",
      "\n",
      "Dropping of nuisance columns in DataFrame reductions (with 'numeric_only=None') is deprecated; in a future version this will raise TypeError.  Select only valid columns before calling the reduction.\n",
      "\n"
     ]
    }
   ],
   "source": [
    "df['num_accounts_related_to_user'] = df.filter(regex='C').max(axis=1)"
   ]
  },
  {
   "cell_type": "code",
   "execution_count": 7,
   "id": "c5fbbb2e-165f-45d1-9c5c-d12cd7b94c80",
   "metadata": {},
   "outputs": [],
   "source": [
    "df = df.drop(columns=['C1', 'C2', 'C3', 'C4', 'C6', 'C7',\n",
    "       'C8', 'C10', 'C11', 'C12', 'C13', 'C14'])"
   ]
  },
  {
   "cell_type": "code",
   "execution_count": 8,
   "id": "5a44c866-2a73-491b-a947-decf9bea9545",
   "metadata": {},
   "outputs": [
    {
     "name": "stderr",
     "output_type": "stream",
     "text": [
      "/tmp/ipykernel_65/3198743402.py:1: FutureWarning:\n",
      "\n",
      "Dropping of nuisance columns in DataFrame reductions (with 'numeric_only=None') is deprecated; in a future version this will raise TypeError.  Select only valid columns before calling the reduction.\n",
      "\n"
     ]
    }
   ],
   "source": [
    "df['num_days_previous_transaction'] = df.filter(regex='D').max(axis=1)"
   ]
  },
  {
   "cell_type": "code",
   "execution_count": 10,
   "id": "7cf629d7-38f9-4327-a744-159da6c2b12a",
   "metadata": {},
   "outputs": [],
   "source": [
    "df = df.drop(columns=['D1', 'D2', 'D3', 'D4', 'D5',\n",
    "       'D6', 'D7', 'D8', 'D9', 'D10', 'D12', 'D13', 'D14', 'D15'])"
   ]
  },
  {
   "cell_type": "markdown",
   "id": "c7ebf011-a3e9-4f1c-abf6-2ce590ca7c04",
   "metadata": {},
   "source": [
    "Create costumer id column by aggergating data from card, address and email domain"
   ]
  },
  {
   "cell_type": "code",
   "execution_count": 12,
   "id": "720dcc0c-af9d-4d1a-9804-344b2db4d3fc",
   "metadata": {},
   "outputs": [],
   "source": [
    "df['customer_id_1'] = df[['card1',\n",
    "       'card2', 'card3', 'card4', 'card5', 'card6', 'addr1', 'addr2',\n",
    "       'P_emaildomain']].apply(lambda x: '{}_{}_{}_{}_{}_{}_{}_{}_{}'.format(x[0],x[1],x[2],x[3],x[4],x[5],x[6],x[7],x[8]), axis=1)"
   ]
  },
  {
   "cell_type": "code",
   "execution_count": 14,
   "id": "9335f5db-8520-41ae-aca3-ba2ff81bd06b",
   "metadata": {},
   "outputs": [],
   "source": [
    "df['customer_id'] = pd.factorize(df['customer_id_1'])[0]"
   ]
  },
  {
   "cell_type": "code",
   "execution_count": 15,
   "id": "53106a55-f26b-41da-8bc2-80a155abfb86",
   "metadata": {},
   "outputs": [
    {
     "data": {
      "text/plain": [
       "38897"
      ]
     },
     "execution_count": 15,
     "metadata": {},
     "output_type": "execute_result"
    }
   ],
   "source": [
    "df['customer_id'].nunique()"
   ]
  },
  {
   "cell_type": "markdown",
   "id": "daf87208-b497-4dee-98d3-ca351ea3283d",
   "metadata": {},
   "source": [
    "Create new features from time info"
   ]
  },
  {
   "cell_type": "code",
   "execution_count": 16,
   "id": "f89c98ad-bf45-4c5b-991e-4dbd1f51ee1a",
   "metadata": {},
   "outputs": [],
   "source": [
    "df['num_transaction_per_time'] = df['time_id'].map(df['time_id'].value_counts())"
   ]
  },
  {
   "cell_type": "code",
   "execution_count": 17,
   "id": "6c0ffdf8-3097-4745-9ace-3d421635648f",
   "metadata": {},
   "outputs": [],
   "source": [
    "df['multi_transaction_per_time'] =  df['num_transaction_per_time'].apply(lambda x: 1 if x>1 else 0)"
   ]
  },
  {
   "cell_type": "code",
   "execution_count": 18,
   "id": "a7b1a318-899d-441b-a315-f5a566effce4",
   "metadata": {},
   "outputs": [],
   "source": [
    "df = df.drop(columns='customer_id_1')"
   ]
  },
  {
   "cell_type": "code",
   "execution_count": 19,
   "id": "e843375a-9fad-4c04-8d0a-9d3a3d921c2c",
   "metadata": {},
   "outputs": [],
   "source": [
    "df = df.drop(columns='time_id')"
   ]
  },
  {
   "cell_type": "markdown",
   "id": "6e9a50c9-70db-430a-9fbd-eec24d8808ca",
   "metadata": {},
   "source": [
    "# 3.0 Output"
   ]
  },
  {
   "cell_type": "code",
   "execution_count": 20,
   "id": "af1052da-d792-4abd-9bfc-acc401364bb4",
   "metadata": {},
   "outputs": [
    {
     "data": {
      "text/html": [
       "<div>\n",
       "<style scoped>\n",
       "    .dataframe tbody tr th:only-of-type {\n",
       "        vertical-align: middle;\n",
       "    }\n",
       "\n",
       "    .dataframe tbody tr th {\n",
       "        vertical-align: top;\n",
       "    }\n",
       "\n",
       "    .dataframe thead th {\n",
       "        text-align: right;\n",
       "    }\n",
       "</style>\n",
       "<table border=\"1\" class=\"dataframe\">\n",
       "  <thead>\n",
       "    <tr style=\"text-align: right;\">\n",
       "      <th></th>\n",
       "      <th>TransactionID</th>\n",
       "      <th>isFraud</th>\n",
       "      <th>TransactionAmt</th>\n",
       "      <th>ProductCD</th>\n",
       "      <th>card1</th>\n",
       "      <th>card2</th>\n",
       "      <th>card3</th>\n",
       "      <th>card4</th>\n",
       "      <th>card5</th>\n",
       "      <th>card6</th>\n",
       "      <th>addr1</th>\n",
       "      <th>addr2</th>\n",
       "      <th>dist2</th>\n",
       "      <th>P_emaildomain</th>\n",
       "      <th>R_emaildomain</th>\n",
       "      <th>M4</th>\n",
       "      <th>id_21</th>\n",
       "      <th>id_22</th>\n",
       "      <th>id_23</th>\n",
       "      <th>id_24</th>\n",
       "      <th>id_25</th>\n",
       "      <th>id_26</th>\n",
       "      <th>id_27</th>\n",
       "      <th>id_28</th>\n",
       "      <th>id_29</th>\n",
       "      <th>id_30</th>\n",
       "      <th>id_31</th>\n",
       "      <th>id_32</th>\n",
       "      <th>id_33</th>\n",
       "      <th>id_34</th>\n",
       "      <th>id_35</th>\n",
       "      <th>id_36</th>\n",
       "      <th>id_37</th>\n",
       "      <th>id_38</th>\n",
       "      <th>DeviceType</th>\n",
       "      <th>DeviceInfo</th>\n",
       "      <th>num_accounts_related_to_user</th>\n",
       "      <th>num_days_previous_transaction</th>\n",
       "      <th>customer_id</th>\n",
       "      <th>num_transaction_per_time</th>\n",
       "      <th>multi_transaction_per_time</th>\n",
       "    </tr>\n",
       "  </thead>\n",
       "  <tbody>\n",
       "    <tr>\n",
       "      <th>0</th>\n",
       "      <td>2987004</td>\n",
       "      <td>0</td>\n",
       "      <td>50.0</td>\n",
       "      <td>H</td>\n",
       "      <td>4497</td>\n",
       "      <td>514.0</td>\n",
       "      <td>150.0</td>\n",
       "      <td>mastercard</td>\n",
       "      <td>102.0</td>\n",
       "      <td>credit</td>\n",
       "      <td>420.0</td>\n",
       "      <td>87.0</td>\n",
       "      <td>NaN</td>\n",
       "      <td>gmail.com</td>\n",
       "      <td>NaN</td>\n",
       "      <td>NaN</td>\n",
       "      <td>NaN</td>\n",
       "      <td>NaN</td>\n",
       "      <td>NaN</td>\n",
       "      <td>NaN</td>\n",
       "      <td>NaN</td>\n",
       "      <td>NaN</td>\n",
       "      <td>NaN</td>\n",
       "      <td>New</td>\n",
       "      <td>NotFound</td>\n",
       "      <td>Android 7.0</td>\n",
       "      <td>samsung browser 6.2</td>\n",
       "      <td>32.0</td>\n",
       "      <td>2220x1080</td>\n",
       "      <td>match_status:2</td>\n",
       "      <td>T</td>\n",
       "      <td>F</td>\n",
       "      <td>T</td>\n",
       "      <td>T</td>\n",
       "      <td>mobile</td>\n",
       "      <td>SAMSUNG SM-G892A Build/NRD90M</td>\n",
       "      <td>1.0</td>\n",
       "      <td>0.0</td>\n",
       "      <td>0</td>\n",
       "      <td>1</td>\n",
       "      <td>0</td>\n",
       "    </tr>\n",
       "  </tbody>\n",
       "</table>\n",
       "</div>"
      ],
      "text/plain": [
       "  TransactionID isFraud  TransactionAmt ProductCD card1  card2  card3  \\\n",
       "0       2987004       0            50.0         H  4497  514.0  150.0   \n",
       "\n",
       "        card4  card5   card6  addr1 addr2 dist2 P_emaildomain R_emaildomain  \\\n",
       "0  mastercard  102.0  credit  420.0  87.0   NaN     gmail.com           NaN   \n",
       "\n",
       "    M4 id_21 id_22 id_23 id_24 id_25 id_26 id_27 id_28     id_29        id_30  \\\n",
       "0  NaN   NaN   NaN   NaN   NaN   NaN   NaN   NaN   New  NotFound  Android 7.0   \n",
       "\n",
       "                 id_31 id_32      id_33           id_34 id_35 id_36 id_37  \\\n",
       "0  samsung browser 6.2  32.0  2220x1080  match_status:2     T     F     T   \n",
       "\n",
       "  id_38 DeviceType                     DeviceInfo  \\\n",
       "0     T     mobile  SAMSUNG SM-G892A Build/NRD90M   \n",
       "\n",
       "   num_accounts_related_to_user  num_days_previous_transaction  customer_id  \\\n",
       "0                           1.0                            0.0            0   \n",
       "\n",
       "   num_transaction_per_time  multi_transaction_per_time  \n",
       "0                         1                           0  "
      ]
     },
     "execution_count": 20,
     "metadata": {},
     "output_type": "execute_result"
    }
   ],
   "source": [
    "df.head(1)"
   ]
  },
  {
   "cell_type": "code",
   "execution_count": 21,
   "id": "962b1385-c30b-45e4-a5bb-919991b414dc",
   "metadata": {},
   "outputs": [],
   "source": [
    "df.to_pickle(\"../../../data_lake/output_prod/df_under.pkl\")\n",
    "df.to_csv(\"../../../data_lake/output_prod/df_under.csv\")"
   ]
  },
  {
   "cell_type": "code",
   "execution_count": null,
   "id": "78d6b249-c72f-47ce-b2a5-19ff4b3906ed",
   "metadata": {},
   "outputs": [],
   "source": []
  }
 ],
 "metadata": {
  "kernelspec": {
   "display_name": "dev",
   "language": "python",
   "name": "dev"
  },
  "language_info": {
   "codemirror_mode": {
    "name": "ipython",
    "version": 3
   },
   "file_extension": ".py",
   "mimetype": "text/x-python",
   "name": "python",
   "nbconvert_exporter": "python",
   "pygments_lexer": "ipython3",
   "version": "3.8.16"
  }
 },
 "nbformat": 4,
 "nbformat_minor": 5
}
