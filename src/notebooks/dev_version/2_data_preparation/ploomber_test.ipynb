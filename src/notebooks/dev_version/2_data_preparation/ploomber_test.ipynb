{
 "cells": [
  {
   "cell_type": "code",
   "execution_count": null,
   "id": "abd81a36-c4b4-474b-a575-b1a43a0dd77b",
   "metadata": {},
   "outputs": [],
   "source": [
    "import sys\n",
    "sys.path.append('../../../')"
   ]
  },
  {
   "cell_type": "code",
   "execution_count": 16,
   "id": "a93b9dda-08b8-4923-ba37-bc8a56cf6bf6",
   "metadata": {},
   "outputs": [],
   "source": [
    "import pandas as pd\n",
    "import numpy as np\n",
    "import streamlit as st\n",
    "\n",
    "# from modules import machine_learning_utils as mlu\n",
    "\n",
    "from sklearn.model_selection import train_test_split\n",
    "from catboost import Pool, CatBoostClassifier\n",
    "from sklearn.metrics import roc_auc_score\n",
    "\n",
    "pd.set_option(\"display.max_rows\",None)\n",
    "pd.set_option(\"display.max_columns\",None)"
   ]
  },
  {
   "cell_type": "code",
   "execution_count": 17,
   "id": "cdfc6f18-8354-4bba-8912-a363cf0f76af",
   "metadata": {},
   "outputs": [],
   "source": [
    "def partitioning(df,train_dim, val_test_dim,target):\n",
    "    \"\"\"\n",
    "    \n",
    "    \"\"\"\n",
    "    val_test_dim_edit = train_dim + val_test_dim\n",
    "    train, val, test = np.split(df.sample(frac=1,random_state=2), [int(train_dim*len(df)), int(val_test_dim_edit*len(df))])\n",
    "    st.write(\"Train shape: \",train.shape)\n",
    "    st.write(\"Train %: \\n\",train[target].value_counts(normalize=True))\n",
    "    st.write(\"Val %: \\n\",val[target].value_counts(normalize=True))\n",
    "    st.write(\"Test %: \\n\",test[target].value_counts(normalize=True))\n",
    "    return train, val, test"
   ]
  },
  {
   "cell_type": "code",
   "execution_count": 18,
   "id": "7a35c904-326c-4768-a991-4039be394f9e",
   "metadata": {},
   "outputs": [],
   "source": [
    "def auc_score(y_trues, y_preds):\n",
    "    \"\"\"\n",
    "    \n",
    "    \"\"\"\n",
    "    for i, y_pred in enumerate(y_preds):\n",
    "        y_true = y_trues[i]\n",
    "        auc = roc_auc_score(y_true, y_pred)\n",
    "    return auc\n",
    "\n",
    "def adversarial_validation(val,test,drop_cols):\n",
    "    \"\"\"\n",
    "    \n",
    "    \"\"\"\n",
    "    aval = val.copy()\n",
    "    atest = test.copy()\n",
    "    # 1 - define target\n",
    "    aval['y'] = 1.0\n",
    "    atest['y'] = 0.0\n",
    "    # 2 - create dataframe\n",
    "    ad = aval.append(atest).sample(frac=1,random_state=2)\n",
    "    # 3 - drop unuseful columns\n",
    "    c_drop = drop_cols\n",
    "    ad = ad.drop(columns=c_drop)\n",
    "    # 4 - define format and imputation\n",
    "    for i in ad:\n",
    "        if ad[i].dtypes != 'object':\n",
    "            ad[i] = ad[i].astype(float)\n",
    "            ad[i] = ad[i].fillna(ad[i].median())\n",
    "        else:\n",
    "            ad[i] = ad[i].fillna('missing')\n",
    "            ad[i] = ad[i].astype(str)\n",
    "    # 5 - model preparation\n",
    "    y = ad['y'].values\n",
    "    X = ad.drop(columns=['y']).values\n",
    "    categorical_features_indices = np.where(ad.dtypes != np.float64)[0]\n",
    "    # 6 - train test split\n",
    "    adv_X_train, adv_X_test, adv_y_train, adv_y_test = train_test_split(X, y , test_size = 0.30 , random_state = 2)\n",
    "    train_data = Pool(data=adv_X_train,label=adv_y_train,cat_features=categorical_features_indices)\n",
    "    test_data = Pool(data=adv_X_test,label=adv_y_test,cat_features=categorical_features_indices)\n",
    "    # 7 - model training\n",
    "    params = {'iterations': 1000,'eval_metric': 'AUC','od_type': 'Iter','od_wait': 50}\n",
    "    model = CatBoostClassifier(**params)\n",
    "    _ = model.fit(train_data, eval_set=test_data, plot=False, verbose=False)\n",
    "    # 8 - model evaluation\n",
    "    auc = auc_score([test_data.get_label()],[model.predict_proba(test_data)[:,1]])\n",
    "    if auc <= 0.6:\n",
    "        return st.write(\"No distribution shift, OK! AUC is: \",auc)\n",
    "    else:\n",
    "        return st.write(\"Check features importance (to be added) and rerun. AUC is: \",auc)"
   ]
  },
  {
   "cell_type": "code",
   "execution_count": 19,
   "id": "33656942-cd57-4bd4-aaa0-22f91d6ad6dc",
   "metadata": {},
   "outputs": [],
   "source": [
    "def class_imbalance(train,target):\n",
    "    \"\"\"\n",
    "    \n",
    "    \"\"\"\n",
    "    df_under = train[train[target]==train[target].value_counts(normalize=False).index[1]]\n",
    "    df_over = train[train[target]==train[target].value_counts(normalize=False).index[0]]\n",
    "    df_over = df_over.sample(frac=df_under.shape[0]/df_over.shape[0],random_state=2)\n",
    "    final_train = df_over.append(df_under).sample(frac=1,random_state=2)\n",
    "    st.write(final_train[target].value_counts(normalize=False))\n",
    "    st.write(\"Train dataset shape: \",final_train.shape)\n",
    "    return final_train"
   ]
  },
  {
   "cell_type": "markdown",
   "id": "6ffc4719-4963-48dd-9c66-f358f1b235c9",
   "metadata": {},
   "source": [
    "# 1.0 Data retrieval"
   ]
  },
  {
   "cell_type": "code",
   "execution_count": 31,
   "id": "fa3d5000-6fe2-4547-9f5a-aa87756b195d",
   "metadata": {},
   "outputs": [],
   "source": [
    "df = pd.read_pickle(\"data_lake/output/df_under.pkl\")"
   ]
  },
  {
   "cell_type": "code",
   "execution_count": 1,
   "id": "b4f0c397-7640-4712-8682-25e719842337",
   "metadata": {},
   "outputs": [],
   "source": [
    "df.sample(2)"
   ]
  },
  {
   "cell_type": "code",
   "execution_count": 22,
   "id": "6fa16087-b9c2-4767-9022-352777177d07",
   "metadata": {},
   "outputs": [
    {
     "data": {
      "text/plain": [
       "(144233, 41)"
      ]
     },
     "execution_count": 22,
     "metadata": {},
     "output_type": "execute_result"
    }
   ],
   "source": [
    "df.shape"
   ]
  },
  {
   "cell_type": "markdown",
   "id": "633ac104-a123-4383-837b-0957b4e073aa",
   "metadata": {},
   "source": [
    "# 2.0 Data Partitioning"
   ]
  },
  {
   "cell_type": "code",
   "execution_count": 23,
   "id": "c5bbd950-24f0-4e7d-98ab-6d8090af2b20",
   "metadata": {},
   "outputs": [
    {
     "data": {
      "text/plain": [
       "0    132915\n",
       "1     11318\n",
       "Name: isFraud, dtype: int64"
      ]
     },
     "execution_count": 23,
     "metadata": {},
     "output_type": "execute_result"
    }
   ],
   "source": [
    "df['isFraud'].value_counts()"
   ]
  },
  {
   "cell_type": "markdown",
   "id": "6b6acfae-8986-48b0-9ad8-7c6c899a8a1f",
   "metadata": {},
   "source": [
    "## 2.1 Train, validation, test split"
   ]
  },
  {
   "cell_type": "code",
   "execution_count": 24,
   "id": "31f08548-4c99-4317-a114-e80b05415288",
   "metadata": {},
   "outputs": [
    {
     "name": "stdout",
     "output_type": "stream",
     "text": [
      "Train shape:  (100963, 41)\n",
      "Train %: \n",
      " 0    0.920496\n",
      "1    0.079504\n",
      "Name: isFraud, dtype: float64\n",
      "Val %: \n",
      " 0    0.923319\n",
      "1    0.076681\n",
      "Name: isFraud, dtype: float64\n",
      "Test %: \n",
      " 0    0.924567\n",
      "1    0.075433\n",
      "Name: isFraud, dtype: float64\n"
     ]
    }
   ],
   "source": [
    "train, val, test = partitioning(df,train_dim, val_test_dim,'isFraud')"
   ]
  },
  {
   "cell_type": "markdown",
   "id": "e6952e1a-9868-4773-9a0f-5068251b66a5",
   "metadata": {},
   "source": [
    "## 2.2 Adversarial validation between val and test set"
   ]
  },
  {
   "cell_type": "code",
   "execution_count": 25,
   "id": "8502810b-efd0-45bd-a8c4-054a9f4ea408",
   "metadata": {},
   "outputs": [],
   "source": [
    "drop_cols = ['TransactionID','customer_id']"
   ]
  },
  {
   "cell_type": "code",
   "execution_count": 26,
   "id": "d3396c14-89df-4283-9410-cd38fdb5f7b5",
   "metadata": {},
   "outputs": [
    {
     "name": "stdout",
     "output_type": "stream",
     "text": [
      "No distribution shift, OK! AUC is:  0.5046975542178611\n"
     ]
    }
   ],
   "source": [
    "adversarial_validation(val,test,drop_cols)"
   ]
  },
  {
   "cell_type": "markdown",
   "id": "4e64c760-4656-44d9-a4c4-172186d6a86e",
   "metadata": {
    "tags": []
   },
   "source": [
    "## 2.3 Class imbalance"
   ]
  },
  {
   "cell_type": "code",
   "execution_count": 27,
   "id": "c54456f1-edec-4b42-a58e-f5c85eb59f9d",
   "metadata": {},
   "outputs": [
    {
     "name": "stdout",
     "output_type": "stream",
     "text": [
      "0    8027\n",
      "1    8027\n",
      "Name: isFraud, dtype: int64\n",
      "Train dataset shape:  (16054, 41)\n"
     ]
    }
   ],
   "source": [
    "final_train = class_imbalance(train,'isFraud')"
   ]
  },
  {
   "cell_type": "markdown",
   "id": "65b3c440-97a8-4a0e-a5e3-2f877eab2ae4",
   "metadata": {},
   "source": [
    "# 3.0 Output"
   ]
  },
  {
   "cell_type": "code",
   "execution_count": 28,
   "id": "d4a50399-247e-47b7-acdc-40f9108cf328",
   "metadata": {},
   "outputs": [],
   "source": [
    "# final_train.to_pickle('../../../data_lake/output/train.pkl')\n",
    "# val.to_pickle('../../../data_lake/output/val.pkl')\n",
    "# test.to_pickle('../../../data_lake/output/test.pkl')"
   ]
  },
  {
   "cell_type": "code",
   "execution_count": null,
   "id": "a3bd8f12-2a9b-471a-a61a-9f588201d8b4",
   "metadata": {},
   "outputs": [],
   "source": []
  }
 ],
 "metadata": {
  "kernelspec": {
   "display_name": "Python 3",
   "language": "python",
   "name": "python3"
  },
  "language_info": {
   "codemirror_mode": {
    "name": "ipython",
    "version": 3
   },
   "file_extension": ".py",
   "mimetype": "text/x-python",
   "name": "python",
   "nbconvert_exporter": "python",
   "pygments_lexer": "ipython3",
   "version": "3.9.2"
  }
 },
 "nbformat": 4,
 "nbformat_minor": 5
}
