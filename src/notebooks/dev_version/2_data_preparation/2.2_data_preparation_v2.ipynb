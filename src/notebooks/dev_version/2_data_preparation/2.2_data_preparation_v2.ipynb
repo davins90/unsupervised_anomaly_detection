{
 "cells": [
  {
   "cell_type": "code",
   "execution_count": 1,
   "id": "abd81a36-c4b4-474b-a575-b1a43a0dd77b",
   "metadata": {},
   "outputs": [],
   "source": [
    "import sys\n",
    "sys.path.append('../../../')"
   ]
  },
  {
   "cell_type": "code",
   "execution_count": 2,
   "id": "a93b9dda-08b8-4923-ba37-bc8a56cf6bf6",
   "metadata": {},
   "outputs": [],
   "source": [
    "import pandas as pd\n",
    "import numpy as np\n",
    "\n",
    "from modules import machine_learning_utils as mlu\n",
    "\n",
    "pd.set_option(\"display.max_rows\",None)\n",
    "pd.set_option(\"display.max_columns\",None)"
   ]
  },
  {
   "cell_type": "markdown",
   "id": "6ffc4719-4963-48dd-9c66-f358f1b235c9",
   "metadata": {},
   "source": [
    "# 1.0 Data retrieval"
   ]
  },
  {
   "cell_type": "code",
   "execution_count": 3,
   "id": "fa3d5000-6fe2-4547-9f5a-aa87756b195d",
   "metadata": {},
   "outputs": [],
   "source": [
    "df = pd.read_pickle(\"../../../data_lake/output/df_under.pkl\")"
   ]
  },
  {
   "cell_type": "code",
   "execution_count": 4,
   "id": "b4f0c397-7640-4712-8682-25e719842337",
   "metadata": {},
   "outputs": [
    {
     "data": {
      "text/html": [
       "<div>\n",
       "<style scoped>\n",
       "    .dataframe tbody tr th:only-of-type {\n",
       "        vertical-align: middle;\n",
       "    }\n",
       "\n",
       "    .dataframe tbody tr th {\n",
       "        vertical-align: top;\n",
       "    }\n",
       "\n",
       "    .dataframe thead th {\n",
       "        text-align: right;\n",
       "    }\n",
       "</style>\n",
       "<table border=\"1\" class=\"dataframe\">\n",
       "  <thead>\n",
       "    <tr style=\"text-align: right;\">\n",
       "      <th></th>\n",
       "      <th>TransactionID</th>\n",
       "      <th>isFraud</th>\n",
       "      <th>TransactionAmt</th>\n",
       "      <th>ProductCD</th>\n",
       "      <th>card1</th>\n",
       "      <th>card2</th>\n",
       "      <th>card3</th>\n",
       "      <th>card4</th>\n",
       "      <th>card5</th>\n",
       "      <th>card6</th>\n",
       "      <th>addr1</th>\n",
       "      <th>addr2</th>\n",
       "      <th>dist2</th>\n",
       "      <th>P_emaildomain</th>\n",
       "      <th>R_emaildomain</th>\n",
       "      <th>M4</th>\n",
       "      <th>id_21</th>\n",
       "      <th>id_22</th>\n",
       "      <th>id_23</th>\n",
       "      <th>id_24</th>\n",
       "      <th>id_25</th>\n",
       "      <th>id_26</th>\n",
       "      <th>id_27</th>\n",
       "      <th>id_28</th>\n",
       "      <th>id_29</th>\n",
       "      <th>id_30</th>\n",
       "      <th>id_31</th>\n",
       "      <th>id_32</th>\n",
       "      <th>id_33</th>\n",
       "      <th>id_34</th>\n",
       "      <th>id_35</th>\n",
       "      <th>id_36</th>\n",
       "      <th>id_37</th>\n",
       "      <th>id_38</th>\n",
       "      <th>DeviceType</th>\n",
       "      <th>DeviceInfo</th>\n",
       "      <th>max_c</th>\n",
       "      <th>max_d</th>\n",
       "      <th>customer_id</th>\n",
       "      <th>num_transaction_per_time</th>\n",
       "      <th>multi_transaction_per_time</th>\n",
       "    </tr>\n",
       "  </thead>\n",
       "  <tbody>\n",
       "    <tr>\n",
       "      <th>88387</th>\n",
       "      <td>3283652</td>\n",
       "      <td>0</td>\n",
       "      <td>25.000</td>\n",
       "      <td>H</td>\n",
       "      <td>6419</td>\n",
       "      <td>543.0</td>\n",
       "      <td>150.0</td>\n",
       "      <td>mastercard</td>\n",
       "      <td>224.0</td>\n",
       "      <td>debit</td>\n",
       "      <td>472.0</td>\n",
       "      <td>87.0</td>\n",
       "      <td>NaN</td>\n",
       "      <td>gmail.com</td>\n",
       "      <td>gmail.com</td>\n",
       "      <td>NaN</td>\n",
       "      <td>NaN</td>\n",
       "      <td>NaN</td>\n",
       "      <td>NaN</td>\n",
       "      <td>NaN</td>\n",
       "      <td>NaN</td>\n",
       "      <td>NaN</td>\n",
       "      <td>NaN</td>\n",
       "      <td>New</td>\n",
       "      <td>NotFound</td>\n",
       "      <td>iOS 11.2.6</td>\n",
       "      <td>mobile safari generic</td>\n",
       "      <td>32.0</td>\n",
       "      <td>1334x750</td>\n",
       "      <td>match_status:1</td>\n",
       "      <td>T</td>\n",
       "      <td>F</td>\n",
       "      <td>F</td>\n",
       "      <td>T</td>\n",
       "      <td>mobile</td>\n",
       "      <td>iOS Device</td>\n",
       "      <td>1.0</td>\n",
       "      <td>0.000000</td>\n",
       "      <td>7900</td>\n",
       "      <td>1</td>\n",
       "      <td>0</td>\n",
       "    </tr>\n",
       "    <tr>\n",
       "      <th>7214</th>\n",
       "      <td>3013723</td>\n",
       "      <td>0</td>\n",
       "      <td>18.368</td>\n",
       "      <td>C</td>\n",
       "      <td>13413</td>\n",
       "      <td>103.0</td>\n",
       "      <td>185.0</td>\n",
       "      <td>visa</td>\n",
       "      <td>137.0</td>\n",
       "      <td>credit</td>\n",
       "      <td>511.0</td>\n",
       "      <td>60.0</td>\n",
       "      <td>649.0</td>\n",
       "      <td>hotmail.com</td>\n",
       "      <td>hotmail.com</td>\n",
       "      <td>M0</td>\n",
       "      <td>NaN</td>\n",
       "      <td>NaN</td>\n",
       "      <td>NaN</td>\n",
       "      <td>NaN</td>\n",
       "      <td>NaN</td>\n",
       "      <td>NaN</td>\n",
       "      <td>NaN</td>\n",
       "      <td>Found</td>\n",
       "      <td>Found</td>\n",
       "      <td>NaN</td>\n",
       "      <td>chrome 62.0</td>\n",
       "      <td>NaN</td>\n",
       "      <td>NaN</td>\n",
       "      <td>NaN</td>\n",
       "      <td>F</td>\n",
       "      <td>F</td>\n",
       "      <td>T</td>\n",
       "      <td>T</td>\n",
       "      <td>desktop</td>\n",
       "      <td>Windows</td>\n",
       "      <td>1.0</td>\n",
       "      <td>252.833328</td>\n",
       "      <td>4646</td>\n",
       "      <td>1</td>\n",
       "      <td>0</td>\n",
       "    </tr>\n",
       "  </tbody>\n",
       "</table>\n",
       "</div>"
      ],
      "text/plain": [
       "      TransactionID isFraud  TransactionAmt ProductCD  card1  card2  card3  \\\n",
       "88387       3283652       0          25.000         H   6419  543.0  150.0   \n",
       "7214        3013723       0          18.368         C  13413  103.0  185.0   \n",
       "\n",
       "            card4  card5   card6  addr1 addr2  dist2 P_emaildomain  \\\n",
       "88387  mastercard  224.0   debit  472.0  87.0    NaN     gmail.com   \n",
       "7214         visa  137.0  credit  511.0  60.0  649.0   hotmail.com   \n",
       "\n",
       "      R_emaildomain   M4 id_21 id_22 id_23 id_24 id_25 id_26 id_27  id_28  \\\n",
       "88387     gmail.com  NaN   NaN   NaN   NaN   NaN   NaN   NaN   NaN    New   \n",
       "7214    hotmail.com   M0   NaN   NaN   NaN   NaN   NaN   NaN   NaN  Found   \n",
       "\n",
       "          id_29       id_30                  id_31 id_32     id_33  \\\n",
       "88387  NotFound  iOS 11.2.6  mobile safari generic  32.0  1334x750   \n",
       "7214      Found         NaN            chrome 62.0   NaN       NaN   \n",
       "\n",
       "                id_34 id_35 id_36 id_37 id_38 DeviceType  DeviceInfo  max_c  \\\n",
       "88387  match_status:1     T     F     F     T     mobile  iOS Device    1.0   \n",
       "7214              NaN     F     F     T     T    desktop     Windows    1.0   \n",
       "\n",
       "            max_d  customer_id  num_transaction_per_time  \\\n",
       "88387    0.000000         7900                         1   \n",
       "7214   252.833328         4646                         1   \n",
       "\n",
       "       multi_transaction_per_time  \n",
       "88387                           0  \n",
       "7214                            0  "
      ]
     },
     "execution_count": 4,
     "metadata": {},
     "output_type": "execute_result"
    }
   ],
   "source": [
    "df.sample(2)"
   ]
  },
  {
   "cell_type": "code",
   "execution_count": 5,
   "id": "6fa16087-b9c2-4767-9022-352777177d07",
   "metadata": {},
   "outputs": [
    {
     "data": {
      "text/plain": [
       "(144233, 41)"
      ]
     },
     "execution_count": 5,
     "metadata": {},
     "output_type": "execute_result"
    }
   ],
   "source": [
    "df.shape"
   ]
  },
  {
   "cell_type": "markdown",
   "id": "633ac104-a123-4383-837b-0957b4e073aa",
   "metadata": {},
   "source": [
    "# 2.0 Data Partitioning"
   ]
  },
  {
   "cell_type": "code",
   "execution_count": 6,
   "id": "c5bbd950-24f0-4e7d-98ab-6d8090af2b20",
   "metadata": {},
   "outputs": [
    {
     "data": {
      "text/plain": [
       "0    132915\n",
       "1     11318\n",
       "Name: isFraud, dtype: int64"
      ]
     },
     "execution_count": 6,
     "metadata": {},
     "output_type": "execute_result"
    }
   ],
   "source": [
    "df['isFraud'].value_counts()"
   ]
  },
  {
   "cell_type": "markdown",
   "id": "6b6acfae-8986-48b0-9ad8-7c6c899a8a1f",
   "metadata": {},
   "source": [
    "## 2.1 Train, validation, test split"
   ]
  },
  {
   "cell_type": "code",
   "execution_count": 7,
   "id": "31f08548-4c99-4317-a114-e80b05415288",
   "metadata": {},
   "outputs": [
    {
     "name": "stdout",
     "output_type": "stream",
     "text": [
      "Train shape:  (100963, 41)\n",
      "Train %: \n",
      " 0    0.920496\n",
      "1    0.079504\n",
      "Name: isFraud, dtype: float64\n",
      "Val %: \n",
      " 0    0.923319\n",
      "1    0.076681\n",
      "Name: isFraud, dtype: float64\n",
      "Test %: \n",
      " 0    0.924567\n",
      "1    0.075433\n",
      "Name: isFraud, dtype: float64\n"
     ]
    }
   ],
   "source": [
    "train, val, test = mlu.partitioning(df,0.7,0.15,'isFraud')"
   ]
  },
  {
   "cell_type": "markdown",
   "id": "e6952e1a-9868-4773-9a0f-5068251b66a5",
   "metadata": {},
   "source": [
    "## 2.2 Adversarial validation between val and test set"
   ]
  },
  {
   "cell_type": "code",
   "execution_count": 8,
   "id": "8502810b-efd0-45bd-a8c4-054a9f4ea408",
   "metadata": {},
   "outputs": [],
   "source": [
    "drop_cols = ['TransactionID','customer_id']"
   ]
  },
  {
   "cell_type": "code",
   "execution_count": 9,
   "id": "d3396c14-89df-4283-9410-cd38fdb5f7b5",
   "metadata": {},
   "outputs": [
    {
     "name": "stdout",
     "output_type": "stream",
     "text": [
      "No distribution shift, OK! AUC is:  0.5046975542178611\n"
     ]
    }
   ],
   "source": [
    "mlu.adversarial_validation(val,test,drop_cols)"
   ]
  },
  {
   "cell_type": "markdown",
   "id": "4e64c760-4656-44d9-a4c4-172186d6a86e",
   "metadata": {
    "tags": []
   },
   "source": [
    "## 2.3 Class imbalance"
   ]
  },
  {
   "cell_type": "code",
   "execution_count": 10,
   "id": "c54456f1-edec-4b42-a58e-f5c85eb59f9d",
   "metadata": {},
   "outputs": [
    {
     "name": "stdout",
     "output_type": "stream",
     "text": [
      "0    8027\n",
      "1    8027\n",
      "Name: isFraud, dtype: int64\n",
      "Train dataset shape:  (16054, 41)\n"
     ]
    }
   ],
   "source": [
    "final_train = mlu.class_imbalance(train,'isFraud')"
   ]
  },
  {
   "cell_type": "markdown",
   "id": "65b3c440-97a8-4a0e-a5e3-2f877eab2ae4",
   "metadata": {},
   "source": [
    "# 3.0 Output"
   ]
  },
  {
   "cell_type": "code",
   "execution_count": 11,
   "id": "d4a50399-247e-47b7-acdc-40f9108cf328",
   "metadata": {},
   "outputs": [],
   "source": [
    "final_train.to_pickle('../../../data_lake/output/train.pkl')\n",
    "val.to_pickle('../../../data_lake/output/val.pkl')\n",
    "test.to_pickle('../../../data_lake/output/test.pkl')"
   ]
  },
  {
   "cell_type": "code",
   "execution_count": null,
   "id": "a3bd8f12-2a9b-471a-a61a-9f588201d8b4",
   "metadata": {},
   "outputs": [],
   "source": []
  }
 ],
 "metadata": {
  "kernelspec": {
   "display_name": "Python 3",
   "language": "python",
   "name": "python3"
  },
  "language_info": {
   "codemirror_mode": {
    "name": "ipython",
    "version": 3
   },
   "file_extension": ".py",
   "mimetype": "text/x-python",
   "name": "python",
   "nbconvert_exporter": "python",
   "pygments_lexer": "ipython3",
   "version": "3.9.2"
  }
 },
 "nbformat": 4,
 "nbformat_minor": 5
}
