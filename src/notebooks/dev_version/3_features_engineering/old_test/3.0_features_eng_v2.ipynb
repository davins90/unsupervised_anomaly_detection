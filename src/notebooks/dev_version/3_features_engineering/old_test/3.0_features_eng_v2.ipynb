{
 "cells": [
  {
   "cell_type": "code",
   "execution_count": 1,
   "id": "95186737-cbd2-44ee-ad56-89f916e705d8",
   "metadata": {},
   "outputs": [],
   "source": [
    "import pandas as pd\n",
    "import numpy as np\n",
    "import matplotlib.pyplot as plt\n",
    "import plotly.express as px\n",
    "import plotly.io as pio\n",
    "\n",
    "from sklearn.model_selection import train_test_split\n",
    "from sklearn.preprocessing import MinMaxScaler\n",
    "from sklearn.pipeline import Pipeline\n",
    "from sklearn.model_selection import GridSearchCV\n",
    "from sklearn import metrics\n",
    "from sklearn.metrics import *\n",
    "from sklearn.compose import ColumnTransformer\n",
    "from sklearn.preprocessing import OneHotEncoder\n",
    "from sklearn.experimental import enable_iterative_imputer\n",
    "from sklearn.impute import IterativeImputer\n",
    "from sklearn.impute import SimpleImputer\n",
    "from sklearn.ensemble import ExtraTreesRegressor\n",
    "from catboost import Pool, CatBoostClassifier\n",
    "from sklearn.ensemble import GradientBoostingClassifier\n",
    "from sklearn.metrics import precision_score\n",
    "from sklearn.metrics import classification_report \n",
    "\n",
    "\n",
    "%matplotlib inline\n",
    "pio.renderers.default='iframe'\n",
    "\n",
    "pd.set_option(\"display.max_rows\",None)\n",
    "pd.set_option(\"display.max_columns\",None)"
   ]
  },
  {
   "cell_type": "markdown",
   "id": "4382508d-67d1-44d6-b88a-21bb0fc024a2",
   "metadata": {},
   "source": [
    "# 1.0 Data retrieval"
   ]
  },
  {
   "cell_type": "code",
   "execution_count": 2,
   "id": "6f5445bc-6bb7-46fd-8591-7e87da23fd7b",
   "metadata": {},
   "outputs": [],
   "source": [
    "df = pd.read_pickle(\"../../data_lake/output/train.pkl\")\n",
    "val = pd.read_pickle(\"../../data_lake/output/val.pkl\")"
   ]
  },
  {
   "cell_type": "markdown",
   "id": "1a613b77-4d1d-41f2-8352-7d665319aa6b",
   "metadata": {},
   "source": [
    "# 2.0 EDA"
   ]
  },
  {
   "cell_type": "code",
   "execution_count": 3,
   "id": "ef0b0954-8b34-4209-a8cc-d11f83d521fd",
   "metadata": {},
   "outputs": [],
   "source": [
    "df = df.drop(columns=['dist2','customer_id','TransactionID'])\n",
    "val = val.drop(columns=['dist2','customer_id','TransactionID'])"
   ]
  },
  {
   "cell_type": "code",
   "execution_count": 4,
   "id": "6553ba82-ae13-460c-a553-ac7288cc4129",
   "metadata": {},
   "outputs": [],
   "source": [
    "df = df.rename(columns={'id_31':'browser'})\n",
    "val = val.rename(columns={'id_31':'browser'})"
   ]
  },
  {
   "cell_type": "code",
   "execution_count": 5,
   "id": "09155066-3914-4fa2-b9fd-d84c9732899e",
   "metadata": {},
   "outputs": [],
   "source": [
    "df['P_emaildomain'] = df['P_emaildomain'].mask(df['P_emaildomain']=='gmail','gmail.com')\n",
    "val['P_emaildomain'] = val['P_emaildomain'].mask(val['P_emaildomain']=='gmail','gmail.com')"
   ]
  },
  {
   "cell_type": "code",
   "execution_count": 6,
   "id": "675537ed-d70b-42a6-beee-c12965eab8f9",
   "metadata": {},
   "outputs": [],
   "source": [
    "df['R_emaildomain'] = df['R_emaildomain'].mask(df['R_emaildomain']=='gmail','gmail.com')\n",
    "val['R_emaildomain'] = val['R_emaildomain'].mask(val['R_emaildomain']=='gmail','gmail.com')"
   ]
  },
  {
   "cell_type": "code",
   "execution_count": 7,
   "id": "22877bd5-43c8-4112-96f6-421e9e0d7d20",
   "metadata": {},
   "outputs": [],
   "source": [
    "df['id_30'] = df['id_30'].replace(\" \",\"_\",regex=True)\n",
    "df['id_30'] = df['id_30'].str.replace(\".\",\"_\",regex=False)"
   ]
  },
  {
   "cell_type": "code",
   "execution_count": 8,
   "id": "4566226a-160d-49d0-8210-41827975bc66",
   "metadata": {},
   "outputs": [],
   "source": [
    "val['id_30'] = val['id_30'].replace(\" \",\"_\",regex=True)\n",
    "val['id_30'] = val['id_30'].str.replace(\".\",\"_\",regex=False)"
   ]
  },
  {
   "cell_type": "code",
   "execution_count": 9,
   "id": "54a3f999-61c6-40ae-8941-82890cb280db",
   "metadata": {},
   "outputs": [],
   "source": [
    "df['browser'] = df['browser'].mask(df['browser'].str.contains('SM') | df['browser'].str.contains('ZTE'),'other')\n",
    "val['browser'] = val['browser'].mask(val['browser'].str.contains('SM') | val['browser'].str.contains('ZTE'),'other')"
   ]
  },
  {
   "cell_type": "code",
   "execution_count": 10,
   "id": "11a995f3-0c71-42fb-b6b4-86495ca537f4",
   "metadata": {},
   "outputs": [],
   "source": [
    "df['browser'] = df['browser'].astype(str)\n",
    "val['browser'] = val['browser'].astype(str)"
   ]
  },
  {
   "cell_type": "code",
   "execution_count": 11,
   "id": "384857ed-dc7a-47d4-b8b8-c324f24d370f",
   "metadata": {},
   "outputs": [],
   "source": [
    "df['browser_enc'] = 'other'\n",
    "df['browser_enc'] = df['browser_enc'].mask(df['browser'].str.contains('ie'),'ie')\n",
    "df['browser_enc'] = df['browser_enc'].mask(df['browser'].str.contains('safari'),'safari')\n",
    "df['browser_enc'] = df['browser_enc'].mask(df['browser'].str.contains('edge'),'edge')\n",
    "df['browser_enc'] = df['browser_enc'].mask(df['browser'].str.contains('firefox'),'firefox')\n",
    "df['browser_enc'] = df['browser_enc'].mask(df['browser'].str.contains('android'),'android')\n",
    "df['browser_enc'] = df['browser_enc'].mask(df['browser'].str.contains('Android'),'android')\n",
    "df['browser_enc'] = df['browser_enc'].mask(df['browser'].str.contains('chrome'),'chrome')\n",
    "df['browser_enc'] = df['browser_enc'].mask(df['browser'].str.contains('opera'),'opera')\n",
    "df['browser_enc'] = df['browser_enc'].mask(df['browser'].str.contains('google'),'chrome')\n",
    "df['browser_enc'] = df['browser_enc'].mask(df['browser'].str.contains('samsung'),'android')"
   ]
  },
  {
   "cell_type": "code",
   "execution_count": 12,
   "id": "14f1271d-e4c1-40f2-a230-a41357231ec4",
   "metadata": {},
   "outputs": [],
   "source": [
    "val['browser_enc'] = 'other'\n",
    "val['browser_enc'] = val['browser_enc'].mask(val['browser'].str.contains('ie'),'ie')\n",
    "val['browser_enc'] = val['browser_enc'].mask(val['browser'].str.contains('safari'),'safari')\n",
    "val['browser_enc'] = val['browser_enc'].mask(val['browser'].str.contains('edge'),'edge')\n",
    "val['browser_enc'] = val['browser_enc'].mask(val['browser'].str.contains('firefox'),'firefox')\n",
    "val['browser_enc'] = val['browser_enc'].mask(val['browser'].str.contains('android'),'android')\n",
    "val['browser_enc'] = val['browser_enc'].mask(val['browser'].str.contains('Android'),'android')\n",
    "val['browser_enc'] = val['browser_enc'].mask(val['browser'].str.contains('chrome'),'chrome')\n",
    "val['browser_enc'] = val['browser_enc'].mask(val['browser'].str.contains('opera'),'opera')\n",
    "val['browser_enc'] = val['browser_enc'].mask(val['browser'].str.contains('google'),'chrome')\n",
    "val['browser_enc'] = val['browser_enc'].mask(val['browser'].str.contains('samsung'),'android')"
   ]
  },
  {
   "cell_type": "code",
   "execution_count": 13,
   "id": "3c5bde23-1ccc-4afb-8c88-59acc7b5408d",
   "metadata": {},
   "outputs": [],
   "source": [
    "df['DeviceType'] = df['DeviceType'].mask(df['browser']== 'ie 11.0 for tablet','tablet')\n",
    "val['DeviceType'] = val['DeviceType'].mask(val['browser']== 'ie 11.0 for tablet','tablet')"
   ]
  },
  {
   "cell_type": "code",
   "execution_count": 14,
   "id": "aa16334a-3b18-4a58-8569-03847c229ffa",
   "metadata": {},
   "outputs": [],
   "source": [
    "df = df.drop(columns='browser')\n",
    "val = val.drop(columns='browser')"
   ]
  },
  {
   "cell_type": "code",
   "execution_count": 15,
   "id": "8738292a-9d72-45fd-a012-c65341ec126c",
   "metadata": {},
   "outputs": [],
   "source": [
    "df['device_info'] = df['DeviceInfo'].replace(\"-\",\"_\",regex=True)\n",
    "df['device_info2'] = df['device_info'].replace(\" \",\"_\",regex=True)\n",
    "df['device_info'] = df['DeviceInfo'].replace(\"-\",\"_\",regex=True)\n",
    "df['device_info2'] = df['device_info'].replace(\" \",\"_\",regex=True)\n",
    "df['device_info3'] = df['device_info2'].str.split(\"_\").str[0]\n",
    "df['device_info3'] = df['device_info3'].str.lower()"
   ]
  },
  {
   "cell_type": "code",
   "execution_count": 16,
   "id": "a7181316-5c3d-4e1f-85a8-afcbd4637281",
   "metadata": {},
   "outputs": [],
   "source": [
    "val['device_info'] = val['DeviceInfo'].replace(\"-\",\"_\",regex=True)\n",
    "val['device_info2'] = val['device_info'].replace(\" \",\"_\",regex=True)\n",
    "val['device_info'] = val['DeviceInfo'].replace(\"-\",\"_\",regex=True)\n",
    "val['device_info2'] = val['device_info'].replace(\" \",\"_\",regex=True)\n",
    "val['device_info3'] = val['device_info2'].str.split(\"_\").str[0]\n",
    "val['device_info3'] = val['device_info3'].str.lower()"
   ]
  },
  {
   "cell_type": "code",
   "execution_count": 17,
   "id": "ce8e2415-bf3d-43a8-9f19-ad93fa4d3170",
   "metadata": {},
   "outputs": [],
   "source": [
    "df['device_info_v4'] = 'other'\n",
    "df['device_info_v4'] = df['device_info_v4'].mask(((df['device_info3']=='windows') | (df['device_info3']=='microsoft') | (df['device_info3']=='trident/7.0')),'windows')\n",
    "df['device_info_v4'] = df['device_info_v4'].mask(((df['device_info3']=='ios') | (df['device_info3']=='iphone')),'ios')\n",
    "df['device_info_v4'] = df['device_info_v4'].mask(df['device_info3']=='macos','ios')\n",
    "df['device_info_v4'] = df['device_info_v4'].mask(df['device_info3']=='blade','blade')\n",
    "df['device_info_v4'] = df['device_info_v4'].mask(df['device_info3']=='lenovo','lenovo')\n",
    "df['device_info_v4'] = df['device_info_v4'].mask(df['device_info3']=='redmi','redmi')\n",
    "df['device_info_v4'] = df['device_info_v4'].mask(df['device_info3']=='pixel','pixel')\n",
    "df['device_info_v4'] = df['device_info_v4'].mask(df['device_info3']=='android','android')\n",
    "df['device_info_v4'] = df['device_info_v4'].mask(df['device_info3']=='macos','ios')\n",
    "df['device_info_v4'] = df['device_info_v4'].mask(df['device_info3']=='alcatel','alcatel')\n",
    "df['device_info_v4'] = df['device_info_v4'].mask(df['device_info3']=='nokia','nokia')\n",
    "df['device_info_v4'] = df['device_info_v4'].mask(df['device_info3']=='asus','asus')\n",
    "df['device_info_v4'] = df['device_info_v4'].mask(df['device_info3']=='oneplus','oneplus')\n",
    "df['device_info_v4'] = df['device_info_v4'].mask(df['device_info3']=='zte','zte')\n",
    "df['device_info_v4'] = df['device_info_v4'].mask(df['device_info3']=='macos','ios')\n",
    "df['device_info_v4'] = df['device_info_v4'].mask(df['device_info3']=='hisense','hisense')\n",
    "df['device_info_v4'] = df['device_info_v4'].mask(df['device_info3']=='linux','linux')\n",
    "df['device_info_v4'] = df['device_info_v4'].mask((df['device_info3'].str.contains(\"lg\") | (df['device_info3'].str.contains(\"nexus\"))),'lg')\n",
    "df['device_info_v4'] = df['device_info_v4'].mask(((df['device_info3'].str.contains(\"huawei\")) | (df['device_info3'].str.contains(\"hi6210sft\"))),'huawei')\n",
    "df['device_info_v4'] = df['device_info_v4'].mask(((df['device_info3']=='motog3') |(df['device_info3']=='moto')),'moto')\n",
    "df['device_info_v4'] = df['device_info_v4'].mask(((df['device_info3']=='sm') |(df['device_info3']=='samsung')),'samsung')"
   ]
  },
  {
   "cell_type": "code",
   "execution_count": 18,
   "id": "1db618e6-d9dc-438e-8187-4f1ad7cd5c06",
   "metadata": {},
   "outputs": [],
   "source": [
    "val['device_info_v4'] = 'other'\n",
    "val['device_info_v4'] = val['device_info_v4'].mask(((val['device_info3']=='windows') | (val['device_info3']=='microsoft') | (val['device_info3']=='trident/7.0')),'windows')\n",
    "val['device_info_v4'] = val['device_info_v4'].mask(((val['device_info3']=='ios') | (val['device_info3']=='iphone')),'ios')\n",
    "val['device_info_v4'] = val['device_info_v4'].mask(val['device_info3']=='macos','ios')\n",
    "val['device_info_v4'] = val['device_info_v4'].mask(val['device_info3']=='blade','blade')\n",
    "val['device_info_v4'] = val['device_info_v4'].mask(val['device_info3']=='lenovo','lenovo')\n",
    "val['device_info_v4'] = val['device_info_v4'].mask(val['device_info3']=='redmi','redmi')\n",
    "val['device_info_v4'] = val['device_info_v4'].mask(val['device_info3']=='pixel','pixel')\n",
    "val['device_info_v4'] = val['device_info_v4'].mask(val['device_info3']=='android','android')\n",
    "val['device_info_v4'] = val['device_info_v4'].mask(val['device_info3']=='macos','ios')\n",
    "val['device_info_v4'] = val['device_info_v4'].mask(val['device_info3']=='alcatel','alcatel')\n",
    "val['device_info_v4'] = val['device_info_v4'].mask(val['device_info3']=='nokia','nokia')\n",
    "val['device_info_v4'] = val['device_info_v4'].mask(val['device_info3']=='asus','asus')\n",
    "val['device_info_v4'] = val['device_info_v4'].mask(val['device_info3']=='oneplus','oneplus')\n",
    "val['device_info_v4'] = val['device_info_v4'].mask(val['device_info3']=='zte','zte')\n",
    "val['device_info_v4'] = val['device_info_v4'].mask(val['device_info3']=='macos','ios')\n",
    "val['device_info_v4'] = val['device_info_v4'].mask(val['device_info3']=='hisense','hisense')\n",
    "val['device_info_v4'] = val['device_info_v4'].mask(val['device_info3']=='linux','linux')\n",
    "val['device_info_v4'] = val['device_info_v4'].mask((val['device_info3'].str.contains(\"lg\") | (val['device_info3'].str.contains(\"nexus\"))),'lg')\n",
    "val['device_info_v4'] = val['device_info_v4'].mask(((val['device_info3'].str.contains(\"huawei\")) | (val['device_info3'].str.contains(\"hi6210sft\"))),'huawei')\n",
    "val['device_info_v4'] = val['device_info_v4'].mask(((val['device_info3']=='motog3') |(val['device_info3']=='moto')),'moto')\n",
    "val['device_info_v4'] = val['device_info_v4'].mask(((val['device_info3']=='sm') |(val['device_info3']=='samsung')),'samsung')"
   ]
  },
  {
   "cell_type": "code",
   "execution_count": 19,
   "id": "fb6fddd7-d729-472f-b69b-1b25d601fb00",
   "metadata": {},
   "outputs": [],
   "source": [
    "df = df.drop(columns=['device_info','device_info2','device_info3','DeviceInfo'])\n",
    "val = val.drop(columns=['device_info','device_info2','device_info3','DeviceInfo'])"
   ]
  },
  {
   "cell_type": "code",
   "execution_count": 20,
   "id": "7c609dc3-e8a3-4ba1-8f82-0aa885f7d2cd",
   "metadata": {},
   "outputs": [],
   "source": [
    "df = df.drop(columns=['card1', 'card2', 'card3','card5', 'card6','M4', 'id_21', 'id_22',\n",
    "                      'id_23','id_24', 'id_25', 'id_26', 'id_27', 'id_28', 'id_29', 'id_35', 'id_36', 'id_37', 'id_38']) #'\n",
    "val = val.drop(columns=['card1', 'card2', 'card3','card5', 'card6','M4', 'id_21', 'id_22',\n",
    "                        'id_23','id_24', 'id_25', 'id_26', 'id_27', 'id_28', 'id_29', 'id_35', 'id_36', 'id_37', 'id_38'])# "
   ]
  },
  {
   "cell_type": "code",
   "execution_count": 21,
   "id": "b8314235-b4c6-40c5-99a7-df2b6bec77e5",
   "metadata": {},
   "outputs": [],
   "source": [
    "def model_training(X_train, y_train, numerical_cols, categorical_cols,parameters):\n",
    "    \"\"\"\n",
    "    \n",
    "    \"\"\"\n",
    "    \n",
    "    ##\n",
    "    numerical_preprocessor = Pipeline(steps=[(\"imputer\", IterativeImputer(ExtraTreesRegressor(n_estimators=5,random_state=1,verbose=0),random_state=1,verbose=0,add_indicator=True)),\n",
    "                                     (\"scaler\", MinMaxScaler())])\n",
    "    categorical_preprocessor = Pipeline(steps=[(\"imputer\", SimpleImputer(strategy='constant', fill_value='missing',verbose=0,add_indicator=True)),\n",
    "                                           (\"label_enc\", OneHotEncoder(handle_unknown='ignore'))])\n",
    "    preprocessor = ColumnTransformer(transformers=[(\"numerical_preprocessor\", numerical_preprocessor, numerical_cols),\n",
    "                                               (\"categorical_preprocessor\", categorical_preprocessor, categorical_cols)])\n",
    "    pipe_model = GradientBoostingClassifier(random_state=0,n_iter_no_change=25,warm_start=True,max_features='auto')\n",
    "    ##\n",
    "    model = Pipeline(steps=[('preprocessor', preprocessor),\n",
    "                        ('model', pipe_model)])\n",
    "    ##\n",
    "    model.fit(X_train,y_train)\n",
    "    model_grid = GridSearchCV(model,parameters,cv=4,scoring='accuracy',verbose=0,return_train_score=True).fit(X_train,y_train)\n",
    "    print('GridSearchCV results...')\n",
    "    print(\"Mean Train Scores: \\n{}\\n\".format(model_grid.cv_results_['mean_train_score']))\n",
    "    print(\"Mean CV Scores: \\n{}\\n\".format(model_grid.cv_results_['mean_test_score']))\n",
    "    print(\"Best Parameters: \\n{}\\n\".format(model_grid.best_params_))\n",
    "    \n",
    "    return model_grid"
   ]
  },
  {
   "cell_type": "code",
   "execution_count": 22,
   "id": "b43bdd87-08eb-44d5-8a7c-7ae3db04549a",
   "metadata": {},
   "outputs": [],
   "source": [
    "for i in df:\n",
    "    if df[i].dtypes == 'object':\n",
    "        df[i] = df[i].astype(str)"
   ]
  },
  {
   "cell_type": "code",
   "execution_count": 23,
   "id": "e80197d9-b70b-4885-a52e-8c9a7bee47b9",
   "metadata": {},
   "outputs": [],
   "source": [
    "X_train = df.drop(columns='isFraud')\n",
    "y_train = df['isFraud'].astype(float)"
   ]
  },
  {
   "cell_type": "code",
   "execution_count": 24,
   "id": "3b501c38-461f-43fb-8203-55cb8e5e738a",
   "metadata": {},
   "outputs": [],
   "source": [
    "numerical_cols = X_train.select_dtypes(include=['int64', 'float64']).columns\n",
    "categorical_cols = X_train.select_dtypes(include=['object', 'bool']).columns"
   ]
  },
  {
   "cell_type": "code",
   "execution_count": 25,
   "id": "2d3703d5-1b22-4618-8739-8d5137898de4",
   "metadata": {},
   "outputs": [],
   "source": [
    "parameters = {'model__max_depth':[2,4,6],'model__n_estimators':[100,200,400],'model__learning_rate':[0.05,0.5,0.1]}"
   ]
  },
  {
   "cell_type": "code",
   "execution_count": 26,
   "id": "46dcb843-4447-4907-9661-de1c9735b772",
   "metadata": {},
   "outputs": [
    {
     "name": "stdout",
     "output_type": "stream",
     "text": [
      "GridSearchCV results...\n",
      "Mean Train Scores: \n",
      "[0.77204011 0.7850379  0.79907389 0.80864567 0.82066763 0.83432992\n",
      " 0.84593657 0.85837383 0.87334414 0.81684731 0.83410147 0.84388082\n",
      " 0.86854773 0.8798432  0.88083988 0.91721744 0.92433953 0.92433953\n",
      " 0.7845396  0.79884553 0.81128269 0.82259865 0.8360948  0.85567461\n",
      " 0.85949506 0.87664557 0.90048175]\n",
      "\n",
      "Mean CV Scores: \n",
      "[0.76896659 0.77843457 0.78977125 0.79463024 0.80216728 0.80820953\n",
      " 0.81126162 0.81649393 0.82459161 0.79793165 0.80515747 0.81144908\n",
      " 0.81848737 0.82241143 0.82234915 0.82795513 0.82882708 0.82882708\n",
      " 0.77943108 0.7884007  0.7973083  0.80285249 0.80839652 0.81512366\n",
      " 0.81811326 0.82328333 0.83144352]\n",
      "\n",
      "Best Parameters: \n",
      "{'model__learning_rate': 0.1, 'model__max_depth': 6, 'model__n_estimators': 400}\n",
      "\n"
     ]
    }
   ],
   "source": [
    "model = model_training(X_train,y_train,numerical_cols,categorical_cols,parameters)"
   ]
  },
  {
   "cell_type": "code",
   "execution_count": 27,
   "id": "8717367d-452a-4768-a836-1fe46968c4fc",
   "metadata": {},
   "outputs": [],
   "source": [
    "def model_evaluation(model,X_test,y_test):\n",
    "    \"\"\"\n",
    "    \n",
    "    \"\"\"\n",
    "    print('Test results...')\n",
    "    y_test_predict_grid = model.predict(X_test)    \n",
    "    print(\"Model Test Accuracy:\", metrics.accuracy_score(y_test, y_test_predict_grid))\n",
    "    print('--------------------------------------------------')\n",
    "    print('Model Test Confusion Matrix')\n",
    "    cm = confusion_matrix(y_test,y_test_predict_grid,normalize='true') \n",
    "    cmd = ConfusionMatrixDisplay(cm,display_labels=['No','Yes'])\n",
    "    cmd.plot()\n",
    "    print('Classification report : \\n',classification_report(y_test, y_test_predict_grid))\n",
    "\n",
    "    ##\n",
    "    feature_importances = model.best_estimator_.named_steps['model'].feature_importances_\n",
    "    feature_names = X_test.columns\n",
    "    lista = []\n",
    "    for score, name in sorted(zip(feature_importances, feature_names), reverse=True):\n",
    "    #         print('{}: {}'.format(name, score))\n",
    "            lista.append(name)\n",
    "    print('First ten features by importances:')\n",
    "    print(lista[0:15])\n",
    "    \n",
    "    return model"
   ]
  },
  {
   "cell_type": "code",
   "execution_count": 28,
   "id": "d4e3751e-d1ea-4079-9cad-46cc2a13f8f0",
   "metadata": {},
   "outputs": [],
   "source": [
    "for i in val:\n",
    "    if val[i].dtypes == 'object':\n",
    "        val[i] = val[i].astype(str)"
   ]
  },
  {
   "cell_type": "code",
   "execution_count": 29,
   "id": "1d47cd1b-1b0e-474e-839f-5b932e61072e",
   "metadata": {},
   "outputs": [],
   "source": [
    "X_val = val.drop(columns='isFraud')\n",
    "y_val = val['isFraud'].astype(float)"
   ]
  },
  {
   "cell_type": "code",
   "execution_count": 30,
   "id": "6ef9b485-2452-43d8-b3fa-6c6dddee5db4",
   "metadata": {},
   "outputs": [
    {
     "name": "stdout",
     "output_type": "stream",
     "text": [
      "Test results...\n",
      "Model Test Accuracy: 0.8447423156921655\n",
      "--------------------------------------------------\n",
      "Model Test Confusion Matrix\n",
      "Classification report : \n",
      "               precision    recall  f1-score   support\n",
      "\n",
      "         0.0       0.98      0.85      0.91     19976\n",
      "         1.0       0.31      0.83      0.45      1659\n",
      "\n",
      "    accuracy                           0.84     21635\n",
      "   macro avg       0.65      0.84      0.68     21635\n",
      "weighted avg       0.93      0.84      0.87     21635\n",
      "\n",
      "First ten features by importances:\n",
      "['ProductCD', 'TransactionAmt', 'card4', 'id_30', 'id_32', 'id_33', 'max_c', 'R_emaildomain', 'DeviceType', 'num_transactio_per_time', 'device_info_v4', 'addr2', 'id_34', 'addr1', 'max_d']\n"
     ]
    },
    {
     "data": {
      "text/plain": [
       "GridSearchCV(cv=4,\n",
       "             estimator=Pipeline(steps=[('preprocessor',\n",
       "                                        ColumnTransformer(transformers=[('numerical_preprocessor',\n",
       "                                                                         Pipeline(steps=[('imputer',\n",
       "                                                                                          IterativeImputer(add_indicator=True,\n",
       "                                                                                                           estimator=ExtraTreesRegressor(n_estimators=5,\n",
       "                                                                                                                                         random_state=1),\n",
       "                                                                                                           random_state=1)),\n",
       "                                                                                         ('scaler',\n",
       "                                                                                          MinMaxScaler())]),\n",
       "                                                                         Index(['TransactionAmt', 'max_c', 'max_d', 'num_transactio_per_tim...\n",
       "       'R_emaildomain', 'id_30', 'id_32', 'id_33', 'id_34', 'DeviceType',\n",
       "       'browser_enc', 'device_info_v4'],\n",
       "      dtype='object'))])),\n",
       "                                       ('model',\n",
       "                                        GradientBoostingClassifier(max_features='auto',\n",
       "                                                                   n_iter_no_change=25,\n",
       "                                                                   random_state=0,\n",
       "                                                                   warm_start=True))]),\n",
       "             param_grid={'model__learning_rate': [0.05, 0.5, 0.1],\n",
       "                         'model__max_depth': [2, 4, 6],\n",
       "                         'model__n_estimators': [100, 200, 400]},\n",
       "             return_train_score=True, scoring='accuracy')"
      ]
     },
     "execution_count": 30,
     "metadata": {},
     "output_type": "execute_result"
    },
    {
     "data": {
      "image/png": "[encoded data removed]",
      "text/plain": [
       "<Figure size 432x288 with 2 Axes>"
      ]
     },
     "metadata": {
      "needs_background": "light"
     },
     "output_type": "display_data"
    }
   ],
   "source": [
    "model_evaluation(model,X_val,y_val)"
   ]
  },
  {
   "cell_type": "code",
   "execution_count": 31,
   "id": "911270c2-f6ad-4b70-a240-98688c01be0f",
   "metadata": {},
   "outputs": [],
   "source": [
    "df['proba'] = model.predict_proba(df[X_train.columns])[:,1]\n",
    "val['proba'] = model.predict_proba(val[X_train.columns])[:,1]"
   ]
  },
  {
   "cell_type": "code",
   "execution_count": 32,
   "id": "40277997-ae46-457b-a05c-5d90ec2cbde8",
   "metadata": {},
   "outputs": [
    {
     "data": {
      "text/html": [
       "<div>\n",
       "<style scoped>\n",
       "    .dataframe tbody tr th:only-of-type {\n",
       "        vertical-align: middle;\n",
       "    }\n",
       "\n",
       "    .dataframe tbody tr th {\n",
       "        vertical-align: top;\n",
       "    }\n",
       "\n",
       "    .dataframe thead th {\n",
       "        text-align: right;\n",
       "    }\n",
       "</style>\n",
       "<table border=\"1\" class=\"dataframe\">\n",
       "  <thead>\n",
       "    <tr style=\"text-align: right;\">\n",
       "      <th></th>\n",
       "      <th>isFraud</th>\n",
       "      <th>TransactionAmt</th>\n",
       "      <th>ProductCD</th>\n",
       "      <th>card4</th>\n",
       "      <th>addr1</th>\n",
       "      <th>addr2</th>\n",
       "      <th>P_emaildomain</th>\n",
       "      <th>R_emaildomain</th>\n",
       "      <th>id_30</th>\n",
       "      <th>id_32</th>\n",
       "      <th>id_33</th>\n",
       "      <th>id_34</th>\n",
       "      <th>DeviceType</th>\n",
       "      <th>max_c</th>\n",
       "      <th>max_d</th>\n",
       "      <th>num_transactio_per_time</th>\n",
       "      <th>multi_transaction_per_time</th>\n",
       "      <th>browser_enc</th>\n",
       "      <th>device_info_v4</th>\n",
       "      <th>proba</th>\n",
       "    </tr>\n",
       "  </thead>\n",
       "  <tbody>\n",
       "    <tr>\n",
       "      <th>27684</th>\n",
       "      <td>0</td>\n",
       "      <td>100.000</td>\n",
       "      <td>R</td>\n",
       "      <td>mastercard</td>\n",
       "      <td>299.0</td>\n",
       "      <td>87.0</td>\n",
       "      <td>anonymous.com</td>\n",
       "      <td>anonymous.com</td>\n",
       "      <td>Windows_7</td>\n",
       "      <td>24.0</td>\n",
       "      <td>1920x1080</td>\n",
       "      <td>match_status:2</td>\n",
       "      <td>desktop</td>\n",
       "      <td>2.0</td>\n",
       "      <td>885.958313</td>\n",
       "      <td>1</td>\n",
       "      <td>0</td>\n",
       "      <td>firefox</td>\n",
       "      <td>windows</td>\n",
       "      <td>0.020672</td>\n",
       "    </tr>\n",
       "    <tr>\n",
       "      <th>78655</th>\n",
       "      <td>0</td>\n",
       "      <td>61.326</td>\n",
       "      <td>C</td>\n",
       "      <td>visa</td>\n",
       "      <td>nan</td>\n",
       "      <td>nan</td>\n",
       "      <td>hotmail.com</td>\n",
       "      <td>hotmail.com</td>\n",
       "      <td>nan</td>\n",
       "      <td>nan</td>\n",
       "      <td>nan</td>\n",
       "      <td>nan</td>\n",
       "      <td>desktop</td>\n",
       "      <td>4.0</td>\n",
       "      <td>231.708328</td>\n",
       "      <td>1</td>\n",
       "      <td>0</td>\n",
       "      <td>chrome</td>\n",
       "      <td>windows</td>\n",
       "      <td>0.386245</td>\n",
       "    </tr>\n",
       "    <tr>\n",
       "      <th>120746</th>\n",
       "      <td>0</td>\n",
       "      <td>30.000</td>\n",
       "      <td>S</td>\n",
       "      <td>mastercard</td>\n",
       "      <td>203.0</td>\n",
       "      <td>87.0</td>\n",
       "      <td>nan</td>\n",
       "      <td>yahoo.com</td>\n",
       "      <td>Windows_10</td>\n",
       "      <td>24.0</td>\n",
       "      <td>1919x1079</td>\n",
       "      <td>match_status:2</td>\n",
       "      <td>desktop</td>\n",
       "      <td>5.0</td>\n",
       "      <td>37.000000</td>\n",
       "      <td>1</td>\n",
       "      <td>0</td>\n",
       "      <td>edge</td>\n",
       "      <td>windows</td>\n",
       "      <td>0.559959</td>\n",
       "    </tr>\n",
       "  </tbody>\n",
       "</table>\n",
       "</div>"
      ],
      "text/plain": [
       "       isFraud  TransactionAmt ProductCD       card4  addr1 addr2  \\\n",
       "27684        0         100.000         R  mastercard  299.0  87.0   \n",
       "78655        0          61.326         C        visa    nan   nan   \n",
       "120746       0          30.000         S  mastercard  203.0  87.0   \n",
       "\n",
       "        P_emaildomain  R_emaildomain       id_30 id_32      id_33  \\\n",
       "27684   anonymous.com  anonymous.com   Windows_7  24.0  1920x1080   \n",
       "78655     hotmail.com    hotmail.com         nan   nan        nan   \n",
       "120746            nan      yahoo.com  Windows_10  24.0  1919x1079   \n",
       "\n",
       "                 id_34 DeviceType  max_c       max_d  num_transactio_per_time  \\\n",
       "27684   match_status:2    desktop    2.0  885.958313                        1   \n",
       "78655              nan    desktop    4.0  231.708328                        1   \n",
       "120746  match_status:2    desktop    5.0   37.000000                        1   \n",
       "\n",
       "        multi_transaction_per_time browser_enc device_info_v4     proba  \n",
       "27684                            0     firefox        windows  0.020672  \n",
       "78655                            0      chrome        windows  0.386245  \n",
       "120746                           0        edge        windows  0.559959  "
      ]
     },
     "execution_count": 32,
     "metadata": {},
     "output_type": "execute_result"
    }
   ],
   "source": [
    "val.sample(3)"
   ]
  },
  {
   "cell_type": "code",
   "execution_count": 33,
   "id": "716fca8a-6366-4f72-85cf-c0a52a49168c",
   "metadata": {},
   "outputs": [
    {
     "data": {
      "text/html": [
       "<div>\n",
       "<style scoped>\n",
       "    .dataframe tbody tr th:only-of-type {\n",
       "        vertical-align: middle;\n",
       "    }\n",
       "\n",
       "    .dataframe tbody tr th {\n",
       "        vertical-align: top;\n",
       "    }\n",
       "\n",
       "    .dataframe thead th {\n",
       "        text-align: right;\n",
       "    }\n",
       "</style>\n",
       "<table border=\"1\" class=\"dataframe\">\n",
       "  <thead>\n",
       "    <tr style=\"text-align: right;\">\n",
       "      <th></th>\n",
       "      <th>isFraud</th>\n",
       "      <th>TransactionAmt</th>\n",
       "      <th>ProductCD</th>\n",
       "      <th>card4</th>\n",
       "      <th>addr1</th>\n",
       "      <th>addr2</th>\n",
       "      <th>P_emaildomain</th>\n",
       "      <th>R_emaildomain</th>\n",
       "      <th>id_30</th>\n",
       "      <th>id_32</th>\n",
       "      <th>id_33</th>\n",
       "      <th>id_34</th>\n",
       "      <th>DeviceType</th>\n",
       "      <th>max_c</th>\n",
       "      <th>max_d</th>\n",
       "      <th>num_transactio_per_time</th>\n",
       "      <th>multi_transaction_per_time</th>\n",
       "      <th>browser_enc</th>\n",
       "      <th>device_info_v4</th>\n",
       "      <th>proba</th>\n",
       "    </tr>\n",
       "  </thead>\n",
       "  <tbody>\n",
       "    <tr>\n",
       "      <th>7144</th>\n",
       "      <td>0</td>\n",
       "      <td>200.000</td>\n",
       "      <td>R</td>\n",
       "      <td>visa</td>\n",
       "      <td>220.0</td>\n",
       "      <td>87.0</td>\n",
       "      <td>anonymous.com</td>\n",
       "      <td>msn.com</td>\n",
       "      <td>Windows_10</td>\n",
       "      <td>24.0</td>\n",
       "      <td>1920x1080</td>\n",
       "      <td>match_status:2</td>\n",
       "      <td>desktop</td>\n",
       "      <td>1.0</td>\n",
       "      <td>122.791664</td>\n",
       "      <td>1</td>\n",
       "      <td>0</td>\n",
       "      <td>chrome</td>\n",
       "      <td>windows</td>\n",
       "      <td>0.013699</td>\n",
       "    </tr>\n",
       "    <tr>\n",
       "      <th>102823</th>\n",
       "      <td>1</td>\n",
       "      <td>13.655</td>\n",
       "      <td>C</td>\n",
       "      <td>visa</td>\n",
       "      <td>nan</td>\n",
       "      <td>nan</td>\n",
       "      <td>hotmail.com</td>\n",
       "      <td>hotmail.com</td>\n",
       "      <td>nan</td>\n",
       "      <td>nan</td>\n",
       "      <td>nan</td>\n",
       "      <td>nan</td>\n",
       "      <td>desktop</td>\n",
       "      <td>7.0</td>\n",
       "      <td>247.875000</td>\n",
       "      <td>1</td>\n",
       "      <td>0</td>\n",
       "      <td>chrome</td>\n",
       "      <td>other</td>\n",
       "      <td>0.605305</td>\n",
       "    </tr>\n",
       "    <tr>\n",
       "      <th>44736</th>\n",
       "      <td>0</td>\n",
       "      <td>75.000</td>\n",
       "      <td>R</td>\n",
       "      <td>visa</td>\n",
       "      <td>512.0</td>\n",
       "      <td>87.0</td>\n",
       "      <td>gmail.com</td>\n",
       "      <td>gmail.com</td>\n",
       "      <td>iOS_10_2_0</td>\n",
       "      <td>32.0</td>\n",
       "      <td>2208x1242</td>\n",
       "      <td>match_status:1</td>\n",
       "      <td>mobile</td>\n",
       "      <td>1.0</td>\n",
       "      <td>0.000000</td>\n",
       "      <td>1</td>\n",
       "      <td>0</td>\n",
       "      <td>safari</td>\n",
       "      <td>ios</td>\n",
       "      <td>0.083518</td>\n",
       "    </tr>\n",
       "  </tbody>\n",
       "</table>\n",
       "</div>"
      ],
      "text/plain": [
       "       isFraud  TransactionAmt ProductCD card4  addr1 addr2  P_emaildomain  \\\n",
       "7144         0         200.000         R  visa  220.0  87.0  anonymous.com   \n",
       "102823       1          13.655         C  visa    nan   nan    hotmail.com   \n",
       "44736        0          75.000         R  visa  512.0  87.0      gmail.com   \n",
       "\n",
       "       R_emaildomain       id_30 id_32      id_33           id_34 DeviceType  \\\n",
       "7144         msn.com  Windows_10  24.0  1920x1080  match_status:2    desktop   \n",
       "102823   hotmail.com         nan   nan        nan             nan    desktop   \n",
       "44736      gmail.com  iOS_10_2_0  32.0  2208x1242  match_status:1     mobile   \n",
       "\n",
       "        max_c       max_d  num_transactio_per_time  \\\n",
       "7144      1.0  122.791664                        1   \n",
       "102823    7.0  247.875000                        1   \n",
       "44736     1.0    0.000000                        1   \n",
       "\n",
       "        multi_transaction_per_time browser_enc device_info_v4     proba  \n",
       "7144                             0      chrome        windows  0.013699  \n",
       "102823                           0      chrome          other  0.605305  \n",
       "44736                            0      safari            ios  0.083518  "
      ]
     },
     "execution_count": 33,
     "metadata": {},
     "output_type": "execute_result"
    }
   ],
   "source": [
    "df.sample(3)"
   ]
  },
  {
   "cell_type": "code",
   "execution_count": 34,
   "id": "ab08810a-3895-40cc-b000-ea65f2ae28f0",
   "metadata": {},
   "outputs": [
    {
     "data": {
      "text/plain": [
       "0    19976\n",
       "1     1659\n",
       "Name: isFraud, dtype: int64"
      ]
     },
     "execution_count": 34,
     "metadata": {},
     "output_type": "execute_result"
    }
   ],
   "source": [
    "val['isFraud'].value_counts()"
   ]
  },
  {
   "cell_type": "code",
   "execution_count": 35,
   "id": "a27a81bc-d64d-4a75-8278-fdff480a1d69",
   "metadata": {},
   "outputs": [
    {
     "data": {
      "text/html": [
       "<div>\n",
       "<style scoped>\n",
       "    .dataframe tbody tr th:only-of-type {\n",
       "        vertical-align: middle;\n",
       "    }\n",
       "\n",
       "    .dataframe tbody tr th {\n",
       "        vertical-align: top;\n",
       "    }\n",
       "\n",
       "    .dataframe thead th {\n",
       "        text-align: right;\n",
       "    }\n",
       "</style>\n",
       "<table border=\"1\" class=\"dataframe\">\n",
       "  <thead>\n",
       "    <tr style=\"text-align: right;\">\n",
       "      <th></th>\n",
       "      <th>isFraud</th>\n",
       "      <th>TransactionAmt</th>\n",
       "      <th>ProductCD</th>\n",
       "      <th>card4</th>\n",
       "      <th>addr1</th>\n",
       "      <th>addr2</th>\n",
       "      <th>P_emaildomain</th>\n",
       "      <th>R_emaildomain</th>\n",
       "      <th>id_30</th>\n",
       "      <th>id_32</th>\n",
       "      <th>id_33</th>\n",
       "      <th>id_34</th>\n",
       "      <th>DeviceType</th>\n",
       "      <th>max_c</th>\n",
       "      <th>max_d</th>\n",
       "      <th>num_transactio_per_time</th>\n",
       "      <th>multi_transaction_per_time</th>\n",
       "      <th>browser_enc</th>\n",
       "      <th>device_info_v4</th>\n",
       "      <th>proba</th>\n",
       "    </tr>\n",
       "  </thead>\n",
       "  <tbody>\n",
       "    <tr>\n",
       "      <th>131148</th>\n",
       "      <td>1</td>\n",
       "      <td>12.296</td>\n",
       "      <td>C</td>\n",
       "      <td>visa</td>\n",
       "      <td>nan</td>\n",
       "      <td>nan</td>\n",
       "      <td>gmail.com</td>\n",
       "      <td>gmail.com</td>\n",
       "      <td>nan</td>\n",
       "      <td>nan</td>\n",
       "      <td>nan</td>\n",
       "      <td>nan</td>\n",
       "      <td>mobile</td>\n",
       "      <td>20.0</td>\n",
       "      <td>90.0</td>\n",
       "      <td>1</td>\n",
       "      <td>0</td>\n",
       "      <td>chrome</td>\n",
       "      <td>samsung</td>\n",
       "      <td>0.926240</td>\n",
       "    </tr>\n",
       "    <tr>\n",
       "      <th>55095</th>\n",
       "      <td>1</td>\n",
       "      <td>21.513</td>\n",
       "      <td>C</td>\n",
       "      <td>visa</td>\n",
       "      <td>nan</td>\n",
       "      <td>nan</td>\n",
       "      <td>gmail.com</td>\n",
       "      <td>gmail.com</td>\n",
       "      <td>nan</td>\n",
       "      <td>nan</td>\n",
       "      <td>nan</td>\n",
       "      <td>nan</td>\n",
       "      <td>mobile</td>\n",
       "      <td>1.0</td>\n",
       "      <td>61.0</td>\n",
       "      <td>1</td>\n",
       "      <td>0</td>\n",
       "      <td>chrome</td>\n",
       "      <td>moto</td>\n",
       "      <td>0.478996</td>\n",
       "    </tr>\n",
       "    <tr>\n",
       "      <th>127918</th>\n",
       "      <td>1</td>\n",
       "      <td>181.120</td>\n",
       "      <td>C</td>\n",
       "      <td>visa</td>\n",
       "      <td>nan</td>\n",
       "      <td>nan</td>\n",
       "      <td>gmail.com</td>\n",
       "      <td>gmail.com</td>\n",
       "      <td>nan</td>\n",
       "      <td>nan</td>\n",
       "      <td>nan</td>\n",
       "      <td>nan</td>\n",
       "      <td>mobile</td>\n",
       "      <td>1.0</td>\n",
       "      <td>302.0</td>\n",
       "      <td>1</td>\n",
       "      <td>0</td>\n",
       "      <td>chrome</td>\n",
       "      <td>samsung</td>\n",
       "      <td>0.764893</td>\n",
       "    </tr>\n",
       "  </tbody>\n",
       "</table>\n",
       "</div>"
      ],
      "text/plain": [
       "       isFraud  TransactionAmt ProductCD card4 addr1 addr2 P_emaildomain  \\\n",
       "131148       1          12.296         C  visa   nan   nan     gmail.com   \n",
       "55095        1          21.513         C  visa   nan   nan     gmail.com   \n",
       "127918       1         181.120         C  visa   nan   nan     gmail.com   \n",
       "\n",
       "       R_emaildomain id_30 id_32 id_33 id_34 DeviceType  max_c  max_d  \\\n",
       "131148     gmail.com   nan   nan   nan   nan     mobile   20.0   90.0   \n",
       "55095      gmail.com   nan   nan   nan   nan     mobile    1.0   61.0   \n",
       "127918     gmail.com   nan   nan   nan   nan     mobile    1.0  302.0   \n",
       "\n",
       "        num_transactio_per_time  multi_transaction_per_time browser_enc  \\\n",
       "131148                        1                           0      chrome   \n",
       "55095                         1                           0      chrome   \n",
       "127918                        1                           0      chrome   \n",
       "\n",
       "       device_info_v4     proba  \n",
       "131148        samsung  0.926240  \n",
       "55095            moto  0.478996  \n",
       "127918        samsung  0.764893  "
      ]
     },
     "execution_count": 35,
     "metadata": {},
     "output_type": "execute_result"
    }
   ],
   "source": [
    "val[val['isFraud']=='1'].sample(3)"
   ]
  },
  {
   "cell_type": "code",
   "execution_count": null,
   "id": "1d08407a-0c9f-430a-93c3-77682d49e7e6",
   "metadata": {},
   "outputs": [],
   "source": []
  },
  {
   "cell_type": "code",
   "execution_count": null,
   "id": "290c0b88-0613-43b4-8cf0-50ea815080e2",
   "metadata": {},
   "outputs": [],
   "source": []
  },
  {
   "cell_type": "code",
   "execution_count": null,
   "id": "bc586b8e-bdfa-4199-93db-059b42643d94",
   "metadata": {},
   "outputs": [],
   "source": []
  },
  {
   "cell_type": "code",
   "execution_count": null,
   "id": "bb53eb61-820f-44bb-bef8-2066e6ca6785",
   "metadata": {},
   "outputs": [],
   "source": []
  },
  {
   "cell_type": "code",
   "execution_count": null,
   "id": "554d2c4c-6fe8-41bc-9d4f-92fdcb27ac0a",
   "metadata": {},
   "outputs": [],
   "source": []
  }
 ],
 "metadata": {
  "kernelspec": {
   "display_name": "dev",
   "language": "python",
   "name": "python3"
  },
  "language_info": {
   "codemirror_mode": {
    "name": "ipython",
    "version": 3
   },
   "file_extension": ".py",
   "mimetype": "text/x-python",
   "name": "python",
   "nbconvert_exporter": "python",
   "pygments_lexer": "ipython3",
   "version": "3.9.7"
  }
 },
 "nbformat": 4,
 "nbformat_minor": 5
}
