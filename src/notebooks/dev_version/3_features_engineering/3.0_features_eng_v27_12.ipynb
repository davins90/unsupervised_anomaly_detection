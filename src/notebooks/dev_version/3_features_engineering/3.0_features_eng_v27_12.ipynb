{
 "cells": [
  {
   "cell_type": "code",
   "execution_count": 1,
   "id": "205581ed-a7fb-45d4-9c93-eb67c648ca4f",
   "metadata": {},
   "outputs": [],
   "source": [
    "import sys\n",
    "sys.path.append('../../../')"
   ]
  },
  {
   "cell_type": "code",
   "execution_count": 2,
   "id": "95186737-cbd2-44ee-ad56-89f916e705d8",
   "metadata": {},
   "outputs": [],
   "source": [
    "import pandas as pd\n",
    "import numpy as np\n",
    "import prince\n",
    "import matplotlib.pyplot as plt\n",
    "\n",
    "from modules import machine_learning_utils as mlu\n",
    "\n",
    "pd.set_option(\"display.max_rows\",None)\n",
    "pd.set_option(\"display.max_columns\",None)"
   ]
  },
  {
   "cell_type": "markdown",
   "id": "4382508d-67d1-44d6-b88a-21bb0fc024a2",
   "metadata": {},
   "source": [
    "# 1.0 Data retrieval"
   ]
  },
  {
   "cell_type": "code",
   "execution_count": 3,
   "id": "6f5445bc-6bb7-46fd-8591-7e87da23fd7b",
   "metadata": {},
   "outputs": [],
   "source": [
    "df = pd.read_pickle(\"../../../data_lake/output/train.pkl\")\n",
    "val = pd.read_pickle(\"../../../data_lake/output/val.pkl\")"
   ]
  },
  {
   "cell_type": "markdown",
   "id": "1a613b77-4d1d-41f2-8352-7d665319aa6b",
   "metadata": {},
   "source": [
    "# 2.0 Data preparation"
   ]
  },
  {
   "cell_type": "code",
   "execution_count": 4,
   "id": "ef0b0954-8b34-4209-a8cc-d11f83d521fd",
   "metadata": {},
   "outputs": [],
   "source": [
    "df = df.drop(columns=['dist2','customer_id','TransactionID'])\n",
    "val = val.drop(columns=['dist2','customer_id','TransactionID'])"
   ]
  },
  {
   "cell_type": "code",
   "execution_count": 5,
   "id": "6553ba82-ae13-460c-a553-ac7288cc4129",
   "metadata": {},
   "outputs": [],
   "source": [
    "df = df.rename(columns={'id_31':'browser'})\n",
    "val = val.rename(columns={'id_31':'browser'})"
   ]
  },
  {
   "cell_type": "code",
   "execution_count": 6,
   "id": "09155066-3914-4fa2-b9fd-d84c9732899e",
   "metadata": {},
   "outputs": [],
   "source": [
    "df['P_emaildomain'] = df['P_emaildomain'].mask(df['P_emaildomain']=='gmail','gmail.com')\n",
    "val['P_emaildomain'] = val['P_emaildomain'].mask(val['P_emaildomain']=='gmail','gmail.com')"
   ]
  },
  {
   "cell_type": "code",
   "execution_count": 7,
   "id": "675537ed-d70b-42a6-beee-c12965eab8f9",
   "metadata": {},
   "outputs": [],
   "source": [
    "df['R_emaildomain'] = df['R_emaildomain'].mask(df['R_emaildomain']=='gmail','gmail.com')\n",
    "val['R_emaildomain'] = val['R_emaildomain'].mask(val['R_emaildomain']=='gmail','gmail.com')"
   ]
  },
  {
   "cell_type": "code",
   "execution_count": 8,
   "id": "22877bd5-43c8-4112-96f6-421e9e0d7d20",
   "metadata": {},
   "outputs": [],
   "source": [
    "df['id_30'] = df['id_30'].replace(\" \",\"_\",regex=True)\n",
    "df['id_30'] = df['id_30'].str.replace(\".\",\"_\",regex=False)"
   ]
  },
  {
   "cell_type": "code",
   "execution_count": 9,
   "id": "4566226a-160d-49d0-8210-41827975bc66",
   "metadata": {},
   "outputs": [],
   "source": [
    "val['id_30'] = val['id_30'].replace(\" \",\"_\",regex=True)\n",
    "val['id_30'] = val['id_30'].str.replace(\".\",\"_\",regex=False)"
   ]
  },
  {
   "cell_type": "code",
   "execution_count": 10,
   "id": "54a3f999-61c6-40ae-8941-82890cb280db",
   "metadata": {},
   "outputs": [],
   "source": [
    "df['browser'] = df['browser'].mask(df['browser'].str.contains('SM') | df['browser'].str.contains('ZTE'),'other')\n",
    "val['browser'] = val['browser'].mask(val['browser'].str.contains('SM') | val['browser'].str.contains('ZTE'),'other')"
   ]
  },
  {
   "cell_type": "code",
   "execution_count": 11,
   "id": "11a995f3-0c71-42fb-b6b4-86495ca537f4",
   "metadata": {},
   "outputs": [],
   "source": [
    "df['browser'] = df['browser'].astype(str)\n",
    "val['browser'] = val['browser'].astype(str)"
   ]
  },
  {
   "cell_type": "markdown",
   "id": "e16c0ca2-1cdc-432a-aa07-d95793a0456b",
   "metadata": {},
   "source": [
    "# 3.0 Features creation"
   ]
  },
  {
   "cell_type": "markdown",
   "id": "4364d305-2328-4ddd-a2b1-c2ada3cfb6d2",
   "metadata": {},
   "source": [
    "## 3.1 Browser specification"
   ]
  },
  {
   "cell_type": "code",
   "execution_count": 12,
   "id": "384857ed-dc7a-47d4-b8b8-c324f24d370f",
   "metadata": {},
   "outputs": [],
   "source": [
    "df['browser_enc'] = 'other'\n",
    "df['browser_enc'] = df['browser_enc'].mask(df['browser'].str.contains('ie'),'ie')\n",
    "df['browser_enc'] = df['browser_enc'].mask(df['browser'].str.contains('safari'),'safari')\n",
    "df['browser_enc'] = df['browser_enc'].mask(df['browser'].str.contains('edge'),'edge')\n",
    "df['browser_enc'] = df['browser_enc'].mask(df['browser'].str.contains('firefox'),'firefox')\n",
    "df['browser_enc'] = df['browser_enc'].mask(df['browser'].str.contains('android'),'android')\n",
    "df['browser_enc'] = df['browser_enc'].mask(df['browser'].str.contains('Android'),'android')\n",
    "df['browser_enc'] = df['browser_enc'].mask(df['browser'].str.contains('chrome'),'chrome')\n",
    "df['browser_enc'] = df['browser_enc'].mask(df['browser'].str.contains('opera'),'opera')\n",
    "df['browser_enc'] = df['browser_enc'].mask(df['browser'].str.contains('google'),'chrome')\n",
    "df['browser_enc'] = df['browser_enc'].mask(df['browser'].str.contains('samsung'),'android')"
   ]
  },
  {
   "cell_type": "code",
   "execution_count": 13,
   "id": "14f1271d-e4c1-40f2-a230-a41357231ec4",
   "metadata": {},
   "outputs": [],
   "source": [
    "val['browser_enc'] = 'other'\n",
    "val['browser_enc'] = val['browser_enc'].mask(val['browser'].str.contains('ie'),'ie')\n",
    "val['browser_enc'] = val['browser_enc'].mask(val['browser'].str.contains('safari'),'safari')\n",
    "val['browser_enc'] = val['browser_enc'].mask(val['browser'].str.contains('edge'),'edge')\n",
    "val['browser_enc'] = val['browser_enc'].mask(val['browser'].str.contains('firefox'),'firefox')\n",
    "val['browser_enc'] = val['browser_enc'].mask(val['browser'].str.contains('android'),'android')\n",
    "val['browser_enc'] = val['browser_enc'].mask(val['browser'].str.contains('Android'),'android')\n",
    "val['browser_enc'] = val['browser_enc'].mask(val['browser'].str.contains('chrome'),'chrome')\n",
    "val['browser_enc'] = val['browser_enc'].mask(val['browser'].str.contains('opera'),'opera')\n",
    "val['browser_enc'] = val['browser_enc'].mask(val['browser'].str.contains('google'),'chrome')\n",
    "val['browser_enc'] = val['browser_enc'].mask(val['browser'].str.contains('samsung'),'android')"
   ]
  },
  {
   "cell_type": "markdown",
   "id": "db265d60-e791-4413-b36a-3d4c37fd153d",
   "metadata": {},
   "source": [
    "## 3.2 Device type"
   ]
  },
  {
   "cell_type": "code",
   "execution_count": 14,
   "id": "3c5bde23-1ccc-4afb-8c88-59acc7b5408d",
   "metadata": {},
   "outputs": [],
   "source": [
    "df['DeviceType'] = df['DeviceType'].mask(df['browser']== 'ie 11.0 for tablet','tablet')\n",
    "val['DeviceType'] = val['DeviceType'].mask(val['browser']== 'ie 11.0 for tablet','tablet')"
   ]
  },
  {
   "cell_type": "code",
   "execution_count": 15,
   "id": "aa16334a-3b18-4a58-8569-03847c229ffa",
   "metadata": {},
   "outputs": [],
   "source": [
    "df = df.drop(columns='browser')\n",
    "val = val.drop(columns='browser')"
   ]
  },
  {
   "cell_type": "code",
   "execution_count": 16,
   "id": "8738292a-9d72-45fd-a012-c65341ec126c",
   "metadata": {},
   "outputs": [],
   "source": [
    "df['device_info'] = df['DeviceInfo'].replace(\"-\",\"_\",regex=True)\n",
    "df['device_info2'] = df['device_info'].replace(\" \",\"_\",regex=True)\n",
    "df['device_info'] = df['DeviceInfo'].replace(\"-\",\"_\",regex=True)\n",
    "df['device_info2'] = df['device_info'].replace(\" \",\"_\",regex=True)\n",
    "df['device_info3'] = df['device_info2'].str.split(\"_\").str[0]\n",
    "df['device_info3'] = df['device_info3'].str.lower()"
   ]
  },
  {
   "cell_type": "code",
   "execution_count": 17,
   "id": "a7181316-5c3d-4e1f-85a8-afcbd4637281",
   "metadata": {},
   "outputs": [],
   "source": [
    "val['device_info'] = val['DeviceInfo'].replace(\"-\",\"_\",regex=True)\n",
    "val['device_info2'] = val['device_info'].replace(\" \",\"_\",regex=True)\n",
    "val['device_info'] = val['DeviceInfo'].replace(\"-\",\"_\",regex=True)\n",
    "val['device_info2'] = val['device_info'].replace(\" \",\"_\",regex=True)\n",
    "val['device_info3'] = val['device_info2'].str.split(\"_\").str[0]\n",
    "val['device_info3'] = val['device_info3'].str.lower()"
   ]
  },
  {
   "cell_type": "code",
   "execution_count": 18,
   "id": "ce8e2415-bf3d-43a8-9f19-ad93fa4d3170",
   "metadata": {},
   "outputs": [],
   "source": [
    "df['device_info_v4'] = 'other'\n",
    "df['device_info_v4'] = df['device_info_v4'].mask(((df['device_info3']=='windows') | (df['device_info3']=='microsoft') | (df['device_info3']=='trident/7.0')),'windows')\n",
    "df['device_info_v4'] = df['device_info_v4'].mask(((df['device_info3']=='ios') | (df['device_info3']=='iphone')),'ios')\n",
    "df['device_info_v4'] = df['device_info_v4'].mask(df['device_info3']=='macos','ios')\n",
    "df['device_info_v4'] = df['device_info_v4'].mask(df['device_info3']=='blade','blade')\n",
    "df['device_info_v4'] = df['device_info_v4'].mask(df['device_info3']=='lenovo','lenovo')\n",
    "df['device_info_v4'] = df['device_info_v4'].mask(df['device_info3']=='redmi','redmi')\n",
    "df['device_info_v4'] = df['device_info_v4'].mask(df['device_info3']=='pixel','pixel')\n",
    "df['device_info_v4'] = df['device_info_v4'].mask(df['device_info3']=='android','android')\n",
    "df['device_info_v4'] = df['device_info_v4'].mask(df['device_info3']=='macos','ios')\n",
    "df['device_info_v4'] = df['device_info_v4'].mask(df['device_info3']=='alcatel','alcatel')\n",
    "df['device_info_v4'] = df['device_info_v4'].mask(df['device_info3']=='nokia','nokia')\n",
    "df['device_info_v4'] = df['device_info_v4'].mask(df['device_info3']=='asus','asus')\n",
    "df['device_info_v4'] = df['device_info_v4'].mask(df['device_info3']=='oneplus','oneplus')\n",
    "df['device_info_v4'] = df['device_info_v4'].mask(df['device_info3']=='zte','zte')\n",
    "df['device_info_v4'] = df['device_info_v4'].mask(df['device_info3']=='macos','ios')\n",
    "df['device_info_v4'] = df['device_info_v4'].mask(df['device_info3']=='hisense','hisense')\n",
    "df['device_info_v4'] = df['device_info_v4'].mask(df['device_info3']=='linux','linux')\n",
    "df['device_info_v4'] = df['device_info_v4'].mask((df['device_info3'].str.contains(\"lg\") | (df['device_info3'].str.contains(\"nexus\"))),'lg')\n",
    "df['device_info_v4'] = df['device_info_v4'].mask(((df['device_info3'].str.contains(\"huawei\")) | (df['device_info3'].str.contains(\"hi6210sft\"))),'huawei')\n",
    "df['device_info_v4'] = df['device_info_v4'].mask(((df['device_info3']=='motog3') |(df['device_info3']=='moto')),'moto')\n",
    "df['device_info_v4'] = df['device_info_v4'].mask(((df['device_info3']=='sm') |(df['device_info3']=='samsung')),'samsung')"
   ]
  },
  {
   "cell_type": "code",
   "execution_count": 19,
   "id": "1db618e6-d9dc-438e-8187-4f1ad7cd5c06",
   "metadata": {},
   "outputs": [],
   "source": [
    "val['device_info_v4'] = 'other'\n",
    "val['device_info_v4'] = val['device_info_v4'].mask(((val['device_info3']=='windows') | (val['device_info3']=='microsoft') | (val['device_info3']=='trident/7.0')),'windows')\n",
    "val['device_info_v4'] = val['device_info_v4'].mask(((val['device_info3']=='ios') | (val['device_info3']=='iphone')),'ios')\n",
    "val['device_info_v4'] = val['device_info_v4'].mask(val['device_info3']=='macos','ios')\n",
    "val['device_info_v4'] = val['device_info_v4'].mask(val['device_info3']=='blade','blade')\n",
    "val['device_info_v4'] = val['device_info_v4'].mask(val['device_info3']=='lenovo','lenovo')\n",
    "val['device_info_v4'] = val['device_info_v4'].mask(val['device_info3']=='redmi','redmi')\n",
    "val['device_info_v4'] = val['device_info_v4'].mask(val['device_info3']=='pixel','pixel')\n",
    "val['device_info_v4'] = val['device_info_v4'].mask(val['device_info3']=='android','android')\n",
    "val['device_info_v4'] = val['device_info_v4'].mask(val['device_info3']=='macos','ios')\n",
    "val['device_info_v4'] = val['device_info_v4'].mask(val['device_info3']=='alcatel','alcatel')\n",
    "val['device_info_v4'] = val['device_info_v4'].mask(val['device_info3']=='nokia','nokia')\n",
    "val['device_info_v4'] = val['device_info_v4'].mask(val['device_info3']=='asus','asus')\n",
    "val['device_info_v4'] = val['device_info_v4'].mask(val['device_info3']=='oneplus','oneplus')\n",
    "val['device_info_v4'] = val['device_info_v4'].mask(val['device_info3']=='zte','zte')\n",
    "val['device_info_v4'] = val['device_info_v4'].mask(val['device_info3']=='macos','ios')\n",
    "val['device_info_v4'] = val['device_info_v4'].mask(val['device_info3']=='hisense','hisense')\n",
    "val['device_info_v4'] = val['device_info_v4'].mask(val['device_info3']=='linux','linux')\n",
    "val['device_info_v4'] = val['device_info_v4'].mask((val['device_info3'].str.contains(\"lg\") | (val['device_info3'].str.contains(\"nexus\"))),'lg')\n",
    "val['device_info_v4'] = val['device_info_v4'].mask(((val['device_info3'].str.contains(\"huawei\")) | (val['device_info3'].str.contains(\"hi6210sft\"))),'huawei')\n",
    "val['device_info_v4'] = val['device_info_v4'].mask(((val['device_info3']=='motog3') |(val['device_info3']=='moto')),'moto')\n",
    "val['device_info_v4'] = val['device_info_v4'].mask(((val['device_info3']=='sm') |(val['device_info3']=='samsung')),'samsung')"
   ]
  },
  {
   "cell_type": "code",
   "execution_count": 20,
   "id": "fb6fddd7-d729-472f-b69b-1b25d601fb00",
   "metadata": {},
   "outputs": [],
   "source": [
    "df = df.drop(columns=['device_info','device_info2','device_info3','DeviceInfo'])\n",
    "val = val.drop(columns=['device_info','device_info2','device_info3','DeviceInfo'])"
   ]
  },
  {
   "cell_type": "markdown",
   "id": "103122ae-5867-444f-acc6-02fd56720527",
   "metadata": {},
   "source": [
    "# 4.0 EDA"
   ]
  },
  {
   "cell_type": "code",
   "execution_count": 21,
   "id": "1d08407a-0c9f-430a-93c3-77682d49e7e6",
   "metadata": {},
   "outputs": [
    {
     "data": {
      "text/html": [
       "<div>\n",
       "<style scoped>\n",
       "    .dataframe tbody tr th:only-of-type {\n",
       "        vertical-align: middle;\n",
       "    }\n",
       "\n",
       "    .dataframe tbody tr th {\n",
       "        vertical-align: top;\n",
       "    }\n",
       "\n",
       "    .dataframe thead th {\n",
       "        text-align: right;\n",
       "    }\n",
       "</style>\n",
       "<table border=\"1\" class=\"dataframe\">\n",
       "  <thead>\n",
       "    <tr style=\"text-align: right;\">\n",
       "      <th></th>\n",
       "      <th>isFraud</th>\n",
       "      <th>TransactionAmt</th>\n",
       "      <th>ProductCD</th>\n",
       "      <th>card1</th>\n",
       "      <th>card2</th>\n",
       "      <th>card3</th>\n",
       "      <th>card4</th>\n",
       "      <th>card5</th>\n",
       "      <th>card6</th>\n",
       "      <th>addr1</th>\n",
       "      <th>addr2</th>\n",
       "      <th>P_emaildomain</th>\n",
       "      <th>R_emaildomain</th>\n",
       "      <th>M4</th>\n",
       "      <th>id_21</th>\n",
       "      <th>id_22</th>\n",
       "      <th>id_23</th>\n",
       "      <th>id_24</th>\n",
       "      <th>id_25</th>\n",
       "      <th>id_26</th>\n",
       "      <th>id_27</th>\n",
       "      <th>id_28</th>\n",
       "      <th>id_29</th>\n",
       "      <th>id_30</th>\n",
       "      <th>id_32</th>\n",
       "      <th>id_33</th>\n",
       "      <th>id_34</th>\n",
       "      <th>id_35</th>\n",
       "      <th>id_36</th>\n",
       "      <th>id_37</th>\n",
       "      <th>id_38</th>\n",
       "      <th>DeviceType</th>\n",
       "      <th>max_c</th>\n",
       "      <th>max_d</th>\n",
       "      <th>num_transaction_per_time</th>\n",
       "      <th>multi_transaction_per_time</th>\n",
       "      <th>browser_enc</th>\n",
       "      <th>device_info_v4</th>\n",
       "    </tr>\n",
       "  </thead>\n",
       "  <tbody>\n",
       "    <tr>\n",
       "      <th>14400</th>\n",
       "      <td>0</td>\n",
       "      <td>50.000</td>\n",
       "      <td>R</td>\n",
       "      <td>1804</td>\n",
       "      <td>161.0</td>\n",
       "      <td>150.0</td>\n",
       "      <td>mastercard</td>\n",
       "      <td>117.0</td>\n",
       "      <td>debit</td>\n",
       "      <td>327.0</td>\n",
       "      <td>87.0</td>\n",
       "      <td>gmail.com</td>\n",
       "      <td>gmail.com</td>\n",
       "      <td>NaN</td>\n",
       "      <td>NaN</td>\n",
       "      <td>NaN</td>\n",
       "      <td>NaN</td>\n",
       "      <td>NaN</td>\n",
       "      <td>NaN</td>\n",
       "      <td>NaN</td>\n",
       "      <td>NaN</td>\n",
       "      <td>New</td>\n",
       "      <td>NotFound</td>\n",
       "      <td>Windows_7</td>\n",
       "      <td>24.0</td>\n",
       "      <td>1366x768</td>\n",
       "      <td>match_status:2</td>\n",
       "      <td>T</td>\n",
       "      <td>F</td>\n",
       "      <td>T</td>\n",
       "      <td>F</td>\n",
       "      <td>desktop</td>\n",
       "      <td>1.0</td>\n",
       "      <td>0.0</td>\n",
       "      <td>1</td>\n",
       "      <td>0</td>\n",
       "      <td>chrome</td>\n",
       "      <td>windows</td>\n",
       "    </tr>\n",
       "    <tr>\n",
       "      <th>64014</th>\n",
       "      <td>1</td>\n",
       "      <td>33.522</td>\n",
       "      <td>C</td>\n",
       "      <td>5943</td>\n",
       "      <td>296.0</td>\n",
       "      <td>185.0</td>\n",
       "      <td>visa</td>\n",
       "      <td>195.0</td>\n",
       "      <td>debit</td>\n",
       "      <td>NaN</td>\n",
       "      <td>NaN</td>\n",
       "      <td>gmail.com</td>\n",
       "      <td>gmail.com</td>\n",
       "      <td>M2</td>\n",
       "      <td>NaN</td>\n",
       "      <td>NaN</td>\n",
       "      <td>NaN</td>\n",
       "      <td>NaN</td>\n",
       "      <td>NaN</td>\n",
       "      <td>NaN</td>\n",
       "      <td>NaN</td>\n",
       "      <td>Found</td>\n",
       "      <td>Found</td>\n",
       "      <td>NaN</td>\n",
       "      <td>NaN</td>\n",
       "      <td>NaN</td>\n",
       "      <td>NaN</td>\n",
       "      <td>F</td>\n",
       "      <td>F</td>\n",
       "      <td>T</td>\n",
       "      <td>T</td>\n",
       "      <td>mobile</td>\n",
       "      <td>47.0</td>\n",
       "      <td>154.0</td>\n",
       "      <td>1</td>\n",
       "      <td>0</td>\n",
       "      <td>chrome</td>\n",
       "      <td>moto</td>\n",
       "    </tr>\n",
       "  </tbody>\n",
       "</table>\n",
       "</div>"
      ],
      "text/plain": [
       "      isFraud  TransactionAmt ProductCD card1  card2  card3       card4  \\\n",
       "14400       0          50.000         R  1804  161.0  150.0  mastercard   \n",
       "64014       1          33.522         C  5943  296.0  185.0        visa   \n",
       "\n",
       "       card5  card6  addr1 addr2 P_emaildomain R_emaildomain   M4 id_21 id_22  \\\n",
       "14400  117.0  debit  327.0  87.0     gmail.com     gmail.com  NaN   NaN   NaN   \n",
       "64014  195.0  debit    NaN   NaN     gmail.com     gmail.com   M2   NaN   NaN   \n",
       "\n",
       "      id_23 id_24 id_25 id_26 id_27  id_28     id_29      id_30 id_32  \\\n",
       "14400   NaN   NaN   NaN   NaN   NaN    New  NotFound  Windows_7  24.0   \n",
       "64014   NaN   NaN   NaN   NaN   NaN  Found     Found        NaN   NaN   \n",
       "\n",
       "          id_33           id_34 id_35 id_36 id_37 id_38 DeviceType  max_c  \\\n",
       "14400  1366x768  match_status:2     T     F     T     F    desktop    1.0   \n",
       "64014       NaN             NaN     F     F     T     T     mobile   47.0   \n",
       "\n",
       "       max_d  num_transaction_per_time  multi_transaction_per_time  \\\n",
       "14400    0.0                         1                           0   \n",
       "64014  154.0                         1                           0   \n",
       "\n",
       "      browser_enc device_info_v4  \n",
       "14400      chrome        windows  \n",
       "64014      chrome           moto  "
      ]
     },
     "execution_count": 21,
     "metadata": {},
     "output_type": "execute_result"
    }
   ],
   "source": [
    "df.sample(2)"
   ]
  },
  {
   "cell_type": "markdown",
   "id": "58b88828-4ae9-455f-b627-8b30753d4119",
   "metadata": {},
   "source": [
    "## 4.1 Numerical features"
   ]
  },
  {
   "cell_type": "code",
   "execution_count": 22,
   "id": "2b6c6f4a-7d18-482d-8be0-1cf1e012100e",
   "metadata": {},
   "outputs": [
    {
     "data": {
      "image/png": "[encoded data removed]",
      "text/plain": [
       "<Figure size 432x288 with 1 Axes>"
      ]
     },
     "metadata": {
      "needs_background": "light"
     },
     "output_type": "display_data"
    },
    {
     "data": {
      "image/png": "[encoded data removed]",
      "text/plain": [
       "<Figure size 432x288 with 1 Axes>"
      ]
     },
     "metadata": {
      "needs_background": "light"
     },
     "output_type": "display_data"
    },
    {
     "data": {
      "image/png": "[encoded data removed]",
      "text/plain": [
       "<Figure size 432x288 with 1 Axes>"
      ]
     },
     "metadata": {
      "needs_background": "light"
     },
     "output_type": "display_data"
    }
   ],
   "source": [
    "for i in df:\n",
    "    if df[i].dtypes == 'float64':\n",
    "        plt.figure(i)\n",
    "        plt.title(i)\n",
    "        df[i].hist()"
   ]
  },
  {
   "cell_type": "markdown",
   "id": "1348c86c-f84e-4e63-840b-adf09759ca8c",
   "metadata": {},
   "source": [
    "## 4.2 Categorical features"
   ]
  },
  {
   "cell_type": "code",
   "execution_count": 23,
   "id": "bc586b8e-bdfa-4199-93db-059b42643d94",
   "metadata": {},
   "outputs": [],
   "source": [
    "cat = df.select_dtypes(exclude='float64')"
   ]
  },
  {
   "cell_type": "code",
   "execution_count": 24,
   "id": "dbd2c2f7-bec5-48dd-95cc-3133f5c2b500",
   "metadata": {},
   "outputs": [
    {
     "data": {
      "text/plain": [
       "(16054, 35)"
      ]
     },
     "execution_count": 24,
     "metadata": {},
     "output_type": "execute_result"
    }
   ],
   "source": [
    "cat.shape"
   ]
  },
  {
   "cell_type": "code",
   "execution_count": 25,
   "id": "0247083a-cea2-43a0-9532-44533c5be1c9",
   "metadata": {},
   "outputs": [],
   "source": [
    "# cat = cat.dropna(thresh=int(0.35*df.shape[0]),axis=1)"
   ]
  },
  {
   "cell_type": "code",
   "execution_count": 26,
   "id": "64bda0a2-75ee-45ca-9565-d9359f5c3354",
   "metadata": {},
   "outputs": [],
   "source": [
    "cat = cat[['isFraud','ProductCD','DeviceType','browser_enc']]"
   ]
  },
  {
   "cell_type": "code",
   "execution_count": 27,
   "id": "5d9f7784-d03a-48ea-8134-49c398737c84",
   "metadata": {},
   "outputs": [
    {
     "data": {
      "text/html": [
       "<div>\n",
       "<style scoped>\n",
       "    .dataframe tbody tr th:only-of-type {\n",
       "        vertical-align: middle;\n",
       "    }\n",
       "\n",
       "    .dataframe tbody tr th {\n",
       "        vertical-align: top;\n",
       "    }\n",
       "\n",
       "    .dataframe thead th {\n",
       "        text-align: right;\n",
       "    }\n",
       "</style>\n",
       "<table border=\"1\" class=\"dataframe\">\n",
       "  <thead>\n",
       "    <tr style=\"text-align: right;\">\n",
       "      <th></th>\n",
       "      <th>isFraud</th>\n",
       "      <th>ProductCD</th>\n",
       "      <th>DeviceType</th>\n",
       "      <th>browser_enc</th>\n",
       "    </tr>\n",
       "  </thead>\n",
       "  <tbody>\n",
       "    <tr>\n",
       "      <th>79024</th>\n",
       "      <td>1</td>\n",
       "      <td>C</td>\n",
       "      <td>mobile</td>\n",
       "      <td>chrome</td>\n",
       "    </tr>\n",
       "  </tbody>\n",
       "</table>\n",
       "</div>"
      ],
      "text/plain": [
       "      isFraud ProductCD DeviceType browser_enc\n",
       "79024       1         C     mobile      chrome"
      ]
     },
     "execution_count": 27,
     "metadata": {},
     "output_type": "execute_result"
    }
   ],
   "source": [
    "cat.sample(1)"
   ]
  },
  {
   "cell_type": "code",
   "execution_count": 28,
   "id": "d293bc48-18f5-46e4-9b61-eaecee8e7282",
   "metadata": {},
   "outputs": [
    {
     "data": {
      "text/plain": [
       "(16054, 4)"
      ]
     },
     "execution_count": 28,
     "metadata": {},
     "output_type": "execute_result"
    }
   ],
   "source": [
    "cat.shape"
   ]
  },
  {
   "cell_type": "code",
   "execution_count": 29,
   "id": "cb72c1da-055f-4d3d-9cd0-d4da0a007e16",
   "metadata": {},
   "outputs": [
    {
     "name": "stdout",
     "output_type": "stream",
     "text": [
      "MCA explained variance:  [0.043244056758617214, 0.036573828311726, 0.022505923790253075]\n"
     ]
    }
   ],
   "source": [
    "mca = mlu.compute_mca(prince.MCA,cat,3,5,True,True,'auto',2)"
   ]
  },
  {
   "cell_type": "code",
   "execution_count": 31,
   "id": "f9ca846b-016b-4d6e-94b3-68af46668f72",
   "metadata": {},
   "outputs": [
    {
     "data": {
      "text/html": [
       "<iframe\n",
       "    scrolling=\"no\"\n",
       "    width=\"100%\"\n",
       "    height=\"545px\"\n",
       "    src=\"iframe_figures/figure_31.html\"\n",
       "    frameborder=\"0\"\n",
       "    allowfullscreen\n",
       "></iframe>\n"
      ]
     },
     "metadata": {},
     "output_type": "display_data"
    }
   ],
   "source": [
    "mlu.plot_coordinates_plotly2d(model=mca,X=cat,show_column_points=True)"
   ]
  },
  {
   "cell_type": "code",
   "execution_count": 32,
   "id": "92a43291-8a48-4344-8460-40596c7f8b8f",
   "metadata": {},
   "outputs": [
    {
     "data": {
      "text/html": [
       "<div>\n",
       "<style scoped>\n",
       "    .dataframe tbody tr th:only-of-type {\n",
       "        vertical-align: middle;\n",
       "    }\n",
       "\n",
       "    .dataframe tbody tr th {\n",
       "        vertical-align: top;\n",
       "    }\n",
       "\n",
       "    .dataframe thead th {\n",
       "        text-align: right;\n",
       "    }\n",
       "</style>\n",
       "<table border=\"1\" class=\"dataframe\">\n",
       "  <thead>\n",
       "    <tr style=\"text-align: right;\">\n",
       "      <th></th>\n",
       "      <th>isFraud</th>\n",
       "      <th>TransactionAmt</th>\n",
       "      <th>ProductCD</th>\n",
       "      <th>card1</th>\n",
       "      <th>card2</th>\n",
       "      <th>card3</th>\n",
       "      <th>card4</th>\n",
       "      <th>card5</th>\n",
       "      <th>card6</th>\n",
       "      <th>addr1</th>\n",
       "      <th>addr2</th>\n",
       "      <th>P_emaildomain</th>\n",
       "      <th>R_emaildomain</th>\n",
       "      <th>M4</th>\n",
       "      <th>id_21</th>\n",
       "      <th>id_22</th>\n",
       "      <th>id_23</th>\n",
       "      <th>id_24</th>\n",
       "      <th>id_25</th>\n",
       "      <th>id_26</th>\n",
       "      <th>id_27</th>\n",
       "      <th>id_28</th>\n",
       "      <th>id_29</th>\n",
       "      <th>id_30</th>\n",
       "      <th>id_32</th>\n",
       "      <th>id_33</th>\n",
       "      <th>id_34</th>\n",
       "      <th>id_35</th>\n",
       "      <th>id_36</th>\n",
       "      <th>id_37</th>\n",
       "      <th>id_38</th>\n",
       "      <th>DeviceType</th>\n",
       "      <th>max_c</th>\n",
       "      <th>max_d</th>\n",
       "      <th>num_transaction_per_time</th>\n",
       "      <th>multi_transaction_per_time</th>\n",
       "      <th>browser_enc</th>\n",
       "      <th>device_info_v4</th>\n",
       "    </tr>\n",
       "  </thead>\n",
       "  <tbody>\n",
       "    <tr>\n",
       "      <th>71476</th>\n",
       "      <td>0</td>\n",
       "      <td>98.474</td>\n",
       "      <td>C</td>\n",
       "      <td>7676</td>\n",
       "      <td>512.0</td>\n",
       "      <td>150.0</td>\n",
       "      <td>visa</td>\n",
       "      <td>226.0</td>\n",
       "      <td>debit</td>\n",
       "      <td>NaN</td>\n",
       "      <td>NaN</td>\n",
       "      <td>gmail.com</td>\n",
       "      <td>gmail.com</td>\n",
       "      <td>M2</td>\n",
       "      <td>NaN</td>\n",
       "      <td>NaN</td>\n",
       "      <td>NaN</td>\n",
       "      <td>NaN</td>\n",
       "      <td>NaN</td>\n",
       "      <td>NaN</td>\n",
       "      <td>NaN</td>\n",
       "      <td>New</td>\n",
       "      <td>NotFound</td>\n",
       "      <td>NaN</td>\n",
       "      <td>NaN</td>\n",
       "      <td>NaN</td>\n",
       "      <td>NaN</td>\n",
       "      <td>F</td>\n",
       "      <td>F</td>\n",
       "      <td>T</td>\n",
       "      <td>F</td>\n",
       "      <td>desktop</td>\n",
       "      <td>1.0</td>\n",
       "      <td>516.0</td>\n",
       "      <td>1</td>\n",
       "      <td>0</td>\n",
       "      <td>chrome</td>\n",
       "      <td>other</td>\n",
       "    </tr>\n",
       "    <tr>\n",
       "      <th>27618</th>\n",
       "      <td>0</td>\n",
       "      <td>200.000</td>\n",
       "      <td>R</td>\n",
       "      <td>7585</td>\n",
       "      <td>553.0</td>\n",
       "      <td>150.0</td>\n",
       "      <td>visa</td>\n",
       "      <td>226.0</td>\n",
       "      <td>credit</td>\n",
       "      <td>310.0</td>\n",
       "      <td>87.0</td>\n",
       "      <td>anonymous.com</td>\n",
       "      <td>anonymous.com</td>\n",
       "      <td>NaN</td>\n",
       "      <td>NaN</td>\n",
       "      <td>NaN</td>\n",
       "      <td>NaN</td>\n",
       "      <td>NaN</td>\n",
       "      <td>NaN</td>\n",
       "      <td>NaN</td>\n",
       "      <td>NaN</td>\n",
       "      <td>NaN</td>\n",
       "      <td>NaN</td>\n",
       "      <td>NaN</td>\n",
       "      <td>NaN</td>\n",
       "      <td>NaN</td>\n",
       "      <td>NaN</td>\n",
       "      <td>NaN</td>\n",
       "      <td>NaN</td>\n",
       "      <td>NaN</td>\n",
       "      <td>NaN</td>\n",
       "      <td>NaN</td>\n",
       "      <td>3.0</td>\n",
       "      <td>361.0</td>\n",
       "      <td>1</td>\n",
       "      <td>0</td>\n",
       "      <td>other</td>\n",
       "      <td>other</td>\n",
       "    </tr>\n",
       "  </tbody>\n",
       "</table>\n",
       "</div>"
      ],
      "text/plain": [
       "      isFraud  TransactionAmt ProductCD card1  card2  card3 card4  card5  \\\n",
       "71476       0          98.474         C  7676  512.0  150.0  visa  226.0   \n",
       "27618       0         200.000         R  7585  553.0  150.0  visa  226.0   \n",
       "\n",
       "        card6  addr1 addr2  P_emaildomain  R_emaildomain   M4 id_21 id_22  \\\n",
       "71476   debit    NaN   NaN      gmail.com      gmail.com   M2   NaN   NaN   \n",
       "27618  credit  310.0  87.0  anonymous.com  anonymous.com  NaN   NaN   NaN   \n",
       "\n",
       "      id_23 id_24 id_25 id_26 id_27 id_28     id_29 id_30 id_32 id_33 id_34  \\\n",
       "71476   NaN   NaN   NaN   NaN   NaN   New  NotFound   NaN   NaN   NaN   NaN   \n",
       "27618   NaN   NaN   NaN   NaN   NaN   NaN       NaN   NaN   NaN   NaN   NaN   \n",
       "\n",
       "      id_35 id_36 id_37 id_38 DeviceType  max_c  max_d  \\\n",
       "71476     F     F     T     F    desktop    1.0  516.0   \n",
       "27618   NaN   NaN   NaN   NaN        NaN    3.0  361.0   \n",
       "\n",
       "       num_transaction_per_time  multi_transaction_per_time browser_enc  \\\n",
       "71476                         1                           0      chrome   \n",
       "27618                         1                           0       other   \n",
       "\n",
       "      device_info_v4  \n",
       "71476          other  \n",
       "27618          other  "
      ]
     },
     "execution_count": 32,
     "metadata": {},
     "output_type": "execute_result"
    }
   ],
   "source": [
    "df.sample(2)"
   ]
  },
  {
   "cell_type": "markdown",
   "id": "fe13b6c3-d1de-4965-9759-a4d83ec54721",
   "metadata": {},
   "source": [
    "# 5.0 Output"
   ]
  },
  {
   "cell_type": "code",
   "execution_count": 33,
   "id": "780b7697-ef48-4661-820c-9bd57b911710",
   "metadata": {},
   "outputs": [],
   "source": [
    "df.to_pickle('../../../data_lake/output/train_eng.pkl')\n",
    "val.to_pickle('../../../data_lake/output/val_eng.pkl')"
   ]
  },
  {
   "cell_type": "code",
   "execution_count": null,
   "id": "f7f175f4-c792-4562-9119-c03a8199e65e",
   "metadata": {},
   "outputs": [],
   "source": []
  }
 ],
 "metadata": {
  "kernelspec": {
   "display_name": "Python 3",
   "language": "python",
   "name": "python3"
  },
  "language_info": {
   "codemirror_mode": {
    "name": "ipython",
    "version": 3
   },
   "file_extension": ".py",
   "mimetype": "text/x-python",
   "name": "python",
   "nbconvert_exporter": "python",
   "pygments_lexer": "ipython3",
   "version": "3.9.2"
  }
 },
 "nbformat": 4,
 "nbformat_minor": 5
}
