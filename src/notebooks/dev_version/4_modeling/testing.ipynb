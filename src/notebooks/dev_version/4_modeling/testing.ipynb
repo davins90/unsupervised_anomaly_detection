{
 "cells": [
  {
   "cell_type": "code",
   "execution_count": 1,
   "id": "7bdce6db-c090-4a40-bf9f-ef8b291734df",
   "metadata": {},
   "outputs": [],
   "source": [
    "import sys\n",
    "sys.path.append('../../')"
   ]
  },
  {
   "cell_type": "code",
   "execution_count": 2,
   "id": "dbaaaee9-e900-460d-b2d2-2a05226ba461",
   "metadata": {},
   "outputs": [],
   "source": [
    "import pandas as pd\n",
    "import numpy as np\n",
    "import pickle\n",
    "import joblib\n",
    "import matplotlib.pyplot as plt\n",
    "\n",
    "from modules import machine_learning_utils as mlu\n",
    "\n",
    "pd.set_option(\"display.max_rows\",None)\n",
    "pd.set_option(\"display.max_columns\",None)"
   ]
  },
  {
   "cell_type": "markdown",
   "id": "fd35e0cb-9d92-420d-a483-85f91a8e97ef",
   "metadata": {},
   "source": [
    "# 1.0 Data retrieval"
   ]
  },
  {
   "cell_type": "code",
   "execution_count": 3,
   "id": "719be4e8-997b-4dc9-9d7b-4665362fbbac",
   "metadata": {},
   "outputs": [],
   "source": [
    "df = pd.read_pickle(\"../../data_lake/output/test.pkl\")"
   ]
  },
  {
   "cell_type": "code",
   "execution_count": 4,
   "id": "21e4b1ed-a1d7-47ac-800f-b8b598a55124",
   "metadata": {},
   "outputs": [],
   "source": [
    "model = joblib.load('../../data_lake/output/trained_model_v1.pkl')"
   ]
  },
  {
   "cell_type": "code",
   "execution_count": 5,
   "id": "9ec09ec7-fa0a-4b95-b955-c42805696a16",
   "metadata": {},
   "outputs": [],
   "source": [
    "scaler = joblib.load('../../data_lake/output/log_scaler_bi.pkl')"
   ]
  },
  {
   "cell_type": "markdown",
   "id": "512e6783-ce5f-428a-beda-abfe4fcd2faa",
   "metadata": {},
   "source": [
    "# 2.0 Feature engineering"
   ]
  },
  {
   "cell_type": "code",
   "execution_count": 7,
   "id": "53551f90-d766-41e3-b0d0-829bd372c39c",
   "metadata": {},
   "outputs": [],
   "source": [
    "df = mlu.features_eng(df,'anomaly')"
   ]
  },
  {
   "cell_type": "markdown",
   "id": "5fdcf315-d0c2-4c53-ba13-db36d30def28",
   "metadata": {},
   "source": [
    "# 3.0 Model testing"
   ]
  },
  {
   "cell_type": "code",
   "execution_count": 8,
   "id": "68795ff1-983e-44b5-8ecc-84e783388124",
   "metadata": {},
   "outputs": [],
   "source": [
    "cols = ['card1', 'card2', 'card3','card5','M4', 'id_21', 'id_22', 'id_23', 'id_24', 'id_25',\n",
    "       'id_26', 'id_27', 'id_28', 'id_29', 'id_30', 'id_32', 'id_33', 'id_34',\n",
    "       'id_35', 'id_36', 'id_37', 'id_38','num_transaction_per_time']"
   ]
  },
  {
   "cell_type": "code",
   "execution_count": 9,
   "id": "2de1a5a0-c5e3-4384-b02b-7606927a26d0",
   "metadata": {},
   "outputs": [],
   "source": [
    "df = df.drop(columns=cols)"
   ]
  },
  {
   "cell_type": "code",
   "execution_count": 10,
   "id": "a4c147d6-f911-43f7-a16f-8bd70ea6ed0f",
   "metadata": {},
   "outputs": [],
   "source": [
    "for i in df:\n",
    "    if df[i].dtypes == 'object':\n",
    "        df[i] = df[i].astype(str)"
   ]
  },
  {
   "cell_type": "code",
   "execution_count": 11,
   "id": "4d89dcaf-7861-4668-aae2-671ac7a645b2",
   "metadata": {},
   "outputs": [],
   "source": [
    "X_test = df.drop(columns='isFraud')\n",
    "y_test = df['isFraud'].astype(float)"
   ]
  },
  {
   "cell_type": "code",
   "execution_count": 12,
   "id": "c68af6ba-430c-4eff-bc4e-f57d4ae98433",
   "metadata": {},
   "outputs": [
    {
     "name": "stdout",
     "output_type": "stream",
     "text": [
      "Test results...\n",
      "Model Test Recall: 0.8633578431372549\n",
      "--------------------------------------------------\n",
      "Model Test Confusion Matrix\n",
      "Classification report : \n",
      "               precision    recall  f1-score   support\n",
      "\n",
      "         0.0       0.99      0.85      0.91     20003\n",
      "         1.0       0.32      0.86      0.46      1632\n",
      "\n",
      "    accuracy                           0.85     21635\n",
      "   macro avg       0.65      0.86      0.69     21635\n",
      "weighted avg       0.94      0.85      0.88     21635\n",
      "\n",
      "ProductCD: 0.3204076362998419\n",
      "TransactionAmt: 0.14343000107184956\n",
      "card4: 0.13104672782140595\n",
      "P_emaildomain: 0.025223769402368465\n",
      "addr2: 0.012033488338027181\n",
      "multi_transaction_per_time: 0.006267940261555033\n",
      "R_emaildomain: 0.0051341140250081435\n",
      "device_info_v4: 0.00510613494903186\n",
      "DeviceType: 0.003658257210281853\n",
      "max_d: 0.002309863815483917\n",
      "max_c: 0.0014520695771733966\n",
      "card6: 0.0010054128432358431\n",
      "addr1: 3.549110105942713e-05\n",
      "browser_enc: 2.5990696714438614e-05\n"
     ]
    },
    {
     "data": {
      "text/plain": [
       "Pipeline(steps=[('preprocessor',\n",
       "                 ColumnTransformer(transformers=[('numerical_preprocessor',\n",
       "                                                  Pipeline(steps=[('imputer',\n",
       "                                                                   IterativeImputer(add_indicator=True,\n",
       "                                                                                    estimator=ExtraTreesRegressor(n_estimators=5,\n",
       "                                                                                                                  random_state=1),\n",
       "                                                                                    random_state=1)),\n",
       "                                                                  ('scaler',\n",
       "                                                                   FunctionTransformer(func=<function log_transform at 0x7f648f5754c0>))]),\n",
       "                                                  Index(['TransactionAmt', 'max_c', 'max_d',...\n",
       "                                                                  ('label_enc',\n",
       "                                                                   OneHotEncoder(handle_unknown='ignore'))]),\n",
       "                                                  Index(['ProductCD', 'card4', 'card6', 'addr1', 'addr2', 'P_emaildomain',\n",
       "       'R_emaildomain', 'DeviceType', 'browser_enc', 'device_info_v4'],\n",
       "      dtype='object'))])),\n",
       "                ('model',\n",
       "                 GradientBoostingClassifier(max_depth=8, max_features='auto',\n",
       "                                            min_samples_leaf=3,\n",
       "                                            n_estimators=500,\n",
       "                                            n_iter_no_change=25, random_state=0,\n",
       "                                            warm_start=True))])"
      ]
     },
     "execution_count": 12,
     "metadata": {},
     "output_type": "execute_result"
    },
    {
     "data": {
      "image/png": "[encoded data removed]",
      "text/plain": [
       "<Figure size 432x288 with 2 Axes>"
      ]
     },
     "metadata": {
      "needs_background": "light"
     },
     "output_type": "display_data"
    }
   ],
   "source": [
    "mlu.model_evaluation(model, X_test, y_test)"
   ]
  },
  {
   "cell_type": "markdown",
   "id": "a9142ec1-f20f-4a88-95dd-19a07e167837",
   "metadata": {},
   "source": [
    "## 3.1 ML Model score"
   ]
  },
  {
   "cell_type": "code",
   "execution_count": 13,
   "id": "73bf6867-d512-4a11-b566-0703ce142e29",
   "metadata": {},
   "outputs": [],
   "source": [
    "df['probability_score'] = model.predict_proba(X_test)[:,1]"
   ]
  },
  {
   "cell_type": "code",
   "execution_count": null,
   "id": "b39c3b88-3ed7-4e96-a171-3d0423d180de",
   "metadata": {},
   "outputs": [
    {
     "data": {
      "text/plain": [
       "<AxesSubplot:>"
      ]
     },
     "execution_count": 14,
     "metadata": {},
     "output_type": "execute_result"
    },
    {
     "data": {
      "image/png": "[encoded data removed]",
      "text/plain": [
       "<Figure size 432x288 with 1 Axes>"
      ]
     },
     "metadata": {
      "needs_background": "light"
     },
     "output_type": "display_data"
    }
   ],
   "source": [
    "df['probability_score'].hist()"
   ]
  },
  {
   "cell_type": "markdown",
   "id": "6876acda-da9e-48a2-8e4b-abddc3157732",
   "metadata": {},
   "source": [
    "## 3.2 HK Model score"
   ]
  },
  {
   "cell_type": "code",
   "execution_count": 15,
   "id": "a7c94d6f-edca-4adf-b7bd-13fe2899db7a",
   "metadata": {},
   "outputs": [],
   "source": [
    "df = mlu.log_beta_transform(df,scaler,'max_c','max_d')"
   ]
  },
  {
   "cell_type": "code",
   "execution_count": 16,
   "id": "e920d022-96aa-4057-8849-e724335af38c",
   "metadata": {},
   "outputs": [],
   "source": [
    "df = mlu.warning_score(df)"
   ]
  },
  {
   "cell_type": "code",
   "execution_count": 18,
   "id": "7f079d71-530c-4d3d-b83f-7ce76b261fe3",
   "metadata": {},
   "outputs": [
    {
     "data": {
      "text/plain": [
       "<AxesSubplot:>"
      ]
     },
     "execution_count": 18,
     "metadata": {},
     "output_type": "execute_result"
    },
    {
     "data": {
      "image/png": "[encoded data removed]",
      "text/plain": [
       "<Figure size 432x288 with 1 Axes>"
      ]
     },
     "metadata": {
      "needs_background": "light"
     },
     "output_type": "display_data"
    }
   ],
   "source": [
    "df['warning_score'].hist()"
   ]
  },
  {
   "cell_type": "markdown",
   "id": "8defd002-73c9-41bd-8b67-712519a4b39f",
   "metadata": {},
   "source": [
    "## 3.3 Final model score"
   ]
  },
  {
   "cell_type": "code",
   "execution_count": 20,
   "id": "aa1bc18a-f18c-4f47-ba94-c1b346dcf0d3",
   "metadata": {},
   "outputs": [],
   "source": [
    "df['final_score'] = df.apply(lambda x: mlu.beta_fusion(x['probability_score'],x['warning_score'],0.6),axis=1)"
   ]
  },
  {
   "cell_type": "code",
   "execution_count": 21,
   "id": "3f5e9f88-67d2-4ecc-ae48-7250377f8447",
   "metadata": {},
   "outputs": [
    {
     "data": {
      "text/plain": [
       "<AxesSubplot:>"
      ]
     },
     "execution_count": 21,
     "metadata": {},
     "output_type": "execute_result"
    },
    {
     "data": {
      "image/png": "[encoded data removed]",
      "text/plain": [
       "<Figure size 432x288 with 1 Axes>"
      ]
     },
     "metadata": {
      "needs_background": "light"
     },
     "output_type": "display_data"
    }
   ],
   "source": [
    "df['final_score'].hist()"
   ]
  },
  {
   "cell_type": "code",
   "execution_count": 30,
   "id": "53f2ef88-d6fb-417f-8560-577d0f1fa56d",
   "metadata": {},
   "outputs": [
    {
     "data": {
      "text/html": [
       "<div>\n",
       "<style scoped>\n",
       "    .dataframe tbody tr th:only-of-type {\n",
       "        vertical-align: middle;\n",
       "    }\n",
       "\n",
       "    .dataframe tbody tr th {\n",
       "        vertical-align: top;\n",
       "    }\n",
       "\n",
       "    .dataframe thead th {\n",
       "        text-align: right;\n",
       "    }\n",
       "</style>\n",
       "<table border=\"1\" class=\"dataframe\">\n",
       "  <thead>\n",
       "    <tr style=\"text-align: right;\">\n",
       "      <th></th>\n",
       "      <th>isFraud</th>\n",
       "      <th>TransactionAmt</th>\n",
       "      <th>ProductCD</th>\n",
       "      <th>card4</th>\n",
       "      <th>card6</th>\n",
       "      <th>addr1</th>\n",
       "      <th>addr2</th>\n",
       "      <th>P_emaildomain</th>\n",
       "      <th>R_emaildomain</th>\n",
       "      <th>DeviceType</th>\n",
       "      <th>max_c</th>\n",
       "      <th>max_d</th>\n",
       "      <th>multi_transaction_per_time</th>\n",
       "      <th>browser_enc</th>\n",
       "      <th>device_info_v4</th>\n",
       "      <th>probability_score</th>\n",
       "      <th>warning_score</th>\n",
       "      <th>final_score</th>\n",
       "    </tr>\n",
       "  </thead>\n",
       "  <tbody>\n",
       "    <tr>\n",
       "      <th>78534</th>\n",
       "      <td>1</td>\n",
       "      <td>20.785</td>\n",
       "      <td>C</td>\n",
       "      <td>visa</td>\n",
       "      <td>credit</td>\n",
       "      <td>nan</td>\n",
       "      <td>nan</td>\n",
       "      <td>anonymous.com</td>\n",
       "      <td>anonymous.com</td>\n",
       "      <td>mobile</td>\n",
       "      <td>1.0</td>\n",
       "      <td>317.0</td>\n",
       "      <td>0</td>\n",
       "      <td>chrome</td>\n",
       "      <td>huawei</td>\n",
       "      <td>0.983515</td>\n",
       "      <td>0.404458</td>\n",
       "      <td>0.726703</td>\n",
       "    </tr>\n",
       "  </tbody>\n",
       "</table>\n",
       "</div>"
      ],
      "text/plain": [
       "      isFraud  TransactionAmt ProductCD card4   card6 addr1 addr2  \\\n",
       "78534       1          20.785         C  visa  credit   nan   nan   \n",
       "\n",
       "       P_emaildomain  R_emaildomain DeviceType  max_c  max_d  \\\n",
       "78534  anonymous.com  anonymous.com     mobile    1.0  317.0   \n",
       "\n",
       "       multi_transaction_per_time browser_enc device_info_v4  \\\n",
       "78534                           0      chrome         huawei   \n",
       "\n",
       "       probability_score  warning_score  final_score  \n",
       "78534           0.983515       0.404458     0.726703  "
      ]
     },
     "execution_count": 30,
     "metadata": {},
     "output_type": "execute_result"
    }
   ],
   "source": [
    "df.sample(1)"
   ]
  },
  {
   "cell_type": "code",
   "execution_count": null,
   "id": "fa1e1b75-097c-4c69-9146-b4c5e652e6a4",
   "metadata": {},
   "outputs": [],
   "source": []
  }
 ],
 "metadata": {
  "kernelspec": {
   "display_name": "dev",
   "language": "python",
   "name": "dev"
  },
  "language_info": {
   "codemirror_mode": {
    "name": "ipython",
    "version": 3
   },
   "file_extension": ".py",
   "mimetype": "text/x-python",
   "name": "python",
   "nbconvert_exporter": "python",
   "pygments_lexer": "ipython3",
   "version": "3.8.16"
  }
 },
 "nbformat": 4,
 "nbformat_minor": 5
}
