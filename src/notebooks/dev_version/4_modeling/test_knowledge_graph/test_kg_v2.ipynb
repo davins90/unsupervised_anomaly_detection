{
 "cells": [
  {
   "cell_type": "code",
   "execution_count": 210,
   "id": "b6a891a0-ab48-40c4-a798-e5fa19856332",
   "metadata": {},
   "outputs": [],
   "source": [
    "# pip install pyvis"
   ]
  },
  {
   "cell_type": "code",
   "execution_count": 211,
   "id": "09cae721-271e-469e-80c6-565dc79c7f3a",
   "metadata": {},
   "outputs": [],
   "source": [
    "import pandas as pd\n",
    "import numpy as np\n",
    "import networkx as nx\n",
    "import matplotlib.pyplot as plt\n",
    "\n",
    "from pyvis import network as net\n",
    "from pyvis.network import Network\n",
    "\n",
    "pd.set_option(\"display.max_rows\",None)\n",
    "pd.set_option(\"display.max_columns\",None)"
   ]
  },
  {
   "cell_type": "code",
   "execution_count": 212,
   "id": "755219fe-35f1-41fd-8106-a78fea4b42f2",
   "metadata": {},
   "outputs": [],
   "source": [
    "def features_eng(df, version):\n",
    "    \"\"\"\n",
    "    \n",
    "    \"\"\"\n",
    "    if version == 'clustering':\n",
    "        df = df.drop(columns=['dist2','TransactionID'])\n",
    "    elif version == 'anomaly':\n",
    "        df = df.drop(columns=['dist2','customer_id','TransactionID'])\n",
    "    elif version == 'network':\n",
    "        df = df.drop(columns=['dist2'])\n",
    "    df = df.rename(columns={'id_31':'browser'})\n",
    "    df['P_emaildomain'] = df['P_emaildomain'].mask(df['P_emaildomain']=='gmail','gmail.com')\n",
    "    df['R_emaildomain'] = df['R_emaildomain'].mask(df['R_emaildomain']=='gmail','gmail.com')\n",
    "    df['id_30'] = df['id_30'].replace(\" \",\"_\",regex=True)\n",
    "    df['id_30'] = df['id_30'].str.replace(\".\",\"_\",regex=False)\n",
    "    df['browser'] = df['browser'].mask(df['browser'].str.contains('SM') | df['browser'].str.contains('ZTE'),'other')\n",
    "    df['browser'] = df['browser'].astype(str)\n",
    "    df['browser_enc'] = 'other'\n",
    "    df['browser_enc'] = df['browser_enc'].mask(df['browser'].str.contains('ie'),'ie')\n",
    "    df['browser_enc'] = df['browser_enc'].mask(df['browser'].str.contains('safari'),'safari')\n",
    "    df['browser_enc'] = df['browser_enc'].mask(df['browser'].str.contains('edge'),'edge')\n",
    "    df['browser_enc'] = df['browser_enc'].mask(df['browser'].str.contains('firefox'),'firefox')\n",
    "    df['browser_enc'] = df['browser_enc'].mask(df['browser'].str.contains('android'),'android')\n",
    "    df['browser_enc'] = df['browser_enc'].mask(df['browser'].str.contains('Android'),'android')\n",
    "    df['browser_enc'] = df['browser_enc'].mask(df['browser'].str.contains('chrome'),'chrome')\n",
    "    df['browser_enc'] = df['browser_enc'].mask(df['browser'].str.contains('opera'),'opera')\n",
    "    df['browser_enc'] = df['browser_enc'].mask(df['browser'].str.contains('google'),'chrome')\n",
    "    df['browser_enc'] = df['browser_enc'].mask(df['browser'].str.contains('samsung'),'android')\n",
    "    df['DeviceType'] = df['DeviceType'].mask(df['browser']== 'ie 11.0 for tablet','tablet')\n",
    "    df = df.drop(columns='browser')\n",
    "    df['device_info'] = df['DeviceInfo'].replace(\"-\",\"_\",regex=True)\n",
    "    df['device_info2'] = df['device_info'].replace(\" \",\"_\",regex=True)\n",
    "    df['device_info'] = df['DeviceInfo'].replace(\"-\",\"_\",regex=True)\n",
    "    df['device_info2'] = df['device_info'].replace(\" \",\"_\",regex=True)\n",
    "    df['device_info3'] = df['device_info2'].str.split(\"_\").str[0]\n",
    "    df['device_info3'] = df['device_info3'].str.lower()\n",
    "    df['device_info_v4'] = 'other'\n",
    "    df['device_info_v4'] = df['device_info_v4'].mask(((df['device_info3']=='windows') | (df['device_info3']=='microsoft') | (df['device_info3']=='trident/7.0')),'windows')\n",
    "    df['device_info_v4'] = df['device_info_v4'].mask(((df['device_info3']=='ios') | (df['device_info3']=='iphone')),'ios')\n",
    "    df['device_info_v4'] = df['device_info_v4'].mask(df['device_info3']=='macos','ios')\n",
    "    df['device_info_v4'] = df['device_info_v4'].mask(df['device_info3']=='blade','blade')\n",
    "    df['device_info_v4'] = df['device_info_v4'].mask(df['device_info3']=='lenovo','lenovo')\n",
    "    df['device_info_v4'] = df['device_info_v4'].mask(df['device_info3']=='redmi','redmi')\n",
    "    df['device_info_v4'] = df['device_info_v4'].mask(df['device_info3']=='pixel','pixel')\n",
    "    df['device_info_v4'] = df['device_info_v4'].mask(df['device_info3']=='android','android')\n",
    "    df['device_info_v4'] = df['device_info_v4'].mask(df['device_info3']=='macos','ios')\n",
    "    df['device_info_v4'] = df['device_info_v4'].mask(df['device_info3']=='alcatel','alcatel')\n",
    "    df['device_info_v4'] = df['device_info_v4'].mask(df['device_info3']=='nokia','nokia')\n",
    "    df['device_info_v4'] = df['device_info_v4'].mask(df['device_info3']=='asus','asus')\n",
    "    df['device_info_v4'] = df['device_info_v4'].mask(df['device_info3']=='oneplus','oneplus')\n",
    "    df['device_info_v4'] = df['device_info_v4'].mask(df['device_info3']=='zte','zte')\n",
    "    df['device_info_v4'] = df['device_info_v4'].mask(df['device_info3']=='macos','ios')\n",
    "    df['device_info_v4'] = df['device_info_v4'].mask(df['device_info3']=='hisense','hisense')\n",
    "    df['device_info_v4'] = df['device_info_v4'].mask(df['device_info3']=='linux','linux')\n",
    "    df['device_info_v4'] = df['device_info_v4'].mask((df['device_info3'].str.contains(\"lg\") | (df['device_info3'].str.contains(\"nexus\"))),'lg')\n",
    "    df['device_info_v4'] = df['device_info_v4'].mask(((df['device_info3'].str.contains(\"huawei\")) | (df['device_info3'].str.contains(\"hi6210sft\"))),'huawei')\n",
    "    df['device_info_v4'] = df['device_info_v4'].mask(((df['device_info3']=='motog3') |(df['device_info3']=='moto')),'moto')\n",
    "    df['device_info_v4'] = df['device_info_v4'].mask(((df['device_info3']=='sm') |(df['device_info3']=='samsung')),'samsung')\n",
    "    df = df.drop(columns=['device_info','device_info2','device_info3','DeviceInfo'])\n",
    "    return df"
   ]
  },
  {
   "cell_type": "code",
   "execution_count": 213,
   "id": "1bf7e7fb-f49c-4cf1-a315-5b137303714e",
   "metadata": {},
   "outputs": [],
   "source": [
    "df = pd.read_pickle(\"../../../data_lake/output_prod/df_under.pkl\")"
   ]
  },
  {
   "cell_type": "code",
   "execution_count": 214,
   "id": "1bfa26c7-629e-4d6e-b361-d94c8fbefbce",
   "metadata": {},
   "outputs": [],
   "source": [
    "# df[df['customer_id']=='184']"
   ]
  },
  {
   "cell_type": "code",
   "execution_count": 215,
   "id": "cee3f44a-f8a8-46ea-ab89-74975307e23d",
   "metadata": {},
   "outputs": [],
   "source": [
    "df = features_eng(df,'network')"
   ]
  },
  {
   "cell_type": "code",
   "execution_count": 216,
   "id": "4cf2f628-89d0-4aed-9fed-dcb750330e95",
   "metadata": {},
   "outputs": [],
   "source": [
    "df = df[['customer_id','TransactionID','TransactionAmt','DeviceType','device_info_v4','browser_enc','ProductCD','isFraud']]"
   ]
  },
  {
   "cell_type": "code",
   "execution_count": 217,
   "id": "6ee71582-6baa-40d2-a2eb-c0658f53a2ea",
   "metadata": {},
   "outputs": [],
   "source": [
    "df = df.dropna(axis=0)"
   ]
  },
  {
   "cell_type": "code",
   "execution_count": 218,
   "id": "411d6f3a-cddd-493b-8ce6-b55559ee97dd",
   "metadata": {},
   "outputs": [],
   "source": [
    "df = df.sample(frac=0.001,random_state=3)"
   ]
  },
  {
   "cell_type": "code",
   "execution_count": 219,
   "id": "b2830502-2718-4526-89f5-6b22e40eafcf",
   "metadata": {},
   "outputs": [
    {
     "data": {
      "text/plain": [
       "0    131\n",
       "1     10\n",
       "Name: isFraud, dtype: int64"
      ]
     },
     "execution_count": 219,
     "metadata": {},
     "output_type": "execute_result"
    }
   ],
   "source": [
    "df['isFraud'].value_counts()"
   ]
  },
  {
   "cell_type": "code",
   "execution_count": 220,
   "id": "a4da1884-0c2e-4d88-91fc-0ec1dcdb857a",
   "metadata": {},
   "outputs": [],
   "source": [
    "for i in df:\n",
    "    if i != 'TransactionAmt':\n",
    "        df[i] = df[i].astype(str)"
   ]
  },
  {
   "cell_type": "code",
   "execution_count": 221,
   "id": "8f7e338f-bc1a-4c0e-b4f4-a22b9fa3d7b2",
   "metadata": {},
   "outputs": [],
   "source": [
    "rel1 = ['customer_id','TransactionID','has done']\n",
    "rel2 = ['TransactionID','ProductCD','using']\n",
    "rel3 = ['ProductCD','DeviceType','on']\n",
    "rel4 = ['TransactionID','DeviceType','by']\n",
    "rel5 = ['TransactionID','browser_enc','with']"
   ]
  },
  {
   "cell_type": "code",
   "execution_count": 222,
   "id": "842a8502-713d-4212-ab27-957f5558ab15",
   "metadata": {},
   "outputs": [],
   "source": [
    "# rel1 = ['customer_id','TransactionID','has done']\n",
    "# rel2 = ['TransactionID','browser_enc','using']\n",
    "# rel3 = ['customer_id','device_info_v4','on']\n",
    "# rel4 = ['browser_enc','DeviceType','with']"
   ]
  },
  {
   "cell_type": "code",
   "execution_count": 223,
   "id": "4d8e3310-c5cc-47cf-9723-dac9411745e7",
   "metadata": {},
   "outputs": [],
   "source": [
    "# rel1 = ['customer_id','TransactionID','has done']\n",
    "# rel2 = ['TransactionID','browser_enc','using']\n",
    "# rel3 = ['browser_enc','device_info_v4','on']\n",
    "# rel4 = ['device_info_v4','DeviceType','with']"
   ]
  },
  {
   "cell_type": "code",
   "execution_count": 224,
   "id": "40ee1179-916a-4db4-921d-c2a35c9c1d5d",
   "metadata": {},
   "outputs": [],
   "source": [
    "# rel1 = ['customer_id','TransactionID','has done']\n",
    "# rel2 = ['TransactionID','DeviceType','using']\n",
    "# rel3 = ['DeviceType','device_info_v4','on']\n",
    "# rel4 = ['device_info_v4','browser_enc','with']"
   ]
  },
  {
   "cell_type": "code",
   "execution_count": 225,
   "id": "12ae60b5-9a11-4e93-ac00-45c22a94602b",
   "metadata": {},
   "outputs": [],
   "source": [
    "# rel1 = ['customer_id','DeviceType','using']\n",
    "# rel2 = ['DeviceType','device_info_v4','on']\n",
    "# rel3 = ['device_info_v4','browser_enc','with']\n",
    "# rel4 = ['browser_enc','TransactionID','has done']"
   ]
  },
  {
   "cell_type": "code",
   "execution_count": 226,
   "id": "143a7911-e7a5-42c6-b700-4703fba75c4f",
   "metadata": {},
   "outputs": [],
   "source": [
    "# rel1 = ['customer_id','DeviceType','using']\n",
    "# rel2 = ['DeviceType','device_info_v4','on']\n",
    "# rel3 = ['device_info_v4','browser_enc','with']\n",
    "# rel4 = ['customer_id','TransactionID','has done'] # ok"
   ]
  },
  {
   "cell_type": "code",
   "execution_count": 227,
   "id": "614ba5cb-6f96-47b6-9a64-406679053fd1",
   "metadata": {},
   "outputs": [],
   "source": [
    "rels = [rel1,rel2,rel3,rel4,rel5]"
   ]
  },
  {
   "cell_type": "code",
   "execution_count": 228,
   "id": "1aee8f3b-de37-4e47-b4be-01545eb1e3da",
   "metadata": {},
   "outputs": [],
   "source": [
    "# rels = [rel1,rel2,rel3,rel4]"
   ]
  },
  {
   "cell_type": "code",
   "execution_count": 229,
   "id": "869f21c1-ae26-4787-a554-133242e57878",
   "metadata": {},
   "outputs": [],
   "source": [
    "# rels = [rel4]"
   ]
  },
  {
   "cell_type": "code",
   "execution_count": 230,
   "id": "97fe09b4-61a1-4708-82d1-e9ae1514a1fe",
   "metadata": {},
   "outputs": [],
   "source": [
    "dt = dict()\n",
    "for i in range(len(rels)):\n",
    "    dt[i] = dict()\n",
    "    dt[i]['source'] = rels[i][0]\n",
    "    dt[i]['target'] = rels[i][1]\n",
    "    dt[i]['rel'] = rels[i][2]"
   ]
  },
  {
   "cell_type": "code",
   "execution_count": 231,
   "id": "cf7532d8-8fb1-42f5-a578-d09a5c71bd93",
   "metadata": {},
   "outputs": [],
   "source": [
    "db = []"
   ]
  },
  {
   "cell_type": "code",
   "execution_count": 232,
   "id": "77f4cbe8-1a54-4ae4-9e34-1bd0ce8514c1",
   "metadata": {},
   "outputs": [],
   "source": [
    "for i in df.index:\n",
    "    # select one row \n",
    "    row = df.loc[df.index==i]\n",
    "    # create empty dataframe to be filled with info taken from the row selected\n",
    "    gp = pd.DataFrame(columns=['source','target','rel'])\n",
    "    # for loop for taking index and name of the dict of the relationship\n",
    "    for y in dt.keys():\n",
    "        for z in dt[y].keys():\n",
    "            # for the rel value, we need to extract the relatioship value from the dict not from the row of the dataframe! \n",
    "            if z == 'rel':\n",
    "                gp.at[y,z] = dt[y][z]\n",
    "            else:\n",
    "                gp.at[y,z] = row[dt[y][z]][i]\n",
    "    db.append(gp)"
   ]
  },
  {
   "cell_type": "code",
   "execution_count": 233,
   "id": "ed277cea-cf44-4a3a-9ce1-75585d40a3cf",
   "metadata": {},
   "outputs": [
    {
     "data": {
      "text/plain": [
       "(572, 3)"
      ]
     },
     "execution_count": 233,
     "metadata": {},
     "output_type": "execute_result"
    }
   ],
   "source": [
    "final = pd.concat(db)\n",
    "final = final.reset_index().drop(columns='index')\n",
    "final = final.drop_duplicates()\n",
    "final.shape"
   ]
  },
  {
   "cell_type": "markdown",
   "id": "01c04f9e-5406-425e-b0a7-090ac0f45879",
   "metadata": {},
   "source": [
    "Extraction of the fraud only "
   ]
  },
  {
   "cell_type": "code",
   "execution_count": 234,
   "id": "7e9fcc08-6bfe-4ad4-a17e-a1480b75011c",
   "metadata": {},
   "outputs": [],
   "source": [
    "db2 = []"
   ]
  },
  {
   "cell_type": "code",
   "execution_count": 235,
   "id": "b93fc94c-2834-40a0-9d51-2e6812add5d7",
   "metadata": {},
   "outputs": [],
   "source": [
    "df2 = df[df['isFraud']=='1']"
   ]
  },
  {
   "cell_type": "code",
   "execution_count": 236,
   "id": "149a50f7-09ba-4507-8d3c-0e29af3733f0",
   "metadata": {},
   "outputs": [
    {
     "data": {
      "text/plain": [
       "(10, 8)"
      ]
     },
     "execution_count": 236,
     "metadata": {},
     "output_type": "execute_result"
    }
   ],
   "source": [
    "df2.shape"
   ]
  },
  {
   "cell_type": "code",
   "execution_count": 237,
   "id": "9527dd58-408e-4dec-aa4f-0d3fe3a07757",
   "metadata": {},
   "outputs": [],
   "source": [
    "rel5 = ['customer_id','TransactionID','has done']\n",
    "rels = [rel5]\n",
    "dt2 = dict()\n",
    "for i in range(len(rels)):\n",
    "    dt2[i] = dict()\n",
    "    dt2[i]['source'] = rels[i][0]\n",
    "    dt2[i]['target'] = rels[i][1]\n",
    "    dt2[i]['rel'] = rels[i][2]"
   ]
  },
  {
   "cell_type": "code",
   "execution_count": 238,
   "id": "ad69fd62-86a3-44e5-8f6a-3b866bc4639e",
   "metadata": {},
   "outputs": [],
   "source": [
    "for i in df2.index:\n",
    "    # select one row \n",
    "    row2 = df2.loc[df2.index==i]\n",
    "    # create empty dataframe to be filled with info taken from the row selected\n",
    "    gp2 = pd.DataFrame(columns=['source','target','rel'])\n",
    "    # for loop for taking index and name of the dict of the relationship\n",
    "    for y in dt2.keys():\n",
    "        for z in dt2[y].keys():\n",
    "            # for the rel value, we need to extract the relatioship value from the dict not from the row of the dataframe! \n",
    "            if z == 'rel':\n",
    "                gp2.at[y,z] = dt2[y][z]\n",
    "            else:\n",
    "                gp2.at[y,z] = row2[dt2[y][z]][i]\n",
    "    db2.append(gp2)"
   ]
  },
  {
   "cell_type": "code",
   "execution_count": 239,
   "id": "f1718e60-358b-4172-95b1-ff95ffc74ee9",
   "metadata": {},
   "outputs": [
    {
     "data": {
      "text/plain": [
       "(10, 3)"
      ]
     },
     "execution_count": 239,
     "metadata": {},
     "output_type": "execute_result"
    }
   ],
   "source": [
    "final2 = pd.concat(db2)\n",
    "final2 = final2.reset_index().drop(columns='index')\n",
    "final2 = final2.drop_duplicates()\n",
    "final2.shape"
   ]
  },
  {
   "cell_type": "code",
   "execution_count": 240,
   "id": "9c51ca66-1869-4c93-b425-d350684dfe51",
   "metadata": {},
   "outputs": [],
   "source": [
    "net = Network(directed=True,height='900px', width='100%',notebook=False,cdn_resources='in_line',select_menu=True, filter_menu=True)"
   ]
  },
  {
   "cell_type": "code",
   "execution_count": 241,
   "id": "ab905629-e7c3-4e51-a9f3-719baf8d59e2",
   "metadata": {},
   "outputs": [],
   "source": [
    "# net.show_buttons(filter_=['physics'])"
   ]
  },
  {
   "cell_type": "code",
   "execution_count": 242,
   "id": "5e2efac8-3b28-413c-a3ef-6d77535a83c2",
   "metadata": {},
   "outputs": [],
   "source": [
    "nodes = list(pd.unique(final[['source','target']].values.ravel('K')))"
   ]
  },
  {
   "cell_type": "code",
   "execution_count": 243,
   "id": "411970a2-a9b6-4697-bb4a-b19697e89dd3",
   "metadata": {},
   "outputs": [],
   "source": [
    "nodes2 = list(pd.unique(final2[['source','target']].values.ravel('K')))"
   ]
  },
  {
   "cell_type": "code",
   "execution_count": 244,
   "id": "be4f6d6e-074b-4b48-94f8-c233ffed4177",
   "metadata": {},
   "outputs": [],
   "source": [
    "tra = list(df['TransactionID'].unique())"
   ]
  },
  {
   "cell_type": "code",
   "execution_count": 245,
   "id": "faa7e962-ea12-4d10-8d05-59407f6a0758",
   "metadata": {},
   "outputs": [],
   "source": [
    "# for e in nodes:\n",
    "#     if e in nodes2:\n",
    "#         net.add_node(e,color='red')\n",
    "#     else:\n",
    "#         net.add_node(e,color='green')"
   ]
  },
  {
   "cell_type": "code",
   "execution_count": 246,
   "id": "91e466ca-3099-4d64-a36d-948db539bdea",
   "metadata": {},
   "outputs": [],
   "source": [
    "# for e in nodes:\n",
    "#     if e in tra:\n",
    "#         val = df[df['TransactionID']==e]['TransactionAmt'].values[0]\n",
    "#     if e in nodes2:\n",
    "#         net.add_node(e,color='red',value=val)\n",
    "#     else:\n",
    "#         net.add_node(e,color='green',value=val)"
   ]
  },
  {
   "cell_type": "code",
   "execution_count": 247,
   "id": "d9495897-3ce2-440d-ba12-2315670b28f8",
   "metadata": {},
   "outputs": [],
   "source": [
    "for e in nodes:\n",
    "    if e in tra:\n",
    "        val = df[df['TransactionID']==e]['TransactionAmt'].values[0]\n",
    "        if e in nodes2:\n",
    "            net.add_node(e,color='red',value=val)\n",
    "        else:\n",
    "            net.add_node(e,color='green',value=val)\n",
    "    else:\n",
    "        if e in nodes2:\n",
    "            net.add_node(e,color='red')\n",
    "        else:\n",
    "            net.add_node(e,color='green')"
   ]
  },
  {
   "cell_type": "code",
   "execution_count": 248,
   "id": "cf7ab1e5-904f-4ff5-8b1e-d63c849eb9df",
   "metadata": {},
   "outputs": [],
   "source": [
    "for i in final.index:\n",
    "    row = final.loc[final.index==i]\n",
    "    net.add_edge(row['source'].item(),row['target'].item(),title=row['rel'].item(),label=row['rel'].item())"
   ]
  },
  {
   "cell_type": "code",
   "execution_count": 249,
   "id": "b0020ea6-9bca-4314-9650-c68beb17db7f",
   "metadata": {},
   "outputs": [
    {
     "ename": "PermissionError",
     "evalue": "[Errno 1] Operation not permitted: 'bindings'",
     "output_type": "error",
     "traceback": [
      "\u001b[0;31m\u001b[0m",
      "\u001b[0;31mPermissionError\u001b[0mTraceback (most recent call last)",
      "Cell \u001b[0;32mIn[249], line 2\u001b[0m\n\u001b[1;32m      1\u001b[0m \u001b[38;5;66;03m# net.toggle_physics(False)\u001b[39;00m\n\u001b[0;32m----> 2\u001b[0m \u001b[43mnet\u001b[49m\u001b[38;5;241;43m.\u001b[39;49m\u001b[43mshow\u001b[49m\u001b[43m(\u001b[49m\u001b[38;5;124;43m\"\u001b[39;49m\u001b[38;5;124;43mkg_v29_05.html\u001b[39;49m\u001b[38;5;124;43m\"\u001b[39;49m\u001b[43m)\u001b[49m\n",
      "File \u001b[0;32m/opt/conda/lib/python3.9/site-packages/pyvis/network.py:551\u001b[0m, in \u001b[0;36mNetwork.show\u001b[0;34m(self, name, local)\u001b[0m\n\u001b[1;32m    549\u001b[0m     \u001b[38;5;28;01mreturn\u001b[39;00m \u001b[38;5;28mself\u001b[39m\u001b[38;5;241m.\u001b[39mwrite_html(name, local, notebook\u001b[38;5;241m=\u001b[39m\u001b[38;5;28;01mTrue\u001b[39;00m)\n\u001b[1;32m    550\u001b[0m \u001b[38;5;28;01melse\u001b[39;00m:\n\u001b[0;32m--> 551\u001b[0m     \u001b[38;5;28;43mself\u001b[39;49m\u001b[38;5;241;43m.\u001b[39;49m\u001b[43mwrite_html\u001b[49m\u001b[43m(\u001b[49m\u001b[43mname\u001b[49m\u001b[43m,\u001b[49m\u001b[43m \u001b[49m\u001b[43mlocal\u001b[49m\u001b[43m)\u001b[49m\n",
      "File \u001b[0;32m/opt/conda/lib/python3.9/site-packages/pyvis/network.py:533\u001b[0m, in \u001b[0;36mNetwork.write_html\u001b[0;34m(self, name, local, notebook)\u001b[0m\n\u001b[1;32m    531\u001b[0m \u001b[38;5;66;03m# with tempfile.mkdtemp() as tempdir:\u001b[39;00m\n\u001b[1;32m    532\u001b[0m \u001b[38;5;28;01mif\u001b[39;00m os\u001b[38;5;241m.\u001b[39mpath\u001b[38;5;241m.\u001b[39mexists(\u001b[38;5;124mf\u001b[39m\u001b[38;5;124m\"\u001b[39m\u001b[38;5;132;01m{\u001b[39;00mtempdir\u001b[38;5;132;01m}\u001b[39;00m\u001b[38;5;124m/lib\u001b[39m\u001b[38;5;124m\"\u001b[39m):\n\u001b[0;32m--> 533\u001b[0m     \u001b[43mshutil\u001b[49m\u001b[38;5;241;43m.\u001b[39;49m\u001b[43mrmtree\u001b[49m\u001b[43m(\u001b[49m\u001b[38;5;124;43mf\u001b[39;49m\u001b[38;5;124;43m\"\u001b[39;49m\u001b[38;5;132;43;01m{\u001b[39;49;00m\u001b[43mtempdir\u001b[49m\u001b[38;5;132;43;01m}\u001b[39;49;00m\u001b[38;5;124;43m/lib\u001b[39;49m\u001b[38;5;124;43m\"\u001b[39;49m\u001b[43m)\u001b[49m\n\u001b[1;32m    534\u001b[0m shutil\u001b[38;5;241m.\u001b[39mcopytree(\u001b[38;5;124mf\u001b[39m\u001b[38;5;124m\"\u001b[39m\u001b[38;5;132;01m{\u001b[39;00mos\u001b[38;5;241m.\u001b[39mpath\u001b[38;5;241m.\u001b[39mdirname(\u001b[38;5;18m__file__\u001b[39m)\u001b[38;5;132;01m}\u001b[39;00m\u001b[38;5;124m/templates/lib\u001b[39m\u001b[38;5;124m\"\u001b[39m, \u001b[38;5;124mf\u001b[39m\u001b[38;5;124m\"\u001b[39m\u001b[38;5;132;01m{\u001b[39;00mtempdir\u001b[38;5;132;01m}\u001b[39;00m\u001b[38;5;124m/lib\u001b[39m\u001b[38;5;124m\"\u001b[39m)\n\u001b[1;32m    536\u001b[0m \u001b[38;5;28;01mwith\u001b[39;00m \u001b[38;5;28mopen\u001b[39m(\u001b[38;5;124mf\u001b[39m\u001b[38;5;124m\"\u001b[39m\u001b[38;5;132;01m{\u001b[39;00mtempdir\u001b[38;5;132;01m}\u001b[39;00m\u001b[38;5;124m/\u001b[39m\u001b[38;5;132;01m{\u001b[39;00mname\u001b[38;5;132;01m}\u001b[39;00m\u001b[38;5;124m\"\u001b[39m, \u001b[38;5;124m\"\u001b[39m\u001b[38;5;124mw+\u001b[39m\u001b[38;5;124m\"\u001b[39m) \u001b[38;5;28;01mas\u001b[39;00m out:\n",
      "File \u001b[0;32m/opt/conda/lib/python3.9/shutil.py:718\u001b[0m, in \u001b[0;36mrmtree\u001b[0;34m(path, ignore_errors, onerror)\u001b[0m\n\u001b[1;32m    716\u001b[0m \u001b[38;5;28;01mtry\u001b[39;00m:\n\u001b[1;32m    717\u001b[0m     \u001b[38;5;28;01mif\u001b[39;00m os\u001b[38;5;241m.\u001b[39mpath\u001b[38;5;241m.\u001b[39msamestat(orig_st, os\u001b[38;5;241m.\u001b[39mfstat(fd)):\n\u001b[0;32m--> 718\u001b[0m         \u001b[43m_rmtree_safe_fd\u001b[49m\u001b[43m(\u001b[49m\u001b[43mfd\u001b[49m\u001b[43m,\u001b[49m\u001b[43m \u001b[49m\u001b[43mpath\u001b[49m\u001b[43m,\u001b[49m\u001b[43m \u001b[49m\u001b[43monerror\u001b[49m\u001b[43m)\u001b[49m\n\u001b[1;32m    719\u001b[0m         \u001b[38;5;28;01mtry\u001b[39;00m:\n\u001b[1;32m    720\u001b[0m             os\u001b[38;5;241m.\u001b[39mrmdir(path)\n",
      "File \u001b[0;32m/opt/conda/lib/python3.9/shutil.py:659\u001b[0m, in \u001b[0;36m_rmtree_safe_fd\u001b[0;34m(topfd, path, onerror)\u001b[0m\n\u001b[1;32m    657\u001b[0m         os\u001b[38;5;241m.\u001b[39mrmdir(entry\u001b[38;5;241m.\u001b[39mname, dir_fd\u001b[38;5;241m=\u001b[39mtopfd)\n\u001b[1;32m    658\u001b[0m     \u001b[38;5;28;01mexcept\u001b[39;00m \u001b[38;5;167;01mOSError\u001b[39;00m:\n\u001b[0;32m--> 659\u001b[0m         \u001b[43monerror\u001b[49m\u001b[43m(\u001b[49m\u001b[43mos\u001b[49m\u001b[38;5;241;43m.\u001b[39;49m\u001b[43mrmdir\u001b[49m\u001b[43m,\u001b[49m\u001b[43m \u001b[49m\u001b[43mfullname\u001b[49m\u001b[43m,\u001b[49m\u001b[43m \u001b[49m\u001b[43msys\u001b[49m\u001b[38;5;241;43m.\u001b[39;49m\u001b[43mexc_info\u001b[49m\u001b[43m(\u001b[49m\u001b[43m)\u001b[49m\u001b[43m)\u001b[49m\n\u001b[1;32m    660\u001b[0m \u001b[38;5;28;01melse\u001b[39;00m:\n\u001b[1;32m    661\u001b[0m     \u001b[38;5;28;01mtry\u001b[39;00m:\n\u001b[1;32m    662\u001b[0m         \u001b[38;5;66;03m# This can only happen if someone replaces\u001b[39;00m\n\u001b[1;32m    663\u001b[0m         \u001b[38;5;66;03m# a directory with a symlink after the call to\u001b[39;00m\n\u001b[1;32m    664\u001b[0m         \u001b[38;5;66;03m# os.scandir or stat.S_ISDIR above.\u001b[39;00m\n",
      "File \u001b[0;32m/opt/conda/lib/python3.9/shutil.py:657\u001b[0m, in \u001b[0;36m_rmtree_safe_fd\u001b[0;34m(topfd, path, onerror)\u001b[0m\n\u001b[1;32m    655\u001b[0m _rmtree_safe_fd(dirfd, fullname, onerror)\n\u001b[1;32m    656\u001b[0m \u001b[38;5;28;01mtry\u001b[39;00m:\n\u001b[0;32m--> 657\u001b[0m     \u001b[43mos\u001b[49m\u001b[38;5;241;43m.\u001b[39;49m\u001b[43mrmdir\u001b[49m\u001b[43m(\u001b[49m\u001b[43mentry\u001b[49m\u001b[38;5;241;43m.\u001b[39;49m\u001b[43mname\u001b[49m\u001b[43m,\u001b[49m\u001b[43m \u001b[49m\u001b[43mdir_fd\u001b[49m\u001b[38;5;241;43m=\u001b[39;49m\u001b[43mtopfd\u001b[49m\u001b[43m)\u001b[49m\n\u001b[1;32m    658\u001b[0m \u001b[38;5;28;01mexcept\u001b[39;00m \u001b[38;5;167;01mOSError\u001b[39;00m:\n\u001b[1;32m    659\u001b[0m     onerror(os\u001b[38;5;241m.\u001b[39mrmdir, fullname, sys\u001b[38;5;241m.\u001b[39mexc_info())\n",
      "\u001b[0;31mPermissionError\u001b[0m: [Errno 1] Operation not permitted: 'bindings'"
     ]
    }
   ],
   "source": [
    "# net.toggle_physics(False)\n",
    "net.show(\"kg_v29_05.html\")"
   ]
  },
  {
   "cell_type": "code",
   "execution_count": null,
   "id": "1c8361fe-ebac-4502-bd6c-225d9a4c4dd4",
   "metadata": {},
   "outputs": [],
   "source": []
  },
  {
   "cell_type": "code",
   "execution_count": null,
   "id": "5693cdc9-d4ca-489d-a45d-e93a0d3cc2f5",
   "metadata": {},
   "outputs": [],
   "source": []
  },
  {
   "cell_type": "code",
   "execution_count": null,
   "id": "d4089161-5c9c-4698-bc6a-9693f4dcd921",
   "metadata": {},
   "outputs": [],
   "source": []
  },
  {
   "cell_type": "code",
   "execution_count": null,
   "id": "55b789cb-9f2d-41b5-8b55-f5214503340f",
   "metadata": {},
   "outputs": [],
   "source": []
  },
  {
   "cell_type": "code",
   "execution_count": null,
   "id": "8ae48af5-bc78-4d68-ad5d-c2f5e3e297ec",
   "metadata": {},
   "outputs": [],
   "source": []
  },
  {
   "cell_type": "markdown",
   "id": "fcc62e9e-5d96-400d-87ed-7532b4ece6cf",
   "metadata": {},
   "source": [
    "test multi partito "
   ]
  },
  {
   "cell_type": "code",
   "execution_count": 129,
   "id": "96a8a97e-2251-440f-8e72-f7866080d883",
   "metadata": {},
   "outputs": [],
   "source": [
    "cli = list(df['customer_id'].unique())\n",
    "tra = list(df['TransactionID'].unique())\n",
    "dt = list(df['DeviceType'].unique())\n",
    "di = list(df['device_info_v4'].unique())\n",
    "be = list(df['browser_enc'].unique())"
   ]
  },
  {
   "cell_type": "code",
   "execution_count": 53,
   "id": "596391e6-52d2-488b-a730-749a1e5fc563",
   "metadata": {},
   "outputs": [],
   "source": [
    "# g = nx.Graph()"
   ]
  },
  {
   "cell_type": "code",
   "execution_count": 54,
   "id": "0e9887c1-9fc1-45ca-b3e1-070630074c33",
   "metadata": {},
   "outputs": [],
   "source": [
    "# g.add_nodes_from(cli,bipartite=0)\n",
    "# g.add_nodes_from(tra,bipartite=1)\n",
    "# g.add_nodes_from(dt,bipartite=2)\n",
    "# g.add_nodes_from(di,bipartite=3)\n",
    "# g.add_nodes_from(be,bipartite=4)"
   ]
  },
  {
   "cell_type": "code",
   "execution_count": 55,
   "id": "4157ee93-a998-4224-a0cf-bb229b843c05",
   "metadata": {},
   "outputs": [],
   "source": [
    "# [g.add_edges_from(x,y) for x,y in final]"
   ]
  },
  {
   "cell_type": "code",
   "execution_count": 56,
   "id": "0f514884-e83c-45fa-9873-cb5f9d0b3b49",
   "metadata": {},
   "outputs": [],
   "source": [
    "# for x in final.iterrows():\n",
    "#     g.add_edge(x[1].values[0],x[1].values[1])"
   ]
  },
  {
   "cell_type": "code",
   "execution_count": 57,
   "id": "8ff34596-896d-46ef-896d-4514079eab1b",
   "metadata": {},
   "outputs": [],
   "source": [
    "# def position_MultiPartiteGraph( Graph, Parts ):\n",
    "#   # Graph is a networkX Graph object, where the nodes have attribute 'agentType' with part name as a value\n",
    "#   # Parts is a list of names for the parts (to be shown as columns)\n",
    "#   # returns list of dictionaries with keys being networkX Nodes, values being x,y coordinates for plottingxPos = {}\n",
    "#   xPos = {}\n",
    "#   yPos = {}\n",
    "#   for index1, agentType in enumerate(Parts):\n",
    "#      xPos[agentType] = index1\n",
    "#      yPos[agentType] = 0\n",
    "\n",
    "#   pos = {}\n",
    "#   for node, attrDict in Graph.nodes(data=True):\n",
    "#      agentType = attrDict['bipartite']\n",
    "#      # print ('node: %s\\tagentType: %s' % (node, agentType))\n",
    "#      # print ('\\t(x,y): (%d,%d)' % (xPos[agentType], yPos[agentType]))\n",
    "#      pos[node] = (xPos[agentType], yPos[agentType])\n",
    "#      yPos[agentType] += 1\n",
    "\n",
    "#   return pos"
   ]
  },
  {
   "cell_type": "code",
   "execution_count": 58,
   "id": "5a7025e5-a01b-4590-b4b1-6800fb185708",
   "metadata": {},
   "outputs": [],
   "source": [
    "# nx.draw(g,pos=position_MultiPartiteGraph(g, [0,1,2,3,4]))\n",
    "# plt.show()"
   ]
  },
  {
   "cell_type": "code",
   "execution_count": 59,
   "id": "0d3bdeac-3a2b-4949-91c2-fc0f6c2e40e0",
   "metadata": {},
   "outputs": [],
   "source": [
    "# net.from_nx(g)"
   ]
  },
  {
   "cell_type": "code",
   "execution_count": 60,
   "id": "0983d777-23d3-451e-90a2-dbf3bddfc059",
   "metadata": {},
   "outputs": [],
   "source": [
    "# net = Network(directed=False,height='900px', width='100%',notebook=False,cdn_resources='in_line',select_menu=True, filter_menu=True)"
   ]
  },
  {
   "cell_type": "code",
   "execution_count": 61,
   "id": "b9be3def-b74b-4cd7-9170-d7648c38ee31",
   "metadata": {},
   "outputs": [],
   "source": [
    "# net.show(\"kg_v8.html\")"
   ]
  },
  {
   "cell_type": "code",
   "execution_count": 92,
   "id": "dbf720ab-1f8c-40fb-9928-a8868958797c",
   "metadata": {},
   "outputs": [],
   "source": [
    "g = nx.Graph()"
   ]
  },
  {
   "cell_type": "code",
   "execution_count": 93,
   "id": "c4050ce1-c63b-4eb0-bdf3-4efa35183bf3",
   "metadata": {},
   "outputs": [],
   "source": [
    "g.add_nodes_from(cli,bipartite=0)\n",
    "g.add_nodes_from(tra,bipartite=1)\n",
    "g.add_nodes_from(dt,bipartite=2)\n",
    "g.add_nodes_from(di,bipartite=3)\n",
    "g.add_nodes_from(be,bipartite=4)"
   ]
  },
  {
   "cell_type": "code",
   "execution_count": 101,
   "id": "7ea41903-0aa1-42fe-ad1f-844f2354fb57",
   "metadata": {},
   "outputs": [],
   "source": [
    "tuples_list = [(row[1]['source'],row[1]['target']) for row in final.iterrows()]"
   ]
  },
  {
   "cell_type": "code",
   "execution_count": 102,
   "id": "97b2dcce-2020-46e5-9121-e149d29c6f07",
   "metadata": {},
   "outputs": [],
   "source": [
    "# for x in final.iterrows():\n",
    "#     g.add_edge(x[1].values[0],x[1].values[1])"
   ]
  },
  {
   "cell_type": "code",
   "execution_count": 103,
   "id": "aed97126-e416-4fa1-b9c0-dcb0c48eb432",
   "metadata": {},
   "outputs": [],
   "source": [
    "g.add_edges_from(tuples_list)"
   ]
  },
  {
   "cell_type": "code",
   "execution_count": 104,
   "id": "49fd1006-dd40-430b-8f2e-0f0ed34d9167",
   "metadata": {},
   "outputs": [
    {
     "data": {
      "text/plain": [
       "networkx.classes.graph.Graph"
      ]
     },
     "execution_count": 104,
     "metadata": {},
     "output_type": "execute_result"
    }
   ],
   "source": [
    "type(g)"
   ]
  },
  {
   "cell_type": "code",
   "execution_count": 107,
   "id": "50e603ac-224a-4376-80de-383d2bc48889",
   "metadata": {},
   "outputs": [],
   "source": [
    "nt = Network()"
   ]
  },
  {
   "cell_type": "code",
   "execution_count": 108,
   "id": "510ff840-fb79-40e1-9eb9-791c5ea70a27",
   "metadata": {},
   "outputs": [
    {
     "ename": "PermissionError",
     "evalue": "[Errno 1] Operation not permitted: 'bindings'",
     "output_type": "error",
     "traceback": [
      "\u001b[0;31m\u001b[0m",
      "\u001b[0;31mPermissionError\u001b[0mTraceback (most recent call last)",
      "Cell \u001b[0;32mIn[108], line 2\u001b[0m\n\u001b[1;32m      1\u001b[0m nt\u001b[38;5;241m.\u001b[39mfrom_nx(g)\n\u001b[0;32m----> 2\u001b[0m \u001b[43mnt\u001b[49m\u001b[38;5;241;43m.\u001b[39;49m\u001b[43mshow\u001b[49m\u001b[43m(\u001b[49m\u001b[38;5;124;43m\"\u001b[39;49m\u001b[38;5;124;43mnx.html\u001b[39;49m\u001b[38;5;124;43m\"\u001b[39;49m\u001b[43m)\u001b[49m\n",
      "File \u001b[0;32m/opt/conda/lib/python3.9/site-packages/pyvis/network.py:551\u001b[0m, in \u001b[0;36mNetwork.show\u001b[0;34m(self, name, local)\u001b[0m\n\u001b[1;32m    549\u001b[0m     \u001b[38;5;28;01mreturn\u001b[39;00m \u001b[38;5;28mself\u001b[39m\u001b[38;5;241m.\u001b[39mwrite_html(name, local, notebook\u001b[38;5;241m=\u001b[39m\u001b[38;5;28;01mTrue\u001b[39;00m)\n\u001b[1;32m    550\u001b[0m \u001b[38;5;28;01melse\u001b[39;00m:\n\u001b[0;32m--> 551\u001b[0m     \u001b[38;5;28;43mself\u001b[39;49m\u001b[38;5;241;43m.\u001b[39;49m\u001b[43mwrite_html\u001b[49m\u001b[43m(\u001b[49m\u001b[43mname\u001b[49m\u001b[43m,\u001b[49m\u001b[43m \u001b[49m\u001b[43mlocal\u001b[49m\u001b[43m)\u001b[49m\n",
      "File \u001b[0;32m/opt/conda/lib/python3.9/site-packages/pyvis/network.py:533\u001b[0m, in \u001b[0;36mNetwork.write_html\u001b[0;34m(self, name, local, notebook)\u001b[0m\n\u001b[1;32m    531\u001b[0m \u001b[38;5;66;03m# with tempfile.mkdtemp() as tempdir:\u001b[39;00m\n\u001b[1;32m    532\u001b[0m \u001b[38;5;28;01mif\u001b[39;00m os\u001b[38;5;241m.\u001b[39mpath\u001b[38;5;241m.\u001b[39mexists(\u001b[38;5;124mf\u001b[39m\u001b[38;5;124m\"\u001b[39m\u001b[38;5;132;01m{\u001b[39;00mtempdir\u001b[38;5;132;01m}\u001b[39;00m\u001b[38;5;124m/lib\u001b[39m\u001b[38;5;124m\"\u001b[39m):\n\u001b[0;32m--> 533\u001b[0m     \u001b[43mshutil\u001b[49m\u001b[38;5;241;43m.\u001b[39;49m\u001b[43mrmtree\u001b[49m\u001b[43m(\u001b[49m\u001b[38;5;124;43mf\u001b[39;49m\u001b[38;5;124;43m\"\u001b[39;49m\u001b[38;5;132;43;01m{\u001b[39;49;00m\u001b[43mtempdir\u001b[49m\u001b[38;5;132;43;01m}\u001b[39;49;00m\u001b[38;5;124;43m/lib\u001b[39;49m\u001b[38;5;124;43m\"\u001b[39;49m\u001b[43m)\u001b[49m\n\u001b[1;32m    534\u001b[0m shutil\u001b[38;5;241m.\u001b[39mcopytree(\u001b[38;5;124mf\u001b[39m\u001b[38;5;124m\"\u001b[39m\u001b[38;5;132;01m{\u001b[39;00mos\u001b[38;5;241m.\u001b[39mpath\u001b[38;5;241m.\u001b[39mdirname(\u001b[38;5;18m__file__\u001b[39m)\u001b[38;5;132;01m}\u001b[39;00m\u001b[38;5;124m/templates/lib\u001b[39m\u001b[38;5;124m\"\u001b[39m, \u001b[38;5;124mf\u001b[39m\u001b[38;5;124m\"\u001b[39m\u001b[38;5;132;01m{\u001b[39;00mtempdir\u001b[38;5;132;01m}\u001b[39;00m\u001b[38;5;124m/lib\u001b[39m\u001b[38;5;124m\"\u001b[39m)\n\u001b[1;32m    536\u001b[0m \u001b[38;5;28;01mwith\u001b[39;00m \u001b[38;5;28mopen\u001b[39m(\u001b[38;5;124mf\u001b[39m\u001b[38;5;124m\"\u001b[39m\u001b[38;5;132;01m{\u001b[39;00mtempdir\u001b[38;5;132;01m}\u001b[39;00m\u001b[38;5;124m/\u001b[39m\u001b[38;5;132;01m{\u001b[39;00mname\u001b[38;5;132;01m}\u001b[39;00m\u001b[38;5;124m\"\u001b[39m, \u001b[38;5;124m\"\u001b[39m\u001b[38;5;124mw+\u001b[39m\u001b[38;5;124m\"\u001b[39m) \u001b[38;5;28;01mas\u001b[39;00m out:\n",
      "File \u001b[0;32m/opt/conda/lib/python3.9/shutil.py:718\u001b[0m, in \u001b[0;36mrmtree\u001b[0;34m(path, ignore_errors, onerror)\u001b[0m\n\u001b[1;32m    716\u001b[0m \u001b[38;5;28;01mtry\u001b[39;00m:\n\u001b[1;32m    717\u001b[0m     \u001b[38;5;28;01mif\u001b[39;00m os\u001b[38;5;241m.\u001b[39mpath\u001b[38;5;241m.\u001b[39msamestat(orig_st, os\u001b[38;5;241m.\u001b[39mfstat(fd)):\n\u001b[0;32m--> 718\u001b[0m         \u001b[43m_rmtree_safe_fd\u001b[49m\u001b[43m(\u001b[49m\u001b[43mfd\u001b[49m\u001b[43m,\u001b[49m\u001b[43m \u001b[49m\u001b[43mpath\u001b[49m\u001b[43m,\u001b[49m\u001b[43m \u001b[49m\u001b[43monerror\u001b[49m\u001b[43m)\u001b[49m\n\u001b[1;32m    719\u001b[0m         \u001b[38;5;28;01mtry\u001b[39;00m:\n\u001b[1;32m    720\u001b[0m             os\u001b[38;5;241m.\u001b[39mrmdir(path)\n",
      "File \u001b[0;32m/opt/conda/lib/python3.9/shutil.py:659\u001b[0m, in \u001b[0;36m_rmtree_safe_fd\u001b[0;34m(topfd, path, onerror)\u001b[0m\n\u001b[1;32m    657\u001b[0m         os\u001b[38;5;241m.\u001b[39mrmdir(entry\u001b[38;5;241m.\u001b[39mname, dir_fd\u001b[38;5;241m=\u001b[39mtopfd)\n\u001b[1;32m    658\u001b[0m     \u001b[38;5;28;01mexcept\u001b[39;00m \u001b[38;5;167;01mOSError\u001b[39;00m:\n\u001b[0;32m--> 659\u001b[0m         \u001b[43monerror\u001b[49m\u001b[43m(\u001b[49m\u001b[43mos\u001b[49m\u001b[38;5;241;43m.\u001b[39;49m\u001b[43mrmdir\u001b[49m\u001b[43m,\u001b[49m\u001b[43m \u001b[49m\u001b[43mfullname\u001b[49m\u001b[43m,\u001b[49m\u001b[43m \u001b[49m\u001b[43msys\u001b[49m\u001b[38;5;241;43m.\u001b[39;49m\u001b[43mexc_info\u001b[49m\u001b[43m(\u001b[49m\u001b[43m)\u001b[49m\u001b[43m)\u001b[49m\n\u001b[1;32m    660\u001b[0m \u001b[38;5;28;01melse\u001b[39;00m:\n\u001b[1;32m    661\u001b[0m     \u001b[38;5;28;01mtry\u001b[39;00m:\n\u001b[1;32m    662\u001b[0m         \u001b[38;5;66;03m# This can only happen if someone replaces\u001b[39;00m\n\u001b[1;32m    663\u001b[0m         \u001b[38;5;66;03m# a directory with a symlink after the call to\u001b[39;00m\n\u001b[1;32m    664\u001b[0m         \u001b[38;5;66;03m# os.scandir or stat.S_ISDIR above.\u001b[39;00m\n",
      "File \u001b[0;32m/opt/conda/lib/python3.9/shutil.py:657\u001b[0m, in \u001b[0;36m_rmtree_safe_fd\u001b[0;34m(topfd, path, onerror)\u001b[0m\n\u001b[1;32m    655\u001b[0m _rmtree_safe_fd(dirfd, fullname, onerror)\n\u001b[1;32m    656\u001b[0m \u001b[38;5;28;01mtry\u001b[39;00m:\n\u001b[0;32m--> 657\u001b[0m     \u001b[43mos\u001b[49m\u001b[38;5;241;43m.\u001b[39;49m\u001b[43mrmdir\u001b[49m\u001b[43m(\u001b[49m\u001b[43mentry\u001b[49m\u001b[38;5;241;43m.\u001b[39;49m\u001b[43mname\u001b[49m\u001b[43m,\u001b[49m\u001b[43m \u001b[49m\u001b[43mdir_fd\u001b[49m\u001b[38;5;241;43m=\u001b[39;49m\u001b[43mtopfd\u001b[49m\u001b[43m)\u001b[49m\n\u001b[1;32m    658\u001b[0m \u001b[38;5;28;01mexcept\u001b[39;00m \u001b[38;5;167;01mOSError\u001b[39;00m:\n\u001b[1;32m    659\u001b[0m     onerror(os\u001b[38;5;241m.\u001b[39mrmdir, fullname, sys\u001b[38;5;241m.\u001b[39mexc_info())\n",
      "\u001b[0;31mPermissionError\u001b[0m: [Errno 1] Operation not permitted: 'bindings'"
     ]
    }
   ],
   "source": [
    "nt.from_nx(g)\n",
    "nt.show(\"nx.html\")"
   ]
  },
  {
   "cell_type": "markdown",
   "id": "8e55fd77-34d7-45e7-a980-f13d7e4fb8df",
   "metadata": {},
   "source": [
    "Another test"
   ]
  },
  {
   "cell_type": "code",
   "execution_count": 130,
   "id": "0ef727d3-b87c-4fb3-a23e-6c668e750656",
   "metadata": {},
   "outputs": [],
   "source": [
    "for e in nodes:\n",
    "    if e in cli and e in nodes2:\n",
    "        net.add_node(e,color='red',bipartite=0)\n",
    "    else:\n",
    "        net.add_node(e,color='green',bipartite=0)"
   ]
  },
  {
   "cell_type": "code",
   "execution_count": 131,
   "id": "39035913-a2a5-4896-b53d-14b0ce434f68",
   "metadata": {},
   "outputs": [],
   "source": [
    "for e in nodes:\n",
    "    if e in tra and e in nodes2:\n",
    "        net.add_node(e,color='red',bipartite=0)\n",
    "    else:\n",
    "        net.add_node(e,color='green',bipartite=0)"
   ]
  },
  {
   "cell_type": "code",
   "execution_count": 132,
   "id": "585cca65-1c1c-4656-b53f-75b5f3a02c4f",
   "metadata": {},
   "outputs": [],
   "source": [
    "for e in nodes:\n",
    "    if e in dt and e in nodes2:\n",
    "        net.add_node(e,color='red',bipartite=0)\n",
    "    else:\n",
    "        net.add_node(e,color='green',bipartite=0)"
   ]
  },
  {
   "cell_type": "code",
   "execution_count": 133,
   "id": "f68669c5-a27d-4a0a-b44a-bdb424a69a0f",
   "metadata": {},
   "outputs": [],
   "source": [
    "for e in nodes:\n",
    "    if e in di and e in nodes2:\n",
    "        net.add_node(e,color='red',bipartite=0)\n",
    "    else:\n",
    "        net.add_node(e,color='green',bipartite=0)"
   ]
  },
  {
   "cell_type": "code",
   "execution_count": 134,
   "id": "6b400193-6441-40f1-9595-36c6b118dae8",
   "metadata": {},
   "outputs": [],
   "source": [
    "for e in nodes:\n",
    "    if e in be and e in nodes2:\n",
    "        net.add_node(e,color='red',bipartite=0)\n",
    "    else:\n",
    "        net.add_node(e,color='green',bipartite=0)"
   ]
  },
  {
   "cell_type": "code",
   "execution_count": 135,
   "id": "98d1adf1-1fa8-44d4-8768-10739df935b2",
   "metadata": {},
   "outputs": [],
   "source": [
    "for i in final.index:\n",
    "    row = final.loc[final.index==i]\n",
    "    net.add_edge(row['source'].item(),row['target'].item(),title=row['rel'].item(),label=row['rel'].item())"
   ]
  },
  {
   "cell_type": "code",
   "execution_count": 136,
   "id": "4156c1a8-611d-464e-9c28-aca1c7c79641",
   "metadata": {},
   "outputs": [
    {
     "ename": "AttributeError",
     "evalue": "'Network' object has no attribute 'bipartite_layout'",
     "output_type": "error",
     "traceback": [
      "\u001b[0;31m\u001b[0m",
      "\u001b[0;31mAttributeError\u001b[0mTraceback (most recent call last)",
      "Cell \u001b[0;32mIn[136], line 1\u001b[0m\n\u001b[0;32m----> 1\u001b[0m \u001b[43mnet\u001b[49m\u001b[38;5;241;43m.\u001b[39;49m\u001b[43mbipartite_layout\u001b[49m(align\u001b[38;5;241m=\u001b[39m\u001b[38;5;124m'\u001b[39m\u001b[38;5;124mvertical\u001b[39m\u001b[38;5;124m'\u001b[39m,dist\u001b[38;5;241m=\u001b[39m\u001b[38;5;241m2\u001b[39m,orientation\u001b[38;5;241m=\u001b[39m\u001b[38;5;124m'\u001b[39m\u001b[38;5;124mbottom_top\u001b[39m\u001b[38;5;124m'\u001b[39m)\n",
      "\u001b[0;31mAttributeError\u001b[0m: 'Network' object has no attribute 'bipartite_layout'"
     ]
    }
   ],
   "source": [
    "net.bipartite_layout(align='vertical',dist=2,orientation='bottom_top')"
   ]
  },
  {
   "cell_type": "code",
   "execution_count": 121,
   "id": "e7ce8fe7-0738-45b9-b48c-3bc0dbdc47f9",
   "metadata": {},
   "outputs": [
    {
     "ename": "PermissionError",
     "evalue": "[Errno 1] Operation not permitted: 'bindings'",
     "output_type": "error",
     "traceback": [
      "\u001b[0;31m\u001b[0m",
      "\u001b[0;31mPermissionError\u001b[0mTraceback (most recent call last)",
      "Cell \u001b[0;32mIn[121], line 1\u001b[0m\n\u001b[0;32m----> 1\u001b[0m \u001b[43mnet\u001b[49m\u001b[38;5;241;43m.\u001b[39;49m\u001b[43mshow\u001b[49m\u001b[43m(\u001b[49m\u001b[38;5;124;43m\"\u001b[39;49m\u001b[38;5;124;43mkg_v999.html\u001b[39;49m\u001b[38;5;124;43m\"\u001b[39;49m\u001b[43m)\u001b[49m\n",
      "File \u001b[0;32m/opt/conda/lib/python3.9/site-packages/pyvis/network.py:551\u001b[0m, in \u001b[0;36mNetwork.show\u001b[0;34m(self, name, local)\u001b[0m\n\u001b[1;32m    549\u001b[0m     \u001b[38;5;28;01mreturn\u001b[39;00m \u001b[38;5;28mself\u001b[39m\u001b[38;5;241m.\u001b[39mwrite_html(name, local, notebook\u001b[38;5;241m=\u001b[39m\u001b[38;5;28;01mTrue\u001b[39;00m)\n\u001b[1;32m    550\u001b[0m \u001b[38;5;28;01melse\u001b[39;00m:\n\u001b[0;32m--> 551\u001b[0m     \u001b[38;5;28;43mself\u001b[39;49m\u001b[38;5;241;43m.\u001b[39;49m\u001b[43mwrite_html\u001b[49m\u001b[43m(\u001b[49m\u001b[43mname\u001b[49m\u001b[43m,\u001b[49m\u001b[43m \u001b[49m\u001b[43mlocal\u001b[49m\u001b[43m)\u001b[49m\n",
      "File \u001b[0;32m/opt/conda/lib/python3.9/site-packages/pyvis/network.py:533\u001b[0m, in \u001b[0;36mNetwork.write_html\u001b[0;34m(self, name, local, notebook)\u001b[0m\n\u001b[1;32m    531\u001b[0m \u001b[38;5;66;03m# with tempfile.mkdtemp() as tempdir:\u001b[39;00m\n\u001b[1;32m    532\u001b[0m \u001b[38;5;28;01mif\u001b[39;00m os\u001b[38;5;241m.\u001b[39mpath\u001b[38;5;241m.\u001b[39mexists(\u001b[38;5;124mf\u001b[39m\u001b[38;5;124m\"\u001b[39m\u001b[38;5;132;01m{\u001b[39;00mtempdir\u001b[38;5;132;01m}\u001b[39;00m\u001b[38;5;124m/lib\u001b[39m\u001b[38;5;124m\"\u001b[39m):\n\u001b[0;32m--> 533\u001b[0m     \u001b[43mshutil\u001b[49m\u001b[38;5;241;43m.\u001b[39;49m\u001b[43mrmtree\u001b[49m\u001b[43m(\u001b[49m\u001b[38;5;124;43mf\u001b[39;49m\u001b[38;5;124;43m\"\u001b[39;49m\u001b[38;5;132;43;01m{\u001b[39;49;00m\u001b[43mtempdir\u001b[49m\u001b[38;5;132;43;01m}\u001b[39;49;00m\u001b[38;5;124;43m/lib\u001b[39;49m\u001b[38;5;124;43m\"\u001b[39;49m\u001b[43m)\u001b[49m\n\u001b[1;32m    534\u001b[0m shutil\u001b[38;5;241m.\u001b[39mcopytree(\u001b[38;5;124mf\u001b[39m\u001b[38;5;124m\"\u001b[39m\u001b[38;5;132;01m{\u001b[39;00mos\u001b[38;5;241m.\u001b[39mpath\u001b[38;5;241m.\u001b[39mdirname(\u001b[38;5;18m__file__\u001b[39m)\u001b[38;5;132;01m}\u001b[39;00m\u001b[38;5;124m/templates/lib\u001b[39m\u001b[38;5;124m\"\u001b[39m, \u001b[38;5;124mf\u001b[39m\u001b[38;5;124m\"\u001b[39m\u001b[38;5;132;01m{\u001b[39;00mtempdir\u001b[38;5;132;01m}\u001b[39;00m\u001b[38;5;124m/lib\u001b[39m\u001b[38;5;124m\"\u001b[39m)\n\u001b[1;32m    536\u001b[0m \u001b[38;5;28;01mwith\u001b[39;00m \u001b[38;5;28mopen\u001b[39m(\u001b[38;5;124mf\u001b[39m\u001b[38;5;124m\"\u001b[39m\u001b[38;5;132;01m{\u001b[39;00mtempdir\u001b[38;5;132;01m}\u001b[39;00m\u001b[38;5;124m/\u001b[39m\u001b[38;5;132;01m{\u001b[39;00mname\u001b[38;5;132;01m}\u001b[39;00m\u001b[38;5;124m\"\u001b[39m, \u001b[38;5;124m\"\u001b[39m\u001b[38;5;124mw+\u001b[39m\u001b[38;5;124m\"\u001b[39m) \u001b[38;5;28;01mas\u001b[39;00m out:\n",
      "File \u001b[0;32m/opt/conda/lib/python3.9/shutil.py:718\u001b[0m, in \u001b[0;36mrmtree\u001b[0;34m(path, ignore_errors, onerror)\u001b[0m\n\u001b[1;32m    716\u001b[0m \u001b[38;5;28;01mtry\u001b[39;00m:\n\u001b[1;32m    717\u001b[0m     \u001b[38;5;28;01mif\u001b[39;00m os\u001b[38;5;241m.\u001b[39mpath\u001b[38;5;241m.\u001b[39msamestat(orig_st, os\u001b[38;5;241m.\u001b[39mfstat(fd)):\n\u001b[0;32m--> 718\u001b[0m         \u001b[43m_rmtree_safe_fd\u001b[49m\u001b[43m(\u001b[49m\u001b[43mfd\u001b[49m\u001b[43m,\u001b[49m\u001b[43m \u001b[49m\u001b[43mpath\u001b[49m\u001b[43m,\u001b[49m\u001b[43m \u001b[49m\u001b[43monerror\u001b[49m\u001b[43m)\u001b[49m\n\u001b[1;32m    719\u001b[0m         \u001b[38;5;28;01mtry\u001b[39;00m:\n\u001b[1;32m    720\u001b[0m             os\u001b[38;5;241m.\u001b[39mrmdir(path)\n",
      "File \u001b[0;32m/opt/conda/lib/python3.9/shutil.py:659\u001b[0m, in \u001b[0;36m_rmtree_safe_fd\u001b[0;34m(topfd, path, onerror)\u001b[0m\n\u001b[1;32m    657\u001b[0m         os\u001b[38;5;241m.\u001b[39mrmdir(entry\u001b[38;5;241m.\u001b[39mname, dir_fd\u001b[38;5;241m=\u001b[39mtopfd)\n\u001b[1;32m    658\u001b[0m     \u001b[38;5;28;01mexcept\u001b[39;00m \u001b[38;5;167;01mOSError\u001b[39;00m:\n\u001b[0;32m--> 659\u001b[0m         \u001b[43monerror\u001b[49m\u001b[43m(\u001b[49m\u001b[43mos\u001b[49m\u001b[38;5;241;43m.\u001b[39;49m\u001b[43mrmdir\u001b[49m\u001b[43m,\u001b[49m\u001b[43m \u001b[49m\u001b[43mfullname\u001b[49m\u001b[43m,\u001b[49m\u001b[43m \u001b[49m\u001b[43msys\u001b[49m\u001b[38;5;241;43m.\u001b[39;49m\u001b[43mexc_info\u001b[49m\u001b[43m(\u001b[49m\u001b[43m)\u001b[49m\u001b[43m)\u001b[49m\n\u001b[1;32m    660\u001b[0m \u001b[38;5;28;01melse\u001b[39;00m:\n\u001b[1;32m    661\u001b[0m     \u001b[38;5;28;01mtry\u001b[39;00m:\n\u001b[1;32m    662\u001b[0m         \u001b[38;5;66;03m# This can only happen if someone replaces\u001b[39;00m\n\u001b[1;32m    663\u001b[0m         \u001b[38;5;66;03m# a directory with a symlink after the call to\u001b[39;00m\n\u001b[1;32m    664\u001b[0m         \u001b[38;5;66;03m# os.scandir or stat.S_ISDIR above.\u001b[39;00m\n",
      "File \u001b[0;32m/opt/conda/lib/python3.9/shutil.py:657\u001b[0m, in \u001b[0;36m_rmtree_safe_fd\u001b[0;34m(topfd, path, onerror)\u001b[0m\n\u001b[1;32m    655\u001b[0m _rmtree_safe_fd(dirfd, fullname, onerror)\n\u001b[1;32m    656\u001b[0m \u001b[38;5;28;01mtry\u001b[39;00m:\n\u001b[0;32m--> 657\u001b[0m     \u001b[43mos\u001b[49m\u001b[38;5;241;43m.\u001b[39;49m\u001b[43mrmdir\u001b[49m\u001b[43m(\u001b[49m\u001b[43mentry\u001b[49m\u001b[38;5;241;43m.\u001b[39;49m\u001b[43mname\u001b[49m\u001b[43m,\u001b[49m\u001b[43m \u001b[49m\u001b[43mdir_fd\u001b[49m\u001b[38;5;241;43m=\u001b[39;49m\u001b[43mtopfd\u001b[49m\u001b[43m)\u001b[49m\n\u001b[1;32m    658\u001b[0m \u001b[38;5;28;01mexcept\u001b[39;00m \u001b[38;5;167;01mOSError\u001b[39;00m:\n\u001b[1;32m    659\u001b[0m     onerror(os\u001b[38;5;241m.\u001b[39mrmdir, fullname, sys\u001b[38;5;241m.\u001b[39mexc_info())\n",
      "\u001b[0;31mPermissionError\u001b[0m: [Errno 1] Operation not permitted: 'bindings'"
     ]
    }
   ],
   "source": [
    "net.show(\"kg_v999.html\")"
   ]
  }
 ],
 "metadata": {
  "kernelspec": {
   "display_name": "Python 3",
   "language": "python",
   "name": "python3"
  },
  "language_info": {
   "codemirror_mode": {
    "name": "ipython",
    "version": 3
   },
   "file_extension": ".py",
   "mimetype": "text/x-python",
   "name": "python",
   "nbconvert_exporter": "python",
   "pygments_lexer": "ipython3",
   "version": "3.9.2"
  }
 },
 "nbformat": 4,
 "nbformat_minor": 5
}
