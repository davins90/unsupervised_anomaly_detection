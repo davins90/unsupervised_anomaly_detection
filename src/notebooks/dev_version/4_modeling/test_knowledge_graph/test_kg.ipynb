{
 "cells": [
  {
   "cell_type": "code",
   "execution_count": 1,
   "id": "b6a891a0-ab48-40c4-a798-e5fa19856332",
   "metadata": {},
   "outputs": [],
   "source": [
    "# pip install pyvis"
   ]
  },
  {
   "cell_type": "code",
   "execution_count": 2,
   "id": "09cae721-271e-469e-80c6-565dc79c7f3a",
   "metadata": {},
   "outputs": [],
   "source": [
    "import pandas as pd\n",
    "import numpy as np\n",
    "import networkx as nx\n",
    "import matplotlib.pyplot as plt\n",
    "\n",
    "from pyvis import network as net\n",
    "from pyvis.network import Network\n",
    "\n",
    "pd.set_option(\"display.max_rows\",None)\n",
    "pd.set_option(\"display.max_columns\",None)"
   ]
  },
  {
   "cell_type": "code",
   "execution_count": 3,
   "id": "755219fe-35f1-41fd-8106-a78fea4b42f2",
   "metadata": {},
   "outputs": [],
   "source": [
    "def features_eng(df, version):\n",
    "    \"\"\"\n",
    "    \n",
    "    \"\"\"\n",
    "    if version == 'clustering':\n",
    "        df = df.drop(columns=['dist2','TransactionID'])\n",
    "    elif version == 'anomaly':\n",
    "        df = df.drop(columns=['dist2','customer_id','TransactionID'])\n",
    "    elif version == 'network':\n",
    "        df = df.drop(columns=['dist2'])\n",
    "    df = df.rename(columns={'id_31':'browser'})\n",
    "    df['P_emaildomain'] = df['P_emaildomain'].mask(df['P_emaildomain']=='gmail','gmail.com')\n",
    "    df['R_emaildomain'] = df['R_emaildomain'].mask(df['R_emaildomain']=='gmail','gmail.com')\n",
    "    df['id_30'] = df['id_30'].replace(\" \",\"_\",regex=True)\n",
    "    df['id_30'] = df['id_30'].str.replace(\".\",\"_\",regex=False)\n",
    "    df['browser'] = df['browser'].mask(df['browser'].str.contains('SM') | df['browser'].str.contains('ZTE'),'other')\n",
    "    df['browser'] = df['browser'].astype(str)\n",
    "    df['browser_enc'] = 'other'\n",
    "    df['browser_enc'] = df['browser_enc'].mask(df['browser'].str.contains('ie'),'ie')\n",
    "    df['browser_enc'] = df['browser_enc'].mask(df['browser'].str.contains('safari'),'safari')\n",
    "    df['browser_enc'] = df['browser_enc'].mask(df['browser'].str.contains('edge'),'edge')\n",
    "    df['browser_enc'] = df['browser_enc'].mask(df['browser'].str.contains('firefox'),'firefox')\n",
    "    df['browser_enc'] = df['browser_enc'].mask(df['browser'].str.contains('android'),'android')\n",
    "    df['browser_enc'] = df['browser_enc'].mask(df['browser'].str.contains('Android'),'android')\n",
    "    df['browser_enc'] = df['browser_enc'].mask(df['browser'].str.contains('chrome'),'chrome')\n",
    "    df['browser_enc'] = df['browser_enc'].mask(df['browser'].str.contains('opera'),'opera')\n",
    "    df['browser_enc'] = df['browser_enc'].mask(df['browser'].str.contains('google'),'chrome')\n",
    "    df['browser_enc'] = df['browser_enc'].mask(df['browser'].str.contains('samsung'),'android')\n",
    "    df['DeviceType'] = df['DeviceType'].mask(df['browser']== 'ie 11.0 for tablet','tablet')\n",
    "    df = df.drop(columns='browser')\n",
    "    df['device_info'] = df['DeviceInfo'].replace(\"-\",\"_\",regex=True)\n",
    "    df['device_info2'] = df['device_info'].replace(\" \",\"_\",regex=True)\n",
    "    df['device_info'] = df['DeviceInfo'].replace(\"-\",\"_\",regex=True)\n",
    "    df['device_info2'] = df['device_info'].replace(\" \",\"_\",regex=True)\n",
    "    df['device_info3'] = df['device_info2'].str.split(\"_\").str[0]\n",
    "    df['device_info3'] = df['device_info3'].str.lower()\n",
    "    df['device_info_v4'] = 'other'\n",
    "    df['device_info_v4'] = df['device_info_v4'].mask(((df['device_info3']=='windows') | (df['device_info3']=='microsoft') | (df['device_info3']=='trident/7.0')),'windows')\n",
    "    df['device_info_v4'] = df['device_info_v4'].mask(((df['device_info3']=='ios') | (df['device_info3']=='iphone')),'ios')\n",
    "    df['device_info_v4'] = df['device_info_v4'].mask(df['device_info3']=='macos','ios')\n",
    "    df['device_info_v4'] = df['device_info_v4'].mask(df['device_info3']=='blade','blade')\n",
    "    df['device_info_v4'] = df['device_info_v4'].mask(df['device_info3']=='lenovo','lenovo')\n",
    "    df['device_info_v4'] = df['device_info_v4'].mask(df['device_info3']=='redmi','redmi')\n",
    "    df['device_info_v4'] = df['device_info_v4'].mask(df['device_info3']=='pixel','pixel')\n",
    "    df['device_info_v4'] = df['device_info_v4'].mask(df['device_info3']=='android','android')\n",
    "    df['device_info_v4'] = df['device_info_v4'].mask(df['device_info3']=='macos','ios')\n",
    "    df['device_info_v4'] = df['device_info_v4'].mask(df['device_info3']=='alcatel','alcatel')\n",
    "    df['device_info_v4'] = df['device_info_v4'].mask(df['device_info3']=='nokia','nokia')\n",
    "    df['device_info_v4'] = df['device_info_v4'].mask(df['device_info3']=='asus','asus')\n",
    "    df['device_info_v4'] = df['device_info_v4'].mask(df['device_info3']=='oneplus','oneplus')\n",
    "    df['device_info_v4'] = df['device_info_v4'].mask(df['device_info3']=='zte','zte')\n",
    "    df['device_info_v4'] = df['device_info_v4'].mask(df['device_info3']=='macos','ios')\n",
    "    df['device_info_v4'] = df['device_info_v4'].mask(df['device_info3']=='hisense','hisense')\n",
    "    df['device_info_v4'] = df['device_info_v4'].mask(df['device_info3']=='linux','linux')\n",
    "    df['device_info_v4'] = df['device_info_v4'].mask((df['device_info3'].str.contains(\"lg\") | (df['device_info3'].str.contains(\"nexus\"))),'lg')\n",
    "    df['device_info_v4'] = df['device_info_v4'].mask(((df['device_info3'].str.contains(\"huawei\")) | (df['device_info3'].str.contains(\"hi6210sft\"))),'huawei')\n",
    "    df['device_info_v4'] = df['device_info_v4'].mask(((df['device_info3']=='motog3') |(df['device_info3']=='moto')),'moto')\n",
    "    df['device_info_v4'] = df['device_info_v4'].mask(((df['device_info3']=='sm') |(df['device_info3']=='samsung')),'samsung')\n",
    "    df = df.drop(columns=['device_info','device_info2','device_info3','DeviceInfo'])\n",
    "    return df"
   ]
  },
  {
   "cell_type": "code",
   "execution_count": 4,
   "id": "1bf7e7fb-f49c-4cf1-a315-5b137303714e",
   "metadata": {},
   "outputs": [],
   "source": [
    "df = pd.read_pickle(\"../../../data_lake/output_prod/df_under.pkl\")"
   ]
  },
  {
   "cell_type": "code",
   "execution_count": 5,
   "id": "7c49796e-c5dc-4578-9865-5f4e859bf0ae",
   "metadata": {},
   "outputs": [
    {
     "data": {
      "text/html": [
       "<div>\n",
       "<style scoped>\n",
       "    .dataframe tbody tr th:only-of-type {\n",
       "        vertical-align: middle;\n",
       "    }\n",
       "\n",
       "    .dataframe tbody tr th {\n",
       "        vertical-align: top;\n",
       "    }\n",
       "\n",
       "    .dataframe thead th {\n",
       "        text-align: right;\n",
       "    }\n",
       "</style>\n",
       "<table border=\"1\" class=\"dataframe\">\n",
       "  <thead>\n",
       "    <tr style=\"text-align: right;\">\n",
       "      <th></th>\n",
       "      <th>TransactionID</th>\n",
       "      <th>isFraud</th>\n",
       "      <th>TransactionAmt</th>\n",
       "      <th>ProductCD</th>\n",
       "      <th>card1</th>\n",
       "      <th>card2</th>\n",
       "      <th>card3</th>\n",
       "      <th>card4</th>\n",
       "      <th>card5</th>\n",
       "      <th>card6</th>\n",
       "      <th>addr1</th>\n",
       "      <th>addr2</th>\n",
       "      <th>dist2</th>\n",
       "      <th>P_emaildomain</th>\n",
       "      <th>R_emaildomain</th>\n",
       "      <th>M4</th>\n",
       "      <th>id_21</th>\n",
       "      <th>id_22</th>\n",
       "      <th>id_23</th>\n",
       "      <th>id_24</th>\n",
       "      <th>id_25</th>\n",
       "      <th>id_26</th>\n",
       "      <th>id_27</th>\n",
       "      <th>id_28</th>\n",
       "      <th>id_29</th>\n",
       "      <th>id_30</th>\n",
       "      <th>id_31</th>\n",
       "      <th>id_32</th>\n",
       "      <th>id_33</th>\n",
       "      <th>id_34</th>\n",
       "      <th>id_35</th>\n",
       "      <th>id_36</th>\n",
       "      <th>id_37</th>\n",
       "      <th>id_38</th>\n",
       "      <th>DeviceType</th>\n",
       "      <th>DeviceInfo</th>\n",
       "      <th>num_accounts_related_to_user</th>\n",
       "      <th>num_days_previous_transaction</th>\n",
       "      <th>customer_id</th>\n",
       "      <th>num_transaction_per_time</th>\n",
       "      <th>multi_transaction_per_time</th>\n",
       "    </tr>\n",
       "  </thead>\n",
       "  <tbody>\n",
       "    <tr>\n",
       "      <th>114734</th>\n",
       "      <td>3428185</td>\n",
       "      <td>0</td>\n",
       "      <td>200.0</td>\n",
       "      <td>R</td>\n",
       "      <td>6019</td>\n",
       "      <td>583.0</td>\n",
       "      <td>150.0</td>\n",
       "      <td>visa</td>\n",
       "      <td>226.0</td>\n",
       "      <td>credit</td>\n",
       "      <td>123.0</td>\n",
       "      <td>87.0</td>\n",
       "      <td>NaN</td>\n",
       "      <td>gmail.com</td>\n",
       "      <td>gmail.com</td>\n",
       "      <td>NaN</td>\n",
       "      <td>NaN</td>\n",
       "      <td>NaN</td>\n",
       "      <td>NaN</td>\n",
       "      <td>NaN</td>\n",
       "      <td>NaN</td>\n",
       "      <td>NaN</td>\n",
       "      <td>NaN</td>\n",
       "      <td>New</td>\n",
       "      <td>NotFound</td>\n",
       "      <td>Windows 10</td>\n",
       "      <td>edge 16.0</td>\n",
       "      <td>24.0</td>\n",
       "      <td>1920x1080</td>\n",
       "      <td>match_status:2</td>\n",
       "      <td>T</td>\n",
       "      <td>F</td>\n",
       "      <td>T</td>\n",
       "      <td>T</td>\n",
       "      <td>desktop</td>\n",
       "      <td>Windows</td>\n",
       "      <td>1.0</td>\n",
       "      <td>0.000</td>\n",
       "      <td>1054</td>\n",
       "      <td>1</td>\n",
       "      <td>0</td>\n",
       "    </tr>\n",
       "    <tr>\n",
       "      <th>16071</th>\n",
       "      <td>3036158</td>\n",
       "      <td>0</td>\n",
       "      <td>25.0</td>\n",
       "      <td>H</td>\n",
       "      <td>12570</td>\n",
       "      <td>462.0</td>\n",
       "      <td>150.0</td>\n",
       "      <td>visa</td>\n",
       "      <td>226.0</td>\n",
       "      <td>debit</td>\n",
       "      <td>272.0</td>\n",
       "      <td>87.0</td>\n",
       "      <td>NaN</td>\n",
       "      <td>gmail.com</td>\n",
       "      <td>NaN</td>\n",
       "      <td>NaN</td>\n",
       "      <td>166.0</td>\n",
       "      <td>14.0</td>\n",
       "      <td>IP_PROXY:HIDDEN</td>\n",
       "      <td>15.0</td>\n",
       "      <td>NaN</td>\n",
       "      <td>147.0</td>\n",
       "      <td>Found</td>\n",
       "      <td>Found</td>\n",
       "      <td>Found</td>\n",
       "      <td>Windows 7</td>\n",
       "      <td>chrome 62.0</td>\n",
       "      <td>24.0</td>\n",
       "      <td>1366x768</td>\n",
       "      <td>match_status:2</td>\n",
       "      <td>T</td>\n",
       "      <td>F</td>\n",
       "      <td>T</td>\n",
       "      <td>T</td>\n",
       "      <td>desktop</td>\n",
       "      <td>Windows</td>\n",
       "      <td>1.0</td>\n",
       "      <td>0.625</td>\n",
       "      <td>9376</td>\n",
       "      <td>1</td>\n",
       "      <td>0</td>\n",
       "    </tr>\n",
       "  </tbody>\n",
       "</table>\n",
       "</div>"
      ],
      "text/plain": [
       "       TransactionID isFraud  TransactionAmt ProductCD  card1  card2  card3  \\\n",
       "114734       3428185       0           200.0         R   6019  583.0  150.0   \n",
       "16071        3036158       0            25.0         H  12570  462.0  150.0   \n",
       "\n",
       "       card4  card5   card6  addr1 addr2 dist2 P_emaildomain R_emaildomain  \\\n",
       "114734  visa  226.0  credit  123.0  87.0   NaN     gmail.com     gmail.com   \n",
       "16071   visa  226.0   debit  272.0  87.0   NaN     gmail.com           NaN   \n",
       "\n",
       "         M4  id_21 id_22            id_23 id_24 id_25  id_26  id_27  id_28  \\\n",
       "114734  NaN    NaN   NaN              NaN   NaN   NaN    NaN    NaN    New   \n",
       "16071   NaN  166.0  14.0  IP_PROXY:HIDDEN  15.0   NaN  147.0  Found  Found   \n",
       "\n",
       "           id_29       id_30        id_31 id_32      id_33           id_34  \\\n",
       "114734  NotFound  Windows 10    edge 16.0  24.0  1920x1080  match_status:2   \n",
       "16071      Found   Windows 7  chrome 62.0  24.0   1366x768  match_status:2   \n",
       "\n",
       "       id_35 id_36 id_37 id_38 DeviceType DeviceInfo  \\\n",
       "114734     T     F     T     T    desktop    Windows   \n",
       "16071      T     F     T     T    desktop    Windows   \n",
       "\n",
       "        num_accounts_related_to_user  num_days_previous_transaction  \\\n",
       "114734                           1.0                          0.000   \n",
       "16071                            1.0                          0.625   \n",
       "\n",
       "        customer_id  num_transaction_per_time  multi_transaction_per_time  \n",
       "114734         1054                         1                           0  \n",
       "16071          9376                         1                           0  "
      ]
     },
     "execution_count": 5,
     "metadata": {},
     "output_type": "execute_result"
    }
   ],
   "source": [
    "df.sample(2)"
   ]
  },
  {
   "cell_type": "code",
   "execution_count": 6,
   "id": "cee3f44a-f8a8-46ea-ab89-74975307e23d",
   "metadata": {},
   "outputs": [],
   "source": [
    "df = features_eng(df,'network')"
   ]
  },
  {
   "cell_type": "code",
   "execution_count": 7,
   "id": "6544e84e-c3d9-42bc-8eb3-d20e52dfbecb",
   "metadata": {},
   "outputs": [
    {
     "data": {
      "text/html": [
       "<div>\n",
       "<style scoped>\n",
       "    .dataframe tbody tr th:only-of-type {\n",
       "        vertical-align: middle;\n",
       "    }\n",
       "\n",
       "    .dataframe tbody tr th {\n",
       "        vertical-align: top;\n",
       "    }\n",
       "\n",
       "    .dataframe thead th {\n",
       "        text-align: right;\n",
       "    }\n",
       "</style>\n",
       "<table border=\"1\" class=\"dataframe\">\n",
       "  <thead>\n",
       "    <tr style=\"text-align: right;\">\n",
       "      <th></th>\n",
       "      <th>TransactionID</th>\n",
       "      <th>isFraud</th>\n",
       "      <th>TransactionAmt</th>\n",
       "      <th>ProductCD</th>\n",
       "      <th>card1</th>\n",
       "      <th>card2</th>\n",
       "      <th>card3</th>\n",
       "      <th>card4</th>\n",
       "      <th>card5</th>\n",
       "      <th>card6</th>\n",
       "      <th>addr1</th>\n",
       "      <th>addr2</th>\n",
       "      <th>P_emaildomain</th>\n",
       "      <th>R_emaildomain</th>\n",
       "      <th>M4</th>\n",
       "      <th>id_21</th>\n",
       "      <th>id_22</th>\n",
       "      <th>id_23</th>\n",
       "      <th>id_24</th>\n",
       "      <th>id_25</th>\n",
       "      <th>id_26</th>\n",
       "      <th>id_27</th>\n",
       "      <th>id_28</th>\n",
       "      <th>id_29</th>\n",
       "      <th>id_30</th>\n",
       "      <th>id_32</th>\n",
       "      <th>id_33</th>\n",
       "      <th>id_34</th>\n",
       "      <th>id_35</th>\n",
       "      <th>id_36</th>\n",
       "      <th>id_37</th>\n",
       "      <th>id_38</th>\n",
       "      <th>DeviceType</th>\n",
       "      <th>num_accounts_related_to_user</th>\n",
       "      <th>num_days_previous_transaction</th>\n",
       "      <th>customer_id</th>\n",
       "      <th>num_transaction_per_time</th>\n",
       "      <th>multi_transaction_per_time</th>\n",
       "      <th>browser_enc</th>\n",
       "      <th>device_info_v4</th>\n",
       "    </tr>\n",
       "  </thead>\n",
       "  <tbody>\n",
       "    <tr>\n",
       "      <th>119300</th>\n",
       "      <td>3453178</td>\n",
       "      <td>0</td>\n",
       "      <td>100.0</td>\n",
       "      <td>R</td>\n",
       "      <td>12839</td>\n",
       "      <td>321.0</td>\n",
       "      <td>150.0</td>\n",
       "      <td>visa</td>\n",
       "      <td>226.0</td>\n",
       "      <td>debit</td>\n",
       "      <td>264.0</td>\n",
       "      <td>87.0</td>\n",
       "      <td>yahoo.com</td>\n",
       "      <td>yahoo.com</td>\n",
       "      <td>NaN</td>\n",
       "      <td>NaN</td>\n",
       "      <td>NaN</td>\n",
       "      <td>NaN</td>\n",
       "      <td>NaN</td>\n",
       "      <td>NaN</td>\n",
       "      <td>NaN</td>\n",
       "      <td>NaN</td>\n",
       "      <td>Found</td>\n",
       "      <td>Found</td>\n",
       "      <td>Android_7_0</td>\n",
       "      <td>24.0</td>\n",
       "      <td>2560x1440</td>\n",
       "      <td>match_status:2</td>\n",
       "      <td>T</td>\n",
       "      <td>F</td>\n",
       "      <td>T</td>\n",
       "      <td>F</td>\n",
       "      <td>mobile</td>\n",
       "      <td>1.0</td>\n",
       "      <td>93.875</td>\n",
       "      <td>2147</td>\n",
       "      <td>1</td>\n",
       "      <td>0</td>\n",
       "      <td>chrome</td>\n",
       "      <td>samsung</td>\n",
       "    </tr>\n",
       "    <tr>\n",
       "      <th>34975</th>\n",
       "      <td>3075236</td>\n",
       "      <td>0</td>\n",
       "      <td>150.0</td>\n",
       "      <td>H</td>\n",
       "      <td>7585</td>\n",
       "      <td>553.0</td>\n",
       "      <td>150.0</td>\n",
       "      <td>visa</td>\n",
       "      <td>226.0</td>\n",
       "      <td>credit</td>\n",
       "      <td>325.0</td>\n",
       "      <td>87.0</td>\n",
       "      <td>gmail.com</td>\n",
       "      <td>gmail.com</td>\n",
       "      <td>NaN</td>\n",
       "      <td>NaN</td>\n",
       "      <td>NaN</td>\n",
       "      <td>NaN</td>\n",
       "      <td>NaN</td>\n",
       "      <td>NaN</td>\n",
       "      <td>NaN</td>\n",
       "      <td>NaN</td>\n",
       "      <td>New</td>\n",
       "      <td>NotFound</td>\n",
       "      <td>iOS_11_2_1</td>\n",
       "      <td>32.0</td>\n",
       "      <td>2436x1125</td>\n",
       "      <td>match_status:1</td>\n",
       "      <td>T</td>\n",
       "      <td>F</td>\n",
       "      <td>T</td>\n",
       "      <td>T</td>\n",
       "      <td>mobile</td>\n",
       "      <td>1.0</td>\n",
       "      <td>0.000</td>\n",
       "      <td>6645</td>\n",
       "      <td>1</td>\n",
       "      <td>0</td>\n",
       "      <td>safari</td>\n",
       "      <td>ios</td>\n",
       "    </tr>\n",
       "    <tr>\n",
       "      <th>99544</th>\n",
       "      <td>3353806</td>\n",
       "      <td>0</td>\n",
       "      <td>100.0</td>\n",
       "      <td>R</td>\n",
       "      <td>3278</td>\n",
       "      <td>453.0</td>\n",
       "      <td>150.0</td>\n",
       "      <td>visa</td>\n",
       "      <td>226.0</td>\n",
       "      <td>debit</td>\n",
       "      <td>387.0</td>\n",
       "      <td>87.0</td>\n",
       "      <td>sbcglobal.net</td>\n",
       "      <td>gmail.com</td>\n",
       "      <td>NaN</td>\n",
       "      <td>NaN</td>\n",
       "      <td>NaN</td>\n",
       "      <td>NaN</td>\n",
       "      <td>NaN</td>\n",
       "      <td>NaN</td>\n",
       "      <td>NaN</td>\n",
       "      <td>NaN</td>\n",
       "      <td>New</td>\n",
       "      <td>NotFound</td>\n",
       "      <td>Windows_7</td>\n",
       "      <td>24.0</td>\n",
       "      <td>1440x900</td>\n",
       "      <td>match_status:2</td>\n",
       "      <td>T</td>\n",
       "      <td>F</td>\n",
       "      <td>T</td>\n",
       "      <td>T</td>\n",
       "      <td>desktop</td>\n",
       "      <td>1.0</td>\n",
       "      <td>0.000</td>\n",
       "      <td>32258</td>\n",
       "      <td>1</td>\n",
       "      <td>0</td>\n",
       "      <td>ie</td>\n",
       "      <td>windows</td>\n",
       "    </tr>\n",
       "  </tbody>\n",
       "</table>\n",
       "</div>"
      ],
      "text/plain": [
       "       TransactionID isFraud  TransactionAmt ProductCD  card1  card2  card3  \\\n",
       "119300       3453178       0           100.0         R  12839  321.0  150.0   \n",
       "34975        3075236       0           150.0         H   7585  553.0  150.0   \n",
       "99544        3353806       0           100.0         R   3278  453.0  150.0   \n",
       "\n",
       "       card4  card5   card6  addr1 addr2  P_emaildomain R_emaildomain   M4  \\\n",
       "119300  visa  226.0   debit  264.0  87.0      yahoo.com     yahoo.com  NaN   \n",
       "34975   visa  226.0  credit  325.0  87.0      gmail.com     gmail.com  NaN   \n",
       "99544   visa  226.0   debit  387.0  87.0  sbcglobal.net     gmail.com  NaN   \n",
       "\n",
       "       id_21 id_22 id_23 id_24 id_25 id_26 id_27  id_28     id_29  \\\n",
       "119300   NaN   NaN   NaN   NaN   NaN   NaN   NaN  Found     Found   \n",
       "34975    NaN   NaN   NaN   NaN   NaN   NaN   NaN    New  NotFound   \n",
       "99544    NaN   NaN   NaN   NaN   NaN   NaN   NaN    New  NotFound   \n",
       "\n",
       "              id_30 id_32      id_33           id_34 id_35 id_36 id_37 id_38  \\\n",
       "119300  Android_7_0  24.0  2560x1440  match_status:2     T     F     T     F   \n",
       "34975    iOS_11_2_1  32.0  2436x1125  match_status:1     T     F     T     T   \n",
       "99544     Windows_7  24.0   1440x900  match_status:2     T     F     T     T   \n",
       "\n",
       "       DeviceType  num_accounts_related_to_user  \\\n",
       "119300     mobile                           1.0   \n",
       "34975      mobile                           1.0   \n",
       "99544     desktop                           1.0   \n",
       "\n",
       "        num_days_previous_transaction  customer_id  num_transaction_per_time  \\\n",
       "119300                         93.875         2147                         1   \n",
       "34975                           0.000         6645                         1   \n",
       "99544                           0.000        32258                         1   \n",
       "\n",
       "        multi_transaction_per_time browser_enc device_info_v4  \n",
       "119300                           0      chrome        samsung  \n",
       "34975                            0      safari            ios  \n",
       "99544                            0          ie        windows  "
      ]
     },
     "execution_count": 7,
     "metadata": {},
     "output_type": "execute_result"
    }
   ],
   "source": [
    "df.sample(3)"
   ]
  },
  {
   "cell_type": "code",
   "execution_count": 8,
   "id": "4cf2f628-89d0-4aed-9fed-dcb750330e95",
   "metadata": {},
   "outputs": [],
   "source": [
    "df = df[['customer_id','TransactionID','TransactionAmt','DeviceType','device_info_v4','browser_enc','isFraud']]"
   ]
  },
  {
   "cell_type": "code",
   "execution_count": 9,
   "id": "698deb7d-b7bb-4c38-af58-00646e76fdc0",
   "metadata": {},
   "outputs": [
    {
     "data": {
      "text/html": [
       "<div>\n",
       "<style scoped>\n",
       "    .dataframe tbody tr th:only-of-type {\n",
       "        vertical-align: middle;\n",
       "    }\n",
       "\n",
       "    .dataframe tbody tr th {\n",
       "        vertical-align: top;\n",
       "    }\n",
       "\n",
       "    .dataframe thead th {\n",
       "        text-align: right;\n",
       "    }\n",
       "</style>\n",
       "<table border=\"1\" class=\"dataframe\">\n",
       "  <thead>\n",
       "    <tr style=\"text-align: right;\">\n",
       "      <th></th>\n",
       "      <th>customer_id</th>\n",
       "      <th>TransactionID</th>\n",
       "      <th>TransactionAmt</th>\n",
       "      <th>DeviceType</th>\n",
       "      <th>device_info_v4</th>\n",
       "      <th>browser_enc</th>\n",
       "      <th>isFraud</th>\n",
       "    </tr>\n",
       "  </thead>\n",
       "  <tbody>\n",
       "    <tr>\n",
       "      <th>115642</th>\n",
       "      <td>32221</td>\n",
       "      <td>3433341</td>\n",
       "      <td>25.000</td>\n",
       "      <td>desktop</td>\n",
       "      <td>windows</td>\n",
       "      <td>edge</td>\n",
       "      <td>0</td>\n",
       "    </tr>\n",
       "    <tr>\n",
       "      <th>81324</th>\n",
       "      <td>28976</td>\n",
       "      <td>3249766</td>\n",
       "      <td>25.000</td>\n",
       "      <td>mobile</td>\n",
       "      <td>ios</td>\n",
       "      <td>safari</td>\n",
       "      <td>0</td>\n",
       "    </tr>\n",
       "    <tr>\n",
       "      <th>53371</th>\n",
       "      <td>72</td>\n",
       "      <td>3106502</td>\n",
       "      <td>32.182</td>\n",
       "      <td>mobile</td>\n",
       "      <td>moto</td>\n",
       "      <td>chrome</td>\n",
       "      <td>0</td>\n",
       "    </tr>\n",
       "  </tbody>\n",
       "</table>\n",
       "</div>"
      ],
      "text/plain": [
       "        customer_id TransactionID  TransactionAmt DeviceType device_info_v4  \\\n",
       "115642        32221       3433341          25.000    desktop        windows   \n",
       "81324         28976       3249766          25.000     mobile            ios   \n",
       "53371            72       3106502          32.182     mobile           moto   \n",
       "\n",
       "       browser_enc isFraud  \n",
       "115642        edge       0  \n",
       "81324       safari       0  \n",
       "53371       chrome       0  "
      ]
     },
     "execution_count": 9,
     "metadata": {},
     "output_type": "execute_result"
    }
   ],
   "source": [
    "df.sample(3)"
   ]
  },
  {
   "cell_type": "code",
   "execution_count": 10,
   "id": "6ee71582-6baa-40d2-a2eb-c0658f53a2ea",
   "metadata": {},
   "outputs": [],
   "source": [
    "df = df.dropna(axis=0)"
   ]
  },
  {
   "cell_type": "code",
   "execution_count": 11,
   "id": "f4bc327f-6c41-4b5f-909d-91d9b1d76089",
   "metadata": {},
   "outputs": [
    {
     "data": {
      "text/plain": [
       "(140811, 7)"
      ]
     },
     "execution_count": 11,
     "metadata": {},
     "output_type": "execute_result"
    }
   ],
   "source": [
    "df.shape"
   ]
  },
  {
   "cell_type": "code",
   "execution_count": 12,
   "id": "411d6f3a-cddd-493b-8ce6-b55559ee97dd",
   "metadata": {},
   "outputs": [],
   "source": [
    "df = df.sample(frac=0.001)"
   ]
  },
  {
   "cell_type": "code",
   "execution_count": 13,
   "id": "6f10f5f5-e849-422a-bfdd-43e32ee80e1c",
   "metadata": {},
   "outputs": [
    {
     "data": {
      "text/plain": [
       "(141, 7)"
      ]
     },
     "execution_count": 13,
     "metadata": {},
     "output_type": "execute_result"
    }
   ],
   "source": [
    "df.shape"
   ]
  },
  {
   "cell_type": "code",
   "execution_count": 14,
   "id": "b2830502-2718-4526-89f5-6b22e40eafcf",
   "metadata": {},
   "outputs": [
    {
     "data": {
      "text/plain": [
       "0    130\n",
       "1     11\n",
       "Name: isFraud, dtype: int64"
      ]
     },
     "execution_count": 14,
     "metadata": {},
     "output_type": "execute_result"
    }
   ],
   "source": [
    "df['isFraud'].value_counts()"
   ]
  },
  {
   "cell_type": "code",
   "execution_count": 15,
   "id": "a4da1884-0c2e-4d88-91fc-0ec1dcdb857a",
   "metadata": {},
   "outputs": [],
   "source": [
    "for i in df:\n",
    "    if i != 'TransactionAmt':\n",
    "        df[i] = df[i].astype(str)"
   ]
  },
  {
   "cell_type": "code",
   "execution_count": 16,
   "id": "842a8502-713d-4212-ab27-957f5558ab15",
   "metadata": {},
   "outputs": [],
   "source": [
    "rel1 = ['customer_id','TransactionID','has done']\n",
    "rel2 = ['customer_id','browser_enc','using']\n",
    "rel3 = ['customer_id','device_info_v4','on']\n",
    "rel4 = ['customer_id','DeviceType','with']"
   ]
  },
  {
   "cell_type": "code",
   "execution_count": 17,
   "id": "4d8e3310-c5cc-47cf-9723-dac9411745e7",
   "metadata": {},
   "outputs": [],
   "source": [
    "# rel1 = ['customer_id','TransactionID','has done']\n",
    "# rel2 = ['TransactionID','browser_enc','using']\n",
    "# rel3 = ['browser_enc','device_info_v4','on']\n",
    "# rel4 = ['device_info_v4','DeviceType','with']"
   ]
  },
  {
   "cell_type": "code",
   "execution_count": 18,
   "id": "40ee1179-916a-4db4-921d-c2a35c9c1d5d",
   "metadata": {},
   "outputs": [],
   "source": [
    "# rel1 = ['customer_id','TransactionID','has done']\n",
    "# rel2 = ['TransactionID','DeviceType','using']\n",
    "# rel3 = ['DeviceType','device_info_v4','on']\n",
    "# rel4 = ['device_info_v4','browser_enc','with']"
   ]
  },
  {
   "cell_type": "code",
   "execution_count": 19,
   "id": "12ae60b5-9a11-4e93-ac00-45c22a94602b",
   "metadata": {},
   "outputs": [],
   "source": [
    "# rel1 = ['customer_id','DeviceType','using']\n",
    "# rel2 = ['DeviceType','device_info_v4','on']\n",
    "# rel3 = ['device_info_v4','browser_enc','with']\n",
    "# rel4 = ['browser_enc','TransactionID','has done']"
   ]
  },
  {
   "cell_type": "code",
   "execution_count": 20,
   "id": "143a7911-e7a5-42c6-b700-4703fba75c4f",
   "metadata": {},
   "outputs": [],
   "source": [
    "# rel1 = ['customer_id','DeviceType','using']\n",
    "# rel2 = ['DeviceType','device_info_v4','on']\n",
    "# rel3 = ['device_info_v4','browser_enc','with']\n",
    "# rel4 = ['customer_id','TransactionID','has done'] # ok"
   ]
  },
  {
   "cell_type": "code",
   "execution_count": 21,
   "id": "1aee8f3b-de37-4e47-b4be-01545eb1e3da",
   "metadata": {},
   "outputs": [],
   "source": [
    "rels = [rel1,rel2,rel3,rel4]"
   ]
  },
  {
   "cell_type": "code",
   "execution_count": 22,
   "id": "869f21c1-ae26-4787-a554-133242e57878",
   "metadata": {},
   "outputs": [],
   "source": [
    "# rels = [rel4]"
   ]
  },
  {
   "cell_type": "code",
   "execution_count": 23,
   "id": "97fe09b4-61a1-4708-82d1-e9ae1514a1fe",
   "metadata": {},
   "outputs": [],
   "source": [
    "dt = dict()\n",
    "for i in range(len(rels)):\n",
    "    dt[i] = dict()\n",
    "    dt[i]['source'] = rels[i][0]\n",
    "    dt[i]['target'] = rels[i][1]\n",
    "    dt[i]['rel'] = rels[i][2]"
   ]
  },
  {
   "cell_type": "code",
   "execution_count": 24,
   "id": "cf7532d8-8fb1-42f5-a578-d09a5c71bd93",
   "metadata": {},
   "outputs": [],
   "source": [
    "db = []"
   ]
  },
  {
   "cell_type": "code",
   "execution_count": 25,
   "id": "77f4cbe8-1a54-4ae4-9e34-1bd0ce8514c1",
   "metadata": {},
   "outputs": [],
   "source": [
    "for i in df.index:\n",
    "    # select one row \n",
    "    row = df.loc[df.index==i]\n",
    "    # create empty dataframe to be filled with info taken from the row selected\n",
    "    gp = pd.DataFrame(columns=['source','target','rel'])\n",
    "    # for loop for taking index and name of the dict of the relationship\n",
    "    for y in dt.keys():\n",
    "        for z in dt[y].keys():\n",
    "            # for the rel value, we need to extract the relatioship value from the dict not from the row of the dataframe! \n",
    "            if z == 'rel':\n",
    "                gp.at[y,z] = dt[y][z]\n",
    "            else:\n",
    "                gp.at[y,z] = row[dt[y][z]][i]\n",
    "    db.append(gp)"
   ]
  },
  {
   "cell_type": "code",
   "execution_count": 26,
   "id": "ed277cea-cf44-4a3a-9ce1-75585d40a3cf",
   "metadata": {},
   "outputs": [
    {
     "data": {
      "text/plain": [
       "(544, 3)"
      ]
     },
     "execution_count": 26,
     "metadata": {},
     "output_type": "execute_result"
    }
   ],
   "source": [
    "final = pd.concat(db)\n",
    "final = final.reset_index().drop(columns='index')\n",
    "final = final.drop_duplicates()\n",
    "final.shape"
   ]
  },
  {
   "cell_type": "markdown",
   "id": "01c04f9e-5406-425e-b0a7-090ac0f45879",
   "metadata": {},
   "source": [
    "Extraction of the fraud only "
   ]
  },
  {
   "cell_type": "code",
   "execution_count": 27,
   "id": "7e9fcc08-6bfe-4ad4-a17e-a1480b75011c",
   "metadata": {},
   "outputs": [],
   "source": [
    "db2 = []"
   ]
  },
  {
   "cell_type": "code",
   "execution_count": 28,
   "id": "b93fc94c-2834-40a0-9d51-2e6812add5d7",
   "metadata": {},
   "outputs": [],
   "source": [
    "df2 = df[df['isFraud']=='1']"
   ]
  },
  {
   "cell_type": "code",
   "execution_count": 29,
   "id": "149a50f7-09ba-4507-8d3c-0e29af3733f0",
   "metadata": {},
   "outputs": [
    {
     "data": {
      "text/plain": [
       "(11, 7)"
      ]
     },
     "execution_count": 29,
     "metadata": {},
     "output_type": "execute_result"
    }
   ],
   "source": [
    "df2.shape"
   ]
  },
  {
   "cell_type": "code",
   "execution_count": 30,
   "id": "9527dd58-408e-4dec-aa4f-0d3fe3a07757",
   "metadata": {},
   "outputs": [],
   "source": [
    "rel5 = ['customer_id','TransactionID','has done']\n",
    "rels = [rel5]\n",
    "dt2 = dict()\n",
    "for i in range(len(rels)):\n",
    "    dt2[i] = dict()\n",
    "    dt2[i]['source'] = rels[i][0]\n",
    "    dt2[i]['target'] = rels[i][1]\n",
    "    dt2[i]['rel'] = rels[i][2]"
   ]
  },
  {
   "cell_type": "code",
   "execution_count": 31,
   "id": "ad69fd62-86a3-44e5-8f6a-3b866bc4639e",
   "metadata": {},
   "outputs": [],
   "source": [
    "for i in df2.index:\n",
    "    # select one row \n",
    "    row2 = df2.loc[df2.index==i]\n",
    "    # create empty dataframe to be filled with info taken from the row selected\n",
    "    gp2 = pd.DataFrame(columns=['source','target','rel'])\n",
    "    # for loop for taking index and name of the dict of the relationship\n",
    "    for y in dt2.keys():\n",
    "        for z in dt2[y].keys():\n",
    "            # for the rel value, we need to extract the relatioship value from the dict not from the row of the dataframe! \n",
    "            if z == 'rel':\n",
    "                gp2.at[y,z] = dt2[y][z]\n",
    "            else:\n",
    "                gp2.at[y,z] = row2[dt2[y][z]][i]\n",
    "    db2.append(gp2)"
   ]
  },
  {
   "cell_type": "code",
   "execution_count": 32,
   "id": "f1718e60-358b-4172-95b1-ff95ffc74ee9",
   "metadata": {},
   "outputs": [
    {
     "data": {
      "text/plain": [
       "(11, 3)"
      ]
     },
     "execution_count": 32,
     "metadata": {},
     "output_type": "execute_result"
    }
   ],
   "source": [
    "final2 = pd.concat(db2)\n",
    "final2 = final2.reset_index().drop(columns='index')\n",
    "final2 = final2.drop_duplicates()\n",
    "final2.shape"
   ]
  },
  {
   "cell_type": "code",
   "execution_count": 125,
   "id": "9c51ca66-1869-4c93-b425-d350684dfe51",
   "metadata": {},
   "outputs": [],
   "source": [
    "net = Network(directed=True,height='900px', width='100%',notebook=False,cdn_resources='in_line',select_menu=True, filter_menu=True)"
   ]
  },
  {
   "cell_type": "code",
   "execution_count": 126,
   "id": "ab905629-e7c3-4e51-a9f3-719baf8d59e2",
   "metadata": {},
   "outputs": [],
   "source": [
    "# net.show_buttons(filter_=['physics'])"
   ]
  },
  {
   "cell_type": "code",
   "execution_count": 127,
   "id": "5e2efac8-3b28-413c-a3ef-6d77535a83c2",
   "metadata": {},
   "outputs": [],
   "source": [
    "nodes = list(pd.unique(final[['source','target']].values.ravel('K')))"
   ]
  },
  {
   "cell_type": "code",
   "execution_count": 128,
   "id": "411970a2-a9b6-4697-bb4a-b19697e89dd3",
   "metadata": {},
   "outputs": [],
   "source": [
    "nodes2 = list(pd.unique(final2[['source','target']].values.ravel('K')))"
   ]
  },
  {
   "cell_type": "code",
   "execution_count": 37,
   "id": "faa7e962-ea12-4d10-8d05-59407f6a0758",
   "metadata": {},
   "outputs": [],
   "source": [
    "for e in nodes:\n",
    "    if e in nodes2:\n",
    "        net.add_node(e,color='red')\n",
    "    else:\n",
    "        net.add_node(e,color='green')"
   ]
  },
  {
   "cell_type": "code",
   "execution_count": 114,
   "id": "cf7ab1e5-904f-4ff5-8b1e-d63c849eb9df",
   "metadata": {},
   "outputs": [
    {
     "ename": "AssertionError",
     "evalue": "non existent node '589'",
     "output_type": "error",
     "traceback": [
      "\u001b[0;31m\u001b[0m",
      "\u001b[0;31mAssertionError\u001b[0mTraceback (most recent call last)",
      "Cell \u001b[0;32mIn[114], line 3\u001b[0m\n\u001b[1;32m      1\u001b[0m \u001b[38;5;28;01mfor\u001b[39;00m i \u001b[38;5;129;01min\u001b[39;00m final\u001b[38;5;241m.\u001b[39mindex:\n\u001b[1;32m      2\u001b[0m     row \u001b[38;5;241m=\u001b[39m final\u001b[38;5;241m.\u001b[39mloc[final\u001b[38;5;241m.\u001b[39mindex\u001b[38;5;241m==\u001b[39mi]\n\u001b[0;32m----> 3\u001b[0m     \u001b[43mnet\u001b[49m\u001b[38;5;241;43m.\u001b[39;49m\u001b[43madd_edge\u001b[49m\u001b[43m(\u001b[49m\u001b[43mrow\u001b[49m\u001b[43m[\u001b[49m\u001b[38;5;124;43m'\u001b[39;49m\u001b[38;5;124;43msource\u001b[39;49m\u001b[38;5;124;43m'\u001b[39;49m\u001b[43m]\u001b[49m\u001b[38;5;241;43m.\u001b[39;49m\u001b[43mitem\u001b[49m\u001b[43m(\u001b[49m\u001b[43m)\u001b[49m\u001b[43m,\u001b[49m\u001b[43mrow\u001b[49m\u001b[43m[\u001b[49m\u001b[38;5;124;43m'\u001b[39;49m\u001b[38;5;124;43mtarget\u001b[39;49m\u001b[38;5;124;43m'\u001b[39;49m\u001b[43m]\u001b[49m\u001b[38;5;241;43m.\u001b[39;49m\u001b[43mitem\u001b[49m\u001b[43m(\u001b[49m\u001b[43m)\u001b[49m\u001b[43m,\u001b[49m\u001b[43mtitle\u001b[49m\u001b[38;5;241;43m=\u001b[39;49m\u001b[43mrow\u001b[49m\u001b[43m[\u001b[49m\u001b[38;5;124;43m'\u001b[39;49m\u001b[38;5;124;43mrel\u001b[39;49m\u001b[38;5;124;43m'\u001b[39;49m\u001b[43m]\u001b[49m\u001b[38;5;241;43m.\u001b[39;49m\u001b[43mitem\u001b[49m\u001b[43m(\u001b[49m\u001b[43m)\u001b[49m\u001b[43m,\u001b[49m\u001b[43mlabel\u001b[49m\u001b[38;5;241;43m=\u001b[39;49m\u001b[43mrow\u001b[49m\u001b[43m[\u001b[49m\u001b[38;5;124;43m'\u001b[39;49m\u001b[38;5;124;43mrel\u001b[39;49m\u001b[38;5;124;43m'\u001b[39;49m\u001b[43m]\u001b[49m\u001b[38;5;241;43m.\u001b[39;49m\u001b[43mitem\u001b[49m\u001b[43m(\u001b[49m\u001b[43m)\u001b[49m\u001b[43m)\u001b[49m\n",
      "File \u001b[0;32m/opt/conda/lib/python3.9/site-packages/pyvis/network.py:366\u001b[0m, in \u001b[0;36mNetwork.add_edge\u001b[0;34m(self, source, to, **options)\u001b[0m\n\u001b[1;32m    363\u001b[0m edge_exists \u001b[38;5;241m=\u001b[39m \u001b[38;5;28;01mFalse\u001b[39;00m\n\u001b[1;32m    365\u001b[0m \u001b[38;5;66;03m# verify nodes exists\u001b[39;00m\n\u001b[0;32m--> 366\u001b[0m \u001b[38;5;28;01massert\u001b[39;00m source \u001b[38;5;129;01min\u001b[39;00m \u001b[38;5;28mself\u001b[39m\u001b[38;5;241m.\u001b[39mget_nodes(), \\\n\u001b[1;32m    367\u001b[0m     \u001b[38;5;124m\"\u001b[39m\u001b[38;5;124mnon existent node \u001b[39m\u001b[38;5;124m'\u001b[39m\u001b[38;5;124m\"\u001b[39m \u001b[38;5;241m+\u001b[39m \u001b[38;5;28mstr\u001b[39m(source) \u001b[38;5;241m+\u001b[39m \u001b[38;5;124m\"\u001b[39m\u001b[38;5;124m'\u001b[39m\u001b[38;5;124m\"\u001b[39m\n\u001b[1;32m    369\u001b[0m \u001b[38;5;28;01massert\u001b[39;00m to \u001b[38;5;129;01min\u001b[39;00m \u001b[38;5;28mself\u001b[39m\u001b[38;5;241m.\u001b[39mget_nodes(), \\\n\u001b[1;32m    370\u001b[0m     \u001b[38;5;124m\"\u001b[39m\u001b[38;5;124mnon existent node \u001b[39m\u001b[38;5;124m'\u001b[39m\u001b[38;5;124m\"\u001b[39m \u001b[38;5;241m+\u001b[39m \u001b[38;5;28mstr\u001b[39m(to) \u001b[38;5;241m+\u001b[39m \u001b[38;5;124m\"\u001b[39m\u001b[38;5;124m'\u001b[39m\u001b[38;5;124m\"\u001b[39m\n\u001b[1;32m    372\u001b[0m \u001b[38;5;66;03m# we only check existing edge for undirected graphs\u001b[39;00m\n",
      "\u001b[0;31mAssertionError\u001b[0m: non existent node '589'"
     ]
    }
   ],
   "source": [
    "for i in final.index:\n",
    "    row = final.loc[final.index==i]\n",
    "    net.add_edge(row['source'].item(),row['target'].item(),title=row['rel'].item(),label=row['rel'].item())"
   ]
  },
  {
   "cell_type": "code",
   "execution_count": 39,
   "id": "b0020ea6-9bca-4314-9650-c68beb17db7f",
   "metadata": {},
   "outputs": [
    {
     "ename": "PermissionError",
     "evalue": "[Errno 1] Operation not permitted: 'bindings'",
     "output_type": "error",
     "traceback": [
      "\u001b[0;31m\u001b[0m",
      "\u001b[0;31mPermissionError\u001b[0mTraceback (most recent call last)",
      "Cell \u001b[0;32mIn[39], line 2\u001b[0m\n\u001b[1;32m      1\u001b[0m \u001b[38;5;66;03m# net.toggle_physics(False)\u001b[39;00m\n\u001b[0;32m----> 2\u001b[0m \u001b[43mnet\u001b[49m\u001b[38;5;241;43m.\u001b[39;49m\u001b[43mshow\u001b[49m\u001b[43m(\u001b[49m\u001b[38;5;124;43m\"\u001b[39;49m\u001b[38;5;124;43mkg_v99.html\u001b[39;49m\u001b[38;5;124;43m\"\u001b[39;49m\u001b[43m)\u001b[49m\n",
      "File \u001b[0;32m/opt/conda/lib/python3.9/site-packages/pyvis/network.py:551\u001b[0m, in \u001b[0;36mNetwork.show\u001b[0;34m(self, name, local)\u001b[0m\n\u001b[1;32m    549\u001b[0m     \u001b[38;5;28;01mreturn\u001b[39;00m \u001b[38;5;28mself\u001b[39m\u001b[38;5;241m.\u001b[39mwrite_html(name, local, notebook\u001b[38;5;241m=\u001b[39m\u001b[38;5;28;01mTrue\u001b[39;00m)\n\u001b[1;32m    550\u001b[0m \u001b[38;5;28;01melse\u001b[39;00m:\n\u001b[0;32m--> 551\u001b[0m     \u001b[38;5;28;43mself\u001b[39;49m\u001b[38;5;241;43m.\u001b[39;49m\u001b[43mwrite_html\u001b[49m\u001b[43m(\u001b[49m\u001b[43mname\u001b[49m\u001b[43m,\u001b[49m\u001b[43m \u001b[49m\u001b[43mlocal\u001b[49m\u001b[43m)\u001b[49m\n",
      "File \u001b[0;32m/opt/conda/lib/python3.9/site-packages/pyvis/network.py:533\u001b[0m, in \u001b[0;36mNetwork.write_html\u001b[0;34m(self, name, local, notebook)\u001b[0m\n\u001b[1;32m    531\u001b[0m \u001b[38;5;66;03m# with tempfile.mkdtemp() as tempdir:\u001b[39;00m\n\u001b[1;32m    532\u001b[0m \u001b[38;5;28;01mif\u001b[39;00m os\u001b[38;5;241m.\u001b[39mpath\u001b[38;5;241m.\u001b[39mexists(\u001b[38;5;124mf\u001b[39m\u001b[38;5;124m\"\u001b[39m\u001b[38;5;132;01m{\u001b[39;00mtempdir\u001b[38;5;132;01m}\u001b[39;00m\u001b[38;5;124m/lib\u001b[39m\u001b[38;5;124m\"\u001b[39m):\n\u001b[0;32m--> 533\u001b[0m     \u001b[43mshutil\u001b[49m\u001b[38;5;241;43m.\u001b[39;49m\u001b[43mrmtree\u001b[49m\u001b[43m(\u001b[49m\u001b[38;5;124;43mf\u001b[39;49m\u001b[38;5;124;43m\"\u001b[39;49m\u001b[38;5;132;43;01m{\u001b[39;49;00m\u001b[43mtempdir\u001b[49m\u001b[38;5;132;43;01m}\u001b[39;49;00m\u001b[38;5;124;43m/lib\u001b[39;49m\u001b[38;5;124;43m\"\u001b[39;49m\u001b[43m)\u001b[49m\n\u001b[1;32m    534\u001b[0m shutil\u001b[38;5;241m.\u001b[39mcopytree(\u001b[38;5;124mf\u001b[39m\u001b[38;5;124m\"\u001b[39m\u001b[38;5;132;01m{\u001b[39;00mos\u001b[38;5;241m.\u001b[39mpath\u001b[38;5;241m.\u001b[39mdirname(\u001b[38;5;18m__file__\u001b[39m)\u001b[38;5;132;01m}\u001b[39;00m\u001b[38;5;124m/templates/lib\u001b[39m\u001b[38;5;124m\"\u001b[39m, \u001b[38;5;124mf\u001b[39m\u001b[38;5;124m\"\u001b[39m\u001b[38;5;132;01m{\u001b[39;00mtempdir\u001b[38;5;132;01m}\u001b[39;00m\u001b[38;5;124m/lib\u001b[39m\u001b[38;5;124m\"\u001b[39m)\n\u001b[1;32m    536\u001b[0m \u001b[38;5;28;01mwith\u001b[39;00m \u001b[38;5;28mopen\u001b[39m(\u001b[38;5;124mf\u001b[39m\u001b[38;5;124m\"\u001b[39m\u001b[38;5;132;01m{\u001b[39;00mtempdir\u001b[38;5;132;01m}\u001b[39;00m\u001b[38;5;124m/\u001b[39m\u001b[38;5;132;01m{\u001b[39;00mname\u001b[38;5;132;01m}\u001b[39;00m\u001b[38;5;124m\"\u001b[39m, \u001b[38;5;124m\"\u001b[39m\u001b[38;5;124mw+\u001b[39m\u001b[38;5;124m\"\u001b[39m) \u001b[38;5;28;01mas\u001b[39;00m out:\n",
      "File \u001b[0;32m/opt/conda/lib/python3.9/shutil.py:718\u001b[0m, in \u001b[0;36mrmtree\u001b[0;34m(path, ignore_errors, onerror)\u001b[0m\n\u001b[1;32m    716\u001b[0m \u001b[38;5;28;01mtry\u001b[39;00m:\n\u001b[1;32m    717\u001b[0m     \u001b[38;5;28;01mif\u001b[39;00m os\u001b[38;5;241m.\u001b[39mpath\u001b[38;5;241m.\u001b[39msamestat(orig_st, os\u001b[38;5;241m.\u001b[39mfstat(fd)):\n\u001b[0;32m--> 718\u001b[0m         \u001b[43m_rmtree_safe_fd\u001b[49m\u001b[43m(\u001b[49m\u001b[43mfd\u001b[49m\u001b[43m,\u001b[49m\u001b[43m \u001b[49m\u001b[43mpath\u001b[49m\u001b[43m,\u001b[49m\u001b[43m \u001b[49m\u001b[43monerror\u001b[49m\u001b[43m)\u001b[49m\n\u001b[1;32m    719\u001b[0m         \u001b[38;5;28;01mtry\u001b[39;00m:\n\u001b[1;32m    720\u001b[0m             os\u001b[38;5;241m.\u001b[39mrmdir(path)\n",
      "File \u001b[0;32m/opt/conda/lib/python3.9/shutil.py:659\u001b[0m, in \u001b[0;36m_rmtree_safe_fd\u001b[0;34m(topfd, path, onerror)\u001b[0m\n\u001b[1;32m    657\u001b[0m         os\u001b[38;5;241m.\u001b[39mrmdir(entry\u001b[38;5;241m.\u001b[39mname, dir_fd\u001b[38;5;241m=\u001b[39mtopfd)\n\u001b[1;32m    658\u001b[0m     \u001b[38;5;28;01mexcept\u001b[39;00m \u001b[38;5;167;01mOSError\u001b[39;00m:\n\u001b[0;32m--> 659\u001b[0m         \u001b[43monerror\u001b[49m\u001b[43m(\u001b[49m\u001b[43mos\u001b[49m\u001b[38;5;241;43m.\u001b[39;49m\u001b[43mrmdir\u001b[49m\u001b[43m,\u001b[49m\u001b[43m \u001b[49m\u001b[43mfullname\u001b[49m\u001b[43m,\u001b[49m\u001b[43m \u001b[49m\u001b[43msys\u001b[49m\u001b[38;5;241;43m.\u001b[39;49m\u001b[43mexc_info\u001b[49m\u001b[43m(\u001b[49m\u001b[43m)\u001b[49m\u001b[43m)\u001b[49m\n\u001b[1;32m    660\u001b[0m \u001b[38;5;28;01melse\u001b[39;00m:\n\u001b[1;32m    661\u001b[0m     \u001b[38;5;28;01mtry\u001b[39;00m:\n\u001b[1;32m    662\u001b[0m         \u001b[38;5;66;03m# This can only happen if someone replaces\u001b[39;00m\n\u001b[1;32m    663\u001b[0m         \u001b[38;5;66;03m# a directory with a symlink after the call to\u001b[39;00m\n\u001b[1;32m    664\u001b[0m         \u001b[38;5;66;03m# os.scandir or stat.S_ISDIR above.\u001b[39;00m\n",
      "File \u001b[0;32m/opt/conda/lib/python3.9/shutil.py:657\u001b[0m, in \u001b[0;36m_rmtree_safe_fd\u001b[0;34m(topfd, path, onerror)\u001b[0m\n\u001b[1;32m    655\u001b[0m _rmtree_safe_fd(dirfd, fullname, onerror)\n\u001b[1;32m    656\u001b[0m \u001b[38;5;28;01mtry\u001b[39;00m:\n\u001b[0;32m--> 657\u001b[0m     \u001b[43mos\u001b[49m\u001b[38;5;241;43m.\u001b[39;49m\u001b[43mrmdir\u001b[49m\u001b[43m(\u001b[49m\u001b[43mentry\u001b[49m\u001b[38;5;241;43m.\u001b[39;49m\u001b[43mname\u001b[49m\u001b[43m,\u001b[49m\u001b[43m \u001b[49m\u001b[43mdir_fd\u001b[49m\u001b[38;5;241;43m=\u001b[39;49m\u001b[43mtopfd\u001b[49m\u001b[43m)\u001b[49m\n\u001b[1;32m    658\u001b[0m \u001b[38;5;28;01mexcept\u001b[39;00m \u001b[38;5;167;01mOSError\u001b[39;00m:\n\u001b[1;32m    659\u001b[0m     onerror(os\u001b[38;5;241m.\u001b[39mrmdir, fullname, sys\u001b[38;5;241m.\u001b[39mexc_info())\n",
      "\u001b[0;31mPermissionError\u001b[0m: [Errno 1] Operation not permitted: 'bindings'"
     ]
    }
   ],
   "source": [
    "# net.toggle_physics(False)\n",
    "net.show(\"kg_v99.html\")"
   ]
  },
  {
   "cell_type": "markdown",
   "id": "fcc62e9e-5d96-400d-87ed-7532b4ece6cf",
   "metadata": {},
   "source": [
    "test multi partito "
   ]
  },
  {
   "cell_type": "code",
   "execution_count": 129,
   "id": "96a8a97e-2251-440f-8e72-f7866080d883",
   "metadata": {},
   "outputs": [],
   "source": [
    "cli = list(df['customer_id'].unique())\n",
    "tra = list(df['TransactionID'].unique())\n",
    "dt = list(df['DeviceType'].unique())\n",
    "di = list(df['device_info_v4'].unique())\n",
    "be = list(df['browser_enc'].unique())"
   ]
  },
  {
   "cell_type": "code",
   "execution_count": 53,
   "id": "596391e6-52d2-488b-a730-749a1e5fc563",
   "metadata": {},
   "outputs": [],
   "source": [
    "# g = nx.Graph()"
   ]
  },
  {
   "cell_type": "code",
   "execution_count": 54,
   "id": "0e9887c1-9fc1-45ca-b3e1-070630074c33",
   "metadata": {},
   "outputs": [],
   "source": [
    "# g.add_nodes_from(cli,bipartite=0)\n",
    "# g.add_nodes_from(tra,bipartite=1)\n",
    "# g.add_nodes_from(dt,bipartite=2)\n",
    "# g.add_nodes_from(di,bipartite=3)\n",
    "# g.add_nodes_from(be,bipartite=4)"
   ]
  },
  {
   "cell_type": "code",
   "execution_count": 55,
   "id": "4157ee93-a998-4224-a0cf-bb229b843c05",
   "metadata": {},
   "outputs": [],
   "source": [
    "# [g.add_edges_from(x,y) for x,y in final]"
   ]
  },
  {
   "cell_type": "code",
   "execution_count": 56,
   "id": "0f514884-e83c-45fa-9873-cb5f9d0b3b49",
   "metadata": {},
   "outputs": [],
   "source": [
    "# for x in final.iterrows():\n",
    "#     g.add_edge(x[1].values[0],x[1].values[1])"
   ]
  },
  {
   "cell_type": "code",
   "execution_count": 57,
   "id": "8ff34596-896d-46ef-896d-4514079eab1b",
   "metadata": {},
   "outputs": [],
   "source": [
    "# def position_MultiPartiteGraph( Graph, Parts ):\n",
    "#   # Graph is a networkX Graph object, where the nodes have attribute 'agentType' with part name as a value\n",
    "#   # Parts is a list of names for the parts (to be shown as columns)\n",
    "#   # returns list of dictionaries with keys being networkX Nodes, values being x,y coordinates for plottingxPos = {}\n",
    "#   xPos = {}\n",
    "#   yPos = {}\n",
    "#   for index1, agentType in enumerate(Parts):\n",
    "#      xPos[agentType] = index1\n",
    "#      yPos[agentType] = 0\n",
    "\n",
    "#   pos = {}\n",
    "#   for node, attrDict in Graph.nodes(data=True):\n",
    "#      agentType = attrDict['bipartite']\n",
    "#      # print ('node: %s\\tagentType: %s' % (node, agentType))\n",
    "#      # print ('\\t(x,y): (%d,%d)' % (xPos[agentType], yPos[agentType]))\n",
    "#      pos[node] = (xPos[agentType], yPos[agentType])\n",
    "#      yPos[agentType] += 1\n",
    "\n",
    "#   return pos"
   ]
  },
  {
   "cell_type": "code",
   "execution_count": 58,
   "id": "5a7025e5-a01b-4590-b4b1-6800fb185708",
   "metadata": {},
   "outputs": [],
   "source": [
    "# nx.draw(g,pos=position_MultiPartiteGraph(g, [0,1,2,3,4]))\n",
    "# plt.show()"
   ]
  },
  {
   "cell_type": "code",
   "execution_count": 59,
   "id": "0d3bdeac-3a2b-4949-91c2-fc0f6c2e40e0",
   "metadata": {},
   "outputs": [],
   "source": [
    "# net.from_nx(g)"
   ]
  },
  {
   "cell_type": "code",
   "execution_count": 60,
   "id": "0983d777-23d3-451e-90a2-dbf3bddfc059",
   "metadata": {},
   "outputs": [],
   "source": [
    "# net = Network(directed=False,height='900px', width='100%',notebook=False,cdn_resources='in_line',select_menu=True, filter_menu=True)"
   ]
  },
  {
   "cell_type": "code",
   "execution_count": 61,
   "id": "b9be3def-b74b-4cd7-9170-d7648c38ee31",
   "metadata": {},
   "outputs": [],
   "source": [
    "# net.show(\"kg_v8.html\")"
   ]
  },
  {
   "cell_type": "code",
   "execution_count": 92,
   "id": "dbf720ab-1f8c-40fb-9928-a8868958797c",
   "metadata": {},
   "outputs": [],
   "source": [
    "g = nx.Graph()"
   ]
  },
  {
   "cell_type": "code",
   "execution_count": 93,
   "id": "c4050ce1-c63b-4eb0-bdf3-4efa35183bf3",
   "metadata": {},
   "outputs": [],
   "source": [
    "g.add_nodes_from(cli,bipartite=0)\n",
    "g.add_nodes_from(tra,bipartite=1)\n",
    "g.add_nodes_from(dt,bipartite=2)\n",
    "g.add_nodes_from(di,bipartite=3)\n",
    "g.add_nodes_from(be,bipartite=4)"
   ]
  },
  {
   "cell_type": "code",
   "execution_count": 101,
   "id": "7ea41903-0aa1-42fe-ad1f-844f2354fb57",
   "metadata": {},
   "outputs": [],
   "source": [
    "tuples_list = [(row[1]['source'],row[1]['target']) for row in final.iterrows()]"
   ]
  },
  {
   "cell_type": "code",
   "execution_count": 102,
   "id": "97b2dcce-2020-46e5-9121-e149d29c6f07",
   "metadata": {},
   "outputs": [],
   "source": [
    "# for x in final.iterrows():\n",
    "#     g.add_edge(x[1].values[0],x[1].values[1])"
   ]
  },
  {
   "cell_type": "code",
   "execution_count": 103,
   "id": "aed97126-e416-4fa1-b9c0-dcb0c48eb432",
   "metadata": {},
   "outputs": [],
   "source": [
    "g.add_edges_from(tuples_list)"
   ]
  },
  {
   "cell_type": "code",
   "execution_count": 104,
   "id": "49fd1006-dd40-430b-8f2e-0f0ed34d9167",
   "metadata": {},
   "outputs": [
    {
     "data": {
      "text/plain": [
       "networkx.classes.graph.Graph"
      ]
     },
     "execution_count": 104,
     "metadata": {},
     "output_type": "execute_result"
    }
   ],
   "source": [
    "type(g)"
   ]
  },
  {
   "cell_type": "code",
   "execution_count": 107,
   "id": "50e603ac-224a-4376-80de-383d2bc48889",
   "metadata": {},
   "outputs": [],
   "source": [
    "nt = Network()"
   ]
  },
  {
   "cell_type": "code",
   "execution_count": 108,
   "id": "510ff840-fb79-40e1-9eb9-791c5ea70a27",
   "metadata": {},
   "outputs": [
    {
     "ename": "PermissionError",
     "evalue": "[Errno 1] Operation not permitted: 'bindings'",
     "output_type": "error",
     "traceback": [
      "\u001b[0;31m\u001b[0m",
      "\u001b[0;31mPermissionError\u001b[0mTraceback (most recent call last)",
      "Cell \u001b[0;32mIn[108], line 2\u001b[0m\n\u001b[1;32m      1\u001b[0m nt\u001b[38;5;241m.\u001b[39mfrom_nx(g)\n\u001b[0;32m----> 2\u001b[0m \u001b[43mnt\u001b[49m\u001b[38;5;241;43m.\u001b[39;49m\u001b[43mshow\u001b[49m\u001b[43m(\u001b[49m\u001b[38;5;124;43m\"\u001b[39;49m\u001b[38;5;124;43mnx.html\u001b[39;49m\u001b[38;5;124;43m\"\u001b[39;49m\u001b[43m)\u001b[49m\n",
      "File \u001b[0;32m/opt/conda/lib/python3.9/site-packages/pyvis/network.py:551\u001b[0m, in \u001b[0;36mNetwork.show\u001b[0;34m(self, name, local)\u001b[0m\n\u001b[1;32m    549\u001b[0m     \u001b[38;5;28;01mreturn\u001b[39;00m \u001b[38;5;28mself\u001b[39m\u001b[38;5;241m.\u001b[39mwrite_html(name, local, notebook\u001b[38;5;241m=\u001b[39m\u001b[38;5;28;01mTrue\u001b[39;00m)\n\u001b[1;32m    550\u001b[0m \u001b[38;5;28;01melse\u001b[39;00m:\n\u001b[0;32m--> 551\u001b[0m     \u001b[38;5;28;43mself\u001b[39;49m\u001b[38;5;241;43m.\u001b[39;49m\u001b[43mwrite_html\u001b[49m\u001b[43m(\u001b[49m\u001b[43mname\u001b[49m\u001b[43m,\u001b[49m\u001b[43m \u001b[49m\u001b[43mlocal\u001b[49m\u001b[43m)\u001b[49m\n",
      "File \u001b[0;32m/opt/conda/lib/python3.9/site-packages/pyvis/network.py:533\u001b[0m, in \u001b[0;36mNetwork.write_html\u001b[0;34m(self, name, local, notebook)\u001b[0m\n\u001b[1;32m    531\u001b[0m \u001b[38;5;66;03m# with tempfile.mkdtemp() as tempdir:\u001b[39;00m\n\u001b[1;32m    532\u001b[0m \u001b[38;5;28;01mif\u001b[39;00m os\u001b[38;5;241m.\u001b[39mpath\u001b[38;5;241m.\u001b[39mexists(\u001b[38;5;124mf\u001b[39m\u001b[38;5;124m\"\u001b[39m\u001b[38;5;132;01m{\u001b[39;00mtempdir\u001b[38;5;132;01m}\u001b[39;00m\u001b[38;5;124m/lib\u001b[39m\u001b[38;5;124m\"\u001b[39m):\n\u001b[0;32m--> 533\u001b[0m     \u001b[43mshutil\u001b[49m\u001b[38;5;241;43m.\u001b[39;49m\u001b[43mrmtree\u001b[49m\u001b[43m(\u001b[49m\u001b[38;5;124;43mf\u001b[39;49m\u001b[38;5;124;43m\"\u001b[39;49m\u001b[38;5;132;43;01m{\u001b[39;49;00m\u001b[43mtempdir\u001b[49m\u001b[38;5;132;43;01m}\u001b[39;49;00m\u001b[38;5;124;43m/lib\u001b[39;49m\u001b[38;5;124;43m\"\u001b[39;49m\u001b[43m)\u001b[49m\n\u001b[1;32m    534\u001b[0m shutil\u001b[38;5;241m.\u001b[39mcopytree(\u001b[38;5;124mf\u001b[39m\u001b[38;5;124m\"\u001b[39m\u001b[38;5;132;01m{\u001b[39;00mos\u001b[38;5;241m.\u001b[39mpath\u001b[38;5;241m.\u001b[39mdirname(\u001b[38;5;18m__file__\u001b[39m)\u001b[38;5;132;01m}\u001b[39;00m\u001b[38;5;124m/templates/lib\u001b[39m\u001b[38;5;124m\"\u001b[39m, \u001b[38;5;124mf\u001b[39m\u001b[38;5;124m\"\u001b[39m\u001b[38;5;132;01m{\u001b[39;00mtempdir\u001b[38;5;132;01m}\u001b[39;00m\u001b[38;5;124m/lib\u001b[39m\u001b[38;5;124m\"\u001b[39m)\n\u001b[1;32m    536\u001b[0m \u001b[38;5;28;01mwith\u001b[39;00m \u001b[38;5;28mopen\u001b[39m(\u001b[38;5;124mf\u001b[39m\u001b[38;5;124m\"\u001b[39m\u001b[38;5;132;01m{\u001b[39;00mtempdir\u001b[38;5;132;01m}\u001b[39;00m\u001b[38;5;124m/\u001b[39m\u001b[38;5;132;01m{\u001b[39;00mname\u001b[38;5;132;01m}\u001b[39;00m\u001b[38;5;124m\"\u001b[39m, \u001b[38;5;124m\"\u001b[39m\u001b[38;5;124mw+\u001b[39m\u001b[38;5;124m\"\u001b[39m) \u001b[38;5;28;01mas\u001b[39;00m out:\n",
      "File \u001b[0;32m/opt/conda/lib/python3.9/shutil.py:718\u001b[0m, in \u001b[0;36mrmtree\u001b[0;34m(path, ignore_errors, onerror)\u001b[0m\n\u001b[1;32m    716\u001b[0m \u001b[38;5;28;01mtry\u001b[39;00m:\n\u001b[1;32m    717\u001b[0m     \u001b[38;5;28;01mif\u001b[39;00m os\u001b[38;5;241m.\u001b[39mpath\u001b[38;5;241m.\u001b[39msamestat(orig_st, os\u001b[38;5;241m.\u001b[39mfstat(fd)):\n\u001b[0;32m--> 718\u001b[0m         \u001b[43m_rmtree_safe_fd\u001b[49m\u001b[43m(\u001b[49m\u001b[43mfd\u001b[49m\u001b[43m,\u001b[49m\u001b[43m \u001b[49m\u001b[43mpath\u001b[49m\u001b[43m,\u001b[49m\u001b[43m \u001b[49m\u001b[43monerror\u001b[49m\u001b[43m)\u001b[49m\n\u001b[1;32m    719\u001b[0m         \u001b[38;5;28;01mtry\u001b[39;00m:\n\u001b[1;32m    720\u001b[0m             os\u001b[38;5;241m.\u001b[39mrmdir(path)\n",
      "File \u001b[0;32m/opt/conda/lib/python3.9/shutil.py:659\u001b[0m, in \u001b[0;36m_rmtree_safe_fd\u001b[0;34m(topfd, path, onerror)\u001b[0m\n\u001b[1;32m    657\u001b[0m         os\u001b[38;5;241m.\u001b[39mrmdir(entry\u001b[38;5;241m.\u001b[39mname, dir_fd\u001b[38;5;241m=\u001b[39mtopfd)\n\u001b[1;32m    658\u001b[0m     \u001b[38;5;28;01mexcept\u001b[39;00m \u001b[38;5;167;01mOSError\u001b[39;00m:\n\u001b[0;32m--> 659\u001b[0m         \u001b[43monerror\u001b[49m\u001b[43m(\u001b[49m\u001b[43mos\u001b[49m\u001b[38;5;241;43m.\u001b[39;49m\u001b[43mrmdir\u001b[49m\u001b[43m,\u001b[49m\u001b[43m \u001b[49m\u001b[43mfullname\u001b[49m\u001b[43m,\u001b[49m\u001b[43m \u001b[49m\u001b[43msys\u001b[49m\u001b[38;5;241;43m.\u001b[39;49m\u001b[43mexc_info\u001b[49m\u001b[43m(\u001b[49m\u001b[43m)\u001b[49m\u001b[43m)\u001b[49m\n\u001b[1;32m    660\u001b[0m \u001b[38;5;28;01melse\u001b[39;00m:\n\u001b[1;32m    661\u001b[0m     \u001b[38;5;28;01mtry\u001b[39;00m:\n\u001b[1;32m    662\u001b[0m         \u001b[38;5;66;03m# This can only happen if someone replaces\u001b[39;00m\n\u001b[1;32m    663\u001b[0m         \u001b[38;5;66;03m# a directory with a symlink after the call to\u001b[39;00m\n\u001b[1;32m    664\u001b[0m         \u001b[38;5;66;03m# os.scandir or stat.S_ISDIR above.\u001b[39;00m\n",
      "File \u001b[0;32m/opt/conda/lib/python3.9/shutil.py:657\u001b[0m, in \u001b[0;36m_rmtree_safe_fd\u001b[0;34m(topfd, path, onerror)\u001b[0m\n\u001b[1;32m    655\u001b[0m _rmtree_safe_fd(dirfd, fullname, onerror)\n\u001b[1;32m    656\u001b[0m \u001b[38;5;28;01mtry\u001b[39;00m:\n\u001b[0;32m--> 657\u001b[0m     \u001b[43mos\u001b[49m\u001b[38;5;241;43m.\u001b[39;49m\u001b[43mrmdir\u001b[49m\u001b[43m(\u001b[49m\u001b[43mentry\u001b[49m\u001b[38;5;241;43m.\u001b[39;49m\u001b[43mname\u001b[49m\u001b[43m,\u001b[49m\u001b[43m \u001b[49m\u001b[43mdir_fd\u001b[49m\u001b[38;5;241;43m=\u001b[39;49m\u001b[43mtopfd\u001b[49m\u001b[43m)\u001b[49m\n\u001b[1;32m    658\u001b[0m \u001b[38;5;28;01mexcept\u001b[39;00m \u001b[38;5;167;01mOSError\u001b[39;00m:\n\u001b[1;32m    659\u001b[0m     onerror(os\u001b[38;5;241m.\u001b[39mrmdir, fullname, sys\u001b[38;5;241m.\u001b[39mexc_info())\n",
      "\u001b[0;31mPermissionError\u001b[0m: [Errno 1] Operation not permitted: 'bindings'"
     ]
    }
   ],
   "source": [
    "nt.from_nx(g)\n",
    "nt.show(\"nx.html\")"
   ]
  },
  {
   "cell_type": "markdown",
   "id": "8e55fd77-34d7-45e7-a980-f13d7e4fb8df",
   "metadata": {},
   "source": [
    "Another test"
   ]
  },
  {
   "cell_type": "code",
   "execution_count": 130,
   "id": "0ef727d3-b87c-4fb3-a23e-6c668e750656",
   "metadata": {},
   "outputs": [],
   "source": [
    "for e in nodes:\n",
    "    if e in cli and e in nodes2:\n",
    "        net.add_node(e,color='red',bipartite=0)\n",
    "    else:\n",
    "        net.add_node(e,color='green',bipartite=0)"
   ]
  },
  {
   "cell_type": "code",
   "execution_count": 131,
   "id": "39035913-a2a5-4896-b53d-14b0ce434f68",
   "metadata": {},
   "outputs": [],
   "source": [
    "for e in nodes:\n",
    "    if e in tra and e in nodes2:\n",
    "        net.add_node(e,color='red',bipartite=0)\n",
    "    else:\n",
    "        net.add_node(e,color='green',bipartite=0)"
   ]
  },
  {
   "cell_type": "code",
   "execution_count": 132,
   "id": "585cca65-1c1c-4656-b53f-75b5f3a02c4f",
   "metadata": {},
   "outputs": [],
   "source": [
    "for e in nodes:\n",
    "    if e in dt and e in nodes2:\n",
    "        net.add_node(e,color='red',bipartite=0)\n",
    "    else:\n",
    "        net.add_node(e,color='green',bipartite=0)"
   ]
  },
  {
   "cell_type": "code",
   "execution_count": 133,
   "id": "f68669c5-a27d-4a0a-b44a-bdb424a69a0f",
   "metadata": {},
   "outputs": [],
   "source": [
    "for e in nodes:\n",
    "    if e in di and e in nodes2:\n",
    "        net.add_node(e,color='red',bipartite=0)\n",
    "    else:\n",
    "        net.add_node(e,color='green',bipartite=0)"
   ]
  },
  {
   "cell_type": "code",
   "execution_count": 134,
   "id": "6b400193-6441-40f1-9595-36c6b118dae8",
   "metadata": {},
   "outputs": [],
   "source": [
    "for e in nodes:\n",
    "    if e in be and e in nodes2:\n",
    "        net.add_node(e,color='red',bipartite=0)\n",
    "    else:\n",
    "        net.add_node(e,color='green',bipartite=0)"
   ]
  },
  {
   "cell_type": "code",
   "execution_count": 135,
   "id": "98d1adf1-1fa8-44d4-8768-10739df935b2",
   "metadata": {},
   "outputs": [],
   "source": [
    "for i in final.index:\n",
    "    row = final.loc[final.index==i]\n",
    "    net.add_edge(row['source'].item(),row['target'].item(),title=row['rel'].item(),label=row['rel'].item())"
   ]
  },
  {
   "cell_type": "code",
   "execution_count": 136,
   "id": "4156c1a8-611d-464e-9c28-aca1c7c79641",
   "metadata": {},
   "outputs": [
    {
     "ename": "AttributeError",
     "evalue": "'Network' object has no attribute 'bipartite_layout'",
     "output_type": "error",
     "traceback": [
      "\u001b[0;31m\u001b[0m",
      "\u001b[0;31mAttributeError\u001b[0mTraceback (most recent call last)",
      "Cell \u001b[0;32mIn[136], line 1\u001b[0m\n\u001b[0;32m----> 1\u001b[0m \u001b[43mnet\u001b[49m\u001b[38;5;241;43m.\u001b[39;49m\u001b[43mbipartite_layout\u001b[49m(align\u001b[38;5;241m=\u001b[39m\u001b[38;5;124m'\u001b[39m\u001b[38;5;124mvertical\u001b[39m\u001b[38;5;124m'\u001b[39m,dist\u001b[38;5;241m=\u001b[39m\u001b[38;5;241m2\u001b[39m,orientation\u001b[38;5;241m=\u001b[39m\u001b[38;5;124m'\u001b[39m\u001b[38;5;124mbottom_top\u001b[39m\u001b[38;5;124m'\u001b[39m)\n",
      "\u001b[0;31mAttributeError\u001b[0m: 'Network' object has no attribute 'bipartite_layout'"
     ]
    }
   ],
   "source": [
    "net.bipartite_layout(align='vertical',dist=2,orientation='bottom_top')"
   ]
  },
  {
   "cell_type": "code",
   "execution_count": 121,
   "id": "e7ce8fe7-0738-45b9-b48c-3bc0dbdc47f9",
   "metadata": {},
   "outputs": [
    {
     "ename": "PermissionError",
     "evalue": "[Errno 1] Operation not permitted: 'bindings'",
     "output_type": "error",
     "traceback": [
      "\u001b[0;31m\u001b[0m",
      "\u001b[0;31mPermissionError\u001b[0mTraceback (most recent call last)",
      "Cell \u001b[0;32mIn[121], line 1\u001b[0m\n\u001b[0;32m----> 1\u001b[0m \u001b[43mnet\u001b[49m\u001b[38;5;241;43m.\u001b[39;49m\u001b[43mshow\u001b[49m\u001b[43m(\u001b[49m\u001b[38;5;124;43m\"\u001b[39;49m\u001b[38;5;124;43mkg_v999.html\u001b[39;49m\u001b[38;5;124;43m\"\u001b[39;49m\u001b[43m)\u001b[49m\n",
      "File \u001b[0;32m/opt/conda/lib/python3.9/site-packages/pyvis/network.py:551\u001b[0m, in \u001b[0;36mNetwork.show\u001b[0;34m(self, name, local)\u001b[0m\n\u001b[1;32m    549\u001b[0m     \u001b[38;5;28;01mreturn\u001b[39;00m \u001b[38;5;28mself\u001b[39m\u001b[38;5;241m.\u001b[39mwrite_html(name, local, notebook\u001b[38;5;241m=\u001b[39m\u001b[38;5;28;01mTrue\u001b[39;00m)\n\u001b[1;32m    550\u001b[0m \u001b[38;5;28;01melse\u001b[39;00m:\n\u001b[0;32m--> 551\u001b[0m     \u001b[38;5;28;43mself\u001b[39;49m\u001b[38;5;241;43m.\u001b[39;49m\u001b[43mwrite_html\u001b[49m\u001b[43m(\u001b[49m\u001b[43mname\u001b[49m\u001b[43m,\u001b[49m\u001b[43m \u001b[49m\u001b[43mlocal\u001b[49m\u001b[43m)\u001b[49m\n",
      "File \u001b[0;32m/opt/conda/lib/python3.9/site-packages/pyvis/network.py:533\u001b[0m, in \u001b[0;36mNetwork.write_html\u001b[0;34m(self, name, local, notebook)\u001b[0m\n\u001b[1;32m    531\u001b[0m \u001b[38;5;66;03m# with tempfile.mkdtemp() as tempdir:\u001b[39;00m\n\u001b[1;32m    532\u001b[0m \u001b[38;5;28;01mif\u001b[39;00m os\u001b[38;5;241m.\u001b[39mpath\u001b[38;5;241m.\u001b[39mexists(\u001b[38;5;124mf\u001b[39m\u001b[38;5;124m\"\u001b[39m\u001b[38;5;132;01m{\u001b[39;00mtempdir\u001b[38;5;132;01m}\u001b[39;00m\u001b[38;5;124m/lib\u001b[39m\u001b[38;5;124m\"\u001b[39m):\n\u001b[0;32m--> 533\u001b[0m     \u001b[43mshutil\u001b[49m\u001b[38;5;241;43m.\u001b[39;49m\u001b[43mrmtree\u001b[49m\u001b[43m(\u001b[49m\u001b[38;5;124;43mf\u001b[39;49m\u001b[38;5;124;43m\"\u001b[39;49m\u001b[38;5;132;43;01m{\u001b[39;49;00m\u001b[43mtempdir\u001b[49m\u001b[38;5;132;43;01m}\u001b[39;49;00m\u001b[38;5;124;43m/lib\u001b[39;49m\u001b[38;5;124;43m\"\u001b[39;49m\u001b[43m)\u001b[49m\n\u001b[1;32m    534\u001b[0m shutil\u001b[38;5;241m.\u001b[39mcopytree(\u001b[38;5;124mf\u001b[39m\u001b[38;5;124m\"\u001b[39m\u001b[38;5;132;01m{\u001b[39;00mos\u001b[38;5;241m.\u001b[39mpath\u001b[38;5;241m.\u001b[39mdirname(\u001b[38;5;18m__file__\u001b[39m)\u001b[38;5;132;01m}\u001b[39;00m\u001b[38;5;124m/templates/lib\u001b[39m\u001b[38;5;124m\"\u001b[39m, \u001b[38;5;124mf\u001b[39m\u001b[38;5;124m\"\u001b[39m\u001b[38;5;132;01m{\u001b[39;00mtempdir\u001b[38;5;132;01m}\u001b[39;00m\u001b[38;5;124m/lib\u001b[39m\u001b[38;5;124m\"\u001b[39m)\n\u001b[1;32m    536\u001b[0m \u001b[38;5;28;01mwith\u001b[39;00m \u001b[38;5;28mopen\u001b[39m(\u001b[38;5;124mf\u001b[39m\u001b[38;5;124m\"\u001b[39m\u001b[38;5;132;01m{\u001b[39;00mtempdir\u001b[38;5;132;01m}\u001b[39;00m\u001b[38;5;124m/\u001b[39m\u001b[38;5;132;01m{\u001b[39;00mname\u001b[38;5;132;01m}\u001b[39;00m\u001b[38;5;124m\"\u001b[39m, \u001b[38;5;124m\"\u001b[39m\u001b[38;5;124mw+\u001b[39m\u001b[38;5;124m\"\u001b[39m) \u001b[38;5;28;01mas\u001b[39;00m out:\n",
      "File \u001b[0;32m/opt/conda/lib/python3.9/shutil.py:718\u001b[0m, in \u001b[0;36mrmtree\u001b[0;34m(path, ignore_errors, onerror)\u001b[0m\n\u001b[1;32m    716\u001b[0m \u001b[38;5;28;01mtry\u001b[39;00m:\n\u001b[1;32m    717\u001b[0m     \u001b[38;5;28;01mif\u001b[39;00m os\u001b[38;5;241m.\u001b[39mpath\u001b[38;5;241m.\u001b[39msamestat(orig_st, os\u001b[38;5;241m.\u001b[39mfstat(fd)):\n\u001b[0;32m--> 718\u001b[0m         \u001b[43m_rmtree_safe_fd\u001b[49m\u001b[43m(\u001b[49m\u001b[43mfd\u001b[49m\u001b[43m,\u001b[49m\u001b[43m \u001b[49m\u001b[43mpath\u001b[49m\u001b[43m,\u001b[49m\u001b[43m \u001b[49m\u001b[43monerror\u001b[49m\u001b[43m)\u001b[49m\n\u001b[1;32m    719\u001b[0m         \u001b[38;5;28;01mtry\u001b[39;00m:\n\u001b[1;32m    720\u001b[0m             os\u001b[38;5;241m.\u001b[39mrmdir(path)\n",
      "File \u001b[0;32m/opt/conda/lib/python3.9/shutil.py:659\u001b[0m, in \u001b[0;36m_rmtree_safe_fd\u001b[0;34m(topfd, path, onerror)\u001b[0m\n\u001b[1;32m    657\u001b[0m         os\u001b[38;5;241m.\u001b[39mrmdir(entry\u001b[38;5;241m.\u001b[39mname, dir_fd\u001b[38;5;241m=\u001b[39mtopfd)\n\u001b[1;32m    658\u001b[0m     \u001b[38;5;28;01mexcept\u001b[39;00m \u001b[38;5;167;01mOSError\u001b[39;00m:\n\u001b[0;32m--> 659\u001b[0m         \u001b[43monerror\u001b[49m\u001b[43m(\u001b[49m\u001b[43mos\u001b[49m\u001b[38;5;241;43m.\u001b[39;49m\u001b[43mrmdir\u001b[49m\u001b[43m,\u001b[49m\u001b[43m \u001b[49m\u001b[43mfullname\u001b[49m\u001b[43m,\u001b[49m\u001b[43m \u001b[49m\u001b[43msys\u001b[49m\u001b[38;5;241;43m.\u001b[39;49m\u001b[43mexc_info\u001b[49m\u001b[43m(\u001b[49m\u001b[43m)\u001b[49m\u001b[43m)\u001b[49m\n\u001b[1;32m    660\u001b[0m \u001b[38;5;28;01melse\u001b[39;00m:\n\u001b[1;32m    661\u001b[0m     \u001b[38;5;28;01mtry\u001b[39;00m:\n\u001b[1;32m    662\u001b[0m         \u001b[38;5;66;03m# This can only happen if someone replaces\u001b[39;00m\n\u001b[1;32m    663\u001b[0m         \u001b[38;5;66;03m# a directory with a symlink after the call to\u001b[39;00m\n\u001b[1;32m    664\u001b[0m         \u001b[38;5;66;03m# os.scandir or stat.S_ISDIR above.\u001b[39;00m\n",
      "File \u001b[0;32m/opt/conda/lib/python3.9/shutil.py:657\u001b[0m, in \u001b[0;36m_rmtree_safe_fd\u001b[0;34m(topfd, path, onerror)\u001b[0m\n\u001b[1;32m    655\u001b[0m _rmtree_safe_fd(dirfd, fullname, onerror)\n\u001b[1;32m    656\u001b[0m \u001b[38;5;28;01mtry\u001b[39;00m:\n\u001b[0;32m--> 657\u001b[0m     \u001b[43mos\u001b[49m\u001b[38;5;241;43m.\u001b[39;49m\u001b[43mrmdir\u001b[49m\u001b[43m(\u001b[49m\u001b[43mentry\u001b[49m\u001b[38;5;241;43m.\u001b[39;49m\u001b[43mname\u001b[49m\u001b[43m,\u001b[49m\u001b[43m \u001b[49m\u001b[43mdir_fd\u001b[49m\u001b[38;5;241;43m=\u001b[39;49m\u001b[43mtopfd\u001b[49m\u001b[43m)\u001b[49m\n\u001b[1;32m    658\u001b[0m \u001b[38;5;28;01mexcept\u001b[39;00m \u001b[38;5;167;01mOSError\u001b[39;00m:\n\u001b[1;32m    659\u001b[0m     onerror(os\u001b[38;5;241m.\u001b[39mrmdir, fullname, sys\u001b[38;5;241m.\u001b[39mexc_info())\n",
      "\u001b[0;31mPermissionError\u001b[0m: [Errno 1] Operation not permitted: 'bindings'"
     ]
    }
   ],
   "source": [
    "net.show(\"kg_v999.html\")"
   ]
  },
  {
   "cell_type": "code",
   "execution_count": 123,
   "id": "963be7db-6fa7-450c-b5b8-431685b1aadb",
   "metadata": {},
   "outputs": [
    {
     "data": {
      "text/plain": [
       "'0.3.1'"
      ]
     },
     "execution_count": 123,
     "metadata": {},
     "output_type": "execute_result"
    }
   ],
   "source": [
    "import pyvis\n",
    "pyvis.__version__"
   ]
  }
 ],
 "metadata": {
  "kernelspec": {
   "display_name": "Python 3",
   "language": "python",
   "name": "python3"
  },
  "language_info": {
   "codemirror_mode": {
    "name": "ipython",
    "version": 3
   },
   "file_extension": ".py",
   "mimetype": "text/x-python",
   "name": "python",
   "nbconvert_exporter": "python",
   "pygments_lexer": "ipython3",
   "version": "3.9.2"
  }
 },
 "nbformat": 4,
 "nbformat_minor": 5
}
