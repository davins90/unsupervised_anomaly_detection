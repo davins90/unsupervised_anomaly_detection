{
 "cells": [
  {
   "cell_type": "markdown",
   "id": "78b9ab1b-17b0-45a4-96ef-785cbeb8355f",
   "metadata": {},
   "source": [
    "bi + ml --> final"
   ]
  },
  {
   "cell_type": "code",
   "execution_count": 1,
   "id": "6d57c904-bd1c-47ef-b5d7-46d730fc9ee9",
   "metadata": {},
   "outputs": [],
   "source": [
    "import sys\n",
    "sys.path.append('../../../')"
   ]
  },
  {
   "cell_type": "code",
   "execution_count": 2,
   "id": "4749bf27-a893-49c2-80c1-78b7601f0e16",
   "metadata": {},
   "outputs": [],
   "source": [
    "import pandas as pd\n",
    "import numpy as np\n",
    "import pickle\n",
    "import matplotlib.pyplot as plt\n",
    "\n",
    "from modules import machine_learning_utils as mlu\n",
    "\n",
    "pd.set_option(\"display.max_rows\",None)\n",
    "pd.set_option(\"display.max_columns\",None)"
   ]
  },
  {
   "cell_type": "markdown",
   "id": "3f4f1e2c-06fe-46f3-8f2f-f8f25c143da0",
   "metadata": {},
   "source": [
    "# 1.0 Data retrieval"
   ]
  },
  {
   "cell_type": "code",
   "execution_count": 3,
   "id": "ec6dcbae-669d-425b-8324-e7bb0ba0b538",
   "metadata": {},
   "outputs": [],
   "source": [
    "df = pd.read_pickle(\"../../../data_lake/output/train_eng.pkl\")\n",
    "val = pd.read_pickle(\"../../../data_lake/output/val_eng.pkl\")"
   ]
  },
  {
   "cell_type": "code",
   "execution_count": 4,
   "id": "e4bc0644-78fa-4dd8-bfcc-dbb838b41fd9",
   "metadata": {},
   "outputs": [],
   "source": [
    "cols = ['card1', 'card2', 'card3','card5','M4', 'id_21', 'id_22', 'id_23', 'id_24', 'id_25',\n",
    "       'id_26', 'id_27', 'id_28', 'id_29', 'id_30', 'id_32', 'id_33', 'id_34',\n",
    "       'id_35', 'id_36', 'id_37', 'id_38','num_transaction_per_time']"
   ]
  },
  {
   "cell_type": "code",
   "execution_count": 5,
   "id": "65b20810-ad8f-40bf-bb53-8c35aa71f0e3",
   "metadata": {},
   "outputs": [],
   "source": [
    "df = df.drop(columns=cols)"
   ]
  },
  {
   "cell_type": "code",
   "execution_count": 6,
   "id": "1d66b553-32f2-4648-a272-0a192ae084ee",
   "metadata": {},
   "outputs": [],
   "source": [
    "val = val.drop(columns=cols)"
   ]
  },
  {
   "cell_type": "markdown",
   "id": "b94ae274-6ebb-47da-9b3f-1bf8777ff26a",
   "metadata": {},
   "source": [
    "# 2.0 Machine Learning\n",
    "## 2.1 Training model"
   ]
  },
  {
   "cell_type": "code",
   "execution_count": 7,
   "id": "f42f73a6-a617-4af8-ab65-42eb11cb2aa6",
   "metadata": {},
   "outputs": [],
   "source": [
    "for i in df:\n",
    "    if df[i].dtypes == 'object':\n",
    "        df[i] = df[i].astype(str)"
   ]
  },
  {
   "cell_type": "code",
   "execution_count": 8,
   "id": "447dd015-4ec9-424b-a67a-5467bea048fa",
   "metadata": {},
   "outputs": [],
   "source": [
    "X_train = df.drop(columns='isFraud')\n",
    "y_train = df['isFraud'].astype(float)"
   ]
  },
  {
   "cell_type": "code",
   "execution_count": 9,
   "id": "8e2abe67-a034-4489-ab56-95d352c1ba5c",
   "metadata": {},
   "outputs": [],
   "source": [
    "numerical_cols = X_train.select_dtypes(include=['int64', 'float64']).columns\n",
    "categorical_cols = X_train.select_dtypes(include=['object', 'bool']).columns"
   ]
  },
  {
   "cell_type": "code",
   "execution_count": 10,
   "id": "2343117c-6d3d-4e71-ac9a-f618b3129445",
   "metadata": {},
   "outputs": [],
   "source": [
    "parameters = {'model__max_depth':[6,8],'model__n_estimators':[500,800],'model__learning_rate':[0.05,0.1],'model__min_samples_leaf':[3,5]}"
   ]
  },
  {
   "cell_type": "code",
   "execution_count": 12,
   "id": "9d223653-db46-491e-8480-ff2f6aa40f5c",
   "metadata": {},
   "outputs": [
    {
     "name": "stdout",
     "output_type": "stream",
     "text": [
      "GridSearchCV results...\n",
      "Mean Train Scores: \n",
      "[0.87915758 0.89078492 0.8819401  0.90386593 0.92404796 0.92849121\n",
      " 0.91881546 0.92288487 0.9127528  0.9127528  0.90262    0.90262\n",
      " 0.94310833 0.94310833 0.92666503 0.92666503]\n",
      "\n",
      "Mean CV Scores: \n",
      "[0.8275819  0.83032306 0.82558813 0.83480718 0.8340601  0.83480755\n",
      " 0.83405985 0.8338106  0.83505655 0.83505655 0.83244046 0.83244046\n",
      " 0.84128581 0.84128581 0.83667489 0.83667489]\n",
      "\n",
      "Best Parameters: \n",
      "{'model__learning_rate': 0.1, 'model__max_depth': 8, 'model__min_samples_leaf': 3, 'model__n_estimators': 500}\n",
      "\n"
     ]
    }
   ],
   "source": [
    "model = mlu.model_training(X_train,y_train,numerical_cols,categorical_cols,parameters,'no')"
   ]
  },
  {
   "cell_type": "markdown",
   "id": "8979506f-bf78-45a8-aeaa-565ec78b619c",
   "metadata": {},
   "source": [
    "## 2.2 Evaluation model"
   ]
  },
  {
   "cell_type": "code",
   "execution_count": 13,
   "id": "0436df8f-e20e-4221-a5e5-fd25a99a627f",
   "metadata": {
    "tags": []
   },
   "outputs": [],
   "source": [
    "for i in val:\n",
    "    if val[i].dtypes == 'object':\n",
    "        val[i] = val[i].astype(str)"
   ]
  },
  {
   "cell_type": "code",
   "execution_count": 14,
   "id": "6869f637-86f7-453e-8f2e-1bd85a583e80",
   "metadata": {},
   "outputs": [],
   "source": [
    "X_val = val.drop(columns='isFraud')\n",
    "y_val = val['isFraud'].astype(float)"
   ]
  },
  {
   "cell_type": "code",
   "execution_count": 15,
   "id": "480731d1-3722-4bb7-878a-88ba9ae3c562",
   "metadata": {},
   "outputs": [],
   "source": [
    "m = mlu.model_calibration(model,X_val,y_val)"
   ]
  },
  {
   "cell_type": "code",
   "execution_count": 16,
   "id": "cc84f329-c349-4691-b36c-a47f465dbd93",
   "metadata": {},
   "outputs": [
    {
     "name": "stdout",
     "output_type": "stream",
     "text": [
      "Test results...\n",
      "Model Test Recall: 0.8517179023508138\n",
      "--------------------------------------------------\n",
      "Model Test Confusion Matrix\n",
      "Classification report : \n",
      "               precision    recall  f1-score   support\n",
      "\n",
      "         0.0       0.99      0.85      0.91     19976\n",
      "         1.0       0.32      0.85      0.47      1659\n",
      "\n",
      "    accuracy                           0.85     21635\n",
      "   macro avg       0.65      0.85      0.69     21635\n",
      "weighted avg       0.93      0.85      0.88     21635\n",
      "\n",
      "ProductCD: 0.3204076362998419\n",
      "TransactionAmt: 0.14343000107184956\n",
      "card4: 0.13104672782140595\n",
      "P_emaildomain: 0.025223769402368465\n",
      "addr2: 0.012033488338027181\n",
      "multi_transaction_per_time: 0.006267940261555033\n",
      "R_emaildomain: 0.0051341140250081435\n",
      "device_info_v4: 0.00510613494903186\n",
      "DeviceType: 0.003658257210281853\n",
      "max_d: 0.002309863815483917\n",
      "max_c: 0.0014520695771733966\n",
      "card6: 0.0010054128432358431\n",
      "addr1: 3.549110105942713e-05\n",
      "browser_enc: 2.5990696714438614e-05\n"
     ]
    },
    {
     "data": {
      "text/plain": [
       "Pipeline(steps=[('preprocessor',\n",
       "                 ColumnTransformer(transformers=[('numerical_preprocessor',\n",
       "                                                  Pipeline(steps=[('imputer',\n",
       "                                                                   IterativeImputer(add_indicator=True,\n",
       "                                                                                    estimator=ExtraTreesRegressor(n_estimators=5,\n",
       "                                                                                                                  random_state=1),\n",
       "                                                                                    random_state=1)),\n",
       "                                                                  ('scaler',\n",
       "                                                                   FunctionTransformer(func=<function log_transform at 0x7feb1b8d4430>))]),\n",
       "                                                  Index(['TransactionAmt', 'max_c', 'max_d',...\n",
       "                                                                  ('label_enc',\n",
       "                                                                   OneHotEncoder(handle_unknown='ignore'))]),\n",
       "                                                  Index(['ProductCD', 'card4', 'card6', 'addr1', 'addr2', 'P_emaildomain',\n",
       "       'R_emaildomain', 'DeviceType', 'browser_enc', 'device_info_v4'],\n",
       "      dtype='object'))])),\n",
       "                ('model',\n",
       "                 GradientBoostingClassifier(max_depth=8, max_features=1.0,\n",
       "                                            min_samples_leaf=3,\n",
       "                                            n_estimators=500,\n",
       "                                            n_iter_no_change=25, random_state=0,\n",
       "                                            warm_start=True))])"
      ]
     },
     "execution_count": 16,
     "metadata": {},
     "output_type": "execute_result"
    },
    {
     "data": {
      "image/png": "[encoded data removed]",
      "text/plain": [
       "<Figure size 432x288 with 2 Axes>"
      ]
     },
     "metadata": {
      "needs_background": "light"
     },
     "output_type": "display_data"
    }
   ],
   "source": [
    "mlu.model_evaluation(m.base_estimator, X_val, y_val)"
   ]
  },
  {
   "cell_type": "markdown",
   "id": "e3a54a38-7f61-42f6-a098-32b9798bb986",
   "metadata": {
    "tags": []
   },
   "source": [
    "# 2.3 Predict probability"
   ]
  },
  {
   "cell_type": "code",
   "execution_count": 17,
   "id": "e40624c1-a037-465c-b079-f1a19ad46198",
   "metadata": {},
   "outputs": [],
   "source": [
    "val.insert(0,'probability_score','')\n",
    "val['probability_score'] = model.predict_proba(X_val)[:,1]"
   ]
  },
  {
   "cell_type": "markdown",
   "id": "6e2c59b9-347f-433c-a4d6-a2d214fb4655",
   "metadata": {},
   "source": [
    "# 3.0 Human Knowledge"
   ]
  },
  {
   "cell_type": "markdown",
   "id": "1990eb7c-1906-4a47-a200-6095c3cc2d7c",
   "metadata": {},
   "source": [
    "## 3.1 Traininig HK"
   ]
  },
  {
   "cell_type": "code",
   "execution_count": 18,
   "id": "4cd9133e-5866-4f7b-8a31-87b73c838b8f",
   "metadata": {},
   "outputs": [],
   "source": [
    "df, scaler = mlu.log_beta_scaling(df,'max_c','max_d')"
   ]
  },
  {
   "cell_type": "markdown",
   "id": "40154ce8-9558-452e-9613-0a8371e74c46",
   "metadata": {},
   "source": [
    "## 3.2 Score HK"
   ]
  },
  {
   "cell_type": "code",
   "execution_count": 19,
   "id": "d9a9870f-24ee-44f2-9c4a-9b141efd0111",
   "metadata": {},
   "outputs": [],
   "source": [
    "val = mlu.log_beta_transform(val,scaler,'max_c','max_d')"
   ]
  },
  {
   "cell_type": "code",
   "execution_count": 20,
   "id": "01d8b135-c025-4dfc-963d-990afc3fff18",
   "metadata": {},
   "outputs": [],
   "source": [
    "val = mlu.warning_score_dev(val)"
   ]
  },
  {
   "cell_type": "markdown",
   "id": "b1873922-1b3c-409f-83fa-7775ba09fa98",
   "metadata": {},
   "source": [
    "# 4.0 Error analysis"
   ]
  },
  {
   "cell_type": "code",
   "execution_count": 21,
   "id": "d08bf80a-1946-4faa-892e-f1ba1f9200c1",
   "metadata": {},
   "outputs": [
    {
     "data": {
      "text/html": [
       "<div>\n",
       "<style scoped>\n",
       "    .dataframe tbody tr th:only-of-type {\n",
       "        vertical-align: middle;\n",
       "    }\n",
       "\n",
       "    .dataframe tbody tr th {\n",
       "        vertical-align: top;\n",
       "    }\n",
       "\n",
       "    .dataframe thead th {\n",
       "        text-align: right;\n",
       "    }\n",
       "</style>\n",
       "<table border=\"1\" class=\"dataframe\">\n",
       "  <thead>\n",
       "    <tr style=\"text-align: right;\">\n",
       "      <th></th>\n",
       "      <th>probability_score</th>\n",
       "      <th>isFraud</th>\n",
       "      <th>TransactionAmt</th>\n",
       "      <th>ProductCD</th>\n",
       "      <th>card4</th>\n",
       "      <th>card6</th>\n",
       "      <th>addr1</th>\n",
       "      <th>addr2</th>\n",
       "      <th>P_emaildomain</th>\n",
       "      <th>R_emaildomain</th>\n",
       "      <th>DeviceType</th>\n",
       "      <th>max_c</th>\n",
       "      <th>max_d</th>\n",
       "      <th>multi_transaction_per_time</th>\n",
       "      <th>browser_enc</th>\n",
       "      <th>device_info_v4</th>\n",
       "      <th>warning_score</th>\n",
       "    </tr>\n",
       "  </thead>\n",
       "  <tbody>\n",
       "    <tr>\n",
       "      <th>67657</th>\n",
       "      <td>0.028822</td>\n",
       "      <td>0</td>\n",
       "      <td>50.000</td>\n",
       "      <td>R</td>\n",
       "      <td>mastercard</td>\n",
       "      <td>credit</td>\n",
       "      <td>472.0</td>\n",
       "      <td>87.0</td>\n",
       "      <td>yahoo.com</td>\n",
       "      <td>anonymous.com</td>\n",
       "      <td>mobile</td>\n",
       "      <td>1.0</td>\n",
       "      <td>0.0</td>\n",
       "      <td>0</td>\n",
       "      <td>safari</td>\n",
       "      <td>ios</td>\n",
       "      <td>0.307262</td>\n",
       "    </tr>\n",
       "    <tr>\n",
       "      <th>103272</th>\n",
       "      <td>0.350904</td>\n",
       "      <td>0</td>\n",
       "      <td>43.382</td>\n",
       "      <td>C</td>\n",
       "      <td>visa</td>\n",
       "      <td>credit</td>\n",
       "      <td>nan</td>\n",
       "      <td>nan</td>\n",
       "      <td>gmail.com</td>\n",
       "      <td>gmail.com</td>\n",
       "      <td>mobile</td>\n",
       "      <td>4.0</td>\n",
       "      <td>527.0</td>\n",
       "      <td>0</td>\n",
       "      <td>chrome</td>\n",
       "      <td>samsung</td>\n",
       "      <td>0.871043</td>\n",
       "    </tr>\n",
       "  </tbody>\n",
       "</table>\n",
       "</div>"
      ],
      "text/plain": [
       "        probability_score isFraud  TransactionAmt ProductCD       card4  \\\n",
       "67657            0.028822       0          50.000         R  mastercard   \n",
       "103272           0.350904       0          43.382         C        visa   \n",
       "\n",
       "         card6  addr1 addr2 P_emaildomain  R_emaildomain DeviceType  max_c  \\\n",
       "67657   credit  472.0  87.0     yahoo.com  anonymous.com     mobile    1.0   \n",
       "103272  credit    nan   nan     gmail.com      gmail.com     mobile    4.0   \n",
       "\n",
       "        max_d  multi_transaction_per_time browser_enc device_info_v4  \\\n",
       "67657     0.0                           0      safari            ios   \n",
       "103272  527.0                           0      chrome        samsung   \n",
       "\n",
       "        warning_score  \n",
       "67657        0.307262  \n",
       "103272       0.871043  "
      ]
     },
     "execution_count": 21,
     "metadata": {},
     "output_type": "execute_result"
    }
   ],
   "source": [
    "val.sample(2)"
   ]
  },
  {
   "cell_type": "code",
   "execution_count": 22,
   "id": "5e479b3c-95d1-4262-a43b-f71a7c418c53",
   "metadata": {},
   "outputs": [
    {
     "data": {
      "text/plain": [
       "<AxesSubplot:>"
      ]
     },
     "execution_count": 22,
     "metadata": {},
     "output_type": "execute_result"
    },
    {
     "data": {
      "image/png": "[encoded data removed]",
      "text/plain": [
       "<Figure size 432x288 with 1 Axes>"
      ]
     },
     "metadata": {
      "needs_background": "light"
     },
     "output_type": "display_data"
    }
   ],
   "source": [
    "val['probability_score'].hist()"
   ]
  },
  {
   "cell_type": "code",
   "execution_count": 23,
   "id": "f84d08c8-8307-4f7e-829e-f9759decdca9",
   "metadata": {},
   "outputs": [
    {
     "data": {
      "text/plain": [
       "<AxesSubplot:>"
      ]
     },
     "execution_count": 23,
     "metadata": {},
     "output_type": "execute_result"
    },
    {
     "data": {
      "image/png": "[encoded data removed]",
      "text/plain": [
       "<Figure size 432x288 with 1 Axes>"
      ]
     },
     "metadata": {
      "needs_background": "light"
     },
     "output_type": "display_data"
    }
   ],
   "source": [
    "val['warning_score'].hist()"
   ]
  },
  {
   "cell_type": "markdown",
   "id": "0681d2fa-ffc3-40c8-82a3-26bab7fc3d8d",
   "metadata": {},
   "source": [
    "# 5.0 Bayesian Fusion"
   ]
  },
  {
   "cell_type": "code",
   "execution_count": 24,
   "id": "b70e780c-22e5-4245-895a-224bb15e7028",
   "metadata": {},
   "outputs": [],
   "source": [
    "val['final_score'] = val.apply(lambda x: mlu.beta_fusion(x['probability_score'],x['warning_score'],0.6),axis=1)"
   ]
  },
  {
   "cell_type": "code",
   "execution_count": 25,
   "id": "56e1b1be-d249-458a-9c51-f648e4e7c2ac",
   "metadata": {},
   "outputs": [
    {
     "data": {
      "text/html": [
       "<div>\n",
       "<style scoped>\n",
       "    .dataframe tbody tr th:only-of-type {\n",
       "        vertical-align: middle;\n",
       "    }\n",
       "\n",
       "    .dataframe tbody tr th {\n",
       "        vertical-align: top;\n",
       "    }\n",
       "\n",
       "    .dataframe thead th {\n",
       "        text-align: right;\n",
       "    }\n",
       "</style>\n",
       "<table border=\"1\" class=\"dataframe\">\n",
       "  <thead>\n",
       "    <tr style=\"text-align: right;\">\n",
       "      <th></th>\n",
       "      <th>probability_score</th>\n",
       "      <th>isFraud</th>\n",
       "      <th>TransactionAmt</th>\n",
       "      <th>ProductCD</th>\n",
       "      <th>card4</th>\n",
       "      <th>card6</th>\n",
       "      <th>addr1</th>\n",
       "      <th>addr2</th>\n",
       "      <th>P_emaildomain</th>\n",
       "      <th>R_emaildomain</th>\n",
       "      <th>DeviceType</th>\n",
       "      <th>max_c</th>\n",
       "      <th>max_d</th>\n",
       "      <th>multi_transaction_per_time</th>\n",
       "      <th>browser_enc</th>\n",
       "      <th>device_info_v4</th>\n",
       "      <th>warning_score</th>\n",
       "      <th>final_score</th>\n",
       "    </tr>\n",
       "  </thead>\n",
       "  <tbody>\n",
       "    <tr>\n",
       "      <th>64046</th>\n",
       "      <td>0.116233</td>\n",
       "      <td>0</td>\n",
       "      <td>11.722</td>\n",
       "      <td>C</td>\n",
       "      <td>visa</td>\n",
       "      <td>debit</td>\n",
       "      <td>nan</td>\n",
       "      <td>nan</td>\n",
       "      <td>hotmail.com</td>\n",
       "      <td>hotmail.com</td>\n",
       "      <td>desktop</td>\n",
       "      <td>1.0</td>\n",
       "      <td>76.833336</td>\n",
       "      <td>0</td>\n",
       "      <td>chrome</td>\n",
       "      <td>windows</td>\n",
       "      <td>0.401480</td>\n",
       "      <td>0.257298</td>\n",
       "    </tr>\n",
       "    <tr>\n",
       "      <th>6402</th>\n",
       "      <td>0.067494</td>\n",
       "      <td>0</td>\n",
       "      <td>149.842</td>\n",
       "      <td>C</td>\n",
       "      <td>visa</td>\n",
       "      <td>debit</td>\n",
       "      <td>465.0</td>\n",
       "      <td>60.0</td>\n",
       "      <td>hotmail.com</td>\n",
       "      <td>hotmail.com</td>\n",
       "      <td>desktop</td>\n",
       "      <td>2.0</td>\n",
       "      <td>311.000000</td>\n",
       "      <td>0</td>\n",
       "      <td>safari</td>\n",
       "      <td>other</td>\n",
       "      <td>0.891109</td>\n",
       "      <td>0.407246</td>\n",
       "    </tr>\n",
       "  </tbody>\n",
       "</table>\n",
       "</div>"
      ],
      "text/plain": [
       "       probability_score isFraud  TransactionAmt ProductCD card4  card6  \\\n",
       "64046           0.116233       0          11.722         C  visa  debit   \n",
       "6402            0.067494       0         149.842         C  visa  debit   \n",
       "\n",
       "       addr1 addr2 P_emaildomain R_emaildomain DeviceType  max_c       max_d  \\\n",
       "64046    nan   nan   hotmail.com   hotmail.com    desktop    1.0   76.833336   \n",
       "6402   465.0  60.0   hotmail.com   hotmail.com    desktop    2.0  311.000000   \n",
       "\n",
       "       multi_transaction_per_time browser_enc device_info_v4  warning_score  \\\n",
       "64046                           0      chrome        windows       0.401480   \n",
       "6402                            0      safari          other       0.891109   \n",
       "\n",
       "       final_score  \n",
       "64046     0.257298  \n",
       "6402      0.407246  "
      ]
     },
     "execution_count": 25,
     "metadata": {},
     "output_type": "execute_result"
    }
   ],
   "source": [
    "val.sample(2)"
   ]
  },
  {
   "cell_type": "code",
   "execution_count": 26,
   "id": "58627865-bd9d-4456-8624-1b9f3029f988",
   "metadata": {},
   "outputs": [
    {
     "data": {
      "text/plain": [
       "<AxesSubplot:>"
      ]
     },
     "execution_count": 26,
     "metadata": {},
     "output_type": "execute_result"
    },
    {
     "data": {
      "image/png": "[encoded data removed]",
      "text/plain": [
       "<Figure size 432x288 with 1 Axes>"
      ]
     },
     "metadata": {
      "needs_background": "light"
     },
     "output_type": "display_data"
    }
   ],
   "source": [
    "val['final_score'].hist()"
   ]
  },
  {
   "cell_type": "markdown",
   "id": "c38cf05a-2a26-4abc-bfe1-436317ca1aa9",
   "metadata": {},
   "source": [
    "# 6.0 Model Output"
   ]
  },
  {
   "cell_type": "code",
   "execution_count": 27,
   "id": "0426aa06-c968-4fc9-9533-1edf64743b84",
   "metadata": {},
   "outputs": [],
   "source": [
    "with open('../../../data_lake/output/trained_model_v1.pkl','wb') as file:\n",
    "    pickle.dump(m.base_estimator, file)"
   ]
  },
  {
   "cell_type": "code",
   "execution_count": 28,
   "id": "21e4e969-d853-44f1-8c04-cd6388a875d7",
   "metadata": {},
   "outputs": [],
   "source": [
    "with open('../../../data_lake/output/log_scaler_bi.pkl','wb') as file:\n",
    "    pickle.dump(scaler, file)"
   ]
  },
  {
   "cell_type": "code",
   "execution_count": null,
   "id": "c6292b56-2e74-48ca-b564-731f7b895956",
   "metadata": {},
   "outputs": [],
   "source": []
  }
 ],
 "metadata": {
  "kernelspec": {
   "display_name": "Python 3",
   "language": "python",
   "name": "python3"
  },
  "language_info": {
   "codemirror_mode": {
    "name": "ipython",
    "version": 3
   },
   "file_extension": ".py",
   "mimetype": "text/x-python",
   "name": "python",
   "nbconvert_exporter": "python",
   "pygments_lexer": "ipython3",
   "version": "3.9.2"
  }
 },
 "nbformat": 4,
 "nbformat_minor": 5
}
