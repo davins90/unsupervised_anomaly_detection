{
 "cells": [
  {
   "cell_type": "markdown",
   "id": "78b9ab1b-17b0-45a4-96ef-785cbeb8355f",
   "metadata": {},
   "source": [
    "clustering con classificatore binario per ogni classe --> predict_proba"
   ]
  },
  {
   "cell_type": "code",
   "execution_count": 1,
   "id": "6d57c904-bd1c-47ef-b5d7-46d730fc9ee9",
   "metadata": {},
   "outputs": [],
   "source": [
    "import sys\n",
    "sys.path.append('../../')"
   ]
  },
  {
   "cell_type": "code",
   "execution_count": 2,
   "id": "4749bf27-a893-49c2-80c1-78b7601f0e16",
   "metadata": {},
   "outputs": [],
   "source": [
    "import pandas as pd\n",
    "import numpy as np\n",
    "import pickle\n",
    "import matplotlib.pyplot as plt\n",
    "\n",
    "from modules import machine_learning_utils as mlu\n",
    "\n",
    "pd.set_option(\"display.max_rows\",None)\n",
    "pd.set_option(\"display.max_columns\",None)"
   ]
  },
  {
   "cell_type": "markdown",
   "id": "3f4f1e2c-06fe-46f3-8f2f-f8f25c143da0",
   "metadata": {},
   "source": [
    "# 1.0 Data retrieval"
   ]
  },
  {
   "cell_type": "code",
   "execution_count": 3,
   "id": "65e43a7d-43ac-42b0-8296-fb0514f8ebd2",
   "metadata": {},
   "outputs": [],
   "source": [
    "df = pd.read_pickle(\"../../data_lake/output/train.pkl\")"
   ]
  },
  {
   "cell_type": "markdown",
   "id": "67801f17-00ca-4995-b791-b42570eb6ab7",
   "metadata": {},
   "source": [
    "# 2.0 Features Engineering"
   ]
  },
  {
   "cell_type": "code",
   "execution_count": 4,
   "id": "5695955c-8f39-4d9d-9201-5e84148e187b",
   "metadata": {},
   "outputs": [],
   "source": [
    "df = mlu.features_eng(df,'clustering')"
   ]
  },
  {
   "cell_type": "code",
   "execution_count": 5,
   "id": "e4bc0644-78fa-4dd8-bfcc-dbb838b41fd9",
   "metadata": {},
   "outputs": [],
   "source": [
    "cols = ['card1', 'card2', 'card3', 'card5', 'M4', 'id_21', 'id_22', 'id_23', 'id_24', 'id_25',\n",
    "       'id_26', 'id_27', 'id_28', 'id_29', 'id_30', 'id_32', 'id_33', 'id_34',\n",
    "       'id_35', 'id_36', 'id_37', 'id_38','num_transaction_per_time','addr1','P_emaildomain','R_emaildomain']"
   ]
  },
  {
   "cell_type": "code",
   "execution_count": 6,
   "id": "65b20810-ad8f-40bf-bb53-8c35aa71f0e3",
   "metadata": {},
   "outputs": [],
   "source": [
    "df = df.drop(columns=cols)"
   ]
  },
  {
   "cell_type": "code",
   "execution_count": 7,
   "id": "3e70dd1b-59be-4267-9c7a-8e55f2568a52",
   "metadata": {},
   "outputs": [],
   "source": [
    "df = df[df['isFraud']==0]\n",
    "df = df.drop(columns='isFraud')"
   ]
  },
  {
   "cell_type": "code",
   "execution_count": 8,
   "id": "81320968-b660-4d04-b79b-ec894f02aba7",
   "metadata": {},
   "outputs": [],
   "source": [
    "df = df.drop(columns=['addr2','multi_transaction_per_time'])"
   ]
  },
  {
   "cell_type": "code",
   "execution_count": 9,
   "id": "c93ac9bf-a84d-4f79-987d-1c9cae9fc2ad",
   "metadata": {},
   "outputs": [
    {
     "data": {
      "text/html": [
       "<div>\n",
       "<style scoped>\n",
       "    .dataframe tbody tr th:only-of-type {\n",
       "        vertical-align: middle;\n",
       "    }\n",
       "\n",
       "    .dataframe tbody tr th {\n",
       "        vertical-align: top;\n",
       "    }\n",
       "\n",
       "    .dataframe thead th {\n",
       "        text-align: right;\n",
       "    }\n",
       "</style>\n",
       "<table border=\"1\" class=\"dataframe\">\n",
       "  <thead>\n",
       "    <tr style=\"text-align: right;\">\n",
       "      <th></th>\n",
       "      <th>TransactionAmt</th>\n",
       "      <th>ProductCD</th>\n",
       "      <th>card4</th>\n",
       "      <th>card6</th>\n",
       "      <th>DeviceType</th>\n",
       "      <th>max_c</th>\n",
       "      <th>max_d</th>\n",
       "      <th>customer_id</th>\n",
       "      <th>browser_enc</th>\n",
       "      <th>device_info_v4</th>\n",
       "    </tr>\n",
       "  </thead>\n",
       "  <tbody>\n",
       "    <tr>\n",
       "      <th>53279</th>\n",
       "      <td>1000.0</td>\n",
       "      <td>R</td>\n",
       "      <td>visa</td>\n",
       "      <td>credit</td>\n",
       "      <td>tablet</td>\n",
       "      <td>1.0</td>\n",
       "      <td>162.875</td>\n",
       "      <td>1711</td>\n",
       "      <td>ie</td>\n",
       "      <td>windows</td>\n",
       "    </tr>\n",
       "  </tbody>\n",
       "</table>\n",
       "</div>"
      ],
      "text/plain": [
       "       TransactionAmt ProductCD card4   card6 DeviceType  max_c    max_d  \\\n",
       "53279          1000.0         R  visa  credit     tablet    1.0  162.875   \n",
       "\n",
       "       customer_id browser_enc device_info_v4  \n",
       "53279         1711          ie        windows  "
      ]
     },
     "execution_count": 9,
     "metadata": {},
     "output_type": "execute_result"
    }
   ],
   "source": [
    "df.sample(1)"
   ]
  },
  {
   "cell_type": "code",
   "execution_count": 10,
   "id": "7a02a4a3-79ee-4224-ad80-3ebdbd833436",
   "metadata": {},
   "outputs": [],
   "source": [
    "numerical_cols = df.select_dtypes(include=['int64', 'float64']).columns\n",
    "categorical_cols = df.select_dtypes(include=['object', 'bool']).columns"
   ]
  },
  {
   "cell_type": "code",
   "execution_count": 11,
   "id": "667d0a22-7026-4bb3-9bf6-373be108ec80",
   "metadata": {},
   "outputs": [],
   "source": [
    "from sklearn.experimental import enable_iterative_imputer\n",
    "from sklearn.impute import IterativeImputer\n",
    "from sklearn.impute import SimpleImputer\n",
    "from sklearn.preprocessing import OrdinalEncoder\n",
    "from sklearn.preprocessing import MinMaxScaler\n",
    "\n",
    "imp_mean = IterativeImputer(random_state=0)\n",
    "imp_mean2 = SimpleImputer(strategy='constant', fill_value='missing',verbose=0,add_indicator=True)\n",
    "enc = OrdinalEncoder()\n",
    "scaler = MinMaxScaler()"
   ]
  },
  {
   "cell_type": "code",
   "execution_count": 12,
   "id": "26a0beab-8a99-43be-bfb7-26bd9bebbff8",
   "metadata": {},
   "outputs": [],
   "source": [
    "for i in df:\n",
    "    if i in numerical_cols:\n",
    "        if i != 'customer_id':\n",
    "            df[i] = imp_mean.fit_transform(X = df[i].values.reshape(-1,1))\n",
    "            # df[i] = np.log(df[i] +1)\n",
    "            df[i] = scaler.fit_transform(X = df[i].values.reshape(-1,1))"
   ]
  },
  {
   "cell_type": "code",
   "execution_count": 13,
   "id": "9094e165-36f3-4cde-a345-cad2d219e5d9",
   "metadata": {},
   "outputs": [],
   "source": [
    "for i in df:\n",
    "    if i in categorical_cols:\n",
    "        df[i] = df[i].astype(str)\n",
    "        df[i] = imp_mean2.fit_transform(X = df[i].values.reshape(-1,1))\n",
    "        # df[i] = enc.fit_transform(X = df[i].values.reshape(-1,1))"
   ]
  },
  {
   "cell_type": "code",
   "execution_count": 14,
   "id": "e11c715a-48bb-4874-92e4-1d85f6babae1",
   "metadata": {},
   "outputs": [
    {
     "data": {
      "text/html": [
       "<div>\n",
       "<style scoped>\n",
       "    .dataframe tbody tr th:only-of-type {\n",
       "        vertical-align: middle;\n",
       "    }\n",
       "\n",
       "    .dataframe tbody tr th {\n",
       "        vertical-align: top;\n",
       "    }\n",
       "\n",
       "    .dataframe thead th {\n",
       "        text-align: right;\n",
       "    }\n",
       "</style>\n",
       "<table border=\"1\" class=\"dataframe\">\n",
       "  <thead>\n",
       "    <tr style=\"text-align: right;\">\n",
       "      <th></th>\n",
       "      <th>TransactionAmt</th>\n",
       "      <th>ProductCD</th>\n",
       "      <th>card4</th>\n",
       "      <th>card6</th>\n",
       "      <th>DeviceType</th>\n",
       "      <th>max_c</th>\n",
       "      <th>max_d</th>\n",
       "      <th>customer_id</th>\n",
       "      <th>browser_enc</th>\n",
       "      <th>device_info_v4</th>\n",
       "    </tr>\n",
       "  </thead>\n",
       "  <tbody>\n",
       "    <tr>\n",
       "      <th>31937</th>\n",
       "      <td>0.099545</td>\n",
       "      <td>R</td>\n",
       "      <td>visa</td>\n",
       "      <td>credit</td>\n",
       "      <td>desktop</td>\n",
       "      <td>0.214832</td>\n",
       "      <td>0.040769</td>\n",
       "      <td>16018</td>\n",
       "      <td>ie</td>\n",
       "      <td>other</td>\n",
       "    </tr>\n",
       "    <tr>\n",
       "      <th>125517</th>\n",
       "      <td>0.009499</td>\n",
       "      <td>H</td>\n",
       "      <td>visa</td>\n",
       "      <td>debit</td>\n",
       "      <td>desktop</td>\n",
       "      <td>0.000178</td>\n",
       "      <td>0.000049</td>\n",
       "      <td>9952</td>\n",
       "      <td>chrome</td>\n",
       "      <td>ios</td>\n",
       "    </tr>\n",
       "    <tr>\n",
       "      <th>45835</th>\n",
       "      <td>0.032845</td>\n",
       "      <td>R</td>\n",
       "      <td>visa</td>\n",
       "      <td>debit</td>\n",
       "      <td>mobile</td>\n",
       "      <td>0.000000</td>\n",
       "      <td>0.000415</td>\n",
       "      <td>1744</td>\n",
       "      <td>safari</td>\n",
       "      <td>ios</td>\n",
       "    </tr>\n",
       "  </tbody>\n",
       "</table>\n",
       "</div>"
      ],
      "text/plain": [
       "        TransactionAmt ProductCD card4   card6 DeviceType     max_c     max_d  \\\n",
       "31937         0.099545         R  visa  credit    desktop  0.214832  0.040769   \n",
       "125517        0.009499         H  visa   debit    desktop  0.000178  0.000049   \n",
       "45835         0.032845         R  visa   debit     mobile  0.000000  0.000415   \n",
       "\n",
       "        customer_id browser_enc device_info_v4  \n",
       "31937         16018          ie          other  \n",
       "125517         9952      chrome            ios  \n",
       "45835          1744      safari            ios  "
      ]
     },
     "execution_count": 14,
     "metadata": {},
     "output_type": "execute_result"
    }
   ],
   "source": [
    "df.sample(3)"
   ]
  },
  {
   "cell_type": "code",
   "execution_count": 15,
   "id": "40112713-f66b-46e0-8ab1-641eabbc3eb5",
   "metadata": {},
   "outputs": [],
   "source": [
    "df['product_enc'] = 999\n",
    "df['product_enc'] = df['product_enc'].mask(df['ProductCD']=='C',0)\n",
    "df['product_enc'] = df['product_enc'].mask(df['ProductCD']=='H',1)\n",
    "df['product_enc'] = df['product_enc'].mask(df['ProductCD']=='S',2)\n",
    "df['product_enc'] = df['product_enc'].mask(df['ProductCD']=='R',3)\n",
    "df = df.drop(columns='ProductCD')"
   ]
  },
  {
   "cell_type": "code",
   "execution_count": 16,
   "id": "fe905898-cb94-4cdb-a97d-367bb3ea93d9",
   "metadata": {},
   "outputs": [],
   "source": [
    "df['card4_enc'] = 999\n",
    "df['card4_enc'] = df['card4_enc'].mask(df['card4']=='visa',0)\n",
    "df['card4_enc'] = df['card4_enc'].mask(df['card4']=='mastercard',1)\n",
    "df['card4_enc'] = df['card4_enc'].mask(df['card4']=='american express',2)\n",
    "df['card4_enc'] = df['card4_enc'].mask(df['card4']=='discover',3)\n",
    "df = df.drop(columns='card4')"
   ]
  },
  {
   "cell_type": "code",
   "execution_count": 17,
   "id": "d0a5c7fa-153f-4123-83b5-0b5d6323de63",
   "metadata": {},
   "outputs": [],
   "source": [
    "df['card6_enc'] = 999\n",
    "df['card6_enc'] = df['card6_enc'].mask(df['card6']=='debit',0)\n",
    "df['card6_enc'] = df['card6_enc'].mask(df['card6']=='credit',1)\n",
    "df = df.drop(columns='card6')"
   ]
  },
  {
   "cell_type": "code",
   "execution_count": 18,
   "id": "808e816b-f3b5-4f8a-aab7-6ffa6c15b0dc",
   "metadata": {},
   "outputs": [],
   "source": [
    "df['DeviceType_enc'] = 999\n",
    "df['DeviceType_enc'] = df['DeviceType_enc'].mask(df['DeviceType']=='mobile',0)\n",
    "df['DeviceType_enc'] = df['DeviceType_enc'].mask(df['DeviceType']=='desktop',1)\n",
    "df['DeviceType_enc'] = df['DeviceType_enc'].mask(df['DeviceType']=='tablet',2)\n",
    "df = df.drop(columns='DeviceType')"
   ]
  },
  {
   "cell_type": "code",
   "execution_count": 19,
   "id": "ffd32b1a-ddeb-44bc-8931-ff96bd48d30f",
   "metadata": {},
   "outputs": [],
   "source": [
    "df['browser_enc2'] = 7\n",
    "df['browser_enc2'] = df['browser_enc2'].mask(df['browser_enc']=='chrome',0)\n",
    "df['browser_enc2'] = df['browser_enc2'].mask(df['browser_enc']=='safari',1)\n",
    "df['browser_enc2'] = df['browser_enc2'].mask(df['browser_enc']=='firefox',2)\n",
    "df['browser_enc2'] = df['browser_enc2'].mask(df['browser_enc']=='ie',3)\n",
    "df['browser_enc2'] = df['browser_enc2'].mask(df['browser_enc']=='android',4)\n",
    "df['browser_enc2'] = df['browser_enc2'].mask(df['browser_enc']=='edge',5)\n",
    "df['browser_enc2'] = df['browser_enc2'].mask(df['browser_enc']=='opera',6)\n",
    "df = df.drop(columns='browser_enc')"
   ]
  },
  {
   "cell_type": "code",
   "execution_count": 20,
   "id": "507542c2-6e37-496d-b637-0dacde6ada65",
   "metadata": {},
   "outputs": [],
   "source": [
    "df['device_info_v4_enc'] = 17\n",
    "df['device_info_v4_enc'] = df['device_info_v4_enc'].mask(df['device_info_v4']=='ios',0)\n",
    "df['device_info_v4_enc'] = df['device_info_v4_enc'].mask(df['device_info_v4']=='windows',1)\n",
    "df['device_info_v4_enc'] = df['device_info_v4_enc'].mask(df['device_info_v4']=='samsung',2)\n",
    "df['device_info_v4_enc'] = df['device_info_v4_enc'].mask(df['device_info_v4']=='hisense',3)\n",
    "df['device_info_v4_enc'] = df['device_info_v4_enc'].mask(df['device_info_v4']=='moto',4)\n",
    "df['device_info_v4_enc'] = df['device_info_v4_enc'].mask(df['device_info_v4']=='pixel',5)\n",
    "df['device_info_v4_enc'] = df['device_info_v4_enc'].mask(df['device_info_v4']=='lg',6)\n",
    "df['device_info_v4_enc'] = df['device_info_v4_enc'].mask(df['device_info_v4']=='blade',7)\n",
    "df['device_info_v4_enc'] = df['device_info_v4_enc'].mask(df['device_info_v4']=='huawei',8)\n",
    "df['device_info_v4_enc'] = df['device_info_v4_enc'].mask(df['device_info_v4']=='oneplus',9)\n",
    "df['device_info_v4_enc'] = df['device_info_v4_enc'].mask(df['device_info_v4']=='alcatel',10)\n",
    "df['device_info_v4_enc'] = df['device_info_v4_enc'].mask(df['device_info_v4']=='redmi',11)\n",
    "df['device_info_v4_enc'] = df['device_info_v4_enc'].mask(df['device_info_v4']=='lenovo',12)\n",
    "df['device_info_v4_enc'] = df['device_info_v4_enc'].mask(df['device_info_v4']=='asus',13)\n",
    "df['device_info_v4_enc'] = df['device_info_v4_enc'].mask(df['device_info_v4']=='linux',14)\n",
    "df['device_info_v4_enc'] = df['device_info_v4_enc'].mask(df['device_info_v4']=='android',15)\n",
    "df['device_info_v4_enc'] = df['device_info_v4_enc'].mask(df['device_info_v4']=='zte',16)\n",
    "df = df.drop(columns='device_info_v4')"
   ]
  },
  {
   "cell_type": "code",
   "execution_count": 21,
   "id": "71bbfbb1-24b5-4e03-9c4e-85aac7176d62",
   "metadata": {},
   "outputs": [],
   "source": [
    "df = df.set_index('customer_id')"
   ]
  },
  {
   "cell_type": "code",
   "execution_count": 22,
   "id": "c0d1a190-189e-4218-9e05-84760e2aa9f7",
   "metadata": {},
   "outputs": [
    {
     "data": {
      "text/html": [
       "<div>\n",
       "<style scoped>\n",
       "    .dataframe tbody tr th:only-of-type {\n",
       "        vertical-align: middle;\n",
       "    }\n",
       "\n",
       "    .dataframe tbody tr th {\n",
       "        vertical-align: top;\n",
       "    }\n",
       "\n",
       "    .dataframe thead th {\n",
       "        text-align: right;\n",
       "    }\n",
       "</style>\n",
       "<table border=\"1\" class=\"dataframe\">\n",
       "  <thead>\n",
       "    <tr style=\"text-align: right;\">\n",
       "      <th></th>\n",
       "      <th>TransactionAmt</th>\n",
       "      <th>max_c</th>\n",
       "      <th>max_d</th>\n",
       "      <th>product_enc</th>\n",
       "      <th>card4_enc</th>\n",
       "      <th>card6_enc</th>\n",
       "      <th>DeviceType_enc</th>\n",
       "      <th>browser_enc2</th>\n",
       "      <th>device_info_v4_enc</th>\n",
       "    </tr>\n",
       "    <tr>\n",
       "      <th>customer_id</th>\n",
       "      <th></th>\n",
       "      <th></th>\n",
       "      <th></th>\n",
       "      <th></th>\n",
       "      <th></th>\n",
       "      <th></th>\n",
       "      <th></th>\n",
       "      <th></th>\n",
       "      <th></th>\n",
       "    </tr>\n",
       "  </thead>\n",
       "  <tbody>\n",
       "    <tr>\n",
       "      <th>15020</th>\n",
       "      <td>0.066195</td>\n",
       "      <td>0.000000</td>\n",
       "      <td>0.000000</td>\n",
       "      <td>3</td>\n",
       "      <td>0</td>\n",
       "      <td>1</td>\n",
       "      <td>1</td>\n",
       "      <td>0</td>\n",
       "      <td>1</td>\n",
       "    </tr>\n",
       "    <tr>\n",
       "      <th>30611</th>\n",
       "      <td>0.024400</td>\n",
       "      <td>0.001601</td>\n",
       "      <td>0.000439</td>\n",
       "      <td>0</td>\n",
       "      <td>1</td>\n",
       "      <td>1</td>\n",
       "      <td>1</td>\n",
       "      <td>0</td>\n",
       "      <td>17</td>\n",
       "    </tr>\n",
       "    <tr>\n",
       "      <th>1709</th>\n",
       "      <td>0.018194</td>\n",
       "      <td>0.000000</td>\n",
       "      <td>0.000000</td>\n",
       "      <td>0</td>\n",
       "      <td>1</td>\n",
       "      <td>0</td>\n",
       "      <td>0</td>\n",
       "      <td>0</td>\n",
       "      <td>2</td>\n",
       "    </tr>\n",
       "  </tbody>\n",
       "</table>\n",
       "</div>"
      ],
      "text/plain": [
       "             TransactionAmt     max_c     max_d  product_enc  card4_enc  \\\n",
       "customer_id                                                               \n",
       "15020              0.066195  0.000000  0.000000            3          0   \n",
       "30611              0.024400  0.001601  0.000439            0          1   \n",
       "1709               0.018194  0.000000  0.000000            0          1   \n",
       "\n",
       "             card6_enc  DeviceType_enc  browser_enc2  device_info_v4_enc  \n",
       "customer_id                                                               \n",
       "15020                1               1             0                   1  \n",
       "30611                1               1             0                  17  \n",
       "1709                 0               0             0                   2  "
      ]
     },
     "execution_count": 22,
     "metadata": {},
     "output_type": "execute_result"
    }
   ],
   "source": [
    "df.sample(3)"
   ]
  },
  {
   "cell_type": "markdown",
   "id": "33fed496-e96d-4db6-9275-6787a3118fad",
   "metadata": {},
   "source": [
    "# 3.0 Clustering --> Personas generation"
   ]
  },
  {
   "cell_type": "code",
   "execution_count": 23,
   "id": "65e1e000-cfcc-4e01-b91f-91c8ffb2969d",
   "metadata": {},
   "outputs": [],
   "source": [
    "from kmodes.kprototypes import KPrototypes\n",
    "from sklearn.metrics import silhouette_score\n",
    "\n",
    "import gower\n",
    "import heapq"
   ]
  },
  {
   "cell_type": "code",
   "execution_count": 24,
   "id": "2662a992-42e6-4efe-9d77-1f23b4098750",
   "metadata": {},
   "outputs": [],
   "source": [
    "# sil=[]\n",
    "# for num_clusters in list(range(2,30)):\n",
    "#     kproto = KPrototypes(n_clusters=num_clusters, verbose=0,random_state = 301,n_init=5)\n",
    "#     cluster_labels = kproto.fit_predict(df.values, categorical=[3,4,5,6,7,8])\n",
    "#     df['cluster_labels'] = cluster_labels\n",
    "#     dist = gower.gower_matrix(df.drop(columns=['cluster_labels']),cat_features = [False, False ,False, True, True,True,True,True,True])\n",
    "#     sil.append(silhouette_score(dist,labels=cluster_labels, metric='precomputed'))\n",
    "#     print('For cluster number: ',num_clusters,' the score is: ', sil[-1])"
   ]
  },
  {
   "cell_type": "code",
   "execution_count": 25,
   "id": "276ddd7e-f8cb-441b-8334-b22d469bcf35",
   "metadata": {},
   "outputs": [],
   "source": [
    "# df = df.drop(columns='cluster_labels')"
   ]
  },
  {
   "cell_type": "code",
   "execution_count": 26,
   "id": "2d96cc29-74ba-4f14-8ef6-d913bc821a1f",
   "metadata": {},
   "outputs": [],
   "source": [
    "kproto = KPrototypes(n_clusters=4, verbose=0,random_state = 301)\n",
    "cluster_labels = kproto.fit_predict(df.values, categorical=[3,4,5,6,7,8])"
   ]
  },
  {
   "cell_type": "code",
   "execution_count": 27,
   "id": "1347ace5-51e7-4058-be81-32d89c64b0a3",
   "metadata": {},
   "outputs": [],
   "source": [
    "centroid = []\n",
    "for j,i in enumerate(kproto.cluster_centroids_):\n",
    "    centroid.append(pd.DataFrame(i,index=['TransactionAmt','max_c', 'max_d','product_enc', 'card4_enc', 'card6_enc',\n",
    "       'DeviceType_enc', 'browser_enc2', 'device_info_v4_enc'],columns=[j]))\n",
    "centroid = pd.concat(centroid,axis=1)"
   ]
  },
  {
   "cell_type": "code",
   "execution_count": 28,
   "id": "502a9cea-5b1e-4f08-bf45-16275369ab7b",
   "metadata": {},
   "outputs": [
    {
     "data": {
      "text/html": [
       "<style type=\"text/css\">\n",
       "#T_f8f77_row0_col0 {\n",
       "  background-color: #c43b00;\n",
       "  color: #f1f1f1;\n",
       "}\n",
       "#T_f8f77_row0_col1, #T_f8f77_row1_col2, #T_f8f77_row2_col1, #T_f8f77_row3_col1, #T_f8f77_row5_col0, #T_f8f77_row5_col3, #T_f8f77_row6_col0, #T_f8f77_row6_col1, #T_f8f77_row7_col3, #T_f8f77_row8_col2 {\n",
       "  background-color: #00ff00;\n",
       "  color: #000000;\n",
       "}\n",
       "#T_f8f77_row0_col2, #T_f8f77_row1_col3, #T_f8f77_row2_col3, #T_f8f77_row3_col0, #T_f8f77_row3_col2, #T_f8f77_row4_col0, #T_f8f77_row4_col1, #T_f8f77_row4_col2, #T_f8f77_row4_col3, #T_f8f77_row5_col1, #T_f8f77_row5_col2, #T_f8f77_row6_col2, #T_f8f77_row6_col3, #T_f8f77_row7_col0, #T_f8f77_row7_col1, #T_f8f77_row7_col2, #T_f8f77_row8_col3 {\n",
       "  background-color: #0000ff;\n",
       "  color: #f1f1f1;\n",
       "}\n",
       "#T_f8f77_row0_col3 {\n",
       "  background-color: #8c7300;\n",
       "  color: #f1f1f1;\n",
       "}\n",
       "#T_f8f77_row1_col0 {\n",
       "  background-color: #f80700;\n",
       "  color: #f1f1f1;\n",
       "}\n",
       "#T_f8f77_row1_col1 {\n",
       "  background-color: #d60029;\n",
       "  color: #f1f1f1;\n",
       "}\n",
       "#T_f8f77_row2_col0 {\n",
       "  background-color: #3600c9;\n",
       "  color: #f1f1f1;\n",
       "}\n",
       "#T_f8f77_row2_col2 {\n",
       "  background-color: #4600b9;\n",
       "  color: #f1f1f1;\n",
       "}\n",
       "#T_f8f77_row3_col3 {\n",
       "  background-color: #aa0055;\n",
       "  color: #f1f1f1;\n",
       "}\n",
       "#T_f8f77_row8_col0, #T_f8f77_row8_col1 {\n",
       "  background-color: #1e00e1;\n",
       "  color: #f1f1f1;\n",
       "}\n",
       "</style>\n",
       "<table id=\"T_f8f77_\">\n",
       "  <thead>\n",
       "    <tr>\n",
       "      <th class=\"blank level0\" >&nbsp;</th>\n",
       "      <th class=\"col_heading level0 col0\" >0</th>\n",
       "      <th class=\"col_heading level0 col1\" >1</th>\n",
       "      <th class=\"col_heading level0 col2\" >2</th>\n",
       "      <th class=\"col_heading level0 col3\" >3</th>\n",
       "    </tr>\n",
       "  </thead>\n",
       "  <tbody>\n",
       "    <tr>\n",
       "      <th id=\"T_f8f77_level0_row0\" class=\"row_heading level0 row0\" >TransactionAmt</th>\n",
       "      <td id=\"T_f8f77_row0_col0\" class=\"data row0 col0\" >0.060090</td>\n",
       "      <td id=\"T_f8f77_row0_col1\" class=\"data row0 col1\" >0.080473</td>\n",
       "      <td id=\"T_f8f77_row0_col2\" class=\"data row0 col2\" >0.027653</td>\n",
       "      <td id=\"T_f8f77_row0_col3\" class=\"data row0 col3\" >0.066001</td>\n",
       "    </tr>\n",
       "    <tr>\n",
       "      <th id=\"T_f8f77_level0_row1\" class=\"row_heading level0 row1\" >max_c</th>\n",
       "      <td id=\"T_f8f77_row1_col0\" class=\"data row1 col0\" >0.006742</td>\n",
       "      <td id=\"T_f8f77_row1_col1\" class=\"data row1 col1\" >0.005659</td>\n",
       "      <td id=\"T_f8f77_row1_col2\" class=\"data row1 col2\" >0.012320</td>\n",
       "      <td id=\"T_f8f77_row1_col3\" class=\"data row1 col3\" >0.000806</td>\n",
       "    </tr>\n",
       "    <tr>\n",
       "      <th id=\"T_f8f77_level0_row2\" class=\"row_heading level0 row2\" >max_d</th>\n",
       "      <td id=\"T_f8f77_row2_col0\" class=\"data row2 col0\" >0.048834</td>\n",
       "      <td id=\"T_f8f77_row2_col1\" class=\"data row2 col1\" >0.325682</td>\n",
       "      <td id=\"T_f8f77_row2_col2\" class=\"data row2 col2\" >0.059076</td>\n",
       "      <td id=\"T_f8f77_row2_col3\" class=\"data row2 col3\" >0.015510</td>\n",
       "    </tr>\n",
       "    <tr>\n",
       "      <th id=\"T_f8f77_level0_row3\" class=\"row_heading level0 row3\" >product_enc</th>\n",
       "      <td id=\"T_f8f77_row3_col0\" class=\"data row3 col0\" >0.000000</td>\n",
       "      <td id=\"T_f8f77_row3_col1\" class=\"data row3 col1\" >3.000000</td>\n",
       "      <td id=\"T_f8f77_row3_col2\" class=\"data row3 col2\" >0.000000</td>\n",
       "      <td id=\"T_f8f77_row3_col3\" class=\"data row3 col3\" >1.000000</td>\n",
       "    </tr>\n",
       "    <tr>\n",
       "      <th id=\"T_f8f77_level0_row4\" class=\"row_heading level0 row4\" >card4_enc</th>\n",
       "      <td id=\"T_f8f77_row4_col0\" class=\"data row4 col0\" >0.000000</td>\n",
       "      <td id=\"T_f8f77_row4_col1\" class=\"data row4 col1\" >0.000000</td>\n",
       "      <td id=\"T_f8f77_row4_col2\" class=\"data row4 col2\" >0.000000</td>\n",
       "      <td id=\"T_f8f77_row4_col3\" class=\"data row4 col3\" >0.000000</td>\n",
       "    </tr>\n",
       "    <tr>\n",
       "      <th id=\"T_f8f77_level0_row5\" class=\"row_heading level0 row5\" >card6_enc</th>\n",
       "      <td id=\"T_f8f77_row5_col0\" class=\"data row5 col0\" >1.000000</td>\n",
       "      <td id=\"T_f8f77_row5_col1\" class=\"data row5 col1\" >0.000000</td>\n",
       "      <td id=\"T_f8f77_row5_col2\" class=\"data row5 col2\" >0.000000</td>\n",
       "      <td id=\"T_f8f77_row5_col3\" class=\"data row5 col3\" >1.000000</td>\n",
       "    </tr>\n",
       "    <tr>\n",
       "      <th id=\"T_f8f77_level0_row6\" class=\"row_heading level0 row6\" >DeviceType_enc</th>\n",
       "      <td id=\"T_f8f77_row6_col0\" class=\"data row6 col0\" >1.000000</td>\n",
       "      <td id=\"T_f8f77_row6_col1\" class=\"data row6 col1\" >1.000000</td>\n",
       "      <td id=\"T_f8f77_row6_col2\" class=\"data row6 col2\" >0.000000</td>\n",
       "      <td id=\"T_f8f77_row6_col3\" class=\"data row6 col3\" >0.000000</td>\n",
       "    </tr>\n",
       "    <tr>\n",
       "      <th id=\"T_f8f77_level0_row7\" class=\"row_heading level0 row7\" >browser_enc2</th>\n",
       "      <td id=\"T_f8f77_row7_col0\" class=\"data row7 col0\" >0.000000</td>\n",
       "      <td id=\"T_f8f77_row7_col1\" class=\"data row7 col1\" >0.000000</td>\n",
       "      <td id=\"T_f8f77_row7_col2\" class=\"data row7 col2\" >0.000000</td>\n",
       "      <td id=\"T_f8f77_row7_col3\" class=\"data row7 col3\" >1.000000</td>\n",
       "    </tr>\n",
       "    <tr>\n",
       "      <th id=\"T_f8f77_level0_row8\" class=\"row_heading level0 row8\" >device_info_v4_enc</th>\n",
       "      <td id=\"T_f8f77_row8_col0\" class=\"data row8 col0\" >1.000000</td>\n",
       "      <td id=\"T_f8f77_row8_col1\" class=\"data row8 col1\" >1.000000</td>\n",
       "      <td id=\"T_f8f77_row8_col2\" class=\"data row8 col2\" >17.000000</td>\n",
       "      <td id=\"T_f8f77_row8_col3\" class=\"data row8 col3\" >0.000000</td>\n",
       "    </tr>\n",
       "  </tbody>\n",
       "</table>\n"
      ],
      "text/plain": [
       "<pandas.io.formats.style.Styler at 0x7fc8d9c6bc70>"
      ]
     },
     "execution_count": 28,
     "metadata": {},
     "output_type": "execute_result"
    }
   ],
   "source": [
    "centroid.style.background_gradient(cmap='brg',axis=1)"
   ]
  },
  {
   "cell_type": "code",
   "execution_count": 29,
   "id": "be1bf30d-8d2c-4e49-9698-6957b4cfa9af",
   "metadata": {},
   "outputs": [],
   "source": [
    "df['cluster_labels'] = cluster_labels"
   ]
  },
  {
   "cell_type": "code",
   "execution_count": 30,
   "id": "1383e78f-51df-4195-b94f-e86bf8051073",
   "metadata": {},
   "outputs": [
    {
     "data": {
      "text/html": [
       "<div>\n",
       "<style scoped>\n",
       "    .dataframe tbody tr th:only-of-type {\n",
       "        vertical-align: middle;\n",
       "    }\n",
       "\n",
       "    .dataframe tbody tr th {\n",
       "        vertical-align: top;\n",
       "    }\n",
       "\n",
       "    .dataframe thead th {\n",
       "        text-align: right;\n",
       "    }\n",
       "</style>\n",
       "<table border=\"1\" class=\"dataframe\">\n",
       "  <thead>\n",
       "    <tr style=\"text-align: right;\">\n",
       "      <th></th>\n",
       "      <th>TransactionAmt</th>\n",
       "      <th>max_c</th>\n",
       "      <th>max_d</th>\n",
       "      <th>product_enc</th>\n",
       "      <th>card4_enc</th>\n",
       "      <th>card6_enc</th>\n",
       "      <th>DeviceType_enc</th>\n",
       "      <th>browser_enc2</th>\n",
       "      <th>device_info_v4_enc</th>\n",
       "      <th>cluster_labels</th>\n",
       "    </tr>\n",
       "    <tr>\n",
       "      <th>customer_id</th>\n",
       "      <th></th>\n",
       "      <th></th>\n",
       "      <th></th>\n",
       "      <th></th>\n",
       "      <th></th>\n",
       "      <th></th>\n",
       "      <th></th>\n",
       "      <th></th>\n",
       "      <th></th>\n",
       "      <th></th>\n",
       "    </tr>\n",
       "  </thead>\n",
       "  <tbody>\n",
       "    <tr>\n",
       "      <th>116</th>\n",
       "      <td>0.018563</td>\n",
       "      <td>0.0</td>\n",
       "      <td>0.0</td>\n",
       "      <td>0</td>\n",
       "      <td>0</td>\n",
       "      <td>0</td>\n",
       "      <td>0</td>\n",
       "      <td>0</td>\n",
       "      <td>17</td>\n",
       "      <td>2</td>\n",
       "    </tr>\n",
       "  </tbody>\n",
       "</table>\n",
       "</div>"
      ],
      "text/plain": [
       "             TransactionAmt  max_c  max_d  product_enc  card4_enc  card6_enc  \\\n",
       "customer_id                                                                    \n",
       "116                0.018563    0.0    0.0            0          0          0   \n",
       "\n",
       "             DeviceType_enc  browser_enc2  device_info_v4_enc  cluster_labels  \n",
       "customer_id                                                                    \n",
       "116                       0             0                  17               2  "
      ]
     },
     "execution_count": 30,
     "metadata": {},
     "output_type": "execute_result"
    }
   ],
   "source": [
    "df.head(1)"
   ]
  },
  {
   "cell_type": "code",
   "execution_count": 31,
   "id": "e3848023-22f9-4981-9ffd-d5ded9a67f2e",
   "metadata": {},
   "outputs": [
    {
     "data": {
      "text/plain": [
       "0    2969\n",
       "2    2109\n",
       "3    1918\n",
       "1    1031\n",
       "Name: cluster_labels, dtype: int64"
      ]
     },
     "execution_count": 31,
     "metadata": {},
     "output_type": "execute_result"
    }
   ],
   "source": [
    "df['cluster_labels'].value_counts()"
   ]
  },
  {
   "cell_type": "markdown",
   "id": "b94ae274-6ebb-47da-9b3f-1bf8777ff26a",
   "metadata": {
    "tags": []
   },
   "source": [
    "# 2.0 Machine Learning on Personas\n",
    "## 2.1 model cluster 0 "
   ]
  },
  {
   "cell_type": "code",
   "execution_count": 32,
   "id": "ee33885f-78dd-4063-93ed-62e717b522e5",
   "metadata": {},
   "outputs": [],
   "source": [
    "df_class = df.copy()\n",
    "df_class['y'] = 0\n",
    "df_class['y'] = df_class['y'].mask(df_class['cluster_labels']==0,1)"
   ]
  },
  {
   "cell_type": "code",
   "execution_count": 33,
   "id": "4aa3232a-b2bc-4526-9871-cd3c9c140f66",
   "metadata": {},
   "outputs": [
    {
     "data": {
      "text/plain": [
       "0    5058\n",
       "1    2969\n",
       "Name: y, dtype: int64"
      ]
     },
     "execution_count": 33,
     "metadata": {},
     "output_type": "execute_result"
    }
   ],
   "source": [
    "df_class['y'].value_counts()"
   ]
  },
  {
   "cell_type": "code",
   "execution_count": 34,
   "id": "5105d9b7-2062-465b-a385-3c65f93b7fd9",
   "metadata": {},
   "outputs": [
    {
     "name": "stdout",
     "output_type": "stream",
     "text": [
      "Train shape:  (5618, 11)\n",
      "Train %: \n",
      " 0    0.627625\n",
      "1    0.372375\n",
      "Name: y, dtype: float64\n",
      "Val %: \n",
      " 0    0.624585\n",
      "1    0.375415\n",
      "Name: y, dtype: float64\n",
      "Test %: \n",
      " 0    0.647303\n",
      "1    0.352697\n",
      "Name: y, dtype: float64\n"
     ]
    }
   ],
   "source": [
    "train, val, test = mlu.partitioning(df_class,0.7,0.15,'y')"
   ]
  },
  {
   "cell_type": "code",
   "execution_count": 35,
   "id": "c57dde03-2622-4b90-abaf-778b93897e8b",
   "metadata": {},
   "outputs": [
    {
     "name": "stdout",
     "output_type": "stream",
     "text": [
      "0    2092\n",
      "1    2092\n",
      "Name: y, dtype: int64\n",
      "Train dataset shape:  (4184, 11)\n"
     ]
    }
   ],
   "source": [
    "final_train = mlu.class_imbalance(train,'y')"
   ]
  },
  {
   "cell_type": "code",
   "execution_count": 36,
   "id": "f42f73a6-a617-4af8-ab65-42eb11cb2aa6",
   "metadata": {},
   "outputs": [],
   "source": [
    "for i in final_train:\n",
    "    if final_train[i].dtypes == 'object':\n",
    "        final_train[i] = final_train[i].astype(str)"
   ]
  },
  {
   "cell_type": "code",
   "execution_count": 37,
   "id": "447dd015-4ec9-424b-a67a-5467bea048fa",
   "metadata": {},
   "outputs": [],
   "source": [
    "X_train = final_train.drop(columns='y')\n",
    "y_train = final_train['y'].astype(float)"
   ]
  },
  {
   "cell_type": "code",
   "execution_count": 38,
   "id": "8e2abe67-a034-4489-ab56-95d352c1ba5c",
   "metadata": {},
   "outputs": [],
   "source": [
    "numerical_cols = X_train.select_dtypes(include=['int64', 'float64']).columns\n",
    "categorical_cols = X_train.select_dtypes(include=['object', 'bool']).columns"
   ]
  },
  {
   "cell_type": "code",
   "execution_count": 39,
   "id": "2343117c-6d3d-4e71-ac9a-f618b3129445",
   "metadata": {},
   "outputs": [],
   "source": [
    "parameters = {'model__max_depth':[2,3],'model__n_estimators':[50,100],'model__learning_rate':[0.05,0.1],'model__min_samples_leaf':[2,3]}"
   ]
  },
  {
   "cell_type": "code",
   "execution_count": 40,
   "id": "9d223653-db46-491e-8480-ff2f6aa40f5c",
   "metadata": {},
   "outputs": [
    {
     "name": "stdout",
     "output_type": "stream",
     "text": [
      "GridSearchCV results...\n",
      "Mean Train Scores: \n",
      "[0.95777565 0.96191842 0.95777565 0.96191842 0.97848948 0.97594009\n",
      " 0.97848948 0.97466539 0.96128107 0.9652645  0.96175908 0.96622052\n",
      " 0.97530274 0.99267049 0.97609943 0.99251115]\n",
      "\n",
      "Mean CV Scores: \n",
      "[0.95650096 0.96032505 0.95650096 0.96032505 0.9751434  0.97131931\n",
      " 0.9751434  0.96940727 0.95936902 0.96175908 0.95984704 0.96175908\n",
      " 0.96988528 0.9875717  0.97179732 0.98565966]\n",
      "\n",
      "Best Parameters: \n",
      "{'model__learning_rate': 0.1, 'model__max_depth': 3, 'model__min_samples_leaf': 2, 'model__n_estimators': 100}\n",
      "\n"
     ]
    }
   ],
   "source": [
    "model = mlu.model_training(X_train,y_train,numerical_cols,categorical_cols,parameters,'no')"
   ]
  },
  {
   "cell_type": "markdown",
   "id": "8979506f-bf78-45a8-aeaa-565ec78b619c",
   "metadata": {},
   "source": [
    "## 2.2 Evaluation model"
   ]
  },
  {
   "cell_type": "code",
   "execution_count": 41,
   "id": "0436df8f-e20e-4221-a5e5-fd25a99a627f",
   "metadata": {
    "tags": []
   },
   "outputs": [],
   "source": [
    "for i in val:\n",
    "    if val[i].dtypes == 'object':\n",
    "        val[i] = val[i].astype(str)"
   ]
  },
  {
   "cell_type": "code",
   "execution_count": 42,
   "id": "6869f637-86f7-453e-8f2e-1bd85a583e80",
   "metadata": {},
   "outputs": [],
   "source": [
    "X_val = val.drop(columns='y')\n",
    "y_val = val['y'].astype(float)"
   ]
  },
  {
   "cell_type": "code",
   "execution_count": 43,
   "id": "480731d1-3722-4bb7-878a-88ba9ae3c562",
   "metadata": {},
   "outputs": [],
   "source": [
    "m = mlu.model_calibration(model,X_val,y_val)"
   ]
  },
  {
   "cell_type": "code",
   "execution_count": 44,
   "id": "cc84f329-c349-4691-b36c-a47f465dbd93",
   "metadata": {},
   "outputs": [
    {
     "name": "stdout",
     "output_type": "stream",
     "text": [
      "Test results...\n",
      "Model Test Recall: 0.9756637168141593\n",
      "--------------------------------------------------\n",
      "Model Test Confusion Matrix\n",
      "Classification report : \n",
      "               precision    recall  f1-score   support\n",
      "\n",
      "         0.0       0.99      0.98      0.98       752\n",
      "         1.0       0.97      0.98      0.97       452\n",
      "\n",
      "    accuracy                           0.98      1204\n",
      "   macro avg       0.98      0.98      0.98      1204\n",
      "weighted avg       0.98      0.98      0.98      1204\n",
      "\n",
      "DeviceType_enc: 0.4609854138364308\n",
      "device_info_v4_enc: 0.1994478296475283\n",
      "max_d: 0.19716502997920535\n",
      "card6_enc: 0.06578037016191723\n",
      "browser_enc2: 0.04186100026582714\n",
      "product_enc: 0.030979148240528994\n",
      "TransactionAmt: 0.003701051953058443\n",
      "card4_enc: 4.817813001085802e-05\n",
      "max_c: 3.197778549275284e-05\n"
     ]
    },
    {
     "data": {
      "text/plain": [
       "Pipeline(steps=[('preprocessor',\n",
       "                 ColumnTransformer(transformers=[('numerical_preprocessor',\n",
       "                                                  Pipeline(steps=[('imputer',\n",
       "                                                                   IterativeImputer(add_indicator=True,\n",
       "                                                                                    estimator=ExtraTreesRegressor(n_estimators=5,\n",
       "                                                                                                                  random_state=1),\n",
       "                                                                                    random_state=1)),\n",
       "                                                                  ('scaler',\n",
       "                                                                   FunctionTransformer(func=<function log_transform at 0x7fc8d9c3e550>))]),\n",
       "                                                  Index(['TransactionAmt', 'max_c', 'max_d',...\n",
       "      dtype='object')),\n",
       "                                                 ('categorical_preprocessor',\n",
       "                                                  Pipeline(steps=[('imputer',\n",
       "                                                                   SimpleImputer(add_indicator=True,\n",
       "                                                                                 fill_value='missing',\n",
       "                                                                                 strategy='constant')),\n",
       "                                                                  ('label_enc',\n",
       "                                                                   OneHotEncoder(handle_unknown='ignore'))]),\n",
       "                                                  Index([], dtype='object'))])),\n",
       "                ('model',\n",
       "                 GradientBoostingClassifier(max_features='auto',\n",
       "                                            min_samples_leaf=2,\n",
       "                                            n_iter_no_change=25, random_state=0,\n",
       "                                            warm_start=True))])"
      ]
     },
     "execution_count": 44,
     "metadata": {},
     "output_type": "execute_result"
    },
    {
     "data": {
      "image/png": "[encoded data removed]",
      "text/plain": [
       "<Figure size 432x288 with 2 Axes>"
      ]
     },
     "metadata": {
      "needs_background": "light"
     },
     "output_type": "display_data"
    }
   ],
   "source": [
    "mlu.model_evaluation(m.base_estimator, X_val, y_val)"
   ]
  },
  {
   "cell_type": "markdown",
   "id": "e3a54a38-7f61-42f6-a098-32b9798bb986",
   "metadata": {
    "tags": []
   },
   "source": [
    "# 2.3 Predict probability"
   ]
  },
  {
   "cell_type": "code",
   "execution_count": 45,
   "id": "e40624c1-a037-465c-b079-f1a19ad46198",
   "metadata": {},
   "outputs": [],
   "source": [
    "val.insert(0,'probability_score_cluster_0','')\n",
    "val['probability_score_cluster_0'] = model.predict_proba(X_val)[:,1]"
   ]
  },
  {
   "cell_type": "markdown",
   "id": "b1873922-1b3c-409f-83fa-7775ba09fa98",
   "metadata": {},
   "source": [
    "# 4.0 Error analysis"
   ]
  },
  {
   "cell_type": "code",
   "execution_count": 71,
   "id": "d08bf80a-1946-4faa-892e-f1ba1f9200c1",
   "metadata": {},
   "outputs": [
    {
     "data": {
      "text/html": [
       "<div>\n",
       "<style scoped>\n",
       "    .dataframe tbody tr th:only-of-type {\n",
       "        vertical-align: middle;\n",
       "    }\n",
       "\n",
       "    .dataframe tbody tr th {\n",
       "        vertical-align: top;\n",
       "    }\n",
       "\n",
       "    .dataframe thead th {\n",
       "        text-align: right;\n",
       "    }\n",
       "</style>\n",
       "<table border=\"1\" class=\"dataframe\">\n",
       "  <thead>\n",
       "    <tr style=\"text-align: right;\">\n",
       "      <th></th>\n",
       "      <th>probability_score_cluster_0</th>\n",
       "      <th>TransactionAmt</th>\n",
       "      <th>max_c</th>\n",
       "      <th>max_d</th>\n",
       "      <th>product_enc</th>\n",
       "      <th>card4_enc</th>\n",
       "      <th>card6_enc</th>\n",
       "      <th>DeviceType_enc</th>\n",
       "      <th>browser_enc2</th>\n",
       "      <th>device_info_v4_enc</th>\n",
       "      <th>cluster_labels</th>\n",
       "      <th>y</th>\n",
       "    </tr>\n",
       "    <tr>\n",
       "      <th>customer_id</th>\n",
       "      <th></th>\n",
       "      <th></th>\n",
       "      <th></th>\n",
       "      <th></th>\n",
       "      <th></th>\n",
       "      <th></th>\n",
       "      <th></th>\n",
       "      <th></th>\n",
       "      <th></th>\n",
       "      <th></th>\n",
       "      <th></th>\n",
       "      <th></th>\n",
       "    </tr>\n",
       "  </thead>\n",
       "  <tbody>\n",
       "    <tr>\n",
       "      <th>10835</th>\n",
       "      <td>0.974407</td>\n",
       "      <td>0.047869</td>\n",
       "      <td>0.0</td>\n",
       "      <td>0.0</td>\n",
       "      <td>0</td>\n",
       "      <td>0</td>\n",
       "      <td>1</td>\n",
       "      <td>1</td>\n",
       "      <td>0</td>\n",
       "      <td>17</td>\n",
       "      <td>0</td>\n",
       "      <td>1</td>\n",
       "    </tr>\n",
       "    <tr>\n",
       "      <th>37880</th>\n",
       "      <td>0.983641</td>\n",
       "      <td>0.007532</td>\n",
       "      <td>0.0</td>\n",
       "      <td>0.0</td>\n",
       "      <td>0</td>\n",
       "      <td>0</td>\n",
       "      <td>0</td>\n",
       "      <td>1</td>\n",
       "      <td>0</td>\n",
       "      <td>1</td>\n",
       "      <td>0</td>\n",
       "      <td>1</td>\n",
       "    </tr>\n",
       "  </tbody>\n",
       "</table>\n",
       "</div>"
      ],
      "text/plain": [
       "             probability_score_cluster_0  TransactionAmt  max_c  max_d  \\\n",
       "customer_id                                                              \n",
       "10835                           0.974407        0.047869    0.0    0.0   \n",
       "37880                           0.983641        0.007532    0.0    0.0   \n",
       "\n",
       "             product_enc  card4_enc  card6_enc  DeviceType_enc  browser_enc2  \\\n",
       "customer_id                                                                    \n",
       "10835                  0          0          1               1             0   \n",
       "37880                  0          0          0               1             0   \n",
       "\n",
       "             device_info_v4_enc  cluster_labels  y  \n",
       "customer_id                                         \n",
       "10835                        17               0  1  \n",
       "37880                         1               0  1  "
      ]
     },
     "execution_count": 71,
     "metadata": {},
     "output_type": "execute_result"
    }
   ],
   "source": [
    "val.sample(2)"
   ]
  },
  {
   "cell_type": "code",
   "execution_count": 72,
   "id": "83226c89-e9a7-44fe-b818-f0c8d7f8f9e8",
   "metadata": {},
   "outputs": [
    {
     "data": {
      "text/plain": [
       "Index(['probability_score_cluster_0', 'TransactionAmt', 'max_c', 'max_d',\n",
       "       'product_enc', 'card4_enc', 'card6_enc', 'DeviceType_enc',\n",
       "       'browser_enc2', 'device_info_v4_enc', 'cluster_labels', 'y'],\n",
       "      dtype='object')"
      ]
     },
     "execution_count": 72,
     "metadata": {},
     "output_type": "execute_result"
    }
   ],
   "source": [
    "val.columns"
   ]
  },
  {
   "cell_type": "code",
   "execution_count": 67,
   "id": "ad86a1df-7078-4a5e-9627-955646a86af1",
   "metadata": {},
   "outputs": [],
   "source": [
    "# val['kp_pred'] = kproto.predict(val[['TransactionAmt', 'max_c', 'max_d']].values,val[['product_enc', 'card4_enc', 'card6_enc', 'DeviceType_enc',\n",
    "#        'browser_enc2', 'device_info_v4_enc']].values,centroid[0:3].values,centroid[0:3].values,centroid[4:9].values)"
   ]
  },
  {
   "cell_type": "code",
   "execution_count": 75,
   "id": "f3727318-1895-4d29-b0c1-b97dfbab56ed",
   "metadata": {},
   "outputs": [
    {
     "data": {
      "text/html": [
       "<div>\n",
       "<style scoped>\n",
       "    .dataframe tbody tr th:only-of-type {\n",
       "        vertical-align: middle;\n",
       "    }\n",
       "\n",
       "    .dataframe tbody tr th {\n",
       "        vertical-align: top;\n",
       "    }\n",
       "\n",
       "    .dataframe thead th {\n",
       "        text-align: right;\n",
       "    }\n",
       "</style>\n",
       "<table border=\"1\" class=\"dataframe\">\n",
       "  <thead>\n",
       "    <tr style=\"text-align: right;\">\n",
       "      <th></th>\n",
       "      <th>TransactionAmt</th>\n",
       "      <th>max_c</th>\n",
       "    </tr>\n",
       "    <tr>\n",
       "      <th>customer_id</th>\n",
       "      <th></th>\n",
       "      <th></th>\n",
       "    </tr>\n",
       "  </thead>\n",
       "  <tbody>\n",
       "    <tr>\n",
       "      <th>709</th>\n",
       "      <td>0.099545</td>\n",
       "      <td>0.0</td>\n",
       "    </tr>\n",
       "  </tbody>\n",
       "</table>\n",
       "</div>"
      ],
      "text/plain": [
       "             TransactionAmt  max_c\n",
       "customer_id                       \n",
       "709                0.099545    0.0"
      ]
     },
     "execution_count": 75,
     "metadata": {},
     "output_type": "execute_result"
    }
   ],
   "source": [
    "val[['TransactionAmt','max_c']].sample(1)"
   ]
  },
  {
   "cell_type": "code",
   "execution_count": 77,
   "id": "97370bf4-c5ac-4640-b707-6909dce26ee5",
   "metadata": {},
   "outputs": [],
   "source": [
    "val['kp_pred'] = kproto.predict(X=val[['TransactionAmt', 'max_c', 'max_d',\n",
    "       'product_enc', 'card4_enc', 'card6_enc', 'DeviceType_enc',\n",
    "       'browser_enc2', 'device_info_v4_enc']],categorical=[3,4,5,6,7,8])"
   ]
  },
  {
   "cell_type": "code",
   "execution_count": 86,
   "id": "72a3b3a1-4983-42fd-ac2b-e683037367b6",
   "metadata": {},
   "outputs": [
    {
     "data": {
      "text/html": [
       "<div>\n",
       "<style scoped>\n",
       "    .dataframe tbody tr th:only-of-type {\n",
       "        vertical-align: middle;\n",
       "    }\n",
       "\n",
       "    .dataframe tbody tr th {\n",
       "        vertical-align: top;\n",
       "    }\n",
       "\n",
       "    .dataframe thead th {\n",
       "        text-align: right;\n",
       "    }\n",
       "</style>\n",
       "<table border=\"1\" class=\"dataframe\">\n",
       "  <thead>\n",
       "    <tr style=\"text-align: right;\">\n",
       "      <th></th>\n",
       "      <th>probability_score_cluster_0</th>\n",
       "      <th>TransactionAmt</th>\n",
       "      <th>max_c</th>\n",
       "      <th>max_d</th>\n",
       "      <th>product_enc</th>\n",
       "      <th>card4_enc</th>\n",
       "      <th>card6_enc</th>\n",
       "      <th>DeviceType_enc</th>\n",
       "      <th>browser_enc2</th>\n",
       "      <th>device_info_v4_enc</th>\n",
       "      <th>cluster_labels</th>\n",
       "      <th>y</th>\n",
       "      <th>kp_pred</th>\n",
       "    </tr>\n",
       "    <tr>\n",
       "      <th>customer_id</th>\n",
       "      <th></th>\n",
       "      <th></th>\n",
       "      <th></th>\n",
       "      <th></th>\n",
       "      <th></th>\n",
       "      <th></th>\n",
       "      <th></th>\n",
       "      <th></th>\n",
       "      <th></th>\n",
       "      <th></th>\n",
       "      <th></th>\n",
       "      <th></th>\n",
       "      <th></th>\n",
       "    </tr>\n",
       "  </thead>\n",
       "  <tbody>\n",
       "    <tr>\n",
       "      <th>5593</th>\n",
       "      <td>0.780701</td>\n",
       "      <td>0.018960</td>\n",
       "      <td>0.000711</td>\n",
       "      <td>0.120599</td>\n",
       "      <td>0</td>\n",
       "      <td>0</td>\n",
       "      <td>0</td>\n",
       "      <td>1</td>\n",
       "      <td>0</td>\n",
       "      <td>1</td>\n",
       "      <td>0</td>\n",
       "      <td>1</td>\n",
       "      <td>0</td>\n",
       "    </tr>\n",
       "    <tr>\n",
       "      <th>10039</th>\n",
       "      <td>0.987735</td>\n",
       "      <td>0.099545</td>\n",
       "      <td>0.000000</td>\n",
       "      <td>0.002220</td>\n",
       "      <td>3</td>\n",
       "      <td>0</td>\n",
       "      <td>1</td>\n",
       "      <td>1</td>\n",
       "      <td>0</td>\n",
       "      <td>1</td>\n",
       "      <td>0</td>\n",
       "      <td>1</td>\n",
       "      <td>0</td>\n",
       "    </tr>\n",
       "    <tr>\n",
       "      <th>11103</th>\n",
       "      <td>0.922217</td>\n",
       "      <td>0.049520</td>\n",
       "      <td>0.000000</td>\n",
       "      <td>0.072364</td>\n",
       "      <td>1</td>\n",
       "      <td>0</td>\n",
       "      <td>0</td>\n",
       "      <td>1</td>\n",
       "      <td>3</td>\n",
       "      <td>1</td>\n",
       "      <td>0</td>\n",
       "      <td>1</td>\n",
       "      <td>0</td>\n",
       "    </tr>\n",
       "    <tr>\n",
       "      <th>16</th>\n",
       "      <td>0.000492</td>\n",
       "      <td>0.015241</td>\n",
       "      <td>0.000178</td>\n",
       "      <td>0.005270</td>\n",
       "      <td>0</td>\n",
       "      <td>0</td>\n",
       "      <td>0</td>\n",
       "      <td>0</td>\n",
       "      <td>1</td>\n",
       "      <td>17</td>\n",
       "      <td>2</td>\n",
       "      <td>0</td>\n",
       "      <td>2</td>\n",
       "    </tr>\n",
       "    <tr>\n",
       "      <th>13136</th>\n",
       "      <td>0.987735</td>\n",
       "      <td>0.066195</td>\n",
       "      <td>0.000000</td>\n",
       "      <td>0.015054</td>\n",
       "      <td>3</td>\n",
       "      <td>1</td>\n",
       "      <td>1</td>\n",
       "      <td>1</td>\n",
       "      <td>0</td>\n",
       "      <td>1</td>\n",
       "      <td>0</td>\n",
       "      <td>1</td>\n",
       "      <td>0</td>\n",
       "    </tr>\n",
       "  </tbody>\n",
       "</table>\n",
       "</div>"
      ],
      "text/plain": [
       "             probability_score_cluster_0  TransactionAmt     max_c     max_d  \\\n",
       "customer_id                                                                    \n",
       "5593                            0.780701        0.018960  0.000711  0.120599   \n",
       "10039                           0.987735        0.099545  0.000000  0.002220   \n",
       "11103                           0.922217        0.049520  0.000000  0.072364   \n",
       "16                              0.000492        0.015241  0.000178  0.005270   \n",
       "13136                           0.987735        0.066195  0.000000  0.015054   \n",
       "\n",
       "             product_enc  card4_enc  card6_enc  DeviceType_enc  browser_enc2  \\\n",
       "customer_id                                                                    \n",
       "5593                   0          0          0               1             0   \n",
       "10039                  3          0          1               1             0   \n",
       "11103                  1          0          0               1             3   \n",
       "16                     0          0          0               0             1   \n",
       "13136                  3          1          1               1             0   \n",
       "\n",
       "             device_info_v4_enc  cluster_labels  y  kp_pred  \n",
       "customer_id                                                  \n",
       "5593                          1               0  1        0  \n",
       "10039                         1               0  1        0  \n",
       "11103                         1               0  1        0  \n",
       "16                           17               2  0        2  \n",
       "13136                         1               0  1        0  "
      ]
     },
     "execution_count": 86,
     "metadata": {},
     "output_type": "execute_result"
    }
   ],
   "source": [
    "val.sample(5)"
   ]
  },
  {
   "cell_type": "code",
   "execution_count": 87,
   "id": "e9310cb2-cca1-4aa3-ac4b-169da34d75eb",
   "metadata": {},
   "outputs": [],
   "source": [
    "test['kp_pred'] = kproto.predict(X=test[['TransactionAmt', 'max_c', 'max_d',\n",
    "       'product_enc', 'card4_enc', 'card6_enc', 'DeviceType_enc',\n",
    "       'browser_enc2', 'device_info_v4_enc']],categorical=[3,4,5,6,7,8])"
   ]
  },
  {
   "cell_type": "code",
   "execution_count": 89,
   "id": "aeb4a41a-8c2d-4819-916d-213005c9d113",
   "metadata": {},
   "outputs": [
    {
     "data": {
      "text/html": [
       "<div>\n",
       "<style scoped>\n",
       "    .dataframe tbody tr th:only-of-type {\n",
       "        vertical-align: middle;\n",
       "    }\n",
       "\n",
       "    .dataframe tbody tr th {\n",
       "        vertical-align: top;\n",
       "    }\n",
       "\n",
       "    .dataframe thead th {\n",
       "        text-align: right;\n",
       "    }\n",
       "</style>\n",
       "<table border=\"1\" class=\"dataframe\">\n",
       "  <thead>\n",
       "    <tr style=\"text-align: right;\">\n",
       "      <th></th>\n",
       "      <th>TransactionAmt</th>\n",
       "      <th>max_c</th>\n",
       "      <th>max_d</th>\n",
       "      <th>product_enc</th>\n",
       "      <th>card4_enc</th>\n",
       "      <th>card6_enc</th>\n",
       "      <th>DeviceType_enc</th>\n",
       "      <th>browser_enc2</th>\n",
       "      <th>device_info_v4_enc</th>\n",
       "      <th>cluster_labels</th>\n",
       "      <th>y</th>\n",
       "      <th>kp_pred</th>\n",
       "    </tr>\n",
       "    <tr>\n",
       "      <th>customer_id</th>\n",
       "      <th></th>\n",
       "      <th></th>\n",
       "      <th></th>\n",
       "      <th></th>\n",
       "      <th></th>\n",
       "      <th></th>\n",
       "      <th></th>\n",
       "      <th></th>\n",
       "      <th></th>\n",
       "      <th></th>\n",
       "      <th></th>\n",
       "      <th></th>\n",
       "    </tr>\n",
       "  </thead>\n",
       "  <tbody>\n",
       "    <tr>\n",
       "      <th>127</th>\n",
       "      <td>0.018725</td>\n",
       "      <td>0.000534</td>\n",
       "      <td>0.000464</td>\n",
       "      <td>0</td>\n",
       "      <td>1</td>\n",
       "      <td>0</td>\n",
       "      <td>1</td>\n",
       "      <td>0</td>\n",
       "      <td>1</td>\n",
       "      <td>0</td>\n",
       "      <td>1</td>\n",
       "      <td>0</td>\n",
       "    </tr>\n",
       "    <tr>\n",
       "      <th>19814</th>\n",
       "      <td>0.032845</td>\n",
       "      <td>0.000000</td>\n",
       "      <td>0.000000</td>\n",
       "      <td>3</td>\n",
       "      <td>0</td>\n",
       "      <td>0</td>\n",
       "      <td>1</td>\n",
       "      <td>1</td>\n",
       "      <td>0</td>\n",
       "      <td>3</td>\n",
       "      <td>0</td>\n",
       "      <td>3</td>\n",
       "    </tr>\n",
       "    <tr>\n",
       "      <th>3222</th>\n",
       "      <td>0.022840</td>\n",
       "      <td>0.000000</td>\n",
       "      <td>0.054822</td>\n",
       "      <td>2</td>\n",
       "      <td>0</td>\n",
       "      <td>0</td>\n",
       "      <td>1</td>\n",
       "      <td>0</td>\n",
       "      <td>1</td>\n",
       "      <td>0</td>\n",
       "      <td>1</td>\n",
       "      <td>0</td>\n",
       "    </tr>\n",
       "  </tbody>\n",
       "</table>\n",
       "</div>"
      ],
      "text/plain": [
       "             TransactionAmt     max_c     max_d  product_enc  card4_enc  \\\n",
       "customer_id                                                               \n",
       "127                0.018725  0.000534  0.000464            0          1   \n",
       "19814              0.032845  0.000000  0.000000            3          0   \n",
       "3222               0.022840  0.000000  0.054822            2          0   \n",
       "\n",
       "             card6_enc  DeviceType_enc  browser_enc2  device_info_v4_enc  \\\n",
       "customer_id                                                                \n",
       "127                  0               1             0                   1   \n",
       "19814                0               1             1                   0   \n",
       "3222                 0               1             0                   1   \n",
       "\n",
       "             cluster_labels  y  kp_pred  \n",
       "customer_id                              \n",
       "127                       0  1        0  \n",
       "19814                     3  0        3  \n",
       "3222                      0  1        0  "
      ]
     },
     "execution_count": 89,
     "metadata": {},
     "output_type": "execute_result"
    }
   ],
   "source": [
    "test.sample(3)"
   ]
  },
  {
   "cell_type": "code",
   "execution_count": 92,
   "id": "2000b455-e55b-4313-8ffb-7269ab30eec3",
   "metadata": {},
   "outputs": [
    {
     "data": {
      "text/html": [
       "<div>\n",
       "<style scoped>\n",
       "    .dataframe tbody tr th:only-of-type {\n",
       "        vertical-align: middle;\n",
       "    }\n",
       "\n",
       "    .dataframe tbody tr th {\n",
       "        vertical-align: top;\n",
       "    }\n",
       "\n",
       "    .dataframe thead th {\n",
       "        text-align: right;\n",
       "    }\n",
       "</style>\n",
       "<table border=\"1\" class=\"dataframe\">\n",
       "  <thead>\n",
       "    <tr style=\"text-align: right;\">\n",
       "      <th></th>\n",
       "      <th>TransactionAmt</th>\n",
       "      <th>max_c</th>\n",
       "      <th>max_d</th>\n",
       "      <th>product_enc</th>\n",
       "      <th>card4_enc</th>\n",
       "      <th>card6_enc</th>\n",
       "      <th>DeviceType_enc</th>\n",
       "      <th>browser_enc2</th>\n",
       "      <th>device_info_v4_enc</th>\n",
       "      <th>cluster_labels</th>\n",
       "      <th>y</th>\n",
       "      <th>kp_pred</th>\n",
       "    </tr>\n",
       "    <tr>\n",
       "      <th>customer_id</th>\n",
       "      <th></th>\n",
       "      <th></th>\n",
       "      <th></th>\n",
       "      <th></th>\n",
       "      <th></th>\n",
       "      <th></th>\n",
       "      <th></th>\n",
       "      <th></th>\n",
       "      <th></th>\n",
       "      <th></th>\n",
       "      <th></th>\n",
       "      <th></th>\n",
       "    </tr>\n",
       "  </thead>\n",
       "  <tbody>\n",
       "  </tbody>\n",
       "</table>\n",
       "</div>"
      ],
      "text/plain": [
       "Empty DataFrame\n",
       "Columns: [TransactionAmt, max_c, max_d, product_enc, card4_enc, card6_enc, DeviceType_enc, browser_enc2, device_info_v4_enc, cluster_labels, y, kp_pred]\n",
       "Index: []"
      ]
     },
     "execution_count": 92,
     "metadata": {},
     "output_type": "execute_result"
    }
   ],
   "source": [
    "test[test['cluster_labels'] != test['kp_pred']]"
   ]
  },
  {
   "cell_type": "code",
   "execution_count": null,
   "id": "8f659dad-2037-4f50-b96b-eef36fa5ad17",
   "metadata": {},
   "outputs": [],
   "source": []
  },
  {
   "cell_type": "code",
   "execution_count": null,
   "id": "f7a6a161-d98e-478a-8a9d-5b9d2f3ff193",
   "metadata": {},
   "outputs": [],
   "source": []
  },
  {
   "cell_type": "code",
   "execution_count": null,
   "id": "d3e3be06-49e5-4aae-9311-4b3fae9c7f8b",
   "metadata": {},
   "outputs": [],
   "source": []
  },
  {
   "cell_type": "code",
   "execution_count": 21,
   "id": "5e479b3c-95d1-4262-a43b-f71a7c418c53",
   "metadata": {},
   "outputs": [
    {
     "data": {
      "text/plain": [
       "<AxesSubplot:>"
      ]
     },
     "execution_count": 21,
     "metadata": {},
     "output_type": "execute_result"
    },
    {
     "data": {
      "image/png": "[encoded data removed]",
      "text/plain": [
       "<Figure size 432x288 with 1 Axes>"
      ]
     },
     "metadata": {
      "needs_background": "light"
     },
     "output_type": "display_data"
    }
   ],
   "source": [
    "val['probability_score'].hist()"
   ]
  },
  {
   "cell_type": "code",
   "execution_count": 22,
   "id": "f84d08c8-8307-4f7e-829e-f9759decdca9",
   "metadata": {},
   "outputs": [
    {
     "data": {
      "text/plain": [
       "<AxesSubplot:>"
      ]
     },
     "execution_count": 22,
     "metadata": {},
     "output_type": "execute_result"
    },
    {
     "data": {
      "image/png": "[encoded data removed]",
      "text/plain": [
       "<Figure size 432x288 with 1 Axes>"
      ]
     },
     "metadata": {
      "needs_background": "light"
     },
     "output_type": "display_data"
    }
   ],
   "source": [
    "val['warning_score'].hist()"
   ]
  },
  {
   "cell_type": "markdown",
   "id": "0681d2fa-ffc3-40c8-82a3-26bab7fc3d8d",
   "metadata": {},
   "source": [
    "# 5.0 Bayesian Fusion"
   ]
  },
  {
   "cell_type": "code",
   "execution_count": 23,
   "id": "b70e780c-22e5-4245-895a-224bb15e7028",
   "metadata": {},
   "outputs": [],
   "source": [
    "val['final_score'] = val.apply(lambda x: mlu.beta_fusion(x['probability_score'],x['warning_score'],0.6),axis=1)"
   ]
  },
  {
   "cell_type": "code",
   "execution_count": 24,
   "id": "56e1b1be-d249-458a-9c51-f648e4e7c2ac",
   "metadata": {},
   "outputs": [
    {
     "data": {
      "text/html": [
       "<div>\n",
       "<style scoped>\n",
       "    .dataframe tbody tr th:only-of-type {\n",
       "        vertical-align: middle;\n",
       "    }\n",
       "\n",
       "    .dataframe tbody tr th {\n",
       "        vertical-align: top;\n",
       "    }\n",
       "\n",
       "    .dataframe thead th {\n",
       "        text-align: right;\n",
       "    }\n",
       "</style>\n",
       "<table border=\"1\" class=\"dataframe\">\n",
       "  <thead>\n",
       "    <tr style=\"text-align: right;\">\n",
       "      <th></th>\n",
       "      <th>probability_score</th>\n",
       "      <th>isFraud</th>\n",
       "      <th>TransactionAmt</th>\n",
       "      <th>ProductCD</th>\n",
       "      <th>card4</th>\n",
       "      <th>card6</th>\n",
       "      <th>addr1</th>\n",
       "      <th>addr2</th>\n",
       "      <th>P_emaildomain</th>\n",
       "      <th>R_emaildomain</th>\n",
       "      <th>DeviceType</th>\n",
       "      <th>max_c</th>\n",
       "      <th>max_d</th>\n",
       "      <th>multi_transaction_per_time</th>\n",
       "      <th>browser_enc</th>\n",
       "      <th>device_info_v4</th>\n",
       "      <th>warning_score</th>\n",
       "      <th>final_score</th>\n",
       "    </tr>\n",
       "  </thead>\n",
       "  <tbody>\n",
       "    <tr>\n",
       "      <th>24355</th>\n",
       "      <td>0.012667</td>\n",
       "      <td>0</td>\n",
       "      <td>25.000</td>\n",
       "      <td>H</td>\n",
       "      <td>visa</td>\n",
       "      <td>debit</td>\n",
       "      <td>203.0</td>\n",
       "      <td>87.0</td>\n",
       "      <td>gmail.com</td>\n",
       "      <td>nan</td>\n",
       "      <td>mobile</td>\n",
       "      <td>1.0</td>\n",
       "      <td>0.0</td>\n",
       "      <td>0</td>\n",
       "      <td>safari</td>\n",
       "      <td>ios</td>\n",
       "      <td>0.307262</td>\n",
       "      <td>0.167455</td>\n",
       "    </tr>\n",
       "    <tr>\n",
       "      <th>105103</th>\n",
       "      <td>0.229520</td>\n",
       "      <td>0</td>\n",
       "      <td>58.124</td>\n",
       "      <td>C</td>\n",
       "      <td>visa</td>\n",
       "      <td>debit</td>\n",
       "      <td>nan</td>\n",
       "      <td>nan</td>\n",
       "      <td>gmail.com</td>\n",
       "      <td>gmail.com</td>\n",
       "      <td>desktop</td>\n",
       "      <td>1.0</td>\n",
       "      <td>0.0</td>\n",
       "      <td>0</td>\n",
       "      <td>firefox</td>\n",
       "      <td>windows</td>\n",
       "      <td>0.307262</td>\n",
       "      <td>0.284555</td>\n",
       "    </tr>\n",
       "  </tbody>\n",
       "</table>\n",
       "</div>"
      ],
      "text/plain": [
       "        probability_score isFraud  TransactionAmt ProductCD card4  card6  \\\n",
       "24355            0.012667       0          25.000         H  visa  debit   \n",
       "105103           0.229520       0          58.124         C  visa  debit   \n",
       "\n",
       "        addr1 addr2 P_emaildomain R_emaildomain DeviceType  max_c  max_d  \\\n",
       "24355   203.0  87.0     gmail.com           nan     mobile    1.0    0.0   \n",
       "105103    nan   nan     gmail.com     gmail.com    desktop    1.0    0.0   \n",
       "\n",
       "        multi_transaction_per_time browser_enc device_info_v4  warning_score  \\\n",
       "24355                            0      safari            ios       0.307262   \n",
       "105103                           0     firefox        windows       0.307262   \n",
       "\n",
       "        final_score  \n",
       "24355      0.167455  \n",
       "105103     0.284555  "
      ]
     },
     "execution_count": 24,
     "metadata": {},
     "output_type": "execute_result"
    }
   ],
   "source": [
    "val.sample(2)"
   ]
  },
  {
   "cell_type": "code",
   "execution_count": 25,
   "id": "58627865-bd9d-4456-8624-1b9f3029f988",
   "metadata": {},
   "outputs": [
    {
     "data": {
      "text/plain": [
       "<AxesSubplot:>"
      ]
     },
     "execution_count": 25,
     "metadata": {},
     "output_type": "execute_result"
    },
    {
     "data": {
      "image/png": "[encoded data removed]",
      "text/plain": [
       "<Figure size 432x288 with 1 Axes>"
      ]
     },
     "metadata": {
      "needs_background": "light"
     },
     "output_type": "display_data"
    }
   ],
   "source": [
    "val['final_score'].hist()"
   ]
  },
  {
   "cell_type": "markdown",
   "id": "c38cf05a-2a26-4abc-bfe1-436317ca1aa9",
   "metadata": {},
   "source": [
    "# 6.0 Model Output"
   ]
  },
  {
   "cell_type": "code",
   "execution_count": 26,
   "id": "0426aa06-c968-4fc9-9533-1edf64743b84",
   "metadata": {},
   "outputs": [],
   "source": [
    "with open('../../data_lake/output/trained_model_v1.pkl','wb') as file:\n",
    "    pickle.dump(m.base_estimator, file)"
   ]
  },
  {
   "cell_type": "code",
   "execution_count": 27,
   "id": "21e4e969-d853-44f1-8c04-cd6388a875d7",
   "metadata": {},
   "outputs": [],
   "source": [
    "with open('../../data_lake/output/log_scaler_bi.pkl','wb') as file:\n",
    "    pickle.dump(scaler, file)"
   ]
  },
  {
   "cell_type": "code",
   "execution_count": null,
   "id": "c6292b56-2e74-48ca-b564-731f7b895956",
   "metadata": {},
   "outputs": [],
   "source": []
  }
 ],
 "metadata": {
  "kernelspec": {
   "display_name": "dev",
   "language": "python",
   "name": "python3"
  },
  "language_info": {
   "codemirror_mode": {
    "name": "ipython",
    "version": 3
   },
   "file_extension": ".py",
   "mimetype": "text/x-python",
   "name": "python",
   "nbconvert_exporter": "python",
   "pygments_lexer": "ipython3",
   "version": "3.9.7"
  }
 },
 "nbformat": 4,
 "nbformat_minor": 5
}
