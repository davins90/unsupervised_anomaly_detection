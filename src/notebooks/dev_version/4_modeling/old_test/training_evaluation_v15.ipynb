{
 "cells": [
  {
   "cell_type": "markdown",
   "id": "78b9ab1b-17b0-45a4-96ef-785cbeb8355f",
   "metadata": {},
   "source": [
    "error analysis + log less features 3 final try copy of 13"
   ]
  },
  {
   "cell_type": "code",
   "execution_count": 1,
   "id": "6d57c904-bd1c-47ef-b5d7-46d730fc9ee9",
   "metadata": {},
   "outputs": [],
   "source": [
    "import sys\n",
    "sys.path.append('../../')"
   ]
  },
  {
   "cell_type": "code",
   "execution_count": 2,
   "id": "4749bf27-a893-49c2-80c1-78b7601f0e16",
   "metadata": {},
   "outputs": [],
   "source": [
    "import pandas as pd\n",
    "import numpy as np\n",
    "import pickle\n",
    "import matplotlib.pyplot as plt\n",
    "\n",
    "from modules import machine_learning_utils as mlu\n",
    "\n",
    "pd.set_option(\"display.max_rows\",None)\n",
    "pd.set_option(\"display.max_columns\",None)"
   ]
  },
  {
   "cell_type": "markdown",
   "id": "3f4f1e2c-06fe-46f3-8f2f-f8f25c143da0",
   "metadata": {},
   "source": [
    "# 1.0 Data retrieval"
   ]
  },
  {
   "cell_type": "code",
   "execution_count": 3,
   "id": "ec6dcbae-669d-425b-8324-e7bb0ba0b538",
   "metadata": {},
   "outputs": [],
   "source": [
    "df = pd.read_pickle(\"../../data_lake/output/train_eng.pkl\")\n",
    "val = pd.read_pickle(\"../../data_lake/output/val_eng.pkl\")"
   ]
  },
  {
   "cell_type": "code",
   "execution_count": 4,
   "id": "e4bc0644-78fa-4dd8-bfcc-dbb838b41fd9",
   "metadata": {},
   "outputs": [],
   "source": [
    "cols = ['card1', 'card2', 'card3','card5','M4', 'id_21', 'id_22', 'id_23', 'id_24', 'id_25',\n",
    "       'id_26', 'id_27', 'id_28', 'id_29', 'id_30', 'id_32', 'id_33', 'id_34',\n",
    "       'id_35', 'id_36', 'id_37', 'id_38','num_transaction_per_time']"
   ]
  },
  {
   "cell_type": "code",
   "execution_count": 5,
   "id": "65b20810-ad8f-40bf-bb53-8c35aa71f0e3",
   "metadata": {},
   "outputs": [],
   "source": [
    "df = df.drop(columns=cols)"
   ]
  },
  {
   "cell_type": "code",
   "execution_count": 6,
   "id": "1d66b553-32f2-4648-a272-0a192ae084ee",
   "metadata": {},
   "outputs": [],
   "source": [
    "val = val.drop(columns=cols)"
   ]
  },
  {
   "cell_type": "markdown",
   "id": "b94ae274-6ebb-47da-9b3f-1bf8777ff26a",
   "metadata": {},
   "source": [
    "# 2.0 Training baseline"
   ]
  },
  {
   "cell_type": "code",
   "execution_count": 7,
   "id": "f42f73a6-a617-4af8-ab65-42eb11cb2aa6",
   "metadata": {},
   "outputs": [],
   "source": [
    "for i in df:\n",
    "    if df[i].dtypes == 'object':\n",
    "        df[i] = df[i].astype(str)"
   ]
  },
  {
   "cell_type": "code",
   "execution_count": 8,
   "id": "447dd015-4ec9-424b-a67a-5467bea048fa",
   "metadata": {},
   "outputs": [],
   "source": [
    "X_train = df.drop(columns='isFraud')\n",
    "y_train = df['isFraud'].astype(float)"
   ]
  },
  {
   "cell_type": "code",
   "execution_count": 9,
   "id": "8e2abe67-a034-4489-ab56-95d352c1ba5c",
   "metadata": {},
   "outputs": [],
   "source": [
    "numerical_cols = X_train.select_dtypes(include=['int64', 'float64']).columns\n",
    "categorical_cols = X_train.select_dtypes(include=['object', 'bool']).columns"
   ]
  },
  {
   "cell_type": "code",
   "execution_count": 10,
   "id": "2343117c-6d3d-4e71-ac9a-f618b3129445",
   "metadata": {},
   "outputs": [],
   "source": [
    "parameters = {'model__max_depth':[6,8],'model__n_estimators':[500,800],'model__learning_rate':[0.05,0.1],'model__min_samples_leaf':[3,5]}"
   ]
  },
  {
   "cell_type": "code",
   "execution_count": 11,
   "id": "9d223653-db46-491e-8480-ff2f6aa40f5c",
   "metadata": {},
   "outputs": [
    {
     "name": "stdout",
     "output_type": "stream",
     "text": [
      "GridSearchCV results...\n",
      "Mean Train Scores: \n",
      "[0.87915758 0.89078492 0.8819401  0.90386593 0.92404796 0.92849121\n",
      " 0.91881546 0.92288487 0.9127528  0.9127528  0.90262    0.90262\n",
      " 0.94310833 0.94310833 0.92666503 0.92666503]\n",
      "\n",
      "Mean CV Scores: \n",
      "[0.8275819  0.83032306 0.82558813 0.83480718 0.8340601  0.83480755\n",
      " 0.83405985 0.8338106  0.83505655 0.83505655 0.83244046 0.83244046\n",
      " 0.84128581 0.84128581 0.83667489 0.83667489]\n",
      "\n",
      "Best Parameters: \n",
      "{'model__learning_rate': 0.1, 'model__max_depth': 8, 'model__min_samples_leaf': 3, 'model__n_estimators': 500}\n",
      "\n"
     ]
    }
   ],
   "source": [
    "model = mlu.model_training(X_train,y_train,numerical_cols,categorical_cols,parameters)"
   ]
  },
  {
   "cell_type": "markdown",
   "id": "8979506f-bf78-45a8-aeaa-565ec78b619c",
   "metadata": {},
   "source": [
    "# 3.0 Evaluation baseline"
   ]
  },
  {
   "cell_type": "code",
   "execution_count": 12,
   "id": "0436df8f-e20e-4221-a5e5-fd25a99a627f",
   "metadata": {
    "tags": []
   },
   "outputs": [],
   "source": [
    "for i in val:\n",
    "    if val[i].dtypes == 'object':\n",
    "        val[i] = val[i].astype(str)"
   ]
  },
  {
   "cell_type": "code",
   "execution_count": 13,
   "id": "6869f637-86f7-453e-8f2e-1bd85a583e80",
   "metadata": {},
   "outputs": [],
   "source": [
    "X_val = val.drop(columns='isFraud')\n",
    "y_val = val['isFraud'].astype(float)"
   ]
  },
  {
   "cell_type": "code",
   "execution_count": 14,
   "id": "480731d1-3722-4bb7-878a-88ba9ae3c562",
   "metadata": {},
   "outputs": [],
   "source": [
    "m = mlu.model_calibration(model,X_val,y_val)"
   ]
  },
  {
   "cell_type": "code",
   "execution_count": 15,
   "id": "cc84f329-c349-4691-b36c-a47f465dbd93",
   "metadata": {},
   "outputs": [
    {
     "name": "stdout",
     "output_type": "stream",
     "text": [
      "Test results...\n",
      "Model Test Recall: 0.8517179023508138\n",
      "--------------------------------------------------\n",
      "Model Test Confusion Matrix\n",
      "Classification report : \n",
      "               precision    recall  f1-score   support\n",
      "\n",
      "         0.0       0.99      0.85      0.91     19976\n",
      "         1.0       0.32      0.85      0.47      1659\n",
      "\n",
      "    accuracy                           0.85     21635\n",
      "   macro avg       0.65      0.85      0.69     21635\n",
      "weighted avg       0.93      0.85      0.88     21635\n",
      "\n",
      "ProductCD: 0.3204076362998419\n",
      "TransactionAmt: 0.14343000107184956\n",
      "card4: 0.13104672782140595\n",
      "P_emaildomain: 0.025223769402368465\n",
      "addr2: 0.012033488338027181\n",
      "multi_transaction_per_time: 0.006267940261555033\n",
      "R_emaildomain: 0.0051341140250081435\n",
      "device_info_v4: 0.00510613494903186\n",
      "DeviceType: 0.003658257210281853\n",
      "max_d: 0.002309863815483917\n",
      "max_c: 0.0014520695771733966\n",
      "card6: 0.0010054128432358431\n",
      "addr1: 3.549110105942713e-05\n",
      "browser_enc: 2.5990696714438614e-05\n"
     ]
    },
    {
     "data": {
      "text/plain": [
       "Pipeline(steps=[('preprocessor',\n",
       "                 ColumnTransformer(transformers=[('numerical_preprocessor',\n",
       "                                                  Pipeline(steps=[('imputer',\n",
       "                                                                   IterativeImputer(add_indicator=True,\n",
       "                                                                                    estimator=ExtraTreesRegressor(n_estimators=5,\n",
       "                                                                                                                  random_state=1),\n",
       "                                                                                    random_state=1)),\n",
       "                                                                  ('scaler',\n",
       "                                                                   FunctionTransformer(func=<function log_transform at 0x7fcac43359d0>))]),\n",
       "                                                  Index(['TransactionAmt', 'max_c', 'max_d',...\n",
       "                                                                  ('label_enc',\n",
       "                                                                   OneHotEncoder(handle_unknown='ignore'))]),\n",
       "                                                  Index(['ProductCD', 'card4', 'card6', 'addr1', 'addr2', 'P_emaildomain',\n",
       "       'R_emaildomain', 'DeviceType', 'browser_enc', 'device_info_v4'],\n",
       "      dtype='object'))])),\n",
       "                ('model',\n",
       "                 GradientBoostingClassifier(max_depth=8, max_features='auto',\n",
       "                                            min_samples_leaf=3,\n",
       "                                            n_estimators=500,\n",
       "                                            n_iter_no_change=25, random_state=0,\n",
       "                                            warm_start=True))])"
      ]
     },
     "execution_count": 15,
     "metadata": {},
     "output_type": "execute_result"
    },
    {
     "data": {
      "image/png": "[encoded data removed]",
      "text/plain": [
       "<Figure size 432x288 with 2 Axes>"
      ]
     },
     "metadata": {
      "needs_background": "light"
     },
     "output_type": "display_data"
    }
   ],
   "source": [
    "mlu.model_evaluation(m.base_estimator, X_val, y_val)"
   ]
  },
  {
   "cell_type": "markdown",
   "id": "e3a54a38-7f61-42f6-a098-32b9798bb986",
   "metadata": {
    "tags": []
   },
   "source": [
    "# 4.0 Predict probability"
   ]
  },
  {
   "cell_type": "code",
   "execution_count": 321,
   "id": "1415a091-8eb9-4611-9092-b44b5f74bc76",
   "metadata": {},
   "outputs": [],
   "source": [
    "val = val.drop(columns='probability_score')"
   ]
  },
  {
   "cell_type": "code",
   "execution_count": 322,
   "id": "e40624c1-a037-465c-b079-f1a19ad46198",
   "metadata": {},
   "outputs": [],
   "source": [
    "val.insert(0,'probability_score','')\n",
    "val['probability_score'] = model.predict_proba(X_val)[:,1]"
   ]
  },
  {
   "cell_type": "markdown",
   "id": "427966e7-8a90-472f-a6d4-8083686b2819",
   "metadata": {},
   "source": [
    "# 5.0 Sanity check"
   ]
  },
  {
   "cell_type": "code",
   "execution_count": 323,
   "id": "54d6edc3-7bc6-4e74-a2d1-14ccbc860e06",
   "metadata": {},
   "outputs": [],
   "source": [
    "val['probability_score'] = val['probability_score'].mask((val['max_c'] > 1.0) & (val['max_d']<15),val['probability_score']+0.2)\n",
    "val['probability_score'] = val['probability_score'].mask((val['max_c'] >= 5.0) & (val['max_d']<2),val['probability_score']+0.6)"
   ]
  },
  {
   "cell_type": "code",
   "execution_count": 324,
   "id": "ca11e274-c898-4896-8ba3-64709851e862",
   "metadata": {},
   "outputs": [],
   "source": [
    "val['probability_score'] = val['probability_score'].mask((val['max_c'] >= 10.0),val['probability_score']+0.3)\n",
    "val['probability_score'] = val['probability_score'].mask((val['device_info_v4'] == 'other'),val['probability_score']+0.1)\n",
    "val['probability_score'] = val['probability_score'].mask((val['browser_enc'] == 'other'),val['probability_score']+0.1)"
   ]
  },
  {
   "cell_type": "code",
   "execution_count": 325,
   "id": "336fa7de-1b0a-4259-aeb8-c39a50b4cc1a",
   "metadata": {},
   "outputs": [],
   "source": [
    "val['probability_score'] = val['probability_score'].mask(val['probability_score'] >= 0.9,0.9)"
   ]
  },
  {
   "cell_type": "markdown",
   "id": "b1873922-1b3c-409f-83fa-7775ba09fa98",
   "metadata": {},
   "source": [
    "# 6.0 Error analysis"
   ]
  },
  {
   "cell_type": "code",
   "execution_count": 326,
   "id": "8fc6ac02-4a33-4eb3-8167-36d4f9a1e994",
   "metadata": {},
   "outputs": [
    {
     "data": {
      "text/plain": [
       "0.9"
      ]
     },
     "execution_count": 326,
     "metadata": {},
     "output_type": "execute_result"
    }
   ],
   "source": [
    "val['probability_score'].max()"
   ]
  },
  {
   "cell_type": "code",
   "execution_count": 327,
   "id": "90763e8f-13f1-4571-befc-d44966c94d8a",
   "metadata": {},
   "outputs": [],
   "source": [
    "er2 = val[(val['probability_score']<0.5) & (val['isFraud']=='1')]"
   ]
  },
  {
   "cell_type": "code",
   "execution_count": 328,
   "id": "1549bed1-f314-4948-bf41-daa248e099cb",
   "metadata": {},
   "outputs": [
    {
     "data": {
      "text/plain": [
       "(198, 16)"
      ]
     },
     "execution_count": 328,
     "metadata": {},
     "output_type": "execute_result"
    }
   ],
   "source": [
    "er2.shape"
   ]
  },
  {
   "cell_type": "code",
   "execution_count": 329,
   "id": "b903f671-8cd9-4259-86ab-62121a90c30a",
   "metadata": {},
   "outputs": [],
   "source": [
    "er = val[(val['probability_score']>0.5) & (val['isFraud']=='0')]"
   ]
  },
  {
   "cell_type": "code",
   "execution_count": 330,
   "id": "2aa02929-d01e-4b5c-ab9e-9c853a89baf4",
   "metadata": {},
   "outputs": [
    {
     "data": {
      "text/plain": [
       "(4134, 16)"
      ]
     },
     "execution_count": 330,
     "metadata": {},
     "output_type": "execute_result"
    }
   ],
   "source": [
    "er.shape"
   ]
  },
  {
   "cell_type": "code",
   "execution_count": 331,
   "id": "24e2da71-9881-4640-898c-8ada05753fdd",
   "metadata": {},
   "outputs": [
    {
     "data": {
      "text/html": [
       "<div>\n",
       "<style scoped>\n",
       "    .dataframe tbody tr th:only-of-type {\n",
       "        vertical-align: middle;\n",
       "    }\n",
       "\n",
       "    .dataframe tbody tr th {\n",
       "        vertical-align: top;\n",
       "    }\n",
       "\n",
       "    .dataframe thead th {\n",
       "        text-align: right;\n",
       "    }\n",
       "</style>\n",
       "<table border=\"1\" class=\"dataframe\">\n",
       "  <thead>\n",
       "    <tr style=\"text-align: right;\">\n",
       "      <th></th>\n",
       "      <th>probability_score</th>\n",
       "      <th>isFraud</th>\n",
       "      <th>TransactionAmt</th>\n",
       "      <th>ProductCD</th>\n",
       "      <th>card4</th>\n",
       "      <th>card6</th>\n",
       "      <th>addr1</th>\n",
       "      <th>addr2</th>\n",
       "      <th>P_emaildomain</th>\n",
       "      <th>R_emaildomain</th>\n",
       "      <th>DeviceType</th>\n",
       "      <th>max_c</th>\n",
       "      <th>max_d</th>\n",
       "      <th>multi_transaction_per_time</th>\n",
       "      <th>browser_enc</th>\n",
       "      <th>device_info_v4</th>\n",
       "    </tr>\n",
       "  </thead>\n",
       "  <tbody>\n",
       "    <tr>\n",
       "      <th>94066</th>\n",
       "      <td>0.476060</td>\n",
       "      <td>1</td>\n",
       "      <td>29.002</td>\n",
       "      <td>C</td>\n",
       "      <td>visa</td>\n",
       "      <td>credit</td>\n",
       "      <td>nan</td>\n",
       "      <td>nan</td>\n",
       "      <td>yahoo.es</td>\n",
       "      <td>yahoo.es</td>\n",
       "      <td>mobile</td>\n",
       "      <td>4.0</td>\n",
       "      <td>173.00</td>\n",
       "      <td>0</td>\n",
       "      <td>safari</td>\n",
       "      <td>other</td>\n",
       "    </tr>\n",
       "    <tr>\n",
       "      <th>64994</th>\n",
       "      <td>0.195948</td>\n",
       "      <td>1</td>\n",
       "      <td>50.000</td>\n",
       "      <td>H</td>\n",
       "      <td>visa</td>\n",
       "      <td>debit</td>\n",
       "      <td>315.0</td>\n",
       "      <td>87.0</td>\n",
       "      <td>gmail.com</td>\n",
       "      <td>gmail.com</td>\n",
       "      <td>desktop</td>\n",
       "      <td>1.0</td>\n",
       "      <td>398.75</td>\n",
       "      <td>0</td>\n",
       "      <td>firefox</td>\n",
       "      <td>windows</td>\n",
       "    </tr>\n",
       "    <tr>\n",
       "      <th>61351</th>\n",
       "      <td>0.265495</td>\n",
       "      <td>1</td>\n",
       "      <td>10.000</td>\n",
       "      <td>S</td>\n",
       "      <td>american express</td>\n",
       "      <td>credit</td>\n",
       "      <td>441.0</td>\n",
       "      <td>87.0</td>\n",
       "      <td>nan</td>\n",
       "      <td>gmail.com</td>\n",
       "      <td>desktop</td>\n",
       "      <td>1.0</td>\n",
       "      <td>0.00</td>\n",
       "      <td>0</td>\n",
       "      <td>chrome</td>\n",
       "      <td>windows</td>\n",
       "    </tr>\n",
       "    <tr>\n",
       "      <th>68540</th>\n",
       "      <td>0.153281</td>\n",
       "      <td>1</td>\n",
       "      <td>100.000</td>\n",
       "      <td>H</td>\n",
       "      <td>visa</td>\n",
       "      <td>debit</td>\n",
       "      <td>343.0</td>\n",
       "      <td>87.0</td>\n",
       "      <td>gmail.com</td>\n",
       "      <td>gmail.com</td>\n",
       "      <td>desktop</td>\n",
       "      <td>1.0</td>\n",
       "      <td>0.00</td>\n",
       "      <td>0</td>\n",
       "      <td>firefox</td>\n",
       "      <td>windows</td>\n",
       "    </tr>\n",
       "    <tr>\n",
       "      <th>54854</th>\n",
       "      <td>0.244260</td>\n",
       "      <td>1</td>\n",
       "      <td>20.755</td>\n",
       "      <td>C</td>\n",
       "      <td>visa</td>\n",
       "      <td>credit</td>\n",
       "      <td>nan</td>\n",
       "      <td>nan</td>\n",
       "      <td>hotmail.com</td>\n",
       "      <td>hotmail.com</td>\n",
       "      <td>mobile</td>\n",
       "      <td>1.0</td>\n",
       "      <td>0.00</td>\n",
       "      <td>0</td>\n",
       "      <td>safari</td>\n",
       "      <td>other</td>\n",
       "    </tr>\n",
       "  </tbody>\n",
       "</table>\n",
       "</div>"
      ],
      "text/plain": [
       "       probability_score isFraud  TransactionAmt ProductCD             card4  \\\n",
       "94066           0.476060       1          29.002         C              visa   \n",
       "64994           0.195948       1          50.000         H              visa   \n",
       "61351           0.265495       1          10.000         S  american express   \n",
       "68540           0.153281       1         100.000         H              visa   \n",
       "54854           0.244260       1          20.755         C              visa   \n",
       "\n",
       "        card6  addr1 addr2 P_emaildomain R_emaildomain DeviceType  max_c  \\\n",
       "94066  credit    nan   nan      yahoo.es      yahoo.es     mobile    4.0   \n",
       "64994   debit  315.0  87.0     gmail.com     gmail.com    desktop    1.0   \n",
       "61351  credit  441.0  87.0           nan     gmail.com    desktop    1.0   \n",
       "68540   debit  343.0  87.0     gmail.com     gmail.com    desktop    1.0   \n",
       "54854  credit    nan   nan   hotmail.com   hotmail.com     mobile    1.0   \n",
       "\n",
       "        max_d  multi_transaction_per_time browser_enc device_info_v4  \n",
       "94066  173.00                           0      safari          other  \n",
       "64994  398.75                           0     firefox        windows  \n",
       "61351    0.00                           0      chrome        windows  \n",
       "68540    0.00                           0     firefox        windows  \n",
       "54854    0.00                           0      safari          other  "
      ]
     },
     "execution_count": 331,
     "metadata": {},
     "output_type": "execute_result"
    }
   ],
   "source": [
    "er2.sample(5)"
   ]
  },
  {
   "cell_type": "code",
   "execution_count": 281,
   "id": "6d4e393a-2e4c-446f-a666-2983240f2f7b",
   "metadata": {},
   "outputs": [
    {
     "data": {
      "text/plain": [
       "<AxesSubplot:>"
      ]
     },
     "execution_count": 281,
     "metadata": {},
     "output_type": "execute_result"
    },
    {
     "data": {
      "image/png": "[encoded data removed]",
      "text/plain": [
       "<Figure size 432x288 with 1 Axes>"
      ]
     },
     "metadata": {
      "needs_background": "light"
     },
     "output_type": "display_data"
    }
   ],
   "source": [
    "er2['probability_score'].hist(bins=20)"
   ]
  },
  {
   "cell_type": "code",
   "execution_count": null,
   "id": "f79e023b-1412-4a3b-b907-530123660e56",
   "metadata": {},
   "outputs": [],
   "source": []
  },
  {
   "cell_type": "code",
   "execution_count": null,
   "id": "269a0913-bfda-41a6-b4c2-c5cb9acd2580",
   "metadata": {},
   "outputs": [],
   "source": []
  },
  {
   "cell_type": "markdown",
   "id": "c38cf05a-2a26-4abc-bfe1-436317ca1aa9",
   "metadata": {},
   "source": [
    "# 4.0 Model Output"
   ]
  },
  {
   "cell_type": "code",
   "execution_count": 15,
   "id": "0426aa06-c968-4fc9-9533-1edf64743b84",
   "metadata": {},
   "outputs": [],
   "source": [
    "with open('../../data_lake/output/trained_model_v1.pkl','wb') as file:\n",
    "    pickle.dump(m.base_estimator, file)"
   ]
  },
  {
   "cell_type": "code",
   "execution_count": null,
   "id": "21e4e969-d853-44f1-8c04-cd6388a875d7",
   "metadata": {},
   "outputs": [],
   "source": []
  }
 ],
 "metadata": {
  "kernelspec": {
   "display_name": "dev",
   "language": "python",
   "name": "python3"
  },
  "language_info": {
   "codemirror_mode": {
    "name": "ipython",
    "version": 3
   },
   "file_extension": ".py",
   "mimetype": "text/x-python",
   "name": "python",
   "nbconvert_exporter": "python",
   "pygments_lexer": "ipython3",
   "version": "3.9.7"
  }
 },
 "nbformat": 4,
 "nbformat_minor": 5
}
