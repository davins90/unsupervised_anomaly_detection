{
 "cells": [
  {
   "cell_type": "markdown",
   "id": "78b9ab1b-17b0-45a4-96ef-785cbeb8355f",
   "metadata": {},
   "source": [
    "naive bayes test"
   ]
  },
  {
   "cell_type": "code",
   "execution_count": 1,
   "id": "6d57c904-bd1c-47ef-b5d7-46d730fc9ee9",
   "metadata": {},
   "outputs": [],
   "source": [
    "import sys\n",
    "sys.path.append('../../')"
   ]
  },
  {
   "cell_type": "code",
   "execution_count": 2,
   "id": "4749bf27-a893-49c2-80c1-78b7601f0e16",
   "metadata": {},
   "outputs": [],
   "source": [
    "import pandas as pd\n",
    "import numpy as np\n",
    "import prince\n",
    "import matplotlib.pyplot as plt\n",
    "\n",
    "from modules import machine_learning_utils as mlu\n",
    "\n",
    "pd.set_option(\"display.max_rows\",None)\n",
    "pd.set_option(\"display.max_columns\",None)"
   ]
  },
  {
   "cell_type": "markdown",
   "id": "3f4f1e2c-06fe-46f3-8f2f-f8f25c143da0",
   "metadata": {},
   "source": [
    "# 1.0 Data retrieval"
   ]
  },
  {
   "cell_type": "code",
   "execution_count": 3,
   "id": "ec6dcbae-669d-425b-8324-e7bb0ba0b538",
   "metadata": {},
   "outputs": [],
   "source": [
    "df = pd.read_pickle(\"../../data_lake/output/train_eng.pkl\")\n",
    "val = pd.read_pickle(\"../../data_lake/output/val_eng.pkl\")"
   ]
  },
  {
   "cell_type": "code",
   "execution_count": 4,
   "id": "19fd4f10-b626-4441-b925-b94345a9ba54",
   "metadata": {},
   "outputs": [],
   "source": [
    "df = df.drop(columns=['card1', 'card2', 'card3','card5', 'addr1', 'addr2','id_21', 'id_22', 'id_23', 'id_24', 'id_25',\n",
    "       'id_26', 'id_27', 'id_28', 'id_29','id_35', 'id_36', 'id_37', 'id_38','id_34','M4'])"
   ]
  },
  {
   "cell_type": "code",
   "execution_count": 5,
   "id": "1d66b553-32f2-4648-a272-0a192ae084ee",
   "metadata": {},
   "outputs": [],
   "source": [
    "val = val.drop(columns=['card1', 'card2', 'card3','card5', 'addr1', 'addr2','id_21', 'id_22', 'id_23', 'id_24', 'id_25',\n",
    "       'id_26', 'id_27', 'id_28', 'id_29','id_35', 'id_36', 'id_37', 'id_38','id_34','M4'])"
   ]
  },
  {
   "cell_type": "markdown",
   "id": "5e54b983-1940-4bfc-a473-2a39591d1351",
   "metadata": {},
   "source": [
    "Test naive bayes mixed"
   ]
  },
  {
   "cell_type": "code",
   "execution_count": 89,
   "id": "8a8335f3-ab4a-4942-ae10-73ea13acabd8",
   "metadata": {},
   "outputs": [],
   "source": [
    "from mixed_naive_bayes import MixedNB\n",
    "from sklearn.preprocessing import OrdinalEncoder\n",
    "from sklearn.preprocessing import LabelEncoder\n",
    "from sklearn.pipeline import Pipeline\n",
    "from sklearn.experimental import enable_iterative_imputer\n",
    "from sklearn.impute import IterativeImputer\n",
    "from sklearn.preprocessing import StandardScaler\n",
    "from sklearn.preprocessing import LabelEncoder\n",
    "from sklearn.preprocessing import FunctionTransformer\n",
    "from sklearn.ensemble import ExtraTreesRegressor\n",
    "from sklearn.impute import SimpleImputer\n",
    "from sklearn.compose import ColumnTransformer\n",
    "from sklearn.model_selection import GridSearchCV\n",
    "from sklearn import metrics\n",
    "from sklearn.metrics import *\n",
    "\n",
    "imp_mean = IterativeImputer(random_state=0)\n",
    "imp_mean2 = SimpleImputer(strategy='constant', fill_value='missing',verbose=0,add_indicator=True)\n",
    "enc = OrdinalEncoder()\n",
    "scaler = StandardScaler()"
   ]
  },
  {
   "cell_type": "code",
   "execution_count": 90,
   "id": "bad7a0fe-ad62-4f92-bac6-caf55677ea2d",
   "metadata": {},
   "outputs": [],
   "source": [
    "X_train = df.drop(columns='isFraud')\n",
    "y_train = df['isFraud'].astype(float)"
   ]
  },
  {
   "cell_type": "code",
   "execution_count": 91,
   "id": "a48de7d7-a0f7-40cc-86e1-3e09b84b9e16",
   "metadata": {},
   "outputs": [],
   "source": [
    "X_train['id_32'] = X_train['id_32'].astype(str)"
   ]
  },
  {
   "cell_type": "code",
   "execution_count": 92,
   "id": "034e2697-6f7b-49b2-83a0-23afb12b639e",
   "metadata": {},
   "outputs": [],
   "source": [
    "numerical_cols = X_train.select_dtypes(include=['int64', 'float64']).columns\n",
    "categorical_cols = X_train.select_dtypes(include=['object', 'bool']).columns"
   ]
  },
  {
   "cell_type": "code",
   "execution_count": 93,
   "id": "ec0dc3a8-fe00-420a-b709-397b8c12225b",
   "metadata": {},
   "outputs": [
    {
     "name": "stdout",
     "output_type": "stream",
     "text": [
      "TransactionAmt\n",
      "max_c\n",
      "max_d\n",
      "num_transaction_per_time\n",
      "multi_transaction_per_time\n"
     ]
    }
   ],
   "source": [
    "for i in X_train:\n",
    "    if i in numerical_cols:\n",
    "        print(i)\n",
    "        X_train[i] = imp_mean.fit_transform(X = X_train[i].values.reshape(-1,1))\n",
    "        X_train[i] = np.log(X_train[i] +1)\n",
    "        X_train[i] = scaler.fit_transform(X = X_train[i].values.reshape(-1,1))"
   ]
  },
  {
   "cell_type": "code",
   "execution_count": 94,
   "id": "3084ed07-68fb-443b-8a3b-dd47f16196bd",
   "metadata": {},
   "outputs": [
    {
     "name": "stdout",
     "output_type": "stream",
     "text": [
      "ProductCD\n",
      "fine:  ProductCD\n",
      "card4\n",
      "fine:  card4\n",
      "card6\n",
      "fine:  card6\n",
      "P_emaildomain\n",
      "fine:  P_emaildomain\n",
      "R_emaildomain\n",
      "fine:  R_emaildomain\n",
      "id_30\n",
      "fine:  id_30\n",
      "id_32\n",
      "fine:  id_32\n",
      "id_33\n",
      "fine:  id_33\n",
      "DeviceType\n",
      "fine:  DeviceType\n",
      "browser_enc\n",
      "fine:  browser_enc\n",
      "device_info_v4\n",
      "fine:  device_info_v4\n"
     ]
    }
   ],
   "source": [
    "for i in X_train:\n",
    "    if i in categorical_cols:\n",
    "        print(i)\n",
    "        X_train[i] = imp_mean2.fit_transform(X = X_train[i].values.reshape(-1,1))\n",
    "        X_train[i] = enc.fit_transform(X = X_train[i].values.reshape(-1,1))\n",
    "        print(\"fine: \",i)"
   ]
  },
  {
   "cell_type": "code",
   "execution_count": 95,
   "id": "0a8ffc7a-b119-45a8-81b3-e3cc421a9a07",
   "metadata": {},
   "outputs": [],
   "source": [
    "# class ModifiedLabelEncoder(LabelEncoder):\n",
    "\n",
    "#     def fit_transform(self, X_train, *args, **kwargs):\n",
    "#         return super().fit_transform(X_train).reshape(-1, 1)\n",
    "\n",
    "#     def transform(self, X_train, *args, **kwargs):\n",
    "#         return super().transform(X_train).reshape(-1, 1)"
   ]
  },
  {
   "cell_type": "code",
   "execution_count": 96,
   "id": "3771197d-dc5e-4fb3-bfc5-4abef768051b",
   "metadata": {},
   "outputs": [],
   "source": [
    "# def log_transform(x):\n",
    "#     print(x)\n",
    "#     return np.log(x + 1)"
   ]
  },
  {
   "cell_type": "code",
   "execution_count": 97,
   "id": "825a01e4-c874-462c-93fc-74561b43b041",
   "metadata": {},
   "outputs": [],
   "source": [
    "# scaler = StandardScaler()\n",
    "# transformer = FunctionTransformer(log_transform)"
   ]
  },
  {
   "cell_type": "code",
   "execution_count": 98,
   "id": "8222769c-74af-4a10-a9da-e0e3a4085ef3",
   "metadata": {},
   "outputs": [],
   "source": [
    "# numerical_preprocessor = Pipeline(steps=[(\"imputer\", IterativeImputer(ExtraTreesRegressor(n_estimators=5,random_state=1,verbose=0),random_state=1,verbose=0,add_indicator=True)),\n",
    "#                                          ('transformer', transformer),\n",
    "#                                  (\"scaler\", StandardScaler())])\n",
    "# categorical_preprocessor = Pipeline(steps=[(\"imputer\", SimpleImputer(strategy='constant', fill_value='missing',verbose=0,add_indicator=True)),\n",
    "#                                        (\"label_enc\", OrdinalEncoder())])\n",
    "# preprocessor = ColumnTransformer(transformers=[(\"numerical_preprocessor\", numerical_preprocessor, numerical_cols),\n",
    "#                                            (\"categorical_preprocessor\", categorical_preprocessor, categorical_cols)])"
   ]
  },
  {
   "cell_type": "code",
   "execution_count": 99,
   "id": "e3498857-703d-49cd-8543-374bffeac7b2",
   "metadata": {},
   "outputs": [],
   "source": [
    "# pipe_model = MixedNB(categorical_features=[X_train.columns.get_loc(c) for c in categorical_cols if c in X_train])"
   ]
  },
  {
   "cell_type": "code",
   "execution_count": 100,
   "id": "ad486006-c201-4ff4-8f28-0fe1a1c636c7",
   "metadata": {},
   "outputs": [],
   "source": [
    "pipe_model = MixedNB(categorical_features=[X_train.columns.get_loc(c) for c in categorical_cols if c in X_train])"
   ]
  },
  {
   "cell_type": "code",
   "execution_count": 101,
   "id": "6b7f8581-fe37-42dd-bc2f-5153d636b572",
   "metadata": {},
   "outputs": [],
   "source": [
    "# model = Pipeline(steps=[('preprocessor', preprocessor),\n",
    "#                         ('model', pipe_model)])"
   ]
  },
  {
   "cell_type": "code",
   "execution_count": 109,
   "id": "989f2636-0162-4d63-9326-b81687c4de4d",
   "metadata": {},
   "outputs": [],
   "source": [
    "X_train = X_train.astype(float)\n",
    "y_train = y_train.astype(int)"
   ]
  },
  {
   "cell_type": "code",
   "execution_count": 110,
   "id": "0b087bbd-fd36-4dd3-be48-f5c81eba1e98",
   "metadata": {},
   "outputs": [
    {
     "data": {
      "text/html": [
       "<div>\n",
       "<style scoped>\n",
       "    .dataframe tbody tr th:only-of-type {\n",
       "        vertical-align: middle;\n",
       "    }\n",
       "\n",
       "    .dataframe tbody tr th {\n",
       "        vertical-align: top;\n",
       "    }\n",
       "\n",
       "    .dataframe thead th {\n",
       "        text-align: right;\n",
       "    }\n",
       "</style>\n",
       "<table border=\"1\" class=\"dataframe\">\n",
       "  <thead>\n",
       "    <tr style=\"text-align: right;\">\n",
       "      <th></th>\n",
       "      <th>TransactionAmt</th>\n",
       "      <th>ProductCD</th>\n",
       "      <th>card4</th>\n",
       "      <th>card6</th>\n",
       "      <th>P_emaildomain</th>\n",
       "      <th>R_emaildomain</th>\n",
       "      <th>id_30</th>\n",
       "      <th>id_32</th>\n",
       "      <th>id_33</th>\n",
       "      <th>DeviceType</th>\n",
       "      <th>max_c</th>\n",
       "      <th>max_d</th>\n",
       "      <th>num_transaction_per_time</th>\n",
       "      <th>multi_transaction_per_time</th>\n",
       "      <th>browser_enc</th>\n",
       "      <th>device_info_v4</th>\n",
       "    </tr>\n",
       "  </thead>\n",
       "  <tbody>\n",
       "    <tr>\n",
       "      <th>60391</th>\n",
       "      <td>-0.632215</td>\n",
       "      <td>0.0</td>\n",
       "      <td>4.0</td>\n",
       "      <td>0.0</td>\n",
       "      <td>18.0</td>\n",
       "      <td>17.0</td>\n",
       "      <td>70.0</td>\n",
       "      <td>4.0</td>\n",
       "      <td>109.0</td>\n",
       "      <td>2.0</td>\n",
       "      <td>-0.089338</td>\n",
       "      <td>1.322409</td>\n",
       "      <td>-0.130863</td>\n",
       "      <td>-0.131772</td>\n",
       "      <td>1.0</td>\n",
       "      <td>16.0</td>\n",
       "    </tr>\n",
       "    <tr>\n",
       "      <th>80217</th>\n",
       "      <td>-1.108769</td>\n",
       "      <td>0.0</td>\n",
       "      <td>4.0</td>\n",
       "      <td>0.0</td>\n",
       "      <td>1.0</td>\n",
       "      <td>1.0</td>\n",
       "      <td>70.0</td>\n",
       "      <td>4.0</td>\n",
       "      <td>109.0</td>\n",
       "      <td>2.0</td>\n",
       "      <td>-0.709902</td>\n",
       "      <td>-1.108178</td>\n",
       "      <td>-0.130863</td>\n",
       "      <td>-0.131772</td>\n",
       "      <td>1.0</td>\n",
       "      <td>5.0</td>\n",
       "    </tr>\n",
       "    <tr>\n",
       "      <th>122937</th>\n",
       "      <td>-1.543039</td>\n",
       "      <td>0.0</td>\n",
       "      <td>4.0</td>\n",
       "      <td>1.0</td>\n",
       "      <td>1.0</td>\n",
       "      <td>1.0</td>\n",
       "      <td>70.0</td>\n",
       "      <td>4.0</td>\n",
       "      <td>109.0</td>\n",
       "      <td>2.0</td>\n",
       "      <td>-0.709902</td>\n",
       "      <td>0.891145</td>\n",
       "      <td>-0.130863</td>\n",
       "      <td>-0.131772</td>\n",
       "      <td>0.0</td>\n",
       "      <td>16.0</td>\n",
       "    </tr>\n",
       "  </tbody>\n",
       "</table>\n",
       "</div>"
      ],
      "text/plain": [
       "        TransactionAmt  ProductCD  card4  card6  P_emaildomain  R_emaildomain  \\\n",
       "60391        -0.632215        0.0    4.0    0.0           18.0           17.0   \n",
       "80217        -1.108769        0.0    4.0    0.0            1.0            1.0   \n",
       "122937       -1.543039        0.0    4.0    1.0            1.0            1.0   \n",
       "\n",
       "        id_30  id_32  id_33  DeviceType     max_c     max_d  \\\n",
       "60391    70.0    4.0  109.0         2.0 -0.089338  1.322409   \n",
       "80217    70.0    4.0  109.0         2.0 -0.709902 -1.108178   \n",
       "122937   70.0    4.0  109.0         2.0 -0.709902  0.891145   \n",
       "\n",
       "        num_transaction_per_time  multi_transaction_per_time  browser_enc  \\\n",
       "60391                  -0.130863                   -0.131772          1.0   \n",
       "80217                  -0.130863                   -0.131772          1.0   \n",
       "122937                 -0.130863                   -0.131772          0.0   \n",
       "\n",
       "        device_info_v4  \n",
       "60391             16.0  \n",
       "80217              5.0  \n",
       "122937            16.0  "
      ]
     },
     "execution_count": 110,
     "metadata": {},
     "output_type": "execute_result"
    }
   ],
   "source": [
    "X_train.sample(3)"
   ]
  },
  {
   "cell_type": "code",
   "execution_count": 111,
   "id": "e12d2add-a3dd-44cc-9589-574d1093ef19",
   "metadata": {},
   "outputs": [
    {
     "data": {
      "text/plain": [
       "138462    0\n",
       "144114    1\n",
       "102851    1\n",
       "Name: isFraud, dtype: int64"
      ]
     },
     "execution_count": 111,
     "metadata": {},
     "output_type": "execute_result"
    }
   ],
   "source": [
    "y_train.sample(3)"
   ]
  },
  {
   "cell_type": "code",
   "execution_count": 112,
   "id": "5ec12993-80ff-43ff-831b-45249d651621",
   "metadata": {},
   "outputs": [
    {
     "data": {
      "text/plain": [
       "TransactionAmt                float64\n",
       "ProductCD                     float64\n",
       "card4                         float64\n",
       "card6                         float64\n",
       "P_emaildomain                 float64\n",
       "R_emaildomain                 float64\n",
       "id_30                         float64\n",
       "id_32                         float64\n",
       "id_33                         float64\n",
       "DeviceType                    float64\n",
       "max_c                         float64\n",
       "max_d                         float64\n",
       "num_transaction_per_time      float64\n",
       "multi_transaction_per_time    float64\n",
       "browser_enc                   float64\n",
       "device_info_v4                float64\n",
       "dtype: object"
      ]
     },
     "execution_count": 112,
     "metadata": {},
     "output_type": "execute_result"
    }
   ],
   "source": [
    "X_train.dtypes"
   ]
  },
  {
   "cell_type": "code",
   "execution_count": 113,
   "id": "026a8573-57f9-49ff-8d08-6e13fc75579d",
   "metadata": {},
   "outputs": [
    {
     "data": {
      "text/plain": [
       "dtype('int64')"
      ]
     },
     "execution_count": 113,
     "metadata": {},
     "output_type": "execute_result"
    }
   ],
   "source": [
    "y_train.dtypes"
   ]
  },
  {
   "cell_type": "code",
   "execution_count": 114,
   "id": "f2f1d0a5-f419-4cb8-bfcd-8031450fbf71",
   "metadata": {},
   "outputs": [],
   "source": [
    "model_grid = pipe_model.fit(X_train,y_train)"
   ]
  },
  {
   "cell_type": "code",
   "execution_count": 116,
   "id": "5c0dd9a4-03dd-4502-8652-0b3dab1e7b1b",
   "metadata": {},
   "outputs": [
    {
     "name": "stdout",
     "output_type": "stream",
     "text": [
      "Test results...\n",
      "Model Test Recall: 0.7484739005855239\n",
      "--------------------------------------------------\n",
      "Model Test Confusion Matrix\n",
      "Classification report : \n",
      "               precision    recall  f1-score   support\n",
      "\n",
      "           0       0.71      0.60      0.65      8027\n",
      "           1       0.65      0.75      0.70      8027\n",
      "\n",
      "    accuracy                           0.68     16054\n",
      "   macro avg       0.68      0.68      0.67     16054\n",
      "weighted avg       0.68      0.68      0.67     16054\n",
      "\n"
     ]
    },
    {
     "ename": "AttributeError",
     "evalue": "'MixedNB' object has no attribute 'named_steps'",
     "output_type": "error",
     "traceback": [
      "\u001b[0;31m---------------------------------------------------------------------------\u001b[0m",
      "\u001b[0;31mAttributeError\u001b[0m                            Traceback (most recent call last)",
      "\u001b[0;32m/tmp/ipykernel_1549/3974773940.py\u001b[0m in \u001b[0;36m<module>\u001b[0;34m\u001b[0m\n\u001b[0;32m----> 1\u001b[0;31m \u001b[0mmlu\u001b[0m\u001b[0;34m.\u001b[0m\u001b[0mmodel_evaluation\u001b[0m\u001b[0;34m(\u001b[0m\u001b[0mmodel_grid\u001b[0m\u001b[0;34m,\u001b[0m \u001b[0mX_train\u001b[0m\u001b[0;34m,\u001b[0m \u001b[0my_train\u001b[0m\u001b[0;34m)\u001b[0m\u001b[0;34m\u001b[0m\u001b[0;34m\u001b[0m\u001b[0m\n\u001b[0m",
      "\u001b[0;32m/src/notebooks/4_modeling/../../modules/machine_learning_utils.py\u001b[0m in \u001b[0;36mmodel_evaluation\u001b[0;34m(model, X_test, y_test)\u001b[0m\n\u001b[1;32m    230\u001b[0m     \u001b[0;31m##\u001b[0m\u001b[0;34m\u001b[0m\u001b[0;34m\u001b[0m\u001b[0m\n\u001b[1;32m    231\u001b[0m     \u001b[0;31m# feature_importances = model.best_estimator_.named_steps['model'].feature_importances_\u001b[0m\u001b[0;34m\u001b[0m\u001b[0;34m\u001b[0m\u001b[0m\n\u001b[0;32m--> 232\u001b[0;31m     \u001b[0mfeature_importances\u001b[0m \u001b[0;34m=\u001b[0m \u001b[0mmodel\u001b[0m\u001b[0;34m.\u001b[0m\u001b[0mnamed_steps\u001b[0m\u001b[0;34m[\u001b[0m\u001b[0;34m'model'\u001b[0m\u001b[0;34m]\u001b[0m\u001b[0;34m.\u001b[0m\u001b[0mfeature_importances_\u001b[0m\u001b[0;34m\u001b[0m\u001b[0;34m\u001b[0m\u001b[0m\n\u001b[0m\u001b[1;32m    233\u001b[0m     \u001b[0mfeature_names\u001b[0m \u001b[0;34m=\u001b[0m \u001b[0mX_test\u001b[0m\u001b[0;34m.\u001b[0m\u001b[0mcolumns\u001b[0m\u001b[0;34m\u001b[0m\u001b[0;34m\u001b[0m\u001b[0m\n\u001b[1;32m    234\u001b[0m     \u001b[0mlista\u001b[0m \u001b[0;34m=\u001b[0m \u001b[0;34m[\u001b[0m\u001b[0;34m]\u001b[0m\u001b[0;34m\u001b[0m\u001b[0;34m\u001b[0m\u001b[0m\n",
      "\u001b[0;31mAttributeError\u001b[0m: 'MixedNB' object has no attribute 'named_steps'"
     ]
    },
    {
     "data": {
      "image/png": "[encoded data removed]",
      "text/plain": [
       "<Figure size 432x288 with 2 Axes>"
      ]
     },
     "metadata": {
      "needs_background": "light"
     },
     "output_type": "display_data"
    }
   ],
   "source": [
    "mlu.model_evaluation(model_grid, X_train, y_train)"
   ]
  },
  {
   "cell_type": "code",
   "execution_count": null,
   "id": "0b1ded8d-f9d0-4426-a8c8-a1b4c68c2bbd",
   "metadata": {},
   "outputs": [],
   "source": []
  },
  {
   "cell_type": "code",
   "execution_count": null,
   "id": "fdcd8cae-784d-4ef2-b50c-cf845e415996",
   "metadata": {},
   "outputs": [],
   "source": []
  },
  {
   "cell_type": "code",
   "execution_count": null,
   "id": "7232e0f8-3914-4413-ba1c-0235898a7b40",
   "metadata": {},
   "outputs": [],
   "source": []
  },
  {
   "cell_type": "code",
   "execution_count": null,
   "id": "6ac88d53-00ec-445e-9c89-fe4599b63942",
   "metadata": {},
   "outputs": [],
   "source": []
  },
  {
   "cell_type": "markdown",
   "id": "b94ae274-6ebb-47da-9b3f-1bf8777ff26a",
   "metadata": {},
   "source": [
    "# 2.0 Training baseline"
   ]
  },
  {
   "cell_type": "code",
   "execution_count": 6,
   "id": "f42f73a6-a617-4af8-ab65-42eb11cb2aa6",
   "metadata": {},
   "outputs": [],
   "source": [
    "for i in df:\n",
    "    if df[i].dtypes == 'object':\n",
    "        df[i] = df[i].astype(str)"
   ]
  },
  {
   "cell_type": "code",
   "execution_count": 7,
   "id": "447dd015-4ec9-424b-a67a-5467bea048fa",
   "metadata": {},
   "outputs": [],
   "source": [
    "X_train = df.drop(columns='isFraud')\n",
    "y_train = df['isFraud'].astype(float)"
   ]
  },
  {
   "cell_type": "code",
   "execution_count": 8,
   "id": "8e2abe67-a034-4489-ab56-95d352c1ba5c",
   "metadata": {},
   "outputs": [],
   "source": [
    "numerical_cols = X_train.select_dtypes(include=['int64', 'float64']).columns\n",
    "categorical_cols = X_train.select_dtypes(include=['object', 'bool']).columns"
   ]
  },
  {
   "cell_type": "code",
   "execution_count": 9,
   "id": "896ff822-606b-4176-839d-0d0cb9ffc8a2",
   "metadata": {},
   "outputs": [],
   "source": [
    "parameters = {'model__max_depth':[2,4],'model__n_estimators':[100,200,400],'model__learning_rate':[0.05,0.5,0.1]}"
   ]
  },
  {
   "cell_type": "code",
   "execution_count": 10,
   "id": "9d223653-db46-491e-8480-ff2f6aa40f5c",
   "metadata": {},
   "outputs": [
    {
     "name": "stdout",
     "output_type": "stream",
     "text": [
      "GridSearchCV results...\n",
      "Mean Train Scores: \n",
      "[0.74785116 0.76932023 0.78368824 0.80175212 0.81757385 0.8322327\n",
      " 0.80885338 0.8315685  0.84315414 0.87243039 0.89219657 0.89219657\n",
      " 0.76915414 0.7855569  0.79643699 0.81915191 0.83468299 0.85565353]\n",
      "\n",
      "Mean CV Scores: \n",
      "[0.74473521 0.764668   0.77550669 0.78746744 0.80004934 0.80702598\n",
      " 0.78846315 0.80253957 0.81013983 0.82459206 0.83605325 0.83605325\n",
      " 0.76479257 0.77600513 0.78410297 0.80042266 0.80752374 0.82060483]\n",
      "\n",
      "Best Parameters: \n",
      "{'model__learning_rate': 0.5, 'model__max_depth': 4, 'model__n_estimators': 200}\n",
      "\n"
     ]
    }
   ],
   "source": [
    "model = mlu.model_training(X_train,y_train,numerical_cols,categorical_cols,parameters)"
   ]
  },
  {
   "cell_type": "markdown",
   "id": "8979506f-bf78-45a8-aeaa-565ec78b619c",
   "metadata": {},
   "source": [
    "# 3.0 Evaluation baseline"
   ]
  },
  {
   "cell_type": "code",
   "execution_count": 11,
   "id": "0436df8f-e20e-4221-a5e5-fd25a99a627f",
   "metadata": {
    "tags": []
   },
   "outputs": [],
   "source": [
    "for i in val:\n",
    "    if val[i].dtypes == 'object':\n",
    "        val[i] = val[i].astype(str)"
   ]
  },
  {
   "cell_type": "code",
   "execution_count": 12,
   "id": "6869f637-86f7-453e-8f2e-1bd85a583e80",
   "metadata": {},
   "outputs": [],
   "source": [
    "X_val = val.drop(columns='isFraud')\n",
    "y_val = val['isFraud'].astype(float)"
   ]
  },
  {
   "cell_type": "code",
   "execution_count": 13,
   "id": "480731d1-3722-4bb7-878a-88ba9ae3c562",
   "metadata": {},
   "outputs": [],
   "source": [
    "m = mlu.model_calibration(model,X_val,y_val)"
   ]
  },
  {
   "cell_type": "code",
   "execution_count": 14,
   "id": "cc84f329-c349-4691-b36c-a47f465dbd93",
   "metadata": {},
   "outputs": [
    {
     "name": "stdout",
     "output_type": "stream",
     "text": [
      "Test results...\n",
      "Model Test Recall: 0.8300180831826401\n",
      "--------------------------------------------------\n",
      "Model Test Confusion Matrix\n",
      "Classification report : \n",
      "               precision    recall  f1-score   support\n",
      "\n",
      "         0.0       0.98      0.84      0.91     19976\n",
      "         1.0       0.30      0.83      0.44      1659\n",
      "\n",
      "    accuracy                           0.84     21635\n",
      "   macro avg       0.64      0.83      0.67     21635\n",
      "weighted avg       0.93      0.84      0.87     21635\n",
      "\n",
      "ProductCD: 0.39795216196134353\n",
      "TransactionAmt: 0.10475515203312302\n",
      "card4: 0.0966983772789171\n",
      "id_30: 0.036983576270536354\n",
      "id_32: 0.027146168743186216\n",
      "device_info_v4: 0.026108062606987125\n",
      "DeviceType: 0.0067923289384012285\n",
      "id_33: 0.005297993187425341\n",
      "max_d: 0.0018355590591574054\n",
      "num_transaction_per_time: 0.0015626353732598973\n",
      "max_c: 0.001525769829673219\n",
      "P_emaildomain: 0.0010695735639445186\n",
      "browser_enc: 0.0007868522868852358\n",
      "card6: 0.0005479967741976651\n",
      "R_emaildomain: 0.00011436944483328174\n",
      "multi_transaction_per_time: 0.00011352612318305594\n"
     ]
    },
    {
     "data": {
      "text/plain": [
       "Pipeline(steps=[('preprocessor',\n",
       "                 ColumnTransformer(transformers=[('numerical_preprocessor',\n",
       "                                                  Pipeline(steps=[('imputer',\n",
       "                                                                   IterativeImputer(add_indicator=True,\n",
       "                                                                                    estimator=ExtraTreesRegressor(n_estimators=5,\n",
       "                                                                                                                  random_state=1),\n",
       "                                                                                    random_state=1)),\n",
       "                                                                  ('scaler',\n",
       "                                                                   MinMaxScaler())]),\n",
       "                                                  Index(['TransactionAmt', 'max_c', 'max_d', 'num_transaction_per_time',\n",
       "       'multi_transaction_per_t...\n",
       "                                                                   OneHotEncoder(handle_unknown='ignore'))]),\n",
       "                                                  Index(['ProductCD', 'card4', 'card6', 'P_emaildomain', 'R_emaildomain',\n",
       "       'id_30', 'id_32', 'id_33', 'DeviceType', 'browser_enc',\n",
       "       'device_info_v4'],\n",
       "      dtype='object'))])),\n",
       "                ('model',\n",
       "                 GradientBoostingClassifier(learning_rate=0.5, max_depth=4,\n",
       "                                            max_features='auto',\n",
       "                                            n_estimators=200,\n",
       "                                            n_iter_no_change=25, random_state=0,\n",
       "                                            warm_start=True))])"
      ]
     },
     "execution_count": 14,
     "metadata": {},
     "output_type": "execute_result"
    },
    {
     "data": {
      "image/png": "[encoded data removed]",
      "text/plain": [
       "<Figure size 432x288 with 2 Axes>"
      ]
     },
     "metadata": {
      "needs_background": "light"
     },
     "output_type": "display_data"
    }
   ],
   "source": [
    "mlu.model_evaluation(m.base_estimator, X_val, y_val)"
   ]
  },
  {
   "cell_type": "code",
   "execution_count": null,
   "id": "956efedf-8e1e-4f8c-b30b-6b2e0560dab3",
   "metadata": {},
   "outputs": [],
   "source": []
  }
 ],
 "metadata": {
  "kernelspec": {
   "display_name": "dev",
   "language": "python",
   "name": "python3"
  },
  "language_info": {
   "codemirror_mode": {
    "name": "ipython",
    "version": 3
   },
   "file_extension": ".py",
   "mimetype": "text/x-python",
   "name": "python",
   "nbconvert_exporter": "python",
   "pygments_lexer": "ipython3",
   "version": "3.9.7"
  }
 },
 "nbformat": 4,
 "nbformat_minor": 5
}
