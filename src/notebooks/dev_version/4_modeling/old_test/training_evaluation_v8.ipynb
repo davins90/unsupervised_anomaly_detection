{
 "cells": [
  {
   "cell_type": "markdown",
   "id": "78b9ab1b-17b0-45a4-96ef-785cbeb8355f",
   "metadata": {},
   "source": [
    "final version --> less features again"
   ]
  },
  {
   "cell_type": "code",
   "execution_count": 1,
   "id": "6d57c904-bd1c-47ef-b5d7-46d730fc9ee9",
   "metadata": {},
   "outputs": [],
   "source": [
    "import sys\n",
    "sys.path.append('../../')"
   ]
  },
  {
   "cell_type": "code",
   "execution_count": 2,
   "id": "4749bf27-a893-49c2-80c1-78b7601f0e16",
   "metadata": {},
   "outputs": [],
   "source": [
    "import pandas as pd\n",
    "import numpy as np\n",
    "import pickle\n",
    "import matplotlib.pyplot as plt\n",
    "\n",
    "from modules import machine_learning_utils as mlu\n",
    "\n",
    "pd.set_option(\"display.max_rows\",None)\n",
    "pd.set_option(\"display.max_columns\",None)"
   ]
  },
  {
   "cell_type": "markdown",
   "id": "3f4f1e2c-06fe-46f3-8f2f-f8f25c143da0",
   "metadata": {},
   "source": [
    "# 1.0 Data retrieval"
   ]
  },
  {
   "cell_type": "code",
   "execution_count": 3,
   "id": "ec6dcbae-669d-425b-8324-e7bb0ba0b538",
   "metadata": {},
   "outputs": [],
   "source": [
    "df = pd.read_pickle(\"../../data_lake/output/train_eng.pkl\")\n",
    "val = pd.read_pickle(\"../../data_lake/output/val_eng.pkl\")"
   ]
  },
  {
   "cell_type": "code",
   "execution_count": 4,
   "id": "19fd4f10-b626-4441-b925-b94345a9ba54",
   "metadata": {},
   "outputs": [],
   "source": [
    "df = df.drop(columns=['card1', 'card2', 'card3','card5', 'addr1', 'addr2','id_21', 'id_22', 'id_23', 'id_24', 'id_25',\n",
    "       'id_26', 'id_27', 'id_28', 'id_29','id_35', 'id_36', 'id_37', 'id_38','id_34','M4','id_32','num_transaction_per_time',\n",
    "       'multi_transaction_per_time','card6',\n",
    "       'R_emaildomain'])"
   ]
  },
  {
   "cell_type": "code",
   "execution_count": 5,
   "id": "1d66b553-32f2-4648-a272-0a192ae084ee",
   "metadata": {},
   "outputs": [],
   "source": [
    "val = val.drop(columns=['card1', 'card2', 'card3','card5', 'addr1', 'addr2','id_21', 'id_22', 'id_23', 'id_24', 'id_25',\n",
    "       'id_26', 'id_27', 'id_28', 'id_29','id_35', 'id_36', 'id_37', 'id_38','id_34','M4','id_32','num_transaction_per_time',\n",
    "       'multi_transaction_per_time','card6',\n",
    "       'R_emaildomain'])"
   ]
  },
  {
   "cell_type": "markdown",
   "id": "b94ae274-6ebb-47da-9b3f-1bf8777ff26a",
   "metadata": {},
   "source": [
    "# 2.0 Training baseline"
   ]
  },
  {
   "cell_type": "code",
   "execution_count": 6,
   "id": "f42f73a6-a617-4af8-ab65-42eb11cb2aa6",
   "metadata": {},
   "outputs": [],
   "source": [
    "for i in df:\n",
    "    if df[i].dtypes == 'object':\n",
    "        df[i] = df[i].astype(str)"
   ]
  },
  {
   "cell_type": "code",
   "execution_count": 7,
   "id": "447dd015-4ec9-424b-a67a-5467bea048fa",
   "metadata": {},
   "outputs": [],
   "source": [
    "X_train = df.drop(columns='isFraud')\n",
    "y_train = df['isFraud'].astype(float)"
   ]
  },
  {
   "cell_type": "code",
   "execution_count": 8,
   "id": "8e2abe67-a034-4489-ab56-95d352c1ba5c",
   "metadata": {},
   "outputs": [],
   "source": [
    "numerical_cols = X_train.select_dtypes(include=['int64', 'float64']).columns\n",
    "categorical_cols = X_train.select_dtypes(include=['object', 'bool']).columns"
   ]
  },
  {
   "cell_type": "code",
   "execution_count": 9,
   "id": "896ff822-606b-4176-839d-0d0cb9ffc8a2",
   "metadata": {},
   "outputs": [],
   "source": [
    "parameters = {'model__max_depth':[2,4],'model__n_estimators':[100,200,400],'model__learning_rate':[0.05,0.5,0.1]}"
   ]
  },
  {
   "cell_type": "code",
   "execution_count": 10,
   "id": "9d223653-db46-491e-8480-ff2f6aa40f5c",
   "metadata": {},
   "outputs": [
    {
     "name": "stdout",
     "output_type": "stream",
     "text": [
      "GridSearchCV results...\n",
      "Mean Train Scores: \n",
      "[0.74544238 0.75702827 0.76932025 0.78763335 0.80125423 0.81296455\n",
      " 0.79116322 0.80823009 0.80984969 0.85930779 0.87014542 0.87014542\n",
      " 0.75794191 0.77114745 0.78294083 0.80054822 0.81761546 0.8385864 ]\n",
      "\n",
      "Mean CV Scores: \n",
      "[0.74087485 0.74996901 0.75968526 0.77152027 0.77874529 0.7875912\n",
      " 0.77064764 0.78098893 0.78211007 0.81325536 0.81662021 0.81662021\n",
      " 0.75158779 0.7606814  0.7686548  0.77949292 0.78995829 0.80191805]\n",
      "\n",
      "Best Parameters: \n",
      "{'model__learning_rate': 0.5, 'model__max_depth': 4, 'model__n_estimators': 200}\n",
      "\n"
     ]
    }
   ],
   "source": [
    "model = mlu.model_training(X_train,y_train,numerical_cols,categorical_cols,parameters)"
   ]
  },
  {
   "cell_type": "markdown",
   "id": "8979506f-bf78-45a8-aeaa-565ec78b619c",
   "metadata": {},
   "source": [
    "# 3.0 Evaluation baseline"
   ]
  },
  {
   "cell_type": "code",
   "execution_count": 11,
   "id": "0436df8f-e20e-4221-a5e5-fd25a99a627f",
   "metadata": {
    "tags": []
   },
   "outputs": [],
   "source": [
    "for i in val:\n",
    "    if val[i].dtypes == 'object':\n",
    "        val[i] = val[i].astype(str)"
   ]
  },
  {
   "cell_type": "code",
   "execution_count": 12,
   "id": "6869f637-86f7-453e-8f2e-1bd85a583e80",
   "metadata": {},
   "outputs": [],
   "source": [
    "X_val = val.drop(columns='isFraud')\n",
    "y_val = val['isFraud'].astype(float)"
   ]
  },
  {
   "cell_type": "code",
   "execution_count": 13,
   "id": "480731d1-3722-4bb7-878a-88ba9ae3c562",
   "metadata": {},
   "outputs": [],
   "source": [
    "m = mlu.model_calibration(model,X_val,y_val)"
   ]
  },
  {
   "cell_type": "code",
   "execution_count": 14,
   "id": "cc84f329-c349-4691-b36c-a47f465dbd93",
   "metadata": {},
   "outputs": [
    {
     "name": "stdout",
     "output_type": "stream",
     "text": [
      "Test results...\n",
      "Model Test Recall: 0.8221820373719108\n",
      "--------------------------------------------------\n",
      "Model Test Confusion Matrix\n",
      "Classification report : \n",
      "               precision    recall  f1-score   support\n",
      "\n",
      "         0.0       0.98      0.83      0.90     19976\n",
      "         1.0       0.29      0.82      0.42      1659\n",
      "\n",
      "    accuracy                           0.83     21635\n",
      "   macro avg       0.63      0.83      0.66     21635\n",
      "weighted avg       0.93      0.83      0.86     21635\n",
      "\n",
      "ProductCD: 0.38860134750610525\n",
      "TransactionAmt: 0.1320056388169184\n",
      "card4: 0.11571058373291007\n",
      "id_30: 0.037184265661583775\n",
      "id_33: 0.020107795707140254\n",
      "DeviceType: 0.011848506381294989\n",
      "max_c: 0.009876415669560677\n",
      "device_info_v4: 0.0021688198102364554\n",
      "browser_enc: 0.0020011237810310966\n",
      "max_d: 0.0007142535748875719\n",
      "P_emaildomain: 7.183270907362746e-05\n"
     ]
    },
    {
     "data": {
      "text/plain": [
       "Pipeline(steps=[('preprocessor',\n",
       "                 ColumnTransformer(transformers=[('numerical_preprocessor',\n",
       "                                                  Pipeline(steps=[('imputer',\n",
       "                                                                   IterativeImputer(add_indicator=True,\n",
       "                                                                                    estimator=ExtraTreesRegressor(n_estimators=5,\n",
       "                                                                                                                  random_state=1),\n",
       "                                                                                    random_state=1)),\n",
       "                                                                  ('scaler',\n",
       "                                                                   MinMaxScaler())]),\n",
       "                                                  Index(['TransactionAmt', 'max_c', 'max_d'], dtype='object')),\n",
       "                                                 ('categorical_preprocessor',\n",
       "                                                  Pipel...\n",
       "                                                                                 strategy='constant')),\n",
       "                                                                  ('label_enc',\n",
       "                                                                   OneHotEncoder(handle_unknown='ignore'))]),\n",
       "                                                  Index(['ProductCD', 'card4', 'P_emaildomain', 'id_30', 'id_33', 'DeviceType',\n",
       "       'browser_enc', 'device_info_v4'],\n",
       "      dtype='object'))])),\n",
       "                ('model',\n",
       "                 GradientBoostingClassifier(learning_rate=0.5, max_depth=4,\n",
       "                                            max_features='auto',\n",
       "                                            n_estimators=200,\n",
       "                                            n_iter_no_change=25, random_state=0,\n",
       "                                            warm_start=True))])"
      ]
     },
     "execution_count": 14,
     "metadata": {},
     "output_type": "execute_result"
    },
    {
     "data": {
      "image/png": "[encoded data removed]",
      "text/plain": [
       "<Figure size 432x288 with 2 Axes>"
      ]
     },
     "metadata": {
      "needs_background": "light"
     },
     "output_type": "display_data"
    }
   ],
   "source": [
    "mlu.model_evaluation(m.base_estimator, X_val, y_val)"
   ]
  },
  {
   "cell_type": "code",
   "execution_count": 15,
   "id": "2b3d2fad-19dc-48a4-9a46-22a3c513ae92",
   "metadata": {},
   "outputs": [
    {
     "data": {
      "text/html": [
       "<div>\n",
       "<style scoped>\n",
       "    .dataframe tbody tr th:only-of-type {\n",
       "        vertical-align: middle;\n",
       "    }\n",
       "\n",
       "    .dataframe tbody tr th {\n",
       "        vertical-align: top;\n",
       "    }\n",
       "\n",
       "    .dataframe thead th {\n",
       "        text-align: right;\n",
       "    }\n",
       "</style>\n",
       "<table border=\"1\" class=\"dataframe\">\n",
       "  <thead>\n",
       "    <tr style=\"text-align: right;\">\n",
       "      <th></th>\n",
       "      <th>isFraud</th>\n",
       "      <th>TransactionAmt</th>\n",
       "      <th>ProductCD</th>\n",
       "      <th>card4</th>\n",
       "      <th>P_emaildomain</th>\n",
       "      <th>id_30</th>\n",
       "      <th>id_33</th>\n",
       "      <th>DeviceType</th>\n",
       "      <th>max_c</th>\n",
       "      <th>max_d</th>\n",
       "      <th>browser_enc</th>\n",
       "      <th>device_info_v4</th>\n",
       "    </tr>\n",
       "  </thead>\n",
       "  <tbody>\n",
       "    <tr>\n",
       "      <th>17544</th>\n",
       "      <td>1</td>\n",
       "      <td>41.102</td>\n",
       "      <td>C</td>\n",
       "      <td>visa</td>\n",
       "      <td>anonymous.com</td>\n",
       "      <td>nan</td>\n",
       "      <td>nan</td>\n",
       "      <td>mobile</td>\n",
       "      <td>4079.0</td>\n",
       "      <td>257.0</td>\n",
       "      <td>safari</td>\n",
       "      <td>other</td>\n",
       "    </tr>\n",
       "    <tr>\n",
       "      <th>139763</th>\n",
       "      <td>0</td>\n",
       "      <td>150.000</td>\n",
       "      <td>R</td>\n",
       "      <td>mastercard</td>\n",
       "      <td>anonymous.com</td>\n",
       "      <td>Windows_10</td>\n",
       "      <td>1366x768</td>\n",
       "      <td>desktop</td>\n",
       "      <td>1.0</td>\n",
       "      <td>0.0</td>\n",
       "      <td>chrome</td>\n",
       "      <td>windows</td>\n",
       "    </tr>\n",
       "    <tr>\n",
       "      <th>107175</th>\n",
       "      <td>1</td>\n",
       "      <td>29.183</td>\n",
       "      <td>C</td>\n",
       "      <td>visa</td>\n",
       "      <td>gmail.com</td>\n",
       "      <td>nan</td>\n",
       "      <td>nan</td>\n",
       "      <td>mobile</td>\n",
       "      <td>91.0</td>\n",
       "      <td>99.0</td>\n",
       "      <td>chrome</td>\n",
       "      <td>samsung</td>\n",
       "    </tr>\n",
       "  </tbody>\n",
       "</table>\n",
       "</div>"
      ],
      "text/plain": [
       "       isFraud  TransactionAmt ProductCD       card4  P_emaildomain  \\\n",
       "17544        1          41.102         C        visa  anonymous.com   \n",
       "139763       0         150.000         R  mastercard  anonymous.com   \n",
       "107175       1          29.183         C        visa      gmail.com   \n",
       "\n",
       "             id_30     id_33 DeviceType   max_c  max_d browser_enc  \\\n",
       "17544          nan       nan     mobile  4079.0  257.0      safari   \n",
       "139763  Windows_10  1366x768    desktop     1.0    0.0      chrome   \n",
       "107175         nan       nan     mobile    91.0   99.0      chrome   \n",
       "\n",
       "       device_info_v4  \n",
       "17544           other  \n",
       "139763        windows  \n",
       "107175        samsung  "
      ]
     },
     "execution_count": 15,
     "metadata": {},
     "output_type": "execute_result"
    }
   ],
   "source": [
    "df.sample(3)"
   ]
  },
  {
   "cell_type": "markdown",
   "id": "c38cf05a-2a26-4abc-bfe1-436317ca1aa9",
   "metadata": {},
   "source": [
    "# 4.0 Model Output"
   ]
  },
  {
   "cell_type": "code",
   "execution_count": 15,
   "id": "0426aa06-c968-4fc9-9533-1edf64743b84",
   "metadata": {},
   "outputs": [],
   "source": [
    "with open('../../data_lake/output/trained_model_v1.pkl','wb') as file:\n",
    "    pickle.dump(m.base_estimator, file)"
   ]
  },
  {
   "cell_type": "code",
   "execution_count": null,
   "id": "21e4e969-d853-44f1-8c04-cd6388a875d7",
   "metadata": {},
   "outputs": [],
   "source": []
  }
 ],
 "metadata": {
  "kernelspec": {
   "display_name": "dev",
   "language": "python",
   "name": "python3"
  },
  "language_info": {
   "codemirror_mode": {
    "name": "ipython",
    "version": 3
   },
   "file_extension": ".py",
   "mimetype": "text/x-python",
   "name": "python",
   "nbconvert_exporter": "python",
   "pygments_lexer": "ipython3",
   "version": "3.9.7"
  }
 },
 "nbformat": 4,
 "nbformat_minor": 5
}
