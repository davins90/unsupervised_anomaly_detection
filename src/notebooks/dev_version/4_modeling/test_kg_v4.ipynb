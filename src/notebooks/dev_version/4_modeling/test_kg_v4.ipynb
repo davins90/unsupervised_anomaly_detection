{
 "cells": [
  {
   "cell_type": "markdown",
   "id": "09d1f59e-8a50-4235-932c-8f07795888aa",
   "metadata": {},
   "source": [
    "Final version for basic knowledge graph --> refactoring notebooks"
   ]
  },
  {
   "cell_type": "code",
   "execution_count": 1,
   "id": "b6a891a0-ab48-40c4-a798-e5fa19856332",
   "metadata": {},
   "outputs": [],
   "source": [
    "# pip install pyvis"
   ]
  },
  {
   "cell_type": "code",
   "execution_count": 2,
   "id": "09cae721-271e-469e-80c6-565dc79c7f3a",
   "metadata": {},
   "outputs": [],
   "source": [
    "import pandas as pd\n",
    "import numpy as np\n",
    "import networkx as nx\n",
    "import matplotlib.pyplot as plt\n",
    "\n",
    "from pyvis import network as net\n",
    "from pyvis.network import Network\n",
    "\n",
    "pd.set_option(\"display.max_rows\",None)\n",
    "pd.set_option(\"display.max_columns\",None)"
   ]
  },
  {
   "cell_type": "code",
   "execution_count": 3,
   "id": "755219fe-35f1-41fd-8106-a78fea4b42f2",
   "metadata": {},
   "outputs": [],
   "source": [
    "def features_eng(df, version):\n",
    "    \"\"\"\n",
    "    \n",
    "    \"\"\"\n",
    "    if version == 'clustering':\n",
    "        df = df.drop(columns=['dist2','TransactionID'])\n",
    "    elif version == 'anomaly':\n",
    "        df = df.drop(columns=['dist2','customer_id','TransactionID'])\n",
    "    elif version == 'network':\n",
    "        df = df.drop(columns=['dist2'])\n",
    "    df = df.rename(columns={'id_31':'browser'})\n",
    "    df['P_emaildomain'] = df['P_emaildomain'].mask(df['P_emaildomain']=='gmail','gmail.com')\n",
    "    df['R_emaildomain'] = df['R_emaildomain'].mask(df['R_emaildomain']=='gmail','gmail.com')\n",
    "    df['id_30'] = df['id_30'].replace(\" \",\"_\",regex=True)\n",
    "    df['id_30'] = df['id_30'].str.replace(\".\",\"_\",regex=False)\n",
    "    df['browser'] = df['browser'].mask(df['browser'].str.contains('SM') | df['browser'].str.contains('ZTE'),'other')\n",
    "    df['browser'] = df['browser'].astype(str)\n",
    "    df['browser_enc'] = 'other'\n",
    "    df['browser_enc'] = df['browser_enc'].mask(df['browser'].str.contains('ie'),'ie')\n",
    "    df['browser_enc'] = df['browser_enc'].mask(df['browser'].str.contains('safari'),'safari')\n",
    "    df['browser_enc'] = df['browser_enc'].mask(df['browser'].str.contains('edge'),'edge')\n",
    "    df['browser_enc'] = df['browser_enc'].mask(df['browser'].str.contains('firefox'),'firefox')\n",
    "    df['browser_enc'] = df['browser_enc'].mask(df['browser'].str.contains('android'),'android')\n",
    "    df['browser_enc'] = df['browser_enc'].mask(df['browser'].str.contains('Android'),'android')\n",
    "    df['browser_enc'] = df['browser_enc'].mask(df['browser'].str.contains('chrome'),'chrome')\n",
    "    df['browser_enc'] = df['browser_enc'].mask(df['browser'].str.contains('opera'),'opera')\n",
    "    df['browser_enc'] = df['browser_enc'].mask(df['browser'].str.contains('google'),'chrome')\n",
    "    df['browser_enc'] = df['browser_enc'].mask(df['browser'].str.contains('samsung'),'android')\n",
    "    df['DeviceType'] = df['DeviceType'].mask(df['browser']== 'ie 11.0 for tablet','tablet')\n",
    "    df = df.drop(columns='browser')\n",
    "    df['device_info'] = df['DeviceInfo'].replace(\"-\",\"_\",regex=True)\n",
    "    df['device_info2'] = df['device_info'].replace(\" \",\"_\",regex=True)\n",
    "    df['device_info'] = df['DeviceInfo'].replace(\"-\",\"_\",regex=True)\n",
    "    df['device_info2'] = df['device_info'].replace(\" \",\"_\",regex=True)\n",
    "    df['device_info3'] = df['device_info2'].str.split(\"_\").str[0]\n",
    "    df['device_info3'] = df['device_info3'].str.lower()\n",
    "    df['device_info_v4'] = 'other'\n",
    "    df['device_info_v4'] = df['device_info_v4'].mask(((df['device_info3']=='windows') | (df['device_info3']=='microsoft') | (df['device_info3']=='trident/7.0')),'windows')\n",
    "    df['device_info_v4'] = df['device_info_v4'].mask(((df['device_info3']=='ios') | (df['device_info3']=='iphone')),'ios')\n",
    "    df['device_info_v4'] = df['device_info_v4'].mask(df['device_info3']=='macos','ios')\n",
    "    df['device_info_v4'] = df['device_info_v4'].mask(df['device_info3']=='blade','blade')\n",
    "    df['device_info_v4'] = df['device_info_v4'].mask(df['device_info3']=='lenovo','lenovo')\n",
    "    df['device_info_v4'] = df['device_info_v4'].mask(df['device_info3']=='redmi','redmi')\n",
    "    df['device_info_v4'] = df['device_info_v4'].mask(df['device_info3']=='pixel','pixel')\n",
    "    df['device_info_v4'] = df['device_info_v4'].mask(df['device_info3']=='android','android')\n",
    "    df['device_info_v4'] = df['device_info_v4'].mask(df['device_info3']=='macos','ios')\n",
    "    df['device_info_v4'] = df['device_info_v4'].mask(df['device_info3']=='alcatel','alcatel')\n",
    "    df['device_info_v4'] = df['device_info_v4'].mask(df['device_info3']=='nokia','nokia')\n",
    "    df['device_info_v4'] = df['device_info_v4'].mask(df['device_info3']=='asus','asus')\n",
    "    df['device_info_v4'] = df['device_info_v4'].mask(df['device_info3']=='oneplus','oneplus')\n",
    "    df['device_info_v4'] = df['device_info_v4'].mask(df['device_info3']=='zte','zte')\n",
    "    df['device_info_v4'] = df['device_info_v4'].mask(df['device_info3']=='macos','ios')\n",
    "    df['device_info_v4'] = df['device_info_v4'].mask(df['device_info3']=='hisense','hisense')\n",
    "    df['device_info_v4'] = df['device_info_v4'].mask(df['device_info3']=='linux','linux')\n",
    "    df['device_info_v4'] = df['device_info_v4'].mask((df['device_info3'].str.contains(\"lg\") | (df['device_info3'].str.contains(\"nexus\"))),'lg')\n",
    "    df['device_info_v4'] = df['device_info_v4'].mask(((df['device_info3'].str.contains(\"huawei\")) | (df['device_info3'].str.contains(\"hi6210sft\"))),'huawei')\n",
    "    df['device_info_v4'] = df['device_info_v4'].mask(((df['device_info3']=='motog3') |(df['device_info3']=='moto')),'moto')\n",
    "    df['device_info_v4'] = df['device_info_v4'].mask(((df['device_info3']=='sm') |(df['device_info3']=='samsung')),'samsung')\n",
    "    df = df.drop(columns=['device_info','device_info2','device_info3','DeviceInfo'])\n",
    "    return df"
   ]
  },
  {
   "cell_type": "code",
   "execution_count": 4,
   "id": "d306e668-eeb8-412d-90e6-b8e98db61d8e",
   "metadata": {},
   "outputs": [],
   "source": [
    "def building_relation_dict(rels):\n",
    "    \"\"\"\n",
    "    \n",
    "    \"\"\"\n",
    "    dt = dict()\n",
    "    for i in range(len(rels)):\n",
    "        dt[i] = dict()\n",
    "        dt[i]['source'] = rels[i][0]\n",
    "        dt[i]['target'] = rels[i][1]\n",
    "        dt[i]['rel'] = rels[i][2]\n",
    "    return dt"
   ]
  },
  {
   "cell_type": "code",
   "execution_count": 5,
   "id": "5d74e795-a0f7-4452-9033-2513fa329ac7",
   "metadata": {},
   "outputs": [],
   "source": [
    "def building_adj_list(dt,df):\n",
    "    \"\"\"\n",
    "    \n",
    "    \"\"\"\n",
    "    db = []\n",
    "    for i in df.index:\n",
    "        # select one row \n",
    "        row = df.loc[df.index==i]\n",
    "        # create empty dataframe to be filled with info taken from the row selected\n",
    "        gp = pd.DataFrame(columns=['source','target','rel'])\n",
    "        # for loop for taking index and name of the dict of the relationship\n",
    "        for y in dt.keys():\n",
    "            for z in dt[y].keys():\n",
    "                # for the rel value, we need to extract the relatioship value from the dict not from the row of the dataframe! \n",
    "                if z == 'rel':\n",
    "                    gp.at[y,z] = dt[y][z]\n",
    "                else:\n",
    "                    gp.at[y,z] = row[dt[y][z]][i]\n",
    "        db.append(gp)\n",
    "    final = pd.concat(db)\n",
    "    final = final.reset_index().drop(columns='index')\n",
    "    final = final.drop_duplicates()\n",
    "    return final"
   ]
  },
  {
   "cell_type": "code",
   "execution_count": 6,
   "id": "0f59d346-411b-45da-9725-8fb4e52b2fbc",
   "metadata": {},
   "outputs": [],
   "source": [
    "def building_network(final,final2,df,num):\n",
    "    \"\"\"\n",
    "    \n",
    "    \"\"\"\n",
    "    net = Network(directed=True,height='900px', width='100%',notebook=False,cdn_resources='in_line',select_menu=True, filter_menu=True)\n",
    "    nodes = list(pd.unique(final[['source','target']].values.ravel('K')))\n",
    "    nodes2 = list(pd.unique(final2[['source','target']].values.ravel('K')))\n",
    "    tra = list(df['TransactionID'].unique())\n",
    "    pdr = list(df['ProductCD'].unique())\n",
    "    # add nodes\n",
    "    for e in nodes:\n",
    "        if e in pdr:\n",
    "            net.add_node(e,color='blue')\n",
    "        elif e in tra:\n",
    "            val = df[df['TransactionID']==e]['TransactionAmt'].values[0]\n",
    "            if e in nodes2:\n",
    "                net.add_node(e,color='red',value=val)\n",
    "            else:\n",
    "                net.add_node(e,color='green',value=val)\n",
    "        elif e in nodes2:\n",
    "            net.add_node(e,color='red')\n",
    "            \n",
    "        else:\n",
    "            net.add_node(e,color='green')\n",
    "    # add edges\n",
    "    for i in final.index:\n",
    "        row = final.loc[final.index==i]\n",
    "        net.add_edge(row['source'].item(),row['target'].item(),title=row['rel'].item(),label=row['rel'].item())\n",
    "#     net.show_buttons(filter_=['physics'])\n",
    "    net.set_options(\"\"\"const options = {\n",
    "  \"physics\": {\n",
    "    \"repulsion\": {\n",
    "      \"springLength\": 400,\n",
    "      \"springConstant\": 0.1,\n",
    "      \"nodeDistance\": 400\n",
    "    },\n",
    "    \"minVelocity\": 0.75,\n",
    "    \"solver\": \"repulsion\"\n",
    "  }\n",
    "}\"\"\")\n",
    "    return net.show(\"kg_v29_{}.html\".format(num))"
   ]
  },
  {
   "cell_type": "markdown",
   "id": "933683f3-12c6-4565-9908-1cafdfabc1fc",
   "metadata": {},
   "source": [
    "# 1.0 Data retrieval"
   ]
  },
  {
   "cell_type": "code",
   "execution_count": 7,
   "id": "1bf7e7fb-f49c-4cf1-a315-5b137303714e",
   "metadata": {},
   "outputs": [],
   "source": [
    "df = pd.read_pickle(\"../../../data_lake/output_prod/df_under.pkl\")"
   ]
  },
  {
   "cell_type": "markdown",
   "id": "b76eca6b-a9bf-4014-8483-c4832feb0f7a",
   "metadata": {},
   "source": [
    "# 2.0 Data preparation"
   ]
  },
  {
   "cell_type": "code",
   "execution_count": 8,
   "id": "cee3f44a-f8a8-46ea-ab89-74975307e23d",
   "metadata": {},
   "outputs": [],
   "source": [
    "df = features_eng(df,'network')"
   ]
  },
  {
   "cell_type": "code",
   "execution_count": 9,
   "id": "4cf2f628-89d0-4aed-9fed-dcb750330e95",
   "metadata": {},
   "outputs": [],
   "source": [
    "df = df[['customer_id','TransactionID','TransactionAmt','DeviceType','device_info_v4','browser_enc','ProductCD','isFraud']]"
   ]
  },
  {
   "cell_type": "code",
   "execution_count": 10,
   "id": "6ee71582-6baa-40d2-a2eb-c0658f53a2ea",
   "metadata": {},
   "outputs": [],
   "source": [
    "df = df.dropna(axis=0)"
   ]
  },
  {
   "cell_type": "code",
   "execution_count": 11,
   "id": "411d6f3a-cddd-493b-8ce6-b55559ee97dd",
   "metadata": {},
   "outputs": [],
   "source": [
    "df = df.sample(frac=0.0005,random_state=4)"
   ]
  },
  {
   "cell_type": "code",
   "execution_count": 12,
   "id": "b2830502-2718-4526-89f5-6b22e40eafcf",
   "metadata": {},
   "outputs": [
    {
     "data": {
      "text/plain": [
       "0    63\n",
       "1     7\n",
       "Name: isFraud, dtype: int64"
      ]
     },
     "execution_count": 12,
     "metadata": {},
     "output_type": "execute_result"
    }
   ],
   "source": [
    "df['isFraud'].value_counts()"
   ]
  },
  {
   "cell_type": "code",
   "execution_count": 13,
   "id": "a4da1884-0c2e-4d88-91fc-0ec1dcdb857a",
   "metadata": {},
   "outputs": [],
   "source": [
    "for i in df:\n",
    "    if i != 'TransactionAmt':\n",
    "        df[i] = df[i].astype(str)"
   ]
  },
  {
   "cell_type": "markdown",
   "id": "b005ee0d-400f-4a25-8f84-a7fffc2c17f3",
   "metadata": {},
   "source": [
    "# 3.0 Modeling"
   ]
  },
  {
   "cell_type": "code",
   "execution_count": 14,
   "id": "8f7e338f-bc1a-4c0e-b4f4-a22b9fa3d7b2",
   "metadata": {},
   "outputs": [],
   "source": [
    "rel1 = ['customer_id','TransactionID','has done']\n",
    "rel2 = ['TransactionID','ProductCD','buying']\n",
    "rel3 = ['ProductCD','DeviceType','by']\n",
    "rel4 = ['TransactionID','DeviceType','with']\n",
    "rel5 = ['TransactionID','browser_enc','on']"
   ]
  },
  {
   "cell_type": "code",
   "execution_count": 15,
   "id": "614ba5cb-6f96-47b6-9a64-406679053fd1",
   "metadata": {},
   "outputs": [],
   "source": [
    "rels = [rel1,rel2,rel3,rel4,rel5]"
   ]
  },
  {
   "cell_type": "code",
   "execution_count": 16,
   "id": "f5d3c2e1-8af4-4363-8696-c6d7b0b7fca1",
   "metadata": {},
   "outputs": [],
   "source": [
    "dt = building_relation_dict(rels)"
   ]
  },
  {
   "cell_type": "code",
   "execution_count": 17,
   "id": "a1edf202-20e3-4292-b25f-5b85306177a5",
   "metadata": {},
   "outputs": [],
   "source": [
    "final = building_adj_list(dt,df)"
   ]
  },
  {
   "cell_type": "markdown",
   "id": "01c04f9e-5406-425e-b0a7-090ac0f45879",
   "metadata": {},
   "source": [
    "Extraction of the fraud only "
   ]
  },
  {
   "cell_type": "code",
   "execution_count": 18,
   "id": "b93fc94c-2834-40a0-9d51-2e6812add5d7",
   "metadata": {},
   "outputs": [],
   "source": [
    "df2 = df[df['isFraud']=='1']"
   ]
  },
  {
   "cell_type": "code",
   "execution_count": 19,
   "id": "139623ea-a10f-4125-92a7-37b4c46a7b4a",
   "metadata": {},
   "outputs": [],
   "source": [
    "rel1 = ['customer_id','TransactionID','has done']\n",
    "rels = [rel1]"
   ]
  },
  {
   "cell_type": "code",
   "execution_count": 20,
   "id": "98751b91-48e7-48fb-8257-6191fbb4b6f8",
   "metadata": {},
   "outputs": [],
   "source": [
    "dt2 = building_relation_dict(rels)"
   ]
  },
  {
   "cell_type": "code",
   "execution_count": 21,
   "id": "04823bb7-0b49-49f4-9c02-f5172ed1a03e",
   "metadata": {},
   "outputs": [],
   "source": [
    "final2 = building_adj_list(dt2,df2)"
   ]
  },
  {
   "cell_type": "code",
   "execution_count": 22,
   "id": "377a5992-b0ed-4131-ae0b-940b28f8a5e2",
   "metadata": {},
   "outputs": [
    {
     "ename": "PermissionError",
     "evalue": "[Errno 1] Operation not permitted: 'bindings'",
     "output_type": "error",
     "traceback": [
      "\u001b[0;31m\u001b[0m",
      "\u001b[0;31mPermissionError\u001b[0mTraceback (most recent call last)",
      "Cell \u001b[0;32mIn[22], line 1\u001b[0m\n\u001b[0;32m----> 1\u001b[0m \u001b[43mbuilding_network\u001b[49m\u001b[43m(\u001b[49m\u001b[43mfinal\u001b[49m\u001b[43m,\u001b[49m\u001b[43mfinal2\u001b[49m\u001b[43m,\u001b[49m\u001b[43mdf\u001b[49m\u001b[43m,\u001b[49m\u001b[38;5;241;43m10\u001b[39;49m\u001b[43m)\u001b[49m\n",
      "Cell \u001b[0;32mIn[6], line 41\u001b[0m, in \u001b[0;36mbuilding_network\u001b[0;34m(final, final2, df, num)\u001b[0m\n\u001b[1;32m     29\u001b[0m \u001b[38;5;66;03m#     net.show_buttons(filter_=['physics'])\u001b[39;00m\n\u001b[1;32m     30\u001b[0m     net\u001b[38;5;241m.\u001b[39mset_options(\u001b[38;5;124m\"\"\"\u001b[39m\u001b[38;5;124mconst options = \u001b[39m\u001b[38;5;124m{\u001b[39m\n\u001b[1;32m     31\u001b[0m \u001b[38;5;124m  \u001b[39m\u001b[38;5;124m\"\u001b[39m\u001b[38;5;124mphysics\u001b[39m\u001b[38;5;124m\"\u001b[39m\u001b[38;5;124m: \u001b[39m\u001b[38;5;124m{\u001b[39m\n\u001b[1;32m     32\u001b[0m \u001b[38;5;124m    \u001b[39m\u001b[38;5;124m\"\u001b[39m\u001b[38;5;124mrepulsion\u001b[39m\u001b[38;5;124m\"\u001b[39m\u001b[38;5;124m: \u001b[39m\u001b[38;5;124m{\u001b[39m\n\u001b[0;32m   (...)\u001b[0m\n\u001b[1;32m     39\u001b[0m \u001b[38;5;124m  }\u001b[39m\n\u001b[1;32m     40\u001b[0m \u001b[38;5;124m}\u001b[39m\u001b[38;5;124m\"\"\"\u001b[39m)\n\u001b[0;32m---> 41\u001b[0m     \u001b[38;5;28;01mreturn\u001b[39;00m \u001b[43mnet\u001b[49m\u001b[38;5;241;43m.\u001b[39;49m\u001b[43mshow\u001b[49m\u001b[43m(\u001b[49m\u001b[38;5;124;43m\"\u001b[39;49m\u001b[38;5;124;43mkg_v29_\u001b[39;49m\u001b[38;5;132;43;01m{}\u001b[39;49;00m\u001b[38;5;124;43m.html\u001b[39;49m\u001b[38;5;124;43m\"\u001b[39;49m\u001b[38;5;241;43m.\u001b[39;49m\u001b[43mformat\u001b[49m\u001b[43m(\u001b[49m\u001b[43mnum\u001b[49m\u001b[43m)\u001b[49m\u001b[43m)\u001b[49m\n",
      "File \u001b[0;32m/opt/conda/lib/python3.9/site-packages/pyvis/network.py:551\u001b[0m, in \u001b[0;36mNetwork.show\u001b[0;34m(self, name, local)\u001b[0m\n\u001b[1;32m    549\u001b[0m     \u001b[38;5;28;01mreturn\u001b[39;00m \u001b[38;5;28mself\u001b[39m\u001b[38;5;241m.\u001b[39mwrite_html(name, local, notebook\u001b[38;5;241m=\u001b[39m\u001b[38;5;28;01mTrue\u001b[39;00m)\n\u001b[1;32m    550\u001b[0m \u001b[38;5;28;01melse\u001b[39;00m:\n\u001b[0;32m--> 551\u001b[0m     \u001b[38;5;28;43mself\u001b[39;49m\u001b[38;5;241;43m.\u001b[39;49m\u001b[43mwrite_html\u001b[49m\u001b[43m(\u001b[49m\u001b[43mname\u001b[49m\u001b[43m,\u001b[49m\u001b[43m \u001b[49m\u001b[43mlocal\u001b[49m\u001b[43m)\u001b[49m\n",
      "File \u001b[0;32m/opt/conda/lib/python3.9/site-packages/pyvis/network.py:533\u001b[0m, in \u001b[0;36mNetwork.write_html\u001b[0;34m(self, name, local, notebook)\u001b[0m\n\u001b[1;32m    531\u001b[0m \u001b[38;5;66;03m# with tempfile.mkdtemp() as tempdir:\u001b[39;00m\n\u001b[1;32m    532\u001b[0m \u001b[38;5;28;01mif\u001b[39;00m os\u001b[38;5;241m.\u001b[39mpath\u001b[38;5;241m.\u001b[39mexists(\u001b[38;5;124mf\u001b[39m\u001b[38;5;124m\"\u001b[39m\u001b[38;5;132;01m{\u001b[39;00mtempdir\u001b[38;5;132;01m}\u001b[39;00m\u001b[38;5;124m/lib\u001b[39m\u001b[38;5;124m\"\u001b[39m):\n\u001b[0;32m--> 533\u001b[0m     \u001b[43mshutil\u001b[49m\u001b[38;5;241;43m.\u001b[39;49m\u001b[43mrmtree\u001b[49m\u001b[43m(\u001b[49m\u001b[38;5;124;43mf\u001b[39;49m\u001b[38;5;124;43m\"\u001b[39;49m\u001b[38;5;132;43;01m{\u001b[39;49;00m\u001b[43mtempdir\u001b[49m\u001b[38;5;132;43;01m}\u001b[39;49;00m\u001b[38;5;124;43m/lib\u001b[39;49m\u001b[38;5;124;43m\"\u001b[39;49m\u001b[43m)\u001b[49m\n\u001b[1;32m    534\u001b[0m shutil\u001b[38;5;241m.\u001b[39mcopytree(\u001b[38;5;124mf\u001b[39m\u001b[38;5;124m\"\u001b[39m\u001b[38;5;132;01m{\u001b[39;00mos\u001b[38;5;241m.\u001b[39mpath\u001b[38;5;241m.\u001b[39mdirname(\u001b[38;5;18m__file__\u001b[39m)\u001b[38;5;132;01m}\u001b[39;00m\u001b[38;5;124m/templates/lib\u001b[39m\u001b[38;5;124m\"\u001b[39m, \u001b[38;5;124mf\u001b[39m\u001b[38;5;124m\"\u001b[39m\u001b[38;5;132;01m{\u001b[39;00mtempdir\u001b[38;5;132;01m}\u001b[39;00m\u001b[38;5;124m/lib\u001b[39m\u001b[38;5;124m\"\u001b[39m)\n\u001b[1;32m    536\u001b[0m \u001b[38;5;28;01mwith\u001b[39;00m \u001b[38;5;28mopen\u001b[39m(\u001b[38;5;124mf\u001b[39m\u001b[38;5;124m\"\u001b[39m\u001b[38;5;132;01m{\u001b[39;00mtempdir\u001b[38;5;132;01m}\u001b[39;00m\u001b[38;5;124m/\u001b[39m\u001b[38;5;132;01m{\u001b[39;00mname\u001b[38;5;132;01m}\u001b[39;00m\u001b[38;5;124m\"\u001b[39m, \u001b[38;5;124m\"\u001b[39m\u001b[38;5;124mw+\u001b[39m\u001b[38;5;124m\"\u001b[39m) \u001b[38;5;28;01mas\u001b[39;00m out:\n",
      "File \u001b[0;32m/opt/conda/lib/python3.9/shutil.py:718\u001b[0m, in \u001b[0;36mrmtree\u001b[0;34m(path, ignore_errors, onerror)\u001b[0m\n\u001b[1;32m    716\u001b[0m \u001b[38;5;28;01mtry\u001b[39;00m:\n\u001b[1;32m    717\u001b[0m     \u001b[38;5;28;01mif\u001b[39;00m os\u001b[38;5;241m.\u001b[39mpath\u001b[38;5;241m.\u001b[39msamestat(orig_st, os\u001b[38;5;241m.\u001b[39mfstat(fd)):\n\u001b[0;32m--> 718\u001b[0m         \u001b[43m_rmtree_safe_fd\u001b[49m\u001b[43m(\u001b[49m\u001b[43mfd\u001b[49m\u001b[43m,\u001b[49m\u001b[43m \u001b[49m\u001b[43mpath\u001b[49m\u001b[43m,\u001b[49m\u001b[43m \u001b[49m\u001b[43monerror\u001b[49m\u001b[43m)\u001b[49m\n\u001b[1;32m    719\u001b[0m         \u001b[38;5;28;01mtry\u001b[39;00m:\n\u001b[1;32m    720\u001b[0m             os\u001b[38;5;241m.\u001b[39mrmdir(path)\n",
      "File \u001b[0;32m/opt/conda/lib/python3.9/shutil.py:659\u001b[0m, in \u001b[0;36m_rmtree_safe_fd\u001b[0;34m(topfd, path, onerror)\u001b[0m\n\u001b[1;32m    657\u001b[0m         os\u001b[38;5;241m.\u001b[39mrmdir(entry\u001b[38;5;241m.\u001b[39mname, dir_fd\u001b[38;5;241m=\u001b[39mtopfd)\n\u001b[1;32m    658\u001b[0m     \u001b[38;5;28;01mexcept\u001b[39;00m \u001b[38;5;167;01mOSError\u001b[39;00m:\n\u001b[0;32m--> 659\u001b[0m         \u001b[43monerror\u001b[49m\u001b[43m(\u001b[49m\u001b[43mos\u001b[49m\u001b[38;5;241;43m.\u001b[39;49m\u001b[43mrmdir\u001b[49m\u001b[43m,\u001b[49m\u001b[43m \u001b[49m\u001b[43mfullname\u001b[49m\u001b[43m,\u001b[49m\u001b[43m \u001b[49m\u001b[43msys\u001b[49m\u001b[38;5;241;43m.\u001b[39;49m\u001b[43mexc_info\u001b[49m\u001b[43m(\u001b[49m\u001b[43m)\u001b[49m\u001b[43m)\u001b[49m\n\u001b[1;32m    660\u001b[0m \u001b[38;5;28;01melse\u001b[39;00m:\n\u001b[1;32m    661\u001b[0m     \u001b[38;5;28;01mtry\u001b[39;00m:\n\u001b[1;32m    662\u001b[0m         \u001b[38;5;66;03m# This can only happen if someone replaces\u001b[39;00m\n\u001b[1;32m    663\u001b[0m         \u001b[38;5;66;03m# a directory with a symlink after the call to\u001b[39;00m\n\u001b[1;32m    664\u001b[0m         \u001b[38;5;66;03m# os.scandir or stat.S_ISDIR above.\u001b[39;00m\n",
      "File \u001b[0;32m/opt/conda/lib/python3.9/shutil.py:657\u001b[0m, in \u001b[0;36m_rmtree_safe_fd\u001b[0;34m(topfd, path, onerror)\u001b[0m\n\u001b[1;32m    655\u001b[0m _rmtree_safe_fd(dirfd, fullname, onerror)\n\u001b[1;32m    656\u001b[0m \u001b[38;5;28;01mtry\u001b[39;00m:\n\u001b[0;32m--> 657\u001b[0m     \u001b[43mos\u001b[49m\u001b[38;5;241;43m.\u001b[39;49m\u001b[43mrmdir\u001b[49m\u001b[43m(\u001b[49m\u001b[43mentry\u001b[49m\u001b[38;5;241;43m.\u001b[39;49m\u001b[43mname\u001b[49m\u001b[43m,\u001b[49m\u001b[43m \u001b[49m\u001b[43mdir_fd\u001b[49m\u001b[38;5;241;43m=\u001b[39;49m\u001b[43mtopfd\u001b[49m\u001b[43m)\u001b[49m\n\u001b[1;32m    658\u001b[0m \u001b[38;5;28;01mexcept\u001b[39;00m \u001b[38;5;167;01mOSError\u001b[39;00m:\n\u001b[1;32m    659\u001b[0m     onerror(os\u001b[38;5;241m.\u001b[39mrmdir, fullname, sys\u001b[38;5;241m.\u001b[39mexc_info())\n",
      "\u001b[0;31mPermissionError\u001b[0m: [Errno 1] Operation not permitted: 'bindings'"
     ]
    }
   ],
   "source": [
    "building_network(final,final2,df,10)"
   ]
  },
  {
   "cell_type": "markdown",
   "id": "754b0799-fdc3-4887-9e2b-2ee967eb4dfa",
   "metadata": {},
   "source": [
    "For Networkx:"
   ]
  },
  {
   "cell_type": "code",
   "execution_count": 23,
   "id": "444b85d0-fc85-490d-9fd4-3e2cef5c4792",
   "metadata": {},
   "outputs": [],
   "source": [
    "g = nx.from_pandas_edgelist(final,'source','target',edge_attr=True,edge_key='rel',create_using=nx.DiGraph())"
   ]
  },
  {
   "cell_type": "code",
   "execution_count": 25,
   "id": "fee4174d-deaf-49fc-8b65-5df32ebfe088",
   "metadata": {},
   "outputs": [
    {
     "name": "stdout",
     "output_type": "stream",
     "text": [
      "Name: \n",
      "Type: DiGraph\n",
      "Number of nodes: 148\n",
      "Number of edges: 288\n",
      "Average in degree:   1.9459\n",
      "Average out degree:   1.9459\n"
     ]
    }
   ],
   "source": [
    "print(nx.info(g))"
   ]
  },
  {
   "cell_type": "markdown",
   "id": "e2b81a6a-8d38-4a66-810f-cd2896d58b16",
   "metadata": {},
   "source": [
    "and so on..."
   ]
  },
  {
   "cell_type": "code",
   "execution_count": null,
   "id": "95fbc486-41c8-415d-ac26-7c080bacc2f6",
   "metadata": {},
   "outputs": [],
   "source": []
  }
 ],
 "metadata": {
  "kernelspec": {
   "display_name": "Python 3",
   "language": "python",
   "name": "python3"
  },
  "language_info": {
   "codemirror_mode": {
    "name": "ipython",
    "version": 3
   },
   "file_extension": ".py",
   "mimetype": "text/x-python",
   "name": "python",
   "nbconvert_exporter": "python",
   "pygments_lexer": "ipython3",
   "version": "3.9.2"
  }
 },
 "nbformat": 4,
 "nbformat_minor": 5
}
