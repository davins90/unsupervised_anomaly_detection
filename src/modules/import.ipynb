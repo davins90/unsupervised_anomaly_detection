{
 "cells": [
  {
   "cell_type": "code",
   "execution_count": 1,
   "id": "185c0236-6d1a-47b9-ae69-b703c94e0828",
   "metadata": {},
   "outputs": [
    {
     "name": "stdout",
     "output_type": "stream",
     "text": [
      "Defaulting to user installation because normal site-packages is not writeable\n",
      "Collecting gdown\n",
      "  Downloading gdown-4.6.0-py3-none-any.whl (14 kB)\n",
      "Requirement already satisfied: requests[socks] in /anaconda/lib/python3.9/site-packages (from gdown) (2.26.0)\n",
      "Requirement already satisfied: beautifulsoup4 in /anaconda/lib/python3.9/site-packages (from gdown) (4.10.0)\n",
      "Requirement already satisfied: tqdm in /anaconda/lib/python3.9/site-packages (from gdown) (4.62.3)\n",
      "Requirement already satisfied: six in /anaconda/lib/python3.9/site-packages (from gdown) (1.16.0)\n",
      "Requirement already satisfied: filelock in /anaconda/lib/python3.9/site-packages (from gdown) (3.3.1)\n",
      "Requirement already satisfied: soupsieve>1.2 in /anaconda/lib/python3.9/site-packages (from beautifulsoup4->gdown) (2.2.1)\n",
      "Requirement already satisfied: charset-normalizer~=2.0.0 in /anaconda/lib/python3.9/site-packages (from requests[socks]->gdown) (2.0.4)\n",
      "Requirement already satisfied: certifi>=2017.4.17 in /anaconda/lib/python3.9/site-packages (from requests[socks]->gdown) (2021.10.8)\n",
      "Requirement already satisfied: urllib3<1.27,>=1.21.1 in /anaconda/lib/python3.9/site-packages (from requests[socks]->gdown) (1.26.7)\n",
      "Requirement already satisfied: idna<4,>=2.5 in /anaconda/lib/python3.9/site-packages (from requests[socks]->gdown) (3.2)\n",
      "Requirement already satisfied: PySocks!=1.5.7,>=1.5.6 in /anaconda/lib/python3.9/site-packages (from requests[socks]->gdown) (1.7.1)\n",
      "Installing collected packages: gdown\n",
      "\u001b[33m  WARNING: The script gdown is installed in '/home/feynman/.local/bin' which is not on PATH.\n",
      "  Consider adding this directory to PATH or, if you prefer to suppress this warning, use --no-warn-script-location.\u001b[0m\n",
      "Successfully installed gdown-4.6.0\n",
      "Note: you may need to restart the kernel to use updated packages.\n"
     ]
    }
   ],
   "source": [
    "pip install gdown"
   ]
  },
  {
   "cell_type": "code",
   "execution_count": 2,
   "id": "8c6ae7f4-3c42-457a-aef9-416234370c1d",
   "metadata": {},
   "outputs": [
    {
     "name": "stdout",
     "output_type": "stream",
     "text": [
      "Defaulting to user installation because normal site-packages is not writeable\n",
      "Collecting plotly\n",
      "  Downloading plotly-5.11.0-py2.py3-none-any.whl (15.3 MB)\n",
      "\u001b[K     |████████████████████████████████| 15.3 MB 23.6 MB/s eta 0:00:01    |████████████████▎               | 7.8 MB 23.6 MB/s eta 0:00:01     |█████████████████████████████▊  | 14.2 MB 23.6 MB/s eta 0:00:01\n",
      "\u001b[?25hCollecting tenacity>=6.2.0\n",
      "  Downloading tenacity-8.1.0-py3-none-any.whl (23 kB)\n",
      "Installing collected packages: tenacity, plotly\n",
      "Successfully installed plotly-5.11.0 tenacity-8.1.0\n",
      "Note: you may need to restart the kernel to use updated packages.\n"
     ]
    }
   ],
   "source": [
    "pip install plotly"
   ]
  },
  {
   "cell_type": "code",
   "execution_count": null,
   "id": "e40c0f34-c311-40ab-83ee-1124b0b98cd7",
   "metadata": {},
   "outputs": [],
   "source": []
  }
 ],
 "metadata": {
  "kernelspec": {
   "display_name": "dev",
   "language": "python",
   "name": "python3"
  },
  "language_info": {
   "codemirror_mode": {
    "name": "ipython",
    "version": 3
   },
   "file_extension": ".py",
   "mimetype": "text/x-python",
   "name": "python",
   "nbconvert_exporter": "python",
   "pygments_lexer": "ipython3",
   "version": "3.9.7"
  }
 },
 "nbformat": 4,
 "nbformat_minor": 5
}
