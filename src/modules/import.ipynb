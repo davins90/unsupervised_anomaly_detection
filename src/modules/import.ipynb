{
 "cells": [
  {
   "cell_type": "code",
   "execution_count": 1,
   "id": "185c0236-6d1a-47b9-ae69-b703c94e0828",
   "metadata": {},
   "outputs": [
    {
     "name": "stdout",
     "output_type": "stream",
     "text": [
      "Defaulting to user installation because normal site-packages is not writeable\n",
      "Collecting gdown\n",
      "  Downloading gdown-4.6.0-py3-none-any.whl (14 kB)\n",
      "Requirement already satisfied: tqdm in /anaconda/lib/python3.9/site-packages (from gdown) (4.62.3)\n",
      "Requirement already satisfied: filelock in /anaconda/lib/python3.9/site-packages (from gdown) (3.3.1)\n",
      "Requirement already satisfied: six in /anaconda/lib/python3.9/site-packages (from gdown) (1.16.0)\n",
      "Requirement already satisfied: beautifulsoup4 in /anaconda/lib/python3.9/site-packages (from gdown) (4.10.0)\n",
      "Requirement already satisfied: requests[socks] in /anaconda/lib/python3.9/site-packages (from gdown) (2.26.0)\n",
      "Requirement already satisfied: soupsieve>1.2 in /anaconda/lib/python3.9/site-packages (from beautifulsoup4->gdown) (2.2.1)\n",
      "Requirement already satisfied: charset-normalizer~=2.0.0 in /anaconda/lib/python3.9/site-packages (from requests[socks]->gdown) (2.0.4)\n",
      "Requirement already satisfied: urllib3<1.27,>=1.21.1 in /anaconda/lib/python3.9/site-packages (from requests[socks]->gdown) (1.26.7)\n",
      "Requirement already satisfied: certifi>=2017.4.17 in /anaconda/lib/python3.9/site-packages (from requests[socks]->gdown) (2021.10.8)\n",
      "Requirement already satisfied: idna<4,>=2.5 in /anaconda/lib/python3.9/site-packages (from requests[socks]->gdown) (3.2)\n",
      "Requirement already satisfied: PySocks!=1.5.7,>=1.5.6 in /anaconda/lib/python3.9/site-packages (from requests[socks]->gdown) (1.7.1)\n",
      "Installing collected packages: gdown\n",
      "\u001b[33m  WARNING: The script gdown is installed in '/home/feynman/.local/bin' which is not on PATH.\n",
      "  Consider adding this directory to PATH or, if you prefer to suppress this warning, use --no-warn-script-location.\u001b[0m\n",
      "Successfully installed gdown-4.6.0\n",
      "Note: you may need to restart the kernel to use updated packages.\n"
     ]
    }
   ],
   "source": [
    "pip install gdown"
   ]
  },
  {
   "cell_type": "code",
   "execution_count": 2,
   "id": "8c6ae7f4-3c42-457a-aef9-416234370c1d",
   "metadata": {},
   "outputs": [
    {
     "name": "stdout",
     "output_type": "stream",
     "text": [
      "Defaulting to user installation because normal site-packages is not writeable\n",
      "Collecting plotly\n",
      "  Downloading plotly-5.11.0-py2.py3-none-any.whl (15.3 MB)\n",
      "\u001b[K     |████████████████████████████████| 15.3 MB 9.3 MB/s eta 0:00:01    |████▉                           | 2.3 MB 3.2 MB/s eta 0:00:05     |████████████████████████████▎   | 13.5 MB 9.3 MB/s eta 0:00:01\n",
      "\u001b[?25hCollecting tenacity>=6.2.0\n",
      "  Downloading tenacity-8.1.0-py3-none-any.whl (23 kB)\n",
      "Installing collected packages: tenacity, plotly\n",
      "Successfully installed plotly-5.11.0 tenacity-8.1.0\n",
      "Note: you may need to restart the kernel to use updated packages.\n"
     ]
    }
   ],
   "source": [
    "pip install plotly"
   ]
  },
  {
   "cell_type": "code",
   "execution_count": 3,
   "id": "e40c0f34-c311-40ab-83ee-1124b0b98cd7",
   "metadata": {},
   "outputs": [
    {
     "name": "stdout",
     "output_type": "stream",
     "text": [
      "Defaulting to user installation because normal site-packages is not writeable\n",
      "Collecting catboost\n",
      "  Downloading catboost-1.1.1-cp39-none-manylinux1_x86_64.whl (76.6 MB)\n",
      "\u001b[K     |████████████████████████████████| 76.6 MB 9.6 MB/s eta 0:00:013    |█████▌                          | 13.1 MB 7.3 MB/s eta 0:00:09     |██████████▌                     | 25.1 MB 9.5 MB/s eta 0:00:06     |████████████▏                   | 29.1 MB 9.5 MB/s eta 0:00:06     |██████████████████▌             | 44.3 MB 10.2 MB/s eta 0:00:04     |██████████████████▊             | 44.8 MB 10.2 MB/s eta 0:00:04     |████████████████████████▍       | 58.3 MB 8.5 MB/s eta 0:00:03     |█████████████████████████████▎  | 70.1 MB 9.0 MB/s eta 0:00:01\n",
      "\u001b[?25hRequirement already satisfied: pandas>=0.24.0 in /anaconda/lib/python3.9/site-packages (from catboost) (1.3.4)\n",
      "Requirement already satisfied: matplotlib in /anaconda/lib/python3.9/site-packages (from catboost) (3.4.3)\n",
      "Collecting graphviz\n",
      "  Downloading graphviz-0.20.1-py3-none-any.whl (47 kB)\n",
      "\u001b[K     |████████████████████████████████| 47 kB 4.0 MB/s eta 0:00:011\n",
      "\u001b[?25hRequirement already satisfied: numpy>=1.16.0 in /anaconda/lib/python3.9/site-packages (from catboost) (1.20.3)\n",
      "Requirement already satisfied: six in /anaconda/lib/python3.9/site-packages (from catboost) (1.16.0)\n",
      "Requirement already satisfied: scipy in /anaconda/lib/python3.9/site-packages (from catboost) (1.7.1)\n",
      "Requirement already satisfied: plotly in /home/feynman/.local/lib/python3.9/site-packages (from catboost) (5.11.0)\n",
      "Requirement already satisfied: python-dateutil>=2.7.3 in /anaconda/lib/python3.9/site-packages (from pandas>=0.24.0->catboost) (2.8.2)\n",
      "Requirement already satisfied: pytz>=2017.3 in /anaconda/lib/python3.9/site-packages (from pandas>=0.24.0->catboost) (2021.3)\n",
      "Requirement already satisfied: kiwisolver>=1.0.1 in /anaconda/lib/python3.9/site-packages (from matplotlib->catboost) (1.3.1)\n",
      "Requirement already satisfied: pillow>=6.2.0 in /anaconda/lib/python3.9/site-packages (from matplotlib->catboost) (8.4.0)\n",
      "Requirement already satisfied: pyparsing>=2.2.1 in /anaconda/lib/python3.9/site-packages (from matplotlib->catboost) (3.0.4)\n",
      "Requirement already satisfied: cycler>=0.10 in /anaconda/lib/python3.9/site-packages (from matplotlib->catboost) (0.10.0)\n",
      "Requirement already satisfied: tenacity>=6.2.0 in /home/feynman/.local/lib/python3.9/site-packages (from plotly->catboost) (8.1.0)\n",
      "Installing collected packages: graphviz, catboost\n",
      "Successfully installed catboost-1.1.1 graphviz-0.20.1\n",
      "Note: you may need to restart the kernel to use updated packages.\n"
     ]
    }
   ],
   "source": [
    "pip install catboost"
   ]
  },
  {
   "cell_type": "code",
   "execution_count": 4,
   "id": "3e7c8854-ca32-45d9-8c68-7f01b7b7a566",
   "metadata": {},
   "outputs": [
    {
     "name": "stdout",
     "output_type": "stream",
     "text": [
      "Defaulting to user installation because normal site-packages is not writeable\n",
      "Collecting prince\n",
      "  Downloading prince-0.7.1-py3-none-any.whl (21 kB)\n",
      "Requirement already satisfied: pandas>=1.0.3 in /anaconda/lib/python3.9/site-packages (from prince) (1.3.4)\n",
      "Requirement already satisfied: scikit-learn>=0.22.1 in /anaconda/lib/python3.9/site-packages (from prince) (0.24.2)\n",
      "Requirement already satisfied: numpy>=1.17.1 in /anaconda/lib/python3.9/site-packages (from prince) (1.20.3)\n",
      "Requirement already satisfied: matplotlib>=3.0.2 in /anaconda/lib/python3.9/site-packages (from prince) (3.4.3)\n",
      "Requirement already satisfied: scipy>=1.3.0 in /anaconda/lib/python3.9/site-packages (from prince) (1.7.1)\n",
      "Requirement already satisfied: cycler>=0.10 in /anaconda/lib/python3.9/site-packages (from matplotlib>=3.0.2->prince) (0.10.0)\n",
      "Requirement already satisfied: python-dateutil>=2.7 in /anaconda/lib/python3.9/site-packages (from matplotlib>=3.0.2->prince) (2.8.2)\n",
      "Requirement already satisfied: kiwisolver>=1.0.1 in /anaconda/lib/python3.9/site-packages (from matplotlib>=3.0.2->prince) (1.3.1)\n",
      "Requirement already satisfied: pillow>=6.2.0 in /anaconda/lib/python3.9/site-packages (from matplotlib>=3.0.2->prince) (8.4.0)\n",
      "Requirement already satisfied: pyparsing>=2.2.1 in /anaconda/lib/python3.9/site-packages (from matplotlib>=3.0.2->prince) (3.0.4)\n",
      "Requirement already satisfied: six in /anaconda/lib/python3.9/site-packages (from cycler>=0.10->matplotlib>=3.0.2->prince) (1.16.0)\n",
      "Requirement already satisfied: pytz>=2017.3 in /anaconda/lib/python3.9/site-packages (from pandas>=1.0.3->prince) (2021.3)\n",
      "Requirement already satisfied: joblib>=0.11 in /anaconda/lib/python3.9/site-packages (from scikit-learn>=0.22.1->prince) (1.1.0)\n",
      "Requirement already satisfied: threadpoolctl>=2.0.0 in /anaconda/lib/python3.9/site-packages (from scikit-learn>=0.22.1->prince) (2.2.0)\n",
      "Installing collected packages: prince\n",
      "Successfully installed prince-0.7.1\n",
      "Note: you may need to restart the kernel to use updated packages.\n"
     ]
    }
   ],
   "source": [
    "pip install prince"
   ]
  },
  {
   "cell_type": "code",
   "execution_count": 5,
   "id": "584cef79-646e-4e2a-b227-a8b2a667f444",
   "metadata": {},
   "outputs": [],
   "source": [
    "# pip install mixed-naive-bayes"
   ]
  },
  {
   "cell_type": "code",
   "execution_count": 6,
   "id": "8e5b432d-4403-49f0-9659-62254c8e6645",
   "metadata": {},
   "outputs": [
    {
     "name": "stdout",
     "output_type": "stream",
     "text": [
      "Defaulting to user installation because normal site-packages is not writeable\n",
      "Collecting kmodes\n",
      "  Downloading kmodes-0.12.2-py2.py3-none-any.whl (20 kB)\n",
      "Requirement already satisfied: joblib>=0.11 in /anaconda/lib/python3.9/site-packages (from kmodes) (1.1.0)\n",
      "Requirement already satisfied: scikit-learn>=0.22.0 in /anaconda/lib/python3.9/site-packages (from kmodes) (0.24.2)\n",
      "Requirement already satisfied: numpy>=1.10.4 in /anaconda/lib/python3.9/site-packages (from kmodes) (1.20.3)\n",
      "Requirement already satisfied: scipy>=0.13.3 in /anaconda/lib/python3.9/site-packages (from kmodes) (1.7.1)\n",
      "Requirement already satisfied: threadpoolctl>=2.0.0 in /anaconda/lib/python3.9/site-packages (from scikit-learn>=0.22.0->kmodes) (2.2.0)\n",
      "Installing collected packages: kmodes\n",
      "Successfully installed kmodes-0.12.2\n",
      "Note: you may need to restart the kernel to use updated packages.\n"
     ]
    }
   ],
   "source": [
    "pip install kmodes"
   ]
  },
  {
   "cell_type": "code",
   "execution_count": 7,
   "id": "4a936411-59bf-4495-8a68-a69ecc9332ef",
   "metadata": {},
   "outputs": [
    {
     "name": "stdout",
     "output_type": "stream",
     "text": [
      "Defaulting to user installation because normal site-packages is not writeable\n",
      "Collecting gower\n",
      "  Downloading gower-0.1.2-py3-none-any.whl (5.2 kB)\n",
      "Requirement already satisfied: scipy in /anaconda/lib/python3.9/site-packages (from gower) (1.7.1)\n",
      "Requirement already satisfied: numpy in /anaconda/lib/python3.9/site-packages (from gower) (1.20.3)\n",
      "Installing collected packages: gower\n",
      "Successfully installed gower-0.1.2\n",
      "Note: you may need to restart the kernel to use updated packages.\n"
     ]
    }
   ],
   "source": [
    "pip install gower"
   ]
  },
  {
   "cell_type": "code",
   "execution_count": null,
   "id": "a066f914-bd55-4d5b-8b6e-09afaaff18a2",
   "metadata": {},
   "outputs": [],
   "source": []
  }
 ],
 "metadata": {
  "kernelspec": {
   "display_name": "dev",
   "language": "python",
   "name": "python3"
  },
  "language_info": {
   "codemirror_mode": {
    "name": "ipython",
    "version": 3
   },
   "file_extension": ".py",
   "mimetype": "text/x-python",
   "name": "python",
   "nbconvert_exporter": "python",
   "pygments_lexer": "ipython3",
   "version": "3.9.7"
  }
 },
 "nbformat": 4,
 "nbformat_minor": 5
}
