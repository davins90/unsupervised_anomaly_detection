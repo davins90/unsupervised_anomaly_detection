{
 "cells": [
  {
   "cell_type": "code",
   "execution_count": 8,
   "id": "30629f2a",
   "metadata": {},
   "outputs": [],
   "source": [
    "# pip install gdown"
   ]
  },
  {
   "cell_type": "code",
   "execution_count": 2,
   "id": "f05ec343",
   "metadata": {},
   "outputs": [
    {
     "name": "stdout",
     "output_type": "stream",
     "text": [
      "Defaulting to user installation because normal site-packages is not writeable\n",
      "Collecting plotly\n",
      "  Downloading plotly-5.11.0-py2.py3-none-any.whl (15.3 MB)\n",
      "\u001b[K     |████████████████████████████████| 15.3 MB 437 kB/s eta 0:00:01    |█████████████████▎              | 8.3 MB 4.3 MB/s eta 0:00:02     |███████████████████             | 9.1 MB 5.5 MB/s eta 0:00:02\n",
      "\u001b[?25hCollecting tenacity>=6.2.0\n",
      "  Downloading tenacity-8.1.0-py3-none-any.whl (23 kB)\n",
      "Installing collected packages: tenacity, plotly\n",
      "Successfully installed plotly-5.11.0 tenacity-8.1.0\n",
      "Note: you may need to restart the kernel to use updated packages.\n"
     ]
    }
   ],
   "source": [
    "pip install plotly"
   ]
  },
  {
   "cell_type": "code",
   "execution_count": 3,
   "id": "8188672b",
   "metadata": {},
   "outputs": [
    {
     "name": "stdout",
     "output_type": "stream",
     "text": [
      "Defaulting to user installation because normal site-packages is not writeable\n",
      "Collecting catboost\n",
      "  Downloading catboost-1.1.1-cp39-none-manylinux1_x86_64.whl (76.6 MB)\n",
      "\u001b[K     |████████████████████████████████| 76.6 MB 154 kB/s eta 0:00:014     |███████▎                        | 17.3 MB 8.8 MB/s eta 0:00:07     |██████████                      | 23.7 MB 8.8 MB/s eta 0:00:07     |███████████                     | 26.4 MB 9.1 MB/s eta 0:00:06     |███████████▏                    | 26.8 MB 9.1 MB/s eta 0:00:06     |████████████████████▌           | 49.0 MB 8.7 MB/s eta 0:00:04     |██████████████████████████      | 62.3 MB 2.9 MB/s eta 0:00:05     |██████████████████████████▏     | 62.8 MB 2.9 MB/s eta 0:00:05     |██████████████████████████▌     | 63.3 MB 4.0 MB/s eta 0:00:04     |██████████████████████████████▌ | 72.9 MB 5.4 MB/s eta 0:00:01\n",
      "\u001b[?25hRequirement already satisfied: matplotlib in /anaconda/lib/python3.9/site-packages (from catboost) (3.4.3)\n",
      "Requirement already satisfied: pandas>=0.24.0 in /anaconda/lib/python3.9/site-packages (from catboost) (1.3.4)\n",
      "Requirement already satisfied: plotly in /home/feynman/.local/lib/python3.9/site-packages (from catboost) (5.11.0)\n",
      "Requirement already satisfied: six in /anaconda/lib/python3.9/site-packages (from catboost) (1.16.0)\n",
      "Collecting graphviz\n",
      "  Downloading graphviz-0.20.1-py3-none-any.whl (47 kB)\n",
      "\u001b[K     |████████████████████████████████| 47 kB 3.9 MB/s eta 0:00:011\n",
      "\u001b[?25hRequirement already satisfied: numpy>=1.16.0 in /anaconda/lib/python3.9/site-packages (from catboost) (1.20.3)\n",
      "Requirement already satisfied: scipy in /anaconda/lib/python3.9/site-packages (from catboost) (1.7.1)\n",
      "Requirement already satisfied: python-dateutil>=2.7.3 in /anaconda/lib/python3.9/site-packages (from pandas>=0.24.0->catboost) (2.8.2)\n",
      "Requirement already satisfied: pytz>=2017.3 in /anaconda/lib/python3.9/site-packages (from pandas>=0.24.0->catboost) (2021.3)\n",
      "Requirement already satisfied: pyparsing>=2.2.1 in /anaconda/lib/python3.9/site-packages (from matplotlib->catboost) (3.0.4)\n",
      "Requirement already satisfied: kiwisolver>=1.0.1 in /anaconda/lib/python3.9/site-packages (from matplotlib->catboost) (1.3.1)\n",
      "Requirement already satisfied: cycler>=0.10 in /anaconda/lib/python3.9/site-packages (from matplotlib->catboost) (0.10.0)\n",
      "Requirement already satisfied: pillow>=6.2.0 in /anaconda/lib/python3.9/site-packages (from matplotlib->catboost) (8.4.0)\n",
      "Requirement already satisfied: tenacity>=6.2.0 in /home/feynman/.local/lib/python3.9/site-packages (from plotly->catboost) (8.1.0)\n",
      "Installing collected packages: graphviz, catboost\n",
      "Successfully installed catboost-1.1.1 graphviz-0.20.1\n",
      "Note: you may need to restart the kernel to use updated packages.\n"
     ]
    }
   ],
   "source": [
    "pip install catboost"
   ]
  },
  {
   "cell_type": "code",
   "execution_count": 4,
   "id": "8910c173",
   "metadata": {},
   "outputs": [
    {
     "name": "stdout",
     "output_type": "stream",
     "text": [
      "Defaulting to user installation because normal site-packages is not writeable\n",
      "\u001b[33mWARNING: Retrying (Retry(total=4, connect=None, read=None, redirect=None, status=None)) after connection broken by 'SSLError(SSLEOFError(8, 'EOF occurred in violation of protocol (_ssl.c:1129)'))': /simple/prince/\u001b[0m\n",
      "Collecting prince\n",
      "  Downloading prince-0.7.1-py3-none-any.whl (21 kB)\n",
      "Requirement already satisfied: matplotlib>=3.0.2 in /anaconda/lib/python3.9/site-packages (from prince) (3.4.3)\n",
      "Requirement already satisfied: numpy>=1.17.1 in /anaconda/lib/python3.9/site-packages (from prince) (1.20.3)\n",
      "Requirement already satisfied: pandas>=1.0.3 in /anaconda/lib/python3.9/site-packages (from prince) (1.3.4)\n",
      "Requirement already satisfied: scikit-learn>=0.22.1 in /anaconda/lib/python3.9/site-packages (from prince) (0.24.2)\n",
      "Requirement already satisfied: scipy>=1.3.0 in /anaconda/lib/python3.9/site-packages (from prince) (1.7.1)\n",
      "Requirement already satisfied: kiwisolver>=1.0.1 in /anaconda/lib/python3.9/site-packages (from matplotlib>=3.0.2->prince) (1.3.1)\n",
      "Requirement already satisfied: python-dateutil>=2.7 in /anaconda/lib/python3.9/site-packages (from matplotlib>=3.0.2->prince) (2.8.2)\n",
      "Requirement already satisfied: pyparsing>=2.2.1 in /anaconda/lib/python3.9/site-packages (from matplotlib>=3.0.2->prince) (3.0.4)\n",
      "Requirement already satisfied: cycler>=0.10 in /anaconda/lib/python3.9/site-packages (from matplotlib>=3.0.2->prince) (0.10.0)\n",
      "Requirement already satisfied: pillow>=6.2.0 in /anaconda/lib/python3.9/site-packages (from matplotlib>=3.0.2->prince) (8.4.0)\n",
      "Requirement already satisfied: six in /anaconda/lib/python3.9/site-packages (from cycler>=0.10->matplotlib>=3.0.2->prince) (1.16.0)\n",
      "Requirement already satisfied: pytz>=2017.3 in /anaconda/lib/python3.9/site-packages (from pandas>=1.0.3->prince) (2021.3)\n",
      "Requirement already satisfied: joblib>=0.11 in /anaconda/lib/python3.9/site-packages (from scikit-learn>=0.22.1->prince) (1.1.0)\n",
      "Requirement already satisfied: threadpoolctl>=2.0.0 in /anaconda/lib/python3.9/site-packages (from scikit-learn>=0.22.1->prince) (2.2.0)\n",
      "Installing collected packages: prince\n",
      "Successfully installed prince-0.7.1\n",
      "Note: you may need to restart the kernel to use updated packages.\n"
     ]
    }
   ],
   "source": [
    "pip install prince"
   ]
  },
  {
   "cell_type": "code",
   "execution_count": 5,
   "id": "5aa3c7b1",
   "metadata": {},
   "outputs": [],
   "source": [
    "# pip install mixed-naive-bayes"
   ]
  },
  {
   "cell_type": "code",
   "execution_count": 6,
   "id": "a68b4b64",
   "metadata": {},
   "outputs": [
    {
     "name": "stdout",
     "output_type": "stream",
     "text": [
      "Defaulting to user installation because normal site-packages is not writeable\n",
      "Collecting kmodes\n",
      "  Downloading kmodes-0.12.2-py2.py3-none-any.whl (20 kB)\n",
      "Requirement already satisfied: joblib>=0.11 in /anaconda/lib/python3.9/site-packages (from kmodes) (1.1.0)\n",
      "Requirement already satisfied: scikit-learn>=0.22.0 in /anaconda/lib/python3.9/site-packages (from kmodes) (0.24.2)\n",
      "Requirement already satisfied: numpy>=1.10.4 in /anaconda/lib/python3.9/site-packages (from kmodes) (1.20.3)\n",
      "Requirement already satisfied: scipy>=0.13.3 in /anaconda/lib/python3.9/site-packages (from kmodes) (1.7.1)\n",
      "Requirement already satisfied: threadpoolctl>=2.0.0 in /anaconda/lib/python3.9/site-packages (from scikit-learn>=0.22.0->kmodes) (2.2.0)\n",
      "Installing collected packages: kmodes\n",
      "Successfully installed kmodes-0.12.2\n",
      "Note: you may need to restart the kernel to use updated packages.\n"
     ]
    }
   ],
   "source": [
    "pip install kmodes"
   ]
  },
  {
   "cell_type": "code",
   "execution_count": 7,
   "id": "95d4963d",
   "metadata": {},
   "outputs": [
    {
     "name": "stdout",
     "output_type": "stream",
     "text": [
      "Defaulting to user installation because normal site-packages is not writeable\n",
      "\u001b[33mWARNING: Retrying (Retry(total=4, connect=None, read=None, redirect=None, status=None)) after connection broken by 'SSLError(SSLEOFError(8, 'EOF occurred in violation of protocol (_ssl.c:1129)'))': /simple/gower/\u001b[0m\n",
      "Collecting gower\n",
      "  Downloading gower-0.1.2-py3-none-any.whl (5.2 kB)\n",
      "Requirement already satisfied: numpy in /anaconda/lib/python3.9/site-packages (from gower) (1.20.3)\n",
      "Requirement already satisfied: scipy in /anaconda/lib/python3.9/site-packages (from gower) (1.7.1)\n",
      "Installing collected packages: gower\n",
      "Successfully installed gower-0.1.2\n",
      "Note: you may need to restart the kernel to use updated packages.\n"
     ]
    }
   ],
   "source": [
    "pip install gower"
   ]
  },
  {
   "cell_type": "code",
   "execution_count": null,
   "id": "6d7da55d",
   "metadata": {},
   "outputs": [],
   "source": []
  }
 ],
 "metadata": {
  "kernelspec": {
   "display_name": "Python 3",
   "language": "python",
   "name": "python3"
  },
  "language_info": {
   "codemirror_mode": {
    "name": "ipython",
    "version": 3
   },
   "file_extension": ".py",
   "mimetype": "text/x-python",
   "name": "python",
   "nbconvert_exporter": "python",
   "pygments_lexer": "ipython3",
   "version": "3.7.3"
  }
 },
 "nbformat": 4,
 "nbformat_minor": 5
}
