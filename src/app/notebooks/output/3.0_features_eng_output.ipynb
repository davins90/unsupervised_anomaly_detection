{
 "cells": [
  {
   "cell_type": "code",
   "execution_count": 1,
   "id": "205581ed-a7fb-45d4-9c93-eb67c648ca4f",
   "metadata": {
    "ploomber": {
     "timestamp_end": 1675823994.164285,
     "timestamp_start": 1675823994.163518
    }
   },
   "outputs": [],
   "source": [
    "import sys\n",
    "sys.path.append('../../../')"
   ]
  },
  {
   "cell_type": "code",
   "execution_count": 2,
   "id": "95186737-cbd2-44ee-ad56-89f916e705d8",
   "metadata": {
    "ploomber": {
     "timestamp_end": 1675823994.165408,
     "timestamp_start": 1675823994.164449
    }
   },
   "outputs": [],
   "source": [
    "import pandas as pd\n",
    "import numpy as np\n",
    "import prince\n",
    "import streamlit as st\n",
    "import matplotlib.pyplot as plt\n",
    "\n",
    "pd.set_option(\"display.max_rows\",None)\n",
    "pd.set_option(\"display.max_columns\",None)"
   ]
  },
  {
   "cell_type": "markdown",
   "id": "027bc78f-9fd2-4ae3-af71-882233bb8dbf",
   "metadata": {},
   "source": [
    "# Functions"
   ]
  },
  {
   "cell_type": "code",
   "execution_count": 3,
   "id": "59f3c7fa-503b-4b0a-9e27-7e960a48823b",
   "metadata": {
    "ploomber": {
     "timestamp_end": 1675823994.179638,
     "timestamp_start": 1675823994.165628
    }
   },
   "outputs": [],
   "source": [
    "def features_eng(df, version):\n",
    "    \"\"\"\n",
    "    \n",
    "    \"\"\"\n",
    "    if version == 'clustering':\n",
    "        df = df.drop(columns=['dist2','TransactionID'])\n",
    "    elif version == 'anomaly':\n",
    "        df = df.drop(columns=['dist2','customer_id','TransactionID'])\n",
    "    elif version == 'network':\n",
    "        df = df.drop(columns=['dist2'])\n",
    "    df = df.rename(columns={'id_31':'browser'})\n",
    "    df['P_emaildomain'] = df['P_emaildomain'].mask(df['P_emaildomain']=='gmail','gmail.com')\n",
    "    df['R_emaildomain'] = df['R_emaildomain'].mask(df['R_emaildomain']=='gmail','gmail.com')\n",
    "    df['id_30'] = df['id_30'].replace(\" \",\"_\",regex=True)\n",
    "    df['id_30'] = df['id_30'].str.replace(\".\",\"_\",regex=False)\n",
    "    df['browser'] = df['browser'].mask(df['browser'].str.contains('SM') | df['browser'].str.contains('ZTE'),'other')\n",
    "    df['browser'] = df['browser'].astype(str)\n",
    "    df['browser_enc'] = 'other'\n",
    "    df['browser_enc'] = df['browser_enc'].mask(df['browser'].str.contains('ie'),'ie')\n",
    "    df['browser_enc'] = df['browser_enc'].mask(df['browser'].str.contains('safari'),'safari')\n",
    "    df['browser_enc'] = df['browser_enc'].mask(df['browser'].str.contains('edge'),'edge')\n",
    "    df['browser_enc'] = df['browser_enc'].mask(df['browser'].str.contains('firefox'),'firefox')\n",
    "    df['browser_enc'] = df['browser_enc'].mask(df['browser'].str.contains('android'),'android')\n",
    "    df['browser_enc'] = df['browser_enc'].mask(df['browser'].str.contains('Android'),'android')\n",
    "    df['browser_enc'] = df['browser_enc'].mask(df['browser'].str.contains('chrome'),'chrome')\n",
    "    df['browser_enc'] = df['browser_enc'].mask(df['browser'].str.contains('opera'),'opera')\n",
    "    df['browser_enc'] = df['browser_enc'].mask(df['browser'].str.contains('google'),'chrome')\n",
    "    df['browser_enc'] = df['browser_enc'].mask(df['browser'].str.contains('samsung'),'android')\n",
    "    df['DeviceType'] = df['DeviceType'].mask(df['browser']== 'ie 11.0 for tablet','tablet')\n",
    "    df = df.drop(columns='browser')\n",
    "    df['device_info'] = df['DeviceInfo'].replace(\"-\",\"_\",regex=True)\n",
    "    df['device_info2'] = df['device_info'].replace(\" \",\"_\",regex=True)\n",
    "    df['device_info'] = df['DeviceInfo'].replace(\"-\",\"_\",regex=True)\n",
    "    df['device_info2'] = df['device_info'].replace(\" \",\"_\",regex=True)\n",
    "    df['device_info3'] = df['device_info2'].str.split(\"_\").str[0]\n",
    "    df['device_info3'] = df['device_info3'].str.lower()\n",
    "    df['device_info_v4'] = 'other'\n",
    "    df['device_info_v4'] = df['device_info_v4'].mask(((df['device_info3']=='windows') | (df['device_info3']=='microsoft') | (df['device_info3']=='trident/7.0')),'windows')\n",
    "    df['device_info_v4'] = df['device_info_v4'].mask(((df['device_info3']=='ios') | (df['device_info3']=='iphone')),'ios')\n",
    "    df['device_info_v4'] = df['device_info_v4'].mask(df['device_info3']=='macos','ios')\n",
    "    df['device_info_v4'] = df['device_info_v4'].mask(df['device_info3']=='blade','blade')\n",
    "    df['device_info_v4'] = df['device_info_v4'].mask(df['device_info3']=='lenovo','lenovo')\n",
    "    df['device_info_v4'] = df['device_info_v4'].mask(df['device_info3']=='redmi','redmi')\n",
    "    df['device_info_v4'] = df['device_info_v4'].mask(df['device_info3']=='pixel','pixel')\n",
    "    df['device_info_v4'] = df['device_info_v4'].mask(df['device_info3']=='android','android')\n",
    "    df['device_info_v4'] = df['device_info_v4'].mask(df['device_info3']=='macos','ios')\n",
    "    df['device_info_v4'] = df['device_info_v4'].mask(df['device_info3']=='alcatel','alcatel')\n",
    "    df['device_info_v4'] = df['device_info_v4'].mask(df['device_info3']=='nokia','nokia')\n",
    "    df['device_info_v4'] = df['device_info_v4'].mask(df['device_info3']=='asus','asus')\n",
    "    df['device_info_v4'] = df['device_info_v4'].mask(df['device_info3']=='oneplus','oneplus')\n",
    "    df['device_info_v4'] = df['device_info_v4'].mask(df['device_info3']=='zte','zte')\n",
    "    df['device_info_v4'] = df['device_info_v4'].mask(df['device_info3']=='macos','ios')\n",
    "    df['device_info_v4'] = df['device_info_v4'].mask(df['device_info3']=='hisense','hisense')\n",
    "    df['device_info_v4'] = df['device_info_v4'].mask(df['device_info3']=='linux','linux')\n",
    "    df['device_info_v4'] = df['device_info_v4'].mask((df['device_info3'].str.contains(\"lg\") | (df['device_info3'].str.contains(\"nexus\"))),'lg')\n",
    "    df['device_info_v4'] = df['device_info_v4'].mask(((df['device_info3'].str.contains(\"huawei\")) | (df['device_info3'].str.contains(\"hi6210sft\"))),'huawei')\n",
    "    df['device_info_v4'] = df['device_info_v4'].mask(((df['device_info3']=='motog3') |(df['device_info3']=='moto')),'moto')\n",
    "    df['device_info_v4'] = df['device_info_v4'].mask(((df['device_info3']=='sm') |(df['device_info3']=='samsung')),'samsung')\n",
    "    df = df.drop(columns=['device_info','device_info2','device_info3','DeviceInfo'])\n",
    "    return df"
   ]
  },
  {
   "cell_type": "markdown",
   "id": "4382508d-67d1-44d6-b88a-21bb0fc024a2",
   "metadata": {},
   "source": [
    "# 1.0 Data retrieval"
   ]
  },
  {
   "cell_type": "code",
   "execution_count": 4,
   "id": "6f5445bc-6bb7-46fd-8591-7e87da23fd7b",
   "metadata": {
    "ploomber": {
     "timestamp_end": 1675823994.43333,
     "timestamp_start": 1675823994.180066
    }
   },
   "outputs": [],
   "source": [
    "df = pd.read_pickle(\"app/datalake/train.pkl\")\n",
    "val = pd.read_pickle(\"app/datalake/val.pkl\")"
   ]
  },
  {
   "cell_type": "markdown",
   "id": "1a613b77-4d1d-41f2-8352-7d665319aa6b",
   "metadata": {},
   "source": [
    "# 2.0 Data preparation"
   ]
  },
  {
   "cell_type": "code",
   "execution_count": 5,
   "id": "a9777ce7-7d4c-422c-8b4a-38cc63fc90d1",
   "metadata": {
    "ploomber": {
     "timestamp_end": 1675823995.962582,
     "timestamp_start": 1675823994.434096
    }
   },
   "outputs": [],
   "source": [
    "st.write(\"Starting Features engineering for the training dataset...\")\n",
    "df = features_eng(df,'anomaly')\n",
    "st.write(\"Starting Features engineering for the validation dataset...\")\n",
    "val = features_eng(val,'anomaly')"
   ]
  },
  {
   "cell_type": "markdown",
   "id": "fe13b6c3-d1de-4965-9759-a4d83ec54721",
   "metadata": {},
   "source": [
    "# 3.0 Output"
   ]
  },
  {
   "cell_type": "code",
   "execution_count": 6,
   "id": "780b7697-ef48-4661-820c-9bd57b911710",
   "metadata": {
    "ploomber": {
     "timestamp_end": 1675823996.572281,
     "timestamp_start": 1675823995.963484
    }
   },
   "outputs": [],
   "source": [
    "df.to_pickle('app/datalake/train_eng.pkl')\n",
    "val.to_pickle('app/datalake/val_eng.pkl')"
   ]
  },
  {
   "cell_type": "code",
   "execution_count": 7,
   "id": "f7f175f4-c792-4562-9119-c03a8199e65e",
   "metadata": {
    "ploomber": {
     "timestamp_end": 1675823996.573569,
     "timestamp_start": 1675823996.573092
    }
   },
   "outputs": [],
   "source": []
  }
 ],
 "metadata": {
  "kernelspec": {
   "display_name": "Python 3",
   "language": "python",
   "name": "python3"
  },
  "language_info": {
   "codemirror_mode": {
    "name": "ipython",
    "version": 3
   },
   "file_extension": ".py",
   "mimetype": "text/x-python",
   "name": "python",
   "nbconvert_exporter": "python",
   "pygments_lexer": "ipython3",
   "version": "3.9.2"
  }
 },
 "nbformat": 4,
 "nbformat_minor": 5
}
