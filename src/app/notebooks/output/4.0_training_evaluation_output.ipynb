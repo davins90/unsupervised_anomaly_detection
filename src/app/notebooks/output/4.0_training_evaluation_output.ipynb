{
 "cells": [
  {
   "cell_type": "code",
   "execution_count": 1,
   "id": "d772e1b7",
   "metadata": {
    "ploomber": {
     "timestamp_end": 1675823997.200442,
     "timestamp_start": 1675823997.199139
    },
    "tags": [
     "injected-parameters"
    ]
   },
   "outputs": [],
   "source": [
    "# Injected parameters\n",
    "max_depth_model = 3\n",
    "max_number_estimator = 200\n"
   ]
  },
  {
   "cell_type": "markdown",
   "id": "78b9ab1b-17b0-45a4-96ef-785cbeb8355f",
   "metadata": {},
   "source": [
    "bi + ml --> final"
   ]
  },
  {
   "cell_type": "code",
   "execution_count": 2,
   "id": "6d57c904-bd1c-47ef-b5d7-46d730fc9ee9",
   "metadata": {
    "ploomber": {
     "timestamp_end": 1675823997.201538,
     "timestamp_start": 1675823997.200724
    }
   },
   "outputs": [],
   "source": [
    "import sys\n",
    "sys.path.append('../../../')"
   ]
  },
  {
   "cell_type": "code",
   "execution_count": 3,
   "id": "4749bf27-a893-49c2-80c1-78b7601f0e16",
   "metadata": {
    "ploomber": {
     "timestamp_end": 1675823997.204764,
     "timestamp_start": 1675823997.201744
    }
   },
   "outputs": [],
   "source": [
    "import pandas as pd\n",
    "import numpy as np\n",
    "import streamlit as st\n",
    "import plotly.express as px\n",
    "import pickle\n",
    "import matplotlib.pyplot as plt\n",
    "\n",
    "from sklearn.preprocessing import MinMaxScaler\n",
    "from sklearn.pipeline import Pipeline\n",
    "from sklearn.model_selection import GridSearchCV\n",
    "from sklearn import metrics\n",
    "from sklearn.metrics import *\n",
    "from sklearn.compose import ColumnTransformer\n",
    "from sklearn.preprocessing import OneHotEncoder\n",
    "from sklearn.experimental import enable_iterative_imputer\n",
    "from sklearn.impute import IterativeImputer\n",
    "from sklearn.impute import SimpleImputer\n",
    "from sklearn.ensemble import ExtraTreesRegressor\n",
    "from sklearn.ensemble import GradientBoostingClassifier\n",
    "from sklearn.metrics import recall_score\n",
    "from sklearn.metrics import classification_report\n",
    "from sklearn.calibration import CalibratedClassifierCV\n",
    "from sklearn.calibration import calibration_curve\n",
    "from sklearn.preprocessing import FunctionTransformer\n",
    "\n",
    "pd.set_option(\"display.max_rows\",None)\n",
    "pd.set_option(\"display.max_columns\",None)\n",
    "st.set_option('deprecation.showPyplotGlobalUse', False)"
   ]
  },
  {
   "cell_type": "markdown",
   "id": "6649ea9b-7055-4aed-aa89-6095ec3f431b",
   "metadata": {},
   "source": [
    "# Functions"
   ]
  },
  {
   "cell_type": "code",
   "execution_count": 4,
   "id": "d4b9f609-e57c-4ba6-ae9d-7a25da42d882",
   "metadata": {
    "ploomber": {
     "timestamp_end": 1675823997.209083,
     "timestamp_start": 1675823997.204944
    }
   },
   "outputs": [],
   "source": [
    "def log_transform(x):\n",
    "    return np.log(x + 1)\n",
    "\n",
    "def model_training(X_train, y_train, numerical_cols, categorical_cols,parameters,multiclass):\n",
    "    \"\"\"\n",
    "    \n",
    "    \"\"\"\n",
    "    \n",
    "    ##\n",
    "    transformer = FunctionTransformer(log_transform)\n",
    "    numerical_preprocessor = Pipeline(steps=[(\"imputer\", IterativeImputer(ExtraTreesRegressor(n_estimators=5,random_state=1),random_state=1,verbose=0,add_indicator=True)),\n",
    "                                     (\"scaler\", transformer)]) #MinMaxScaler()\n",
    "    categorical_preprocessor = Pipeline(steps=[(\"imputer\", SimpleImputer(strategy='constant', fill_value='missing',add_indicator=True)),\n",
    "                                           (\"label_enc\", OneHotEncoder(handle_unknown='ignore'))])\n",
    "    preprocessor = ColumnTransformer(transformers=[(\"numerical_preprocessor\", numerical_preprocessor, numerical_cols),\n",
    "                                               (\"categorical_preprocessor\", categorical_preprocessor, categorical_cols)])\n",
    "    pipe_model = GradientBoostingClassifier(random_state=0,n_iter_no_change=25,warm_start=True,max_features=1.0)\n",
    "    ##\n",
    "    model = Pipeline(steps=[('preprocessor', preprocessor),('model', pipe_model)])\n",
    "    \n",
    "    ##\n",
    "    # ('model', CalibratedClassifierCV(base_estimator=pipe_model,method='isotonic'))])\n",
    "    ##\n",
    "    if multiclass == 'no':\n",
    "        model_grid = GridSearchCV(model,parameters,cv=4,scoring='recall',verbose=0,return_train_score=True).fit(X_train,y_train)\n",
    "    else:\n",
    "        model_grid = GridSearchCV(model,parameters,cv=4,scoring='accuracy',verbose=0,return_train_score=True).fit(X_train,y_train)\n",
    "    st.markdown('##### GridSearchCV results...')\n",
    "    st.write(\"Mean Train Scores: \\n{}\\n\".format(model_grid.cv_results_['mean_train_score']))\n",
    "    st.write(\"Mean CV Scores: \\n{}\\n\".format(model_grid.cv_results_['mean_test_score']))\n",
    "    st.write(\"Best Parameters: \\n{}\\n\".format(model_grid.best_params_))\n",
    "    \n",
    "    return model_grid"
   ]
  },
  {
   "cell_type": "code",
   "execution_count": 5,
   "id": "e4426e67-13ff-40d8-9f16-8d9c2f295949",
   "metadata": {
    "ploomber": {
     "timestamp_end": 1675823997.211131,
     "timestamp_start": 1675823997.209347
    }
   },
   "outputs": [],
   "source": [
    "def model_calibration(model,X_test,y_test):\n",
    "    \"\"\"\n",
    "    \n",
    "    \"\"\"\n",
    "    st.markdown(\"##### Calibrating the model...\")\n",
    "    best_model = model.best_estimator_\n",
    "    calibrator = CalibratedClassifierCV(best_model, cv='prefit')\n",
    "    calibrator = calibrator.fit(X_test,y_test)\n",
    "    return calibrator"
   ]
  },
  {
   "cell_type": "code",
   "execution_count": 6,
   "id": "9c82fb39-5df9-40b7-81b0-6af5d35c7594",
   "metadata": {
    "ploomber": {
     "timestamp_end": 1675823997.215129,
     "timestamp_start": 1675823997.211364
    }
   },
   "outputs": [],
   "source": [
    "def model_evaluation(model,X_test,y_test):\n",
    "    \"\"\"\n",
    "    \n",
    "    \"\"\"\n",
    "    st.markdown('##### Test results...')\n",
    "    y_test_predict_grid = model.predict(X_test)    \n",
    "    st.write(\"Model Test Recall:\", metrics.recall_score(y_test, y_test_predict_grid))\n",
    "    st.write('--------------------------------------------------')\n",
    "    st.write('Model Test Confusion Matrix')\n",
    "    cm = confusion_matrix(y_test,y_test_predict_grid,normalize='true') \n",
    "    ConfusionMatrixDisplay(cm,display_labels=['No','Yes']).plot()\n",
    "    col1, col2 = st.columns([1, 2])\n",
    "    col1.pyplot()\n",
    "    col2.text('Model Report:\\n ' + classification_report(y_test, y_test_predict_grid))\n",
    "\n",
    "    st.markdown(\"##### Features importance: \")\n",
    "    feature_importances = model.named_steps['model'].feature_importances_\n",
    "    feature_names = X_test.columns\n",
    "    lista = []\n",
    "    val = []\n",
    "    for score, name in sorted(zip(feature_importances, feature_names), reverse=True):\n",
    "#             st.write('{}: {}'.format(name, score))\n",
    "            lista.append(name)\n",
    "            val.append(score)\n",
    "    ris = pd.DataFrame({'feature': lista, 'score':val})\n",
    "    st.plotly_chart(px.bar(ris,x='feature',y='score'))\n",
    "    return model"
   ]
  },
  {
   "cell_type": "markdown",
   "id": "3f4f1e2c-06fe-46f3-8f2f-f8f25c143da0",
   "metadata": {},
   "source": [
    "# 1.0 Data retrieval"
   ]
  },
  {
   "cell_type": "code",
   "execution_count": 7,
   "id": "ec6dcbae-669d-425b-8324-e7bb0ba0b538",
   "metadata": {
    "ploomber": {
     "timestamp_end": 1675823997.551956,
     "timestamp_start": 1675823997.215508
    }
   },
   "outputs": [],
   "source": [
    "df = pd.read_pickle(\"app/datalake/train_eng.pkl\")\n",
    "val = pd.read_pickle(\"app/datalake/val_eng.pkl\")"
   ]
  },
  {
   "cell_type": "code",
   "execution_count": 8,
   "id": "e4bc0644-78fa-4dd8-bfcc-dbb838b41fd9",
   "metadata": {
    "ploomber": {
     "timestamp_end": 1675823997.554096,
     "timestamp_start": 1675823997.552537
    }
   },
   "outputs": [],
   "source": [
    "cols = ['card1', 'card2', 'card3','card5','M4', 'id_21', 'id_22', 'id_23', 'id_24', 'id_25',\n",
    "       'id_26', 'id_27', 'id_28', 'id_29', 'id_30', 'id_32', 'id_33', 'id_34',\n",
    "       'id_35', 'id_36', 'id_37', 'id_38','num_transaction_per_time']"
   ]
  },
  {
   "cell_type": "code",
   "execution_count": 9,
   "id": "65b20810-ad8f-40bf-bb53-8c35aa71f0e3",
   "metadata": {
    "ploomber": {
     "timestamp_end": 1675823997.568402,
     "timestamp_start": 1675823997.554438
    }
   },
   "outputs": [],
   "source": [
    "df = df.drop(columns=cols)"
   ]
  },
  {
   "cell_type": "code",
   "execution_count": 10,
   "id": "1d66b553-32f2-4648-a272-0a192ae084ee",
   "metadata": {
    "ploomber": {
     "timestamp_end": 1675823997.581937,
     "timestamp_start": 1675823997.568859
    }
   },
   "outputs": [],
   "source": [
    "val = val.drop(columns=cols)"
   ]
  },
  {
   "cell_type": "markdown",
   "id": "b94ae274-6ebb-47da-9b3f-1bf8777ff26a",
   "metadata": {},
   "source": [
    "# 2.0 Machine Learning\n",
    "## 2.1 Training model"
   ]
  },
  {
   "cell_type": "code",
   "execution_count": 11,
   "id": "f42f73a6-a617-4af8-ab65-42eb11cb2aa6",
   "metadata": {
    "ploomber": {
     "timestamp_end": 1675823997.62645,
     "timestamp_start": 1675823997.582318
    }
   },
   "outputs": [],
   "source": [
    "for i in df:\n",
    "    if df[i].dtypes == 'object':\n",
    "        df[i] = df[i].astype(str)"
   ]
  },
  {
   "cell_type": "code",
   "execution_count": 12,
   "id": "447dd015-4ec9-424b-a67a-5467bea048fa",
   "metadata": {
    "ploomber": {
     "timestamp_end": 1675823997.639312,
     "timestamp_start": 1675823997.627144
    }
   },
   "outputs": [],
   "source": [
    "X_train = df.drop(columns='isFraud')\n",
    "y_train = df['isFraud'].astype(float)"
   ]
  },
  {
   "cell_type": "code",
   "execution_count": 13,
   "id": "8e2abe67-a034-4489-ab56-95d352c1ba5c",
   "metadata": {
    "ploomber": {
     "timestamp_end": 1675823997.652164,
     "timestamp_start": 1675823997.639868
    }
   },
   "outputs": [],
   "source": [
    "numerical_cols = X_train.select_dtypes(include=['int64', 'float64']).columns\n",
    "categorical_cols = X_train.select_dtypes(include=['object', 'bool']).columns"
   ]
  },
  {
   "cell_type": "code",
   "execution_count": 14,
   "id": "3929b696-3c9b-42a8-8ded-536f8b236e97",
   "metadata": {
    "ploomber": {
     "timestamp_end": 1675823997.653574,
     "timestamp_start": 1675823997.652664
    }
   },
   "outputs": [],
   "source": [
    "max_depth_model = 3\n",
    "max_n_est = 200"
   ]
  },
  {
   "cell_type": "code",
   "execution_count": 15,
   "id": "2343117c-6d3d-4e71-ac9a-f618b3129445",
   "metadata": {
    "ploomber": {
     "timestamp_end": 1675823997.654823,
     "timestamp_start": 1675823997.653828
    }
   },
   "outputs": [],
   "source": [
    "parameters = {'model__max_depth':[2,max_depth_model],'model__n_estimators':[100,max_n_est],'model__learning_rate':[0.1],'model__min_samples_leaf':[3]}"
   ]
  },
  {
   "cell_type": "code",
   "execution_count": 16,
   "id": "9d223653-db46-491e-8480-ff2f6aa40f5c",
   "metadata": {
    "ploomber": {
     "timestamp_end": 1675824065.3953,
     "timestamp_start": 1675823997.655046
    }
   },
   "outputs": [],
   "source": [
    "model = model_training(X_train,y_train,numerical_cols,categorical_cols,parameters,'no')"
   ]
  },
  {
   "cell_type": "markdown",
   "id": "8979506f-bf78-45a8-aeaa-565ec78b619c",
   "metadata": {},
   "source": [
    "## 2.2 Evaluation model"
   ]
  },
  {
   "cell_type": "code",
   "execution_count": 17,
   "id": "0436df8f-e20e-4221-a5e5-fd25a99a627f",
   "metadata": {
    "ploomber": {
     "timestamp_end": 1675824065.451798,
     "timestamp_start": 1675824065.396417
    },
    "tags": []
   },
   "outputs": [],
   "source": [
    "for i in val:\n",
    "    if val[i].dtypes == 'object':\n",
    "        val[i] = val[i].astype(str)"
   ]
  },
  {
   "cell_type": "code",
   "execution_count": 18,
   "id": "6869f637-86f7-453e-8f2e-1bd85a583e80",
   "metadata": {
    "ploomber": {
     "timestamp_end": 1675824065.466382,
     "timestamp_start": 1675824065.452352
    }
   },
   "outputs": [],
   "source": [
    "X_val = val.drop(columns='isFraud')\n",
    "y_val = val['isFraud'].astype(float)"
   ]
  },
  {
   "cell_type": "code",
   "execution_count": 19,
   "id": "480731d1-3722-4bb7-878a-88ba9ae3c562",
   "metadata": {
    "ploomber": {
     "timestamp_end": 1675824065.878645,
     "timestamp_start": 1675824065.466721
    }
   },
   "outputs": [],
   "source": [
    "m = model_calibration(model,X_val,y_val)"
   ]
  },
  {
   "cell_type": "code",
   "execution_count": 20,
   "id": "cc84f329-c349-4691-b36c-a47f465dbd93",
   "metadata": {
    "ploomber": {
     "timestamp_end": 1675824067.159551,
     "timestamp_start": 1675824065.87918
    }
   },
   "outputs": [
    {
     "data": {
      "text/plain": [
       "Pipeline(steps=[('preprocessor',\n",
       "                 ColumnTransformer(transformers=[('numerical_preprocessor',\n",
       "                                                  Pipeline(steps=[('imputer',\n",
       "                                                                   IterativeImputer(add_indicator=True,\n",
       "                                                                                    estimator=ExtraTreesRegressor(n_estimators=5,\n",
       "                                                                                                                  random_state=1),\n",
       "                                                                                    random_state=1)),\n",
       "                                                                  ('scaler',\n",
       "                                                                   FunctionTransformer(func=<function log_transform at 0x7f56ceeacb80>))]),\n",
       "                                                  Index(['TransactionAmt', 'max_c', 'max_d',...\n",
       "                                                                                 strategy='constant')),\n",
       "                                                                  ('label_enc',\n",
       "                                                                   OneHotEncoder(handle_unknown='ignore'))]),\n",
       "                                                  Index(['ProductCD', 'card4', 'card6', 'addr1', 'addr2', 'P_emaildomain',\n",
       "       'R_emaildomain', 'DeviceType', 'browser_enc', 'device_info_v4'],\n",
       "      dtype='object'))])),\n",
       "                ('model',\n",
       "                 GradientBoostingClassifier(max_features=1.0,\n",
       "                                            min_samples_leaf=3,\n",
       "                                            n_estimators=200,\n",
       "                                            n_iter_no_change=25, random_state=0,\n",
       "                                            warm_start=True))])"
      ]
     },
     "execution_count": 20,
     "metadata": {},
     "output_type": "execute_result"
    },
    {
     "data": {
      "text/plain": [
       "<Figure size 432x288 with 0 Axes>"
      ]
     },
     "metadata": {},
     "output_type": "display_data"
    }
   ],
   "source": [
    "model_evaluation(m.base_estimator, X_val, y_val)"
   ]
  },
  {
   "cell_type": "markdown",
   "id": "c38cf05a-2a26-4abc-bfe1-436317ca1aa9",
   "metadata": {},
   "source": [
    "# 6.0 Model Output"
   ]
  },
  {
   "cell_type": "code",
   "execution_count": 21,
   "id": "0426aa06-c968-4fc9-9533-1edf64743b84",
   "metadata": {
    "ploomber": {
     "timestamp_end": 1675824067.879378,
     "timestamp_start": 1675824067.159952
    }
   },
   "outputs": [],
   "source": [
    "with open('app/datalake/trained_model_v1.pkl','wb') as file:\n",
    "    pickle.dump(m.base_estimator, file)"
   ]
  },
  {
   "cell_type": "code",
   "execution_count": 22,
   "id": "c6292b56-2e74-48ca-b564-731f7b895956",
   "metadata": {
    "ploomber": {
     "timestamp_end": 1675824067.882152,
     "timestamp_start": 1675824067.880569
    }
   },
   "outputs": [],
   "source": []
  }
 ],
 "metadata": {
  "kernelspec": {
   "display_name": "Python 3",
   "language": "python",
   "name": "python3"
  },
  "language_info": {
   "codemirror_mode": {
    "name": "ipython",
    "version": 3
   },
   "file_extension": ".py",
   "mimetype": "text/x-python",
   "name": "python",
   "nbconvert_exporter": "python",
   "pygments_lexer": "ipython3",
   "version": "3.9.2"
  }
 },
 "nbformat": 4,
 "nbformat_minor": 5
}
