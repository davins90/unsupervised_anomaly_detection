{
 "cells": [
  {
   "cell_type": "code",
   "execution_count": 2,
   "id": "eed48cbc-03b6-46bc-8b6a-5ddf9f1fd83d",
   "metadata": {},
   "outputs": [],
   "source": [
    "import pandas as pd"
   ]
  },
  {
   "cell_type": "code",
   "execution_count": 3,
   "id": "7bad1a76-c386-4492-b7fb-a2b16df80046",
   "metadata": {},
   "outputs": [],
   "source": [
    "import pickle\n",
    "import requests\n",
    "import pandas as pd\n",
    "\n",
    "from io import BytesIO"
   ]
  },
  {
   "cell_type": "code",
   "execution_count": 4,
   "id": "3c9dc74e-6749-44d8-a407-c928f4aa8a1f",
   "metadata": {},
   "outputs": [],
   "source": [
    "file = \"https://github.com/davins90/unsupervised_anomaly_detection/blob/master/src/data_lake/output_prod/train_eng.pkl?raw=true\"\n",
    "db = BytesIO(requests.get(file).content)\n",
    "df = pickle.load(db)"
   ]
  },
  {
   "cell_type": "code",
   "execution_count": 5,
   "id": "dcb9cca8-3bfe-4839-bec8-ae2722d70c26",
   "metadata": {},
   "outputs": [],
   "source": [
    "cols = ['card1', 'card2', 'card3','card5','M4', 'id_21', 'id_22', 'id_23', 'id_24', 'id_25',\n",
    "       'id_26', 'id_27', 'id_28', 'id_29', 'id_30', 'id_32', 'id_33', 'id_34',\n",
    "       'id_35', 'id_36', 'id_37', 'id_38','num_transaction_per_time']\n",
    "    \n",
    "df = df.drop(columns=cols)"
   ]
  },
  {
   "cell_type": "code",
   "execution_count": 6,
   "id": "7445a3da-48a1-444d-b70f-6de9c29a15c4",
   "metadata": {},
   "outputs": [
    {
     "data": {
      "text/plain": [
       "Index(['isFraud', 'TransactionAmt', 'ProductCD', 'card4', 'card6', 'addr1',\n",
       "       'addr2', 'P_emaildomain', 'R_emaildomain', 'DeviceType',\n",
       "       'num_accounts_related_to_user', 'num_days_previous_transaction',\n",
       "       'multi_transaction_per_time', 'browser_enc', 'device_info_v4'],\n",
       "      dtype='object')"
      ]
     },
     "execution_count": 6,
     "metadata": {},
     "output_type": "execute_result"
    }
   ],
   "source": [
    "df.columns"
   ]
  },
  {
   "cell_type": "code",
   "execution_count": 7,
   "id": "8ec15cfb-ee0f-4de9-aefd-576fdaf3301c",
   "metadata": {},
   "outputs": [
    {
     "data": {
      "text/plain": [
       "isFraud                           object\n",
       "TransactionAmt                   float64\n",
       "ProductCD                         object\n",
       "card4                             object\n",
       "card6                             object\n",
       "addr1                             object\n",
       "addr2                             object\n",
       "P_emaildomain                     object\n",
       "R_emaildomain                     object\n",
       "DeviceType                        object\n",
       "num_accounts_related_to_user     float64\n",
       "num_days_previous_transaction    float64\n",
       "multi_transaction_per_time         int64\n",
       "browser_enc                       object\n",
       "device_info_v4                    object\n",
       "dtype: object"
      ]
     },
     "execution_count": 7,
     "metadata": {},
     "output_type": "execute_result"
    }
   ],
   "source": [
    "df.dtypes"
   ]
  },
  {
   "cell_type": "code",
   "execution_count": 2,
   "id": "83093cf7-a1d9-4b72-8baa-48979e1e8571",
   "metadata": {},
   "outputs": [
    {
     "name": "stdout",
     "output_type": "stream",
     "text": [
      "Collecting fastapi[complete]\n",
      "  Downloading fastapi-0.89.1-py3-none-any.whl (55 kB)\n",
      "\u001b[K     |████████████████████████████████| 55 kB 1.3 MB/s eta 0:00:01\n",
      "\u001b[33mWARNING: fastapi 0.89.1 does not provide the extra 'complete'\u001b[0m\n",
      "\u001b[?25hCollecting starlette==0.22.0\n",
      "  Downloading starlette-0.22.0-py3-none-any.whl (64 kB)\n",
      "\u001b[K     |████████████████████████████████| 64 kB 3.0 MB/s eta 0:00:011\n",
      "\u001b[?25hRequirement already satisfied: pydantic!=1.7,!=1.7.1,!=1.7.2,!=1.7.3,!=1.8,!=1.8.1,<2.0.0,>=1.6.2 in /opt/conda/lib/python3.9/site-packages (from fastapi[complete]) (1.10.4)\n",
      "Collecting anyio<5,>=3.4.0\n",
      "  Downloading anyio-3.6.2-py3-none-any.whl (80 kB)\n",
      "\u001b[K     |████████████████████████████████| 80 kB 4.2 MB/s eta 0:00:011\n",
      "\u001b[?25hRequirement already satisfied: typing-extensions>=3.10.0 in /opt/conda/lib/python3.9/site-packages (from starlette==0.22.0->fastapi[complete]) (4.4.0)\n",
      "Requirement already satisfied: idna>=2.8 in /opt/conda/lib/python3.9/site-packages (from anyio<5,>=3.4.0->starlette==0.22.0->fastapi[complete]) (2.10)\n",
      "Requirement already satisfied: sniffio>=1.1 in /opt/conda/lib/python3.9/site-packages (from anyio<5,>=3.4.0->starlette==0.22.0->fastapi[complete]) (1.2.0)\n",
      "Installing collected packages: anyio, starlette, fastapi\n",
      "  Attempting uninstall: anyio\n",
      "    Found existing installation: anyio 3.1.0\n",
      "    Uninstalling anyio-3.1.0:\n",
      "      Successfully uninstalled anyio-3.1.0\n",
      "Successfully installed anyio-3.6.2 fastapi-0.89.1 starlette-0.22.0\n",
      "Note: you may need to restart the kernel to use updated packages.\n"
     ]
    }
   ],
   "source": [
    "pip install fastapi[complete]"
   ]
  },
  {
   "cell_type": "code",
   "execution_count": 3,
   "id": "fc3a2f9e-0608-4100-bf83-dc9fd6ededaa",
   "metadata": {},
   "outputs": [],
   "source": [
    "from fastapi import FastAPI, Request, Response\n",
    "from pydantic import BaseModel\n",
    "from fastapi.encoders import jsonable_encoder\n",
    "from kmodes.kprototypes import KPrototypes\n",
    "\n",
    "import pickle\n",
    "import pandas as pd"
   ]
  },
  {
   "cell_type": "code",
   "execution_count": 4,
   "id": "b9e1f9bd-61d1-4106-8cac-a34122e99ca0",
   "metadata": {},
   "outputs": [],
   "source": [
    "class personas(BaseModel):\n",
    "    TransactionAmt: float\n",
    "    num_accounts_related_to_user: float\n",
    "    num_days_previous_transaction: float\n",
    "    product_enc: int\n",
    "    card4_enc: int\n",
    "    card6_enc: int\n",
    "    DeviceType_enc: int\n",
    "    browser_enc2: int\n",
    "    device_info_v4_enc: int"
   ]
  },
  {
   "cell_type": "code",
   "execution_count": 6,
   "id": "34029a4e-c91c-4c4a-9c6d-94de8709bbd6",
   "metadata": {},
   "outputs": [
    {
     "ename": "ValidationError",
     "evalue": "9 validation errors for personas\nTransactionAmt\n  field required (type=value_error.missing)\nnum_accounts_related_to_user\n  field required (type=value_error.missing)\nnum_days_previous_transaction\n  field required (type=value_error.missing)\nproduct_enc\n  field required (type=value_error.missing)\ncard4_enc\n  field required (type=value_error.missing)\ncard6_enc\n  field required (type=value_error.missing)\nDeviceType_enc\n  field required (type=value_error.missing)\nbrowser_enc2\n  field required (type=value_error.missing)\ndevice_info_v4_enc\n  field required (type=value_error.missing)",
     "output_type": "error",
     "traceback": [
      "\u001b[0;31m\u001b[0m",
      "\u001b[0;31mValidationError\u001b[0mTraceback (most recent call last)",
      "Cell \u001b[0;32mIn[6], line 1\u001b[0m\n\u001b[0;32m----> 1\u001b[0m \u001b[38;5;28;01mfor\u001b[39;00m i \u001b[38;5;129;01min\u001b[39;00m \u001b[43mpersonas\u001b[49m\u001b[43m(\u001b[49m\u001b[43m)\u001b[49m:\n\u001b[1;32m      2\u001b[0m     \u001b[38;5;28mprint\u001b[39m(i)\n",
      "File \u001b[0;32m/opt/conda/lib/python3.9/site-packages/pydantic/main.py:342\u001b[0m, in \u001b[0;36mpydantic.main.BaseModel.__init__\u001b[0;34m()\u001b[0m\n",
      "\u001b[0;31mValidationError\u001b[0m: 9 validation errors for personas\nTransactionAmt\n  field required (type=value_error.missing)\nnum_accounts_related_to_user\n  field required (type=value_error.missing)\nnum_days_previous_transaction\n  field required (type=value_error.missing)\nproduct_enc\n  field required (type=value_error.missing)\ncard4_enc\n  field required (type=value_error.missing)\ncard6_enc\n  field required (type=value_error.missing)\nDeviceType_enc\n  field required (type=value_error.missing)\nbrowser_enc2\n  field required (type=value_error.missing)\ndevice_info_v4_enc\n  field required (type=value_error.missing)"
     ]
    }
   ],
   "source": [
    "for i in personas():\n",
    "    print(i)"
   ]
  },
  {
   "cell_type": "code",
   "execution_count": null,
   "id": "3db754d9-416f-4745-9623-26363a259c78",
   "metadata": {},
   "outputs": [],
   "source": []
  }
 ],
 "metadata": {
  "kernelspec": {
   "display_name": "Python 3",
   "language": "python",
   "name": "python3"
  },
  "language_info": {
   "codemirror_mode": {
    "name": "ipython",
    "version": 3
   },
   "file_extension": ".py",
   "mimetype": "text/x-python",
   "name": "python",
   "nbconvert_exporter": "python",
   "pygments_lexer": "ipython3",
   "version": "3.9.2"
  }
 },
 "nbformat": 4,
 "nbformat_minor": 5
}
