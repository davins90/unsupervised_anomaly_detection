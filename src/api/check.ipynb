{
 "cells": [
  {
   "cell_type": "code",
   "execution_count": 2,
   "id": "eed48cbc-03b6-46bc-8b6a-5ddf9f1fd83d",
   "metadata": {},
   "outputs": [],
   "source": [
    "import pandas as pd"
   ]
  },
  {
   "cell_type": "code",
   "execution_count": 3,
   "id": "7bad1a76-c386-4492-b7fb-a2b16df80046",
   "metadata": {},
   "outputs": [],
   "source": [
    "import pickle\n",
    "import requests\n",
    "import pandas as pd\n",
    "\n",
    "from io import BytesIO"
   ]
  },
  {
   "cell_type": "code",
   "execution_count": 4,
   "id": "3c9dc74e-6749-44d8-a407-c928f4aa8a1f",
   "metadata": {},
   "outputs": [],
   "source": [
    "file = \"https://github.com/davins90/unsupervised_anomaly_detection/blob/master/src/data_lake/output_prod/train_eng.pkl?raw=true\"\n",
    "db = BytesIO(requests.get(file).content)\n",
    "df = pickle.load(db)"
   ]
  },
  {
   "cell_type": "code",
   "execution_count": 5,
   "id": "dcb9cca8-3bfe-4839-bec8-ae2722d70c26",
   "metadata": {},
   "outputs": [],
   "source": [
    "cols = ['card1', 'card2', 'card3','card5','M4', 'id_21', 'id_22', 'id_23', 'id_24', 'id_25',\n",
    "       'id_26', 'id_27', 'id_28', 'id_29', 'id_30', 'id_32', 'id_33', 'id_34',\n",
    "       'id_35', 'id_36', 'id_37', 'id_38','num_transaction_per_time']\n",
    "    \n",
    "df = df.drop(columns=cols)"
   ]
  },
  {
   "cell_type": "code",
   "execution_count": 6,
   "id": "7445a3da-48a1-444d-b70f-6de9c29a15c4",
   "metadata": {},
   "outputs": [
    {
     "data": {
      "text/plain": [
       "Index(['isFraud', 'TransactionAmt', 'ProductCD', 'card4', 'card6', 'addr1',\n",
       "       'addr2', 'P_emaildomain', 'R_emaildomain', 'DeviceType',\n",
       "       'num_accounts_related_to_user', 'num_days_previous_transaction',\n",
       "       'multi_transaction_per_time', 'browser_enc', 'device_info_v4'],\n",
       "      dtype='object')"
      ]
     },
     "execution_count": 6,
     "metadata": {},
     "output_type": "execute_result"
    }
   ],
   "source": [
    "df.columns"
   ]
  },
  {
   "cell_type": "code",
   "execution_count": 7,
   "id": "8ec15cfb-ee0f-4de9-aefd-576fdaf3301c",
   "metadata": {},
   "outputs": [
    {
     "data": {
      "text/plain": [
       "isFraud                           object\n",
       "TransactionAmt                   float64\n",
       "ProductCD                         object\n",
       "card4                             object\n",
       "card6                             object\n",
       "addr1                             object\n",
       "addr2                             object\n",
       "P_emaildomain                     object\n",
       "R_emaildomain                     object\n",
       "DeviceType                        object\n",
       "num_accounts_related_to_user     float64\n",
       "num_days_previous_transaction    float64\n",
       "multi_transaction_per_time         int64\n",
       "browser_enc                       object\n",
       "device_info_v4                    object\n",
       "dtype: object"
      ]
     },
     "execution_count": 7,
     "metadata": {},
     "output_type": "execute_result"
    }
   ],
   "source": [
    "df.dtypes"
   ]
  },
  {
   "cell_type": "code",
   "execution_count": null,
   "id": "fc3a2f9e-0608-4100-bf83-dc9fd6ededaa",
   "metadata": {},
   "outputs": [],
   "source": []
  }
 ],
 "metadata": {
  "kernelspec": {
   "display_name": "Python 3",
   "language": "python",
   "name": "python3"
  },
  "language_info": {
   "codemirror_mode": {
    "name": "ipython",
    "version": 3
   },
   "file_extension": ".py",
   "mimetype": "text/x-python",
   "name": "python",
   "nbconvert_exporter": "python",
   "pygments_lexer": "ipython3",
   "version": "3.9.2"
  }
 },
 "nbformat": 4,
 "nbformat_minor": 5
}
