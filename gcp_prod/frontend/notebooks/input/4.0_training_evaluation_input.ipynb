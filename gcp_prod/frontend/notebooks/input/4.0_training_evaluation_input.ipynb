{
 "cells": [
  {
   "cell_type": "markdown",
   "id": "78b9ab1b-17b0-45a4-96ef-785cbeb8355f",
   "metadata": {},
   "source": [
    "bi + ml --> final"
   ]
  },
  {
   "cell_type": "code",
   "execution_count": 1,
   "id": "6d57c904-bd1c-47ef-b5d7-46d730fc9ee9",
   "metadata": {},
   "outputs": [],
   "source": [
    "import sys\n",
    "sys.path.append('../../../')"
   ]
  },
  {
   "cell_type": "code",
   "execution_count": 2,
   "id": "4749bf27-a893-49c2-80c1-78b7601f0e16",
   "metadata": {},
   "outputs": [],
   "source": [
    "import pandas as pd\n",
    "import numpy as np\n",
    "import streamlit as st\n",
    "import plotly.express as px\n",
    "import pickle\n",
    "import matplotlib.pyplot as plt\n",
    "\n",
    "from sklearn.preprocessing import MinMaxScaler\n",
    "from sklearn.pipeline import Pipeline\n",
    "from sklearn.model_selection import GridSearchCV\n",
    "from sklearn import metrics\n",
    "from sklearn.metrics import *\n",
    "from sklearn.compose import ColumnTransformer\n",
    "from sklearn.preprocessing import OneHotEncoder\n",
    "from sklearn.experimental import enable_iterative_imputer\n",
    "from sklearn.impute import IterativeImputer\n",
    "from sklearn.impute import SimpleImputer\n",
    "from sklearn.ensemble import ExtraTreesRegressor\n",
    "from sklearn.ensemble import GradientBoostingClassifier\n",
    "from sklearn.metrics import recall_score\n",
    "from sklearn.metrics import classification_report\n",
    "from sklearn.calibration import CalibratedClassifierCV\n",
    "from sklearn.calibration import calibration_curve\n",
    "from sklearn.preprocessing import FunctionTransformer\n",
    "\n",
    "pd.set_option(\"display.max_rows\",None)\n",
    "pd.set_option(\"display.max_columns\",None)\n",
    "st.set_option('deprecation.showPyplotGlobalUse', False)"
   ]
  },
  {
   "cell_type": "markdown",
   "id": "6649ea9b-7055-4aed-aa89-6095ec3f431b",
   "metadata": {},
   "source": [
    "# Functions"
   ]
  },
  {
   "cell_type": "code",
   "execution_count": null,
   "id": "d4b9f609-e57c-4ba6-ae9d-7a25da42d882",
   "metadata": {},
   "outputs": [],
   "source": [
    "def log_transform(x):\n",
    "    return np.log(x + 1)\n",
    "\n",
    "def model_training(X_train, y_train, numerical_cols, categorical_cols,parameters,multiclass):\n",
    "    \"\"\"\n",
    "    \n",
    "    \"\"\"\n",
    "    \n",
    "    ##\n",
    "    transformer = FunctionTransformer(log_transform)\n",
    "    numerical_preprocessor = Pipeline(steps=[(\"imputer\", IterativeImputer(ExtraTreesRegressor(n_estimators=5,random_state=1),random_state=1,verbose=0,add_indicator=True)),\n",
    "                                     (\"scaler\", transformer)]) #MinMaxScaler()\n",
    "    categorical_preprocessor = Pipeline(steps=[(\"imputer\", SimpleImputer(strategy='constant', fill_value='missing',add_indicator=True)),\n",
    "                                           (\"label_enc\", OneHotEncoder(handle_unknown='ignore'))])\n",
    "    preprocessor = ColumnTransformer(transformers=[(\"numerical_preprocessor\", numerical_preprocessor, numerical_cols),\n",
    "                                               (\"categorical_preprocessor\", categorical_preprocessor, categorical_cols)])\n",
    "    pipe_model = GradientBoostingClassifier(random_state=0,n_iter_no_change=25,warm_start=True,max_features=1.0)\n",
    "    ##\n",
    "    model = Pipeline(steps=[('preprocessor', preprocessor),('model', pipe_model)])\n",
    "    \n",
    "    ##\n",
    "    # ('model', CalibratedClassifierCV(base_estimator=pipe_model,method='isotonic'))])\n",
    "    ##\n",
    "    if multiclass == 'no':\n",
    "        model_grid = GridSearchCV(model,parameters,cv=4,scoring='recall',verbose=0,return_train_score=True).fit(X_train,y_train)\n",
    "    else:\n",
    "        model_grid = GridSearchCV(model,parameters,cv=4,scoring='accuracy',verbose=0,return_train_score=True).fit(X_train,y_train)\n",
    "    st.markdown('##### GridSearchCV results...')\n",
    "    st.write(\"Mean Train Scores: \\n{}\\n\".format(model_grid.cv_results_['mean_train_score']))\n",
    "    st.write(\"Mean CV Scores: \\n{}\\n\".format(model_grid.cv_results_['mean_test_score']))\n",
    "    st.write(\"Best Parameters: \\n{}\\n\".format(model_grid.best_params_))\n",
    "    \n",
    "    return model_grid"
   ]
  },
  {
   "cell_type": "code",
   "execution_count": null,
   "id": "e4426e67-13ff-40d8-9f16-8d9c2f295949",
   "metadata": {},
   "outputs": [],
   "source": [
    "def model_calibration(model,X_test,y_test):\n",
    "    \"\"\"\n",
    "    \n",
    "    \"\"\"\n",
    "    st.markdown(\"##### Calibrating the model...\")\n",
    "    best_model = model.best_estimator_\n",
    "    calibrator = CalibratedClassifierCV(best_model, cv='prefit')\n",
    "    calibrator = calibrator.fit(X_test,y_test)\n",
    "    return calibrator"
   ]
  },
  {
   "cell_type": "code",
   "execution_count": null,
   "id": "9c82fb39-5df9-40b7-81b0-6af5d35c7594",
   "metadata": {},
   "outputs": [],
   "source": [
    "def model_evaluation(model,X_test,y_test):\n",
    "    \"\"\"\n",
    "    \n",
    "    \"\"\"\n",
    "    st.markdown('##### Test results...')\n",
    "    y_test_predict_grid = model.predict(X_test)    \n",
    "    st.write(\"Model Test Recall:\", metrics.recall_score(y_test, y_test_predict_grid))\n",
    "    st.write('--------------------------------------------------')\n",
    "    st.write('Model Test Confusion Matrix')\n",
    "    cm = confusion_matrix(y_test,y_test_predict_grid,normalize='true') \n",
    "    col1, col2 = st.columns([1, 2])\n",
    "    ConfusionMatrixDisplay(cm,display_labels=['No','Yes']).plot()\n",
    "    col1.pyplot()\n",
    "    col2.text('Model Report:\\n ' + classification_report(y_test, y_test_predict_grid))\n",
    "\n",
    "    st.markdown(\"##### Features importance: \")\n",
    "    feature_importances = model.named_steps['model'].feature_importances_\n",
    "    feature_names = X_test.columns\n",
    "    lista = []\n",
    "    val = []\n",
    "    for score, name in sorted(zip(feature_importances, feature_names), reverse=True):\n",
    "#             st.write('{}: {}'.format(name, score))\n",
    "            lista.append(name)\n",
    "            val.append(score)\n",
    "    ris = pd.DataFrame({'feature': lista, 'score':val})\n",
    "    st.plotly_chart(px.bar(ris,x='feature',y='score'))\n",
    "    return model"
   ]
  },
  {
   "cell_type": "markdown",
   "id": "3f4f1e2c-06fe-46f3-8f2f-f8f25c143da0",
   "metadata": {},
   "source": [
    "# 1.0 Data retrieval"
   ]
  },
  {
   "cell_type": "code",
   "execution_count": 3,
   "id": "ec6dcbae-669d-425b-8324-e7bb0ba0b538",
   "metadata": {},
   "outputs": [],
   "source": [
    "df = pd.read_pickle(\"datalake/train_eng.pkl\")\n",
    "val = pd.read_pickle(\"datalake/val_eng.pkl\")"
   ]
  },
  {
   "cell_type": "code",
   "execution_count": 4,
   "id": "e4bc0644-78fa-4dd8-bfcc-dbb838b41fd9",
   "metadata": {},
   "outputs": [],
   "source": [
    "cols = ['card1', 'card2', 'card3','card5','M4', 'id_21', 'id_22', 'id_23', 'id_24', 'id_25',\n",
    "       'id_26', 'id_27', 'id_28', 'id_29', 'id_30', 'id_32', 'id_33', 'id_34',\n",
    "       'id_35', 'id_36', 'id_37', 'id_38','num_transaction_per_time']"
   ]
  },
  {
   "cell_type": "code",
   "execution_count": 5,
   "id": "65b20810-ad8f-40bf-bb53-8c35aa71f0e3",
   "metadata": {},
   "outputs": [],
   "source": [
    "df = df.drop(columns=cols)"
   ]
  },
  {
   "cell_type": "code",
   "execution_count": 6,
   "id": "1d66b553-32f2-4648-a272-0a192ae084ee",
   "metadata": {},
   "outputs": [],
   "source": [
    "val = val.drop(columns=cols)"
   ]
  },
  {
   "cell_type": "markdown",
   "id": "b94ae274-6ebb-47da-9b3f-1bf8777ff26a",
   "metadata": {},
   "source": [
    "# 2.0 Machine Learning\n",
    "## 2.1 Training model"
   ]
  },
  {
   "cell_type": "code",
   "execution_count": 7,
   "id": "f42f73a6-a617-4af8-ab65-42eb11cb2aa6",
   "metadata": {},
   "outputs": [],
   "source": [
    "for i in df:\n",
    "    if df[i].dtypes == 'object':\n",
    "        df[i] = df[i].astype(str)"
   ]
  },
  {
   "cell_type": "code",
   "execution_count": 8,
   "id": "447dd015-4ec9-424b-a67a-5467bea048fa",
   "metadata": {},
   "outputs": [],
   "source": [
    "X_train = df.drop(columns='isFraud')\n",
    "y_train = df['isFraud'].astype(float)"
   ]
  },
  {
   "cell_type": "code",
   "execution_count": 9,
   "id": "8e2abe67-a034-4489-ab56-95d352c1ba5c",
   "metadata": {},
   "outputs": [],
   "source": [
    "numerical_cols = X_train.select_dtypes(include=['int64', 'float64']).columns\n",
    "categorical_cols = X_train.select_dtypes(include=['object', 'bool']).columns"
   ]
  },
  {
   "cell_type": "code",
   "execution_count": null,
   "id": "ee5dc5bb",
   "metadata": {},
   "outputs": [],
   "source": [
    "max_depth_model = 3\n",
    "max_n_est = 200"
   ]
  },
  {
   "cell_type": "code",
   "execution_count": 10,
   "id": "2343117c-6d3d-4e71-ac9a-f618b3129445",
   "metadata": {},
   "outputs": [],
   "source": [
    "parameters = {'model__max_depth':[2,max_depth_model],'model__n_estimators':[100,max_n_est],'model__learning_rate':[0.1],'model__min_samples_leaf':[3]}"
   ]
  },
  {
   "cell_type": "code",
   "execution_count": 12,
   "id": "9d223653-db46-491e-8480-ff2f6aa40f5c",
   "metadata": {},
   "outputs": [
    {
     "name": "stdout",
     "output_type": "stream",
     "text": [
      "GridSearchCV results...\n",
      "Mean Train Scores: \n",
      "[0.87915758 0.89078492 0.8819401  0.90386593 0.92404796 0.92849121\n",
      " 0.91881546 0.92288487 0.9127528  0.9127528  0.90262    0.90262\n",
      " 0.94310833 0.94310833 0.92666503 0.92666503]\n",
      "\n",
      "Mean CV Scores: \n",
      "[0.8275819  0.83032306 0.82558813 0.83480718 0.8340601  0.83480755\n",
      " 0.83405985 0.8338106  0.83505655 0.83505655 0.83244046 0.83244046\n",
      " 0.84128581 0.84128581 0.83667489 0.83667489]\n",
      "\n",
      "Best Parameters: \n",
      "{'model__learning_rate': 0.1, 'model__max_depth': 8, 'model__min_samples_leaf': 3, 'model__n_estimators': 500}\n",
      "\n"
     ]
    }
   ],
   "source": [
    "model = model_training(X_train,y_train,numerical_cols,categorical_cols,parameters,'no')"
   ]
  },
  {
   "cell_type": "markdown",
   "id": "8979506f-bf78-45a8-aeaa-565ec78b619c",
   "metadata": {},
   "source": [
    "## 2.2 Evaluation model"
   ]
  },
  {
   "cell_type": "code",
   "execution_count": 13,
   "id": "0436df8f-e20e-4221-a5e5-fd25a99a627f",
   "metadata": {
    "tags": []
   },
   "outputs": [],
   "source": [
    "for i in val:\n",
    "    if val[i].dtypes == 'object':\n",
    "        val[i] = val[i].astype(str)"
   ]
  },
  {
   "cell_type": "code",
   "execution_count": 14,
   "id": "6869f637-86f7-453e-8f2e-1bd85a583e80",
   "metadata": {},
   "outputs": [],
   "source": [
    "X_val = val.drop(columns='isFraud')\n",
    "y_val = val['isFraud'].astype(float)"
   ]
  },
  {
   "cell_type": "code",
   "execution_count": 15,
   "id": "480731d1-3722-4bb7-878a-88ba9ae3c562",
   "metadata": {},
   "outputs": [],
   "source": [
    "m = model_calibration(model,X_val,y_val)"
   ]
  },
  {
   "cell_type": "code",
   "execution_count": 16,
   "id": "cc84f329-c349-4691-b36c-a47f465dbd93",
   "metadata": {},
   "outputs": [
    {
     "name": "stdout",
     "output_type": "stream",
     "text": [
      "Test results...\n",
      "Model Test Recall: 0.8517179023508138\n",
      "--------------------------------------------------\n",
      "Model Test Confusion Matrix\n",
      "Classification report : \n",
      "               precision    recall  f1-score   support\n",
      "\n",
      "         0.0       0.99      0.85      0.91     19976\n",
      "         1.0       0.32      0.85      0.47      1659\n",
      "\n",
      "    accuracy                           0.85     21635\n",
      "   macro avg       0.65      0.85      0.69     21635\n",
      "weighted avg       0.93      0.85      0.88     21635\n",
      "\n",
      "ProductCD: 0.3204076362998419\n",
      "TransactionAmt: 0.14343000107184956\n",
      "card4: 0.13104672782140595\n",
      "P_emaildomain: 0.025223769402368465\n",
      "addr2: 0.012033488338027181\n",
      "multi_transaction_per_time: 0.006267940261555033\n",
      "R_emaildomain: 0.0051341140250081435\n",
      "device_info_v4: 0.00510613494903186\n",
      "DeviceType: 0.003658257210281853\n",
      "max_d: 0.002309863815483917\n",
      "max_c: 0.0014520695771733966\n",
      "card6: 0.0010054128432358431\n",
      "addr1: 3.549110105942713e-05\n",
      "browser_enc: 2.5990696714438614e-05\n"
     ]
    },
    {
     "data": {
      "text/plain": [
       "Pipeline(steps=[('preprocessor',\n",
       "                 ColumnTransformer(transformers=[('numerical_preprocessor',\n",
       "                                                  Pipeline(steps=[('imputer',\n",
       "                                                                   IterativeImputer(add_indicator=True,\n",
       "                                                                                    estimator=ExtraTreesRegressor(n_estimators=5,\n",
       "                                                                                                                  random_state=1),\n",
       "                                                                                    random_state=1)),\n",
       "                                                                  ('scaler',\n",
       "                                                                   FunctionTransformer(func=<function log_transform at 0x7feb1b8d4430>))]),\n",
       "                                                  Index(['TransactionAmt', 'max_c', 'max_d',...\n",
       "                                                                  ('label_enc',\n",
       "                                                                   OneHotEncoder(handle_unknown='ignore'))]),\n",
       "                                                  Index(['ProductCD', 'card4', 'card6', 'addr1', 'addr2', 'P_emaildomain',\n",
       "       'R_emaildomain', 'DeviceType', 'browser_enc', 'device_info_v4'],\n",
       "      dtype='object'))])),\n",
       "                ('model',\n",
       "                 GradientBoostingClassifier(max_depth=8, max_features=1.0,\n",
       "                                            min_samples_leaf=3,\n",
       "                                            n_estimators=500,\n",
       "                                            n_iter_no_change=25, random_state=0,\n",
       "                                            warm_start=True))])"
      ]
     },
     "execution_count": 16,
     "metadata": {},
     "output_type": "execute_result"
    },
    {
     "data": {
      "image/png": "[encoded data removed]",
      "text/plain": [
       "<Figure size 432x288 with 2 Axes>"
      ]
     },
     "metadata": {
      "needs_background": "light"
     },
     "output_type": "display_data"
    }
   ],
   "source": [
    "model_evaluation(m.base_estimator, X_val, y_val)"
   ]
  },
  {
   "cell_type": "markdown",
   "id": "c38cf05a-2a26-4abc-bfe1-436317ca1aa9",
   "metadata": {},
   "source": [
    "# 6.0 Model Output"
   ]
  },
  {
   "cell_type": "code",
   "execution_count": 27,
   "id": "0426aa06-c968-4fc9-9533-1edf64743b84",
   "metadata": {},
   "outputs": [],
   "source": [
    "# with open('datalake/trained_model_v1.pkl','wb') as file:\n",
    "#     pickle.dump(m.base_estimator, file)"
   ]
  },
  {
   "cell_type": "code",
   "execution_count": null,
   "id": "c6292b56-2e74-48ca-b564-731f7b895956",
   "metadata": {},
   "outputs": [],
   "source": []
  }
 ],
 "metadata": {
  "kernelspec": {
   "display_name": "Python 3",
   "language": "python",
   "name": "python3"
  },
  "language_info": {
   "codemirror_mode": {
    "name": "ipython",
    "version": 3
   },
   "file_extension": ".py",
   "mimetype": "text/x-python",
   "name": "python",
   "nbconvert_exporter": "python",
   "pygments_lexer": "ipython3",
   "version": "3.7.3"
  },
  "vscode": {
   "interpreter": {
    "hash": "dd2f6d5425a7e7c90e9999f63918220ce4678e2578bc6cddf89f7206809257d1"
   }
  }
 },
 "nbformat": 4,
 "nbformat_minor": 5
}
