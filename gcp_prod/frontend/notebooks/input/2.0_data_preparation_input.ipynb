{
 "cells": [
  {
   "cell_type": "code",
   "execution_count": 1,
   "id": "abd81a36-c4b4-474b-a575-b1a43a0dd77b",
   "metadata": {},
   "outputs": [],
   "source": [
    "import sys\n",
    "sys.path.append('../../../')"
   ]
  },
  {
   "cell_type": "code",
   "execution_count": 2,
   "id": "a93b9dda-08b8-4923-ba37-bc8a56cf6bf6",
   "metadata": {},
   "outputs": [],
   "source": [
    "import pandas as pd\n",
    "import numpy as np\n",
    "import pickle\n",
    "import streamlit as st\n",
    "\n",
    "from sklearn.model_selection import train_test_split\n",
    "from catboost import Pool, CatBoostClassifier\n",
    "from sklearn.metrics import roc_auc_score\n",
    "\n",
    "pd.set_option(\"display.max_rows\",None)\n",
    "pd.set_option(\"display.max_columns\",None)"
   ]
  },
  {
   "cell_type": "code",
   "execution_count": 3,
   "id": "cdfc6f18-8354-4bba-8912-a363cf0f76af",
   "metadata": {},
   "outputs": [],
   "source": [
    "def partitioning(df,train_dim, val_test_dim,target):\n",
    "    \"\"\"\n",
    "    \n",
    "    \"\"\"\n",
    "    val_test_dim_edit = train_dim + val_test_dim\n",
    "    train, val, test = np.split(df.sample(frac=1,random_state=2), [int(train_dim*len(df)), int(val_test_dim_edit*len(df))])\n",
    "    st.write(\"Train shape: \",train.shape)\n",
    "    st.write(\"Train %: \\n\",train[target].value_counts(normalize=True))\n",
    "    st.write(\"Val %: \\n\",val[target].value_counts(normalize=True))\n",
    "    st.write(\"Test %: \\n\",test[target].value_counts(normalize=True))\n",
    "    return train, val, test"
   ]
  },
  {
   "cell_type": "code",
   "execution_count": 4,
   "id": "7a35c904-326c-4768-a991-4039be394f9e",
   "metadata": {},
   "outputs": [],
   "source": [
    "def auc_score(y_trues, y_preds):\n",
    "    \"\"\"\n",
    "    \n",
    "    \"\"\"\n",
    "    for i, y_pred in enumerate(y_preds):\n",
    "        y_true = y_trues[i]\n",
    "        auc = roc_auc_score(y_true, y_pred)\n",
    "    return auc\n",
    "\n",
    "def adversarial_validation(val,test,drop_cols):\n",
    "    \"\"\"\n",
    "    \n",
    "    \"\"\"\n",
    "    aval = val.copy()\n",
    "    atest = test.copy()\n",
    "    # 1 - define target\n",
    "    aval['y'] = 1.0\n",
    "    atest['y'] = 0.0\n",
    "    # 2 - create dataframe\n",
    "    ad = aval.append(atest).sample(frac=1,random_state=2)\n",
    "    # 3 - drop unuseful columns\n",
    "    c_drop = drop_cols\n",
    "    ad = ad.drop(columns=c_drop)\n",
    "    # 4 - define format and imputation\n",
    "    for i in ad:\n",
    "        if ad[i].dtypes != 'object':\n",
    "            ad[i] = ad[i].astype(float)\n",
    "            ad[i] = ad[i].fillna(ad[i].median())\n",
    "        else:\n",
    "            ad[i] = ad[i].fillna('missing')\n",
    "            ad[i] = ad[i].astype(str)\n",
    "    # 5 - model preparation\n",
    "    y = ad['y'].values\n",
    "    X = ad.drop(columns=['y']).values\n",
    "    categorical_features_indices = np.where(ad.dtypes != np.float64)[0]\n",
    "    # 6 - train test split\n",
    "    adv_X_train, adv_X_test, adv_y_train, adv_y_test = train_test_split(X, y , test_size = 0.30 , random_state = 2)\n",
    "    train_data = Pool(data=adv_X_train,label=adv_y_train,cat_features=categorical_features_indices)\n",
    "    test_data = Pool(data=adv_X_test,label=adv_y_test,cat_features=categorical_features_indices)\n",
    "    # 7 - model training\n",
    "    params = {'iterations': 1000,'eval_metric': 'AUC','od_type': 'Iter','od_wait': 50}\n",
    "    model = CatBoostClassifier(**params)\n",
    "    _ = model.fit(train_data, eval_set=test_data, plot=False, verbose=False)\n",
    "    # 8 - model evaluation\n",
    "    auc = auc_score([test_data.get_label()],[model.predict_proba(test_data)[:,1]])\n",
    "    if auc <= 0.6:\n",
    "        return st.write(\"No distribution shift, OK! AUC is: \",auc)\n",
    "    else:\n",
    "        return st.write(\"Check features importance (to be added) and rerun. AUC is: \",auc)"
   ]
  },
  {
   "cell_type": "code",
   "execution_count": 5,
   "id": "33656942-cd57-4bd4-aaa0-22f91d6ad6dc",
   "metadata": {},
   "outputs": [],
   "source": [
    "def class_imbalance(train,target):\n",
    "    \"\"\"\n",
    "    \n",
    "    \"\"\"\n",
    "    df_under = train[train[target]==train[target].value_counts(normalize=False).index[1]]\n",
    "    df_over = train[train[target]==train[target].value_counts(normalize=False).index[0]]\n",
    "    df_over = df_over.sample(frac=df_under.shape[0]/df_over.shape[0],random_state=2)\n",
    "    final_train = df_over.append(df_under).sample(frac=1,random_state=2)\n",
    "    st.write(final_train[target].value_counts(normalize=False))\n",
    "    st.write(\"Train dataset shape: \",final_train.shape)\n",
    "    return final_train"
   ]
  },
  {
   "cell_type": "markdown",
   "id": "6ffc4719-4963-48dd-9c66-f358f1b235c9",
   "metadata": {},
   "source": [
    "# 1.0 Data retrieval"
   ]
  },
  {
   "cell_type": "code",
   "execution_count": 7,
   "id": "fa3d5000-6fe2-4547-9f5a-aa87756b195d",
   "metadata": {},
   "outputs": [],
   "source": [
    "df = pd.read_pickle(\"datalake/df_under.pkl\") "
   ]
  },
  {
   "cell_type": "code",
   "execution_count": 8,
   "id": "b4f0c397-7640-4712-8682-25e719842337",
   "metadata": {},
   "outputs": [
    {
     "data": {
      "text/html": [
       "<div>\n",
       "<style scoped>\n",
       "    .dataframe tbody tr th:only-of-type {\n",
       "        vertical-align: middle;\n",
       "    }\n",
       "\n",
       "    .dataframe tbody tr th {\n",
       "        vertical-align: top;\n",
       "    }\n",
       "\n",
       "    .dataframe thead th {\n",
       "        text-align: right;\n",
       "    }\n",
       "</style>\n",
       "<table border=\"1\" class=\"dataframe\">\n",
       "  <thead>\n",
       "    <tr style=\"text-align: right;\">\n",
       "      <th></th>\n",
       "      <th>TransactionID</th>\n",
       "      <th>isFraud</th>\n",
       "      <th>TransactionAmt</th>\n",
       "      <th>ProductCD</th>\n",
       "      <th>card1</th>\n",
       "      <th>card2</th>\n",
       "      <th>card3</th>\n",
       "      <th>card4</th>\n",
       "      <th>card5</th>\n",
       "      <th>card6</th>\n",
       "      <th>addr1</th>\n",
       "      <th>addr2</th>\n",
       "      <th>dist2</th>\n",
       "      <th>P_emaildomain</th>\n",
       "      <th>R_emaildomain</th>\n",
       "      <th>M4</th>\n",
       "      <th>id_21</th>\n",
       "      <th>id_22</th>\n",
       "      <th>id_23</th>\n",
       "      <th>id_24</th>\n",
       "      <th>id_25</th>\n",
       "      <th>id_26</th>\n",
       "      <th>id_27</th>\n",
       "      <th>id_28</th>\n",
       "      <th>id_29</th>\n",
       "      <th>id_30</th>\n",
       "      <th>id_31</th>\n",
       "      <th>id_32</th>\n",
       "      <th>id_33</th>\n",
       "      <th>id_34</th>\n",
       "      <th>id_35</th>\n",
       "      <th>id_36</th>\n",
       "      <th>id_37</th>\n",
       "      <th>id_38</th>\n",
       "      <th>DeviceType</th>\n",
       "      <th>DeviceInfo</th>\n",
       "      <th>max_c</th>\n",
       "      <th>max_d</th>\n",
       "      <th>customer_id</th>\n",
       "      <th>num_transaction_per_time</th>\n",
       "      <th>multi_transaction_per_time</th>\n",
       "    </tr>\n",
       "  </thead>\n",
       "  <tbody>\n",
       "    <tr>\n",
       "      <th>143180</th>\n",
       "      <td>3571641</td>\n",
       "      <td>0</td>\n",
       "      <td>150.0</td>\n",
       "      <td>R</td>\n",
       "      <td>1607</td>\n",
       "      <td>542.0</td>\n",
       "      <td>150.0</td>\n",
       "      <td>visa</td>\n",
       "      <td>226.0</td>\n",
       "      <td>debit</td>\n",
       "      <td>299.0</td>\n",
       "      <td>87.0</td>\n",
       "      <td>NaN</td>\n",
       "      <td>gmail.com</td>\n",
       "      <td>hotmail.com</td>\n",
       "      <td>NaN</td>\n",
       "      <td>252.0</td>\n",
       "      <td>14.0</td>\n",
       "      <td>IP_PROXY:TRANSPARENT</td>\n",
       "      <td>11.0</td>\n",
       "      <td>321.0</td>\n",
       "      <td>161.0</td>\n",
       "      <td>Found</td>\n",
       "      <td>New</td>\n",
       "      <td>NotFound</td>\n",
       "      <td>iOS 11.3.0</td>\n",
       "      <td>mobile safari 11.0</td>\n",
       "      <td>32.0</td>\n",
       "      <td>2208x1242</td>\n",
       "      <td>match_status:2</td>\n",
       "      <td>T</td>\n",
       "      <td>F</td>\n",
       "      <td>F</td>\n",
       "      <td>F</td>\n",
       "      <td>mobile</td>\n",
       "      <td>iOS Device</td>\n",
       "      <td>1.0</td>\n",
       "      <td>0.00</td>\n",
       "      <td>6557</td>\n",
       "      <td>1</td>\n",
       "      <td>0</td>\n",
       "    </tr>\n",
       "    <tr>\n",
       "      <th>69130</th>\n",
       "      <td>3181798</td>\n",
       "      <td>0</td>\n",
       "      <td>150.0</td>\n",
       "      <td>H</td>\n",
       "      <td>5658</td>\n",
       "      <td>399.0</td>\n",
       "      <td>150.0</td>\n",
       "      <td>american express</td>\n",
       "      <td>150.0</td>\n",
       "      <td>credit</td>\n",
       "      <td>272.0</td>\n",
       "      <td>87.0</td>\n",
       "      <td>458.0</td>\n",
       "      <td>anonymous.com</td>\n",
       "      <td>anonymous.com</td>\n",
       "      <td>NaN</td>\n",
       "      <td>NaN</td>\n",
       "      <td>NaN</td>\n",
       "      <td>NaN</td>\n",
       "      <td>NaN</td>\n",
       "      <td>NaN</td>\n",
       "      <td>NaN</td>\n",
       "      <td>NaN</td>\n",
       "      <td>Found</td>\n",
       "      <td>Found</td>\n",
       "      <td>Windows 7</td>\n",
       "      <td>ie 11.0 for desktop</td>\n",
       "      <td>24.0</td>\n",
       "      <td>NaN</td>\n",
       "      <td>match_status:2</td>\n",
       "      <td>T</td>\n",
       "      <td>F</td>\n",
       "      <td>T</td>\n",
       "      <td>T</td>\n",
       "      <td>desktop</td>\n",
       "      <td>Trident/7.0</td>\n",
       "      <td>4.0</td>\n",
       "      <td>303.75</td>\n",
       "      <td>10460</td>\n",
       "      <td>1</td>\n",
       "      <td>0</td>\n",
       "    </tr>\n",
       "  </tbody>\n",
       "</table>\n",
       "</div>"
      ],
      "text/plain": [
       "       TransactionID isFraud  TransactionAmt ProductCD card1  card2  card3  \\\n",
       "143180       3571641       0           150.0         R  1607  542.0  150.0   \n",
       "69130        3181798       0           150.0         H  5658  399.0  150.0   \n",
       "\n",
       "                   card4  card5   card6  addr1 addr2  dist2  P_emaildomain  \\\n",
       "143180              visa  226.0   debit  299.0  87.0    NaN      gmail.com   \n",
       "69130   american express  150.0  credit  272.0  87.0  458.0  anonymous.com   \n",
       "\n",
       "        R_emaildomain   M4  id_21 id_22                 id_23 id_24  id_25  \\\n",
       "143180    hotmail.com  NaN  252.0  14.0  IP_PROXY:TRANSPARENT  11.0  321.0   \n",
       "69130   anonymous.com  NaN    NaN   NaN                   NaN   NaN    NaN   \n",
       "\n",
       "        id_26  id_27  id_28     id_29       id_30                id_31 id_32  \\\n",
       "143180  161.0  Found    New  NotFound  iOS 11.3.0   mobile safari 11.0  32.0   \n",
       "69130     NaN    NaN  Found     Found   Windows 7  ie 11.0 for desktop  24.0   \n",
       "\n",
       "            id_33           id_34 id_35 id_36 id_37 id_38 DeviceType  \\\n",
       "143180  2208x1242  match_status:2     T     F     F     F     mobile   \n",
       "69130         NaN  match_status:2     T     F     T     T    desktop   \n",
       "\n",
       "         DeviceInfo  max_c   max_d  customer_id  num_transaction_per_time  \\\n",
       "143180   iOS Device    1.0    0.00         6557                         1   \n",
       "69130   Trident/7.0    4.0  303.75        10460                         1   \n",
       "\n",
       "        multi_transaction_per_time  \n",
       "143180                           0  \n",
       "69130                            0  "
      ]
     },
     "execution_count": 8,
     "metadata": {},
     "output_type": "execute_result"
    }
   ],
   "source": [
    "df.sample(2)"
   ]
  },
  {
   "cell_type": "code",
   "execution_count": 9,
   "id": "6fa16087-b9c2-4767-9022-352777177d07",
   "metadata": {},
   "outputs": [
    {
     "data": {
      "text/plain": [
       "(144233, 41)"
      ]
     },
     "execution_count": 9,
     "metadata": {},
     "output_type": "execute_result"
    }
   ],
   "source": [
    "df.shape"
   ]
  },
  {
   "cell_type": "markdown",
   "id": "633ac104-a123-4383-837b-0957b4e073aa",
   "metadata": {},
   "source": [
    "# 2.0 Data Partitioning"
   ]
  },
  {
   "cell_type": "code",
   "execution_count": 10,
   "id": "c5bbd950-24f0-4e7d-98ab-6d8090af2b20",
   "metadata": {},
   "outputs": [
    {
     "data": {
      "text/plain": [
       "0    132915\n",
       "1     11318\n",
       "Name: isFraud, dtype: int64"
      ]
     },
     "execution_count": 10,
     "metadata": {},
     "output_type": "execute_result"
    }
   ],
   "source": [
    "df['isFraud'].value_counts()"
   ]
  },
  {
   "cell_type": "markdown",
   "id": "6b6acfae-8986-48b0-9ad8-7c6c899a8a1f",
   "metadata": {},
   "source": [
    "## 2.1 Train, validation, test split"
   ]
  },
  {
   "cell_type": "code",
   "execution_count": 12,
   "id": "85332228-9b28-455f-930d-d196f3dd7af8",
   "metadata": {},
   "outputs": [],
   "source": [
    "train_dim = 0.7\n",
    "val_test_dim = 0.15"
   ]
  },
  {
   "cell_type": "code",
   "execution_count": 13,
   "id": "31f08548-4c99-4317-a114-e80b05415288",
   "metadata": {},
   "outputs": [
    {
     "name": "stderr",
     "output_type": "stream",
     "text": [
      "2023-02-03 18:20:51.081 \n",
      "  \u001b[33m\u001b[1mWarning:\u001b[0m to view this Streamlit app on a browser, run it with the following\n",
      "  command:\n",
      "\n",
      "    streamlit run /opt/conda/lib/python3.9/site-packages/ipykernel_launcher.py [ARGUMENTS]\n",
      "2023-02-03 18:20:51.098 NumExpr defaulting to 3 threads.\n"
     ]
    }
   ],
   "source": [
    "train, val, test = partitioning(df,train_dim, val_test_dim,'isFraud')"
   ]
  },
  {
   "cell_type": "markdown",
   "id": "e6952e1a-9868-4773-9a0f-5068251b66a5",
   "metadata": {},
   "source": [
    "## 2.2 Adversarial validation between val and test set"
   ]
  },
  {
   "cell_type": "code",
   "execution_count": 14,
   "id": "8502810b-efd0-45bd-a8c4-054a9f4ea408",
   "metadata": {},
   "outputs": [],
   "source": [
    "drop_cols = ['TransactionID','customer_id']"
   ]
  },
  {
   "cell_type": "code",
   "execution_count": 15,
   "id": "d3396c14-89df-4283-9410-cd38fdb5f7b5",
   "metadata": {},
   "outputs": [],
   "source": [
    "adversarial_validation(val,test,drop_cols)"
   ]
  },
  {
   "cell_type": "markdown",
   "id": "4e64c760-4656-44d9-a4c4-172186d6a86e",
   "metadata": {
    "tags": []
   },
   "source": [
    "## 2.3 Class imbalance"
   ]
  },
  {
   "cell_type": "code",
   "execution_count": 16,
   "id": "c54456f1-edec-4b42-a58e-f5c85eb59f9d",
   "metadata": {},
   "outputs": [],
   "source": [
    "final_train = class_imbalance(train,'isFraud')"
   ]
  },
  {
   "cell_type": "markdown",
   "id": "65b3c440-97a8-4a0e-a5e3-2f877eab2ae4",
   "metadata": {},
   "source": [
    "# 3.0 Output"
   ]
  },
  {
   "cell_type": "code",
   "execution_count": 21,
   "id": "d4a50399-247e-47b7-acdc-40f9108cf328",
   "metadata": {},
   "outputs": [],
   "source": [
    "# final_train.to_pickle('datalake/train.pkl')\n",
    "# val.to_pickle('datalake/val.pkl')"
   ]
  }
 ],
 "metadata": {
  "kernelspec": {
   "display_name": "Python 3",
   "language": "python",
   "name": "python3"
  },
  "language_info": {
   "codemirror_mode": {
    "name": "ipython",
    "version": 3
   },
   "file_extension": ".py",
   "mimetype": "text/x-python",
   "name": "python",
   "nbconvert_exporter": "python",
   "pygments_lexer": "ipython3",
   "version": "3.7.3"
  },
  "vscode": {
   "interpreter": {
    "hash": "dd2f6d5425a7e7c90e9999f63918220ce4678e2578bc6cddf89f7206809257d1"
   }
  }
 },
 "nbformat": 4,
 "nbformat_minor": 5
}
